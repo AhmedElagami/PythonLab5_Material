{
  "cells": [
    {
      "cell_type": "markdown",
      "source": [
        "### ## Problem Description 1\n",
        "Create a simple program to manage a *library*'s **book** **inventory**. **Each book** *in the library* has the following information:\n",
        "\n",
        "- **Title**\n",
        "\n",
        "- **Author**\n",
        "\n",
        "- **Year Published**\n",
        "\n",
        "- **Copies Available**\n"
      ],
      "metadata": {
        "id": "yw0spsOwVJm4"
      },
      "id": "yw0spsOwVJm4"
    },
    {
      "cell_type": "markdown",
      "source": [
        "### Data (Your variables)\n",
        "\n",
        "#### What is your data?\n",
        "- **Title**\n",
        "\n",
        "- **Author**\n",
        "\n",
        "- **Year Published**\n",
        "\n",
        "- **Copies Available**\n",
        "\n",
        "## How would you present them?\n",
        "- **Title**\n",
        "\t\tExample: \"To Kill a Mockingbird\"\n",
        "\n",
        "- **Author**\n",
        "\t\tExample: \"Harper Lee\"\n",
        "\n",
        "- **Year Published**\n",
        "\t\tExample: 1949\n",
        "\n",
        "- **Copies Available**\n",
        "\t\tExample: 30"
      ],
      "metadata": {
        "id": "4x8E2-yfVNM7"
      },
      "id": "4x8E2-yfVNM7"
    },
    {
      "cell_type": "markdown",
      "id": "e9339a3d",
      "metadata": {
        "id": "e9339a3d"
      },
      "source": [
        "### Entities & Relationships (Collections)\n",
        "#### **Book(s)**\n",
        "1) **All** of them belong to a **library**\n",
        "\n",
        "2) **Each** book has the following data:\n",
        "\n",
        "- **Title**\n",
        "\t\t\tExample: \"To Kill a Mockingbird\"\n",
        "\n",
        "\t\t\t*This is a text so it should be a **String***\n",
        "\n",
        "- **Author**\n",
        "\t\t\tExample: \"Harper Lee\"\n",
        "\n",
        "\t\t\t*This is a text so it should be a **String***\n",
        "\n",
        "- **Year Published**\n",
        "\t\t\tExample: 1949\n",
        "\n",
        "\t\t\t*This is a number so it should be an **integer***\n",
        "\n",
        "- **Copies Available**\n",
        "\t\t\tExample: 30\n",
        "\n",
        "\t\t\t*This is a number so it should be an **integer***\n",
        "\n",
        "\n",
        "#### A) Library\n",
        "**All books belong to the library.**\n",
        "\n"
      ]
    },
    {
      "cell_type": "markdown",
      "source": [
        "\n",
        "## How would you present your program?\n",
        "#### **Book(s)**\n",
        "> - *Book***s** will be a **list** of books\n",
        "> - **A** *book* will be a **dictionary** that has \"title\", \"author\", \"release_date\", \"copies\" as **keys**\n",
        "\n",
        "1) **All** of them belong to a **library**\n",
        "\n",
        "2) **Each** book has the following data:\n",
        "\n",
        "- **Title**\n",
        "\t\t\tExample: \"To Kill a Mockingbird\"\n",
        "\n",
        "\t\t\t*This is a text so it should be a **String***\n",
        "\n",
        "- **Author**\n",
        "\t\t\tExample: \"Harper Lee\"\n",
        "\n",
        "\t\t\t*This is a text so it should be a **String***\n",
        "\n",
        "- **Year Published**\n",
        "\t\t\tExample: 1949\n",
        "\n",
        "\t\t\t*This is a number so it should be an **integer***\n",
        "\n",
        "- **Copies Available**\n",
        "\t\t\tExample: 30\n",
        "\n",
        "\t\t\t*This is a number so it should be an **integer***\n",
        "\n",
        "\n",
        "#### A) Library\n",
        "**All books belong to the library.**\n",
        "> - The *library* is my **script**\n"
      ],
      "metadata": {
        "id": "F1qhu_tVVVkf"
      },
      "id": "F1qhu_tVVVkf"
    },
    {
      "cell_type": "code",
      "execution_count": 14,
      "id": "864b57ee",
      "metadata": {
        "colab": {
          "base_uri": "https://localhost:8080/"
        },
        "id": "864b57ee",
        "outputId": "6c55ec12-341a-4363-ac9e-8a556bc50af2"
      },
      "outputs": [
        {
          "output_type": "stream",
          "name": "stdout",
          "text": [
            "[{'title': 'To Kill a Mockingbird', 'author_year': ('Harper Lee', 1960), 'copies': 4}, {'title': '1984', 'author_year': ('George Orwell', 1949), 'copies': 6}]\n"
          ]
        }
      ],
      "source": [
        "myBooks = [\n",
        "    {\"title\": \"To Kill a Mockingbird\", \"author_year\": (\"Harper Lee\", 1960), \"copies\": 4},\n",
        "    {\"title\": \"1984\", \"author_year\": (\"George Orwell\", 1949), \"copies\": 6},\n",
        "    # ... other books\n",
        "]\n",
        "\n",
        "print(myBooks)\n"
      ]
    },
    {
      "cell_type": "markdown",
      "id": "6c98d410",
      "metadata": {
        "id": "6c98d410"
      },
      "source": [
        "\n",
        "### problemDescription#2\n",
        "Create a simple program to manage a *library*'s **book** **inventory**.\n",
        " **Each book** *in the library* has the following information:\n",
        "\n",
        "**- Title**\n",
        "\n",
        "**- Author**\n",
        "\n",
        "**- Year Published**\n",
        "\n",
        "**- Copies Available**\n",
        "\n",
        "#### Tasks\n",
        "- The script should print the titles of the first 3 books\n",
        "- The script asks a user for a year  \n",
        "\t- The script prints the total number of books in that year\n",
        "\t- The script prints all the books of that year\n",
        "\n"
      ]
    },
    {
      "cell_type": "code",
      "execution_count": 15,
      "id": "c353d89e",
      "metadata": {
        "colab": {
          "base_uri": "https://localhost:8080/"
        },
        "id": "c353d89e",
        "outputId": "fa2395fd-c08c-4eb6-80fa-247339593283"
      },
      "outputs": [
        {
          "output_type": "stream",
          "name": "stdout",
          "text": [
            "The first three books are [{'title': 'To Kill a Mockingbird', 'author': 'Harper Lee', 'year': 1960, 'copies': 4}, {'title': '1984', 'author': 'George Orwell', 'year': 1949, 'copies': 6}]\n",
            "Please Enter a year to find: 1960\n",
            "The number of books found is: 1\n",
            "The books of the year 1960 are:\n",
            "[{'title': 'To Kill a Mockingbird', 'author': 'Harper Lee', 'year': 1960, 'copies': 4}]\n"
          ]
        }
      ],
      "source": [
        "myBooks = [\n",
        "    {\n",
        "\t    \"title\": \"To Kill a Mockingbird\",\n",
        "\t    \"author\": \"Harper Lee\",\n",
        "\t    \"year\": 1960,\n",
        "\t    \"copies\": 4\n",
        "\t},\n",
        "    {\n",
        "\t    \"title\": \"1984\",\n",
        "\t    \"author\": \"George Orwell\",\n",
        "\t    \"year\": 1949,\n",
        "\t    \"copies\": 6\n",
        "\t},\n",
        "    # ... other books\n",
        "]\n",
        "\n",
        "###### Task #1\n",
        "###### Print the library\n",
        "\n",
        "#! get the first three books\n",
        "firstThreeBooks = myBooks[0:3]\n",
        "\n",
        "#! print the first three books\n",
        "print(f\"The first three books are {firstThreeBooks}\")\n",
        "\n",
        "###### Task #2\n",
        "###### Find a book in the library\n",
        "\n",
        "#! the program asks the user for a year\n",
        "year_to_find = int(input(\"Please Enter a year to find: \"))\n",
        "\n",
        "#! the program filters the books to find the books with that year\n",
        "found_books = []\n",
        "for book in myBooks:\n",
        "\tif(book[\"year\"] == year_to_find):\n",
        "\t\tfound_books.append(book)\n",
        "\n",
        "found_books_cnt = len(found_books)\n",
        "print(f\"The number of books found is: {found_books_cnt}\")\n",
        "print(f\"The books of the year {year_to_find} are:\\n{found_books}\")\n",
        "\n"
      ]
    },
    {
      "cell_type": "markdown",
      "id": "c0f4c8d6",
      "metadata": {
        "id": "c0f4c8d6"
      },
      "source": [
        "\n",
        "\n",
        "### problemDescription#3\n",
        "Create a simple program to manage a *library*'s **book** **inventory**. **Each book** *in the library* has the following information:\n",
        "\t***- Title**\n",
        "\t**- Author**\n",
        "\t**- Year Published**\n",
        "\t**- Copies Available***\n",
        "\n",
        "#### Tasks\n",
        "- The script should print the titles of the first 3 books\n",
        "- The script asks a user for a year  \n",
        "\t- The script prints the total number of books in that year\n",
        "\t- The script prints all the books of that year\n",
        "\n",
        "1) **Convert the code to use functions**\n",
        "\n"
      ]
    },
    {
      "cell_type": "code",
      "execution_count": 16,
      "id": "0b04b8ae",
      "metadata": {
        "colab": {
          "base_uri": "https://localhost:8080/"
        },
        "id": "0b04b8ae",
        "outputId": "fd30da93-7259-4581-a100-2cbc2a4de74f"
      },
      "outputs": [
        {
          "output_type": "stream",
          "name": "stdout",
          "text": [
            "The first three books are [{'title': 'To Kill a Mockingbird', 'author': 'Harper Lee', 'year': 1960, 'copies': 4}, {'title': '1984', 'author': 'George Orwell', 'year': 1949, 'copies': 6}]\n",
            "Please Enter a year to find: 1949\n",
            "The number of books found is: 1\n",
            "The books of the year 1949 are:\n",
            "[{'title': '1984', 'author': 'George Orwell', 'year': 1949, 'copies': 6}]\n"
          ]
        }
      ],
      "source": [
        "myBooks = [\n",
        "    {\n",
        "\t    \"title\": \"To Kill a Mockingbird\",\n",
        "\t    \"author\": \"Harper Lee\",\n",
        "\t    \"year\": 1960,\n",
        "\t    \"copies\": 4\n",
        "\t},\n",
        "    {\n",
        "\t    \"title\": \"1984\",\n",
        "\t    \"author\": \"George Orwell\",\n",
        "\t    \"year\": 1949,\n",
        "\t    \"copies\": 6\n",
        "\t},\n",
        "    # ... other books\n",
        "]\n",
        "\n",
        "def printLibrary(books):\n",
        "\t\"\"\"Print the library\"\"\"\n",
        "\t#! get the first three books\n",
        "\tfirstThreeBooks = books[0:3]\n",
        "\n",
        "\t#! print the first three books\n",
        "\tprint(f\"The first three books are {firstThreeBooks}\")\n",
        "\n",
        "def findBooksByYear(year):\n",
        "\t\"\"\"Find a book in the library\"\"\"\n",
        "\t#! the program filters the books to find the books with that year\n",
        "\tglobal myBooks\n",
        "\tfound_books = []\n",
        "\tfor book in myBooks:\n",
        "\t\tif(book[\"year\"] == year):\n",
        "\t\t\tfound_books.append(book)\n",
        "\treturn found_books\n",
        "\n",
        "def main():\n",
        "\t###### Task #1\n",
        "\tprintLibrary(myBooks)\n",
        "\n",
        "\t###### Task #2\n",
        "\t#! the program asks the user for a year\n",
        "\tyear_to_find = int(input(\"Please Enter a year to find: \"))\n",
        "\n",
        "\tbooks_to_find = []\n",
        "\tbooks_to_find = findBooksByYear(year_to_find)\n",
        "\tfound_books_cnt = len(books_to_find)\n",
        "\tprint(f\"The number of books found is: {found_books_cnt}\")\n",
        "\tprint(f\"The books of the year {year_to_find} are:\\n{books_to_find}\")\n",
        "\n",
        "if __name__ == \"__main__\":\n",
        "\tmain()\n"
      ]
    },
    {
      "cell_type": "markdown",
      "id": "35a3fbec",
      "metadata": {
        "id": "35a3fbec"
      },
      "source": [
        "\n",
        "2) **Make it able to handle errors**\n",
        "\n"
      ]
    },
    {
      "cell_type": "code",
      "execution_count": 17,
      "id": "a3faa7cc",
      "metadata": {
        "colab": {
          "base_uri": "https://localhost:8080/"
        },
        "id": "a3faa7cc",
        "outputId": "d4a99a30-4e82-45e7-e430-de0495926dd0"
      },
      "outputs": [
        {
          "output_type": "stream",
          "name": "stdout",
          "text": [
            "The first three books are [{'title': 'To Kill a Mockingbird', 'author': 'Harper Lee', 'year': 1960, 'copies': 4}, {'title': '1984', 'author': 'George Orwell', 'year': 1949, 'copies': 6}]\n",
            "Please Enter a year to find: 1960\n",
            "The number of books found is: 1\n",
            "The books of the year 1960 are:\n",
            "[{'title': 'To Kill a Mockingbird', 'author': 'Harper Lee', 'year': 1960, 'copies': 4}]\n"
          ]
        }
      ],
      "source": [
        "myBooks = [\n",
        "    {\n",
        "\t    \"title\": \"To Kill a Mockingbird\",\n",
        "\t    \"author\": \"Harper Lee\",\n",
        "\t    \"year\": 1960,\n",
        "\t    \"copies\": 4\n",
        "\t},\n",
        "    {\n",
        "\t    \"title\": \"1984\",\n",
        "\t    \"author\": \"George Orwell\",\n",
        "\t    \"year\": 1949,\n",
        "\t    \"copies\": 6\n",
        "\t},\n",
        "    # ... other books\n",
        "]\n",
        "\n",
        "def printLibrary(books):\n",
        "\t\"\"\"Print the library\"\"\"\n",
        "\tif(len(books) == 0):\n",
        "\t\tprint(\"The library is empty!!\")\n",
        "\n",
        "\t#! get the first three books\n",
        "\tfirstThreeBooks = books[0:3]\n",
        "\n",
        "\t#! print the first three books\n",
        "\tprint(f\"The first three books are {firstThreeBooks}\")\n",
        "\n",
        "def findBooksByYear(year):\n",
        "\t\"\"\"Return books from the library by year\"\"\"\n",
        "\n",
        "\tglobal myBooks\n",
        "\t#! the program filters the books to find the books with that year\n",
        "\tfound_books = []\n",
        "\tfor book in myBooks:\n",
        "\t\tif(book[\"year\"] == year):\n",
        "\t\t\tfound_books.append(book)\n",
        "\n",
        "\treturn found_books\n",
        "\n",
        "def main():\n",
        "\t###### Task #1\n",
        "\tprintLibrary(myBooks)\n",
        "\n",
        "\t###### Task #2\n",
        "\t#! the program asks the user for a year\n",
        "\tyear_to_find = int(input(\"Please Enter a year to find: \"))\n",
        "\n",
        "\tbooks_to_find = []\n",
        "\tbooks_to_find = findBooksByYear(year_to_find)\n",
        "\tfound_books_cnt = len(books_to_find)\n",
        "\tprint(f\"The number of books found is: {found_books_cnt}\")\n",
        "\tprint(f\"The books of the year {year_to_find} are:\\n{books_to_find}\")\n",
        "\n",
        "if __name__ == \"__main__\":\n",
        "\tmain()\n"
      ]
    },
    {
      "cell_type": "markdown",
      "id": "90b05ba9",
      "metadata": {
        "id": "90b05ba9"
      },
      "source": [
        "\n",
        "### problemDescription#4\n",
        "Create a simple program to manage a *library*'s **book** **inventory**.\n",
        " **Each book** *in the library* has the following information:\n",
        "\n",
        "**- Title**\n",
        "\n",
        "**- Author**\n",
        "\n",
        "**- Year Published**\n",
        "\n",
        "**- Copies Available**\n",
        "\n",
        "#### Tasks\n",
        "- The script should print the titles of the first 3 books\n",
        "- The script asks a user for a year  \n",
        "\t- The script prints the total number of books in that year\n",
        "\t- The script prints all the books of that year\n",
        "\n",
        "1) **Convert the code to use functions**\n",
        "\n",
        "2) **Make it able to handle errors**\n",
        "\n",
        "3) **Use classes and objects**\n",
        "\n"
      ]
    },
    {
      "cell_type": "markdown",
      "source": [
        "\n",
        "#### Entities & Relationships (Collections)\n",
        "\n",
        "> The **design** is the **class**\n",
        "> The **instances** are the **objects**\n",
        "##### **(A) Book**\n",
        "\n",
        "**Each** book has the following data:\n",
        "\n",
        "**- Title**\n",
        "\t\t\tExample: \"To Kill a Mockingbird\"\n",
        "\n",
        "\t\t\t*This is a text so it should be a **String***\n",
        "\n",
        "**- Author**\n",
        "\t\t\tExample: \"Harper Lee\"\n",
        "\n",
        "\t\t\t*This is a text so it should be a **String***\n",
        "\n",
        "**- Year Published**\n",
        "\t\t\tExample: 1949\n",
        "\n",
        "\t\t\t*This is a number so it should be an **integer***\n",
        "\n",
        "**- Copies Available**\n",
        "\t\t\tExample: 30\n",
        "\n",
        "\t\t\t*This is a number so it should be an **integer***\n",
        "\n",
        "> There are no functions here because books don't do anything at this point\n",
        "\n",
        "##### **(A) Library**\n",
        "\n",
        "All books belong the library => **A library has a lot of books**\n",
        "\n",
        "Functions:\n",
        "\n",
        "\t- You can print the library -> **printLibrary**\n",
        "\n",
        "\t- You can search in the library -> **findBooksByYear**\n"
      ],
      "metadata": {
        "id": "n68CWtnqV1uR"
      },
      "id": "n68CWtnqV1uR"
    },
    {
      "cell_type": "code",
      "execution_count": 18,
      "id": "53e37233",
      "metadata": {
        "colab": {
          "base_uri": "https://localhost:8080/"
        },
        "id": "53e37233",
        "outputId": "86f3352d-dae1-48d3-9058-38a5ba498e66"
      },
      "outputs": [
        {
          "output_type": "stream",
          "name": "stdout",
          "text": [
            "The first three books are [Title        : To Kill a Mockingbird\n",
            "Author    : Harper Lee\n",
            "Year : 1960\n",
            "Copies : 4\n",
            ", Title        : 1984\n",
            "Author    : George Orwell\n",
            "Year : 1949\n",
            "Copies : 6\n",
            "]\n",
            "Please Enter a year to find: 1949\n",
            "The number of books found is: 1\n",
            "The books of the year 1949 are:\n",
            "[Title        : 1984\n",
            "Author    : George Orwell\n",
            "Year : 1949\n",
            "Copies : 6\n",
            "]\n"
          ]
        }
      ],
      "source": [
        "class Library:\n",
        "\t\"\"\"\n",
        "\t\tA class to represent a library\n",
        "\t\tA library has a list of books\n",
        "\t\"\"\"\n",
        "\tdef __init__(self):\n",
        "\t\t\"\"\"A constructor to initialize an object of a empty library\"\"\"\n",
        "\t\tself.books = []\n",
        "\n",
        "\tdef addBook(self, book):\n",
        "\t\tself.books.append(book)\n",
        "\n",
        "\tdef addBooks(self, newBooks):\n",
        "\t\tself.books.extend(newBooks)\n",
        "\n",
        "\tdef printLibrary(self):\n",
        "\t\t\"\"\"Print the library\"\"\"\n",
        "\t\tif(len(self.books) == 0):\n",
        "\t\t\tprint(\"The library is empty!!\")\n",
        "\n",
        "\t\t#! get the first three books\n",
        "\t\tfirstThreeBooks = self.books[0:3]\n",
        "\n",
        "\t\t#! print the first three books\n",
        "\t\tprint(f\"The first three books are {firstThreeBooks}\")\n",
        "\n",
        "\t\t# if you don't define __repr__ then you can print this way\n",
        "\t\t#for book in firstThreeBooks:\n",
        "\t\t#\t\tprint(book)\n",
        "\n",
        "\tdef findBooksByYear(self, year):\n",
        "\t\t\"\"\"Return books from the library by year\"\"\"\n",
        "\t\tfound_books = []\n",
        "\t\tfor book in self.books:\n",
        "\t\t\tif(book.year == year):\n",
        "\t\t\t\tfound_books.append(book)\n",
        "\t\treturn found_books\n",
        "\n",
        "class Book:\n",
        "\t\"\"\"\n",
        "\t\tA class to represent a book\n",
        "\t\tA book has a title, author, year, copies\n",
        "\t\"\"\"\n",
        "\tdef __init__(self, title, author, year, copies):\n",
        "\t\t\"\"\"A constructor to initialize an object of a book\"\"\"\n",
        "\t\tself.title = title\n",
        "\t\tself.author = author\n",
        "\t\tself.year = year\n",
        "\t\tself.copies = copies\n",
        "\n",
        "\tdef __str__(self):\n",
        "\t\tdetails = ''\n",
        "\t\tdetails += f'Title        : {self.title}\\n'\n",
        "\t\tdetails += f'Author    : {self.author}\\n'\n",
        "\t\tdetails += f'Year : {self.year}\\n'\n",
        "\t\tdetails += f'Copies : {self.copies}\\n'\n",
        "\t\treturn details\n",
        "\n",
        "\tdef __repr__(self):\n",
        "\t\treturn self.__str__()\n",
        "\n",
        "def main():\n",
        "\tlibrary1 = Library()\n",
        "\n",
        "\tmockingbird = Book(\"To Kill a Mockingbird\", \"Harper Lee\", 1960, 4)\n",
        "\tbook1984 = Book(\"1984\", \"George Orwell\", 1949, 6)\n",
        "\n",
        "\tlibrary1.addBook(mockingbird)\n",
        "\tlibrary1.addBook(book1984)\n",
        "\t## library1.addBooks(\n",
        "\t## [mockingbird, book1984]\n",
        "\t## )\n",
        "\n",
        "\t#! print the library\n",
        "\tlibrary1.printLibrary()\n",
        "\n",
        "\t#! the program asks the user for a year\n",
        "\tyear_to_find = int(input(\"Please Enter a year to find: \"))\n",
        "\n",
        "\tbooks_to_find = []\n",
        "\tbooks_to_find = library1.findBooksByYear(year_to_find)\n",
        "\tfound_books_cnt = len(books_to_find)\n",
        "\n",
        "\tprint(f\"The number of books found is: {found_books_cnt}\")\n",
        "\tprint(f\"The books of the year {year_to_find} are:\\n{books_to_find}\")\n",
        "\n",
        "if __name__ == \"__main__\":\n",
        "\tmain()\n"
      ]
    },
    {
      "cell_type": "markdown",
      "id": "584ba451",
      "metadata": {
        "id": "584ba451"
      },
      "source": [
        "\n",
        "### Questions For Next Class\n",
        "#### Can you handle the errors better?\n",
        "#### Can you split the application even more?\n",
        "\n",
        "\n"
      ]
    }
  ],
  "metadata": {
    "colab": {
      "provenance": []
    },
    "language_info": {
      "name": "python"
    },
    "kernelspec": {
      "name": "python3",
      "display_name": "Python 3"
    }
  },
  "nbformat": 4,
  "nbformat_minor": 5
}