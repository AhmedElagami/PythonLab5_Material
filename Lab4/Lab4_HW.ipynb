{
  "cells": [
    {
      "cell_type": "markdown",
      "source": [
        "### problemDescription#1\n",
        "\n",
        "Create a simple program to manage a *music store's* **album** **inventory**. **Each album** *in the store* has the following information:\n",
        "\n",
        "\t**- Title**\n",
        "\n",
        "\t**- Artist**\n",
        "\n",
        "\t**- Year Released**\n",
        "\n",
        "\t**- Copies Available***"
      ],
      "metadata": {
        "id": "n8RpZFru7xES"
      },
      "id": "n8RpZFru7xES"
    },
    {
      "cell_type": "markdown",
      "source": [
        "# Data (Your variables)\n",
        "\n",
        "\n",
        "\n",
        "\n",
        "\n",
        "\n",
        "\n",
        "\n",
        "\n",
        "\n",
        "\n",
        "\n",
        "\n",
        "\n",
        "\n"
      ],
      "metadata": {
        "id": "OzdFwnGe74kX"
      },
      "id": "OzdFwnGe74kX"
    },
    {
      "cell_type": "markdown",
      "source": [
        "## What is your data?"
      ],
      "metadata": {
        "id": "1n67LEmE8FY6"
      },
      "id": "1n67LEmE8FY6"
    },
    {
      "cell_type": "markdown",
      "source": [
        "\n",
        "## How would you present them?\n"
      ],
      "metadata": {
        "id": "PC8Wh1xH7_KR"
      },
      "id": "PC8Wh1xH7_KR"
    },
    {
      "cell_type": "markdown",
      "source": [
        "## Entities & Relationships (Collections)"
      ],
      "metadata": {
        "id": "cyCD4JTf8MQQ"
      },
      "id": "cyCD4JTf8MQQ"
    },
    {
      "cell_type": "markdown",
      "source": [
        "###### **Album(s)**:\n",
        "\n",
        "-\n",
        "\n",
        "-\n",
        "  \n",
        "\n",
        "###### **(A) Music Store**:\n",
        "\n",
        "-\n",
        "\n",
        "-\n"
      ],
      "metadata": {
        "id": "511Pn6bf8MNB"
      },
      "id": "511Pn6bf8MNB"
    },
    {
      "cell_type": "markdown",
      "id": "75416f95",
      "metadata": {
        "id": "75416f95"
      },
      "source": [
        "#### How would you present your program?\n",
        "###### **Album(s)**:\n",
        "\n",
        "-\n",
        "\n",
        "-\n",
        "  \n",
        "\n",
        "###### **(A) Music Store**:\n",
        "\n",
        "-\n",
        "\n",
        "-\n",
        "\n",
        "> - The *music store* is my **script**\n"
      ]
    },
    {
      "cell_type": "code",
      "execution_count": null,
      "id": "60175baf",
      "metadata": {
        "id": "60175baf"
      },
      "outputs": [],
      "source": [
        "albums = ????"
      ]
    },
    {
      "cell_type": "markdown",
      "id": "8c46802e",
      "metadata": {
        "id": "8c46802e"
      },
      "source": [
        "### problemDescription#2\n",
        "\n",
        "Same structure as #1 but with the following tasks:\n",
        "\n",
        "- The script should print the titles of the first 3 albums\n",
        "- The script asks a user for a year  \n",
        "\t- The script prints the total number of albums in that year\n",
        "\t- The script prints all the albums of that year"
      ]
    },
    {
      "cell_type": "code",
      "execution_count": null,
      "id": "17c71d79",
      "metadata": {
        "id": "17c71d79"
      },
      "outputs": [],
      "source": []
    },
    {
      "cell_type": "markdown",
      "id": "28266ab7",
      "metadata": {
        "id": "28266ab7"
      },
      "source": [
        "### problemDescription#3\n",
        "\n",
        "1) **Convert the code to use functions**"
      ]
    },
    {
      "cell_type": "code",
      "execution_count": null,
      "id": "3758d5dc",
      "metadata": {
        "id": "3758d5dc"
      },
      "outputs": [],
      "source": []
    },
    {
      "cell_type": "markdown",
      "id": "b527dd13",
      "metadata": {
        "id": "b527dd13"
      },
      "source": [
        "2) **Make it able to handle errors** with if statements"
      ]
    },
    {
      "cell_type": "code",
      "execution_count": null,
      "id": "08b411fe",
      "metadata": {
        "id": "08b411fe"
      },
      "outputs": [],
      "source": []
    },
    {
      "cell_type": "markdown",
      "id": "968e4f89",
      "metadata": {
        "id": "968e4f89"
      },
      "source": [
        "### problemDescription#4\n",
        "\n",
        "3) **Use classes and objects**\n",
        "\n"
      ]
    },
    {
      "cell_type": "markdown",
      "source": [
        "###### **Album(s)**:\n",
        "\n",
        "-\n",
        "\n",
        "-\n",
        "  \n",
        "\n",
        "###### **(A) Music Store**:\n",
        "\n",
        "-\n",
        "\n",
        "-"
      ],
      "metadata": {
        "id": "C2ifadtk8tfV"
      },
      "id": "C2ifadtk8tfV"
    },
    {
      "cell_type": "code",
      "execution_count": null,
      "id": "6d5b6e17",
      "metadata": {
        "id": "6d5b6e17"
      },
      "outputs": [],
      "source": [
        "python\n",
        "???"
      ]
    },
    {
      "cell_type": "markdown",
      "id": "5bc4d9bd",
      "metadata": {
        "id": "5bc4d9bd"
      },
      "source": [
        "----\n",
        "\n",
        "## Start of Lab4 HW 2"
      ]
    },
    {
      "cell_type": "markdown",
      "id": "4d2a183d",
      "metadata": {
        "id": "4d2a183d"
      },
      "source": [
        "### Exercises on using functions\n",
        "\n",
        "**Python Program to Swap Two Variables**\n",
        "\n",
        "**Example:**"
      ]
    },
    {
      "cell_type": "code",
      "execution_count": null,
      "id": "c3c6dd02",
      "metadata": {
        "id": "c3c6dd02"
      },
      "outputs": [],
      "source": [
        "python\n",
        "def swap_variables(x, y):\n",
        "  \"\"\"Swaps the values of two variables.\n",
        "\n",
        "  Args:\n",
        "    x: The first variable.\n",
        "    y: The second variable.\n",
        "\n",
        "  Returns:\n",
        "    None.\n",
        "  \"\"\"\n",
        "\n",
        "\n",
        "# Usage:\n",
        "\n",
        "x = 6\n",
        "y = 9\n",
        "\n",
        "swap_variables(x, y)\n",
        "\n",
        "print(x)  # 9\n",
        "print(y)  # 6"
      ]
    },
    {
      "cell_type": "markdown",
      "id": "780f15cf",
      "metadata": {
        "id": "780f15cf"
      },
      "source": [
        "**Python Program to Convert Kilometers to Miles**\n",
        "\n",
        "**Example:**"
      ]
    },
    {
      "cell_type": "code",
      "execution_count": null,
      "id": "fe7b211b",
      "metadata": {
        "id": "fe7b211b"
      },
      "outputs": [],
      "source": [
        "python\n",
        "def convert_km_to_miles(kilometers):\n",
        "  \"\"\"Converts kilometers to miles.\n",
        "\n",
        "  Args:\n",
        "    kilometers: The distance in kilometers.\n",
        "\n",
        "  Returns:\n",
        "    The distance in miles.\n",
        "  \"\"\"\n",
        "\n",
        "\n",
        "# Usage:\n",
        "\n",
        "kilometers = 2.5\n",
        "\n",
        "miles = convert_km_to_miles(kilometers)\n",
        "\n",
        "print(miles)  # 1.55"
      ]
    },
    {
      "cell_type": "markdown",
      "source": [
        "The `convert_km_to_miles()` function takes the distance in kilometers as input and converts it to miles. It does this by"
      ],
      "metadata": {
        "id": "-Flasf8U9LF9"
      },
      "id": "-Flasf8U9LF9"
    },
    {
      "cell_type": "markdown",
      "id": "8e0e8f72",
      "metadata": {
        "id": "8e0e8f72"
      },
      "source": [
        "\n",
        "**Python Program to Count the Occurrence of an Item in a List**\n",
        "\n",
        "**Example:**"
      ]
    },
    {
      "cell_type": "code",
      "execution_count": null,
      "id": "e9584955",
      "metadata": {
        "id": "e9584955"
      },
      "outputs": [],
      "source": [
        "python\n",
        "def count_occurrence(l, item):\n",
        "  \"\"\"Counts the number of occurrences of an item in a list.\n",
        "\n",
        "  Args:\n",
        "    l: The list.\n",
        "    item: The item to count.\n",
        "\n",
        "  Returns:\n",
        "    The number of occurrences of the item in the list.\n",
        "  \"\"\"\n",
        "\n",
        "# Usage:\n",
        "\n",
        "l = ['a', 1, 'a', 9, 6, 3, 'a']\n",
        "item = 'a'\n",
        "\n",
        "count =\n",
        "\n",
        "print(count)  # 3"
      ]
    },
    {
      "cell_type": "markdown",
      "source": [
        "### Create a function to check if a list is empty"
      ],
      "metadata": {
        "id": "Is_zutDs9b5w"
      },
      "id": "Is_zutDs9b5w"
    },
    {
      "cell_type": "code",
      "execution_count": null,
      "id": "531c82ea",
      "metadata": {
        "id": "531c82ea"
      },
      "outputs": [],
      "source": [
        "python\n",
        "def is_list_empty(l):\n",
        "  \"\"\"Checks if a list is empty.\n",
        "\n",
        "  Args:\n",
        "    l: The list.\n",
        "\n",
        "  Returns:\n",
        "    True if the list is empty, False otherwise.\n",
        "  \"\"\"\n",
        "\n",
        "# Usage:\n",
        "\n",
        "l = []\n",
        "\n",
        "is_empty = is_list_empty(l)\n",
        "\n",
        "print(is_empty)  # True"
      ]
    },
    {
      "cell_type": "markdown",
      "id": "fb566a1c",
      "metadata": {
        "id": "fb566a1c"
      },
      "source": [
        "**Python Program to Check if a Key is Already Present in a Dictionary**\n",
        "\n",
        "**Example:**"
      ]
    },
    {
      "cell_type": "code",
      "execution_count": null,
      "id": "4c1c28fe",
      "metadata": {
        "id": "4c1c28fe"
      },
      "outputs": [],
      "source": [
        "python\n",
        "def is_key_present(myDic, key):\n",
        "  \"\"\"Checks if a key is already present in a dictionary.\n",
        "\n",
        "  Args:\n",
        "    myDic: The dictionary.\n",
        "    key: The key to check.\n",
        "\n",
        "  Returns:\n",
        "    True if the key is already present in the dictionary, False otherwise.\n",
        "  \"\"\"\n",
        "\n",
        "\n",
        "# Usage:\n",
        "\n",
        "myDic = {1: 'a', 2: 'b', 3: 'c'}\n",
        "key = 2\n",
        "\n",
        "is_present = ??\n",
        "\n",
        "print(is_present)  # True"
      ]
    }
  ],
  "metadata": {
    "colab": {
      "provenance": []
    }
  },
  "nbformat": 4,
  "nbformat_minor": 5
}