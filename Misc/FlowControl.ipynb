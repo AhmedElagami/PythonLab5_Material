{
 "cells": [
  {
   "cell_type": "markdown",
   "metadata": {
    "id": "LKF0rXoN1TcM"
   },
   "source": [
    "# Python Flow-Control (Decision-Making) Statements\n",
    "\n",
    "In Python programming, decision-making statements are those that **help in deciding the flow of the program**.\n",
    "\n",
    "For example, at times, you might want to execute a block of code only if a particular condition is satisfied. Well, in this case, decision-making statement will be of great help. Let us consider an example to understand this better.\n",
    "\n",
    "Decision making is required when we want to execute a code only if a certain condition is satisfied.\n",
    "\n",
    "The key thing to note about Python's control flow statements and program structure is that it uses **`_indentation_`** to mark blocks. Hence the amount of white space (space or tab characters) at the start of a line is very important. This generally helps to make code more readable but can catch out new users of python."
   ]
  },
  {
   "cell_type": "markdown",
   "metadata": {
    "id": "LFxXdrFy1TcN"
   },
   "source": [
    "* Suppose you are given a number and are asked to check if it is an even number or not. How would you do it?\n",
    "\n",
    "> The first thought that would pop up your mind is this - **\"If the number is divisible by 2, then it is an even number, else it is an odd number\"**. That's absolutely the right logic. But when this has to be coded, you will need the help of decision-making statements. To understand this, let's now look at how they function."
   ]
  },
  {
   "cell_type": "markdown",
   "metadata": {
    "id": "eW07PqCF1TcN"
   },
   "source": [
    "## Control Flow Statements\n",
    "\n",
    "The flow control statements are divided into **three** categories:\n",
    "\n",
    "1. **Conditional statements**\n",
    "2. **Iterative statements**\n",
    "3. **Transfer/Control statements**\n",
    "\n",
    "<div>\n",
    "<img src=\"../img/fcs.png\" width=\"500\"/>\n",
    "</div>"
   ]
  },
  {
   "cell_type": "code",
   "execution_count": null,
   "metadata": {
    "id": "oTlk4sRP1TcX"
   },
   "outputs": [],
   "source": []
  },
  {
   "cell_type": "markdown",
   "metadata": {
    "id": "TQ1fpCfp1UXn"
   },
   "source": [
    "# Python `if` statement\n",
    "\n",
    "In control statements, The **`if`** statement is the simplest form. It takes a condition and evaluates to either **`True`** or **`False`**.\n",
    "\n",
    "If the condition is **`True`**, then the **`True`** block of code will be executed, and if the condition is **`False`**, then the block of code is skipped, and The controller moves to the next line."
   ]
  },
  {
   "cell_type": "markdown",
   "metadata": {
    "id": "WSFPDfON1UXn"
   },
   "source": [
    "### Syntax:\n",
    "\n",
    "```python\n",
    "if(condition):\n",
    "    statement 1\n",
    "    statement 2\n",
    "    statement n\n",
    "```\n",
    "\n",
    "* An **`if`** statement should be preceded by the keyword **`if`** and ended with a colon **`:`**. The condition of an if statement can be written with or without round brackets **`()`**.\n",
    "\n",
    "* In Python, the body of the **`if`** statement is indicated by the indentation. The body starts with an indentation and the first unindented line marks the end.\n",
    "\n",
    "* Python interprets non-zero values as **`True`**. **`None`** and **`0`** are interpreted as **`False`**.\n",
    "\n",
    "<div>\n",
    "<img src=\"../img/if2.png\" width=\"250\"/>\n",
    "</div>"
   ]
  },
  {
   "cell_type": "markdown",
   "metadata": {
    "id": "YfRSxTid1UXo"
   },
   "source": [
    "**Example: of `if` statement:**\n",
    "\n",
    "```python\n",
    ">>> grade = 70\n",
    ">>> if grade >= 65:\n",
    ">>>     print(\"Passing grade\")\n",
    "\n",
    "Passing grade\n",
    "```\n",
    "\n",
    "With this code, we have the variable grade and are giving it the integer value of 70. We are then using the **`if`** statement to evaluate whether or not the variable grade is **greater than or equal `>=`** to 65. If it does meet this **condition**, we are telling the program to print out the string Passing grade.\n",
    "\n",
    "Again, if we change the grade to 50 or < 65 number, we will receive no output."
   ]
  },
  {
   "cell_type": "code",
   "execution_count": null,
   "metadata": {
    "ExecuteTime": {
     "end_time": "2021-06-10T20:03:33.690723Z",
     "start_time": "2021-06-10T20:03:33.674172Z"
    },
    "id": "wHSb2fT01UXp",
    "outputId": "d524d2a3-03d3-4f79-d0d6-5e3015a2f7cb"
   },
   "outputs": [
    {
     "name": "stdout",
     "output_type": "stream",
     "text": [
      "Passing grade\n"
     ]
    }
   ],
   "source": [
    "# Example 1:\n",
    "grade = 70\n",
    "if grade >= 65:\n",
    "    print(\"Passing grade\")"
   ]
  },
  {
   "cell_type": "code",
   "execution_count": null,
   "metadata": {
    "ExecuteTime": {
     "end_time": "2021-06-10T20:03:34.440566Z",
     "start_time": "2021-06-10T20:03:34.422066Z"
    },
    "id": "N9FMVwRW1UXp",
    "outputId": "e332f8bd-440c-4b82-9f20-46f4460d0ec3"
   },
   "outputs": [
    {
     "name": "stdout",
     "output_type": "stream",
     "text": [
      "3 is a positive number.\n",
      "This is always printed.\n",
      "This is also always printed.\n"
     ]
    }
   ],
   "source": [
    "# Example 2: If the number is positive, we print an appropriate message\n",
    "\n",
    "num = 3\n",
    "if (num > 0):  # if condition is TRUE: enter the body of if\n",
    "    print(num, \"is a positive number.\")\n",
    "print(\"This is always printed.\")\n",
    "\n",
    "num = -1\n",
    "if num > 0:  # if condition is FALSE: do not enter the body of if\n",
    "    print(num, \"is a negative number.\")\n",
    "print(\"This is also always printed.\")"
   ]
  },
  {
   "cell_type": "code",
   "execution_count": null,
   "metadata": {
    "ExecuteTime": {
     "end_time": "2021-06-10T20:03:35.580430Z",
     "start_time": "2021-06-10T20:03:35.571663Z"
    },
    "id": "zJKZavM91UXq",
    "outputId": "6a0b15ba-63a3-412a-f7d3-7726b16498bf"
   },
   "outputs": [
    {
     "name": "stdout",
     "output_type": "stream",
     "text": [
      "81\n",
      "Next lines of code\n"
     ]
    }
   ],
   "source": [
    "# Example 3: Calculate the square of a number if it greater than 6\n",
    "\n",
    "number = 9\n",
    "if number > 6:\n",
    "    # Calculate square\n",
    "    print(number * number)\n",
    "print('Next lines of code')"
   ]
  },
  {
   "cell_type": "code",
   "execution_count": null,
   "metadata": {
    "ExecuteTime": {
     "end_time": "2021-06-10T20:03:36.158393Z",
     "start_time": "2021-06-10T20:03:36.145731Z"
    },
    "id": "WIS5fpVq1UXr",
    "outputId": "80bc3b3a-25db-4cad-c4cb-461caee78f00"
   },
   "outputs": [
    {
     "name": "stdout",
     "output_type": "stream",
     "text": [
      "num1 is less than num2\n"
     ]
    }
   ],
   "source": [
    "# Example 4: Check if num1 is less than num2\n",
    "\n",
    "num1, num2 = 6, 9\n",
    "if(num1 < num2):\n",
    "    print(\"num1 is less than num2\")"
   ]
  },
  {
   "cell_type": "code",
   "execution_count": null,
   "metadata": {
    "ExecuteTime": {
     "end_time": "2021-06-10T20:03:36.548892Z",
     "start_time": "2021-06-10T20:03:36.529417Z"
    },
    "id": "KbdhnKqw1UXr",
    "outputId": "c04e351d-a822-42be-b87c-2f1551b7457f"
   },
   "outputs": [
    {
     "name": "stdout",
     "output_type": "stream",
     "text": [
      "Hello\n"
     ]
    }
   ],
   "source": [
    "x = 12\n",
    "if x > 10:\n",
    "    print(\"Hello\")"
   ]
  },
  {
   "cell_type": "code",
   "execution_count": null,
   "metadata": {
    "ExecuteTime": {
     "end_time": "2021-06-10T20:03:37.032393Z",
     "start_time": "2021-06-10T20:03:37.017791Z"
    },
    "id": "F7yuob681UXr",
    "outputId": "3857118c-9c6f-46af-97c0-d1f39cb7ddb9"
   },
   "outputs": [
    {
     "name": "stdout",
     "output_type": "stream",
     "text": [
      "Hooray!\n"
     ]
    }
   ],
   "source": [
    "if 5 != 3 * 6:\n",
    "    print (\"Hooray!\")"
   ]
  },
  {
   "cell_type": "code",
   "execution_count": null,
   "metadata": {
    "ExecuteTime": {
     "end_time": "2021-06-10T20:03:38.014494Z",
     "start_time": "2021-06-10T20:03:37.995993Z"
    },
    "id": "VEY5rhMO1UXr",
    "outputId": "2ddd27ca-77ec-4360-87b1-4edc32c0a00f"
   },
   "outputs": [
    {
     "name": "stdout",
     "output_type": "stream",
     "text": [
      "Horray!\n"
     ]
    }
   ],
   "source": [
    "if 5 == 15/3:\n",
    "    print (\"Horray!\")"
   ]
  },
  {
   "cell_type": "markdown",
   "metadata": {
    "id": "zuiLwDNu1UXs"
   },
   "source": [
    "### Shortcut for `if` statement (Short-hand `if` or one-line `if`)\n",
    "\n",
    "If you have only one statement to execute, then you can put it on the same line as the `if` statement. Let's try doing this for the above example."
   ]
  },
  {
   "cell_type": "code",
   "execution_count": null,
   "metadata": {
    "ExecuteTime": {
     "end_time": "2021-06-10T20:03:38.795011Z",
     "start_time": "2021-06-10T20:03:38.778459Z"
    },
    "id": "tCyXYa_z1UXs",
    "outputId": "ed265c44-c693-4b0e-a314-8ffeadd30dab"
   },
   "outputs": [
    {
     "name": "stdout",
     "output_type": "stream",
     "text": [
      "num1 is less than num2\n"
     ]
    }
   ],
   "source": [
    "num1, num2 = 5, 6\n",
    "if(num1 < num2): print(\"num1 is less than num2\")"
   ]
  },
  {
   "cell_type": "markdown",
   "metadata": {
    "id": "QC_yUDJD1UXs"
   },
   "source": [
    "### The Difference....\n",
    "\n",
    "Now, try to execute the below-given code and observe the difference."
   ]
  },
  {
   "cell_type": "code",
   "execution_count": null,
   "metadata": {
    "ExecuteTime": {
     "end_time": "2021-06-10T20:03:44.293701Z",
     "start_time": "2021-06-10T20:03:44.275199Z"
    },
    "id": "b1VcsUbz1UXt"
   },
   "outputs": [],
   "source": [
    "#program to check if num1 is less than num 2\n",
    "num1, num2 = 6, 5\n",
    "if (num1 < num2):\n",
    "    print(\"num1 is less than num2\")"
   ]
  },
  {
   "cell_type": "markdown",
   "metadata": {
    "id": "IbktTE-c1UXt"
   },
   "source": [
    "**Explanation:**\n",
    "\n",
    "**Did your Python IDE print anything?** No, it will not.\n",
    "\n",
    "In the above-given code, the value 6 is greater than 5, this means the condition is False. We have instructed the interpreter to print only when the condition is True and hence it in this case, nothing gets printed. However, **you can also instruct the interpreter what to do when the condition is False and this can be done using else statement**."
   ]
  },
  {
   "cell_type": "code",
   "execution_count": null,
   "metadata": {
    "ExecuteTime": {
     "end_time": "2021-06-10T20:03:48.495255Z",
     "start_time": "2021-06-10T20:03:48.478701Z"
    },
    "id": "OCg6GZUi1UXt"
   },
   "outputs": [],
   "source": [
    "if 5 == 18/3:\n",
    "    print (\"Hooray!\")"
   ]
  },
  {
   "cell_type": "code",
   "execution_count": null,
   "metadata": {
    "id": "Eiy7yt8M1UXu"
   },
   "outputs": [],
   "source": []
  },
  {
   "cell_type": "code",
   "execution_count": null,
   "metadata": {
    "ExecuteTime": {
     "end_time": "2021-10-04T07:16:58.412652Z",
     "start_time": "2021-10-04T07:16:58.381404Z"
    },
    "id": "aiHCh66s1Vh_",
    "outputId": "7f9496f5-1036-49b4-e6b9-4ec816158665",
    "scrolled": true
   },
   "outputs": [
    {
     "name": "stdout",
     "output_type": "stream",
     "text": [
      "Case 2\n"
     ]
    }
   ],
   "source": [
    "x = 1\n",
    "\n",
    "if x > 3:\n",
    "    print (\"Case 1\")\n",
    "if x <= 3:\n",
    "    print (\"Case 2\")"
   ]
  },
  {
   "cell_type": "markdown",
   "metadata": {
    "id": "GCVOhfuM1ViA"
   },
   "source": [
    "The **`if-else`** statement checks the condition and executes the **`if`** block of code when the condition is **`True`**, and **`if`** the condition is **`False`**, it will execute the **`else`** block of code."
   ]
  },
  {
   "cell_type": "markdown",
   "metadata": {
    "id": "mXRCWU1a1ViB"
   },
   "source": [
    "### Syntax :\n",
    "\n",
    "```python\n",
    "if condition:\n",
    "    statement 1\n",
    "else:\n",
    "    statement 2\n",
    "```\n",
    "\n",
    "1. The **`if..else`** statement evaluates **`condition`** and will execute the body of **`if`** only when the test condition is **`True`**.\n",
    "\n",
    "2. If the condition is **`False`**, the body of **`else`** is executed. Indentation is used to separate the blocks.\n",
    "\n",
    "<div>\n",
    "<img src=\"../img/ife0.png\" width=\"300\"/>\n",
    "</div>\n",
    "\n",
    "To do this, we will add an else statement to the grade condition above that is constructed like this:\n",
    "\n",
    "```python\n",
    ">>> grade = 60   \n",
    ">>> if grade >= 65:\n",
    ">>>     print(\"Passing grade\")\n",
    ">>> else:\n",
    ">>>     print(\"Failing grade\")\n",
    "\n",
    "Failing grade\n",
    "```\n",
    "\n",
    "Since the grade variable above has the value of 60, the if statement evaluates as false, so the program will not print out Passing grade. The else statement that follows tells the program to do **something anyway**.\n",
    "\n",
    "If we then rewrite the program to give the grade a value of 65 or higher, we will instead receive the output Passing grade."
   ]
  },
  {
   "cell_type": "code",
   "execution_count": null,
   "metadata": {
    "ExecuteTime": {
     "end_time": "2021-10-04T07:16:58.535698Z",
     "start_time": "2021-10-04T07:16:58.415580Z"
    },
    "id": "Lmnizj8I1ViC",
    "outputId": "10656cb9-645c-463c-dce1-572aff3d84bf"
   },
   "outputs": [
    {
     "name": "stdout",
     "output_type": "stream",
     "text": [
      "Failing grade\n"
     ]
    }
   ],
   "source": [
    "# Example 1:\n",
    "\n",
    "grade = 60\n",
    "\n",
    "if grade >= 65:\n",
    "    print(\"Passing grade\")\n",
    "else:\n",
    "    print(\"Failing grade\")"
   ]
  },
  {
   "cell_type": "code",
   "execution_count": null,
   "metadata": {
    "ExecuteTime": {
     "end_time": "2021-10-04T07:16:58.644099Z",
     "start_time": "2021-10-04T07:16:58.540581Z"
    },
    "id": "UIDXniAl1ViD",
    "outputId": "c4065287-8636-44fb-8147-c13cd565ef7d"
   },
   "outputs": [
    {
     "name": "stdout",
     "output_type": "stream",
     "text": [
      "Positive or Zero\n"
     ]
    }
   ],
   "source": [
    "# Example 2: Program checks if the number is positive or negative and displays an appropriate message\n",
    "\n",
    "num = 3\n",
    "\n",
    "# Try these two variations as well.\n",
    "# num = -5\n",
    "# num = 0\n",
    "\n",
    "if num >= 0:\n",
    "    print(\"Positive or Zero\")\n",
    "else:\n",
    "    print(\"Negative number\")"
   ]
  },
  {
   "cell_type": "markdown",
   "metadata": {
    "id": "lpH1OkCV1ViD"
   },
   "source": [
    "**Explanation**\n",
    "\n",
    "In the above example, when **`num`** is equal to 3, the test expression is true and the body of **`if`** is executed and the **`body`** of else is skipped.\n",
    "\n",
    "If **`num`** is equal to -5, the test expression is false and the body of **`else`** is executed and the body of **`if`** is skipped.\n",
    "\n",
    "If **`num`** is equal to 0, the test expression is true and body of **`if`** is executed and **`body`** of else is skipped."
   ]
  },
  {
   "cell_type": "code",
   "execution_count": null,
   "metadata": {
    "ExecuteTime": {
     "end_time": "2021-10-04T07:16:58.659725Z",
     "start_time": "2021-10-04T07:16:58.648003Z"
    },
    "id": "U-PI_N4P1ViE",
    "outputId": "0ccf9dbd-1527-48c9-f766-6cea62b0cc1b"
   },
   "outputs": [
    {
     "name": "stdout",
     "output_type": "stream",
     "text": [
      "num2 is less than num1\n"
     ]
    }
   ],
   "source": [
    "# Example 3: program to check if a num1 is less than num2\n",
    "\n",
    "num1, num2 = 6, 5\n",
    "if (num1 < num2):\n",
    "    print(\"num1 is less than num2\")\n",
    "else:\n",
    "    print(\"num2 is less than num1\")"
   ]
  },
  {
   "cell_type": "code",
   "execution_count": null,
   "metadata": {
    "ExecuteTime": {
     "end_time": "2021-10-04T07:16:58.798390Z",
     "start_time": "2021-10-04T07:16:58.662651Z"
    },
    "id": "9S7e_Rcn1ViE",
    "outputId": "ec845896-ae28-4e86-ce7a-381179823f96"
   },
   "outputs": [
    {
     "name": "stdout",
     "output_type": "stream",
     "text": [
      "Correct password\n",
      "Incorrect Password\n"
     ]
    }
   ],
   "source": [
    "# Example 4:\n",
    "\n",
    "def password_check(password):\n",
    "    if password == \"Python@99>\":\n",
    "        print(\"Correct password\")\n",
    "    else:\n",
    "        print(\"Incorrect Password\")\n",
    "\n",
    "password_check(\"Python@99>\")\n",
    "# Output Correct password\n",
    "\n",
    "password_check(\"Python99\")\n",
    "# Output Incorrect Password"
   ]
  },
  {
   "cell_type": "markdown",
   "metadata": {
    "id": "v6H_Y5Pl1ViF"
   },
   "source": [
    "### Shortcut of `if else` (Short Hand if ... else or One line `if else`)\n",
    "\n",
    "If you have **only one statement each for if and else, then they can be put in the same line**. This can be done as shown below"
   ]
  },
  {
   "cell_type": "code",
   "execution_count": null,
   "metadata": {
    "ExecuteTime": {
     "end_time": "2021-10-04T07:16:58.920462Z",
     "start_time": "2021-10-04T07:16:58.806208Z"
    },
    "id": "_fvoCHQd1ViF",
    "outputId": "6a85a3c8-b44a-43a0-8cee-b30ace5a4165"
   },
   "outputs": [
    {
     "name": "stdout",
     "output_type": "stream",
     "text": [
      "Feed the bear now!\n"
     ]
    }
   ],
   "source": [
    "hungry = True\n",
    "x = 'Feed the bear now!' if hungry else 'Do not feed the bear.'\n",
    "print(x)"
   ]
  },
  {
   "cell_type": "code",
   "execution_count": null,
   "metadata": {
    "ExecuteTime": {
     "end_time": "2021-10-04T07:16:59.059135Z",
     "start_time": "2021-10-04T07:16:58.931207Z"
    },
    "id": "4WZn-6LZ1ViG",
    "outputId": "1213bd99-6807-4dfb-88bb-c11cdac2156b"
   },
   "outputs": [
    {
     "name": "stdout",
     "output_type": "stream",
     "text": [
      "A is positive\n"
     ]
    }
   ],
   "source": [
    "a = 3\n",
    "print('A is positive') if a > 0 else print('A is negative') # first condition met, 'A is positive' will be printed"
   ]
  },
  {
   "cell_type": "code",
   "execution_count": null,
   "metadata": {
    "ExecuteTime": {
     "end_time": "2021-10-04T07:16:59.183158Z",
     "start_time": "2021-10-04T07:16:59.070854Z"
    },
    "id": "ckAotRiT1ViG",
    "outputId": "76c635be-d7dd-4525-aa25-38b6c8b9b67b"
   },
   "outputs": [
    {
     "name": "stdout",
     "output_type": "stream",
     "text": [
      "num2 is less than num1\n"
     ]
    }
   ],
   "source": [
    "num1, num2 = 6, 5\n",
    "print(\"num1 is less than num2\") if (num1 < num2) else print(\"num2 is less than num1\")"
   ]
  },
  {
   "cell_type": "code",
   "execution_count": null,
   "metadata": {
    "ExecuteTime": {
     "end_time": "2021-10-04T07:16:59.325248Z",
     "start_time": "2021-10-04T07:16:59.189017Z"
    },
    "id": "TjIewn_u1ViH",
    "outputId": "7e7e1a48-9bd9-4397-c052-d7db461bdfa1"
   },
   "outputs": [
    {
     "name": "stdout",
     "output_type": "stream",
     "text": [
      "positive\n"
     ]
    }
   ],
   "source": [
    "number = 96\n",
    "if number > 0: print(\"positive\")\n",
    "else: print(\"negative\")"
   ]
  },
  {
   "cell_type": "code",
   "execution_count": null,
   "metadata": {
    "ExecuteTime": {
     "end_time": "2021-10-04T07:16:59.429251Z",
     "start_time": "2021-10-04T07:16:59.328177Z"
    },
    "id": "nIsWAt3X1ViI",
    "outputId": "c67b055b-82f3-4a03-9ebb-07fd6566ec05"
   },
   "outputs": [
    {
     "name": "stdout",
     "output_type": "stream",
     "text": [
      "world\n"
     ]
    }
   ],
   "source": [
    "x = 12\n",
    "if 10 < x < 11:\n",
    "    print(\"hello\")\n",
    "else:\n",
    "    print(\"world\")"
   ]
  },
  {
   "cell_type": "code",
   "execution_count": null,
   "metadata": {
    "ExecuteTime": {
     "end_time": "2021-10-04T07:16:59.538139Z",
     "start_time": "2021-10-04T07:16:59.437065Z"
    },
    "id": "gz0Iw80Z1ViI",
    "outputId": "95de03f5-3da7-4362-c229-82952b810ac5"
   },
   "outputs": [
    {
     "name": "stdout",
     "output_type": "stream",
     "text": [
      "Case 2\n"
     ]
    }
   ],
   "source": [
    "'''\n",
    "x = 1\n",
    "\n",
    "if x > 3:\n",
    "    print (\"Case 1\")\n",
    "if x <= 3:\n",
    "    print (\"Case 2\")\n",
    "'''\n",
    "\n",
    "x = 1\n",
    "\n",
    "if x > 3:\n",
    "    print (\"Case 1\")\n",
    "else:\n",
    "    print (\"Case 2\")"
   ]
  },
  {
   "cell_type": "code",
   "execution_count": null,
   "metadata": {
    "ExecuteTime": {
     "end_time": "2021-10-04T07:16:59.660693Z",
     "start_time": "2021-10-04T07:16:59.542045Z"
    },
    "id": "UW3E3dDm1ViJ",
    "outputId": "ddfb80a8-4909-4e5f-a81b-4393c5f7c936"
   },
   "outputs": [
    {
     "name": "stdout",
     "output_type": "stream",
     "text": [
      "Incorrect\n"
     ]
    }
   ],
   "source": [
    "x = 2\n",
    "\n",
    "if x > 4:\n",
    "    print (\"Correct\")\n",
    "else:\n",
    "    print(\"Incorrect\")"
   ]
  },
  {
   "cell_type": "markdown",
   "metadata": {
    "id": "c4jEQIAk1ViJ"
   },
   "source": [
    "### The difference....\n",
    "\n",
    "Now, let us try to execute the same above discussed code with different input values."
   ]
  },
  {
   "cell_type": "code",
   "execution_count": null,
   "metadata": {
    "ExecuteTime": {
     "end_time": "2021-10-04T07:16:59.814505Z",
     "start_time": "2021-10-04T07:16:59.664116Z"
    },
    "id": "o1R79PBy1ViK",
    "outputId": "7b035a48-8514-4469-cd03-acacee0bc532"
   },
   "outputs": [
    {
     "name": "stdout",
     "output_type": "stream",
     "text": [
      "num2 is less than num1\n"
     ]
    },
    {
     "data": {
      "text/plain": [
       "'\\nOutput: num2 is lesser than num1\\n'"
      ]
     },
     "execution_count": 13,
     "metadata": {},
     "output_type": "execute_result"
    }
   ],
   "source": [
    "#program to check if num1 is less than num2\n",
    "\n",
    "num1, num2 = 5, 5\n",
    "if (num1 < num2):\n",
    "    print(\"num1 is less than num2\")\n",
    "else:\n",
    "    print(\"num2 is less than num1\")\n",
    "\n",
    "'''\n",
    "Output: num2 is lesser than num1\n",
    "'''"
   ]
  },
  {
   "cell_type": "markdown",
   "metadata": {
    "id": "4npTrFPI1ViK"
   },
   "source": [
    "**Explanation:**\n",
    "\n",
    "* **Why was the output wrong?**\n",
    "\n",
    "Since both the input values are equal, the condition **`num1<num2`** is **`False`**. So immediately the control shifts to else block and the print statement inside it gets executed. However, this is not logically correct as both the input values are equal (5 = 5).\n",
    "\n",
    "\n",
    "*  **How to rectify this?**\n",
    "\n",
    "Your program should logically include every possible test case and only then your program will produce accurate results. So this mean **you need to add another conditional statement to check if num1 is equal to num 2**. Let us now see how this can be done."
   ]
  },
  {
   "cell_type": "markdown",
   "metadata": {
    "id": "nfDO3N441ViK"
   },
   "source": [
    "## 💻 Exercises  ➞ <span class='label label-default'>List</span>\n",
    "\n",
    "1.  Get user input using **`input(“Enter your age: ”)`**. If user is 18 or older, give feedback: **`You are old enough to drive`**. If below 18 give feedback to **`wait for the missing amount of years`**.\n",
    "\n",
    "Output:\n",
    "\n",
    "```py\n",
    "    Enter your age: 30\n",
    "    You are old enough to learn to drive.\n",
    "    Output:\n",
    "    Enter your age: 15\n",
    "    You need 3 more years to learn to drive.\n",
    "```\n",
    "\n",
    "2.  Compare the values of my_age and your_age using **`if-else`**. Who is older (me or you)? Use **`input(“Enter your age: ”)`** to get the age as input. You can use a nested condition to print **`'year'`** for 1 year difference in age, **`'years'`** for bigger differences, and a custom text if **`my_age = your_age`**.\n",
    "\n",
    "Output:\n",
    "\n",
    "```py\n",
    "    Enter your age: 30\n",
    "    You are 5 years older than me.\n",
    "```"
   ]
  },
  {
   "cell_type": "code",
   "execution_count": null,
   "metadata": {
    "id": "h6rYT9LZ1ViT"
   },
   "outputs": [],
   "source": []
  },
  {
   "cell_type": "markdown",
   "metadata": {
    "id": "SUvtfRqy1XwD"
   },
   "source": [
    "### Syntax:\n",
    "\n",
    "```python\n",
    "if condition-1:  \n",
    "     statement 1\n",
    "elif condition-2:\n",
    "     stetement 2\n",
    "elif condition-3:\n",
    "     stetement 3\n",
    "     ...         \n",
    "else:            \n",
    "     statement  \n",
    "```\n",
    "\n",
    "1. The **`elif`** is short for else if. It allows us to check for multiple expressions.\n",
    "\n",
    "2. If the condition for **`if`** is **`False`**, it checks the condition of the next **`elif`** block and so on.\n",
    "\n",
    "3. If all the conditions are **`False`**, the body of **`else`** is executed.\n",
    "\n",
    "4. Only one block among the several **`if-elif-else`** blocks is executed according to the condition.\n",
    "\n",
    "5. The **`if`** block can have only one **`else`** block. But it can have multiple **`elif`** blocks.\n",
    "\n",
    "<div>\n",
    "<img src=\"../img/eif0.png\" width=\"500\"/>\n",
    "</div>"
   ]
  },
  {
   "cell_type": "code",
   "execution_count": null,
   "metadata": {
    "ExecuteTime": {
     "end_time": "2021-10-04T08:50:54.861499Z",
     "start_time": "2021-10-04T08:50:54.848803Z"
    },
    "id": "n7H3SSig1XwG",
    "outputId": "b3042f69-e4bb-432d-b45e-60aaefb24892"
   },
   "outputs": [
    {
     "name": "stdout",
     "output_type": "stream",
     "text": [
      "Zero\n"
     ]
    }
   ],
   "source": [
    "# Example 1:\n",
    "\n",
    "'''In this program, we check if the number is positive or negative or zero and\n",
    "display an appropriate message'''\n",
    "\n",
    "num = 0\n",
    "\n",
    "# Try these two variations as well:\n",
    "# num = 0\n",
    "# num = -4.5\n",
    "\n",
    "if num > 0:\n",
    "    print(\"Positive number\")\n",
    "elif num == 0:\n",
    "    print(\"Zero\")\n",
    "else:\n",
    "    print(\"Negative number\")"
   ]
  },
  {
   "cell_type": "markdown",
   "metadata": {
    "id": "b1oGjznT1XwI"
   },
   "source": [
    "**Explanation:**\n",
    "\n",
    "When variable **`num`** is positive, **`Positive number`** is printed.\n",
    "\n",
    "If **`num`** is equal to 0, **`Zero`** is printed.\n",
    "\n",
    "If **`num`** is negative, **`Negative number`** is printed.    "
   ]
  },
  {
   "cell_type": "code",
   "execution_count": null,
   "metadata": {
    "ExecuteTime": {
     "end_time": "2021-10-04T08:50:55.015301Z",
     "start_time": "2021-10-04T08:50:54.876146Z"
    },
    "id": "GtehuwUf1XwI",
    "outputId": "8c1b8ebf-8017-4c15-8052-b7bce5b97353"
   },
   "outputs": [
    {
     "name": "stdout",
     "output_type": "stream",
     "text": [
      "num1 is equal to num2\n"
     ]
    }
   ],
   "source": [
    "# Example 2:\n",
    "\n",
    "num1, num2 = 5, 5\n",
    "if(num1 > num2):\n",
    "    print(\"num1 is greater than num2\")\n",
    "elif(num1 == num2):\n",
    "    print(\"num1 is equal to num2\")\n",
    "else:\n",
    "    print(\"num1 is less than num2\")"
   ]
  },
  {
   "cell_type": "code",
   "execution_count": null,
   "metadata": {
    "ExecuteTime": {
     "end_time": "2021-10-04T08:50:55.153487Z",
     "start_time": "2021-10-04T08:50:55.019212Z"
    },
    "id": "UIYPoAQC1XwJ",
    "outputId": "e96af7ae-6a18-4c95-cd78-28e4be8354f8"
   },
   "outputs": [
    {
     "name": "stdout",
     "output_type": "stream",
     "text": [
      "x<y\n"
     ]
    }
   ],
   "source": [
    "# Example 3:\n",
    "\n",
    "x = 10\n",
    "y = 12\n",
    "if x > y:\n",
    "    print(\"x>y\")\n",
    "elif x < y:\n",
    "    print(\"x<y\")\n",
    "else:\n",
    "    print(\"x=y\")"
   ]
  },
  {
   "cell_type": "code",
   "execution_count": null,
   "metadata": {
    "ExecuteTime": {
     "end_time": "2021-10-04T08:50:55.277022Z",
     "start_time": "2021-10-04T08:50:55.162277Z"
    },
    "id": "jT9QMcdM1XwK",
    "outputId": "76a0e820-9e07-4f42-f41e-166415584491"
   },
   "outputs": [
    {
     "name": "stdout",
     "output_type": "stream",
     "text": [
      "A grade\n"
     ]
    }
   ],
   "source": [
    "# Example 4:\n",
    "\n",
    "grade = 96\n",
    "\n",
    "if grade >= 90:\n",
    "    print(\"A grade\")\n",
    "elif grade >=80:\n",
    "    print(\"B grade\")\n",
    "elif grade >=70:\n",
    "    print(\"C grade\")\n",
    "elif grade >= 65:\n",
    "    print(\"D grade\")\n",
    "else:\n",
    "    print(\"Failing grade\")"
   ]
  },
  {
   "cell_type": "code",
   "execution_count": null,
   "metadata": {
    "ExecuteTime": {
     "end_time": "2021-10-04T08:50:55.446456Z",
     "start_time": "2021-10-04T08:50:55.281905Z"
    },
    "id": "90KKejZV1XwL",
    "outputId": "2df3a4f1-47d4-4324-cec5-371cc09a3966",
    "scrolled": true
   },
   "outputs": [
    {
     "name": "stdout",
     "output_type": "stream",
     "text": [
      "Admin\n",
      "Editor\n",
      "Guest\n",
      "Wrong entry\n"
     ]
    }
   ],
   "source": [
    "# Example 5:\n",
    "\n",
    "def user_check(choice):\n",
    "    if choice == 1:\n",
    "        print(\"Admin\")\n",
    "    elif choice == 2:\n",
    "        print(\"Editor\")\n",
    "    elif choice == 3:\n",
    "        print(\"Guest\")\n",
    "    else:\n",
    "        print(\"Wrong entry\")\n",
    "\n",
    "user_check(1)  # Admin\n",
    "user_check(2)  # Editor\n",
    "user_check(3)  # Guest\n",
    "user_check(4)  # Wrong entry"
   ]
  },
  {
   "cell_type": "markdown",
   "metadata": {
    "id": "rv_y_EaC1XwL"
   },
   "source": [
    "## if-elif-else statements with logical operators\n",
    "\n",
    "We can avoid writing nested condition by using logical operator **`and`**."
   ]
  },
  {
   "cell_type": "markdown",
   "metadata": {
    "id": "8i6pVUN71XwM"
   },
   "source": [
    "### if-elif-else statements `and` Logical Operator\n",
    "\n",
    "**Syntax:**\n",
    "\n",
    "```py\n",
    "if condition and condition:\n",
    "    code\n",
    "```"
   ]
  },
  {
   "cell_type": "code",
   "execution_count": null,
   "metadata": {
    "ExecuteTime": {
     "end_time": "2021-10-04T08:50:55.556809Z",
     "start_time": "2021-10-04T08:50:55.453294Z"
    },
    "id": "zZRB4fnJ1XwM",
    "outputId": "1e6785d1-cb28-4d6f-ddc1-bc4bc486a44c"
   },
   "outputs": [
    {
     "name": "stdout",
     "output_type": "stream",
     "text": [
      "A is zero\n"
     ]
    }
   ],
   "source": [
    "a = 0\n",
    "if a > 0 and a % 2 == 0:\n",
    "        print('A is an even and positive integer')\n",
    "elif a > 0 and a % 2 !=  0:\n",
    "     print('A is a positive integer')\n",
    "elif a == 0:\n",
    "    print('A is zero')\n",
    "else:\n",
    "    print('A is negative')"
   ]
  },
  {
   "cell_type": "markdown",
   "metadata": {
    "id": "0_aI5Ep91XwM"
   },
   "source": [
    "### if-elif-else statements `or` Logical Operator\n",
    "\n",
    "**Syntax:**\n",
    "\n",
    "```py\n",
    "if condition or condition:\n",
    "    code\n",
    "```"
   ]
  },
  {
   "cell_type": "code",
   "execution_count": null,
   "metadata": {
    "ExecuteTime": {
     "end_time": "2021-10-04T08:50:55.708176Z",
     "start_time": "2021-10-04T08:50:55.559738Z"
    },
    "id": "fJNUXKRP1XwN",
    "outputId": "0ef6983c-12c6-4413-eb17-be78095947a8"
   },
   "outputs": [
    {
     "name": "stdout",
     "output_type": "stream",
     "text": [
      "Access denied!\n"
     ]
    }
   ],
   "source": [
    "user = 'Arthur'\n",
    "access_level = 3\n",
    "if user == 'admin' or access_level >= 4:\n",
    "        print('Access granted!')\n",
    "else:\n",
    "    print('Access denied!')"
   ]
  },
  {
   "cell_type": "markdown",
   "metadata": {
    "id": "jpg2osFO1XwN"
   },
   "source": [
    "## 💻 Exercises ➞ <span class='label label-default'>List</span>\n",
    "\n",
    "### Exercises ➞ <span class='label label-default'>Level 1</span>\n",
    "\n",
    "1.  Get two numbers from the user using input prompt. If **`num_1`** is greater than **`num_2`** return **`num_1`** is greater than **`num_2`**, if **`num_1`** is less **`num_2`** return **`num_1`** is smaller than **`num_2`**, else **`num_1`** is equal to **`num_2`**. Output:\n",
    "\n",
    "```sh\n",
    "Enter number one: 9\n",
    "Enter number two: 6\n",
    "9 is greater than 6\n",
    "```\n",
    "\n",
    "### Exercises ➞ <span class='label label-default'>Level 2</span>\n",
    "\n",
    "1. Write a code which gives grade to students according to theirs scores:\n",
    "   \n",
    "```py\n",
    " 80-100, A\n",
    " 70-89, B\n",
    " 60-69, C\n",
    " 50-59, D\n",
    " 0-49, F\n",
    "```\n",
    "\n",
    "2. Check if the season is Autumn, Winter, Spring or Summer.\n",
    "    - If the user input is:\n",
    "        - September, October or November, the season is Autumn.\n",
    "        - December, January or February, the season is Winter.\n",
    "        - March, April or May, the season is Spring\n",
    "        - June, July or August, the season is Summer\n",
    "\n",
    "\n",
    "3.  The following list contains some fruits:\n",
    "       - If a fruit doesn't exist in the list add the fruit to the list and print the modified list. If the fruit exists print **`('That fruit already exist in the list')`**\n",
    "    \n",
    "```py\n",
    " fruits = ['banana', 'orange', 'mango', 'pear']\n",
    "```    \n",
    "\n",
    "\n",
    "### Exercises ➞ <span class='label label-default'>Level 3</span>\n",
    "\n",
    "   1. Here we have a person dictionary. Feel free to modify it!\n",
    "   \n",
    "```py\n",
    "    person={\n",
    "    'first_name': 'Milaan',\n",
    "    'last_name': 'Parmar',\n",
    "    'age': 96,\n",
    "    'country': 'Finland',\n",
    "    'is_marred': True,\n",
    "    'skills': ['Python', 'Matlab', 'R', 'C', 'C++'],\n",
    "    'address': {\n",
    "        'street': 'Space street',\n",
    "        'zipcode': '02210'\n",
    "    }\n",
    "    }\n",
    "```\n",
    "\n",
    "     * Check if the person dictionary has skills key, if so print out the middle skill in the skills list.\n",
    "     * Check if the person dictionary has skills key, if so check if the person has 'Python' skill and print out the result.\n",
    "     * If a person skills has only Python and Matlab, print('He knows machine learning'), if the person skills has Python, and R print('He knows statistics'), if the person skills has C, and C++, Print('He knows software development'), else print('unknown title') - for more accurate results more conditions can be nested!\n",
    "     * If the person is married and if he lives in Finland, print the information in the following format:\n",
    "\n",
    "```py\n",
    "    Milaan Parmar lives in Finland. He is married.\n",
    "```"
   ]
  },
  {
   "cell_type": "code",
   "execution_count": null,
   "metadata": {
    "id": "2lbYM9JV1Xwa"
   },
   "outputs": [],
   "source": []
  },
  {
   "cell_type": "markdown",
   "metadata": {
    "id": "U0Qiy65a1Yt9"
   },
   "source": [
    "### Syntax:\n",
    "\n",
    "#### Example 1:\n",
    "```python\n",
    "if conditon_outer:\n",
    "    if condition_inner:\n",
    "        statement of nested if\n",
    "    else:\n",
    "        statement of nested if else:\n",
    "    statement ot outer if\n",
    "else:\n",
    "    Outer else\n",
    "statement outside if block\n",
    "```\n",
    "\n",
    "#### Example 2:\n",
    "```python\n",
    "if expression1:\n",
    "    statement(s)\n",
    "    if expression2:\n",
    "        statement(s)\n",
    "    elif expression3:\n",
    "        statement(s)\n",
    "    elif expression4:\n",
    "        statement(s)\n",
    "    else:\n",
    "        statement(s)\n",
    "else:\n",
    "    statement(s)\n",
    "```"
   ]
  },
  {
   "cell_type": "code",
   "execution_count": null,
   "metadata": {
    "ExecuteTime": {
     "end_time": "2021-06-10T21:32:46.158585Z",
     "start_time": "2021-06-10T21:32:46.150794Z"
    },
    "id": "5xCM9F7y1Yt-",
    "outputId": "e1eec827-71f6-4e9f-cac7-22d61bdfc5b7"
   },
   "outputs": [
    {
     "name": "stdout",
     "output_type": "stream",
     "text": [
      "All Conditions are false\n"
     ]
    }
   ],
   "source": [
    "# Example 1:\n",
    "\n",
    "a=10\n",
    "if a>=20:  # Condition FALSE\n",
    "    print (\"Condition is True\")\n",
    "else:  # Code will go to ELSE body\n",
    "    if a>=15:  # Condition FALSE\n",
    "        print (\"Checking second value\")\n",
    "    else:  # Code will go to ELSE body\n",
    "        print (\"All Conditions are false\")"
   ]
  },
  {
   "cell_type": "code",
   "execution_count": null,
   "metadata": {
    "ExecuteTime": {
     "end_time": "2021-06-10T21:32:46.684934Z",
     "start_time": "2021-06-10T21:32:46.672274Z"
    },
    "id": "wc86NTEI1YuA",
    "outputId": "17bbdfbb-aaf8-4ca9-c9b5-b9d0d465b7e3"
   },
   "outputs": [
    {
     "name": "stdout",
     "output_type": "stream",
     "text": [
      "x<y\n",
      "x=10\n"
     ]
    }
   ],
   "source": [
    "# Example 2:\n",
    "\n",
    "x = 10\n",
    "y = 12\n",
    "if x > y:\n",
    "    print( \"x>y\")\n",
    "elif x < y:\n",
    "    print( \"x<y\")\n",
    "    if x==10:\n",
    "        print (\"x=10\")\n",
    "    else:\n",
    "        print (\"invalid\")\n",
    "else:\n",
    "    print (\"x=y\")"
   ]
  },
  {
   "cell_type": "code",
   "execution_count": null,
   "metadata": {
    "ExecuteTime": {
     "end_time": "2021-06-10T21:32:47.528747Z",
     "start_time": "2021-06-10T21:32:47.507326Z"
    },
    "id": "HLZUMIpm1YuA",
    "outputId": "a9edc530-ecd2-4d09-a986-7633e2e97aab"
   },
   "outputs": [
    {
     "name": "stdout",
     "output_type": "stream",
     "text": [
      "num1 is neither positive nor negative\n"
     ]
    }
   ],
   "source": [
    "# Example 3:\n",
    "\n",
    "num1 = 0\n",
    "if (num1 != 0):  # For zero condition is FALSE\n",
    "    if(num1 > 0):\n",
    "        print(\"num1 is a positive number\")\n",
    "    else:\n",
    "        print(\"num1 is a negative number\")\n",
    "else:  # For zero condition is TRUE\n",
    "    print(\"num1 is neither positive nor negative\")"
   ]
  },
  {
   "cell_type": "code",
   "execution_count": null,
   "metadata": {
    "ExecuteTime": {
     "end_time": "2021-06-10T21:33:30.124628Z",
     "start_time": "2021-06-10T21:33:16.450727Z"
    },
    "id": "Hg0HV9811YuB",
    "outputId": "0ed360ee-4680-4aca-acb5-7651ce8a3358"
   },
   "outputs": [
    {
     "name": "stdout",
     "output_type": "stream",
     "text": [
      "Enter a number: 9\n",
      "Positive number\n"
     ]
    }
   ],
   "source": [
    "# Example 4:\n",
    "\n",
    "'''In this program, we input a number check if the number is\n",
    "positive or negative or zero and display an appropriate message.\n",
    "This time we use nested if statement'''\n",
    "\n",
    "num = float(input(\"Enter a number: \"))\n",
    "if num >= 0:\n",
    "    if num == 0:\n",
    "        print(\"Zero\")\n",
    "    else:\n",
    "        print(\"Positive number\")\n",
    "else:\n",
    "    print(\"Negative number\")"
   ]
  },
  {
   "cell_type": "code",
   "execution_count": null,
   "metadata": {
    "ExecuteTime": {
     "end_time": "2021-06-10T21:33:37.996992Z",
     "start_time": "2021-06-10T21:33:37.975571Z"
    },
    "id": "4Q4zguuO1YuB",
    "outputId": "a9d80c21-8836-49f9-ff4f-4d177f8c4422"
   },
   "outputs": [
    {
     "name": "stdout",
     "output_type": "stream",
     "text": [
      "96 is greater than 66\n",
      "96 and 96 are equal\n"
     ]
    }
   ],
   "source": [
    "# Example 5:\n",
    "\n",
    "def number_arithmetic(num1, num2):\n",
    "    if num1 >= num2:\n",
    "        if num1 == num2:\n",
    "            print(f'{num1} and {num2} are equal')\n",
    "        else:\n",
    "            print(f'{num1} is greater than {num2}')\n",
    "    else:\n",
    "        print(f'{num1} is smaller than {num2}')\n",
    "\n",
    "number_arithmetic(96, 66)\n",
    "# Output 96 is greater than 66\n",
    "number_arithmetic(96, 96)\n",
    "# Output 56 and 56 are equal"
   ]
  },
  {
   "cell_type": "code",
   "execution_count": null,
   "metadata": {
    "id": "XpgQFznk1YuC"
   },
   "outputs": [],
   "source": []
  },
  {
   "cell_type": "markdown",
   "metadata": {
    "id": "3U05BJPR1Z2Y"
   },
   "source": [
    "# Loops in Python\n",
    "\n",
    "Loops in Python programming function similar to loops in C, C++, Java or other languages. Python loops are used to repeatedly execute a block of statements until a given condition returns to be **`False`**. In Python, we have **two types of looping statements**, namely:\n",
    "<div>\n",
    "<img src=\"../img/loop1.png\" width=\"200\"/>\n",
    "</div>"
   ]
  },
  {
   "cell_type": "markdown",
   "metadata": {
    "id": "Wa9ipUC51Z2Y"
   },
   "source": [
    "# Python `for` Loop\n",
    "\n",
    "In this class, you'll learn to iterate over a sequence of elements using the different variations of **`for`** loop. We use a **`for`** loop when we want to repeat a code block for a **fixed number of times**."
   ]
  },
  {
   "cell_type": "markdown",
   "metadata": {
    "id": "WB0IEnpx1Z2Z"
   },
   "source": [
    "## Why use `for` loop?\n",
    "\n",
    "Let’s see the use **`for`** loop in Python.\n",
    "\n",
    "* **Definite Iteration:** When we know how many times we wanted to run a loop, then we use count-controlled loops such as **`for`** loops. It is also known as definite iteration. For example, Calculate the percentage of 50 students. here we know we need to iterate a loop 50 times (1 iteration for each student).\n",
    "* **Reduces the code’s complexity:** Loop repeats a specific block of code a fixed number of times. It reduces the repetition of lines of code, thus reducing the complexity of the code. Using **`for`** loops and while loops we can automate and repeat tasks in an efficient manner.\n",
    "* **Loop through sequences:** used for iterating over lists, strings, tuples, dictionaries, etc., and perform various operations on it, based on the conditions specified by the user."
   ]
  },
  {
   "cell_type": "markdown",
   "metadata": {
    "id": "TlVxWJVI1Z2i"
   },
   "source": [
    "### Syntax :\n",
    "\n",
    "```python  \n",
    "for element in sequence:\n",
    "    body of for loop\n",
    "```\n",
    "\n",
    "1. First, **`element`** is the variable that takes the value of the item inside the sequence on each iteration.\n",
    "\n",
    "2. Second, all the **`statements`** in the body of the for loop are executed with the same value. The body of for loop is separated from the rest of the code using indentation.\n",
    "\n",
    "3. Finally, loop continues until we reach the last item in the **`sequence`**. The body of for loop is separated from the rest of the code using indentation.\n",
    "\n",
    "<div>\n",
    "<img src=\"../img/for0.png\" width=\"400\"/>\n",
    "</div>"
   ]
  },
  {
   "cell_type": "code",
   "execution_count": null,
   "metadata": {
    "ExecuteTime": {
     "end_time": "2021-10-04T12:09:49.251313Z",
     "start_time": "2021-10-04T12:09:49.240575Z"
    },
    "id": "_EtgPqoB1Z2j",
    "outputId": "9bd913bd-776c-42ca-acc9-a50a8daf5453"
   },
   "outputs": [
    {
     "name": "stdout",
     "output_type": "stream",
     "text": [
      "one\n",
      "two\n",
      "three\n",
      "four\n",
      "five\n"
     ]
    }
   ],
   "source": [
    "# Example 1: For loop\n",
    "\n",
    "words = ['one', 'two', 'three', 'four', 'five']\n",
    "\n",
    "for i in words:\n",
    "    print(i)"
   ]
  },
  {
   "cell_type": "code",
   "execution_count": null,
   "metadata": {
    "ExecuteTime": {
     "end_time": "2021-10-04T12:09:49.282564Z",
     "start_time": "2021-10-04T12:09:49.259620Z"
    },
    "id": "vXTuIdKh1Z2k",
    "outputId": "7dc7ea96-1998-46f8-b022-4713ec685a35"
   },
   "outputs": [
    {
     "name": "stdout",
     "output_type": "stream",
     "text": [
      "30.0\n"
     ]
    }
   ],
   "source": [
    "# Example 2: Calculate the average of list of numbers\n",
    "\n",
    "numbers = [10, 20, 30, 40, 50]\n",
    "\n",
    "# definite iteration\n",
    "# run loop 5 times because list contains 5 items\n",
    "sum = 0\n",
    "for i in numbers:\n",
    "    sum = sum + i\n",
    "list_size = len(numbers)\n",
    "average = sum / list_size\n",
    "print(average)"
   ]
  },
  {
   "cell_type": "code",
   "execution_count": null,
   "metadata": {
    "ExecuteTime": {
     "end_time": "2021-10-04T12:09:49.435886Z",
     "start_time": "2021-10-04T12:09:49.292334Z"
    },
    "id": "WxVzFXww1Z2k",
    "outputId": "01f78ebb-0f76-4489-d9a3-56c39d34cdd4"
   },
   "outputs": [
    {
     "name": "stdout",
     "output_type": "stream",
     "text": [
      "[]\n",
      "[0, 1, 2, 3, 4, 5, 6, 7, 8, 9]\n",
      "[1, 2, 3, 4, 5, 6, 7, 8, 9]\n"
     ]
    }
   ],
   "source": [
    "# Example 1: How range works in Python?\n",
    "\n",
    "# empty range\n",
    "print(list(range(0)))\n",
    "\n",
    "# using range(stop)\n",
    "print(list(range(10)))\n",
    "\n",
    "# using range(start, stop)\n",
    "print(list(range(1, 10)))"
   ]
  },
  {
   "cell_type": "code",
   "execution_count": null,
   "metadata": {
    "ExecuteTime": {
     "end_time": "2021-10-04T12:09:49.633639Z",
     "start_time": "2021-10-04T12:09:49.439794Z"
    },
    "id": "0sxInfYV1Z2l",
    "outputId": "6da4753f-c4aa-431e-d71c-6c35c2df5f39",
    "scrolled": true
   },
   "outputs": [
    {
     "name": "stdout",
     "output_type": "stream",
     "text": [
      "0\n",
      "1\n",
      "2\n",
      "3\n",
      "4\n",
      "5\n",
      "6\n",
      "7\n",
      "8\n",
      "9\n"
     ]
    }
   ],
   "source": [
    "# Example 2:\n",
    "\n",
    "for num in range(10):\n",
    "    print(num)"
   ]
  },
  {
   "cell_type": "code",
   "execution_count": null,
   "metadata": {
    "ExecuteTime": {
     "end_time": "2021-10-04T12:09:49.908542Z",
     "start_time": "2021-10-04T12:09:49.640473Z"
    },
    "id": "252yyO_D1Z2l",
    "outputId": "07fa4ca5-f8de-4268-cfe3-d6cb404a11ca",
    "scrolled": false
   },
   "outputs": [
    {
     "name": "stdout",
     "output_type": "stream",
     "text": [
      "1\n",
      "2\n",
      "3\n",
      "4\n",
      "5\n",
      "6\n",
      "7\n",
      "8\n",
      "9\n",
      "10\n"
     ]
    }
   ],
   "source": [
    "# Example 3:\n",
    "\n",
    "for i in range(1, 11):\n",
    "    print(i)"
   ]
  },
  {
   "cell_type": "code",
   "execution_count": null,
   "metadata": {
    "ExecuteTime": {
     "end_time": "2021-10-04T12:09:50.137547Z",
     "start_time": "2021-10-04T12:09:49.913425Z"
    },
    "id": "wmkdn3Xz1Z2m",
    "outputId": "2e9091d8-e00e-47d8-ef10-a599974e880b",
    "scrolled": true
   },
   "outputs": [
    {
     "name": "stdout",
     "output_type": "stream",
     "text": [
      "2\n",
      "4\n",
      "6\n",
      "8\n",
      "10\n"
     ]
    }
   ],
   "source": [
    "# Example 4:\n",
    "\n",
    "for i in range (2, 12, 2):  # beginning 2 with distance of 2 and stop before 12\n",
    "    print (i)"
   ]
  },
  {
   "cell_type": "code",
   "execution_count": null,
   "metadata": {
    "ExecuteTime": {
     "end_time": "2021-10-04T12:09:50.259614Z",
     "start_time": "2021-10-04T12:09:50.141453Z"
    },
    "id": "pszBIptP1Z2m",
    "outputId": "a70e3cf4-d456-49df-cf7d-1b0b93214626"
   },
   "outputs": [
    {
     "name": "stdout",
     "output_type": "stream",
     "text": [
      "2\n",
      "4\n",
      "6\n",
      "8\n",
      "10\n"
     ]
    }
   ],
   "source": [
    "# Example 5:\n",
    "\n",
    "num=2\n",
    "\n",
    "for a in range (1,6):  # range (1,6) means numbers from 1 to 5, i.e., (1,2,3,4,5)\n",
    "    print (num * a)"
   ]
  },
  {
   "cell_type": "code",
   "execution_count": null,
   "metadata": {
    "ExecuteTime": {
     "end_time": "2021-10-04T12:09:50.396821Z",
     "start_time": "2021-10-04T12:09:50.262548Z"
    },
    "id": "LAB1B1dE1Z2m",
    "outputId": "d4ca738c-ed7c-4dc4-fa0c-f89653900e97",
    "scrolled": true
   },
   "outputs": [
    {
     "name": "stdout",
     "output_type": "stream",
     "text": [
      "1\n",
      "3\n",
      "6\n",
      "10\n",
      "15\n",
      "21\n",
      "28\n",
      "36\n",
      "45\n",
      "55\n"
     ]
    },
    {
     "data": {
      "text/plain": [
       "'\\n0+1 = 1\\n1+2 = 3\\n3+3 = 6\\n6+4 = 10\\n10+5 =15\\n21\\n28\\n36\\n45\\n45+10 = 55\\n'"
      ]
     },
     "execution_count": 8,
     "metadata": {},
     "output_type": "execute_result"
    }
   ],
   "source": [
    "# Example 6: Find Sum of 10 Numbers\n",
    "\n",
    "sum=0\n",
    "for n in range(1,11):  # range (1,11) means numbers from 1 to 5, i.e., (1,2,3,4,5,6,7,8,9,10)\n",
    "    sum+=n\n",
    "    print (sum)\n",
    "\n",
    "'''\n",
    "0+1 = 1\n",
    "1+2 = 3\n",
    "3+3 = 6\n",
    "6+4 = 10\n",
    "10+5 =15\n",
    "21\n",
    "28\n",
    "36\n",
    "45\n",
    "45+10 = 55\n",
    "'''"
   ]
  },
  {
   "cell_type": "code",
   "execution_count": null,
   "metadata": {
    "ExecuteTime": {
     "end_time": "2021-10-04T12:09:50.534518Z",
     "start_time": "2021-10-04T12:09:50.399756Z"
    },
    "id": "AOkIiI8e1Z2m",
    "outputId": "08918f2f-a0d9-4f53-82b1-62e0c498af74"
   },
   "outputs": [
    {
     "name": "stdout",
     "output_type": "stream",
     "text": [
      "Case 1:\n",
      "0\n",
      "1\n",
      "2\n",
      "3\n",
      "4\n",
      "Case 2:\n",
      "5\n",
      "6\n",
      "7\n",
      "8\n",
      "9\n",
      "Case 3:\n",
      "5\n",
      "7\n",
      "9\n"
     ]
    }
   ],
   "source": [
    "# Example 7: printing a series of numbers using for and range\n",
    "\n",
    "print(\"Case 1:\")\n",
    "for i in range(5):  # Print numbers from 0 to 4\n",
    "    print (i)\n",
    "\n",
    "print(\"Case 2:\")\n",
    "for i in range(5, 10):  # Print numbers from 5 to 9\n",
    "    print (i)\n",
    "\n",
    "print(\"Case 3:\")\n",
    "for i in range(5, 10, 2):  # Print numbers from 5 with distace 2 and stop before 10\n",
    "    print (i)"
   ]
  },
  {
   "cell_type": "code",
   "execution_count": null,
   "metadata": {
    "ExecuteTime": {
     "end_time": "2021-10-04T12:09:50.657566Z",
     "start_time": "2021-10-04T12:09:50.539403Z"
    },
    "id": "oa6Yrfto1Z2n",
    "outputId": "fa2f2624-8564-4291-a9ca-ecce39bdaaf2"
   },
   "outputs": [
    {
     "name": "stdout",
     "output_type": "stream",
     "text": [
      "Odd Number: 1\n",
      "Even Number: 2\n",
      "Odd Number: 3\n",
      "Even Number: 4\n",
      "Odd Number: 5\n",
      "Even Number: 6\n",
      "Odd Number: 7\n",
      "Even Number: 8\n",
      "Odd Number: 9\n",
      "Even Number: 10\n"
     ]
    }
   ],
   "source": [
    "# Example 1: Print all even and odd numbers\n",
    "\n",
    "for i in range(1, 11):\n",
    "    if i % 2 == 0:\n",
    "        print('Even Number:', i)\n",
    "    else:\n",
    "        print('Odd Number:', i)"
   ]
  },
  {
   "cell_type": "code",
   "execution_count": null,
   "metadata": {
    "ExecuteTime": {
     "end_time": "2021-10-04T12:09:50.793310Z",
     "start_time": "2021-10-04T12:09:50.666842Z"
    },
    "id": "AaKXaXMg1Z2o",
    "outputId": "df21a031-c006-4126-e361-bbe6e4ac3b74",
    "scrolled": true
   },
   "outputs": [
    {
     "name": "stdout",
     "output_type": "stream",
     "text": [
      "0\n",
      "1\n",
      "5\n",
      "No items left.\n"
     ]
    }
   ],
   "source": [
    "# Example 1:\n",
    "\n",
    "digits = [0, 1, 5]\n",
    "\n",
    "for i in digits:\n",
    "    print(i)\n",
    "else:\n",
    "    print(\"No items left.\")"
   ]
  },
  {
   "cell_type": "markdown",
   "metadata": {
    "id": "7wD8Q_y91Z2o"
   },
   "source": [
    "**Explanation:**\n",
    "\n",
    "Here, the for loop prints items of the list until the loop exhausts. When the for loop exhausts, it executes the block of code in the **`else`** and prints **`No items left`**."
   ]
  },
  {
   "cell_type": "code",
   "execution_count": null,
   "metadata": {
    "ExecuteTime": {
     "end_time": "2021-10-04T12:09:50.991550Z",
     "start_time": "2021-10-04T12:09:50.796727Z"
    },
    "id": "QNY94cJ31Z2o",
    "outputId": "2b2b9a4f-9022-4c48-c64e-2e5055a6dff0"
   },
   "outputs": [
    {
     "name": "stdout",
     "output_type": "stream",
     "text": [
      "0\n",
      "1\n",
      "2\n",
      "3\n",
      "4\n",
      "5\n",
      "6\n",
      "7\n",
      "8\n",
      "9\n",
      "10\n",
      "The loop stops at 10\n"
     ]
    }
   ],
   "source": [
    "# Example 2:\n",
    "\n",
    "for number in range(11):\n",
    "    print(number)   # prints 0 to 10, not including 11\n",
    "else:\n",
    "    print('The loop stops at', number)"
   ]
  },
  {
   "cell_type": "code",
   "execution_count": null,
   "metadata": {
    "ExecuteTime": {
     "end_time": "2021-10-04T12:09:51.159520Z",
     "start_time": "2021-10-04T12:09:50.996435Z"
    },
    "id": "ikpPan551Z2o",
    "outputId": "bc0bb8de-1370-4d1b-b025-beb48df26c5e"
   },
   "outputs": [
    {
     "name": "stdout",
     "output_type": "stream",
     "text": [
      "1\n",
      "2\n",
      "3\n",
      "4\n",
      "5\n",
      "Done\n"
     ]
    }
   ],
   "source": [
    "# Example 3: Else block in for loop\n",
    "\n",
    "for i in range(1, 6):\n",
    "    print(i)\n",
    "else:\n",
    "    print(\"Done\")"
   ]
  },
  {
   "cell_type": "markdown",
   "metadata": {
    "id": "wrDdpMcd1Z2o"
   },
   "source": [
    "This **`for-else`** statement can be used with the **`break`** keyword to run the **`else`** block only when the **`break`** keyword was not executed. Let's take an example:"
   ]
  },
  {
   "cell_type": "code",
   "execution_count": null,
   "metadata": {
    "ExecuteTime": {
     "end_time": "2021-10-04T12:09:51.312349Z",
     "start_time": "2021-10-04T12:09:51.162449Z"
    },
    "id": "bB2hy9jj1Z2p",
    "outputId": "69c36296-d5a1-4555-b2de-dd2689c0d810"
   },
   "outputs": [
    {
     "name": "stdout",
     "output_type": "stream",
     "text": [
      "No entry with that name found.\n"
     ]
    }
   ],
   "source": [
    "# Example 4:\n",
    "\n",
    "student_name = 'Arthur'\n",
    "\n",
    "marks = {'Alan': 99, 'Bill': 55, 'Cory': 77}\n",
    "\n",
    "for student in marks:\n",
    "    if student == student_name:\n",
    "        print(marks[student])\n",
    "        break\n",
    "else:\n",
    "    print('No entry with that name found.')"
   ]
  },
  {
   "cell_type": "code",
   "execution_count": null,
   "metadata": {
    "ExecuteTime": {
     "end_time": "2021-10-04T12:09:51.403663Z",
     "start_time": "2021-10-04T12:09:51.315770Z"
    },
    "id": "ZMFM0JBw1Z2p",
    "outputId": "9227efe3-6222-421f-b8f0-c6f695fcb8e5"
   },
   "outputs": [
    {
     "name": "stdout",
     "output_type": "stream",
     "text": [
      "1\n",
      "2\n"
     ]
    }
   ],
   "source": [
    "# Example 5:\n",
    "\n",
    "count = 0\n",
    "for i in range(1, 6):\n",
    "    count = count + 1\n",
    "    if count > 2:\n",
    "        break\n",
    "    else:\n",
    "        print(i)\n",
    "else:\n",
    "    print(\"Done\")"
   ]
  },
  {
   "cell_type": "markdown",
   "metadata": {
    "id": "pIBKyLts1Z2p"
   },
   "source": [
    "### a) `break` in `for` loop\n",
    "\n",
    "Using the **`break`** statement, we can exit from the **`for`** loop before it has looped through all the elements in the sequence as shown below. As soon as it breaks out of the **`for`** loop, the control shifts to the immediate next line of code. For example,"
   ]
  },
  {
   "cell_type": "code",
   "execution_count": null,
   "metadata": {
    "ExecuteTime": {
     "end_time": "2021-10-04T12:09:51.556493Z",
     "start_time": "2021-10-04T12:09:51.407569Z"
    },
    "id": "SIDNelhW1Z2p",
    "outputId": "5432a70d-1b4b-4b0b-f263-1b0203232a55"
   },
   "outputs": [
    {
     "name": "stdout",
     "output_type": "stream",
     "text": [
      "0\n",
      "1\n",
      "2\n",
      "3\n"
     ]
    }
   ],
   "source": [
    "# Example 1:\n",
    "\n",
    "numbers = (0,1,2,3,4,5)\n",
    "for number in numbers:\n",
    "    print(number)\n",
    "    if number == 3:\n",
    "        break"
   ]
  },
  {
   "cell_type": "markdown",
   "metadata": {
    "id": "HhGan73e1Z2q"
   },
   "source": [
    "**Explanation:**\n",
    "\n",
    "In the above example, the loop stops when it reaches 3."
   ]
  },
  {
   "cell_type": "code",
   "execution_count": null,
   "metadata": {
    "ExecuteTime": {
     "end_time": "2021-10-04T12:09:51.709323Z",
     "start_time": "2021-10-04T12:09:51.561377Z"
    },
    "id": "EW7XP7sq1Z2q",
    "outputId": "07cf5ef4-b0d6-4524-8dac-d094ef49823b"
   },
   "outputs": [
    {
     "name": "stdout",
     "output_type": "stream",
     "text": [
      "Pink\n"
     ]
    }
   ],
   "source": [
    "# Example 2:\n",
    "\n",
    "color = ['Green', 'Pink', 'Blue']\n",
    "for i in color:\n",
    "    if(i == 'Pink'):\n",
    "        break\n",
    "print (i)"
   ]
  },
  {
   "cell_type": "markdown",
   "metadata": {
    "id": "CcquWRCm1Z2q"
   },
   "source": [
    "**Explanation:**\n",
    "\n",
    "Here, in the second iteration, the **`if`** condition becomes **`True`**. Hence the loop beaks out of the for loop and the immediate next line of code i.e **`print (i)`** is executed and as a result, pink is outputted."
   ]
  },
  {
   "cell_type": "code",
   "execution_count": null,
   "metadata": {
    "ExecuteTime": {
     "end_time": "2021-10-04T12:09:51.861668Z",
     "start_time": "2021-10-04T12:09:51.712254Z"
    },
    "id": "jZfaMk541Z2q",
    "outputId": "0744c2d0-1fb0-465c-fe2b-d3e6cd6cb36a"
   },
   "outputs": [
    {
     "name": "stdout",
     "output_type": "stream",
     "text": [
      "1\n",
      "4\n",
      "7\n",
      "8\n",
      "15\n"
     ]
    }
   ],
   "source": [
    "# Example 3:\n",
    "\n",
    "numbers = [1, 4, 7, 8, 15, 20, 35, 45, 55]\n",
    "for i in numbers:\n",
    "    if i > 15:\n",
    "        # break the loop\n",
    "        break\n",
    "    else:\n",
    "        print(i)"
   ]
  },
  {
   "cell_type": "code",
   "execution_count": null,
   "metadata": {
    "ExecuteTime": {
     "end_time": "2021-10-04T12:09:52.014500Z",
     "start_time": "2021-10-04T12:09:51.870458Z"
    },
    "id": "Dfpb5xNs1Z2q",
    "outputId": "3ac666c4-a39f-4588-f78f-5e6f3ae75e7f",
    "scrolled": true
   },
   "outputs": [
    {
     "name": "stdout",
     "output_type": "stream",
     "text": [
      "1 0\n",
      "2 0\n",
      "2 1\n",
      "3 0\n",
      "3 1\n",
      "3 2\n",
      "4 0\n",
      "4 1\n",
      "4 2\n",
      "4 3\n"
     ]
    }
   ],
   "source": [
    "# Example 4:\n",
    "\n",
    "for i in range(5):\n",
    "    for j in range(5):\n",
    "        if j == i:\n",
    "            break\n",
    "        print(i, j)"
   ]
  },
  {
   "cell_type": "markdown",
   "metadata": {
    "id": "12DScOm81Z2r"
   },
   "source": [
    "### b) `continue` in `for` loop\n",
    "\n",
    "The **`continue`** statement is used to stop/skip the block of code in the loop for the current iteration only and continue with the next iteration. For example,"
   ]
  },
  {
   "cell_type": "code",
   "execution_count": null,
   "metadata": {
    "ExecuteTime": {
     "end_time": "2021-10-04T12:09:52.152683Z",
     "start_time": "2021-10-04T12:09:52.017432Z"
    },
    "id": "m-gfoP9W1Z2r",
    "outputId": "df0b696c-6b89-4e0f-a10e-7df6a8bc1f1b"
   },
   "outputs": [
    {
     "name": "stdout",
     "output_type": "stream",
     "text": [
      "Blue\n"
     ]
    }
   ],
   "source": [
    "# Example 1:\n",
    "\n",
    "color = ['Green', 'Pink', 'Blue']\n",
    "for i in color:\n",
    "    if(i == 'Pink'):\n",
    "        continue\n",
    "print (i)"
   ]
  },
  {
   "cell_type": "markdown",
   "metadata": {
    "id": "O-xKQrGH1Z2r"
   },
   "source": [
    "**Explanation:**\n",
    "\n",
    "Here, in the second iteration, the condition becomes **`True`**. Hence the interpreter skips the **`print (i)`** statement and immediately executes the next iteration."
   ]
  },
  {
   "cell_type": "code",
   "execution_count": null,
   "metadata": {
    "ExecuteTime": {
     "end_time": "2021-10-04T12:09:52.274755Z",
     "start_time": "2021-10-04T12:09:52.155615Z"
    },
    "id": "GpZn02td1Z2r",
    "outputId": "b60d2a94-a1b9-4740-a356-06424f219f9d"
   },
   "outputs": [
    {
     "name": "stdout",
     "output_type": "stream",
     "text": [
      "0\n",
      "Next number should be  1\n",
      "1\n",
      "Next number should be  2\n",
      "2\n",
      "Next number should be  3\n",
      "3\n",
      "4\n",
      "Next number should be  5\n",
      "5\n",
      "loop's end\n",
      "outside the loop\n"
     ]
    }
   ],
   "source": [
    "# Example 2:\n",
    "\n",
    "numbers = (0,1,2,3,4,5)\n",
    "for number in numbers:\n",
    "    print(number)\n",
    "    if number == 3:\n",
    "        continue\n",
    "    print('Next number should be ', number + 1) if number != 5 else print(\"loop's end\") # for short hand conditions need both if and else statements\n",
    "print('outside the loop')"
   ]
  },
  {
   "cell_type": "markdown",
   "metadata": {
    "id": "3eqyutL81Z2x"
   },
   "source": [
    "**Explanation:**\n",
    "\n",
    "In the example above, if the number equals 3, the step **after** the condition (but inside the loop) is skipped and the execution of the loop continues if there are any iterations left."
   ]
  },
  {
   "cell_type": "code",
   "execution_count": null,
   "metadata": {
    "ExecuteTime": {
     "end_time": "2021-10-04T12:09:52.366553Z",
     "start_time": "2021-10-04T12:09:52.277686Z"
    },
    "id": "3GpmEDYk1Z2x",
    "outputId": "a12446b5-e254-49cc-87bb-564354eaee0a"
   },
   "outputs": [
    {
     "name": "stdout",
     "output_type": "stream",
     "text": [
      "3 * 6 =  18\n",
      "3 * 9 =  27\n",
      "6 * 3 =  18\n",
      "6 * 9 =  54\n",
      "9 * 3 =  27\n",
      "9 * 6 =  54\n"
     ]
    }
   ],
   "source": [
    "# Example 3:\n",
    "\n",
    "first = [3, 6, 9]\n",
    "second = [3, 6, 9]\n",
    "for i in first:\n",
    "    for j in second:\n",
    "        if i == j:\n",
    "            continue\n",
    "        print(i, '*', j, '= ', i * j)"
   ]
  },
  {
   "cell_type": "markdown",
   "metadata": {
    "id": "g0TjyXnI1Z2y"
   },
   "source": [
    "**Explanation:**\n",
    "\n",
    "We have two loops. The outer for loop iterates the first list, and the inner loop also iterates the second list of numbers. If the outer number and the inner loop’s current number are the same, then move to the next iteration of an inner loop.\n",
    "\n",
    "As you can see in the output, no same numbers multiplying to each other."
   ]
  },
  {
   "cell_type": "code",
   "execution_count": null,
   "metadata": {
    "ExecuteTime": {
     "end_time": "2021-10-04T12:09:52.488622Z",
     "start_time": "2021-10-04T12:09:52.369485Z"
    },
    "id": "KUcQT5Ym1Z2y",
    "outputId": "9af3861f-7b65-4d25-c55c-dc31d2b00353"
   },
   "outputs": [
    {
     "name": "stdout",
     "output_type": "stream",
     "text": [
      "Total number of m is: 2\n"
     ]
    }
   ],
   "source": [
    "# Example 4:\n",
    "\n",
    "name = \"mariya mennen\"\n",
    "count = 0\n",
    "for char in name:\n",
    "    if char != 'm':\n",
    "        continue\n",
    "    else:\n",
    "        count = count + 1\n",
    "\n",
    "print('Total number of m is:', count)"
   ]
  },
  {
   "cell_type": "markdown",
   "metadata": {
    "id": "b3cXDh1U1Z2y"
   },
   "source": [
    "### c) `pass` in `for` loop\n",
    "\n",
    "The **`pass`** statement is a null statement, i.e., nothing happens when the statement is executed. Primarily it is used in empty functions or classes. When the interpreter finds a pass statement in the program, it returns no operation."
   ]
  },
  {
   "cell_type": "code",
   "execution_count": null,
   "metadata": {
    "ExecuteTime": {
     "end_time": "2021-10-04T12:09:52.625830Z",
     "start_time": "2021-10-04T12:09:52.493506Z"
    },
    "id": "6Jb8Siu91Z2y"
   },
   "outputs": [],
   "source": [
    "# Example 1:\n",
    "\n",
    "for number in range(6):\n",
    "    pass"
   ]
  },
  {
   "cell_type": "code",
   "execution_count": null,
   "metadata": {
    "ExecuteTime": {
     "end_time": "2021-10-04T12:09:52.747899Z",
     "start_time": "2021-10-04T12:09:52.633640Z"
    },
    "id": "VUVy-9M51Z2y"
   },
   "outputs": [],
   "source": [
    "# Example 2:\n",
    "\n",
    "num = [1, 4, 5, 3, 7, 8]\n",
    "for i in num:\n",
    "    # calculate multiplication in future if required\n",
    "    pass"
   ]
  },
  {
   "cell_type": "code",
   "execution_count": null,
   "metadata": {
    "ExecuteTime": {
     "end_time": "2021-10-04T12:09:52.871924Z",
     "start_time": "2021-10-04T12:09:52.752784Z"
    },
    "id": "pITVp06D1Z2z",
    "outputId": "b1304e08-8aba-4117-ec57-e1120425307b"
   },
   "outputs": [
    {
     "name": "stdout",
     "output_type": "stream",
     "text": [
      "40\n",
      "30\n",
      "20\n",
      "10\n"
     ]
    }
   ],
   "source": [
    "# Example 1: Reversed numbers using `reversed()` function\n",
    "\n",
    "list1 = [10, 20, 30, 40]\n",
    "for num in reversed(list1):\n",
    "    print(num)"
   ]
  },
  {
   "cell_type": "code",
   "execution_count": null,
   "metadata": {
    "ExecuteTime": {
     "end_time": "2021-10-04T12:09:53.008641Z",
     "start_time": "2021-10-04T12:09:52.875832Z"
    },
    "id": "IxqaKbNb1Z20",
    "outputId": "e0ff83d5-2b12-4383-b993-15ea245c3ed5"
   },
   "outputs": [
    {
     "name": "stdout",
     "output_type": "stream",
     "text": [
      "Reverse numbers using for loop\n",
      "5\n",
      "4\n",
      "3\n",
      "2\n",
      "1\n",
      "0\n"
     ]
    }
   ],
   "source": [
    "# Example 1:\n",
    "\n",
    "print(\"Reverse numbers using for loop\")\n",
    "num = 5\n",
    "# start = 5\n",
    "# stop = -1\n",
    "# step = -1\n",
    "for num in (range(num, -1, -1)):\n",
    "    print(num)"
   ]
  },
  {
   "cell_type": "code",
   "execution_count": null,
   "metadata": {
    "ExecuteTime": {
     "end_time": "2021-10-04T12:09:53.129735Z",
     "start_time": "2021-10-04T12:09:53.015969Z"
    },
    "id": "M0gbkfcY1Z20",
    "outputId": "bcf6f4b8-7f15-4470-a76e-1e9348ecd2a2"
   },
   "outputs": [
    {
     "name": "stdout",
     "output_type": "stream",
     "text": [
      "reversed: \tc;b;a;\n",
      "enuemerated:\t0 = a; 1 = b; 2 = c; \n",
      "zip'ed: \n",
      "a : x\n",
      "b : y\n",
      "c : z\n"
     ]
    }
   ],
   "source": [
    "# Example 2:\n",
    "\n",
    "print(\"reversed: \\t\",end=\"\")\n",
    "for ch in reversed(\"abc\"):\n",
    "    print(ch,end=\";\")\n",
    "\n",
    "print(\"\\nenuemerated:\\t\",end=\"\")\n",
    "for i,ch in enumerate(\"abc\"):\n",
    "    print(i,\"=\",ch,end=\"; \")\n",
    "\n",
    "print(\"\\nzip'ed: \")\n",
    "for a,x in zip(\"abc\",\"xyz\"):\n",
    "    print(a,\":\",x)"
   ]
  },
  {
   "cell_type": "markdown",
   "metadata": {
    "id": "TT0GSyRe1Z21"
   },
   "source": [
    "### `for` loop inside `for` loop"
   ]
  },
  {
   "cell_type": "code",
   "execution_count": null,
   "metadata": {
    "ExecuteTime": {
     "end_time": "2021-10-04T12:09:53.208838Z",
     "start_time": "2021-10-04T12:09:53.132667Z"
    },
    "id": "xgbMTAwP1Z21",
    "outputId": "7eedc8fb-b6c2-4013-9c1f-dce54da4f1c5"
   },
   "outputs": [
    {
     "name": "stdout",
     "output_type": "stream",
     "text": [
      "1 2 3 4 5 6 7 8 9 10 \n",
      "2 4 6 8 10 12 14 16 18 20 \n",
      "3 6 9 12 15 18 21 24 27 30 \n",
      "4 8 12 16 20 24 28 32 36 40 \n",
      "5 10 15 20 25 30 35 40 45 50 \n",
      "6 12 18 24 30 36 42 48 54 60 \n",
      "7 14 21 28 35 42 49 56 63 70 \n",
      "8 16 24 32 40 48 56 64 72 80 \n",
      "9 18 27 36 45 54 63 72 81 90 \n",
      "10 20 30 40 50 60 70 80 90 100 \n"
     ]
    }
   ],
   "source": [
    "# Example 1: printing a multiplication table of the first ten numbers\n",
    "\n",
    "# outer loop\n",
    "for i in range(1, 11):\n",
    "    # nested loop\n",
    "    for j in range(1, 11):   # to iterate from 1 to 10\n",
    "        print(i * j, end=' ')    # print multiplication\n",
    "    print()"
   ]
  },
  {
   "cell_type": "markdown",
   "metadata": {
    "id": "f7_mNMdn1Z22"
   },
   "source": [
    "**Explanation:**\n",
    "\n",
    "* In this program, the outer **`for`** loop is iterate numbers from 1 to 10. The **`range()`** return 10 numbers. So total number of iteration of the outer loop is 10.\n",
    "* In the first iteration of the nested loop, the number is 1. In the next, it 2. and so on till 10.\n",
    "* Next, the inner loop will also execute ten times because we rea printing multiplication table up to ten. For each iteration of the outer loop, the inner loop will execute ten times.\n",
    "* In each iteration of an inner loop, we calculated the multiplication of two numbers."
   ]
  },
  {
   "cell_type": "code",
   "execution_count": null,
   "metadata": {
    "ExecuteTime": {
     "end_time": "2021-10-04T12:09:53.312842Z",
     "start_time": "2021-10-04T12:09:53.211769Z"
    },
    "id": "JfxdKD0v1Z22",
    "outputId": "7405d82e-3437-42e9-dbe7-57ee7ad55511"
   },
   "outputs": [
    {
     "name": "stdout",
     "output_type": "stream",
     "text": [
      "Python\n",
      "Matlab\n",
      "R\n",
      "C\n",
      "C++\n"
     ]
    }
   ],
   "source": [
    "# Example 1:\n",
    "\n",
    "person = {\n",
    "    'first_name':'Milaan',\n",
    "    'last_name':'Parmar',\n",
    "    'age':96,\n",
    "    'country':'Finland',\n",
    "    'is_marred':True,\n",
    "    'skills':['Python', 'Matlab', 'R', 'C', 'C++'],\n",
    "    'address':{\n",
    "        'street':'Space street',\n",
    "        'zipcode':'02210'\n",
    "    }\n",
    "}\n",
    "for key in person:\n",
    "    if key == 'skills':\n",
    "        for skill in person['skills']:\n",
    "            print(skill)"
   ]
  },
  {
   "cell_type": "code",
   "execution_count": null,
   "metadata": {
    "ExecuteTime": {
     "end_time": "2021-10-04T12:09:53.465185Z",
     "start_time": "2021-10-04T12:09:53.315774Z"
    },
    "id": "b3vVfMhe1Z22",
    "outputId": "ace4dd1f-2ec3-4216-e4ec-6b9bc07eed3e"
   },
   "outputs": [
    {
     "name": "stdout",
     "output_type": "stream",
     "text": [
      "17\n",
      "19\n",
      "23\n",
      "29\n",
      "31\n",
      "37\n",
      "41\n",
      "43\n",
      "47\n",
      "53\n",
      "340\n"
     ]
    }
   ],
   "source": [
    "# Example 2: Write a code to add all the prime numbers between 17 to 53 using while loop\n",
    "# 17, 19, 23, 29, 31, 37, 41, 43, 47, 53\n",
    "\n",
    "sum=0\n",
    "for i in range(17,54):\n",
    "    for j in range(2,i):\n",
    "        if i%j ==0:\n",
    "            break\n",
    "    else:\n",
    "        sum=sum+i\n",
    "        print(i)\n",
    "print(sum)"
   ]
  },
  {
   "cell_type": "code",
   "execution_count": null,
   "metadata": {
    "ExecuteTime": {
     "end_time": "2021-10-04T12:09:53.556006Z",
     "start_time": "2021-10-04T12:09:53.468116Z"
    },
    "code_folding": [],
    "id": "UlO9HhvZ1Z23",
    "outputId": "795aae7c-7022-4767-a6c2-104f52a0b8b0"
   },
   "outputs": [
    {
     "name": "stdout",
     "output_type": "stream",
     "text": [
      "Red flower\n",
      "Red watch\n",
      "Pink flower\n",
      "Pink watch\n"
     ]
    }
   ],
   "source": [
    "# Example 3: iterating through nested for loops\n",
    "\n",
    "color = ['Red', 'Pink']\n",
    "element = ['flower', 'watch']\n",
    "for i in color:\n",
    "    for j in element:\n",
    "        print(i, j)"
   ]
  },
  {
   "cell_type": "code",
   "execution_count": null,
   "metadata": {
    "ExecuteTime": {
     "end_time": "2021-10-04T12:09:53.571631Z",
     "start_time": "2021-10-04T12:09:53.558938Z"
    },
    "id": "PYp_FUHC1Z23",
    "outputId": "1b9e44ee-caf1-4420-8bb7-711a96fc8f2c"
   },
   "outputs": [
    {
     "name": "stdout",
     "output_type": "stream",
     "text": [
      "45\n"
     ]
    }
   ],
   "source": [
    "# Example 4: A use case of a nested for loop in `list_of_lists` case would be\n",
    "\n",
    "list_of_lists = [[1, 2, 3], [4, 5, 6], [7, 8, 9]]\n",
    "total=0\n",
    "for list1 in list_of_lists:\n",
    "    for i in list1:\n",
    "        total = total+i\n",
    "print(total)"
   ]
  },
  {
   "cell_type": "code",
   "execution_count": null,
   "metadata": {
    "ExecuteTime": {
     "end_time": "2021-10-04T12:09:53.678564Z",
     "start_time": "2021-10-04T12:09:53.576026Z"
    },
    "id": "qu6_fR3U1Z23",
    "outputId": "08f00205-99e1-4194-9ebf-54c7831fca8f"
   },
   "outputs": [
    {
     "name": "stdout",
     "output_type": "stream",
     "text": [
      "iteration 0: 1\n",
      "iteration 1: 2\n",
      "iteration 2: 3\n",
      "iteration 3: 4\n",
      "iteration 4: 5\n",
      "iteration 5: 6\n"
     ]
    }
   ],
   "source": [
    "# Example 5:\n",
    "\n",
    "numbers = [[1, 2, 3], [4, 5, 6]]\n",
    "\n",
    "cnt = 0\n",
    "for i in numbers:\n",
    "    for j in i:\n",
    "        print('iteration', cnt, end=': ')\n",
    "        print(j)\n",
    "        cnt = cnt + 1"
   ]
  },
  {
   "cell_type": "markdown",
   "metadata": {
    "id": "IqWFKfAT1Z23"
   },
   "source": [
    "#### Example: Nested `for` loop to print pattern\n",
    "\n",
    "```python\n",
    "*\n",
    "* *\n",
    "* * *\n",
    "* * * *\n",
    "* * * * *\n",
    "```\n",
    "\n",
    "```python\n",
    ">>>rows = 5\n",
    "   # outer loop\n",
    ">>>for i in range(1, rows + 1):\n",
    "       # inner loop\n",
    ">>>    for j in range(1, i + 1):\n",
    ">>>        print(\"*\", end=\" \")\n",
    ">>>    print('')\n",
    "```\n",
    "\n",
    "<div>\n",
    "<img src=\"../img/nforloop2.png\" width=\"600\"/>\n",
    "</div>\n",
    "\n",
    "**Explanation:**\n",
    "\n",
    "* In this program, the outer loop is the number of rows print.\n",
    "* The number of rows is five, so the outer loop will execute five times\n",
    "* Next, the inner loop is the total number of columns in each row.\n",
    "* For each iteration of the outer loop, the columns count gets incremented by 1\n",
    "* In the first iteration of the outer loop, the column count is 1, in the next it 2. and so on.\n",
    "* The inner loop iteration is equal to the count of columns.\n",
    "* In each iteration of an inner loop, we print star"
   ]
  },
  {
   "cell_type": "code",
   "execution_count": null,
   "metadata": {
    "ExecuteTime": {
     "end_time": "2021-10-04T12:09:53.800634Z",
     "start_time": "2021-10-04T12:09:53.681496Z"
    },
    "id": "mbblY1qk1Z24",
    "outputId": "2cb35b57-280a-424c-9461-fcd56041e04a"
   },
   "outputs": [
    {
     "name": "stdout",
     "output_type": "stream",
     "text": [
      "* \n",
      "* * \n",
      "* * * \n",
      "* * * * \n",
      "* * * * * \n"
     ]
    }
   ],
   "source": [
    "# Example 1: Method 1\n",
    "\n",
    "rows = 5\n",
    "for i in range(1, rows + 1):    # outer loop\n",
    "    for j in range(1, i + 1):   # inner loop\n",
    "        print(\"*\", end=\" \")\n",
    "    print('')"
   ]
  },
  {
   "cell_type": "code",
   "execution_count": null,
   "metadata": {
    "ExecuteTime": {
     "end_time": "2021-10-04T12:10:19.154180Z",
     "start_time": "2021-10-04T12:09:53.805520Z"
    },
    "id": "bbYJyKfO1Z24",
    "outputId": "1f6255b8-307d-46ee-864c-aaf2f86d51c8"
   },
   "outputs": [
    {
     "name": "stdout",
     "output_type": "stream",
     "text": [
      "How many rows? 5\n",
      "* \n",
      "* * \n",
      "* * * \n",
      "* * * * \n",
      "* * * * * \n"
     ]
    }
   ],
   "source": [
    "# Example 1: Method 2 - Print Floyd Triangle with user input\n",
    "\n",
    "\n",
    "ran = input(\"How many rows? \")\n",
    "\n",
    "rang = int(ran)\n",
    "k = 1\n",
    "for i in range(1, rang+1):\n",
    "    for j in range(1, i+1):\n",
    "        print(\"*\", end=\" \")\n",
    "        k = k + 1\n",
    "    print()"
   ]
  },
  {
   "cell_type": "code",
   "execution_count": null,
   "metadata": {
    "ExecuteTime": {
     "end_time": "2021-10-04T12:10:19.169316Z",
     "start_time": "2021-10-04T12:10:19.157142Z"
    },
    "id": "XzV1NMJ-1Z24",
    "outputId": "756fa9b3-ed60-4138-b71e-3908df155706",
    "scrolled": true
   },
   "outputs": [
    {
     "name": "stdout",
     "output_type": "stream",
     "text": [
      "1  \n",
      "2 2  \n",
      "3 3 3  \n",
      "4 4 4 4  \n",
      "5 5 5 5 5  \n"
     ]
    }
   ],
   "source": [
    "# Example 2: Method 1\n",
    "\n",
    "for i in range(1,6):       # numbers from 0,1,2,3,4,5\n",
    "    for j in range(1, i+1):\n",
    "        print(i, end=\" \")  # print number\n",
    "    print(\" \")             # line after each row to display pattern correctly"
   ]
  },
  {
   "cell_type": "code",
   "execution_count": null,
   "metadata": {
    "ExecuteTime": {
     "end_time": "2021-10-04T12:10:19.338754Z",
     "start_time": "2021-10-04T12:10:19.171271Z"
    },
    "id": "WwY6AULD1Z24",
    "outputId": "003676d9-c186-4796-c964-6b2389c90dc8"
   },
   "outputs": [
    {
     "name": "stdout",
     "output_type": "stream",
     "text": [
      " \n",
      "1  \n",
      "2 2  \n",
      "3 3 3  \n",
      "4 4 4 4  \n",
      "5 5 5 5 5  \n"
     ]
    }
   ],
   "source": [
    "# Example 2: Method 2\n",
    "\n",
    "rows = 6\n",
    "for num in range(rows):     # from 0,1,2,3,4,5\n",
    "    for i in range(num):\n",
    "        print(num,end=\" \")  # print the number\n",
    "    print(\" \")              # line after each row to print"
   ]
  },
  {
   "cell_type": "code",
   "execution_count": null,
   "metadata": {
    "ExecuteTime": {
     "end_time": "2021-10-04T12:10:19.539923Z",
     "start_time": "2021-10-04T12:10:19.342658Z"
    },
    "id": "zjfJ1TOd1Z25",
    "outputId": "3d21195e-3301-4d7f-b9ca-e0bcb27231c4"
   },
   "outputs": [
    {
     "name": "stdout",
     "output_type": "stream",
     "text": [
      "1  \n",
      "2 2  \n",
      "3 3 3  \n",
      "4 4 4 4  \n",
      "5 5 5 5 5  \n"
     ]
    }
   ],
   "source": [
    "# Example 3: Method 3\n",
    "\n",
    "n=5  # giving number of rows i want\n",
    "x = 0\n",
    "for i in range(0 , n):         # from 0 to 4\n",
    "    x += 1                     # equivalent to x=x+1\n",
    "    for j in range(0, i + 1):  # 0,1,2,3,4,5\n",
    "        print(x , end=\" \")\n",
    "    print(\" \")"
   ]
  },
  {
   "cell_type": "code",
   "execution_count": null,
   "metadata": {
    "ExecuteTime": {
     "end_time": "2021-10-04T12:10:19.693243Z",
     "start_time": "2021-10-04T12:10:19.549688Z"
    },
    "id": "wygk0BAX1Z25",
    "outputId": "6fc8a0a5-b788-4d6d-e9ec-73b8f7a58b9b"
   },
   "outputs": [
    {
     "name": "stdout",
     "output_type": "stream",
     "text": [
      "1  \n",
      "1 2  \n",
      "1 2 3  \n",
      "1 2 3 4  \n",
      "1 2 3 4 5  \n"
     ]
    }
   ],
   "source": [
    "# Example 4: Method 1\n",
    "\n",
    "rows = 5\n",
    "for row in range(1, rows+1):       # from 1\n",
    "    for column in range(1, row+1): # from 1,2,3,4,5\n",
    "        print(column, end=\" \")\n",
    "    print(\" \")"
   ]
  },
  {
   "cell_type": "code",
   "execution_count": null,
   "metadata": {
    "ExecuteTime": {
     "end_time": "2021-10-04T12:10:19.953986Z",
     "start_time": "2021-10-04T12:10:19.699105Z"
    },
    "id": "_7C5pNSH1Z25",
    "outputId": "ecb974c0-debf-4817-c684-d524cc388e00",
    "scrolled": false
   },
   "outputs": [
    {
     "name": "stdout",
     "output_type": "stream",
     "text": [
      "1 \n",
      "1 2 \n",
      "1 2 3 \n",
      "1 2 3 4 \n",
      "1 2 3 4 5 \n"
     ]
    }
   ],
   "source": [
    "# Example 4: Method 2\n",
    "\n",
    "for i in range (1, 6):  # rows from 1 to 5\n",
    "    for j in range(i):  # column range(i)\n",
    "        print (j + 1, end = ' ')\n",
    "    print ()"
   ]
  },
  {
   "cell_type": "code",
   "execution_count": null,
   "metadata": {
    "ExecuteTime": {
     "end_time": "2021-10-04T12:10:20.121956Z",
     "start_time": "2021-10-04T12:10:19.956919Z"
    },
    "id": "zsWtjxl51Z25",
    "outputId": "843ffca5-8996-4d70-ebdb-40181e4ded65",
    "scrolled": true
   },
   "outputs": [
    {
     "name": "stdout",
     "output_type": "stream",
     "text": [
      "1  \n",
      "2 1  \n",
      "3 2 1  \n",
      "4 3 2 1  \n",
      "5 4 3 2 1  \n"
     ]
    },
    {
     "data": {
      "text/plain": [
       "'\\ni = 1 2 3 4 5 \\n\\n# loop 1\\nfor i = 1, range (1,0,-1): j=1\\ni = 1, print: 1 \\n\\n# loop 2\\nfor  i =2, range (2,0,-1): j = 2,1\\ni = 2, print: 2,1\\n'"
      ]
     },
     "execution_count": 42,
     "metadata": {},
     "output_type": "execute_result"
    }
   ],
   "source": [
    "# Example 5: Method 1\n",
    "\n",
    "for i in range (1,6):\n",
    "    for j in range (i,0,-1):\n",
    "        print(j, end=\" \")\n",
    "    print(\" \")\n",
    "\n",
    "\"\"\"\n",
    "i = 1 2 3 4 5\n",
    "\n",
    "# loop 1\n",
    "for i = 1, range (1,0,-1): j=1\n",
    "i = 1, print: 1\n",
    "\n",
    "# loop 2\n",
    "for  i =2, range (2,0,-1): j = 2,1\n",
    "i = 2, print: 2,1\n",
    "\"\"\""
   ]
  },
  {
   "cell_type": "code",
   "execution_count": null,
   "metadata": {
    "ExecuteTime": {
     "end_time": "2021-10-04T12:10:20.245002Z",
     "start_time": "2021-10-04T12:10:20.124886Z"
    },
    "id": "YL9Eimvi1Z26",
    "outputId": "95176286-b0d9-4ebf-d80e-762cbaac2892",
    "scrolled": true
   },
   "outputs": [
    {
     "name": "stdout",
     "output_type": "stream",
     "text": [
      "1 \n",
      "2 1 \n",
      "3 2 1 \n",
      "4 3 2 1 \n",
      "5 4 3 2 1 \n"
     ]
    }
   ],
   "source": [
    "# Example 5: Method 2\n",
    "\n",
    "for i in range(0,5):\n",
    "    for j in range(i+1,0,-1):\n",
    "        print(j, end=\" \")\n",
    "    print()"
   ]
  },
  {
   "cell_type": "code",
   "execution_count": null,
   "metadata": {
    "ExecuteTime": {
     "end_time": "2021-10-04T12:10:20.398322Z",
     "start_time": "2021-10-04T12:10:20.249887Z"
    },
    "id": "o3keupvM1Z26",
    "outputId": "f5af7021-071b-4b7f-ba5f-222ec7d88a9b",
    "scrolled": true
   },
   "outputs": [
    {
     "name": "stdout",
     "output_type": "stream",
     "text": [
      "* * * * *  \n",
      "* * * *  \n",
      "* * *  \n",
      "* *  \n",
      "*  \n"
     ]
    }
   ],
   "source": [
    "# Example 6: Example 1 reverse pyramid\n",
    "\n",
    "\n",
    "for i in range (1,6):            # rows from 1 to 5\n",
    "    for j in range (5,i-1,-1):   # column range(5,0,-1) = 54321\n",
    "        print (\"*\", end=\" \"),\n",
    "    print (\" \")"
   ]
  },
  {
   "cell_type": "code",
   "execution_count": null,
   "metadata": {
    "ExecuteTime": {
     "end_time": "2021-10-04T12:10:20.521369Z",
     "start_time": "2021-10-04T12:10:20.401256Z"
    },
    "id": "MyfONLYw1Z2_",
    "outputId": "c210f9cd-3b2f-4fbe-c382-f0b2437392c1"
   },
   "outputs": [
    {
     "name": "stdout",
     "output_type": "stream",
     "text": [
      "5 5 5 5 5  \n",
      "4 4 4 4  \n",
      "3 3 3  \n",
      "2 2  \n",
      "1  \n"
     ]
    }
   ],
   "source": [
    "# Example 7: Example 2 reverse pyramid Method 1\n",
    "\n",
    "rows = 5\n",
    "#        range(1,10,2)  # from 1,3,5,7,9\n",
    "for i in range(rows,0,-1):  # from 3,2,1\n",
    "    num = i\n",
    "    for j in range(0,i):\n",
    "        print(num, end=\" \")\n",
    "    print(\" \")"
   ]
  },
  {
   "cell_type": "code",
   "execution_count": null,
   "metadata": {
    "ExecuteTime": {
     "end_time": "2021-10-04T12:10:20.736215Z",
     "start_time": "2021-10-04T12:10:20.526255Z"
    },
    "id": "yOW6Va-M1Z2_",
    "outputId": "4616a3b9-4c8a-4258-badb-2dce5e7184f2"
   },
   "outputs": [
    {
     "name": "stdout",
     "output_type": "stream",
     "text": [
      "5 5 5 5 5  \n",
      "4 4 4 4  \n",
      "3 3 3  \n",
      "2 2  \n",
      "1  \n"
     ]
    },
    {
     "data": {
      "text/plain": [
       "'\\ni = 5 4 3 2 1 \\n\\n# loop 1\\nfor i = 5, range (0,5): j=5 4 3 2 1\\ni = 5, print: 5 5 5 5 5\\n\\n# loop 2\\nfor i = 4, range (0,4): j=4 3 2 1\\ni = 4, print: 4 4 4 4 \\n'"
      ]
     },
     "execution_count": 46,
     "metadata": {},
     "output_type": "execute_result"
    }
   ],
   "source": [
    "# Example 7: Example 2 reverse pyramid Method 2\n",
    "\n",
    "for i in range(5,0,-1):  # range from 5 4 3 2 1\n",
    "    for j in range(0,i): # range(0,5)=0 1 2 3 4\n",
    "        print(i, end=\" \")\n",
    "    print(\" \")\n",
    "\n",
    "\"\"\"\n",
    "i = 5 4 3 2 1\n",
    "\n",
    "# loop 1\n",
    "for i = 5, range (0,5): j=5 4 3 2 1\n",
    "i = 5, print: 5 5 5 5 5\n",
    "\n",
    "# loop 2\n",
    "for i = 4, range (0,4): j=4 3 2 1\n",
    "i = 4, print: 4 4 4 4\n",
    "\"\"\""
   ]
  },
  {
   "cell_type": "code",
   "execution_count": null,
   "metadata": {
    "ExecuteTime": {
     "end_time": "2021-10-04T12:10:20.873909Z",
     "start_time": "2021-10-04T12:10:20.739145Z"
    },
    "id": "Zsh79b1N1Z3A",
    "outputId": "f6a251c3-c7bb-457c-979f-ae4b1948ad87",
    "scrolled": true
   },
   "outputs": [
    {
     "name": "stdout",
     "output_type": "stream",
     "text": [
      "1 2 3 4 5 \n",
      "1 2 3 4 \n",
      "1 2 3 \n",
      "1 2 \n",
      "1 \n"
     ]
    }
   ],
   "source": [
    "# Example 8: Method 1\n",
    "\n",
    "for i in range(5,0,-1):  # rows range = 5 4 3 2 1\n",
    "    for j in range(1,i+1): # column range\n",
    "        print(j, end =\" \")\n",
    "    print()"
   ]
  },
  {
   "cell_type": "code",
   "execution_count": null,
   "metadata": {
    "ExecuteTime": {
     "end_time": "2021-10-04T12:10:21.094614Z",
     "start_time": "2021-10-04T12:10:20.877817Z"
    },
    "id": "hAUhcU--1Z3A",
    "outputId": "d3c91a6d-8539-45c4-b3b7-ba4ca330ffdc",
    "scrolled": false
   },
   "outputs": [
    {
     "name": "stdout",
     "output_type": "stream",
     "text": [
      "1 2 3 4 5  \n",
      "1 2 3 4  \n",
      "1 2 3  \n",
      "1 2  \n",
      "1  \n"
     ]
    },
    {
     "data": {
      "text/plain": [
       "'\\ni = 1 2 3 4 5 \\n\\n# loop 1\\nfor i = 1, range (5): j=0 1 2 3 4\\ni = 1, print: 1 2 3 4 5\\n\\n# loop 2\\nfor i = 2, range (4): j=0 1 2 3\\ni = 2, print: 1 2 3 4\\n\\n# loop 3\\nfor i = 3, range (3): j=0 1 2\\ni = 3, print: 1 2 3\\n\\n# loop 4\\nfor i = 4, range (2): j=0 1\\ni = 4, print: 1 2\\n\\n# loop 5\\nfor i = 5, range (1): j=0 \\ni = 5, print: 1 \\n'"
      ]
     },
     "execution_count": 48,
     "metadata": {},
     "output_type": "execute_result"
    }
   ],
   "source": [
    "# Example 8: Method 2\n",
    "\n",
    "for i in range(1,6):\n",
    "    for j in range(6-i):\n",
    "        print(j+1, end=\" \")\n",
    "    print(\" \")\n",
    "\n",
    "\"\"\"\n",
    "i = 1 2 3 4 5\n",
    "\n",
    "# loop 1\n",
    "for i = 1, range (5): j=0 1 2 3 4\n",
    "i = 1, print: 1 2 3 4 5\n",
    "\n",
    "# loop 2\n",
    "for i = 2, range (4): j=0 1 2 3\n",
    "i = 2, print: 1 2 3 4\n",
    "\n",
    "# loop 3\n",
    "for i = 3, range (3): j=0 1 2\n",
    "i = 3, print: 1 2 3\n",
    "\n",
    "# loop 4\n",
    "for i = 4, range (2): j=0 1\n",
    "i = 4, print: 1 2\n",
    "\n",
    "# loop 5\n",
    "for i = 5, range (1): j=0\n",
    "i = 5, print: 1\n",
    "\"\"\""
   ]
  },
  {
   "cell_type": "code",
   "execution_count": null,
   "metadata": {
    "ExecuteTime": {
     "end_time": "2021-10-04T12:10:21.227425Z",
     "start_time": "2021-10-04T12:10:21.103408Z"
    },
    "id": "t4MT26Az1Z3B"
   },
   "outputs": [],
   "source": [
    "# Example 9: Print following rectangle of stars of 6 rows and 3 columns\n"
   ]
  },
  {
   "cell_type": "code",
   "execution_count": null,
   "metadata": {
    "ExecuteTime": {
     "end_time": "2021-10-04T12:10:21.427621Z",
     "start_time": "2021-10-04T12:10:21.232310Z"
    },
    "id": "k-PWy23n1Z3B",
    "outputId": "a213b722-65c9-4292-b3c9-c7dc094ef314"
   },
   "outputs": [
    {
     "name": "stdout",
     "output_type": "stream",
     "text": [
      "Multiplication table of: 1\n",
      "1 2 3 4 5 6 7 8 9 10 \n",
      "\n",
      "Multiplication table of: 2\n",
      "2 4 6 8 10 12 14 16 18 20 \n",
      "\n",
      "Multiplication table of: 3\n",
      "3 6 9 12 15 18 21 24 27 30 \n",
      "\n",
      "Multiplication table of: 4\n",
      "4 8 12 16 20 24 28 32 36 40 \n",
      "\n",
      "Multiplication table of: 5\n",
      "5 10 15 20 25 30 35 40 45 50 \n",
      "\n"
     ]
    }
   ],
   "source": [
    "# Example 1: Print Multiplication table of a first 5 numbers using `for` loop and `while` loop\n",
    "\n",
    "# outer loop\n",
    "for i in range(1, 6):\n",
    "    print('Multiplication table of:', i)\n",
    "    count = 1\n",
    "    # inner loop to print multiplication table of current number\n",
    "    while count < 11:\n",
    "        print(i * count, end=' ')\n",
    "        count = count + 1\n",
    "    print('\\n')"
   ]
  },
  {
   "cell_type": "markdown",
   "metadata": {
    "id": "uHjCKMXI1Z3B"
   },
   "source": [
    "**Explanation:**\n",
    "\n",
    "* In this program, we iterate the first five numbers one by one using the outer loop and range function\n",
    "* Next, in each iteration of the outer loop, we will use the inner while loop to print the multiplication table of the current number"
   ]
  },
  {
   "cell_type": "code",
   "execution_count": null,
   "metadata": {
    "ExecuteTime": {
     "end_time": "2021-10-04T12:10:21.551647Z",
     "start_time": "2021-10-04T12:10:21.431529Z"
    },
    "id": "i07u43kt1Z3C",
    "outputId": "9f67ff70-a9a1-4073-abcb-0be271d06f15"
   },
   "outputs": [
    {
     "name": "stdout",
     "output_type": "stream",
     "text": [
      "Amy Amy Amy Amy Amy \n",
      "Bella Bella Bella Bella Bella \n",
      "Cathy Cathy Cathy Cathy Cathy \n"
     ]
    }
   ],
   "source": [
    "# Example 2:\n",
    "\n",
    "names = ['Amy', 'Bella', 'Cathy']\n",
    "\n",
    "for name in names:  # outer loop\n",
    "    count = 0       # inner while loop\n",
    "    while count < 5:\n",
    "        print(name, end=' ')\n",
    "        # increment counter\n",
    "        count = count + 1\n",
    "    print()"
   ]
  },
  {
   "cell_type": "markdown",
   "metadata": {
    "id": "2wVnrxa-1Z3C"
   },
   "source": [
    "## `for ` loop in one line\n",
    "\n",
    "We can also formulate the **`for`** loop statement in one line to reduce the number of lines of code. For example:"
   ]
  },
  {
   "cell_type": "code",
   "execution_count": null,
   "metadata": {
    "ExecuteTime": {
     "end_time": "2021-10-04T12:10:21.719615Z",
     "start_time": "2021-10-04T12:10:21.556531Z"
    },
    "id": "Fwu8KqFZ1Z3C",
    "outputId": "4c34b688-0a99-41ad-bb1c-28940b3e8c2c"
   },
   "outputs": [
    {
     "name": "stdout",
     "output_type": "stream",
     "text": [
      "[33, 63, 93, 36, 66, 96, 39, 69, 99]\n"
     ]
    }
   ],
   "source": [
    "# Example 1: regular `for` loop code\n",
    "\n",
    "first = [3, 6, 9]\n",
    "second = [30, 60, 90]\n",
    "final = []\n",
    "for i in first:\n",
    "    for j in second:\n",
    "        final.append(i+j)\n",
    "print(final)"
   ]
  },
  {
   "cell_type": "code",
   "execution_count": null,
   "metadata": {
    "ExecuteTime": {
     "end_time": "2021-10-04T12:10:21.858284Z",
     "start_time": "2021-10-04T12:10:21.723522Z"
    },
    "id": "MOdHemdD1Z3C",
    "outputId": "8fcf9aad-b1ee-4481-eb15-84e0226ced1e"
   },
   "outputs": [
    {
     "name": "stdout",
     "output_type": "stream",
     "text": [
      "[33, 63, 93, 36, 66, 96, 39, 69, 99]\n"
     ]
    }
   ],
   "source": [
    "# Example 1: single line `for` loop code\n",
    "\n",
    "first = [3, 6, 9]\n",
    "second = [30, 60, 90]\n",
    "final = [i+j for i in first for j in second]\n",
    "print(final)"
   ]
  },
  {
   "cell_type": "code",
   "execution_count": null,
   "metadata": {
    "ExecuteTime": {
     "end_time": "2021-10-04T12:10:21.997934Z",
     "start_time": "2021-10-04T12:10:21.861219Z"
    },
    "id": "4bzWuBrv1Z3C",
    "outputId": "981a16f2-715b-4478-814d-9914d2372ab4"
   },
   "outputs": [
    {
     "name": "stdout",
     "output_type": "stream",
     "text": [
      "[2, 6, 8, 10]\n"
     ]
    }
   ],
   "source": [
    "# Example 2: Print the even numbers by adding 1 to the odd numbers in the list\n",
    "\n",
    "odd = [1, 5, 7, 9]\n",
    "even = [i + 1 for i in odd if i % 2 == 1]\n",
    "print(even)"
   ]
  },
  {
   "cell_type": "code",
   "execution_count": null,
   "metadata": {
    "ExecuteTime": {
     "end_time": "2021-10-04T12:10:22.151254Z",
     "start_time": "2021-10-04T12:10:22.000865Z"
    },
    "id": "flUts-Eg1Z3D",
    "outputId": "4b5e6908-fff4-4170-c2d8-1e43ed8b1802"
   },
   "outputs": [
    {
     "name": "stdout",
     "output_type": "stream",
     "text": [
      "[[30, 60], [30, 90], [60, 30], [60, 90], [90, 60], [90, 30]]\n"
     ]
    }
   ],
   "source": [
    "# Example 3:\n",
    "\n",
    "final = [[x, y] for x in [30, 60, 90] for y in [60, 30, 90] if x != y]\n",
    "print(final)"
   ]
  },
  {
   "cell_type": "code",
   "execution_count": null,
   "metadata": {
    "ExecuteTime": {
     "end_time": "2021-10-04T12:10:22.335828Z",
     "start_time": "2021-10-04T12:10:22.154187Z"
    },
    "id": "NT_Utjff1Z3D",
    "outputId": "22b04570-4986-46d0-e0e6-2750826f06a8"
   },
   "outputs": [
    {
     "name": "stdout",
     "output_type": "stream",
     "text": [
      "Numbers[ 0 ] = 4\n",
      "Numbers[ 1 ] = 2\n",
      "Numbers[ 2 ] = 5\n",
      "Numbers[ 3 ] = 7\n",
      "Numbers[ 4 ] = 8\n"
     ]
    }
   ],
   "source": [
    "# Example 1: Print elements of the list with its index number using the `enumerate()` function\n",
    "\n",
    "#In this program, the for loop iterates through the list and displays the\n",
    "#elements along with its index number.\n",
    "\n",
    "numbers = [4, 2, 5, 7, 8]\n",
    "for i, v in enumerate(numbers):\n",
    "    print('Numbers[', i, '] =', v)\n"
   ]
  },
  {
   "cell_type": "code",
   "execution_count": null,
   "metadata": {
    "ExecuteTime": {
     "end_time": "2021-10-04T12:10:22.474496Z",
     "start_time": "2021-10-04T12:10:22.338757Z"
    },
    "id": "xdjv87um1Z3D",
    "outputId": "3d1b869b-b978-4ddb-b0ac-2a56576c0b80"
   },
   "outputs": [
    {
     "name": "stdout",
     "output_type": "stream",
     "text": [
      "Index: 0   Value: 1\n",
      "Index: 1   Value: 2\n",
      "Index: 2   Value: 4\n",
      "Index: 3   Value: 6\n",
      "Index: 4   Value: 8\n"
     ]
    }
   ],
   "source": [
    "# Example 2: Printing the elements of the list with its index number using the `range()` function\n",
    "\n",
    "numbers = [1, 2, 4, 6, 8]\n",
    "size = len(numbers)\n",
    "for i in range(size):\n",
    "    print('Index:', i, \" \", 'Value:', numbers[i])"
   ]
  },
  {
   "cell_type": "code",
   "execution_count": null,
   "metadata": {
    "ExecuteTime": {
     "end_time": "2021-10-04T12:10:22.613169Z",
     "start_time": "2021-10-04T12:10:22.477429Z"
    },
    "id": "ZxK--Ptz1Z3E",
    "outputId": "c5e56ac5-15f5-4123-ebd4-ce820569c104",
    "scrolled": true
   },
   "outputs": [
    {
     "name": "stdout",
     "output_type": "stream",
     "text": [
      "P\n",
      "y\n",
      "t\n",
      "h\n",
      "o\n",
      "n\n",
      "P\n",
      "y\n",
      "t\n",
      "h\n",
      "o\n",
      "n\n"
     ]
    }
   ],
   "source": [
    "# Example 1: For loop with string\n",
    "\n",
    "# Method 1:\n",
    "language = 'Python'\n",
    "for letter in language:\n",
    "    print(letter)\n",
    "\n",
    "# Method 2: using range() function\n",
    "\n",
    "for i in range(len(language)):\n",
    "    print(language[i])"
   ]
  },
  {
   "cell_type": "code",
   "execution_count": null,
   "metadata": {
    "ExecuteTime": {
     "end_time": "2021-10-04T12:10:22.721568Z",
     "start_time": "2021-10-04T12:10:22.617079Z"
    },
    "id": "9pbvcdF91Z3F",
    "outputId": "021b3b43-f70a-48ca-f94f-83da8d16e391"
   },
   "outputs": [
    {
     "name": "stdout",
     "output_type": "stream",
     "text": [
      "H\n",
      "e\n",
      "l\n",
      "l\n",
      "o\n",
      " \n",
      "W\n",
      "o\n",
      "r\n",
      "l\n",
      "d\n"
     ]
    }
   ],
   "source": [
    "# Example 2: Printing the elements of a string using for loop\n",
    "\n",
    "for i in 'Hello World':\n",
    "    print(i)"
   ]
  },
  {
   "cell_type": "code",
   "execution_count": null,
   "metadata": {
    "ExecuteTime": {
     "end_time": "2021-10-04T12:10:22.843641Z",
     "start_time": "2021-10-04T12:10:22.724500Z"
    },
    "id": "5RBn6XdI1Z3F",
    "outputId": "f58d165d-acb8-4470-d1ce-608216600c5a"
   },
   "outputs": [
    {
     "name": "stdout",
     "output_type": "stream",
     "text": [
      "A l a n "
     ]
    }
   ],
   "source": [
    "# Example 3: Access all characters of a string\n",
    "\n",
    "name = \"Alan\"\n",
    "for i in name:\n",
    "    print(i, end=' ')"
   ]
  },
  {
   "cell_type": "code",
   "execution_count": null,
   "metadata": {
    "ExecuteTime": {
     "end_time": "2021-10-04T12:10:22.967662Z",
     "start_time": "2021-10-04T12:10:22.848523Z"
    },
    "id": "Zf9J94at1Z3F",
    "outputId": "259b030a-682f-4e77-f454-6615d4555b74"
   },
   "outputs": [
    {
     "name": "stdout",
     "output_type": "stream",
     "text": [
      "n a l A "
     ]
    }
   ],
   "source": [
    "# Example 4: Iterate string in reverse order\n",
    "\n",
    "name = \"Alan\"\n",
    "for i in name[::-1]:\n",
    "    print(i, end=' ')"
   ]
  },
  {
   "cell_type": "code",
   "execution_count": null,
   "metadata": {
    "ExecuteTime": {
     "end_time": "2021-10-04T12:10:23.120985Z",
     "start_time": "2021-10-04T12:10:22.971571Z"
    },
    "id": "t1NJtepo1Z3G",
    "outputId": "34da8dcd-4bd8-4850-f425-6d61c1572b82"
   },
   "outputs": [
    {
     "name": "stdout",
     "output_type": "stream",
     "text": [
      "a n   W a "
     ]
    }
   ],
   "source": [
    "# Example 5: Iterate over a particular set of characters in string\n",
    "\n",
    "name = \"Alan Watson\"\n",
    "for char in name[2:7:1]:\n",
    "    print(char, end=' ')"
   ]
  },
  {
   "cell_type": "code",
   "execution_count": null,
   "metadata": {
    "ExecuteTime": {
     "end_time": "2021-10-04T12:10:23.244033Z",
     "start_time": "2021-10-04T12:10:23.123915Z"
    },
    "id": "IrWndVIj1Z3G",
    "outputId": "edbfaa02-4d1c-42e6-89ca-5ecd6065c411",
    "scrolled": false
   },
   "outputs": [
    {
     "name": "stdout",
     "output_type": "stream",
     "text": [
      "Remember,\n",
      "Red,\n",
      "hope\n",
      "is\n",
      "a\n",
      "good\n",
      "thing,\n",
      "maybe\n",
      "the\n",
      "best\n",
      "of\n",
      "things,\n",
      "and\n",
      "no\n",
      "good\n",
      "thing\n",
      "ever\n",
      "dies\n"
     ]
    }
   ],
   "source": [
    "# Example 6: Iterate over words in a sentence using the `split()` function.\n",
    "\n",
    "dialogue = \"Remember, Red, hope is a good thing, maybe the best of things, and no good thing ever dies\"\n",
    "# split on whitespace\n",
    "for word in dialogue.split():\n",
    "    print(word)"
   ]
  },
  {
   "cell_type": "code",
   "execution_count": null,
   "metadata": {
    "ExecuteTime": {
     "end_time": "2021-10-04T12:10:23.352429Z",
     "start_time": "2021-10-04T12:10:23.246960Z"
    },
    "id": "TJFpqb0Q1Z3G",
    "outputId": "89be6130-ab81-4c50-e53f-5f51abadce33"
   },
   "outputs": [
    {
     "name": "stdout",
     "output_type": "stream",
     "text": [
      "a\n",
      "b\n",
      "c\n",
      "total = 14\n"
     ]
    }
   ],
   "source": [
    "# Example 7:\n",
    "\n",
    "for ch in 'abc':\n",
    "    print(ch)\n",
    "total = 0\n",
    "for i in range(5):  # from 0 to 4\n",
    "    total += i  # total = 0+1+2+3+4 = 10\n",
    "for i,j in [(1,2),(3,1)]:  # [(1),(3)]\n",
    "    total += i**j  # total = 1+3 = 4\n",
    "print(\"total =\",total)"
   ]
  },
  {
   "cell_type": "code",
   "execution_count": null,
   "metadata": {
    "ExecuteTime": {
     "end_time": "2021-10-04T12:10:23.476453Z",
     "start_time": "2021-10-04T12:10:23.356337Z"
    },
    "id": "i6V2Tm1X1Z3H",
    "outputId": "6bc00249-11f8-423d-dd06-ddecd58a3161"
   },
   "outputs": [
    {
     "name": "stdout",
     "output_type": "stream",
     "text": [
      "1\n",
      "2\n",
      "3\n",
      "6\n",
      "9\n"
     ]
    }
   ],
   "source": [
    "# Example 1: Iterate over a list Method 1\n",
    "\n",
    "numbers = [1, 2, 3, 6, 9]\n",
    "for num in numbers:\n",
    "    print(num)"
   ]
  },
  {
   "cell_type": "code",
   "execution_count": null,
   "metadata": {
    "ExecuteTime": {
     "end_time": "2021-10-04T12:10:23.617078Z",
     "start_time": "2021-10-04T12:10:23.480360Z"
    },
    "id": "t1GcqgrQ1Z3H",
    "outputId": "81e6bd05-fcd7-4171-dbbf-2947570c847d",
    "scrolled": true
   },
   "outputs": [
    {
     "name": "stdout",
     "output_type": "stream",
     "text": [
      "1\n",
      "2\n",
      "3\n",
      "6\n",
      "9\n"
     ]
    },
    {
     "data": {
      "text/plain": [
       "[None, None, None, None, None]"
      ]
     },
     "execution_count": 66,
     "metadata": {},
     "output_type": "execute_result"
    }
   ],
   "source": [
    "# Example 2: Iterate over a list Method 2 (list comprehension)\n",
    "\n",
    "numbers = [1, 2, 3, 6, 9]\n",
    "[print(i) for i in numbers]"
   ]
  },
  {
   "cell_type": "code",
   "execution_count": null,
   "metadata": {
    "ExecuteTime": {
     "end_time": "2021-10-04T12:10:23.738173Z",
     "start_time": "2021-10-04T12:10:23.620986Z"
    },
    "id": "z4mH2VPG1Z3H",
    "outputId": "1ce50c55-9aec-4787-f958-6c84179fec9d"
   },
   "outputs": [
    {
     "name": "stdout",
     "output_type": "stream",
     "text": [
      "1\n",
      "2\n",
      "3\n",
      "6\n",
      "9\n"
     ]
    }
   ],
   "source": [
    "# Example 3: Iterate over a list using a for loop and range.\n",
    "\n",
    "numbers = [1, 2, 3, 6, 9]\n",
    "size = len(numbers)\n",
    "for i in range(size):\n",
    "    print(numbers[i])"
   ]
  },
  {
   "cell_type": "code",
   "execution_count": null,
   "metadata": {
    "ExecuteTime": {
     "end_time": "2021-10-04T12:10:23.846571Z",
     "start_time": "2021-10-04T12:10:23.741102Z"
    },
    "id": "_tVE7r6s1Z3H",
    "outputId": "bc54cc7f-e6c3-4d45-a2af-d52c9398cb99",
    "scrolled": true
   },
   "outputs": [
    {
     "name": "stdout",
     "output_type": "stream",
     "text": [
      "[2, 4, 6, 8, 10]\n",
      "[2, 4, 6, 8, 10]\n",
      "[2, 4, 6, 8, 10]\n",
      "[2, 4, 6, 8, 10]\n",
      "[2, 4, 6, 8, 10]\n"
     ]
    }
   ],
   "source": [
    "# Example 4: printing the elements of a list using for loop\n",
    "\n",
    "even_numbers = [2, 4, 6, 8, 10]  # list with 5 elements\n",
    "for i in even_numbers:\n",
    "    print(even_numbers)"
   ]
  },
  {
   "cell_type": "code",
   "execution_count": null,
   "metadata": {
    "ExecuteTime": {
     "end_time": "2021-10-04T12:10:24.000869Z",
     "start_time": "2021-10-04T12:10:23.850479Z"
    },
    "id": "ppp-Sstp1Z3I",
    "outputId": "45627b28-32f5-48ab-b096-e3f49d6507e9"
   },
   "outputs": [
    {
     "name": "stdout",
     "output_type": "stream",
     "text": [
      "60\n",
      "HelloWorld\n",
      "90.96\n"
     ]
    }
   ],
   "source": [
    "# Example 5: printing the elements of a list using for loop\n",
    "\n",
    "list = [60, \"HelloWorld\", 90.96]\n",
    "for i in list:\n",
    "    print(i)"
   ]
  },
  {
   "cell_type": "code",
   "execution_count": null,
   "metadata": {
    "ExecuteTime": {
     "end_time": "2021-10-04T12:10:24.141492Z",
     "start_time": "2021-10-04T12:10:24.023330Z"
    },
    "id": "0yb_iYvc1Z3I",
    "outputId": "ba7aef01-30bd-4704-af21-96aa8274d559"
   },
   "outputs": [
    {
     "name": "stdout",
     "output_type": "stream",
     "text": [
      "The sum is 50\n"
     ]
    }
   ],
   "source": [
    "# Example 6: Program to find the sum of all numbers stored in a list\n",
    "\n",
    "# List of numbers\n",
    "numbers = [6, 5, 3, 8, 4, 2, 5, 6, 11]  # list with 9 elements\n",
    "\n",
    "# variable to store the sum\n",
    "sum = 0\n",
    "\n",
    "# iterate over the list\n",
    "for val in numbers:\n",
    "    sum = sum+val\n",
    "\n",
    "print(\"The sum is\", sum)"
   ]
  },
  {
   "cell_type": "code",
   "execution_count": null,
   "metadata": {
    "ExecuteTime": {
     "end_time": "2021-10-04T12:10:24.306532Z",
     "start_time": "2021-10-04T12:10:24.159071Z"
    },
    "id": "y0MYVgSC1Z3I",
    "outputId": "1af6a87f-d6cc-4c99-9728-9d942fd62bff"
   },
   "outputs": [
    {
     "name": "stdout",
     "output_type": "stream",
     "text": [
      "Square of: 1 is: 1\n",
      "Square of: 2 is: 4\n",
      "Square of: 3 is: 9\n",
      "Square of: 4 is: 16\n",
      "Square of: 5 is: 25\n"
     ]
    }
   ],
   "source": [
    "# Example 7: Calculate the square of each number using for loop.\n",
    "\n",
    "numbers = [1, 2, 3, 4, 5]\n",
    "# iterate over each element in list num\n",
    "for i in numbers:\n",
    "    # ** exponent operator\n",
    "    square = i ** 2\n",
    "    print(\"Square of:\", i, \"is:\", square)"
   ]
  },
  {
   "cell_type": "markdown",
   "metadata": {
    "id": "0VHMt7bE1Z3J"
   },
   "source": [
    "**Explanation:** **`i`** iterates over the 0,1,2,3,4. Every time it takes each value and executes the algorithm inside the loop. It is also possible to iterate over a nested list illustrated below."
   ]
  },
  {
   "cell_type": "code",
   "execution_count": null,
   "metadata": {
    "ExecuteTime": {
     "end_time": "2021-10-04T12:10:24.413953Z",
     "start_time": "2021-10-04T12:10:24.309463Z"
    },
    "id": "Qjq3hQug1Z3J",
    "outputId": "dc526ee8-8e6e-42db-cbda-96909abe7c6f"
   },
   "outputs": [
    {
     "name": "stdout",
     "output_type": "stream",
     "text": [
      "30.0\n"
     ]
    }
   ],
   "source": [
    "# Example 8: Calculate the average of list of numbers\n",
    "\n",
    "numbers = [10, 20, 30, 40, 50]\n",
    "\n",
    "# definite iteration\n",
    "# run loop 5 times because list contains 5 items\n",
    "sum = 0\n",
    "for i in numbers:\n",
    "    sum = sum + i\n",
    "list_size = len(numbers)\n",
    "average = sum / list_size\n",
    "print(average)"
   ]
  },
  {
   "cell_type": "code",
   "execution_count": null,
   "metadata": {
    "ExecuteTime": {
     "end_time": "2021-10-04T12:10:24.553606Z",
     "start_time": "2021-10-04T12:10:24.418839Z"
    },
    "id": "TlnqOBRg1Z3J",
    "outputId": "2e347390-7987-4607-fca0-10549b2fb0b3"
   },
   "outputs": [
    {
     "name": "stdout",
     "output_type": "stream",
     "text": [
      "3\n",
      "Green\n",
      "Pink\n",
      "Blue\n"
     ]
    }
   ],
   "source": [
    "# Example 9: Printing a list using range function\n",
    "\n",
    "color = ['Green', 'Pink', 'Blue']  # list with total 3 elements\n",
    "print(len(color))  # print length of color\n",
    "for i in range(len(color)):\n",
    "    print(color[i])"
   ]
  },
  {
   "cell_type": "code",
   "execution_count": null,
   "metadata": {
    "ExecuteTime": {
     "end_time": "2021-10-04T12:10:24.569228Z",
     "start_time": "2021-10-04T12:10:24.559462Z"
    },
    "id": "AbMFTorA1Z3J",
    "outputId": "ac4137fb-8f3e-428d-a1de-743b65aed52c",
    "scrolled": true
   },
   "outputs": [
    {
     "name": "stdout",
     "output_type": "stream",
     "text": [
      "[1, 2, 3]\n",
      "[4, 5, 6]\n",
      "[7, 8, 9]\n"
     ]
    }
   ],
   "source": [
    "# Example 10: Printing a list using range function\n",
    "\n",
    "list_of_lists = [[1, 2, 3], [4, 5, 6], [7, 8, 9]]  # list with 3 elements\n",
    "for list1 in list_of_lists:\n",
    "        print(list1)"
   ]
  },
  {
   "cell_type": "code",
   "execution_count": null,
   "metadata": {
    "ExecuteTime": {
     "end_time": "2021-10-04T12:10:24.723523Z",
     "start_time": "2021-10-04T12:10:24.572159Z"
    },
    "id": "2Zs75_OW1Z3K",
    "outputId": "e434fc3d-ad7b-4d42-c67f-037a58467a65",
    "scrolled": true
   },
   "outputs": [
    {
     "name": "stdout",
     "output_type": "stream",
     "text": [
      "0\n",
      "1\n",
      "2\n",
      "3\n",
      "4\n",
      "5\n"
     ]
    }
   ],
   "source": [
    "# Example 1: For loop with tuple\n",
    "\n",
    "numbers = (0, 1, 2, 3, 4, 5)\n",
    "for number in numbers:\n",
    "    print(number)"
   ]
  },
  {
   "cell_type": "code",
   "execution_count": null,
   "metadata": {
    "ExecuteTime": {
     "end_time": "2021-10-04T12:10:24.876845Z",
     "start_time": "2021-10-04T12:10:24.727434Z"
    },
    "id": "HhUtE1t21Z3K",
    "outputId": "b09be655-f4a6-435d-b152-8f4dc3cda6c1"
   },
   "outputs": [
    {
     "name": "stdout",
     "output_type": "stream",
     "text": [
      "Antibiotics\n",
      "Inventor\n",
      "Year\n"
     ]
    }
   ],
   "source": [
    "# Example 1: Access only the keys of the dictionary.\n",
    "\n",
    "dict1 = {\"Antibiotics\": \"Penicillin\", \"Inventor\": \"Fleming\", \"Year\": 1928}\n",
    "for key in dict1:\n",
    "    print(key)"
   ]
  },
  {
   "cell_type": "code",
   "execution_count": null,
   "metadata": {
    "ExecuteTime": {
     "end_time": "2021-10-04T12:10:25.062391Z",
     "start_time": "2021-10-04T12:10:24.879776Z"
    },
    "id": "mBjpwrot1Z3K",
    "outputId": "60d89e3c-64a6-4b8c-9364-d24e207bc305"
   },
   "outputs": [
    {
     "name": "stdout",
     "output_type": "stream",
     "text": [
      "Vaccine -> Polio\n",
      "Inventor -> Salk\n",
      "Year -> 1953\n"
     ]
    }
   ],
   "source": [
    "# Example 2: Iterate keys and values of the dictionary\n",
    "\n",
    "dict1 = {\"Vaccine\": \"Polio\", \"Inventor\": \"Salk\", \"Year\": 1953}\n",
    "for key in dict1:\n",
    "    print(key, \"->\", dict1[key])"
   ]
  },
  {
   "cell_type": "code",
   "execution_count": null,
   "metadata": {
    "ExecuteTime": {
     "end_time": "2021-10-04T12:10:25.216690Z",
     "start_time": "2021-10-04T12:10:25.065324Z"
    },
    "id": "oqx2Wah31Z3L",
    "outputId": "798692d0-4085-4edb-b235-e29dbef2639b",
    "scrolled": true
   },
   "outputs": [
    {
     "name": "stdout",
     "output_type": "stream",
     "text": [
      "Smallpox \n",
      "Jenner\n",
      "1796\n"
     ]
    }
   ],
   "source": [
    "# Example 3: Iterate only the values the dictionary\n",
    "\n",
    "dict1 = {\"Vaccine\": \"Smallpox \", \"Inventor\": \"Jenner\", \"Year\": 1796}\n",
    "for value in dict1.values():\n",
    "    print(value)"
   ]
  },
  {
   "cell_type": "code",
   "execution_count": null,
   "metadata": {
    "ExecuteTime": {
     "end_time": "2021-10-04T12:10:25.339735Z",
     "start_time": "2021-10-04T12:10:25.221574Z"
    },
    "id": "Q_kdsC_d1Z3L",
    "outputId": "53b010c2-8f7e-476c-eabc-9a21984da85d",
    "scrolled": false
   },
   "outputs": [
    {
     "name": "stdout",
     "output_type": "stream",
     "text": [
      "first_name\n",
      "last_name\n",
      "age\n",
      "country\n",
      "is_marred\n",
      "skills\n",
      "address\n",
      "first_name Milaan\n",
      "last_name Parmar\n",
      "age 96\n",
      "country Finland\n",
      "is_marred True\n",
      "skills ['Python', 'Matlab', 'R', 'C', 'C++']\n",
      "address {'street': 'Space street', 'zipcode': '02210'}\n"
     ]
    }
   ],
   "source": [
    "# Example 4: For loop with dictionary\n",
    "#Looping through a dictionary gives you the key of the dictionary.\n",
    "\n",
    "person = {\n",
    "    'first_name':'Milaan',\n",
    "    'last_name':'Parmar',\n",
    "    'age':96,\n",
    "    'country':'Finland',\n",
    "    'is_marred':True,\n",
    "    'skills':['Python', 'Matlab', 'R', 'C', 'C++'],\n",
    "    'address':{\n",
    "        'street':'Space street',\n",
    "        'zipcode':'02210'\n",
    "    }\n",
    "}\n",
    "for key in person:\n",
    "    print(key)\n",
    "\n",
    "for key, value in person.items():\n",
    "    print(key, value) # this way we get both keys and values printed out"
   ]
  },
  {
   "cell_type": "code",
   "execution_count": null,
   "metadata": {
    "ExecuteTime": {
     "end_time": "2021-10-04T12:10:25.509661Z",
     "start_time": "2021-10-04T12:10:25.343645Z"
    },
    "id": "x5IWarIs1Z3L",
    "outputId": "939f663a-2604-4f99-d553-fd9568907730",
    "scrolled": true
   },
   "outputs": [
    {
     "name": "stdout",
     "output_type": "stream",
     "text": [
      "GUava\n",
      "Banana\n",
      "Grape\n",
      "Kiwi\n",
      "Orange\n",
      "Apple\n",
      "Mango\n"
     ]
    }
   ],
   "source": [
    "# Example 6: For loop with set\n",
    "\n",
    "mix_fruits = {'Banana', 'Apple', 'Mango', 'Orange', 'GUava', 'Kiwi', 'Grape'}\n",
    "for fruits in mix_fruits:\n",
    "    print(fruits)"
   ]
  },
  {
   "cell_type": "code",
   "execution_count": null,
   "metadata": {
    "id": "F3L-ZtOo1Z3M"
   },
   "outputs": [],
   "source": []
  },
  {
   "cell_type": "markdown",
   "metadata": {
    "id": "2XujHZqW1a6E"
   },
   "source": [
    "# Loops in Python\n",
    "\n",
    "Loops in Python programming function similar to loops in C, C++, Java or other languages. Python loops are used to repeatedly execute a block of statements until a given condition returns to be **`False`**. In Python, we have **two types of looping statements**, namely:\n",
    "<div>\n",
    "<img src=\"../img/loop1.png\" width=\"200\"/>\n",
    "</div>"
   ]
  },
  {
   "cell_type": "markdown",
   "metadata": {
    "id": "u8k2NSPE1a6E"
   },
   "source": [
    "# Python `while` Loop\n",
    "\n",
    "Loops are used in programming to repeat a specific block of code. In this article, you will learn to create a **`while`** loop in Python. We use a **`while`** loop when we want to repeat a code block."
   ]
  },
  {
   "cell_type": "markdown",
   "metadata": {
    "id": "1CtCXTfT1a6F"
   },
   "source": [
    "## What is `while` loop in Python?\n",
    "\n",
    "The **`while`** loop in Python is used to iterate over a block of code as long as the  expression/condition is **`True`**. When the condition becomes **`False`**, execution comes out of the loop immediately, and the first statement after the **`while`** loop is executed.\n",
    "\n",
    "We generally use this loop when we don't know the number of times to iterate beforehand.\n",
    "\n",
    "Python interprets any non-zero value as **`True`**. **`None`** and **`0`** are interpreted as **`False`**."
   ]
  },
  {
   "cell_type": "markdown",
   "metadata": {
    "id": "SNRk8Z1C1a6H"
   },
   "source": [
    "### Syntax:\n",
    "\n",
    "```python\n",
    "while condition:\n",
    "    body of while loop\n",
    "```\n",
    "1. In the **`while`** loop, expression/condition is checked first.\n",
    "2. The body of the loop is entered only if the expression/condition evaluates to **`True`**.\n",
    "3. After one iteration, the expression/condition is checked again. This process continues until the test_expression evaluates to **`False`**.\n",
    "\n",
    "<div>\n",
    "<img src=\"../img/wh0.png\" width=\"400\"/>\n",
    "</div>\n",
    "\n",
    ">**Note:** An infinite loop occurs when a program keeps executing within one loop, never leaving it. To exit out of infinite loops on the command line, press **CTRL + C**."
   ]
  },
  {
   "cell_type": "code",
   "execution_count": null,
   "metadata": {
    "ExecuteTime": {
     "end_time": "2021-10-04T12:15:18.052046Z",
     "start_time": "2021-10-04T12:15:18.041303Z"
    },
    "id": "PvYCddUB1a6H",
    "outputId": "aa3f3f0b-3976-44f1-da8c-ae6dc90dfb13"
   },
   "outputs": [
    {
     "name": "stdout",
     "output_type": "stream",
     "text": [
      "1\n",
      "2\n",
      "3\n",
      "4\n"
     ]
    }
   ],
   "source": [
    "# Example 1: Print numbers less than 5\n",
    "\n",
    "count = 1\n",
    "# run loop till count is less than 5\n",
    "while count < 5:\n",
    "    print(count)\n",
    "    count = count + 1"
   ]
  },
  {
   "cell_type": "code",
   "execution_count": null,
   "metadata": {
    "ExecuteTime": {
     "end_time": "2021-10-04T12:15:18.175091Z",
     "start_time": "2021-10-04T12:15:18.059861Z"
    },
    "id": "H9NT7o6e1a6J",
    "outputId": "d4dea06c-7b06-4eb1-fb66-29be1d101c66"
   },
   "outputs": [
    {
     "name": "stdout",
     "output_type": "stream",
     "text": [
      "Sum of first 10 number is: 55\n"
     ]
    }
   ],
   "source": [
    "# Example 2:\n",
    "\n",
    "num = 10\n",
    "sum = 0\n",
    "i = 1\n",
    "while i <= num:\n",
    "    sum = sum + i\n",
    "    i = i + 1\n",
    "print(\"Sum of first 10 number is:\", sum)"
   ]
  },
  {
   "cell_type": "code",
   "execution_count": null,
   "metadata": {
    "ExecuteTime": {
     "end_time": "2021-10-04T12:15:18.297648Z",
     "start_time": "2021-10-04T12:15:18.178999Z"
    },
    "id": "ixdb0FQQ1a6K",
    "outputId": "5e33efec-e087-4291-b29c-5e12025026df",
    "scrolled": false
   },
   "outputs": [
    {
     "name": "stdout",
     "output_type": "stream",
     "text": [
      "Value of a is 10\n",
      "Value of a is 8\n",
      "Value of a is 6\n",
      "Value of a is 4\n",
      "Value of a is 2\n",
      "Loop is Completed\n"
     ]
    }
   ],
   "source": [
    "# Example 3:\n",
    "\n",
    "a=10        # 'a' is my variable\n",
    "\n",
    "while a>0:  # Enter the body of while loop because condition is TRUE\n",
    "    print ((\"Value of a is\"),a)\n",
    "    a=a-2\n",
    "print (\"Loop is Completed\")"
   ]
  },
  {
   "cell_type": "code",
   "execution_count": null,
   "metadata": {
    "ExecuteTime": {
     "end_time": "2021-10-04T12:15:18.406047Z",
     "start_time": "2021-10-04T12:15:18.307417Z"
    },
    "id": "pfZx2k4A1a6L",
    "outputId": "119f66cd-fa6d-425f-b184-94b3c563722a"
   },
   "outputs": [
    {
     "name": "stdout",
     "output_type": "stream",
     "text": [
      "9.999999999999998\n"
     ]
    }
   ],
   "source": [
    "# Example 4:\n",
    "\n",
    "n=153\n",
    "sum=0\n",
    "\n",
    "while n>0:\n",
    "    r=n%10   # r is the remainder of the division\n",
    "    sum+=r   # sum+=r is equal to sum = sum+r\n",
    "    n=n/10\n",
    "print (sum)"
   ]
  },
  {
   "cell_type": "code",
   "execution_count": null,
   "metadata": {
    "ExecuteTime": {
     "end_time": "2021-10-04T12:15:18.559855Z",
     "start_time": "2021-10-04T12:15:18.409468Z"
    },
    "id": "jgicdVL11a6L",
    "outputId": "d35f4d7f-b97e-4728-a537-f9ed572d097a"
   },
   "outputs": [
    {
     "name": "stdout",
     "output_type": "stream",
     "text": [
      "Total iteration required 3\n"
     ]
    }
   ],
   "source": [
    "# Example 5: How many times a given number can be divided by 3 before it is less than or equal to 10.\n",
    "\n",
    "count = 0\n",
    "number = 180\n",
    "while number > 10:\n",
    "    # divide number by 3\n",
    "    number = number / 3\n",
    "    # increase count\n",
    "    count = count + 1\n",
    "print('Total iteration required', count)"
   ]
  },
  {
   "cell_type": "code",
   "execution_count": null,
   "metadata": {
    "ExecuteTime": {
     "end_time": "2021-10-04T12:15:18.747846Z",
     "start_time": "2021-10-04T12:15:18.565720Z"
    },
    "id": "2PjePFdI1a6M",
    "outputId": "5c917988-0ae3-4bb5-f191-b2997a2f0113",
    "scrolled": true
   },
   "outputs": [
    {
     "name": "stdout",
     "output_type": "stream",
     "text": [
      "The sum is 55\n"
     ]
    }
   ],
   "source": [
    "# Example 6: Program to add natural numbers up to sum = 1+2+3+...+n\n",
    "\n",
    "# To take input from the user,\n",
    "# n = int(input(\"Enter n: \"))\n",
    "\n",
    "n = 10\n",
    "\n",
    "# initialize sum and counter\n",
    "sum = 0\n",
    "i = 1\n",
    "\n",
    "while i <= n:\n",
    "    sum = sum + i\n",
    "    i = i+1    # update counter, i.e., the value of i will change from 1 to 2 in next iteration...\n",
    "\n",
    "# print the sum\n",
    "print(\"The sum is\", sum)"
   ]
  },
  {
   "cell_type": "markdown",
   "metadata": {
    "id": "9W_8n3UU1a6N"
   },
   "source": [
    "**Explanation:**\n",
    "\n",
    "In the above program, the test expression will be **`True`** as long as our counter variable **`i`** is less than or equal to **`n`** (10 in our program).\n",
    "\n",
    "We need to increase the value of the counter variable in the body of the loop. This is very important (and mostly forgotten). Failing to do so will result in an infinite loop (never-ending loop).\n",
    "\n",
    "Finally, the result is displayed."
   ]
  },
  {
   "cell_type": "code",
   "execution_count": null,
   "metadata": {
    "ExecuteTime": {
     "end_time": "2021-10-04T12:15:18.913373Z",
     "start_time": "2021-10-04T12:15:18.751753Z"
    },
    "id": "AiiioKf01a6P",
    "outputId": "4ae02fdc-d390-456c-dfdc-f6d2e1105346"
   },
   "outputs": [
    {
     "name": "stdout",
     "output_type": "stream",
     "text": [
      "1 1 2 3 5 8 13 21 34 55 89 144 233 377 610 987 \n"
     ]
    }
   ],
   "source": [
    "# Example 7: simple fibonacci series\n",
    "# the sum of two elements defines the next set\n",
    "\n",
    "a, b = 0, 1\n",
    "while b < 1000:\n",
    "    print(b, end = ' ', flush = True)\n",
    "    a, b = b, a + b\n",
    "\n",
    "print() # line ending"
   ]
  },
  {
   "cell_type": "code",
   "execution_count": null,
   "metadata": {
    "ExecuteTime": {
     "end_time": "2021-10-04T12:15:26.656062Z",
     "start_time": "2021-10-04T12:15:18.916304Z"
    },
    "id": "tJxKxLyc1a6Q",
    "outputId": "add8d2a4-4ca7-4463-e890-3030fe46fe1c"
   },
   "outputs": [
    {
     "name": "stdout",
     "output_type": "stream",
     "text": [
      "Please Enter Number 9\n",
      "9 is a odd number\n",
      "8 is a even number\n",
      "7 is a odd number\n",
      "6 is a even number\n",
      "5 is a odd number\n",
      "4 is a even number\n",
      "3 is a odd number\n",
      "2 is a even number\n",
      "1 is a odd number\n"
     ]
    }
   ],
   "source": [
    "# Example 1: Print even and odd numbers between 1 to the entered number.\n",
    "\n",
    "n = int(input('Please Enter Number '))\n",
    "while n > 0:\n",
    "    # check even and odd\n",
    "    if n % 2 == 0:\n",
    "        print(n, 'is a even number')\n",
    "    else:\n",
    "        print(n, 'is a odd number')\n",
    "    # decrease number by 1 in each iteration\n",
    "    n = n - 1"
   ]
  },
  {
   "cell_type": "code",
   "execution_count": null,
   "metadata": {
    "ExecuteTime": {
     "end_time": "2021-10-04T12:15:26.671686Z",
     "start_time": "2021-10-04T12:15:26.660944Z"
    },
    "id": "4W4CvjMy1a6R",
    "outputId": "5eb85f2c-a3b0-4739-84dd-4925bf94644f",
    "scrolled": true
   },
   "outputs": [
    {
     "name": "stdout",
     "output_type": "stream",
     "text": [
      "1\n",
      "2\n",
      "9\n",
      "4\n",
      "25\n",
      "6\n",
      "49\n",
      "8\n",
      "81\n"
     ]
    }
   ],
   "source": [
    "# Example 2: printing the square of odd numbers less than n.\n",
    "\n",
    "n =10\n",
    "i = 1\n",
    "while i < n:\n",
    "    #if (i % 2 == 0): (for even numbers)\n",
    "    if (i % 2 != 0):\n",
    "        print(i ** 2)\n",
    "        i = i + 1\n",
    "    else:\n",
    "        print(i)\n",
    "        i = i + 1"
   ]
  },
  {
   "cell_type": "code",
   "execution_count": null,
   "metadata": {
    "ExecuteTime": {
     "end_time": "2021-10-04T12:15:26.858208Z",
     "start_time": "2021-10-04T12:15:26.674614Z"
    },
    "id": "wSriuCXk1a6R",
    "outputId": "187e7d11-a1ba-4318-bc1e-9f9814878612"
   },
   "outputs": [
    {
     "name": "stdout",
     "output_type": "stream",
     "text": [
      "The sum is 30\n"
     ]
    }
   ],
   "source": [
    "# Example 3: Add all even numbers from 1 to 10 using while loop\n",
    "# 2+4+6+8+10\n",
    "\n",
    "# n = int(input(\"Please enter the maximum value: \"))\n",
    "n = 10\n",
    "\n",
    "sum = 0\n",
    "i = 1\n",
    "\n",
    "while i <= n:\n",
    "    if(i%2==0):\n",
    "        sum = sum + i\n",
    "#        sum += i\n",
    "    i = i+1\n",
    "\n",
    "# print the sum\n",
    "print(\"The sum is\", sum)"
   ]
  },
  {
   "cell_type": "code",
   "execution_count": null,
   "metadata": {
    "ExecuteTime": {
     "end_time": "2021-10-04T12:15:26.980277Z",
     "start_time": "2021-10-04T12:15:26.866021Z"
    },
    "code_folding": [],
    "id": "7W0bv1k_1a6S",
    "outputId": "5a0123f2-79c1-4427-a6ce-3a60dd9c213c",
    "scrolled": true
   },
   "outputs": [
    {
     "name": "stdout",
     "output_type": "stream",
     "text": [
      "17\n",
      "19\n",
      "23\n",
      "29\n",
      "31\n",
      "37\n",
      "41\n",
      "43\n",
      "47\n",
      "53\n",
      "The total sum is 340\n"
     ]
    }
   ],
   "source": [
    "# Example 4: Write a code to add all the prime numbers between 17 to 53 using while loop\n",
    "# 17, 19, 23, 29, 31, 37, 41, 43, 47, 53\n",
    "\n",
    "'''Method 1'''\n",
    "\n",
    "sum=0\n",
    "for i in range(17,54):\n",
    "    k=2\n",
    "    if i>=2:\n",
    "        while i % k!=0:\n",
    "            k+=1\n",
    "        if i==k:\n",
    "            sum += i\n",
    "            print(i)\n",
    "print(\"The total sum is\",sum)"
   ]
  },
  {
   "cell_type": "code",
   "execution_count": null,
   "metadata": {
    "ExecuteTime": {
     "end_time": "2021-10-04T12:15:27.086726Z",
     "start_time": "2021-10-04T12:15:26.983211Z"
    },
    "id": "685M84Zx1a6T",
    "outputId": "3500b24b-b484-4075-a515-c08f01cf1350",
    "scrolled": true
   },
   "outputs": [
    {
     "name": "stdout",
     "output_type": "stream",
     "text": [
      "0\n",
      "1\n",
      "2\n",
      "3\n",
      "4\n",
      "5\n"
     ]
    }
   ],
   "source": [
    "count = 0\n",
    "while count < 5:\n",
    "    print(count)\n",
    "    count = count + 1\n",
    "else:\n",
    "    print(count)"
   ]
  },
  {
   "cell_type": "markdown",
   "metadata": {
    "id": "xPNBzJeI1a6T"
   },
   "source": [
    "**Explanation:**\n",
    "\n",
    "The above loop condition will be false when count is 5 and the loop stops, and execution starts the else statement. As a result 5 will be printed."
   ]
  },
  {
   "cell_type": "code",
   "execution_count": null,
   "metadata": {
    "ExecuteTime": {
     "end_time": "2021-10-04T12:15:27.224424Z",
     "start_time": "2021-10-04T12:15:27.091608Z"
    },
    "id": "JM-Uy-mM1a6T",
    "outputId": "da93a92e-cc03-4760-a4cc-5964a458c801"
   },
   "outputs": [
    {
     "name": "stdout",
     "output_type": "stream",
     "text": [
      "1\n",
      "2\n",
      "3\n",
      "4\n",
      "5\n",
      "6\n",
      "Done. 'while loop' executed normally\n"
     ]
    }
   ],
   "source": [
    "# Example 1: Use while loop to print numbers from 1 to 6\n",
    "\n",
    "i = 1\n",
    "while i <= 6:\n",
    "    print(i)\n",
    "    i = i + 1\n",
    "else:\n",
    "    print(\"Done. 'while loop' executed normally\")"
   ]
  },
  {
   "cell_type": "code",
   "execution_count": null,
   "metadata": {
    "ExecuteTime": {
     "end_time": "2021-10-04T12:15:27.378230Z",
     "start_time": "2021-10-04T12:15:27.231258Z"
    },
    "id": "P2m21EgX1a6T",
    "outputId": "0b606615-55d4-43e6-8421-9d69c6c034e0"
   },
   "outputs": [
    {
     "name": "stdout",
     "output_type": "stream",
     "text": [
      "1\n",
      "2\n",
      "3\n"
     ]
    }
   ],
   "source": [
    "# Example 2: Else block with break statement in a while loop.\n",
    "\n",
    "i = 1\n",
    "while i <= 6:\n",
    "    print(i)\n",
    "    if i == 3:\n",
    "        break\n",
    "    i = i + 1\n",
    "else:\n",
    "    print(\"Done. `while loop` executed normally\")"
   ]
  },
  {
   "cell_type": "code",
   "execution_count": null,
   "metadata": {
    "ExecuteTime": {
     "end_time": "2021-10-04T12:15:27.503719Z",
     "start_time": "2021-10-04T12:15:27.383113Z"
    },
    "id": "b_guNuAD1a6U",
    "outputId": "16c19f4b-eb60-4d55-a143-c5f15323241f",
    "scrolled": true
   },
   "outputs": [
    {
     "name": "stdout",
     "output_type": "stream",
     "text": [
      "Inside while loop\n",
      "Inside while loop\n",
      "Inside while loop\n",
      "Inside else\n"
     ]
    }
   ],
   "source": [
    "# Example 3:\n",
    "'''Example to illustrate the use of else statement with the while loop'''\n",
    "\n",
    "counter = 0  # counter is my variable\n",
    "\n",
    "while counter < 3:\n",
    "    print(\"Inside while loop\")\n",
    "    counter = counter + 1  # increment the counter\n",
    "else:\n",
    "    print(\"Inside else\")"
   ]
  },
  {
   "cell_type": "markdown",
   "metadata": {
    "id": "Uh3xhJKy1a6U"
   },
   "source": [
    "**Explanation:**\n",
    "\n",
    "Here, we use a **`counter`** variable to print the string **`Inside loop`** three times.\n",
    "\n",
    "On the fourth iteration, the condition in **`while`** becomes **`False`**. Hence, the **`else`** part is executed."
   ]
  },
  {
   "cell_type": "code",
   "execution_count": null,
   "metadata": {
    "ExecuteTime": {
     "end_time": "2021-10-04T12:15:34.325991Z",
     "start_time": "2021-10-04T12:15:27.507624Z"
    },
    "id": "YNmL9KMc1a6U",
    "outputId": "6c0b3350-aaba-4532-b2c4-25e9c9b96095"
   },
   "outputs": [
    {
     "name": "stdout",
     "output_type": "stream",
     "text": [
      "Enter any number between 100 and 600 555\n",
      "Given Number is correct 555\n"
     ]
    }
   ],
   "source": [
    "# Example 4: we want a user to enter any number between 100 and 600\n",
    "\n",
    "number = int(input('Enter any number between 100 and 600 '))\n",
    "# number greater than 100 and less than 600\n",
    "while number < 100 or number > 600:\n",
    "    print('Incorrect number, Please enter correct number:')\n",
    "    number = int(input('Enter a Number between 100 and 600 '))\n",
    "else:\n",
    "    print(\"Given Number is correct\", number)"
   ]
  },
  {
   "cell_type": "markdown",
   "metadata": {
    "id": "kJZKY15-1a6V"
   },
   "source": [
    "### a) `break` in `while` loop\n",
    "\n",
    "Using the **`break`** statement, we can exit from the **`while`** loop even if the condition is **`True`**.\n",
    "\n",
    "If the **`break`** statement is used inside a nested loop (loop inside another loop), it will terminate the innermost loop. For example,"
   ]
  },
  {
   "cell_type": "code",
   "execution_count": null,
   "metadata": {
    "ExecuteTime": {
     "end_time": "2021-10-04T12:15:34.341618Z",
     "start_time": "2021-10-04T12:15:34.327947Z"
    },
    "id": "S_SvyNf11a6V",
    "outputId": "439ac82d-2e6e-443e-bdbe-3f49c2743685"
   },
   "outputs": [
    {
     "name": "stdout",
     "output_type": "stream",
     "text": [
      "0\n",
      "1\n",
      "2\n"
     ]
    }
   ],
   "source": [
    "# Example 1:\n",
    "\n",
    "count = 0\n",
    "while count < 5:\n",
    "    print(count)\n",
    "    count = count + 1\n",
    "    if count == 3:\n",
    "        break"
   ]
  },
  {
   "cell_type": "markdown",
   "metadata": {
    "id": "PpuSQ9BN1a6V"
   },
   "source": [
    "**Explanation**:\n",
    "\n",
    "Here, the **`while`** loop runs until the value of the variable **`i`** is less than 5. But because of the **`break`** statement, the loop gets terminated when the value of the variable **`i`** is 3 and it prints 0, 1, 2"
   ]
  },
  {
   "cell_type": "code",
   "execution_count": null,
   "metadata": {
    "ExecuteTime": {
     "end_time": "2021-10-04T12:15:34.485175Z",
     "start_time": "2021-10-04T12:15:34.343572Z"
    },
    "id": "ZgP7Yefu1a6V",
    "outputId": "499c1b96-9611-426c-ee1b-76aff5cd340f"
   },
   "outputs": [
    {
     "name": "stdout",
     "output_type": "stream",
     "text": [
      "60\n",
      "HelloWorld\n",
      "90.45\n"
     ]
    }
   ],
   "source": [
    "# Example 2:\n",
    "\n",
    "list = [60, \"HelloWorld\", 90.45, 50, 67.23, \"Python\"]  # total 6 elements\n",
    "i = 0\n",
    "while(i < 6):\n",
    "    print(list[i])\n",
    "    i = i + 1\n",
    "    if(i == 3):\n",
    "        break"
   ]
  },
  {
   "cell_type": "markdown",
   "metadata": {
    "id": "AzbaZxjp1a6V"
   },
   "source": [
    "**Explanation**:\n",
    "\n",
    "Here, the **`while`** loop runs until the value of the variable **`i`** is less than 6. But because of the **`break`** statement, the loop gets terminated when the value of the variable **`i`** is 3."
   ]
  },
  {
   "cell_type": "code",
   "execution_count": null,
   "metadata": {
    "ExecuteTime": {
     "end_time": "2021-10-04T12:15:34.639958Z",
     "start_time": "2021-10-04T12:15:34.504703Z"
    },
    "id": "svnzJZIi1a6W",
    "outputId": "cc158017-8e03-4a9e-a108-7b562810c8bc"
   },
   "outputs": [
    {
     "name": "stdout",
     "output_type": "stream",
     "text": [
      "A l a n "
     ]
    }
   ],
   "source": [
    "# Example 3: Display each character from a string and if `a` character is number then stop the loop.\n",
    "\n",
    "name = 'Alan99White'\n",
    "size = len(name)\n",
    "i = 0\n",
    "# iterate loop till the last character\n",
    "while i < size:\n",
    "    # break loop if current character is number\n",
    "    if name[i].isdecimal():\n",
    "        break;\n",
    "    # print current character\n",
    "    print(name[i], end=' ')\n",
    "    i = i + 1"
   ]
  },
  {
   "cell_type": "markdown",
   "metadata": {
    "id": "TqHZ1S161a6W"
   },
   "source": [
    "### b) `continue` in while loop\n",
    "\n",
    "The **`continue`** statement is used to stop/skip the block of code in the loop for the current iteration only and continue with the next iteration.\n",
    "\n",
    "For example, let's say you want to print all the odd numbers less than a particular value. Here is how you can do it using **`continue`** keyword in Python."
   ]
  },
  {
   "cell_type": "code",
   "execution_count": null,
   "metadata": {
    "ExecuteTime": {
     "end_time": "2021-10-04T12:15:43.254714Z",
     "start_time": "2021-10-04T12:15:34.653630Z"
    },
    "id": "Fld25s291a6W",
    "outputId": "64020255-bcfe-4d04-f801-52b01d166071"
   },
   "outputs": [
    {
     "name": "stdout",
     "output_type": "stream",
     "text": [
      "0\n",
      "1\n",
      "2\n"
     ]
    },
    {
     "ename": "KeyboardInterrupt",
     "evalue": "",
     "output_type": "error",
     "traceback": [
      "\u001b[1;31m---------------------------------------------------------------------------\u001b[0m",
      "\u001b[1;31mKeyboardInterrupt\u001b[0m                         Traceback (most recent call last)",
      "\u001b[1;32m<ipython-input-20-7359b7dba965>\u001b[0m in \u001b[0;36m<module>\u001b[1;34m\u001b[0m\n\u001b[0;32m      4\u001b[0m \u001b[1;32mwhile\u001b[0m \u001b[0mcount\u001b[0m \u001b[1;33m<\u001b[0m \u001b[1;36m5\u001b[0m\u001b[1;33m:\u001b[0m\u001b[1;33m\u001b[0m\u001b[1;33m\u001b[0m\u001b[0m\n\u001b[0;32m      5\u001b[0m     \u001b[1;32mif\u001b[0m \u001b[0mcount\u001b[0m \u001b[1;33m==\u001b[0m \u001b[1;36m3\u001b[0m\u001b[1;33m:\u001b[0m\u001b[1;33m\u001b[0m\u001b[1;33m\u001b[0m\u001b[0m\n\u001b[1;32m----> 6\u001b[1;33m         \u001b[1;32mcontinue\u001b[0m\u001b[1;33m\u001b[0m\u001b[1;33m\u001b[0m\u001b[0m\n\u001b[0m\u001b[0;32m      7\u001b[0m     \u001b[1;32melse\u001b[0m\u001b[1;33m:\u001b[0m\u001b[1;33m\u001b[0m\u001b[1;33m\u001b[0m\u001b[0m\n\u001b[0;32m      8\u001b[0m         \u001b[0mprint\u001b[0m\u001b[1;33m(\u001b[0m\u001b[0mcount\u001b[0m\u001b[1;33m)\u001b[0m\u001b[1;33m\u001b[0m\u001b[1;33m\u001b[0m\u001b[0m\n",
      "\u001b[1;31mKeyboardInterrupt\u001b[0m: "
     ]
    }
   ],
   "source": [
    "# Example 1:\n",
    "\n",
    "count = 0\n",
    "while count < 5:\n",
    "    if count == 3:\n",
    "        continue\n",
    "    else:\n",
    "        print(count)\n",
    "        count = count + 1"
   ]
  },
  {
   "cell_type": "markdown",
   "metadata": {
    "id": "MQvo-sJ31a6W"
   },
   "source": [
    "**Explanation:**\n",
    "\n",
    "The above **`while`** loop only prints 0, 1, 2 and 4 (skips 3)."
   ]
  },
  {
   "cell_type": "code",
   "execution_count": null,
   "metadata": {
    "ExecuteTime": {
     "end_time": "2021-10-04T12:15:48.259605Z",
     "start_time": "2021-10-04T12:15:48.244468Z"
    },
    "code_folding": [],
    "id": "8rMK_Qqt1a6W",
    "outputId": "46e2b829-3c85-47ab-a174-9875d69b4874"
   },
   "outputs": [
    {
     "name": "stdout",
     "output_type": "stream",
     "text": [
      "1\n",
      "3\n",
      "5\n",
      "7\n",
      "9\n"
     ]
    }
   ],
   "source": [
    "# Example 2: printing odd numbers less than `n`\n",
    "\n",
    "n=10\n",
    "i = 1\n",
    "while (i < n):\n",
    "    if (i % 2 == 0):\n",
    "        i = i + 1\n",
    "        continue  # continue means skip the current loop\n",
    "    else:\n",
    "        print (i)\n",
    "        i = i + 1"
   ]
  },
  {
   "cell_type": "markdown",
   "metadata": {
    "id": "e3gUV1Jo1a6X"
   },
   "source": [
    "**Explanation:**\n",
    "\n",
    "Here, the **`continue`** statement gets executed when the value of the variable is an even number. This simply means, whenever it is an even number, we simply skip all other statements and execute the next iteration."
   ]
  },
  {
   "cell_type": "code",
   "execution_count": null,
   "metadata": {
    "ExecuteTime": {
     "end_time": "2021-10-04T12:15:49.635581Z",
     "start_time": "2021-10-04T12:15:49.620932Z"
    },
    "id": "2YEZNHIo1a6g",
    "outputId": "aff4ceab-b18b-444d-e26a-f078643171b4"
   },
   "outputs": [
    {
     "name": "stdout",
     "output_type": "stream",
     "text": [
      "A l a n W h i t e "
     ]
    }
   ],
   "source": [
    "# Example 3: Write a while loop to display only alphabets from a string.\n",
    "\n",
    "name = 'Alan99White'\n",
    "\n",
    "size = len(name)\n",
    "i = -1\n",
    "# iterate loop till the last character\n",
    "while i < size - 1:\n",
    "    i = i + 1\n",
    "    # skip while loop body if current character is not alphabet\n",
    "    if not name[i].isalpha():\n",
    "        continue\n",
    "    # print current character\n",
    "    print(name[i], end=' ')"
   ]
  },
  {
   "cell_type": "markdown",
   "metadata": {
    "id": "W1KwWQnb1a6h"
   },
   "source": [
    "### c) `pass` in `while` loop\n",
    "\n",
    "The **`pass`** statement is a null statement, i.e., nothing happens when the statement is executed. Primarily it is used in empty functions or classes. When the interpreter finds a pass statement in the program, it returns no operation."
   ]
  },
  {
   "cell_type": "code",
   "execution_count": null,
   "metadata": {
    "ExecuteTime": {
     "end_time": "2021-10-04T12:15:50.622885Z",
     "start_time": "2021-10-04T12:15:50.610197Z"
    },
    "id": "9gj471hZ1a6i"
   },
   "outputs": [],
   "source": [
    "# Example 1:\n",
    "\n",
    "n = 4\n",
    "while n > 0:\n",
    "    n = n - 1\n",
    "    pass"
   ]
  },
  {
   "cell_type": "markdown",
   "metadata": {
    "id": "CwDogah71a6i"
   },
   "source": [
    "## Reverse `while` loop\n",
    "\n",
    "A reverse loop means an iterating loop in the backward direction. A simple example includes:\n",
    "\n",
    "* Display numbers from 10 to 1.\n",
    "* Reverse a string or list"
   ]
  },
  {
   "cell_type": "code",
   "execution_count": null,
   "metadata": {
    "ExecuteTime": {
     "end_time": "2021-10-04T12:15:52.550625Z",
     "start_time": "2021-10-04T12:15:52.539885Z"
    },
    "id": "oFEMWsc91a6j",
    "outputId": "5115cb7b-eb6d-4f92-a868-a7a063283b14"
   },
   "outputs": [
    {
     "name": "stdout",
     "output_type": "stream",
     "text": [
      "10 9 8 7 6 5 4 3 2 1 0 "
     ]
    }
   ],
   "source": [
    "# Example 1: Reverse a while loop to display numbers from 10 to 1\n",
    "\n",
    "# reverse while loop\n",
    "i = 10\n",
    "while i >= 0:\n",
    "    print(i, end=' ')\n",
    "    i = i - 1"
   ]
  },
  {
   "cell_type": "markdown",
   "metadata": {
    "id": "Oplevxh_1a6j"
   },
   "source": [
    "## Nested `while` loops\n",
    "\n",
    "**Nested while loop** is a **`while`** loop inside another **`while`** a loop.\n",
    "\n",
    "In the nested **`while`** loop, the number of iterations will be equal to the number of iterations in the outer loop multiplied by the iterations in the inner loop. In each iteration of the outer loop inner loop execute all its iteration.\n",
    "\n",
    "**Syntax:**\n",
    "\n",
    "```python\n",
    "while expression:\n",
    "    while expression:\n",
    "        statement(s)\n",
    "    statement(s)\n",
    "```"
   ]
  },
  {
   "cell_type": "markdown",
   "metadata": {
    "id": "_38YIP9D1a6j"
   },
   "source": [
    "### `while` loop inside `while` loop"
   ]
  },
  {
   "cell_type": "markdown",
   "metadata": {
    "id": "R9T91EUN1a6j"
   },
   "source": [
    "#### Example: Nested `while` loop"
   ]
  },
  {
   "cell_type": "code",
   "execution_count": null,
   "metadata": {
    "ExecuteTime": {
     "end_time": "2021-10-04T12:15:53.847500Z",
     "start_time": "2021-10-04T12:15:53.826996Z"
    },
    "id": "zaCWNo681a6k",
    "outputId": "0625d3a9-031d-4f16-b698-c34716341ac1"
   },
   "outputs": [
    {
     "name": "stdout",
     "output_type": "stream",
     "text": [
      "12345678910\n",
      "12345678910\n",
      "12345678910\n"
     ]
    }
   ],
   "source": [
    "# Example: print the first 10 numbers on each line 5 times\n",
    "\n",
    "i = 1\n",
    "while i <= 3:\n",
    "    j = 1\n",
    "    while j <= 10:\n",
    "        print(j, end='')\n",
    "        j = j + 1\n",
    "    i = i + 1\n",
    "    print()"
   ]
  },
  {
   "cell_type": "markdown",
   "metadata": {
    "id": "dLi22MQT1a6k"
   },
   "source": [
    "#### Example: Nested `while` loop to print the pattern\n",
    "\n",
    "```python\n",
    "*\n",
    "* *\n",
    "* * *\n",
    "* * * *\n",
    "* * * * *\n",
    "```"
   ]
  },
  {
   "cell_type": "code",
   "execution_count": null,
   "metadata": {
    "ExecuteTime": {
     "end_time": "2021-10-04T12:15:54.568693Z",
     "start_time": "2021-10-04T12:15:54.547213Z"
    },
    "id": "GjD4zeEg1a6k",
    "outputId": "5dcfb8ca-9e43-41da-ff5c-9887e824b6f2"
   },
   "outputs": [
    {
     "name": "stdout",
     "output_type": "stream",
     "text": [
      "* \n",
      "* * \n",
      "* * * \n",
      "* * * * \n",
      "* * * * * \n"
     ]
    }
   ],
   "source": [
    "# Example 1: Method 1\n",
    "\n",
    "i = 1\n",
    "# outer while loop\n",
    "# 5 rows in pattern\n",
    "while i < 6:\n",
    "    j = 0\n",
    "    # nested while loop\n",
    "    while j < i:\n",
    "        print('*', end=' ')\n",
    "        j = j + 1\n",
    "    # end of nested while loop\n",
    "    # new line after each row\n",
    "    print('')\n",
    "    i = i + 1"
   ]
  },
  {
   "cell_type": "code",
   "execution_count": null,
   "metadata": {
    "ExecuteTime": {
     "end_time": "2021-10-04T12:15:55.309907Z",
     "start_time": "2021-10-04T12:15:55.290378Z"
    },
    "id": "qQ-CyOtU1a6l",
    "outputId": "71354f77-e971-46a2-cded-0785e81c78fa"
   },
   "outputs": [
    {
     "name": "stdout",
     "output_type": "stream",
     "text": [
      "* \n",
      "* * \n",
      "* * * \n",
      "* * * * \n",
      "* * * * * \n"
     ]
    }
   ],
   "source": [
    "# Example 1: Method 2\n",
    "\n",
    "i = 1\n",
    "# outer while loop\n",
    "while i < 6:\n",
    "    # nested for loop\n",
    "    for j in range(1, i + 1):\n",
    "        print(\"*\", end=\" \")\n",
    "    print('')\n",
    "    i = i + 1"
   ]
  },
  {
   "cell_type": "code",
   "execution_count": null,
   "metadata": {
    "ExecuteTime": {
     "end_time": "2021-10-04T12:15:55.725921Z",
     "start_time": "2021-10-04T12:15:55.702486Z"
    },
    "id": "5SBOGo651a6l",
    "outputId": "0394621b-e809-48e6-dce1-921c24e177b0",
    "scrolled": true
   },
   "outputs": [
    {
     "name": "stdout",
     "output_type": "stream",
     "text": [
      "17\n",
      "19\n",
      "23\n",
      "29\n",
      "31\n",
      "37\n",
      "41\n",
      "43\n",
      "47\n",
      "53\n",
      "The total sum is 340\n"
     ]
    }
   ],
   "source": [
    "# Example 2: Write a code to add all the prime numbers between 17 to 53 using while loop\n",
    "# 17, 19, 23, 29, 31, 37, 41, 43, 47, 53\n",
    "\n",
    "'''Method 1'''\n",
    "\n",
    "n=17\n",
    "sum=0\n",
    "while n<=53:\n",
    "    for i in range(2,n):\n",
    "        if(n % i)== 0:\n",
    "            break\n",
    "        else:\n",
    "            i=i+1\n",
    "    else:\n",
    "        sum=sum+n\n",
    "        print(n)\n",
    "    n=n+1\n",
    "print(\"The total sum is\",sum)"
   ]
  },
  {
   "cell_type": "code",
   "execution_count": null,
   "metadata": {
    "ExecuteTime": {
     "end_time": "2021-10-04T12:15:56.062835Z",
     "start_time": "2021-10-04T12:15:56.043797Z"
    },
    "id": "GvzxZKS-1a6m",
    "outputId": "cab764b7-355c-4b11-eef7-e19fd401f2cb"
   },
   "outputs": [
    {
     "name": "stdout",
     "output_type": "stream",
     "text": [
      "Show Perfect number fom 1 to 100\n",
      "Perfect number: 6\n",
      "Perfect number: 28\n"
     ]
    }
   ],
   "source": [
    "# Example 3:\n",
    "\n",
    "print('Show Perfect number fom 1 to 100')\n",
    "n = 2\n",
    "\n",
    "while n <= 100:            # outer while loop\n",
    "    x_sum = 0\n",
    "    for i in range(1, n):  # inner for loop\n",
    "        if n % i == 0:\n",
    "            x_sum += i\n",
    "    if x_sum == n:\n",
    "        print('Perfect number:', n)\n",
    "    n += 1"
   ]
  },
  {
   "cell_type": "code",
   "execution_count": null,
   "metadata": {
    "ExecuteTime": {
     "end_time": "2021-10-04T12:15:56.695654Z",
     "start_time": "2021-10-04T12:15:56.675146Z"
    },
    "id": "q4rRx0w61a6m",
    "outputId": "2459c7bf-b866-4055-a4f1-bcb425bfc4ad"
   },
   "outputs": [
    {
     "name": "stdout",
     "output_type": "stream",
     "text": [
      "A\n",
      "l\n",
      "a\n",
      "n\n"
     ]
    }
   ],
   "source": [
    "# Example 1: while loop to iterate string letter by letter\n",
    "\n",
    "name = \"Alan\"\n",
    "i = 0\n",
    "res = len(name) - 1\n",
    "while i <= res:\n",
    "    print(name[i])\n",
    "    i = i + 1"
   ]
  },
  {
   "cell_type": "code",
   "execution_count": null,
   "metadata": {
    "ExecuteTime": {
     "end_time": "2021-10-04T12:15:57.403172Z",
     "start_time": "2021-10-04T12:15:57.389503Z"
    },
    "id": "vwmIqEqZ1a6n",
    "outputId": "f503e7b8-e300-4f82-f279-363e098e77db"
   },
   "outputs": [
    {
     "name": "stdout",
     "output_type": "stream",
     "text": [
      "1\n",
      "2\n",
      "3\n",
      "6\n",
      "9\n"
     ]
    }
   ],
   "source": [
    "# Example 1: Use while loop to iterate over a list.\n",
    "\n",
    "numbers = [1, 2, 3, 6, 9]\n",
    "size = len(numbers)\n",
    "i = 0\n",
    "while i < size:\n",
    "    print(numbers[i])\n",
    "    i = i + 1"
   ]
  },
  {
   "cell_type": "code",
   "execution_count": null,
   "metadata": {
    "ExecuteTime": {
     "end_time": "2021-10-04T12:15:58.048679Z",
     "start_time": "2021-10-04T12:15:58.029154Z"
    },
    "id": "4IwV2Ogk1a6o",
    "outputId": "bbb4259e-dd31-4b17-ef2b-a6dabf49ae43"
   },
   "outputs": [
    {
     "name": "stdout",
     "output_type": "stream",
     "text": [
      "60\n",
      "HelloWorld\n"
     ]
    }
   ],
   "source": [
    "# Example 2: printing the first two elements of a list\n",
    "\n",
    "list = [60, \"HelloWorld\", 90.96]  # list with three elements\n",
    "i = 0\n",
    "while(i < 2):\n",
    "    print (list[i]) #printing the element in the index i\n",
    "    i = i + 1"
   ]
  },
  {
   "cell_type": "markdown",
   "metadata": {
    "id": "Du9-Lun11a6o"
   },
   "source": [
    ">**Note**: When working with the **`while`** loop, it is important to declare the indexing variable **`i`** beforehand and to increment the indexing variable accordingly. Else it will result in an infinite loop."
   ]
  },
  {
   "cell_type": "code",
   "execution_count": null,
   "metadata": {
    "ExecuteTime": {
     "end_time": "2021-10-04T12:15:59.143411Z",
     "start_time": "2021-10-04T12:15:59.132670Z"
    },
    "id": "gn3Zk7Y81a6o",
    "outputId": "ed6e34e0-9f8c-4064-c270-22e78c38c8b9",
    "scrolled": true
   },
   "outputs": [
    {
     "name": "stdout",
     "output_type": "stream",
     "text": [
      "1\n",
      "4\n",
      "9\n",
      "16\n",
      "25\n",
      "36\n",
      "49\n",
      "64\n",
      "81\n",
      "100\n"
     ]
    }
   ],
   "source": [
    "# Example 1: printing the square of numbers less than `n`\n",
    "\n",
    "i = 1\n",
    "while (i <= 10):\n",
    "    print (i ** 2) #printing the element in the index i\n",
    "    i = i + 1"
   ]
  },
  {
   "cell_type": "code",
   "execution_count": null,
   "metadata": {
    "ExecuteTime": {
     "end_time": "2021-10-04T12:15:59.452490Z",
     "start_time": "2021-10-04T12:15:59.431010Z"
    },
    "id": "OH2Sfo921a6p",
    "outputId": "6bbd250a-15ca-412f-aa40-dfce54af3894"
   },
   "outputs": [
    {
     "name": "stdout",
     "output_type": "stream",
     "text": [
      "1\n",
      "8\n",
      "27\n",
      "64\n",
      "125\n",
      "216\n",
      "343\n",
      "512\n",
      "729\n"
     ]
    }
   ],
   "source": [
    "# Example 2: Find the cube of number from 1 to 9.\n",
    "\n",
    "i = 1\n",
    "while(i<10):\n",
    "    print(i*i*i)\n",
    "#   print(i**3)\n",
    "    i=i+1"
   ]
  },
  {
   "cell_type": "code",
   "execution_count": null,
   "metadata": {
    "ExecuteTime": {
     "end_time": "2021-10-04T12:15:59.835791Z",
     "start_time": "2021-10-04T12:15:59.816265Z"
    },
    "id": "O7DY4t-F1a6p",
    "outputId": "fff83eb7-fbba-437f-aa5c-4afd095f0029"
   },
   "outputs": [
    {
     "name": "stdout",
     "output_type": "stream",
     "text": [
      "1\n",
      "4\n",
      "Loop over\n"
     ]
    }
   ],
   "source": [
    "# Example 3:\n",
    "\n",
    "i = 1\n",
    "while i < 3:\n",
    "    print(i ** 2)\n",
    "    i = i+1\n",
    "print('Loop over')"
   ]
  },
  {
   "cell_type": "markdown",
   "metadata": {
    "id": "NgejJjDy1a6p"
   },
   "source": [
    "## While loop in Python FAQs\n",
    "\n",
    "\n",
    "1. A while loop in python is used for what type of iteration?\n",
    "> A while loop is ideal for iteration when the number of iterations is not known. Also, it is ideal to use a while loop when you have a condition that needs to be satisfied.\n",
    "\n",
    "\n",
    "2. Why does infinite while loop occur in Python?\n",
    "> A loop becomes an infinite loop if the while condition never becomes FALSE. Such a loop that never terminates is called an infinite loop.\n",
    "\n",
    "\n",
    "3. Is there a do...while loop in Python?\n",
    ">No. There is no do while loop in Python.\n",
    "\n",
    "\n",
    "4. How do you break a while loop in Python?\n",
    ">Usually, the control shifts out of the while loop when the while condition is no False. Or you can use various control statements like break, continue, etc to break out of the while loop or break of the particular iteration of the while loop.\n",
    "\n",
    "\n",
    "5. How to write an empty while function in Python?\n",
    ">You can write an empty while function in Python using the pass statements. Here is how you can write it.\n",
    "\n",
    "```python\n",
    "#empty while statement in python\n",
    ">>> i = 0\n",
    ">>> while (i < 10) :\n",
    ">>>     pass\n",
    "```"
   ]
  },
  {
   "cell_type": "code",
   "execution_count": null,
   "metadata": {
    "id": "Jky34iJ11a6q"
   },
   "outputs": [],
   "source": []
  },
  {
   "cell_type": "markdown",
   "metadata": {
    "id": "HHCzeMNR1b7K"
   },
   "source": [
    "# Control Statements in Python\n",
    "\n",
    "As you may know, loops in Python are used to iterate repeatedly over a block of code. But at times, you might want to **shift the control once a particular condition is satisfied**. This is where control statements in Python come into the picture.\n",
    "\n",
    "Control statements in python are **used to control the flow of execution of the program based on the specified conditions**. Python supports **3 types of control statements**:\n",
    "\n",
    "|      | Statement | Description |\n",
    "|:----|:----| :--- |\n",
    "|1| **`break`** | Terminate the current loop. Use the **`break`** statement to come out of the loop instantly. |\n",
    "|2| **`continue`** | Skip the current iteration of a loop and move to the next iteration |\n",
    "|3| **`pass`** | Do nothing. Ignore the condition in which it occurred and proceed to run the program as usual |\n",
    "\n",
    "Loops iterate over a block of code until the test expression is **`False`**, but sometimes we wish to terminate the current iteration or even the whole loop without checking test expression.\n",
    "\n",
    "The **`break`** and **`continue`** statements are part of a control flow statements that helps you to understand the basics of Python.\n",
    "\n",
    "<div>\n",
    "<img src=\"../img/ctrl1.png\" width=\"200\"/>\n",
    "</div>"
   ]
  },
  {
   "cell_type": "code",
   "execution_count": null,
   "metadata": {
    "ExecuteTime": {
     "end_time": "2021-06-12T16:08:12.834872Z",
     "start_time": "2021-06-12T16:08:12.824130Z"
    },
    "id": "5AsLdcW71b7M",
    "outputId": "2ddb19d0-0a21-4de6-c09a-ae29c0f71d14"
   },
   "outputs": [
    {
     "name": "stdout",
     "output_type": "stream",
     "text": [
      "current number 10\n",
      "current number 30\n"
     ]
    }
   ],
   "source": [
    "# Example 1:\n",
    "\n",
    "numbers = [10, 30, 120, 330]\n",
    "for i in numbers:\n",
    "    if i > 100:\n",
    "        break\n",
    "    print('current number', i)"
   ]
  },
  {
   "cell_type": "code",
   "execution_count": null,
   "metadata": {
    "ExecuteTime": {
     "end_time": "2021-06-12T16:08:13.037991Z",
     "start_time": "2021-06-12T16:08:13.020416Z"
    },
    "id": "IS7E1_Ky1b7N",
    "outputId": "0993116a-d15f-4158-ab0a-ab08a73ea056"
   },
   "outputs": [
    {
     "name": "stdout",
     "output_type": "stream",
     "text": [
      "Number is 1\n",
      "Number is 2\n",
      "Number is 3\n",
      "Number is 4\n",
      "Out of loop\n"
     ]
    }
   ],
   "source": [
    "# Example 2: Let’s look at an example that uses the break statement in a `for` loop\n",
    "\n",
    "number = 0\n",
    "for number in range(10):\n",
    "    number = number + 1\n",
    "    if number == 5:\n",
    "        break    # break here\n",
    "    print('Number is ' + str(number))\n",
    "print('Out of loop')"
   ]
  },
  {
   "cell_type": "markdown",
   "metadata": {
    "id": "DxyTWsi41b7N"
   },
   "source": [
    "## Nested `break` loops"
   ]
  },
  {
   "cell_type": "markdown",
   "metadata": {
    "id": "o6QPwn9J1b7O"
   },
   "source": [
    "### 1. `break` Statement in Nested Loop\n",
    "\n",
    "To terminate the nested loop, use a **`break`** statement inside the inner loop. For example:"
   ]
  },
  {
   "cell_type": "code",
   "execution_count": null,
   "metadata": {
    "ExecuteTime": {
     "end_time": "2021-06-12T16:08:13.736228Z",
     "start_time": "2021-06-12T16:08:13.719632Z"
    },
    "id": "TO8j1nGt1b7O",
    "outputId": "e382ec0a-c50c-402b-b596-8eb3032dc18a"
   },
   "outputs": [
    {
     "name": "stdout",
     "output_type": "stream",
     "text": [
      "0...1...2...3...4...5...6...7...8...9...10...completed.\n"
     ]
    }
   ],
   "source": [
    "# Example 1:\n",
    "\n",
    "for i in range(100):\n",
    "    print(i,end=\"...\")\n",
    "    if i>=10:\n",
    "        break\n",
    "print(\"completed.\")"
   ]
  },
  {
   "cell_type": "code",
   "execution_count": null,
   "metadata": {
    "ExecuteTime": {
     "end_time": "2021-06-12T16:08:13.954002Z",
     "start_time": "2021-06-12T16:08:13.938378Z"
    },
    "id": "cOQRa44S1b7O",
    "outputId": "065eea82-f77e-4c2e-a0ee-3e3044dd2a72"
   },
   "outputs": [
    {
     "name": "stdout",
     "output_type": "stream",
     "text": [
      "s\n",
      "t\n",
      "r\n",
      "The end\n"
     ]
    }
   ],
   "source": [
    "# Example 2: Use of break statement inside the loop\n",
    "\n",
    "for val in \"string\":\n",
    "    if val == \"i\":\n",
    "        break\n",
    "    print(val)\n",
    "print(\"The end\")"
   ]
  },
  {
   "cell_type": "markdown",
   "metadata": {
    "id": "3VkMPduf1b7O"
   },
   "source": [
    "**Explanation:**\n",
    "\n",
    "In this program, we iterate through the \"**`string`**\" sequence. We check if the letter is **`i`**, upon which we break from the loop. Hence, we see in our output that all the letters up till **`i`** gets printed. After that, the loop terminates."
   ]
  },
  {
   "cell_type": "markdown",
   "metadata": {
    "id": "nIdsdlRy1b7O"
   },
   "source": [
    "Print the letters in \"HELLOWORLD\" one by one untill the letter R is reached using break statement in Python."
   ]
  },
  {
   "cell_type": "code",
   "execution_count": null,
   "metadata": {
    "ExecuteTime": {
     "end_time": "2021-06-12T16:08:14.842176Z",
     "start_time": "2021-06-12T16:08:14.824110Z"
    },
    "id": "XQFZJvq-1b7P",
    "outputId": "d246dfd3-6155-4ff7-8e8c-c411a71d7ff7",
    "scrolled": true
   },
   "outputs": [
    {
     "name": "stdout",
     "output_type": "stream",
     "text": [
      "H\n",
      "E\n",
      "L\n",
      "L\n",
      "O\n",
      "W\n",
      "O\n",
      "untill letter R printed\n"
     ]
    }
   ],
   "source": [
    "# Example 3:\n",
    "\n",
    "for letter in \"HELLOWORLD\":   # letter is a variable which could have been with any name. each iteration the letter is advanced in the string \"FACEPREP\" and stored in variable letter.\n",
    "    if letter == \"R\":        #check for condition\n",
    "        break               # if condition true, then break out of the loop and print the final print statement.\n",
    "    print(letter)       # if condition false, then print that letter.\n",
    "print('untill letter R printed')    #once the for loop is terminated, print this.\n",
    "\n",
    "# Note: observe the indentations carefully"
   ]
  },
  {
   "cell_type": "code",
   "execution_count": null,
   "metadata": {
    "ExecuteTime": {
     "end_time": "2021-06-12T16:08:22.314280Z",
     "start_time": "2021-06-12T16:08:15.161023Z"
    },
    "id": "7qgjbcAD1b7P",
    "outputId": "ee775aac-f9c8-4e9f-9353-adb5fba0b458",
    "scrolled": true
   },
   "outputs": [
    {
     "name": "stdout",
     "output_type": "stream",
     "text": [
      "Enter a word: Happy\n",
      "A not found\n"
     ]
    }
   ],
   "source": [
    "# Example 4: program to check if letter 'A' is present in the input\n",
    "\n",
    "a = input (\"Enter a word: \")\n",
    "for i in a:\n",
    "    if (i == 'A'):\n",
    "        print (\"A is found\")\n",
    "        break\n",
    "else:\n",
    "    print (\"A not found\")\n",
    "\n",
    "# Note: Python is case-sensitive language."
   ]
  },
  {
   "cell_type": "code",
   "execution_count": null,
   "metadata": {
    "ExecuteTime": {
     "end_time": "2021-06-12T16:08:22.376783Z",
     "start_time": "2021-06-12T16:08:22.364087Z"
    },
    "id": "9tNf09Ft1b7P",
    "outputId": "58c7827f-f7ce-44d8-91f5-88cbc946011d"
   },
   "outputs": [
    {
     "name": "stdout",
     "output_type": "stream",
     "text": [
      "A l a n 9 9 "
     ]
    }
   ],
   "source": [
    "# Example 5: bested `while` loop with `break`\n",
    "\n",
    "name = 'Alan99 White'\n",
    "\n",
    "size = len(name)\n",
    "i = 0\n",
    "# iterate loop till the last character\n",
    "while i < size:\n",
    "    # break loop if current character is space\n",
    "    if name[i].isspace():\n",
    "        break\n",
    "    # print current character\n",
    "    print(name[i], end=' ')\n",
    "    i = i + 1"
   ]
  },
  {
   "cell_type": "code",
   "execution_count": null,
   "metadata": {
    "ExecuteTime": {
     "end_time": "2021-06-12T16:08:27.087188Z",
     "start_time": "2021-06-12T16:08:27.056921Z"
    },
    "id": "4k9txHRx1b7Q",
    "outputId": "2ee8d1cc-60e3-41fe-9685-5ec2282dfde5",
    "scrolled": true
   },
   "outputs": [
    {
     "name": "stdout",
     "output_type": "stream",
     "text": [
      "Multiplication table of 1\n",
      "1 2 3 4 5 6 7 8 9 10 \n",
      "Multiplication table of 2\n",
      "2 4 6 8 10 12 14 16 18 20 \n",
      "Multiplication table of 3\n",
      "3 6 9 12 15 18 21 24 27 30 \n",
      "Multiplication table of 4\n",
      "4 8 12 16 20 24 28 32 36 40 \n",
      "Multiplication table of 5\n",
      "5 10 15 20 25 30 35 40 45 50 \n",
      "Multiplication table of 6\n",
      "6 12 18 24 30 \n",
      "Multiplication table of 7\n",
      "7 14 21 28 35 \n",
      "Multiplication table of 8\n",
      "8 16 24 32 40 \n",
      "Multiplication table of 9\n",
      "9 18 27 36 45 \n",
      "Multiplication table of 10\n",
      "10 20 30 40 50 \n"
     ]
    }
   ],
   "source": [
    "# Example 6:\n",
    "\n",
    "for i in range(1, 11):\n",
    "    print('Multiplication table of', i)\n",
    "    for j in range(1, 11):\n",
    "        # condition to break inner loop\n",
    "        if i > 5 and j > 5:\n",
    "            break\n",
    "        print(i * j, end=' ')\n",
    "    print('')"
   ]
  },
  {
   "cell_type": "markdown",
   "metadata": {
    "id": "UCerYoJg1b7Q"
   },
   "source": [
    "### 2. `break` Statement in Outer Loop\n",
    "\n",
    "To terminate the outside loop, use a **`break`** statement inside the outer loop. For example:"
   ]
  },
  {
   "cell_type": "code",
   "execution_count": null,
   "metadata": {
    "ExecuteTime": {
     "end_time": "2021-06-12T16:08:29.111587Z",
     "start_time": "2021-06-12T16:08:29.095964Z"
    },
    "id": "i9cPMLfk1b7Q",
    "outputId": "13db81dc-421b-407f-8b94-b8eec41b54af",
    "scrolled": true
   },
   "outputs": [
    {
     "name": "stdout",
     "output_type": "stream",
     "text": [
      "Multiplication table of 1\n",
      "1 2 3 4 5 6 7 8 9 10 \n",
      "Multiplication table of 2\n",
      "2 4 6 8 10 12 14 16 18 20 \n",
      "Multiplication table of 3\n",
      "3 6 9 12 15 18 21 24 27 30 \n",
      "Multiplication table of 4\n",
      "4 8 12 16 20 24 28 32 36 40 \n",
      "Multiplication table of 5\n",
      "5 10 15 20 25 30 35 40 45 50 \n"
     ]
    }
   ],
   "source": [
    "# Example 1: Break nested loop\n",
    "\n",
    "for i in range(1, 11):\n",
    "    # condition to break outer loop\n",
    "    if i > 5:\n",
    "        break\n",
    "    print('Multiplication table of', i)\n",
    "    for j in range(1, 11):\n",
    "        print(i * j, end=' ')\n",
    "    print('')"
   ]
  },
  {
   "cell_type": "markdown",
   "metadata": {
    "id": "kzSLK5691b7R"
   },
   "source": [
    "**Explanation:**\n",
    "\n",
    "We have two loops, the outer loop, and the inner loop. The outer loop iterates the first 10 numbers, and the internal loop prints the multiplication table of each number.\n",
    "\n",
    "But if the current number of the outer loop is greater than 5 then terminate the outer loop using the **`break`** statement."
   ]
  },
  {
   "cell_type": "code",
   "execution_count": null,
   "metadata": {
    "ExecuteTime": {
     "end_time": "2021-06-12T16:08:30.062754Z",
     "start_time": "2021-06-12T16:08:30.048105Z"
    },
    "id": "9FDUqvfR1b7R",
    "outputId": "e5fdf123-1ceb-44e9-c988-bceaf95a2501",
    "scrolled": false
   },
   "outputs": [
    {
     "name": "stdout",
     "output_type": "stream",
     "text": [
      "Current Number is: 3\n",
      "Square of a current number is: 9\n",
      "Current Number is: 6\n",
      "Square of a current number is: 36\n",
      "Current Number is: 12\n",
      "Current Number is: 9\n",
      "Square of a current number is: 81\n"
     ]
    }
   ],
   "source": [
    "# Example 2:\n",
    "\n",
    "numbers = [3, 6, 12, 9]\n",
    "for i in numbers:\n",
    "    print('Current Number is:', i)\n",
    "    # skip below statement if number is greater than 10\n",
    "    if i > 10:\n",
    "        continue\n",
    "    square = i * i\n",
    "    print('Square of a current number is:', square)"
   ]
  },
  {
   "cell_type": "code",
   "execution_count": null,
   "metadata": {
    "ExecuteTime": {
     "end_time": "2021-06-12T16:08:30.717046Z",
     "start_time": "2021-06-12T16:08:30.705325Z"
    },
    "id": "zN_g6FHc1b7R",
    "outputId": "97c88319-2532-4c9d-a49e-5efb09c0f555",
    "scrolled": true
   },
   "outputs": [
    {
     "name": "stdout",
     "output_type": "stream",
     "text": [
      "1\n",
      "3\n",
      "5\n",
      "End of Loop\n"
     ]
    }
   ],
   "source": [
    "# Example 3: Python Continue Statement Example:\n",
    "\n",
    "a=0\n",
    "\n",
    "while a<=5:\n",
    "    a=a+1\n",
    "    if a%2==0:\n",
    "        continue\n",
    "    print (a)\n",
    "print (\"End of Loop\")"
   ]
  },
  {
   "cell_type": "markdown",
   "metadata": {
    "id": "z1k6vWAR1b7S"
   },
   "source": [
    "**Explanation:**\n",
    "\n",
    "You can use the **`continue`** statement to avoid deeply nested conditional code, or to optimize a loop by eliminating frequently occurring cases that you would like to reject.\n",
    "\n",
    "The **`continue`** statement causes a program to skip certain factors that come up within a loop, but then continue through the rest of the loop."
   ]
  },
  {
   "cell_type": "code",
   "execution_count": null,
   "metadata": {
    "ExecuteTime": {
     "end_time": "2021-06-12T16:08:32.292716Z",
     "start_time": "2021-06-12T16:08:32.273183Z"
    },
    "id": "KNOZ__ex1b7S",
    "outputId": "504d5c42-ad97-450b-c812-afbf744fc357",
    "scrolled": false
   },
   "outputs": [
    {
     "name": "stdout",
     "output_type": "stream",
     "text": [
      "s\n",
      "t\n",
      "r\n",
      "n\n",
      "g\n",
      "The end\n"
     ]
    }
   ],
   "source": [
    "# Example 4: Program to show the use of continue statement inside loops\n",
    "\n",
    "for val in \"string\":\n",
    "    if val == \"i\":\n",
    "        continue\n",
    "    print(val)\n",
    "\n",
    "print(\"The end\")"
   ]
  },
  {
   "cell_type": "markdown",
   "metadata": {
    "id": "dISzNni51b7S"
   },
   "source": [
    "**Explanation**:\n",
    "\n",
    "This program is same as the above example except the **`break`** statement has been replaced with **`continue`**.\n",
    "\n",
    "We continue with the loop, if the string is **`i`**, not executing the rest of the block. Hence, we see in our output that all the letters except **`i`** gets printed."
   ]
  },
  {
   "cell_type": "code",
   "execution_count": null,
   "metadata": {
    "ExecuteTime": {
     "end_time": "2021-06-12T16:08:33.883035Z",
     "start_time": "2021-06-12T16:08:33.872290Z"
    },
    "id": "UB6Pv9XT1b7S",
    "outputId": "7c4e6c07-e1bf-4c94-b982-b4a69b841437",
    "scrolled": false
   },
   "outputs": [
    {
     "name": "stdout",
     "output_type": "stream",
     "text": [
      "Processed 0\n",
      "Processed 1\n",
      "Processed 2\n",
      "Processed 3\n",
      "Processed 4\n",
      "Ignored 5\n",
      "Ignored 6\n",
      "Ignored 7\n",
      "Ignored 8\n",
      "Ignored 9\n"
     ]
    }
   ],
   "source": [
    "# Example 5:\n",
    "\n",
    "for i in range(10):\n",
    "    if i>4:\n",
    "        print(\"Ignored\",i)\n",
    "        continue\n",
    "    # this statement is not reach if i > 4\n",
    "    print(\"Processed\",i)"
   ]
  },
  {
   "cell_type": "markdown",
   "metadata": {
    "id": "gSrvwmKa1b7S"
   },
   "source": [
    "Write a program to skip all \"O\"s in a given string \"HELLOWORLD\""
   ]
  },
  {
   "cell_type": "code",
   "execution_count": null,
   "metadata": {
    "ExecuteTime": {
     "end_time": "2021-06-12T16:08:34.880584Z",
     "start_time": "2021-06-12T16:08:34.863981Z"
    },
    "id": "w2Q3-9O51b7T",
    "outputId": "e07dcbf0-0cc7-4f63-e18e-260aeb56c6b2",
    "scrolled": true
   },
   "outputs": [
    {
     "name": "stdout",
     "output_type": "stream",
     "text": [
      "H\n",
      "e\n",
      "l\n",
      "l\n",
      "o\n",
      "W\n",
      "o\n",
      "r\n",
      "l\n",
      "d\n",
      "The End\n"
     ]
    }
   ],
   "source": [
    "# Example 6:\n",
    "\n",
    "for letters in \"HelloWorld\":  # for every letter in FACEPREP\n",
    "    if letters == \"O\":      # if letter is E, then skip printing the letter and go to the next iteration with the next alphabet\n",
    "        continue            # Remember that loop is not terminated like break statement.\n",
    "    print(letters)\n",
    "print(\"The End\")"
   ]
  },
  {
   "cell_type": "code",
   "execution_count": null,
   "metadata": {
    "id": "s-lPqRa_1b7T"
   },
   "outputs": [],
   "source": []
  },
  {
   "cell_type": "code",
   "execution_count": null,
   "metadata": {
    "ExecuteTime": {
     "end_time": "2021-06-12T16:08:38.606624Z",
     "start_time": "2021-06-12T16:08:38.592955Z"
    },
    "id": "qXWmOW921b7T",
    "outputId": "f581715c-f2b8-425d-92e4-436cce0973d0"
   },
   "outputs": [
    {
     "name": "stdout",
     "output_type": "stream",
     "text": [
      "A r t h u r "
     ]
    }
   ],
   "source": [
    "# Example 1: use the `continue` statement inside a `while` loop\n",
    "\n",
    "name = 'Art hu r'\n",
    "\n",
    "size = len(name)\n",
    "i = -1\n",
    "# iterate loop till the last character\n",
    "while i < size - 1:\n",
    "    i = i + 1\n",
    "    # skip loop body if current character is space\n",
    "    if name[i].isspace():\n",
    "        continue\n",
    "    # print current character\n",
    "    print(name[i], end=' ')"
   ]
  },
  {
   "cell_type": "markdown",
   "metadata": {
    "id": "yHZUlNdl1b7U"
   },
   "source": [
    "## `continue` statement with `else` statements\n",
    "\n",
    "Sometimes we want to know if a loop exited 'normally' or via a **`break`** statement. This can be achieved with an **`else:`** statement in a loop which only executes if there was no **`break`** statement."
   ]
  },
  {
   "cell_type": "code",
   "execution_count": null,
   "metadata": {
    "ExecuteTime": {
     "end_time": "2021-06-12T16:08:51.357492Z",
     "start_time": "2021-06-12T16:08:39.913255Z"
    },
    "id": "Dtmf-1PE1b7U",
    "outputId": "7032d962-bb91-471c-fcd2-4ed93f65834e"
   },
   "outputs": [
    {
     "name": "stdout",
     "output_type": "stream",
     "text": [
      "Enter a word: Honey is sweet\n"
     ]
    }
   ],
   "source": [
    "# Example 1: program to check if letter 'A' is present in the input\n",
    "\n",
    "a = input (\"Enter a word: \")\n",
    "for i in a:\n",
    "    if(i != 'A'):\n",
    "        continue\n",
    "    else:\n",
    "        print(\"A is found\")\n",
    "        break\n",
    "    print(\"A is not found\")\n",
    "\n",
    "# Enter a word: Honey is sweet"
   ]
  },
  {
   "cell_type": "code",
   "execution_count": null,
   "metadata": {
    "ExecuteTime": {
     "end_time": "2021-06-12T16:09:00.030274Z",
     "start_time": "2021-06-12T16:08:53.753959Z"
    },
    "id": "leiYH6O71b7U",
    "outputId": "e4788711-12d6-4751-acf1-6beef1d0cd5b"
   },
   "outputs": [
    {
     "name": "stdout",
     "output_type": "stream",
     "text": [
      "Enter a word: Honey is sweet\n",
      "A is not found\n"
     ]
    }
   ],
   "source": [
    "# Example 1 :without using continue\n",
    "\n",
    "a = input (\"Enter a word: \")\n",
    "for i in a:\n",
    "    if (i == 'A'):\n",
    "        print(\"A is found\")\n",
    "        break\n",
    "else:\n",
    "    print (\"A is not found\")\n",
    "\n",
    "# Enter a word: Honey is sweet"
   ]
  },
  {
   "cell_type": "code",
   "execution_count": null,
   "metadata": {
    "ExecuteTime": {
     "end_time": "2021-06-12T16:09:06.199166Z",
     "start_time": "2021-06-12T16:09:06.188425Z"
    },
    "id": "2K6rjlSE1b7U",
    "outputId": "e3e09576-d765-4d92-a1fa-dc26dc845bef"
   },
   "outputs": [
    {
     "name": "stdout",
     "output_type": "stream",
     "text": [
      "count = 1\n",
      "count = 5\n",
      "count = 9\n",
      "Normal exit with 12\n"
     ]
    }
   ],
   "source": [
    "# Example 2:\n",
    "\n",
    "count = 0\n",
    "while count < 10:\n",
    "    count += 1\n",
    "    if count % 2 == 0: # even number\n",
    "        count += 2\n",
    "        continue\n",
    "    elif 5 < count < 9:\n",
    "        break # abnormal exit if we get here!\n",
    "    print(\"count =\",count)\n",
    "else: # while-else\n",
    "    print(\"Normal exit with\",count)"
   ]
  },
  {
   "cell_type": "markdown",
   "metadata": {
    "id": "QxwawHe71b7U"
   },
   "source": [
    "## Nested `continue` loops"
   ]
  },
  {
   "cell_type": "markdown",
   "metadata": {
    "id": "hoEdFylh1b7U"
   },
   "source": [
    "### 1. `continue` Statement in Nested Loop\n",
    "\n",
    "To skip the current iteration of the nested loop, use the **`continue`** statement inside the body of the inner loop. For example:"
   ]
  },
  {
   "cell_type": "code",
   "execution_count": null,
   "metadata": {
    "ExecuteTime": {
     "end_time": "2021-06-12T16:09:08.793873Z",
     "start_time": "2021-06-12T16:09:08.770437Z"
    },
    "id": "dpAq-3hd1b7V",
    "outputId": "0c1e0533-1bea-4ee8-d14a-24ea065d8751"
   },
   "outputs": [
    {
     "name": "stdout",
     "output_type": "stream",
     "text": [
      "Multiplication table of 1\n",
      "1 2 3 4 6 7 8 9 10 \n",
      "Multiplication table of 2\n",
      "2 4 6 8 12 14 16 18 20 \n",
      "Multiplication table of 3\n",
      "3 6 9 12 18 21 24 27 30 \n",
      "Multiplication table of 4\n",
      "4 8 12 16 24 28 32 36 40 \n",
      "Multiplication table of 5\n",
      "5 10 15 20 30 35 40 45 50 \n",
      "Multiplication table of 6\n",
      "6 12 18 24 36 42 48 54 60 \n",
      "Multiplication table of 7\n",
      "7 14 21 28 42 49 56 63 70 \n",
      "Multiplication table of 8\n",
      "8 16 24 32 48 56 64 72 80 \n",
      "Multiplication table of 9\n",
      "9 18 27 36 54 63 72 81 90 \n",
      "Multiplication table of 10\n",
      "10 20 30 40 60 70 80 90 100 \n"
     ]
    }
   ],
   "source": [
    "# Example 1: `continue` statement in nested loop\n",
    "\n",
    "for i in range(1, 11):\n",
    "    print('Multiplication table of', i)\n",
    "    for j in range(1, 11):\n",
    "        # condition to skip current iteration\n",
    "        if j == 5:\n",
    "            continue\n",
    "        print(i * j, end=' ')\n",
    "    print('')"
   ]
  },
  {
   "cell_type": "markdown",
   "metadata": {
    "id": "_lPUP23T1b7a"
   },
   "source": [
    "**Explanation:**\n",
    "\n",
    "We have the outer loop and the inner loop. The outer loop iterates the first 10 numbers, and the internal loop prints the multiplication table of each number.\n",
    "\n",
    "But if the current number of the inner loop is equal to 5, then skip the current iteration and move to the next iteration of the inner loop using the **`continue`** statement."
   ]
  },
  {
   "cell_type": "markdown",
   "metadata": {
    "id": "4eyVr9fS1b7a"
   },
   "source": [
    "### 2. `continue` Statement in Outer Loop\n",
    "\n",
    "To skip the current iteration of an outside loop, use the **`continue`** statement inside the outer loop. For example:"
   ]
  },
  {
   "cell_type": "code",
   "execution_count": null,
   "metadata": {
    "ExecuteTime": {
     "end_time": "2021-06-12T16:09:11.154202Z",
     "start_time": "2021-06-12T16:09:11.131744Z"
    },
    "id": "WN_fT_3D1b7b",
    "outputId": "18abbf59-910d-4a13-caf3-8da38ee808a0",
    "scrolled": true
   },
   "outputs": [
    {
     "name": "stdout",
     "output_type": "stream",
     "text": [
      "Multiplication table of 1\n",
      "1 2 3 4 5 6 7 8 9 10 \n",
      "Multiplication table of 3\n",
      "3 6 9 12 15 18 21 24 27 30 \n",
      "Multiplication table of 5\n",
      "5 10 15 20 25 30 35 40 45 50 \n",
      "Multiplication table of 7\n",
      "7 14 21 28 35 42 49 56 63 70 \n",
      "Multiplication table of 9\n",
      "9 18 27 36 45 54 63 72 81 90 \n"
     ]
    }
   ],
   "source": [
    "# Example 1: `continue` statement in outer loop\n",
    "\n",
    "for i in range(1, 11):\n",
    "    # condition to skip iteration\n",
    "    # Don't print multiplication table of even numbers\n",
    "    if i % 2 == 0:\n",
    "        continue\n",
    "    print('Multiplication table of', i)\n",
    "    for j in range(1, 11):\n",
    "        print(i * j, end=' ')\n",
    "    print('')"
   ]
  },
  {
   "cell_type": "markdown",
   "metadata": {
    "id": "NIZ72P6y1b7b"
   },
   "source": [
    "**Explanation:**\n",
    "\n",
    "The outer loop iterates the first 10 numbers, and the internal loop prints the multiplication table of each number.\n",
    "\n",
    "But if the current number of the outer loop is even, then skip the current iteration of the outer loop and move to the next iteration.\n",
    "\n",
    ">**Note:** If we skip the current iteration of an outer loop, the inner loop will not be executed for that iteration because the inner loop is part of the body of an outer loop."
   ]
  },
  {
   "cell_type": "markdown",
   "metadata": {
    "id": "vsOgXIxC1b7b"
   },
   "source": [
    "## Catching exceptions with `continue` statement\n",
    "\n",
    "Sometimes it is desirable to deal with errors without stopping the whole program. This can be achieved using a **try** statement. Appart from dealing with with system errors, it also alows aborting from somewhere deep down in nested execution. It is possible to attach multiple error handlers depending on the type of the exception\n",
    "\n",
    "```python\n",
    "try:\n",
    "    code\n",
    "except <Exception Type> as <variable name>:\n",
    "    # deal with error of this type\n",
    "except:\n",
    "    # deal with any error\n",
    "finally:\n",
    "    # execute irrespective of whether an exception occured or not\n",
    "```"
   ]
  },
  {
   "cell_type": "code",
   "execution_count": null,
   "metadata": {
    "ExecuteTime": {
     "end_time": "2021-06-12T16:09:14.039436Z",
     "start_time": "2021-06-12T16:09:14.025766Z"
    },
    "id": "2_keIw9w1b7b",
    "outputId": "77fa16c1-a960-4464-8ce5-3775b7ffcef9"
   },
   "outputs": [
    {
     "name": "stdout",
     "output_type": "stream",
     "text": [
      "Looping\n",
      "Looping\n",
      "Looping\n",
      "Looping\n",
      "Caught exception: abort\n",
      "All done\n"
     ]
    }
   ],
   "source": [
    "try:\n",
    "    count=0\n",
    "    while True:\n",
    "        while True:\n",
    "            while True:\n",
    "                print(\"Looping\")\n",
    "                count = count + 1\n",
    "                if count > 3:\n",
    "                    raise Exception(\"abort\") # exit every loop or function\n",
    "                if count > 4:\n",
    "                    raise StopIteration(\"I'm bored\") # built in exception type\n",
    "except StopIteration as e:\n",
    "    print(\"Stopped iteration:\",e)\n",
    "except Exception as e: # this is where we go when an exception is raised\n",
    "    print(\"Caught exception:\",e)\n",
    "finally:\n",
    "    print(\"All done\")"
   ]
  },
  {
   "cell_type": "markdown",
   "metadata": {
    "id": "7Z8-ChZm1b7c"
   },
   "source": [
    "This can also be useful to handle unexpected system errors more gracefully:"
   ]
  },
  {
   "cell_type": "code",
   "execution_count": null,
   "metadata": {
    "ExecuteTime": {
     "end_time": "2021-06-12T16:09:14.897340Z",
     "start_time": "2021-06-12T16:09:14.890500Z"
    },
    "id": "GnrnmJXK1b7c",
    "outputId": "186c12bd-5dd0-4bdd-9ccf-972a32e267f5"
   },
   "outputs": [
    {
     "name": "stdout",
     "output_type": "stream",
     "text": [
      "Cannot calculate inverse because: float division by zero\n"
     ]
    }
   ],
   "source": [
    "try:\n",
    "    for i in [2,1.5,0.0,3]:\n",
    "        inverse = 1.0/i\n",
    "except Exception as e: # no matter what exception\n",
    "    print(\"Cannot calculate inverse because:\", e)"
   ]
  },
  {
   "cell_type": "code",
   "execution_count": null,
   "metadata": {
    "id": "q9ojKag81b7c"
   },
   "outputs": [],
   "source": []
  },
  {
   "cell_type": "markdown",
   "metadata": {
    "id": "OQZtdI0n1b7c"
   },
   "source": [
    "# 3. Python `pass` statement\n",
    "\n",
    "In Python, **`pass`** keyword is used to execute **nothing**; it means, when we don't want to execute code, the pass can be used to execute empty. It is same as the name refers to. It just makes the control to pass by without executing any code. If we want to bypass any code pass statement can be used.\n",
    "\n",
    "It is used as a placeholder for future implementation of functions, loops, etc.\n",
    "\n",
    "Suppose we have a loop or a function that is not implemented yet, but we want to implement it in the future. They cannot have an empty body. The interpreter would give an error. So, we use the **`pass`** statement to construct a body that does nothing.\n",
    "\n",
    "### Example:\n",
    "\n",
    "```python\n",
    "'''pass is just a placeholder for\n",
    "functionality to be added later.'''\n",
    ">>> sequence = {'p', 'a', 's', 's'}\n",
    ">>> for val in sequence:\n",
    ">>>     pass\n",
    "```\n",
    "\n",
    "We can do the same thing in an empty **function** or **class** as well.\n",
    "\n",
    "```python\n",
    ">>> def function(args):\n",
    ">>>     pass\n",
    "```\n",
    "or\n",
    "```python\n",
    ">>> class Example:\n",
    ">>>    pass\n",
    "```"
   ]
  },
  {
   "cell_type": "code",
   "execution_count": null,
   "metadata": {
    "ExecuteTime": {
     "end_time": "2021-06-12T16:09:17.500828Z",
     "start_time": "2021-06-12T16:09:17.481302Z"
    },
    "id": "q3ktvGZ01b7c",
    "outputId": "b1e24248-9e24-4709-ff68-9726b3d09723"
   },
   "outputs": [
    {
     "name": "stdout",
     "output_type": "stream",
     "text": [
      "['January', 'June', 'March', 'April']\n"
     ]
    }
   ],
   "source": [
    "# Example 1:\n",
    "\n",
    "months = ['January', 'June', 'March', 'April']\n",
    "for mon in months:\n",
    "    pass\n",
    "print(months)"
   ]
  },
  {
   "cell_type": "code",
   "execution_count": null,
   "metadata": {
    "ExecuteTime": {
     "end_time": "2021-06-12T16:09:18.217623Z",
     "start_time": "2021-06-12T16:09:18.195650Z"
    },
    "id": "luUCH-UT1b7d",
    "outputId": "742d85d6-d857-4201-def6-8ec4af176ffd",
    "scrolled": false
   },
   "outputs": [
    {
     "name": "stdout",
     "output_type": "stream",
     "text": [
      "Number is 1\n",
      "Number is 2\n",
      "Number is 3\n",
      "Number is 4\n",
      "Number is 5\n",
      "Number is 6\n",
      "Number is 7\n",
      "Number is 8\n",
      "Number is 9\n",
      "Number is 10\n",
      "Out of loop\n"
     ]
    }
   ],
   "source": [
    "# Example 2: Python Pass Statement\n",
    "\n",
    "number = 0\n",
    "\n",
    "for number in range(10):\n",
    "    number = number + 1\n",
    "    if number == 5:\n",
    "        pass   # pass here\n",
    "    print('Number is ' + str(number))\n",
    "print('Out of loop')"
   ]
  },
  {
   "cell_type": "markdown",
   "metadata": {
    "id": "iSUlFmWb1b7d"
   },
   "source": [
    "**Explanation**:\n",
    "\n",
    "By using the **`pass`** statement in this program, we notice that the program runs exactly as it would if there were no conditional statement in the program. The **`pass`** statement tells the program to **disregard that condition** and **continue to run** the program as usual."
   ]
  },
  {
   "cell_type": "markdown",
   "metadata": {
    "id": "LbluuSiV1b7d"
   },
   "source": [
    "## Control Statements in Python FAQs\n",
    "\n",
    "1. How many control statements are present in Python?\n",
    "> In Python, there are 3 types of control statements. Namely, break, continue and pass statements.\n",
    "\n",
    "2. How to break from a loop in Python?\n",
    ">The keyword break is used to break or terminate from the current loop. The control shifts to the next statement outside the loop.\n",
    "\n",
    "3. What is the difference between break and continue statements in Python?\n",
    ">Break statement exits out of the loop, but the continue statement shifts the control to the next iteration and doesn’t exit out of the loop.\n",
    "\n",
    "4. Can we use continue in if statement in Python?\n",
    ">Yes. Continue statements can be used within an if statement.\n",
    "\n",
    "5. What is the use of pass keyword in Python?\n",
    ">Pass keyword helps in avoiding errors that result due to an empty loop."
   ]
  }
 ],
 "metadata": {
  "colab": {
   "provenance": []
  },
  "hide_input": false,
  "kernelspec": {
   "display_name": "Python 3",
   "language": "python",
   "name": "python3"
  },
  "language_info": {
   "codemirror_mode": {
    "name": "ipython",
    "version": 3
   },
   "file_extension": ".py",
   "mimetype": "text/x-python",
   "name": "python",
   "nbconvert_exporter": "python",
   "pygments_lexer": "ipython3",
   "version": "3.8.8"
  },
  "toc": {
   "base_numbering": 1,
   "nav_menu": {},
   "number_sections": true,
   "sideBar": true,
   "skip_h1_title": false,
   "title_cell": "Table of Contents",
   "title_sidebar": "Contents",
   "toc_cell": false,
   "toc_position": {},
   "toc_section_display": true,
   "toc_window_display": false
  },
  "varInspector": {
   "cols": {
    "lenName": 16,
    "lenType": 16,
    "lenVar": 40
   },
   "kernels_config": {
    "python": {
     "delete_cmd_postfix": "",
     "delete_cmd_prefix": "del ",
     "library": "var_list.py",
     "varRefreshCmd": "print(var_dic_list())"
    },
    "r": {
     "delete_cmd_postfix": ") ",
     "delete_cmd_prefix": "rm(",
     "library": "var_list.r",
     "varRefreshCmd": "cat(var_dic_list()) "
    }
   },
   "types_to_exclude": [
    "module",
    "function",
    "builtin_function_or_method",
    "instance",
    "_Feature"
   ],
   "window_display": false
  }
 },
 "nbformat": 4,
 "nbformat_minor": 0
}
