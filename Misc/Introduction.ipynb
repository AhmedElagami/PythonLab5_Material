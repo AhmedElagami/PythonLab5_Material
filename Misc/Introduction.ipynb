{
 "cells": [
  {
   "cell_type": "markdown",
   "metadata": {
    "id": "PyZ8Kn3MwbAX"
   },
   "source": [
    "# What is programming?\n",
    "\n",
    "Feel free to **[skip this part](#howto)** if you already know everything it's talking about.\n",
    "\n",
    "As a computer user you know that computers don't have feelings. They don't work any faster or slower depending on if we're angry at them or if we're happy. Computers can perform millions of calculations per second, but they require us to tell them exactly what to do. If they do something else than we want them to do the problem is usually that they don't understand our instructions the way we understand them.\n",
    "\n",
    "The only big difference between programming and what you're familiar with already is that instead of clicking buttons to do things we write the instructions using a **programming language**. Most programming languages consist of English words, digits and some characters that have special meanings.\n",
    "\n",
    "Unlike people often think, programming is usually not complicated. Large programs are always made of small, simple pieces, and those pieces are written one by one. Programming languages are made to be used by humans, so if there's an easy way to do something and a difficult way to do something, you should use the easier way."
   ]
  },
  {
   "cell_type": "markdown",
   "metadata": {
    "id": "k2YFOa3OwbAX"
   },
   "source": [
    "## What do I need?\n",
    "\n",
    "First of all, you don't need to be good at math. Some programmers are good at math, some are not. Programming and math are two separate things and being good or bad at one doesn't mean you are automatically good or bad at the other.\n",
    "\n",
    "You also don't need a powerful computer. I could do almost all of my programming on a 12-year-old computer if I needed to. Fast computers are nice to work with, but you don't need them.\n",
    "\n",
    "Programming takes time like all hobbies do. Some people learn it quickly, and some people don't. I don't expect you to read this tutorial in a couple hours and then master everything it's talking about. Take your time with things, and remember that I learned to program slowly."
   ]
  },
  {
   "cell_type": "markdown",
   "metadata": {
    "id": "teGlbGrcwbAY"
   },
   "source": [
    "## Getting started\n",
    "\n",
    "This tutorial uses a programming language called Python because it's easy to learn and we can do many different things with it. For example, we can create our own applications that have buttons that people can click instead of just using applications written by others.\n",
    "\n",
    "In this tutorial we need to know how to type these characters. We'll learn their meanings later.\n",
    "\n",
    "| Character | Names |\n",
    "|:---: |:--- |\n",
    "| **`+`** | **plus** |\n",
    "| **`-`** | **minus, dash** |\n",
    "| **`_`** | **underscore** |\n",
    "| **`*`** | **star, asterisk** |\n",
    "| **`/`** | **forwardslash (it's leaning forward)** |\n",
    "| **`\\`** | **backslash (it's leaning back)** |\n",
    "| **`=`** | **equals sign** |\n",
    "| **`%`** | **percent sign** |\n",
    "| **`.`** | **dot** |\n",
    "| **`,`** | **comma** |\n",
    "| **`:`** | **colon** |\n",
    "| **`;`** | **semi-colon** |\n",
    "| **`?`** | **question mark** |\n",
    "| **`!`** | **exclamation mark** |\n",
    "| **`< >`** | **less-than and greater-than signs** |\n",
    "| **`' \"`** | **single quote and double quote** |\n",
    "| **`#`** | **hashtag** |\n",
    "| **`()`** | **parentheses** |\n",
    "| **`[]`** | **square brackets, brackets** |\n",
    "| **`{}`** | **curly braces, braces, curly brackets** |\n",
    "\n",
    "That may seem like many characters, but you probably know many of them already so it shouldn't be a problem."
   ]
  },
  {
   "cell_type": "markdown",
   "metadata": {
    "id": "HSknPHW9wbAY"
   },
   "source": [
    "<a id=\"howto\"></a>\n",
    "## How to read this tutorial\n",
    "\n",
    "I've done my best to make this tutorial as easy to follow as possible.\n",
    "\n",
    "1. Try the example code yourself.\n",
    "2. Read the code and the explanation for it again.\n",
    "3. If there's something you haven't seen before in the tutorial and it's not explained, try to find it in the previous chapters.\n",
    "4. If you can't find what you're looking for or you still have trouble understanding the tutorial or any other problems with the tutorial, please tell me about it\n",
    "\n",
    "You are free to combine this tutorial with other learning resources. If this tutorial isn't exactly what you're looking for you don't need to stick with nothing but this. You can find another tutorial and mix the tutorials however you want as long as you **make sure that you understand everything you read**.\n",
    "\n",
    "One of the most important things with learning to program is to not fear mistakes. If you make a mistake, your computer will not break in any way. You'll get an error message that tells you what's wrong and where. Even professional programmers do mistakes and get error messages all the time, and there's nothing wrong with it.\n",
    "\n",
    "If you want to know what some piece of code in this tutorial does just **try it and see**. It's practically impossible to break anything accidentally with the things you will learn by reading this tutorial, so you are free to try out all the examples however you want and change them to do whatever you want.\n",
    "\n",
    "Even though a good tutorial is an important part about learning to program, you also need to learn to make your own things. Use what you have learned, and create something with it."
   ]
  },
  {
   "cell_type": "markdown",
   "metadata": {
    "id": "8nj0tf1ywbAZ"
   },
   "source": [
    "## But reading is boring!\n",
    "\n",
    "This chapter is probably the most boring chapter in the whole tutorial. Other chapters contain much less text and much more code. You can also get pretty far by just reading the code, and then reading the text only if you don't understand the code."
   ]
  },
  {
   "cell_type": "code",
   "execution_count": null,
   "metadata": {
    "executionInfo": {
     "elapsed": 3,
     "status": "ok",
     "timestamp": 1694645849447,
     "user": {
      "displayName": "Ahmed M. Elagamy",
      "userId": "08228471893731117095"
     },
     "user_tz": -120
    },
    "id": "aioQ8dr9wbAZ"
   },
   "outputs": [],
   "source": []
  },
  {
   "cell_type": "markdown",
   "metadata": {
    "id": "RM4Han2H2pPu"
   },
   "source": [
    "# Python Programming\n",
    "\n",
    "Python is a powerful multipurpose programming language created by *Guido van Rossum*.\n",
    "\n",
    "It has a simple and easy-to-use syntax, making it a popular first-choice programming language for beginners.\n",
    "\n",
    "This is a comprehensive guide that explores the reasons you should consider learning Python and the ways you can get started with Python.\n"
   ]
  },
  {
   "cell_type": "markdown",
   "metadata": {
    "id": "tXKujYs02pPv"
   },
   "source": [
    "## What is Python Programming Language?\n",
    "\n",
    "Python is an interpreted, object-oriented, high-level programming language. As it is general-purpose, it has a wide range of applications from web development, building desktop GUI to scientific and mathematical computing.\n",
    "\n",
    "Python is popular for its simple and relatively straightforward syntax. Its syntax readability increases productivity as it allows us to focus more on the problem rather than structuring the code."
   ]
  },
  {
   "cell_type": "markdown",
   "metadata": {
    "id": "w0FUs-dz2pPw"
   },
   "source": [
    "## Features of Python Programming"
   ]
  },
  {
   "cell_type": "markdown",
   "metadata": {
    "id": "XDJYrfsy2pPw"
   },
   "source": [
    "### Simple and easy to learn\n",
    "Python has a very simple and elegant syntax. It is much easier to read and write programs in Python compared to other languages like C, C++, or Java.\n",
    "\n",
    "Due to this reason, many beginners are introduced to programming with Python as their first programming language.\n",
    "\n",
    "### Free and open-source\n",
    "You can freely use and distribute Python programs even for commercial use. As it is open-source, you can even change Python's source code to fit your use case.\n",
    "\n",
    "### Portability\n",
    "A single Python program can run on different platforms without any change in source code. It runs on almost all platforms including Windows, Mac OS X, and Linux.\n",
    "\n",
    "### Extensible and Embeddable\n",
    "You can combine Python code with other programming languages like C or Java to increase efficiency. This allows high performance and scripting capabilities that other languages do not provide out of the box.\n",
    "\n",
    "### High-Level Interpreted Language\n",
    "Python itself handles tasks like memory management and garbage collection. So unlike C or C++, you don't have to worry about system architecture or any other lower-level operations.\n",
    "\n",
    "### Rich library and large community\n",
    "Python has numerous reliable built-in libraries. Python programmers have developed tons of free and open-source libraries, so you don't have to code everything by yourself.\n",
    "\n",
    "The Python community is very large and evergrowing. If you encounter errors while programming in Python, it's like that it has already been asked and solved by someone in this community."
   ]
  },
  {
   "cell_type": "markdown",
   "metadata": {
    "id": "o5AoIi2g2pPx"
   },
   "source": [
    "## Reasons to Choose Python as First Language"
   ]
  },
  {
   "cell_type": "markdown",
   "metadata": {
    "id": "r-BiKhOh2pPy"
   },
   "source": [
    "### 1. Simple Elegant Syntax\n",
    "\n",
    "Programming in Python is fun. It's easier to understand and write Python code. The syntax feels natural. Let's take the following example where we add two numbers:\n",
    "\n",
    "```python\n",
    "a = 2\n",
    "b = 3\n",
    "sum = a + b\n",
    "print(sum)\n",
    "```\n",
    "\n",
    "Even if you have never programmed before, you can easily guess that this program adds two numbers and displays it."
   ]
  },
  {
   "cell_type": "markdown",
   "metadata": {
    "id": "87OJ3Us62pPy"
   },
   "source": [
    "### 2. Not overly strict\n",
    "\n",
    "You don't need to define the type of a variable in Python. Also, it's not necessary to add a semicolon at the end of the statement.\n",
    "\n",
    "Python enforces you to follow good practices (like proper indentation). These small things can make learning much easier for beginners."
   ]
  },
  {
   "cell_type": "markdown",
   "metadata": {
    "id": "B-v0NncH2pPz"
   },
   "source": [
    "### 3. The expressiveness of the language\n",
    "\n",
    "Python allows you to write programs having greater functionality with fewer lines of code. Let's look at code to swap the values of two variables. It can be done in Python with the following lines of code:\n",
    "\n",
    "```python\n",
    "a = 15\n",
    "b = 27\n",
    "print(f'Before swapping: a, b = {a},{b}')\n",
    "a, b = b, a\n",
    "print(f'After swapping: a, b = {a},{b}')\n",
    "```\n",
    "\n",
    "Here, we can see that the code is very less and more readable.\n",
    "\n",
    "If instead, we were to use Java, the same program would have to be written in the following way:\n",
    "\n",
    "```python\n",
    "public class Swap {\n",
    " public static void main(String[] args) {\n",
    "   int a, b, temp;\n",
    "   a = 15;\n",
    "   b = 27;\n",
    "   System.out.println(\"Before swapping : a, b = \"+a+\", \"+ + b);\n",
    "   temp = a;\n",
    "   a = b;\n",
    "   b = temp;   \n",
    "   System.out.println(\"After swapping : a, b = \"+a+\", \"+ + b);\n",
    " }\n",
    " }\n",
    "```\n",
    "\n",
    "This is just an example. There are many more such cases where Python increases efficiency by reducing the amount of code required to program something."
   ]
  },
  {
   "cell_type": "markdown",
   "metadata": {
    "id": "sr40jnaq2pPz"
   },
   "source": [
    "## Python Applications Area\n",
    "\n",
    "Python is known for its **general purpose** nature that makes it applicable in almost each domain of software development. Python as a whole can be used in any sphere of development.\n",
    "\n",
    "\n",
    "Here, we are **specifing applications** areas where python can be applied.\n",
    "\n",
    "1. **Web Applications**\n",
    "    - We can use Python to develop web applications. It provides libraries to handle internet protocols such as HTML and XML, JSON, Email processing, request, beautifulSoup, Feedparser etc. It also provides Frameworks such as Django, Pyramid, Flask etc to design and delelop web based applications. Some important developments are: PythonWikiEngines, Pocoo, PythonBlogSoftware etc.\n",
    "\n",
    "2. **AI & Machine Learning**\n",
    "    - Python has Prebuilt Libraries like Numpy for scientific computation, Scipy for advanced computing and Pybrain for machine learning (Python Machine Learning) making it one of the best languages For AI.\n",
    "\n",
    "3. **Desktop GUI Applications**\n",
    "    - Python provides Tk GUI library to develop user interface in python based application. Some other useful toolkits wxWidgets, Kivy, pyqt that are useable on several platforms. The Kivy is popular for writing multitouch applications.\n",
    "\n",
    "4. **Software Development**\n",
    "    - Python is helpful for software development process. It works as a support language and can be used for build control and management, testing etc.\n",
    "\n",
    "5. **Scientific and Numeric**\n",
    "    - Python is popular and widely used in scientific and numeric computing. Some useful library and package are SciPy, Pandas, IPython etc. SciPy is group of packages of engineering, science and mathematics.\n",
    "\n",
    "6. **Business Applications**\n",
    "    - Python is used to build Bussiness applications like ERP and e-commerce systems. Tryton is a high level application platform.\n",
    "\n",
    "7. **Console Based Application**\n",
    "    - We can use Python to develop console based applications. For example: IPython.\n",
    "\n",
    "8. **Audio or Video based Applications**\n",
    "    - Python is awesome to perform multiple tasks and can be used to develop multimedia applications. Some of real applications are: TimPlayer, cplay etc.\n",
    "\n",
    "9. **3D CAD Applications**\n",
    "    - To create CAD application Fandango is a real application which provides full features of CAD.\n",
    "\n",
    "10. **Enterprise Applications**\n",
    "    - Python can be used to create applications which can be used within an Enterprise or an Organization. Some real time applications are: OpenErp, Tryton, Picalo etc.\n",
    "\n",
    "11. **Applications for Images**\n",
    "    - Using Python several application can be developed for image. Applications developed are: VPython, Gogh, imgSeek etc.\n",
    "\n",
    "12. **Games and 3D Graphics**\n",
    "    - PyGame, PyKyra are two frameworks for game-development with Python. Apart from these, we also get a variety of 3D-rendering libraries. If you’re one of those game-developers, you can check out PyWeek, a semi-annual game programming contest."
   ]
  },
  {
   "cell_type": "markdown",
   "metadata": {
    "id": "CT-xKPvf2pP0"
   },
   "source": [
    "### 4. Great Community and Support\n",
    "\n",
    "Python has a large supporting community. There are numerous active online forums which can come in handy if you are stuck anywhere in the learning process. Some of them are:\n",
    "\n",
    "* **[Learn Python subreddit](https://www.reddit.com/r/learnpython)**\n",
    "* **[Google Forum for Python](https://groups.google.com/forum/#!forum/comp.lang.python)**\n",
    "* **[Python Questions - Stack Overflow](https://stackoverflow.com/questions/tagged/python)**"
   ]
  },
  {
   "cell_type": "markdown",
   "metadata": {
    "id": "JTLCk6cw2pP1"
   },
   "source": [
    "## How you can learn to code in Python?"
   ]
  },
  {
   "cell_type": "markdown",
   "metadata": {
    "id": "pZU2Cna_2pP1"
   },
   "source": [
    "### Learn Python from Dr. Milaan Parmar\n",
    "\n",
    "Programiz offers dozens of tutorials and examples to help you learn Python programming from scratch. Each tutorial is written in-depth with examples and detailed explanations.\n",
    "\n",
    "### Learn Python from Books\n",
    "\n",
    "It is always a good idea to learn to program from books. You will get the big picture of programming concepts in the book which you may not find elsewhere.\n",
    "\n",
    "Here are 3 books we personally recommend.\n",
    "\n",
    "* **[Think Python: How to Think Like a Computer Scientist](http://amzn.to/2dVg5rG)** - a hands-on guide to start learning Python with lots of exercise materials\n",
    "* **[Starting out With Python](http://amzn.to/2diJu8Z)** - introductory programming book for students with limited programming experience\n",
    "* **[Effective Python: 59 Specific Ways to Write Better Python](http://amzn.to/2e2EiJt)** - an excellent book for learning to write robust, efficient and maintainable code in Python\n"
   ]
  },
  {
   "cell_type": "markdown",
   "metadata": {
    "id": "rPWyJSk02pP1"
   },
   "source": [
    "## Final Words\n",
    "\n",
    "I personally think Python is a terrific language to learn.\n",
    "\n",
    "If you are getting started in programming, Python is an awesome choice. You will be amazed by how much you can do in Python once you know the basics.\n",
    "\n",
    "It is easy to overlook the fact that Python is a powerful language. Not only is Python good for learning programming, but it is also a good language to have in your arsenal.\n",
    "\n",
    "Python can help you to get started in everything, whether it is changing your idea into a prototype, creating a game, or getting in Machine Learning and Artificial Intelligence."
   ]
  },
  {
   "cell_type": "code",
   "execution_count": null,
   "metadata": {
    "id": "J4MLRJMK2pP2"
   },
   "outputs": [],
   "source": []
  },
  {
   "cell_type": "markdown",
   "metadata": {
    "id": "ZOXrUW0fxPN1"
   },
   "source": [
    "# How to install Python\n",
    "\n",
    "> These document provide a relatively brief overview of how to install Python in your machine."
   ]
  },
  {
   "cell_type": "markdown",
   "metadata": {
    "id": "0Gce3qEBxPN_"
   },
   "source": [
    "# OPTION 2: The Easiest Way to Run Python\n",
    "\n",
    "The easiest way to run Python is by using **Thonny IDE**.\n",
    "\n",
    "The Thonny IDE comes with the latest version of Python bundled in it. So you don't have to install Python separately.\n",
    "\n",
    "Follow the following steps to run Python on your computer.\n",
    "\n",
    "1. Download **[Thonny IDE](https://thonny.org/)**.\n",
    "2. Run the installer to install **Thonny** on your computer.\n",
    "3. Go to: **File** > **New**. Then save the file with **`.py`** extension. For example, **`hello.py`**, **`example.py`**, etc. You can give any name to the file. However, the file name should end with **`.py`**\n",
    "\n",
    "<div>\n",
    "<img src=\"/content/drive/MyDrive/ELTE/Python/1-Python_Introduction/../img/setup1.png\" width=\"700\"/>\n",
    "</div>\n",
    "\n",
    "4. Write Python code in the file and save it.\n",
    "5. Then Go to **Run** > **Run current script** or simply click **F5** to run it."
   ]
  },
  {
   "cell_type": "markdown",
   "metadata": {
    "id": "4VGSOvOixPN_"
   },
   "source": [
    "# OPTION 3: Install Python Separately (Windows)\n",
    "\n",
    "If you don't want to use Thonny, here's how you can install and run Python on your computer.\n",
    "\n",
    "1. Download the latest version of **[Python](https://www.python.org/downloads/)**.\n",
    "Download Windows x86 – 64 executable file only as installer will automatically install 32 or 64 bit of Python according to the system configuration.\n",
    "\n",
    "2. Run the installer file and follow the steps to install Python\n",
    "\n",
    "3. During the install process, check Add Python to environment variables. This will **add Python to environment variables**, and you can run Python from any part of the computer.\n",
    "\n",
    "Also, you can choose the path where Python is installed.\n",
    "\n",
    "<div>\n",
    "<img src=\"../img/ps1.png\" width=\"550\"/>\n",
    "</div>\n",
    "\n",
    "4. When the installation progress is completed, you will see the Disable path length limit. Now you must be thinking what is it and whats will happen if I will disable it. The answer is clear, it will remove the limitations on **MAX_PATH** variable. It will allow to use long path names for the Python. We recommend you to not disable this option as it will remove any path related issues while working in Windows. Therefore click on the close button to finish the installation.\n",
    "\n",
    "<div>\n",
    "<img src=\"../img/setup2.png\" width=\"550\"/>\n",
    "</div>\n",
    "\n",
    "5. Now, the Python is installed. You can check it either it is properly installed or not. You can do it through Command Prompt. Open the command prompt and type the following command -\" **python -v** \". It will output the version of the Python.\n",
    "\n",
    "6. Congratulation, you have **successfully** installed **Python 3** version. you can read the next tutorial to Python Programming a complete guide for beginners."
   ]
  },
  {
   "cell_type": "markdown",
   "metadata": {
    "id": "L0wuKNnXxPOA"
   },
   "source": [
    "# Run Python\n",
    "\n",
    "## 1. Run Python in Immediate mode\n",
    "\n",
    "Once Python is installed, typing **`python`** in the command line will invoke the interpreter in immediate mode. We can directly type in Python code, and press Enter to get the output.\n",
    "\n",
    "Try typing in **`1 + 1`** and press enter. We get **`2`** as the output. This prompt can be used as a calculator. To exit this mode, type **`quit()`** and press enter.\n",
    "\n",
    "<div>\n",
    "<img src=\"../img/ps2.png\" width=\"550\"/>\n",
    "</div>\n",
    "\n",
    "## 2. Run Python in the Integrated Development Environment (IDE)\n",
    "\n",
    "We can use any text editing software to write a Python script file.\n",
    "\n",
    "We just need to save it with the **`.py`** extension. But using an IDE can make our life a lot easier. IDE is a piece of software that provides useful features like code hinting, syntax highlighting and checking, file explorers, etc. to the programmer for application development.\n",
    "\n",
    "By the way, when you install Python, an IDE named IDLE is also installed. You can use it to run Python on your computer. It's a decent IDE for beginners.\n",
    "\n",
    "When you open IDLE, an interactive Python Shell is opened.\n",
    "\n",
    "<div>\n",
    "<img src=\"../img/ps3.png\" width=\"550\"/>\n",
    "</div>\n",
    "\n",
    "Now you can create a new file and save it with **.py** extension. For example, **hello.py**\n",
    "\n",
    "Write Python code in the file and save it. To run the file, go to **Run** > **Run Module** or simply click **F5**.\n",
    "\n",
    "<div>\n",
    "<img src=\"../img/ps3.png\" width=\"550\"/>\n",
    "</div>"
   ]
  },
  {
   "cell_type": "markdown",
   "metadata": {
    "id": "ahLFcmrhxPOA"
   },
   "source": [
    "#  Python 3 Major Version Installation (Linux)\n",
    "\n",
    "Linux is an open source Operating System. There are many Linux based operating systems. Popular are **Ubuntu, Fedora, Linux Mint, Debian**. In this section you will learn how to do python installation for both Python 3 and Python 2 versions. **Fedora Linux OS** used for Installation of python. Most of the newer Linux based Operating system have **already installed Python**. You will check it is installed or not by the typing the following commands in terminal.\n",
    "\n",
    "* For Python3\n",
    "> **`$ python3 --version`**\n",
    "\n",
    "* For Python2\n",
    "> **`$ python2 --version`**\n",
    "\n",
    "You will see the python versions as output like in the below screenshot. But if you are not seeing then , you have to install Python . Follow the following steps for **successful install**.\n",
    "\n",
    "<div>\n",
    "<img src=\"../img/setup3.png\" width=\"700\"/>\n",
    "</div>\n",
    "\n",
    "If you are using Ubuntu 16.0 or newer version, then you can easily install Python 3.6 or Python 2.7 by typing the following commands\n",
    "\n",
    "> **`$ sudo apt-get update`**\n",
    "\n",
    "> **`$ sudo apt-get install python3.7`**"
   ]
  },
  {
   "cell_type": "markdown",
   "metadata": {
    "id": "32583l4CxPOA"
   },
   "source": [
    "# Python 3 Major Version Installation (MacOS)\n",
    "\n",
    "**MacOs** is an operating system developed by the Apple Inc. It is just like Windows Operating System and other operating system. Most of the newer versions of MacOS have **pre-installed python**. You can check python is installed or not by the following commands.\n",
    "\n",
    "python --version\n",
    "\n",
    "Download the Python 3 or 2 new version. At the time of writing this post , **Python 3.7.4 - July 8, 2019** was the newer version. Download the **[Mac OS X 64-bit/32-bit]((https://www.python.org/downloads/mac-osx/))** installer. Run the package and following the installation steps to install the python packages\n",
    "\n",
    "After the **successful installation**, you can check the python version by using the same command.\n",
    "\n",
    "> **`python --version`**"
   ]
  },
  {
   "cell_type": "code",
   "execution_count": null,
   "metadata": {
    "id": "0JEVqsMOxPOA"
   },
   "outputs": [],
   "source": []
  },
  {
   "cell_type": "markdown",
   "metadata": {
    "id": "yaLXtlsmxR5v"
   },
   "source": [
    "# Python Hello, World\n",
    "\n",
    "**Python** is easy to learn and code and can be execute with python **interpreter**. We can also use Python **interactive shell** to test python code immediately. A simple hello world example is given below. Write below code in a file and save with **.py** extension. Python source file has **.pyextension**."
   ]
  },
  {
   "cell_type": "markdown",
   "metadata": {
    "heading_collapsed": true,
    "id": "gVN-PaTTxR5w"
   },
   "source": [
    "### Writing the “Hello, World!” Program\n",
    "\n",
    "Now that we have Python up and running, we can write our first Python program.\n",
    "\n",
    "Let's create a very simple program called **`Hello World`**. A \"**Hello, World!**\" is a simple program that outputs **`Hello, World!`** on the screen. Since it's a very simple program, it's often used to introduce a new programming language to beginners.\n",
    "\n",
    "```python\n",
    "print(\"Hello, World!\")\n",
    "```\n",
    "\n",
    "Congratulations! You just wrote your first program in Python.\n",
    "\n",
    "As you can see, this was a pretty easy task. This is the beauty of Python programming language."
   ]
  },
  {
   "cell_type": "markdown",
   "metadata": {
    "id": "Ze5Jh9l3xR5_"
   },
   "source": [
    "### Running the “Hello, World!” Program\n",
    "\n",
    "The hello.py program that you just created will cause your terminal to produce the following output:\n",
    "\n",
    "```python\n",
    "Hello, World!\n",
    "```"
   ]
  },
  {
   "cell_type": "code",
   "execution_count": null,
   "metadata": {
    "ExecuteTime": {
     "end_time": "2021-10-02T05:54:05.446620Z",
     "start_time": "2021-10-02T05:54:05.428063Z"
    },
    "id": "GXpNNvK5xR5_",
    "outputId": "2ede9c31-b4c6-4cee-e2ff-980cd00458fd"
   },
   "outputs": [
    {
     "name": "stdout",
     "output_type": "stream",
     "text": [
      "Hello, World!\n"
     ]
    }
   ],
   "source": [
    "print(\"Hello, World!\")"
   ]
  },
  {
   "cell_type": "markdown",
   "metadata": {
    "id": "Sge9Qq3PxR6B"
   },
   "source": [
    "**Congratulations!** You have written the “Hello, World!” program in **Python 3**.\n",
    "Since the program ran, you can now confirm that **Python 3** is properly installed and that the program is **syntactically correct**."
   ]
  },
  {
   "cell_type": "markdown",
   "metadata": {
    "id": "DJ8gRubAxR6B"
   },
   "source": [
    "### How to print blank lines\n",
    "\n",
    "Sometimes you need to print one blank line in your Python program. Following are an example to perform this task.\n",
    "\n",
    "#### Example:\n",
    "\n",
    "Let us print 8 blank lines. You can type:\n",
    "\n",
    "```python\n",
    ">>>print (9 * \"\\n\")\n",
    "```\n",
    "or\n",
    "\n",
    "```python\n",
    ">>>print (\"\\n\\n\\n\\n\\n\\n\\n\\n\\n\")\n",
    "```"
   ]
  },
  {
   "cell_type": "code",
   "execution_count": null,
   "metadata": {
    "ExecuteTime": {
     "end_time": "2021-10-02T05:54:05.600914Z",
     "start_time": "2021-10-02T05:54:05.450525Z"
    },
    "id": "fgFDRdo1xR6B",
    "outputId": "96bc313f-5ed6-425a-9c64-016b1dcb4dcf"
   },
   "outputs": [
    {
     "name": "stdout",
     "output_type": "stream",
     "text": [
      "Hello World!\n",
      "\n",
      "\n",
      "\n",
      "\n",
      "\n",
      "\n",
      "\n",
      "\n",
      "\n",
      "\n",
      "Hello World!\n"
     ]
    }
   ],
   "source": [
    "print (\"Hello World!\")\n",
    "print (9 * \"\\n\")\n",
    "print (\"Hello World!\")"
   ]
  },
  {
   "cell_type": "code",
   "execution_count": null,
   "metadata": {
    "ExecuteTime": {
     "end_time": "2021-10-02T05:54:05.756188Z",
     "start_time": "2021-10-02T05:54:05.604821Z"
    },
    "id": "sDSrzeYvxR6C",
    "outputId": "c76cdd14-bd41-4643-e59d-a8ebe590e601",
    "scrolled": true
   },
   "outputs": [
    {
     "name": "stdout",
     "output_type": "stream",
     "text": [
      "Jan\n",
      "Feb\n",
      "Mar\n",
      "Apr\n",
      "May\n",
      "Jun\n",
      "Jul\n",
      "Aug\n",
      "Sep\n",
      "Oct\n",
      "Nov\n",
      "Dec\n"
     ]
    }
   ],
   "source": [
    "print (\"Jan\\nFeb\\nMar\\nApr\\nMay\\nJun\\nJul\\nAug\\nSep\\nOct\\nNov\\nDec\")"
   ]
  },
  {
   "cell_type": "code",
   "execution_count": null,
   "metadata": {
    "ExecuteTime": {
     "end_time": "2021-10-02T05:54:05.924154Z",
     "start_time": "2021-10-02T05:54:05.762046Z"
    },
    "id": "_unqU97vxR6C",
    "outputId": "0e332149-cf73-4063-de85-dff03c3c0af4",
    "scrolled": true
   },
   "outputs": [
    {
     "name": "stdout",
     "output_type": "stream",
     "text": [
      "I want \\n to be printed.\n",
      "I'm very *happy*\n"
     ]
    }
   ],
   "source": [
    "print (\"I want \\\\n to be printed.\")\n",
    "print(\"I'm very *happy*\")"
   ]
  },
  {
   "cell_type": "code",
   "execution_count": null,
   "metadata": {
    "ExecuteTime": {
     "end_time": "2021-10-02T05:54:06.062828Z",
     "start_time": "2021-10-02T05:54:05.929039Z"
    },
    "id": "mWKDo7vRxR6C",
    "outputId": "610f99cb-b0cc-4bc1-fb7e-26597fb407e2"
   },
   "outputs": [
    {
     "name": "stdout",
     "output_type": "stream",
     "text": [
      "Hello\tWorld!\n"
     ]
    }
   ],
   "source": [
    "print (\"Hello\\tWorld!\") # \\t is equal to 4 spaces"
   ]
  },
  {
   "cell_type": "code",
   "execution_count": null,
   "metadata": {
    "ExecuteTime": {
     "end_time": "2021-10-02T05:54:06.187828Z",
     "start_time": "2021-10-02T05:54:06.066736Z"
    },
    "id": "1sJFO6P8xR6D",
    "outputId": "62cca271-06b5-41c0-a381-59ed1a9586c8"
   },
   "outputs": [
    {
     "name": "stdout",
     "output_type": "stream",
     "text": [
      "\n",
      "Routine:\n",
      "\t- Eat\n",
      "\t- Study\n",
      "\t- Sleep\n",
      "\t- Repeat\n",
      "\n"
     ]
    }
   ],
   "source": [
    "print (\"\"\"\n",
    "Routine:\n",
    "\\t- Eat\n",
    "\\t- Study\n",
    "\\t- Sleep\\n\\t- Repeat\n",
    "\"\"\")"
   ]
  },
  {
   "cell_type": "markdown",
   "metadata": {
    "id": "rkAf59oMxR6D"
   },
   "source": [
    "### Print end command\n",
    "\n",
    "By default, python's **`print()`** function ends with a newline. This function comes with a parameter called **`end`**. The default value of this parameter is **`\\n`**, i.e., the new line character. You can end a print statement with any character or string using this parameter. This is available in only in **Python 3+**\n",
    "\n",
    "#### Example 1:\n",
    "\n",
    "```python\n",
    ">>>print (\"Welcome to\", end = ' ')\n",
    ">>>print (\"Python\", end = '!')`\n",
    "\n",
    "Welcome to Python!\n",
    "```"
   ]
  },
  {
   "cell_type": "code",
   "execution_count": null,
   "metadata": {
    "ExecuteTime": {
     "end_time": "2021-10-02T05:54:06.309901Z",
     "start_time": "2021-10-02T05:54:06.200522Z"
    },
    "id": "EvJZFCKwxR6D",
    "outputId": "4d09a9ea-fe70-475f-81ae-eb8bd7c724bc"
   },
   "outputs": [
    {
     "name": "stdout",
     "output_type": "stream",
     "text": [
      "Welcome to Python!"
     ]
    }
   ],
   "source": [
    "print (\"Welcome to\", end = ' ')\n",
    "print (\"Python\", end = '!')"
   ]
  },
  {
   "cell_type": "markdown",
   "metadata": {
    "id": "KVrEfBChxR6D"
   },
   "source": [
    "#### Example 2:\n",
    "\n",
    "```python\n",
    ">>>print(\"Python\" , end = '@')\n",
    "\n",
    "Python@\n",
    "```"
   ]
  },
  {
   "cell_type": "code",
   "execution_count": null,
   "metadata": {
    "ExecuteTime": {
     "end_time": "2021-10-02T05:54:06.417317Z",
     "start_time": "2021-10-02T05:54:06.315757Z"
    },
    "id": "sEGBoxNnxR6E",
    "outputId": "870fedef-5a15-47c5-ca3b-40b22d91b9cd"
   },
   "outputs": [
    {
     "name": "stdout",
     "output_type": "stream",
     "text": [
      "Python @"
     ]
    }
   ],
   "source": [
    "print(\"Python \" , end = '@') # ends the output with '@'."
   ]
  },
  {
   "cell_type": "code",
   "execution_count": null,
   "metadata": {
    "ExecuteTime": {
     "end_time": "2021-10-02T05:54:06.540364Z",
     "start_time": "2021-10-02T05:54:06.422203Z"
    },
    "id": "9C6ZwpEQxR6E",
    "outputId": "637d2a7b-ab61-40e0-bde7-32e8c3e9559f"
   },
   "outputs": [
    {
     "name": "stdout",
     "output_type": "stream",
     "text": [
      "_M_M_M_M_M_M_M_M_M\n"
     ]
    }
   ],
   "source": [
    "print ('_M'*9)"
   ]
  },
  {
   "cell_type": "code",
   "execution_count": null,
   "metadata": {
    "ExecuteTime": {
     "end_time": "2021-10-02T05:54:06.663900Z",
     "start_time": "2021-10-02T05:54:06.543296Z"
    },
    "id": "zT7RL8azxR6E",
    "outputId": "caaafb4d-1c20-4d95-c287-7e11003de1e3"
   },
   "outputs": [
    {
     "name": "stdout",
     "output_type": "stream",
     "text": [
      "Hello Hello Hello Hello Hello Hello \n"
     ]
    }
   ],
   "source": [
    "print(\"Hello \" * 6)"
   ]
  },
  {
   "cell_type": "code",
   "execution_count": null,
   "metadata": {
    "id": "DXfV2FJ4xR6F"
   },
   "outputs": [],
   "source": []
  },
  {
   "cell_type": "markdown",
   "metadata": {
    "id": "-hlh1LdlxTFC"
   },
   "source": [
    "# Python Keywords and Identifiers\n",
    "\n",
    "In this class, you will learn about keywords (reserved words in Python) and identifiers (names given to variables, functions, etc.)."
   ]
  },
  {
   "cell_type": "code",
   "execution_count": null,
   "metadata": {
    "ExecuteTime": {
     "end_time": "2021-06-22T14:51:40.668985Z",
     "start_time": "2021-06-22T14:51:40.658242Z"
    },
    "id": "RD4JRTxgxTFF",
    "outputId": "2aa02233-dc75-408b-f2b0-9793611158fd"
   },
   "outputs": [
    {
     "ename": "SyntaxError",
     "evalue": "invalid syntax (<ipython-input-1-473137c03db7>, line 1)",
     "output_type": "error",
     "traceback": [
      "\u001b[1;36m  File \u001b[1;32m\"<ipython-input-1-473137c03db7>\"\u001b[1;36m, line \u001b[1;32m1\u001b[0m\n\u001b[1;33m    for = 6 # It will give error becasue \"for\" is keyword and we cannot use as a variable name.\u001b[0m\n\u001b[1;37m        ^\u001b[0m\n\u001b[1;31mSyntaxError\u001b[0m\u001b[1;31m:\u001b[0m invalid syntax\n"
     ]
    }
   ],
   "source": [
    "for = 6 # It will give error becasue \"for\" is keyword and we cannot use as a variable name."
   ]
  },
  {
   "cell_type": "code",
   "execution_count": null,
   "metadata": {
    "ExecuteTime": {
     "end_time": "2021-06-22T14:51:41.967978Z",
     "start_time": "2021-06-22T14:51:41.945516Z"
    },
    "id": "h2Nu1Y55xTFG",
    "outputId": "5b7c9f76-60b6-48d3-970e-bb82bbb3afa7"
   },
   "outputs": [
    {
     "data": {
      "text/plain": [
       "6"
      ]
     },
     "execution_count": 2,
     "metadata": {},
     "output_type": "execute_result"
    }
   ],
   "source": [
    "For = 6 # \"for\" is keyword but \"For\" is not keyword so we can use it as variable name\n",
    "For"
   ]
  },
  {
   "cell_type": "markdown",
   "metadata": {
    "id": "ZbbGs1k4xTFH"
   },
   "source": [
    "# 2. Python Identifiers\n",
    "\n",
    "An **identifier** is a name given to entities like **class, functions, variables, etc**. It helps to differentiate one entity from another."
   ]
  },
  {
   "cell_type": "markdown",
   "metadata": {
    "id": "ZlIPx1nWxTFH"
   },
   "source": [
    "### Rules for writing identifiers\n",
    "\n",
    "1. **Identifiers** can be a combination of letters in lowercase **(a to z)** or uppercase **(A to Z)** or digits **(0 to 9)** or an underscore **`_`**. Names like **`myClass`**, **`var_1`** and **`print_this_to_screen`**, all are valid example.\n",
    "\n",
    "2. An identifier cannot start with a digit. **`1variable`** is invalid, but **`variable1`** is perfectly fine.\n",
    "\n",
    "3. Keywords cannot be used as identifiers\n",
    "\n",
    "```python\n",
    ">>>global = 3\n",
    "\n",
    "File \"<ipython-input-2-43186c7d3555>\", line 1\n",
    "    global = 3 # because \"global\" is a keyword\n",
    "           ^\n",
    "SyntaxError: invalid syntax\n",
    "```"
   ]
  },
  {
   "cell_type": "code",
   "execution_count": null,
   "metadata": {
    "ExecuteTime": {
     "end_time": "2021-06-22T14:51:45.004986Z",
     "start_time": "2021-06-22T14:51:44.995218Z"
    },
    "id": "1_KTI9tcxTFI",
    "outputId": "2edd63b3-bcbc-4e42-a974-a7dad43a79ed"
   },
   "outputs": [
    {
     "ename": "SyntaxError",
     "evalue": "invalid syntax (<ipython-input-3-3e859d37287a>, line 1)",
     "output_type": "error",
     "traceback": [
      "\u001b[1;36m  File \u001b[1;32m\"<ipython-input-3-3e859d37287a>\"\u001b[1;36m, line \u001b[1;32m1\u001b[0m\n\u001b[1;33m    global = 3 # because \"global\" is a keyword\u001b[0m\n\u001b[1;37m           ^\u001b[0m\n\u001b[1;31mSyntaxError\u001b[0m\u001b[1;31m:\u001b[0m invalid syntax\n"
     ]
    }
   ],
   "source": [
    "global = 3 # because \"global\" is a keyword"
   ]
  },
  {
   "cell_type": "markdown",
   "metadata": {
    "id": "UO5aYq2IxTFJ"
   },
   "source": [
    "4. We cannot use special symbols like **!**, **@**, **#**,<b> $, % </b>, etc. in our identifier.\n",
    "\n",
    "```python\n",
    ">>>m@ = 3\n",
    "\n",
    "File \"<ipython-input-3-4d4a0e714c73>\", line 1\n",
    "    m@ = 3\n",
    "       ^\n",
    "SyntaxError: invalid syntax\n",
    "```"
   ]
  },
  {
   "cell_type": "code",
   "execution_count": null,
   "metadata": {
    "ExecuteTime": {
     "end_time": "2021-06-22T14:51:48.063967Z",
     "start_time": "2021-06-22T14:51:48.058109Z"
    },
    "id": "-AXS0vMjxTFJ",
    "outputId": "1087fb73-948f-49dc-f5d6-0e0dff710a88"
   },
   "outputs": [
    {
     "ename": "SyntaxError",
     "evalue": "invalid syntax (<ipython-input-4-0f73a35e8ce2>, line 1)",
     "output_type": "error",
     "traceback": [
      "\u001b[1;36m  File \u001b[1;32m\"<ipython-input-4-0f73a35e8ce2>\"\u001b[1;36m, line \u001b[1;32m1\u001b[0m\n\u001b[1;33m    m@ = 3\u001b[0m\n\u001b[1;37m       ^\u001b[0m\n\u001b[1;31mSyntaxError\u001b[0m\u001b[1;31m:\u001b[0m invalid syntax\n"
     ]
    }
   ],
   "source": [
    "m@ = 3"
   ]
  },
  {
   "cell_type": "markdown",
   "metadata": {
    "id": "qP3lmP6wxTFK"
   },
   "source": [
    "## Things to Remember\n",
    "\n",
    "Python is a case-sensitive language. This means, **`Variable`** and **`variable`** are not the same.\n",
    "\n",
    "Always give the identifiers a name that makes sense. While **`c = 10`** is a valid name, writing **`count = 10`** would make more sense, and it would be easier to figure out what it represents when you look at your code after a long gap.\n",
    "\n",
    "Multiple words can be separated using an underscore, like **`this_is_a_long_variable`**."
   ]
  },
  {
   "cell_type": "code",
   "execution_count": null,
   "metadata": {
    "ExecuteTime": {
     "end_time": "2021-06-22T14:51:49.685264Z",
     "start_time": "2021-06-22T14:51:49.666710Z"
    },
    "id": "Y_u4m7NhxTFK",
    "outputId": "4b152d58-e941-4646-e924-3111dc068380"
   },
   "outputs": [
    {
     "data": {
      "text/plain": [
       "9"
      ]
     },
     "execution_count": 5,
     "metadata": {},
     "output_type": "execute_result"
    }
   ],
   "source": [
    "this_is_a_long_variable = 6+3\n",
    "this_is_a_long_variable"
   ]
  },
  {
   "cell_type": "code",
   "execution_count": null,
   "metadata": {
    "ExecuteTime": {
     "end_time": "2021-06-22T14:51:50.580889Z",
     "start_time": "2021-06-22T14:51:50.571121Z"
    },
    "id": "r9EEzWRXxTFL",
    "outputId": "2d759d5c-5837-43d6-8533-23effa64e75b"
   },
   "outputs": [
    {
     "data": {
      "text/plain": [
       "9"
      ]
     },
     "execution_count": 6,
     "metadata": {},
     "output_type": "execute_result"
    }
   ],
   "source": [
    "add_6_and_3 = 6+3\n",
    "add_6_and_3"
   ]
  },
  {
   "cell_type": "code",
   "execution_count": null,
   "metadata": {
    "id": "xvB1zg3zxTFL"
   },
   "outputs": [],
   "source": []
  },
  {
   "cell_type": "markdown",
   "metadata": {
    "id": "ITlAjvRpxUM1"
   },
   "source": [
    "# Python Statement, Indentation and Comments\n",
    "\n",
    "In this class, you will learn about Python statements, why indentation is important and use of comments in programming."
   ]
  },
  {
   "cell_type": "markdown",
   "metadata": {
    "id": "FKki4EHcxUM2"
   },
   "source": [
    "## 1. Python Statement\n",
    "\n",
    "Instructions that a Python interpreter can execute are called statements. For example, **`a = 1`** is an assignment statement. **`if`** statement, **`for`** statement, **`while`** statement, etc. are other kinds of statements which will be discussed later."
   ]
  },
  {
   "cell_type": "markdown",
   "metadata": {
    "id": "s7J9BhSlxUM2"
   },
   "source": [
    "### Multi-line statement\n",
    "\n",
    "In Python, the end of a statement is marked by a newline character. But we can make a statement extend over multiple lines with the line continuation character **`\\`**.\n",
    "\n",
    "* Statements finish at the end of the line:\n",
    "  * Except when there is an open bracket or paranthesis:\n",
    "  \n",
    "```python\n",
    ">>> 1+2\n",
    ">>> +3  #illegal continuation of the sum\n",
    "```\n",
    "  * A single backslash at the end of the line can also be used to indicate that a statement is still incomplete  \n",
    "  \n",
    "```python\n",
    ">>> 1 + \\\n",
    ">>>    2 + 3 # this is also okay\n",
    "```\n",
    "\n",
    "For example:"
   ]
  },
  {
   "cell_type": "code",
   "execution_count": null,
   "metadata": {
    "ExecuteTime": {
     "end_time": "2021-10-02T06:13:39.565686Z",
     "start_time": "2021-10-02T06:13:39.533459Z"
    },
    "id": "NQiYm66bxUM3",
    "outputId": "f2ac70c4-e4a9-4f35-a254-67f2a5aeec53"
   },
   "outputs": [
    {
     "data": {
      "text/plain": [
       "3"
      ]
     },
     "execution_count": 1,
     "metadata": {},
     "output_type": "execute_result"
    }
   ],
   "source": [
    "1+2    # assignment line 1\n",
    "+3     # assignment line 2\n",
    "\n",
    "# Python is only calculating assignment line 1"
   ]
  },
  {
   "cell_type": "markdown",
   "metadata": {
    "id": "QsMhUyHUxUM6"
   },
   "source": [
    "```python\n",
    "1+2 \\       # '\\' means assignment line is continue to next line\n",
    "+3\n",
    "```\n",
    "\n",
    ">**Note:** This would result in error because there should be no comment **`#`** or space after **`\\`**."
   ]
  },
  {
   "cell_type": "code",
   "execution_count": null,
   "metadata": {
    "ExecuteTime": {
     "end_time": "2021-10-02T06:13:39.671639Z",
     "start_time": "2021-10-02T06:13:39.567639Z"
    },
    "id": "igC2V8_dxUM7",
    "outputId": "a968e188-7c4d-46c9-e2b1-b2522165b2cb"
   },
   "outputs": [
    {
     "data": {
      "text/plain": [
       "6"
      ]
     },
     "execution_count": 2,
     "metadata": {},
     "output_type": "execute_result"
    }
   ],
   "source": [
    "# Method 1:\n",
    "\n",
    "1+2 \\\n",
    "+3"
   ]
  },
  {
   "cell_type": "code",
   "execution_count": null,
   "metadata": {
    "ExecuteTime": {
     "end_time": "2021-10-02T06:13:39.777600Z",
     "start_time": "2021-10-02T06:13:39.676525Z"
    },
    "id": "SRECeZhrxUM8",
    "outputId": "1b91dd12-ba57-4e89-8aa5-3eb4dc11851e"
   },
   "outputs": [
    {
     "data": {
      "text/plain": [
       "45"
      ]
     },
     "execution_count": 3,
     "metadata": {},
     "output_type": "execute_result"
    }
   ],
   "source": [
    "1 + 2 + 3 + \\\n",
    "4 + 5 + 6 + \\\n",
    "7 + 8 + 9"
   ]
  },
  {
   "cell_type": "markdown",
   "metadata": {
    "id": "syHrtOTqxUM8"
   },
   "source": [
    "This is an explicit line continuation. In Python, line continuation is implied inside:\n",
    "1. parentheses **`( )`**,\n",
    "    For Example:\n",
    "    ```python\n",
    "(1+2\n",
    "             + 3) # perfectly OK even with spaces\n",
    "```\n",
    "2. brackets **`[ ]`**, and\n",
    "3. braces **`{ }`**.\n",
    "For instance, we can implement the above multi-line statement as:"
   ]
  },
  {
   "cell_type": "code",
   "execution_count": null,
   "metadata": {
    "ExecuteTime": {
     "end_time": "2021-10-02T06:13:39.929944Z",
     "start_time": "2021-10-02T06:13:39.781506Z"
    },
    "id": "7cK1gA0rxUM8",
    "outputId": "8d7b8411-d1b8-431a-e305-8bac66f3364a"
   },
   "outputs": [
    {
     "data": {
      "text/plain": [
       "6"
      ]
     },
     "execution_count": 4,
     "metadata": {},
     "output_type": "execute_result"
    }
   ],
   "source": [
    "# Method 2:\n",
    "\n",
    "(1+2\n",
    "+3)"
   ]
  },
  {
   "cell_type": "code",
   "execution_count": null,
   "metadata": {
    "ExecuteTime": {
     "end_time": "2021-10-02T06:13:40.041275Z",
     "start_time": "2021-10-02T06:13:39.933850Z"
    },
    "id": "_XF5LOJxxUM9",
    "outputId": "fb41b087-8497-4246-9777-42a72c238eb4"
   },
   "outputs": [
    {
     "data": {
      "text/plain": [
       "45"
      ]
     },
     "execution_count": 5,
     "metadata": {},
     "output_type": "execute_result"
    }
   ],
   "source": [
    "(1 + 2 + 3 +\n",
    "4 + 5 + 6 +\n",
    "7 + 8 + 9)"
   ]
  },
  {
   "cell_type": "markdown",
   "metadata": {
    "id": "Rh8qNd1GxUM9"
   },
   "source": [
    "Here, the surrounding parentheses **`( )`** do the line continuation implicitly. Same is the case with **`[ ]`** and **`{ }`**. For example:"
   ]
  },
  {
   "cell_type": "code",
   "execution_count": null,
   "metadata": {
    "ExecuteTime": {
     "end_time": "2021-10-02T06:13:40.160414Z",
     "start_time": "2021-10-02T06:13:40.047132Z"
    },
    "id": "cs2ELWLVxUM9",
    "outputId": "5be3b922-131b-472a-81bf-80262b339198"
   },
   "outputs": [
    {
     "data": {
      "text/plain": [
       "['red', 'blue', 'green', '99']"
      ]
     },
     "execution_count": 6,
     "metadata": {},
     "output_type": "execute_result"
    }
   ],
   "source": [
    "['red',\n",
    "'blue',\n",
    "    'green', '99']"
   ]
  },
  {
   "cell_type": "code",
   "execution_count": null,
   "metadata": {
    "ExecuteTime": {
     "end_time": "2021-10-02T06:13:40.314708Z",
     "start_time": "2021-10-02T06:13:40.167249Z"
    },
    "id": "CkEUyf_6xUM-",
    "outputId": "b87e8f78-bca2-4351-a917-f285f2121acc",
    "scrolled": true
   },
   "outputs": [
    {
     "name": "stdout",
     "output_type": "stream",
     "text": [
      "1\n",
      "2\n",
      "3\n",
      "4\n",
      "5\n",
      "6\n"
     ]
    }
   ],
   "source": [
    "for i in range(1,11):\n",
    "    print(i)   #press \"Tab\" one time for 1 indentation\n",
    "    if i == 6:\n",
    "        break"
   ]
  },
  {
   "cell_type": "markdown",
   "metadata": {
    "id": "p6N6-idFxUND"
   },
   "source": [
    "The enforcement of indentation in Python makes the code look neat and clean. This results in Python programs that look similar and consistent.\n",
    "\n",
    "Indentation can be ignored in line continuation, but it's always a good idea to indent. It makes the code more readable. For example:"
   ]
  },
  {
   "cell_type": "code",
   "execution_count": null,
   "metadata": {
    "ExecuteTime": {
     "end_time": "2021-10-02T06:13:40.437265Z",
     "start_time": "2021-10-02T06:13:40.325457Z"
    },
    "id": "r54MTcBjxUND",
    "outputId": "fbc0fbb4-fecc-4b97-de3a-4b727f4e7b4a"
   },
   "outputs": [
    {
     "name": "stdout",
     "output_type": "stream",
     "text": [
      "Hello\n"
     ]
    }
   ],
   "source": [
    "if True:\n",
    "    print('Hello')\n",
    "    a = 6"
   ]
  },
  {
   "cell_type": "markdown",
   "metadata": {
    "id": "PjhdYJK5xUNE"
   },
   "source": [
    "or"
   ]
  },
  {
   "cell_type": "code",
   "execution_count": null,
   "metadata": {
    "ExecuteTime": {
     "end_time": "2021-10-02T06:13:40.559823Z",
     "start_time": "2021-10-02T06:13:40.447031Z"
    },
    "id": "9jf59RR1xUNE",
    "outputId": "6b1afbe0-aa24-4816-f239-5a19813f0949"
   },
   "outputs": [
    {
     "name": "stdout",
     "output_type": "stream",
     "text": [
      "Hello\n"
     ]
    }
   ],
   "source": [
    "if True: print('Hello'); a = 6"
   ]
  },
  {
   "cell_type": "markdown",
   "metadata": {
    "id": "CaCo37h9xUNE"
   },
   "source": [
    "both are valid and do the same thing, but the former style is clearer.\n",
    "\n",
    "Incorrect indentation will result in **`IndentationError`**\n",
    "."
   ]
  },
  {
   "cell_type": "markdown",
   "metadata": {
    "id": "Y4H1Ez6dxUNF"
   },
   "source": [
    "## 3. Python Comments\n",
    "\n",
    "Comments are very important while writing a program. They describe what is going on inside a program, so that a person looking at the source code does not have a hard time figuring it out.\n",
    "\n",
    "You might forget the key details of the program you just wrote in a month's time. So taking the time to explain these concepts in the form of comments is always fruitful.\n",
    "\n",
    "In Python, we use the hash **`#`** symbol to start writing a comment.\n",
    "\n",
    "It extends up to the newline character. Comments are for programmers to better understand a program. Python Interpreter ignores comments.\n",
    "\n",
    "Generally, comments will look something like this:\n",
    "\n",
    "```python\n",
    "#This is a Comment\n",
    "```\n",
    "\n",
    "Because comments do not **execute**, when you run a program you will not see any indication of the comment there. Comments are in the source code for **humans** to **read**, not for **computers to execute**."
   ]
  },
  {
   "cell_type": "code",
   "execution_count": null,
   "metadata": {
    "ExecuteTime": {
     "end_time": "2021-10-02T06:13:40.682382Z",
     "start_time": "2021-10-02T06:13:40.563733Z"
    },
    "id": "RJc8RBJ_xUNF"
   },
   "outputs": [],
   "source": [
    "#This is a Comment"
   ]
  },
  {
   "cell_type": "markdown",
   "metadata": {
    "id": "uvBVAxYexUNF"
   },
   "source": [
    "### 1. Single lined comment:\n",
    "In case user wants to specify a single line comment, then comment must start with **`#`**.\n",
    "\n",
    "```python\n",
    "#This is single line comment.\n",
    "```"
   ]
  },
  {
   "cell_type": "code",
   "execution_count": null,
   "metadata": {
    "ExecuteTime": {
     "end_time": "2021-10-02T06:13:40.804942Z",
     "start_time": "2021-10-02T06:13:40.685314Z"
    },
    "id": "2JxqEmgWxUNG"
   },
   "outputs": [],
   "source": [
    "#This is single line comment."
   ]
  },
  {
   "cell_type": "markdown",
   "metadata": {
    "id": "fpDX0ynbxUNG"
   },
   "source": [
    "### 2. Inline comments\n",
    "If a comment is placed on the same line as a statement, it is called an inline comment. Similar to the block comment, an inline comment begins with a single hash (#) sign and followed by a space and comment.\n",
    "\n",
    "It is recommended that an inline comment should separate from the statement at least **two spaces**. The following example demonstrates an inline comment\n",
    "\n",
    "```python\n",
    ">>>n+=1  # increase/add n by 1\n",
    "```"
   ]
  },
  {
   "cell_type": "code",
   "execution_count": null,
   "metadata": {
    "ExecuteTime": {
     "end_time": "2021-10-02T06:13:40.929942Z",
     "start_time": "2021-10-02T06:13:40.809827Z"
    },
    "id": "sqRQ7dwKxUNG",
    "outputId": "fc6d3550-a26e-4121-e573-c56bbc853ece"
   },
   "outputs": [
    {
     "data": {
      "text/plain": [
       "10"
      ]
     },
     "execution_count": 12,
     "metadata": {},
     "output_type": "execute_result"
    }
   ],
   "source": [
    "n=9\n",
    "n+=1  # increase/add n by 1\n",
    "n"
   ]
  },
  {
   "cell_type": "markdown",
   "metadata": {
    "id": "io-M3RswxUNH"
   },
   "source": [
    "### 3. Multi lined comment:\n",
    "\n",
    "We can have comments that extend up to multiple lines. One way is to use the hash **`#`** symbol at the beginning of each line. For example:"
   ]
  },
  {
   "cell_type": "code",
   "execution_count": null,
   "metadata": {
    "ExecuteTime": {
     "end_time": "2021-10-02T06:13:41.082284Z",
     "start_time": "2021-10-02T06:13:40.933849Z"
    },
    "id": "wxL9Vgj5xUNH"
   },
   "outputs": [],
   "source": [
    "#This is a long comment\n",
    "#and it extends\n",
    "#to multiple lines"
   ]
  },
  {
   "cell_type": "code",
   "execution_count": null,
   "metadata": {
    "ExecuteTime": {
     "end_time": "2021-10-02T06:13:41.236581Z",
     "start_time": "2021-10-02T06:13:41.086192Z"
    },
    "id": "GgpVkfl8xUNH",
    "outputId": "f7e36203-8c17-480f-9a3a-9414b2b7dd42"
   },
   "outputs": [
    {
     "name": "stdout",
     "output_type": "stream",
     "text": [
      "Hello\n"
     ]
    }
   ],
   "source": [
    "#This is a comment\n",
    "#print out Hello\n",
    "print('Hello')"
   ]
  },
  {
   "cell_type": "markdown",
   "metadata": {
    "id": "SnqGqiYHxUNH"
   },
   "source": [
    "Another way of doing this is to use triple quotes, either `'''` or `\"\"\"`.\n",
    "\n",
    "These triple quotes are generally used for multi-line strings. But they can be used as a multi-line comment as well. Unless they are not docstrings, they do not generate any extra code.\n",
    "\n",
    "```python\n",
    "#single line comment\n",
    ">>>print (\"Hello Python\"\n",
    "   '''This is\n",
    "   multiline comment''')\n",
    "```"
   ]
  },
  {
   "cell_type": "code",
   "execution_count": null,
   "metadata": {
    "ExecuteTime": {
     "end_time": "2021-10-02T06:13:41.375251Z",
     "start_time": "2021-10-02T06:13:41.247325Z"
    },
    "id": "eScsqZIVxUNH",
    "outputId": "e0cdd720-f675-45c0-bc40-dfba3e0c55bd"
   },
   "outputs": [
    {
     "data": {
      "text/plain": [
       "'This is also a\\nperfect example of\\nmulti-line comments'"
      ]
     },
     "execution_count": 15,
     "metadata": {},
     "output_type": "execute_result"
    }
   ],
   "source": [
    "\"\"\"This is also a\n",
    "perfect example of\n",
    "multi-line comments\"\"\""
   ]
  },
  {
   "cell_type": "code",
   "execution_count": null,
   "metadata": {
    "ExecuteTime": {
     "end_time": "2021-10-02T06:13:41.482679Z",
     "start_time": "2021-10-02T06:13:41.379163Z"
    },
    "id": "9Gbw8q3UxUNI",
    "outputId": "2170dc7b-e729-4c48-8367-dfc540a4a42e"
   },
   "outputs": [
    {
     "data": {
      "text/plain": [
       "'This is also a\\nperfect example of\\nmulti-line comments'"
      ]
     },
     "execution_count": 16,
     "metadata": {},
     "output_type": "execute_result"
    }
   ],
   "source": [
    "'''This is also a\n",
    "perfect example of\n",
    "multi-line comments'''"
   ]
  },
  {
   "cell_type": "code",
   "execution_count": null,
   "metadata": {
    "ExecuteTime": {
     "end_time": "2021-10-02T06:13:41.620369Z",
     "start_time": "2021-10-02T06:13:41.488536Z"
    },
    "id": "zbJbnIKMxUNI",
    "outputId": "a4ea4c85-24cf-491d-ce2b-475fb563d406",
    "scrolled": true
   },
   "outputs": [
    {
     "name": "stdout",
     "output_type": "stream",
     "text": [
      "Hello PythonThis is\n",
      "multiline comment\n"
     ]
    }
   ],
   "source": [
    "#single line comment\n",
    "print (\"Hello Python\"\n",
    "'''This is\n",
    "multiline comment''')"
   ]
  },
  {
   "cell_type": "code",
   "execution_count": null,
   "metadata": {
    "ExecuteTime": {
     "end_time": "2021-10-02T06:13:41.729260Z",
     "start_time": "2021-10-02T06:13:41.626231Z"
    },
    "id": "EvgSggjoxUNI",
    "outputId": "afa79dc9-9389-41c2-ba09-432e946c51b0"
   },
   "outputs": [
    {
     "name": "stdout",
     "output_type": "stream",
     "text": [
      "Function to double the value\n"
     ]
    }
   ],
   "source": [
    "def double(num):\n",
    "    \"\"\"Function to double the value\"\"\"\n",
    "    return 3*num\n",
    "print(double.__doc__)"
   ]
  },
  {
   "cell_type": "markdown",
   "metadata": {
    "id": "q_o7Kk7ZxUNJ"
   },
   "source": [
    "## Help topics\n",
    "\n",
    "Python has extensive help built in. You can execute **`help()`** for an overview or **`help(x)`** for any library, object or type **`x`**. Try using **`help(\"topics\")`** to get a list of help pages built into the help system.\n",
    "\n",
    "`help(\"topics\")`"
   ]
  },
  {
   "cell_type": "code",
   "execution_count": null,
   "metadata": {
    "ExecuteTime": {
     "end_time": "2021-10-02T06:13:41.882578Z",
     "start_time": "2021-10-02T06:13:41.733166Z"
    },
    "id": "JAP8Y7hTxUNJ",
    "outputId": "011d6dfc-fda1-4a9b-8883-93d41edbc862",
    "scrolled": true
   },
   "outputs": [
    {
     "name": "stdout",
     "output_type": "stream",
     "text": [
      "\n",
      "Here is a list of available topics.  Enter any topic name to get more help.\n",
      "\n",
      "ASSERTION           DELETION            LOOPING             SHIFTING\n",
      "ASSIGNMENT          DICTIONARIES        MAPPINGMETHODS      SLICINGS\n",
      "ATTRIBUTEMETHODS    DICTIONARYLITERALS  MAPPINGS            SPECIALATTRIBUTES\n",
      "ATTRIBUTES          DYNAMICFEATURES     METHODS             SPECIALIDENTIFIERS\n",
      "AUGMENTEDASSIGNMENT ELLIPSIS            MODULES             SPECIALMETHODS\n",
      "BASICMETHODS        EXCEPTIONS          NAMESPACES          STRINGMETHODS\n",
      "BINARY              EXECUTION           NONE                STRINGS\n",
      "BITWISE             EXPRESSIONS         NUMBERMETHODS       SUBSCRIPTS\n",
      "BOOLEAN             FLOAT               NUMBERS             TRACEBACKS\n",
      "CALLABLEMETHODS     FORMATTING          OBJECTS             TRUTHVALUE\n",
      "CALLS               FRAMEOBJECTS        OPERATORS           TUPLELITERALS\n",
      "CLASSES             FRAMES              PACKAGES            TUPLES\n",
      "CODEOBJECTS         FUNCTIONS           POWER               TYPEOBJECTS\n",
      "COMPARISON          IDENTIFIERS         PRECEDENCE          TYPES\n",
      "COMPLEX             IMPORTING           PRIVATENAMES        UNARY\n",
      "CONDITIONAL         INTEGER             RETURNING           UNICODE\n",
      "CONTEXTMANAGERS     LISTLITERALS        SCOPING             \n",
      "CONVERSIONS         LISTS               SEQUENCEMETHODS     \n",
      "DEBUGGING           LITERALS            SEQUENCES           \n",
      "\n"
     ]
    }
   ],
   "source": [
    "help(\"topics\")"
   ]
  },
  {
   "cell_type": "code",
   "execution_count": null,
   "metadata": {
    "id": "eZU75gh9xUNJ"
   },
   "outputs": [],
   "source": []
  },
  {
   "cell_type": "markdown",
   "metadata": {
    "id": "APzN7J0oxVhf"
   },
   "source": [
    "# Python Variables and Constants\n",
    "\n",
    "In this class, you will learn about Python variables, constants, literals and their use cases."
   ]
  },
  {
   "cell_type": "markdown",
   "metadata": {
    "id": "OcScd8aXxVhf"
   },
   "source": [
    "# 1. Python Variables\n",
    "\n",
    "A variable is a named location used to **store data in the memory**. Variable also known as **identifier** and used to hold value. It is helpful to think of variables as a container that holds data that can be changed later in the program. **Mnemonic** variables are recommended to use in many programming languages. A mnemonic variable is a variable name that can be easily remembered and associated. A variable refers to a memory address in which data is stored. For example,\n",
    "\n",
    "```python\n",
    ">>>number = 90\n",
    "```\n",
    "\n",
    "Here, we have created a variable named **`number`**. We have assigned the value **`10`** to the variable.\n",
    "\n",
    "You can think of variables as a bag to store books in it and that book can be replaced at any time.\n",
    "\n",
    "```python\n",
    ">>>number = 90\n",
    ">>>number = 9.1\n",
    "```\n",
    "\n",
    "Initially, the value of number was **`90`**. Later, it was changed to **`9.1`**.\n",
    "\n",
    "> **Note**: In Python, we don't actually assign values to the variables. Instead, Python gives the reference of the object(value) to the variable.\n",
    "\n",
    "In Python, we don't need to specify the type of variable because Python is a **type infer language** and smart enough to get variable type.\n",
    "\n",
    "Python Variable Name Rules\n",
    "\n",
    "- A variable name must start with a **letter** **`A`**-**`z`** or the **underscore** **`_`** character\n",
    "- A variable name cannot start with a **number** **`0`**-**`9`**\n",
    "- A variable name can only contain alpha-numeric characters and underscores (**`A`**-**`z`**, **`0`**-**`9`**, and **`_`** )\n",
    "- Variable names are case-sensitive (**`firstname`**, **`Firstname`**, **`FirstName`** and **`FIRSTNAME`**) are different variables). It is recomended to use lowercase letters for variable name."
   ]
  },
  {
   "cell_type": "markdown",
   "metadata": {
    "id": "OfIj8eaIxVhh"
   },
   "source": [
    "#### Let us see valid variable names\n",
    "\n",
    "```python\n",
    "firstname\n",
    "lastname\n",
    "age\n",
    "country\n",
    "city\n",
    "first_name\n",
    "last_name\n",
    "capital_city\n",
    "_if          # if we want to use reserved word as a variable\n",
    "year_2021\n",
    "year2021\n",
    "current_year_2021\n",
    "birth_year\n",
    "num1\n",
    "num2\n",
    "```\n",
    "\n",
    "Invalid variables names:\n",
    "\n",
    "```python\n",
    "first-name\n",
    "first@name\n",
    "first$name\n",
    "num-1\n",
    "1num\n",
    "```\n",
    "\n",
    "We will use standard Python variable naming style which has been adopted by many Python developers. Python developers use snake case(snake_case) variable naming convention. We use underscore character after each word for a variable containing more than one word (eg. **`first_name`**, **`last_name`**, **`engine_rotation_speed`**).  The example below is an example of standard naming of variables, underscore is required when the variable name is more than one word.\n",
    "\n",
    "When we assign a certain data type to a variable, it is called variable declaration. For instance in the example below my first name is assigned to a variable **`first_name`**. The equal sign is an assignment operator. Assigning means storing data in the variable. The equal sign in Python is not equality as in Mathematics."
   ]
  },
  {
   "cell_type": "markdown",
   "metadata": {
    "id": "Zvh5EFnVxVhh"
   },
   "source": [
    "### Assigning values to Variables in Python\n",
    "\n",
    "Think of a variable as a name attached to a particular object. In Python, variables need not be declared or defined in advance, as is the case in many other programming languages.\n",
    "\n",
    "As you can see from the above example, you can use the assignment operator **`=`** to assign a value to a variable."
   ]
  },
  {
   "cell_type": "markdown",
   "metadata": {
    "id": "bX8zh8YLxVhi"
   },
   "source": [
    "#### Example 1: Declaring and assigning value to a variable"
   ]
  },
  {
   "cell_type": "code",
   "execution_count": null,
   "metadata": {
    "ExecuteTime": {
     "end_time": "2021-10-02T06:36:19.999226Z",
     "start_time": "2021-10-02T06:36:19.972865Z"
    },
    "id": "XEMyOlimxVhi",
    "outputId": "1ff354b2-72f2-4ba8-e7f9-bba3918984a1"
   },
   "outputs": [
    {
     "data": {
      "text/plain": [
       "9.1"
      ]
     },
     "execution_count": 1,
     "metadata": {},
     "output_type": "execute_result"
    }
   ],
   "source": [
    "number = 90\n",
    "number = 9.1\n",
    "number"
   ]
  },
  {
   "cell_type": "code",
   "execution_count": null,
   "metadata": {
    "ExecuteTime": {
     "end_time": "2021-10-02T06:36:20.099323Z",
     "start_time": "2021-10-02T06:36:20.003137Z"
    },
    "id": "rME-l9FqxVhj",
    "outputId": "e3d7fce0-7786-4190-cb5a-16a907c758ce"
   },
   "outputs": [
    {
     "name": "stdout",
     "output_type": "stream",
     "text": [
      "github.com\n"
     ]
    }
   ],
   "source": [
    "website = \"github.com\"  # `website` is my variable and `github.com` is an argument\n",
    "print(website)"
   ]
  },
  {
   "cell_type": "markdown",
   "metadata": {
    "id": "ziUXrGfcxVhj"
   },
   "source": [
    "In the above program, we assigned a value **`github.com`** to the variable **`website`**. Then, we printed out the value assigned to **`website`** i.e. **`github.com`**.\n",
    "\n",
    "> **Note**: Python is a **[type-inferred](https://en.wikipedia.org/wiki/Type_inference)** language, so you don't have to explicitly define the variable type. It automatically knows that **`github.com`** is a string and declares the **`website`** variable as a string."
   ]
  },
  {
   "cell_type": "code",
   "execution_count": null,
   "metadata": {
    "ExecuteTime": {
     "end_time": "2021-10-02T06:36:20.214178Z",
     "start_time": "2021-10-02T06:36:20.099323Z"
    },
    "id": "g8cjDXwixVhj",
    "outputId": "7f2f4dcb-c274-43b3-9bdf-1711b6033f43"
   },
   "outputs": [
    {
     "name": "stdout",
     "output_type": "stream",
     "text": [
      "Hello , World !\n"
     ]
    }
   ],
   "source": [
    "print('Hello',',', 'World','!') # it can take multiple arguments, 4 arguments have been passed"
   ]
  },
  {
   "cell_type": "code",
   "execution_count": null,
   "metadata": {
    "ExecuteTime": {
     "end_time": "2021-10-02T06:36:20.358600Z",
     "start_time": "2021-10-02T06:36:20.217491Z"
    },
    "id": "S1mbm-OOxVhk"
   },
   "outputs": [],
   "source": [
    "first_name = 'Milaan'\n",
    "last_name = 'Parmar'\n",
    "country = 'Finland'\n",
    "city = 'Tampere'\n",
    "age = 96\n",
    "is_married = True\n",
    "skills = ['Python', 'Matlab', 'JS', 'C', 'C++']\n",
    "person_info = {\n",
    "   'firstname':'Milaan',\n",
    "   'lastname':'Parmar',\n",
    "   'country':'Finland',\n",
    "   'city':'Tampere'\n",
    "    }"
   ]
  },
  {
   "cell_type": "markdown",
   "metadata": {
    "id": "TuXb6dCsxVhk"
   },
   "source": [
    "Let us print and also find the length of the variables declared at the top:"
   ]
  },
  {
   "cell_type": "code",
   "execution_count": null,
   "metadata": {
    "ExecuteTime": {
     "end_time": "2021-10-02T06:36:20.481648Z",
     "start_time": "2021-10-02T06:36:20.364463Z"
    },
    "id": "l--ehxuqxVhl",
    "outputId": "7956440c-0330-4b46-f44a-b9d20858c198",
    "scrolled": true
   },
   "outputs": [
    {
     "name": "stdout",
     "output_type": "stream",
     "text": [
      "First name: Milaan\n",
      "First name length: 6\n",
      "Last name:  Parmar\n",
      "Last name length:  6\n",
      "Country:  Finland\n",
      "City:  Tampere\n",
      "Age:  96\n",
      "Married:  True\n",
      "Skills:  ['Python', 'Matlab', 'JS', 'C', 'C++']\n",
      "Person information:  {'firstname': 'Milaan', 'lastname': 'Parmar', 'country': 'Finland', 'city': 'Tampere'}\n"
     ]
    }
   ],
   "source": [
    "# Printing the values stored in the variables\n",
    "\n",
    "print('First name:', first_name)\n",
    "print('First name length:', len(first_name))\n",
    "print('Last name: ', last_name)\n",
    "print('Last name length: ', len(last_name))\n",
    "print('Country: ', country)\n",
    "print('City: ', city)\n",
    "print('Age: ', age)\n",
    "print('Married: ', is_married)\n",
    "print('Skills: ', skills)\n",
    "print('Person information: ', person_info)"
   ]
  },
  {
   "cell_type": "markdown",
   "metadata": {
    "id": "IkTgb9FyxVhl"
   },
   "source": [
    "#### Example 2: Declaring multiple variables in one line** using comma  **`,`**  and semicolon **`;`**"
   ]
  },
  {
   "cell_type": "code",
   "execution_count": null,
   "metadata": {
    "ExecuteTime": {
     "end_time": "2021-10-02T06:36:20.608794Z",
     "start_time": "2021-10-02T06:36:20.484580Z"
    },
    "id": "zY7rQo1txVhl",
    "outputId": "3e0bbd39-74f9-4a9d-fe0e-137ea5941213",
    "scrolled": true
   },
   "outputs": [
    {
     "name": "stdout",
     "output_type": "stream",
     "text": [
      "6\n",
      "9.3\n",
      "Hello\n"
     ]
    }
   ],
   "source": [
    "a, b, c = 6, 9.3, \"Hello\"\n",
    "\n",
    "print (a)\n",
    "print (b)\n",
    "print (c)"
   ]
  },
  {
   "cell_type": "code",
   "execution_count": null,
   "metadata": {
    "ExecuteTime": {
     "end_time": "2021-10-02T06:36:20.701379Z",
     "start_time": "2021-10-02T06:36:20.608794Z"
    },
    "id": "vDUtF9IbxVhm",
    "outputId": "d6dd0d39-d6f1-4b53-8a33-1aa2d168a2ae"
   },
   "outputs": [
    {
     "name": "stdout",
     "output_type": "stream",
     "text": [
      "1 2 3\n"
     ]
    },
    {
     "data": {
      "text/plain": [
       "(1, 2, 3)"
      ]
     },
     "execution_count": 7,
     "metadata": {},
     "output_type": "execute_result"
    }
   ],
   "source": [
    "a = 1; b = 2; c = 3\n",
    "print(a,b,c)  # outout: 1 2 3\n",
    "a,b,c         # outout: 1 2 3"
   ]
  },
  {
   "cell_type": "code",
   "execution_count": null,
   "metadata": {
    "ExecuteTime": {
     "end_time": "2021-10-02T06:36:20.823509Z",
     "start_time": "2021-10-02T06:36:20.702346Z"
    },
    "id": "rvUTbuMuxVhn",
    "outputId": "d02eee53-de64-4da5-d2e9-b0d44e5232e3",
    "scrolled": true
   },
   "outputs": [
    {
     "name": "stdout",
     "output_type": "stream",
     "text": [
      "Milaan Parmar Finland 96 True\n",
      "First name: Milaan\n",
      "Last name:  Parmar\n",
      "Country:  Finland\n",
      "Age:  96\n",
      "Married:  True\n"
     ]
    }
   ],
   "source": [
    "first_name, last_name, country, age, is_married = 'Milaan', 'Parmar', 'Finland', 96, True\n",
    "\n",
    "print(first_name, last_name, country, age, is_married)\n",
    "print('First name:', first_name)\n",
    "print('Last name: ', last_name)\n",
    "print('Country: ', country)\n",
    "print('Age: ', age) # Don't worry it is not my real age ^_^\n",
    "print('Married: ', is_married)"
   ]
  },
  {
   "cell_type": "markdown",
   "metadata": {
    "id": "F9MW-q1jxVhn"
   },
   "source": [
    "If we want to assign the same value to **multiple**/**chained** variables at once, we can do this as:"
   ]
  },
  {
   "cell_type": "code",
   "execution_count": null,
   "metadata": {
    "ExecuteTime": {
     "end_time": "2021-10-02T06:36:20.946004Z",
     "start_time": "2021-10-02T06:36:20.825916Z"
    },
    "id": "bSeeri_oxVhn",
    "outputId": "f89bcb61-620c-4ab6-eb26-5fc92baad5c1"
   },
   "outputs": [
    {
     "name": "stdout",
     "output_type": "stream",
     "text": [
      "same\n",
      "same\n",
      "same\n"
     ]
    }
   ],
   "source": [
    "x = y = z = \"same\"\n",
    "\n",
    "print (x)\n",
    "print (y)\n",
    "print (z)"
   ]
  },
  {
   "cell_type": "markdown",
   "metadata": {
    "id": "sAxh9WOExVho"
   },
   "source": [
    "The second program assigns the **`same`** string to all the three variables **`x`**, **`y`** and **`z`**."
   ]
  },
  {
   "cell_type": "code",
   "execution_count": null,
   "metadata": {
    "ExecuteTime": {
     "end_time": "2021-10-02T06:36:21.046591Z",
     "start_time": "2021-10-02T06:36:20.946494Z"
    },
    "id": "9RX-nVKoxVho",
    "outputId": "a1c050e4-85f2-48e1-fb5d-418d82292353"
   },
   "outputs": [
    {
     "name": "stdout",
     "output_type": "stream",
     "text": [
      "300 300 300\n"
     ]
    }
   ],
   "source": [
    "p = q = r = 300   # Assigning value together\n",
    "print(p, q, r)    # Printing value together"
   ]
  },
  {
   "cell_type": "markdown",
   "metadata": {
    "id": "xL2DSpKNxVhp"
   },
   "source": [
    "#### Example 3: Changing the value of a variable"
   ]
  },
  {
   "cell_type": "code",
   "execution_count": null,
   "metadata": {
    "ExecuteTime": {
     "end_time": "2021-10-02T06:36:21.168662Z",
     "start_time": "2021-10-02T06:36:21.047080Z"
    },
    "id": "XVWz6qKexVhp",
    "outputId": "86eb3f65-e981-49de-86d3-439d3b46b850"
   },
   "outputs": [
    {
     "name": "stdout",
     "output_type": "stream",
     "text": [
      "github.com\n",
      "baidu.com\n"
     ]
    }
   ],
   "source": [
    "website = \"github.com\"\n",
    "print(website)\n",
    "\n",
    "# assigning a new variable to website\n",
    "website = \"baidu.com\"\n",
    "\n",
    "print(website)"
   ]
  },
  {
   "cell_type": "markdown",
   "metadata": {
    "id": "I1qWKG69xVhp"
   },
   "source": [
    "In the above program, we have assigned **`github.com`** to the **`website`** variable initially. Then, the value is changed to **`baidu.com`**."
   ]
  },
  {
   "cell_type": "code",
   "execution_count": null,
   "metadata": {
    "ExecuteTime": {
     "end_time": "2021-10-02T06:36:21.289757Z",
     "start_time": "2021-10-02T06:36:21.175502Z"
    },
    "id": "WH9VYd2_xVhp",
    "outputId": "3095018c-19fc-48b2-de1f-9904973c3601",
    "scrolled": false
   },
   "outputs": [
    {
     "name": "stdout",
     "output_type": "stream",
     "text": [
      "300\n"
     ]
    }
   ],
   "source": [
    "n=300\n",
    "print(n)"
   ]
  },
  {
   "cell_type": "code",
   "execution_count": null,
   "metadata": {
    "ExecuteTime": {
     "end_time": "2021-10-02T06:36:21.464561Z",
     "start_time": "2021-10-02T06:36:21.297568Z"
    },
    "id": "P8nd9EkjxVhq",
    "outputId": "372023a9-23f1-4f20-abad-96bb163c9c6c"
   },
   "outputs": [
    {
     "name": "stdout",
     "output_type": "stream",
     "text": [
      "300\n",
      "1000\n"
     ]
    }
   ],
   "source": [
    "m=n\n",
    "print(n)\n",
    "\n",
    "m = 1000   # assigning a new value to n\n",
    "print(m)"
   ]
  },
  {
   "cell_type": "code",
   "execution_count": null,
   "metadata": {
    "ExecuteTime": {
     "end_time": "2021-10-02T06:36:21.542044Z",
     "start_time": "2021-10-02T06:36:21.464561Z"
    },
    "id": "D3O2_bxqxVhq",
    "outputId": "a21b6372-e2fc-441e-c449-9b2c70ae8b03"
   },
   "outputs": [
    {
     "name": "stdout",
     "output_type": "stream",
     "text": [
      "10\n"
     ]
    }
   ],
   "source": [
    "# Declare & Redeclare variables\n",
    "m = \"Python is Fun\"\n",
    "m = 10\n",
    "print (m)"
   ]
  },
  {
   "cell_type": "markdown",
   "metadata": {
    "id": "4e0QondkxVhq"
   },
   "source": [
    "# 2. Constants\n",
    "\n",
    "A constant is a type of variable whose value cannot be changed. It is helpful to think of constants as containers that hold information which cannot be changed later.\n",
    "\n",
    "You can think of constants as a bag to store some books which cannot be replaced once placed inside the bag."
   ]
  },
  {
   "cell_type": "markdown",
   "metadata": {
    "id": "OB3u8OUhxVhq"
   },
   "source": [
    "### Assigning value to constant in Python\n",
    "\n",
    "In Python, constants are usually declared and assigned in a module. Here, the module is a new file containing variables, functions, etc which is imported to the main file. Inside the module, constants are written in all capital letters and underscores separating the words."
   ]
  },
  {
   "cell_type": "markdown",
   "metadata": {
    "id": "MaFSpBfpxVhr"
   },
   "source": [
    "#### Example 1: Declaring and assigning value to a constant\n",
    "\n",
    "Create a **constant.py**:\n",
    "\n",
    "```python\n",
    ">>>PI = 3.14\n",
    ">>>GRAVITY = 9.8\n",
    "```\n",
    "\n",
    "Create a **main.py**:\n",
    "\n",
    "```python\n",
    ">>>import constant\n",
    ">>>print(constant.PI)\n",
    ">>>print(constant.GRAVITY)\n",
    "\n",
    "3.14\n",
    "9.8\n",
    "```\n",
    "\n",
    "In the above program, we create a **constant.py** module file. Then, we assign the constant value to **`PI`** and **`GRAVITY`**. After that, we create a **main.py** file and import the **`constant`** module. Finally, we print the constant value.\n",
    "\n",
    "> **Note**: In reality, we don't use constants in Python. Naming them in all capital letters is a convention to separate them from variables, however, it does not actually prevent reassignment."
   ]
  },
  {
   "cell_type": "markdown",
   "metadata": {
    "id": "1zSPDq9cxVhr"
   },
   "source": [
    "## Rules and Naming Convention for Variables and constants\n",
    "\n",
    "The examples you have seen so far have used **short**, terse variable names like m and n. But variable names can be more **verbose**. In fact, it is usually beneficial if they are because it makes the purpose of the variable more evident at first glance.\n",
    "\n",
    "1. Constant and variable names should have a combination of letters in lowercase (a to z) or uppercase (**A to Z**) or digits (**0 to 9**) or an underscore **`_`**. For example:\n",
    "\n",
    "```python\n",
    "snake_case\n",
    "MACRO_CASE\n",
    "camelCase\n",
    "CapWords\n",
    "```\n",
    "\n",
    "2. Create a name that makes sense. For example, **`vowel`** makes more sense than **`v`**.\n",
    "\n",
    "3. If you want to create a variable name having two words, use underscore to separate them. For example:\n",
    "\n",
    "```python\n",
    "my_name\n",
    "current_salary\n",
    "```\n",
    "\n",
    "4. Use capital letters possible to declare a constant. For example:\n",
    "\n",
    "```python\n",
    "PI\n",
    "G\n",
    "MASS\n",
    "SPEED_OF_LIGHT\n",
    "TEMP\n",
    "```\n",
    "\n",
    "5. Never use special symbols like **!**, **@**, **#**, **$** <b> % </b>, etc.\n",
    "\n",
    "6. Don't start a variable name with a digit.\n",
    "\n",
    ">**Note**: One of the additions to Python 3 was full Unicode support, which allows for **Unicode** characters in a variable name as well. You will learn about Unicode in greater depth in a future tutorial."
   ]
  },
  {
   "cell_type": "markdown",
   "metadata": {
    "id": "BhMfPoWwxVhs"
   },
   "source": [
    "For example, all of the following are valid variable names:"
   ]
  },
  {
   "cell_type": "code",
   "execution_count": null,
   "metadata": {
    "ExecuteTime": {
     "end_time": "2021-10-02T06:36:21.667195Z",
     "start_time": "2021-10-02T06:36:21.542044Z"
    },
    "id": "pVzb8lhgxVhs",
    "outputId": "2cc46b50-d900-4ca4-9872-cc0106a34493"
   },
   "outputs": [
    {
     "name": "stdout",
     "output_type": "stream",
     "text": [
      "Bob 54 True\n"
     ]
    }
   ],
   "source": [
    "name = \"Bob\"\n",
    "Age = 54\n",
    "has_W2 = True\n",
    "print(name, Age, has_W2)"
   ]
  },
  {
   "cell_type": "markdown",
   "metadata": {
    "id": "whC0lVTXxVht"
   },
   "source": [
    "But this one is not, **because a variable name can’t begin with a digit**:"
   ]
  },
  {
   "cell_type": "code",
   "execution_count": null,
   "metadata": {
    "ExecuteTime": {
     "end_time": "2021-10-02T06:36:21.779446Z",
     "start_time": "2021-10-02T06:36:21.667684Z"
    },
    "id": "tpiTTdCRxVh6",
    "outputId": "5a616b89-bb55-4060-c41c-71673ea1d595",
    "scrolled": true
   },
   "outputs": [
    {
     "ename": "SyntaxError",
     "evalue": "invalid decimal literal (<ipython-input-16-8cc0f1bdc5ed>, line 1)",
     "output_type": "error",
     "traceback": [
      "\u001b[1;36m  File \u001b[1;32m\"<ipython-input-16-8cc0f1bdc5ed>\"\u001b[1;36m, line \u001b[1;32m1\u001b[0m\n\u001b[1;33m    1099_filed = False    # cannot start name of a variable with a number.\u001b[0m\n\u001b[1;37m        ^\u001b[0m\n\u001b[1;31mSyntaxError\u001b[0m\u001b[1;31m:\u001b[0m invalid decimal literal\n"
     ]
    }
   ],
   "source": [
    "1099_filed = False    # cannot start name of a variable with a number."
   ]
  },
  {
   "cell_type": "markdown",
   "metadata": {
    "id": "UFTkhjZkxVh6"
   },
   "source": [
    "Note that case is **significant**. Lowercase and uppercase letters are not the same. Use of the underscore character is significant as well. Each of the following defines a different variable:\n",
    "\n",
    "```python\n",
    ">>>age = 1\n",
    ">>>Age = 2\n",
    ">>>aGe = 3\n",
    ">>>AGE = 4\n",
    ">>>a_g_e = 5\n",
    ">>>_age = 6\n",
    ">>>age_ = 7\n",
    ">>>AGe = 8\n",
    ">>>print(age, Age, aGe, AGE, a_g_e, age, age, AGe)\n",
    "\n",
    "1 2 3 4 5 6 7 8\n",
    "```\n",
    "There is nothing stopping you from creating two different variables in the same program called age and Age, or for that matter agE. But it is probably **ill-advised**. It would certainly be likely to confuse anyone trying to read your code, and even you yourself, after you’d been away from it awhile."
   ]
  },
  {
   "cell_type": "code",
   "execution_count": null,
   "metadata": {
    "ExecuteTime": {
     "end_time": "2021-10-02T06:37:08.476696Z",
     "start_time": "2021-10-02T06:37:08.454238Z"
    },
    "id": "7FAWHFg6xVh7",
    "outputId": "cebfa569-c378-4027-b747-d972353400a5"
   },
   "outputs": [
    {
     "name": "stdout",
     "output_type": "stream",
     "text": [
      "1 2 3 4 5 1 1 8\n"
     ]
    }
   ],
   "source": [
    "age = 1\n",
    "Age = 2\n",
    "aGe = 3\n",
    "AGE = 4\n",
    "a_g_e = 5\n",
    "_age = 6\n",
    "age_ = 7\n",
    "AGe = 8\n",
    "print(age, Age, aGe, AGE, a_g_e, age, age, AGe)"
   ]
  },
  {
   "cell_type": "markdown",
   "metadata": {
    "id": "ovLY9TrQxVh7"
   },
   "source": [
    "## 💻 Exercises ➞ <span class='label label-default'>Variables</span>\n",
    "\n",
    "### Exercises ➞ <span class='label label-default'>Level 1</span>\n",
    "\n",
    "1. Write a python comment saying **`Python variables and Constants`**\n",
    "2. Declare a **`first_name`** variable and assign a value to it\n",
    "3. Declare a **`last_name`** variable and assign a value to it\n",
    "4. Declare a **`full_name`** variable and assign a value to it\n",
    "5. Declare a variable **`is_light_on`** and assign a value to it\n",
    "6. Declare multiple variable on one line\n",
    "\n",
    "### Exercises ➞ <span class='label label-default'>Level 2</span>\n",
    "\n",
    "1. Check the data type of all your variables using **`type()`** built-in function\n",
    "2. Using the **`len()`** built-in function, find the length of your first name\n",
    "3. Compare the length of your **`first_name`** and your **`last_name`**\n",
    "4. Declare **6** as **`num_1`** and **4** as **`num_2`**\n",
    "    1. Add **`num_1`** and **`num_2`** and assign the value to a variable **`total`**\n",
    "    2. Subtract **`num_2`** from **`num_1`** and assign the value to a variable **`difference`**\n",
    "    3. Multiply **`num_2`** and **`num_1`** and assign the value to a variable **`product`**\n",
    "    4. Divide **`num_1`** by **`num_2`** and assign the value to a variable **`division`**\n",
    "    5. Use modulus division to find **`num_2`** divided by **`num_1`** and assign the value to a variable **`remainder`**\n",
    "    6. Calculate **`num_1`** to the power of **`num_2`** and assign the value to a variable **`exp`**\n",
    "    7. Find floor division of **`num_1`** by **`num_2`** and assign the value to a variable **`floor_division`**\n",
    "    \n",
    "5. The radius of a circle is **30 meters**.\n",
    "    1. Calculate the area of a circle and assign the value to a variable name of **`area_of_circle`** by taking user **`input()`**\n",
    "    2. Calculate the circumference of a circle and assign the value to a variable name of **`circum_of_circle`** by taking user **`input()`**\n",
    "    3. Take radius as user **`input()`** and calculate the area.\n",
    "    \n",
    "6. Use the built-in **`input()`** function to get first name, last name, country and age from a user and store the value to their corresponding variable names\n",
    "7. Run help (**`keywords`**) in Python shell or in your file to check for the Python reserved words or keywords"
   ]
  },
  {
   "cell_type": "code",
   "execution_count": null,
   "metadata": {
    "id": "JGE1jH4ExVh8"
   },
   "outputs": [],
   "source": []
  },
  {
   "cell_type": "markdown",
   "metadata": {
    "id": "4OOJ4HdixWfs"
   },
   "source": [
    "# Python Literals\n",
    "\n",
    "**Literal** is a raw data given in a **variable** or **constant**. In Python, there are various types of literals they are as follows:"
   ]
  },
  {
   "cell_type": "markdown",
   "metadata": {
    "id": "x7D176BPxWft"
   },
   "source": [
    "## 1. Numeric Literals\n",
    "\n",
    "Numeric Literals are **immutable (unchangeable)**. Numeric literals can belong to 3 different numerical types **`Integer`**, **`Float`** and **`Complex`**.\n",
    "\n",
    "<div>\n",
    "<img src=\"../img/li0.png\" width=\"500\"/>\n",
    "</div>"
   ]
  },
  {
   "cell_type": "markdown",
   "metadata": {
    "id": "ykuLKxuHxWft"
   },
   "source": [
    "Number data types in Python:\n",
    "\n",
    "1. Integers: Integer(negative, zero and positive) numbers\n",
    "   - Example:\n",
    "       - ... -3, -2, -1, 0, 1, 2, 3 ...\n",
    "\n",
    "\n",
    "2. Floating Point Numbers(Decimal numbers)\n",
    "   - Example:\n",
    "       - ... -3.5, -2.25, -1.0, 0.0, 1.1, 2.2, 3.5 ...\n",
    "\n",
    "\n",
    "3. Complex Numbers\n",
    "   - Example:\n",
    "       - 1 + j, 2 + 3j, 1 - 1j"
   ]
  },
  {
   "cell_type": "code",
   "execution_count": null,
   "metadata": {
    "ExecuteTime": {
     "end_time": "2021-10-02T07:56:41.965572Z",
     "start_time": "2021-10-02T07:56:41.949947Z"
    },
    "id": "i3hzxZIxxWft",
    "outputId": "9094f89a-5bde-4b93-80a4-fdaaa3319d1a"
   },
   "outputs": [
    {
     "name": "stdout",
     "output_type": "stream",
     "text": [
      "10 100 200 300\n",
      "10 99\n",
      "10.5 150.0\n",
      "3.14j 3.14 0.0\n"
     ]
    }
   ],
   "source": [
    "# Example:\n",
    "\n",
    "a = 0b1010 #Binary Literals\n",
    "b = 100 #Decimal Literal\n",
    "c = 0o310 #Octal Literal\n",
    "d = 0x12c #Hexadecimal Literal\n",
    "\n",
    "# Integer Literal\n",
    "int_1 = 10\n",
    "int_2 = 99\n",
    "\n",
    "\n",
    "# Float Literal\n",
    "float_1 = 10.5\n",
    "float_2 = 1.5e2\n",
    "\n",
    "\n",
    "# Complex Literal\n",
    "x = 3.14j\n",
    "\n",
    "print(a, b, c, d)\n",
    "print(int_1, int_2)\n",
    "print(float_1, float_2)\n",
    "print(x, x.imag, x.real)"
   ]
  },
  {
   "cell_type": "markdown",
   "metadata": {
    "id": "kV5r1FZ_xWfv"
   },
   "source": [
    "### Type Conversion of Numbers in Python\n",
    "\n",
    "As a programmer, you can convert a variable of any data type to Number data types in Python using the below Python inbuilt functions. Also, using these functions, you can convert a number from one Number data type to another i.e from int to float, float to decimal, decimal to int and so on.\n",
    "\n",
    "* **`int ()`** : This function converts any data type to integer data type.\n",
    "* **`float ()`** : This function converts any data type to float data type.\n",
    "* **`complex (real, imaginary)`** or **`complex (real)`** : This function converts any data type to complex data type.\n",
    "\n",
    "> **Note**: There is no 'long' integer in Python 3, int and long are unified now. This means int behave more like long. Sample program showing type conversion of Numbers in Python"
   ]
  },
  {
   "cell_type": "code",
   "execution_count": null,
   "metadata": {
    "ExecuteTime": {
     "end_time": "2021-10-02T07:56:41.980222Z",
     "start_time": "2021-10-02T07:56:41.968501Z"
    },
    "id": "Hv7aGrDsxWfv",
    "outputId": "c12dfc3b-012e-4f67-ce6b-01c29e2d658f"
   },
   "outputs": [
    {
     "name": "stdout",
     "output_type": "stream",
     "text": [
      "19\n",
      "3.7\n",
      "(3.7+0j)\n",
      "(19.16+0j)\n",
      "(3.7+19.16j)\n"
     ]
    }
   ],
   "source": [
    "# Example:\n",
    "\n",
    "a = 3.7\n",
    "b = 19.16\n",
    "c = 3 + 27j\n",
    "\n",
    "#converting float to int\n",
    "print (int(b))\n",
    "\n",
    "#converting int to float\n",
    "print (float(a))\n",
    "\n",
    "#converting int to complex\n",
    "print (complex(a))\n",
    "\n",
    "#converting float to complex\n",
    "print (complex(b))\n",
    "\n",
    "#converting to complex\n",
    "print (complex(a, b))"
   ]
  },
  {
   "cell_type": "markdown",
   "metadata": {
    "id": "OFYzUHOuxWfw"
   },
   "source": [
    "## 2. String literals (unicode character strings)\n",
    "\n",
    "A **string** literal is a **sequence of characters** surrounded by **quotes**. We can use both **single**, **double** or **triple** quotes for a string. And, a **character literal** is a single character surrounded by single or double quotes."
   ]
  },
  {
   "cell_type": "code",
   "execution_count": null,
   "metadata": {
    "ExecuteTime": {
     "end_time": "2021-10-02T07:56:42.487053Z",
     "start_time": "2021-10-02T07:56:41.990964Z"
    },
    "id": "i1I9JHPjxWfw",
    "outputId": "74173772-7fda-4f98-d766-2cb82becddf2"
   },
   "outputs": [
    {
     "ename": "NameError",
     "evalue": "name 'Apple' is not defined",
     "output_type": "error",
     "traceback": [
      "\u001b[1;31m---------------------------------------------------------------------------\u001b[0m",
      "\u001b[1;31mNameError\u001b[0m                                 Traceback (most recent call last)",
      "\u001b[1;32m<ipython-input-3-ee80ca1a52c8>\u001b[0m in \u001b[0;36m<module>\u001b[1;34m\u001b[0m\n\u001b[0;32m      9\u001b[0m \u001b[0md\u001b[0m \u001b[1;33m=\u001b[0m \u001b[1;34m\"Apple\"\u001b[0m\u001b[1;33m\u001b[0m\u001b[1;33m\u001b[0m\u001b[0m\n\u001b[0;32m     10\u001b[0m \u001b[1;33m\u001b[0m\u001b[0m\n\u001b[1;32m---> 11\u001b[1;33m \u001b[0me\u001b[0m \u001b[1;33m=\u001b[0m \u001b[0mApple\u001b[0m     \u001b[1;31m# cannot write string with out quotes ('', \" \", \"\"\" \"\"\", ''' ''')\u001b[0m\u001b[1;33m\u001b[0m\u001b[1;33m\u001b[0m\u001b[0m\n\u001b[0m\u001b[0;32m     12\u001b[0m \u001b[1;33m\u001b[0m\u001b[0m\n\u001b[0;32m     13\u001b[0m \u001b[0mprint\u001b[0m\u001b[1;33m(\u001b[0m\u001b[0ma\u001b[0m\u001b[1;33m)\u001b[0m\u001b[1;33m\u001b[0m\u001b[1;33m\u001b[0m\u001b[0m\n",
      "\u001b[1;31mNameError\u001b[0m: name 'Apple' is not defined"
     ]
    }
   ],
   "source": [
    "# Example:\n",
    "\n",
    "a = '''Apple'''\n",
    "\n",
    "b = \"\"\"Apple\"\"\"\n",
    "\n",
    "c = 'Apple'\n",
    "\n",
    "d = \"Apple\"\n",
    "\n",
    "e = Apple     # cannot write string with out quotes ('', \" \", \"\"\" \"\"\", ''' ''')\n",
    "\n",
    "print(a)\n",
    "print(b)\n",
    "print(c)\n",
    "print(d)\n",
    "print(e)"
   ]
  },
  {
   "cell_type": "code",
   "execution_count": null,
   "metadata": {
    "ExecuteTime": {
     "end_time": "2021-10-02T07:56:53.085188Z",
     "start_time": "2021-10-02T07:56:53.065659Z"
    },
    "id": "SfU4yEShxWfw",
    "outputId": "d56e4153-6b65-41a8-e754-7becce44e42b",
    "scrolled": true
   },
   "outputs": [
    {
     "name": "stdout",
     "output_type": "stream",
     "text": [
      "This is Python\n",
      "C\n",
      "This is a multiline string with more than one line code.\n",
      "Ünicöde\n",
      "raw \\n string\n"
     ]
    }
   ],
   "source": [
    "# Example:\n",
    "\n",
    "strings = \"This is Python\"\n",
    "char = \"C\"\n",
    "multiline_str = \"\"\"This is a multiline string with more than one line code.\"\"\"\n",
    "unicode = u\"\\u00dcnic\\u00f6de\"\n",
    "raw_str = r\"raw \\n string\"\n",
    "\n",
    "print(strings)\n",
    "print(char)\n",
    "print(multiline_str)\n",
    "print(unicode)\n",
    "print(raw_str)"
   ]
  },
  {
   "cell_type": "markdown",
   "metadata": {
    "id": "OVo4Qpn4xWfx"
   },
   "source": [
    "In the above program,\n",
    "\n",
    "* **`This is Python`** is a string literal and **`C`** is a **character** literal.\n",
    "\n",
    "* The value with **triple-quote \"\"\"** assigned in the **`multiline_str`** is **multi-line** string literal.\n",
    "\n",
    "* The **`u\"\\u00dcnic\\u00f6de\"`** is a **unicode literal** which supports characters other than English. In this case, **`\\u00dc`** represents **`Ü`** and **`\\u00f6`** represents **`ö`**.\n",
    "\n",
    "* **`r\"raw \\n string\"`** is a raw string literal."
   ]
  },
  {
   "cell_type": "markdown",
   "metadata": {
    "id": "QTST75wAxWfx"
   },
   "source": [
    "## 3. Boolean literals\n",
    "\n",
    "A Boolean literal can have any of the two values: **`True`** or **`False`**."
   ]
  },
  {
   "cell_type": "code",
   "execution_count": null,
   "metadata": {
    "ExecuteTime": {
     "end_time": "2021-10-02T07:56:53.639879Z",
     "start_time": "2021-10-02T07:56:53.626204Z"
    },
    "id": "lenKfZ12xWfx",
    "outputId": "c95bfdf1-301e-41d9-f44d-aa79c41fb287",
    "scrolled": true
   },
   "outputs": [
    {
     "name": "stdout",
     "output_type": "stream",
     "text": [
      "x is True\n",
      "y is False\n",
      "a: 7\n",
      "b: 90\n"
     ]
    }
   ],
   "source": [
    "# Example:\n",
    "\n",
    "#REMEMBER  True == 1   False == 0\n",
    "\n",
    "x = (1 == True)\n",
    "y = (1 == False)\n",
    "a = True + 6\n",
    "b = False + 90\n",
    "\n",
    "print(\"x is\", x)\n",
    "print(\"y is\", y)\n",
    "print(\"a:\", a)\n",
    "print(\"b:\", b)"
   ]
  },
  {
   "cell_type": "markdown",
   "metadata": {
    "id": "Xj7Fi-ClxWfy"
   },
   "source": [
    "In the above program, we use boolean literal **`True`** and **`False`**. In Python, **`True`** represents the value as **`1` and `False` as `0`**. The value of `x` is `True` because **`1` is equal to `True`**. And, the value of **`y`** is **`False`** because **`1` is not equal to `False`**.\n",
    "\n",
    "Similarly, we can use the **`True`** and **`False`** in numeric expressions as the value. The value of **`a`** is **`6`** because we add **`True`** which has value of **`1` with `6`**. Similarly, **`b`** is **`90`** because we add the **`False`** having value of **`0` with `90`**."
   ]
  },
  {
   "cell_type": "code",
   "execution_count": null,
   "metadata": {
    "ExecuteTime": {
     "end_time": "2021-10-02T07:56:54.023664Z",
     "start_time": "2021-10-02T07:56:54.009994Z"
    },
    "id": "T278EzKrxWfy",
    "outputId": "d7061cc9-87aa-4530-e956-d7df4f985de0"
   },
   "outputs": [
    {
     "name": "stdout",
     "output_type": "stream",
     "text": [
      "Triple quotes (also with '''), allow strings to break over multiple lines.\n",
      "Alternatively \n",
      " is a newline character (\t for tab, \\ is a single backslash)\n"
     ]
    }
   ],
   "source": [
    "# Example:\n",
    "\n",
    "9.0           # a simple floating point number\n",
    "1e100         # a googol as floating point number\n",
    "-1234567890   # an integer\n",
    "True or False # the two possible boolean values\n",
    "'This is a string'\n",
    "\"It's another string\"\n",
    "print(\"\"\"Triple quotes (also with '''), allow strings to break over multiple lines.\n",
    "Alternatively \\n is a newline character (\\t for tab, \\\\ is a single backslash)\"\"\")"
   ]
  },
  {
   "cell_type": "markdown",
   "metadata": {
    "id": "RceEaSIoxWfy"
   },
   "source": [
    "Python also has complex numbers that can be written as follows. Note that the **`( )`** brackets or parentheses are required."
   ]
  },
  {
   "cell_type": "code",
   "execution_count": null,
   "metadata": {
    "ExecuteTime": {
     "end_time": "2021-10-02T07:56:54.425520Z",
     "start_time": "2021-10-02T07:56:54.416732Z"
    },
    "id": "PuJO-a_JxWfy",
    "outputId": "31b2d9c4-885f-4a9e-a486-a7933d0eda03"
   },
   "outputs": [
    {
     "name": "stdout",
     "output_type": "stream",
     "text": [
      "(1+2j)\n",
      "(1+2j)\n"
     ]
    }
   ],
   "source": [
    "complex_number1 = complex(1,2)\n",
    "print(complex_number1)\n",
    "\n",
    "complex_number2 = (1.0+2j) # the same number as above\n",
    "print(complex_number2)"
   ]
  },
  {
   "cell_type": "markdown",
   "metadata": {
    "id": "FCvI9jhgxWfz"
   },
   "source": [
    "## Special literals\n",
    "\n",
    "Python contains one **special** literal i.e., **`None`**. We use it to specify to that field that is not created."
   ]
  },
  {
   "cell_type": "code",
   "execution_count": null,
   "metadata": {
    "ExecuteTime": {
     "end_time": "2021-10-02T07:56:54.823957Z",
     "start_time": "2021-10-02T07:56:54.812240Z"
    },
    "id": "X73FB6M9xWfz",
    "outputId": "b739fc80-af0a-4bde-a36f-a19f423e4795",
    "scrolled": true
   },
   "outputs": [
    {
     "name": "stdout",
     "output_type": "stream",
     "text": [
      "Available\n",
      "None\n"
     ]
    }
   ],
   "source": [
    "# Example:\n",
    "\n",
    "juice = \"Available\"\n",
    "soup = None\n",
    "def menu(x):\n",
    "    if x == juice:\n",
    "        print(juice)\n",
    "    else:\n",
    "        print(soup)\n",
    "menu(juice)\n",
    "menu(soup)"
   ]
  },
  {
   "cell_type": "markdown",
   "metadata": {
    "id": "ol0YrTbExWfz"
   },
   "source": [
    "In the above program, we define a **`menu` function**. Inside **`menu`**, when we set parameter as **`drink`** then, it displays **`Available`**. And, when the parameter is **`food`**, it displays **`None`**."
   ]
  },
  {
   "cell_type": "markdown",
   "metadata": {
    "id": "FRzJDkGtxWfz"
   },
   "source": [
    "## Literal Collections\n",
    "\n",
    "There are four different literal collections **List literals, Tuple literals, Dict literals**, and **Set literals**."
   ]
  },
  {
   "cell_type": "code",
   "execution_count": null,
   "metadata": {
    "ExecuteTime": {
     "end_time": "2021-10-02T07:56:55.311263Z",
     "start_time": "2021-10-02T07:56:55.288834Z"
    },
    "id": "91khg9XXxWf0",
    "outputId": "49c6d42b-78ee-4c69-fc23-66e381379e05"
   },
   "outputs": [
    {
     "name": "stdout",
     "output_type": "stream",
     "text": [
      "('Banana', 'Apple', 'Strawberry')\n",
      "['Banana', 'Apple', 'Strawberry']\n",
      "{'Apple', 'Strawberry', 'Banana'}\n",
      "{'1': 'Banana', '2': 'Apple', '3': 'Strawberry'}\n"
     ]
    }
   ],
   "source": [
    "# Example:\n",
    "\n",
    "fruits1 = (\"Banana\", \"Apple\", \"Strawberry\")             # tuple ()\n",
    "fruits2 = [\"Banana\", \"Apple\", \"Strawberry\"]             # list []\n",
    "fruits3 = {\"Banana\", \"Apple\", \"Strawberry\"}             # set {}\n",
    "fruits4 = {\"1\":\"Banana\", \"2\":\"Apple\", \"3\":\"Strawberry\"} # dictionary {\"Key\":\"Value\"}\n",
    "\n",
    "print(fruits1)\n",
    "print(fruits2)\n",
    "print(fruits3)\n",
    "print(fruits4)"
   ]
  },
  {
   "cell_type": "code",
   "execution_count": null,
   "metadata": {
    "ExecuteTime": {
     "end_time": "2021-10-02T07:56:55.723859Z",
     "start_time": "2021-10-02T07:56:55.715559Z"
    },
    "id": "sjjPZOu_xWf0",
    "outputId": "e03655e2-438f-468d-fa1c-95afad1d488a"
   },
   "outputs": [
    {
     "name": "stdout",
     "output_type": "stream",
     "text": [
      "['apple', 'mango', 'orange']\n",
      "(1, 2, 3)\n",
      "{'a': 'apple', 'b': 'ball', 'c': 'cat'}\n",
      "{'u', 'e', 'o', 'a', 'i'}\n"
     ]
    }
   ],
   "source": [
    "# Example:\n",
    "\n",
    "fruits = [\"apple\", \"mango\", \"orange\"] #list\n",
    "numbers = (1, 2, 3) #tuple\n",
    "alphabets = {'a':'apple', 'b':'ball', 'c':'cat'} #dictionary\n",
    "vowels = {'a', 'e', 'i' , 'o', 'u'} #set\n",
    "\n",
    "print(fruits)\n",
    "print(numbers)\n",
    "print(alphabets)\n",
    "print(vowels)"
   ]
  },
  {
   "cell_type": "code",
   "execution_count": null,
   "metadata": {
    "id": "meqczU4uxWf0"
   },
   "outputs": [],
   "source": []
  },
  {
   "cell_type": "markdown",
   "metadata": {
    "id": "1dWb1Q03xXpe"
   },
   "source": [
    "# Python Data Types\n",
    "\n",
    "In this class, you will learn about different data types you can use in Python."
   ]
  },
  {
   "cell_type": "markdown",
   "metadata": {
    "id": "j15lZ3nLxXpf"
   },
   "source": [
    "## Data types in Python\n",
    "\n",
    "Every value in Python has a datatype. Since everything is an object in Python programming, data types are actually classes and variables are instance (object) of these classes.\n",
    "\n",
    "There are various data types in Python. Some of the important types are listed below."
   ]
  },
  {
   "cell_type": "code",
   "execution_count": null,
   "metadata": {
    "ExecuteTime": {
     "end_time": "2021-10-02T06:58:04.722613Z",
     "start_time": "2021-10-02T06:58:04.702107Z"
    },
    "id": "w8ss1-JSxXpf",
    "outputId": "39d83869-3184-4871-992b-a02a719c6165",
    "scrolled": true
   },
   "outputs": [
    {
     "name": "stdout",
     "output_type": "stream",
     "text": [
      "6 is of type <class 'int'>\n",
      "6 is integer number? True\n",
      "3.0 is of type <class 'float'>\n",
      "3.0 is float number? True\n",
      "(1+2j) is of type <class 'complex'>\n",
      "(1+2j) is complex number? True\n"
     ]
    }
   ],
   "source": [
    "a = 6\n",
    "print(a, \"is of type\", type(a))\n",
    "print(a, \"is integer number?\", isinstance(5,int))\n",
    "\n",
    "a = 3.0\n",
    "print(a, \"is of type\", type(a))\n",
    "print(a, \"is float number?\", isinstance(2.0,float))\n",
    "\n",
    "a = 1+2j  # '1' is real part and '2j' is imaginary part\n",
    "print(a, \"is of type\", type(a))\n",
    "print(a, \"is complex number?\", isinstance(1+2j,complex))"
   ]
  },
  {
   "cell_type": "markdown",
   "metadata": {
    "id": "fa4uoZ0HxXpg"
   },
   "source": [
    "Integers can be of any length, it is only limited by the memory available.\n",
    "\n",
    "A floating-point number is accurate up to 15 decimal places. Integer and floating points are separated by decimal points. **`1`** is an integer, **`1.0`** is a floating-point number.\n",
    "\n",
    "Complex numbers are written in the form, **`x + yj`**, where **`x`** is the real part and **`y`** is the imaginary part. Here are some examples."
   ]
  },
  {
   "cell_type": "code",
   "execution_count": null,
   "metadata": {
    "ExecuteTime": {
     "end_time": "2021-10-02T06:58:04.845659Z",
     "start_time": "2021-10-02T06:58:04.725544Z"
    },
    "id": "dn13FjQMxXph",
    "outputId": "328b2b8a-351f-4502-fda4-08863ef0bfdb",
    "scrolled": true
   },
   "outputs": [
    {
     "name": "stdout",
     "output_type": "stream",
     "text": [
      "1234567890123456789\n",
      "0.12345678901234568\n",
      "(1+2j)\n"
     ]
    }
   ],
   "source": [
    "a = 1234567890123456789\n",
    "print (a)\n",
    "\n",
    "b = 0.1234567890123456789  # total of only 17 numbers after decimal can be printed.\n",
    "print (b)\n",
    "\n",
    "c = 1+2j\n",
    "print (c)"
   ]
  },
  {
   "cell_type": "markdown",
   "metadata": {
    "id": "k8b0AU69xXph"
   },
   "source": [
    "Notice that the **`float`** variable **`b`** got truncated."
   ]
  },
  {
   "cell_type": "code",
   "execution_count": null,
   "metadata": {
    "ExecuteTime": {
     "end_time": "2021-10-02T06:58:04.985306Z",
     "start_time": "2021-10-02T06:58:04.851519Z"
    },
    "id": "c0C6relFxXpi",
    "outputId": "83f1a793-d185-455c-f809-c79b06a831f6"
   },
   "outputs": [
    {
     "name": "stdout",
     "output_type": "stream",
     "text": [
      "[6, 99, 77, 'Apple'] is of type <class 'list'>\n"
     ]
    }
   ],
   "source": [
    "x = [6, 99, 77, 'Apple']\n",
    "print(x, \"is of type\", type(x))"
   ]
  },
  {
   "cell_type": "code",
   "execution_count": null,
   "metadata": {
    "ExecuteTime": {
     "end_time": "2021-10-02T06:58:05.124956Z",
     "start_time": "2021-10-02T06:58:04.990189Z"
    },
    "id": "TkZxkZlmxXpi",
    "outputId": "0a317d94-7d07-4048-a200-7b46c8604cff",
    "scrolled": true
   },
   "outputs": [
    {
     "name": "stdout",
     "output_type": "stream",
     "text": [
      "a[2] =  15\n",
      "a[0:3] =  [5, 10, 15]\n",
      "a[5:] =  [30, 35, 40]\n"
     ]
    }
   ],
   "source": [
    "a = [5, 10, 15, 20, 25, 30, 35, 40]  # Total elemnets is 8\n",
    "#   [0   1   2   3   4   5   6   7]  ⬅ Index forward\n",
    "#   [-8 -7  -6  -5  -4  -3  -2  -1]  ➡ Index backward\n",
    "\n",
    "# index '0' is element '1' = 5,\n",
    "# index '1' is element '2' = 10,\n",
    "# index '2' is element '3' = 15,\n",
    "# .\n",
    "# .\n",
    "# .\n",
    "# index '7' is element '8' = 40,\n",
    "\n",
    "a[1] # To access the elements in the list\n",
    "\n",
    "# a[2] = 15\n",
    "print(\"a[2] = \", a[2])\n",
    "\n",
    "# a[0:3] = [5, 10, 15]\n",
    "print(\"a[0:3] = \", a[0:3])  # [0:3] means elements from 0 uptil 2 index (not include last element)\n",
    "                            # [0:3] means from index 0 to 3 - 1\n",
    "                            # [0:3] means from index 0 to 2\n",
    "\n",
    "# a[5:] = [30, 35, 40]  # [5:] means all the elements from 5 till end\n",
    "print(\"a[5:] = \", a[5:])"
   ]
  },
  {
   "cell_type": "code",
   "execution_count": null,
   "metadata": {
    "ExecuteTime": {
     "end_time": "2021-10-02T06:58:05.259719Z",
     "start_time": "2021-10-02T06:58:05.131792Z"
    },
    "id": "lhLksc5HxXps",
    "outputId": "65812468-fd87-4171-d243-5ae872dca413"
   },
   "outputs": [
    {
     "data": {
      "text/plain": [
       "[10, 15, 20, 25, 30]"
      ]
     },
     "execution_count": 5,
     "metadata": {},
     "output_type": "execute_result"
    }
   ],
   "source": [
    "a[1:-2]"
   ]
  },
  {
   "cell_type": "code",
   "execution_count": null,
   "metadata": {
    "ExecuteTime": {
     "end_time": "2021-10-02T06:58:05.445266Z",
     "start_time": "2021-10-02T06:58:05.268510Z"
    },
    "id": "Vf9L7ixGxXps",
    "outputId": "4e0c9a14-2a7a-45c2-9126-504908c56703"
   },
   "outputs": [
    {
     "data": {
      "text/plain": [
       "[30, 35, 40]"
      ]
     },
     "execution_count": 6,
     "metadata": {},
     "output_type": "execute_result"
    }
   ],
   "source": [
    "a[5:9]"
   ]
  },
  {
   "cell_type": "code",
   "execution_count": null,
   "metadata": {
    "ExecuteTime": {
     "end_time": "2021-10-02T06:58:05.582964Z",
     "start_time": "2021-10-02T06:58:05.458941Z"
    },
    "id": "MVvlAPQFxXpt",
    "outputId": "6ce0e0ab-bfce-4d6f-d350-d137ba306211"
   },
   "outputs": [
    {
     "data": {
      "text/plain": [
       "[5, 10, 15, 20, 25]"
      ]
     },
     "execution_count": 7,
     "metadata": {},
     "output_type": "execute_result"
    }
   ],
   "source": [
    "a[:5]"
   ]
  },
  {
   "cell_type": "markdown",
   "metadata": {
    "id": "VMlaOOM8xXpt"
   },
   "source": [
    "Lists are **mutable**, meaning, the value of elements of a list can be altered."
   ]
  },
  {
   "cell_type": "code",
   "execution_count": null,
   "metadata": {
    "ExecuteTime": {
     "end_time": "2021-10-02T06:58:05.830520Z",
     "start_time": "2021-10-02T06:58:05.593706Z"
    },
    "id": "o4_ypV9QxXpt",
    "outputId": "f10affcc-cc92-4f27-9ba5-7b31ae2d3676"
   },
   "outputs": [
    {
     "name": "stdout",
     "output_type": "stream",
     "text": [
      "[1, 2, 4]\n"
     ]
    }
   ],
   "source": [
    "# Change the element of the List\n",
    "a = [1, 2, 3]\n",
    "#   [0  1  2] ➡ Index forward\n",
    "\n",
    "a[2] = 4  # Change my third element from '3' to '4' # [2] is the index number\n",
    "print(a)"
   ]
  },
  {
   "cell_type": "code",
   "execution_count": null,
   "metadata": {
    "ExecuteTime": {
     "end_time": "2021-10-02T06:58:06.216260Z",
     "start_time": "2021-10-02T06:58:05.836380Z"
    },
    "id": "evuhRzb1xXpu",
    "outputId": "40317815-8c6c-44e6-ebd9-510204927ebf",
    "scrolled": true
   },
   "outputs": [
    {
     "name": "stdout",
     "output_type": "stream",
     "text": [
      "t[1] =  program\n",
      "t[0:3] =  (6, 'program', (1+3j))\n"
     ]
    },
    {
     "ename": "TypeError",
     "evalue": "'tuple' object does not support item assignment",
     "output_type": "error",
     "traceback": [
      "\u001b[1;31m---------------------------------------------------------------------------\u001b[0m",
      "\u001b[1;31mTypeError\u001b[0m                                 Traceback (most recent call last)",
      "\u001b[1;32m<ipython-input-9-c92d9f2b36de>\u001b[0m in \u001b[0;36m<module>\u001b[1;34m\u001b[0m\n\u001b[0;32m     15\u001b[0m \u001b[1;31m# Generates error\u001b[0m\u001b[1;33m\u001b[0m\u001b[1;33m\u001b[0m\u001b[1;33m\u001b[0m\u001b[0m\n\u001b[0;32m     16\u001b[0m \u001b[1;31m# Tuples are immutable\u001b[0m\u001b[1;33m\u001b[0m\u001b[1;33m\u001b[0m\u001b[1;33m\u001b[0m\u001b[0m\n\u001b[1;32m---> 17\u001b[1;33m \u001b[0mt\u001b[0m\u001b[1;33m[\u001b[0m\u001b[1;36m0\u001b[0m\u001b[1;33m]\u001b[0m \u001b[1;33m=\u001b[0m \u001b[1;36m10\u001b[0m  \u001b[1;31m# trying to change element 0 from '6' to '10'\u001b[0m\u001b[1;33m\u001b[0m\u001b[1;33m\u001b[0m\u001b[0m\n\u001b[0m",
      "\u001b[1;31mTypeError\u001b[0m: 'tuple' object does not support item assignment"
     ]
    }
   ],
   "source": [
    "# Tuple 't' have 3 elements\n",
    "t = (6,'program', 1+3j)\n",
    "#   (0        1      2) ➡ Index forward\n",
    "\n",
    "# index '0' is element '1'= 6\n",
    "# index '1' is element '2'= program\n",
    "# index '2' is elemtnt '3'= 1+3j\n",
    "\n",
    "# t[1] = 'program'\n",
    "print(\"t[1] = \", t[1])\n",
    "\n",
    "# t[0:3] = (6, 'program', (1+3j))\n",
    "print(\"t[0:3] = \", t[0:3])\n",
    "\n",
    "# Generates error\n",
    "# Tuples are immutable\n",
    "t[0] = 10  # trying to change element 0 from '6' to '10'"
   ]
  },
  {
   "cell_type": "code",
   "execution_count": null,
   "metadata": {
    "ExecuteTime": {
     "end_time": "2021-10-02T06:58:14.513128Z",
     "start_time": "2021-10-02T06:58:14.496525Z"
    },
    "id": "-lsXSZ2hxXpu",
    "outputId": "aa978648-2c36-4686-9b28-1b3abcf74e98"
   },
   "outputs": [
    {
     "name": "stdout",
     "output_type": "stream",
     "text": [
      "[9, 'banana', (3+6j)]\n"
     ]
    },
    {
     "ename": "TypeError",
     "evalue": "'tuple' object does not support item assignment",
     "output_type": "error",
     "traceback": [
      "\u001b[1;31m---------------------------------------------------------------------------\u001b[0m",
      "\u001b[1;31mTypeError\u001b[0m                                 Traceback (most recent call last)",
      "\u001b[1;32m<ipython-input-10-e32e417070a1>\u001b[0m in \u001b[0;36m<module>\u001b[1;34m\u001b[0m\n\u001b[0;32m      4\u001b[0m \u001b[0mlist1\u001b[0m\u001b[1;33m[\u001b[0m\u001b[1;36m1\u001b[0m\u001b[1;33m]\u001b[0m \u001b[1;33m=\u001b[0m \u001b[1;34m'banana'\u001b[0m  \u001b[1;31m# List is mutable\u001b[0m\u001b[1;33m\u001b[0m\u001b[1;33m\u001b[0m\u001b[0m\n\u001b[0;32m      5\u001b[0m \u001b[0mprint\u001b[0m\u001b[1;33m(\u001b[0m\u001b[0mlist1\u001b[0m\u001b[1;33m)\u001b[0m         \u001b[1;31m# No error\u001b[0m\u001b[1;33m\u001b[0m\u001b[1;33m\u001b[0m\u001b[0m\n\u001b[1;32m----> 6\u001b[1;33m \u001b[0mtuple1\u001b[0m\u001b[1;33m[\u001b[0m\u001b[1;36m1\u001b[0m\u001b[1;33m]\u001b[0m\u001b[1;33m=\u001b[0m \u001b[1;34m'banana'\u001b[0m  \u001b[1;31m# Tuple is immutable\u001b[0m\u001b[1;33m\u001b[0m\u001b[1;33m\u001b[0m\u001b[0m\n\u001b[0m\u001b[0;32m      7\u001b[0m \u001b[0mprint\u001b[0m\u001b[1;33m(\u001b[0m\u001b[0mtuple1\u001b[0m\u001b[1;33m)\u001b[0m        \u001b[1;31m# error\u001b[0m\u001b[1;33m\u001b[0m\u001b[1;33m\u001b[0m\u001b[0m\n",
      "\u001b[1;31mTypeError\u001b[0m: 'tuple' object does not support item assignment"
     ]
    }
   ],
   "source": [
    "list1 =  [9, 'apple', 3 + 6j]  # list\n",
    "tuple1 = (9, 'apple', 3 + 6j)  # tuple\n",
    "\n",
    "list1[1] = 'banana'  # List is mutable\n",
    "print(list1)         # No error\n",
    "tuple1[1]= 'banana'  # Tuple is immutable\n",
    "print(tuple1)        # error"
   ]
  },
  {
   "cell_type": "code",
   "execution_count": null,
   "metadata": {
    "ExecuteTime": {
     "end_time": "2021-10-02T06:58:16.345643Z",
     "start_time": "2021-10-02T06:58:16.285099Z"
    },
    "id": "7Tv2z8KzxXpv",
    "outputId": "db68c9f6-8e1b-458d-c633-36309cf74e31"
   },
   "outputs": [
    {
     "name": "stdout",
     "output_type": "stream",
     "text": [
      "Apple\n",
      "Apple\n",
      "Apple\n",
      "Apple\n"
     ]
    },
    {
     "ename": "NameError",
     "evalue": "name 'Apple' is not defined",
     "output_type": "error",
     "traceback": [
      "\u001b[1;31m---------------------------------------------------------------------------\u001b[0m",
      "\u001b[1;31mNameError\u001b[0m                                 Traceback (most recent call last)",
      "\u001b[1;32m<ipython-input-11-7fce570bf337>\u001b[0m in \u001b[0;36m<module>\u001b[1;34m\u001b[0m\n\u001b[0;32m      7\u001b[0m \u001b[0ms\u001b[0m \u001b[1;33m=\u001b[0m \u001b[1;34m\"Apple\"\u001b[0m\u001b[1;33m\u001b[0m\u001b[1;33m\u001b[0m\u001b[0m\n\u001b[0;32m      8\u001b[0m \u001b[0mprint\u001b[0m\u001b[1;33m(\u001b[0m\u001b[0ms\u001b[0m\u001b[1;33m)\u001b[0m\u001b[1;33m\u001b[0m\u001b[1;33m\u001b[0m\u001b[0m\n\u001b[1;32m----> 9\u001b[1;33m \u001b[0ms\u001b[0m \u001b[1;33m=\u001b[0m \u001b[0mApple\u001b[0m   \u001b[1;31m# cannot write string with out quotes ('', \" \", \"\"\" \"\"\", ''' ''')\u001b[0m\u001b[1;33m\u001b[0m\u001b[1;33m\u001b[0m\u001b[0m\n\u001b[0m\u001b[0;32m     10\u001b[0m \u001b[0mprint\u001b[0m\u001b[1;33m(\u001b[0m\u001b[0ms\u001b[0m\u001b[1;33m)\u001b[0m\u001b[1;33m\u001b[0m\u001b[1;33m\u001b[0m\u001b[0m\n",
      "\u001b[1;31mNameError\u001b[0m: name 'Apple' is not defined"
     ]
    }
   ],
   "source": [
    "s = '''Apple'''\n",
    "print(s)\n",
    "s = \"\"\"Apple\"\"\"\n",
    "print(s)\n",
    "s = 'Apple'\n",
    "print(s)\n",
    "s = \"Apple\"\n",
    "print(s)\n",
    "s = Apple   # cannot write string with out quotes ('', \" \", \"\"\" \"\"\", ''' ''')\n",
    "print(s)"
   ]
  },
  {
   "cell_type": "code",
   "execution_count": null,
   "metadata": {
    "ExecuteTime": {
     "end_time": "2021-10-02T06:58:18.545836Z",
     "start_time": "2021-10-02T06:58:18.524352Z"
    },
    "id": "cBEr5W5cxXpw",
    "outputId": "e9a67594-a033-4d89-880a-e26f11ff4dcf"
   },
   "outputs": [
    {
     "name": "stdout",
     "output_type": "stream",
     "text": [
      "This is a string\n",
      "A multiline\n",
      "string\n"
     ]
    }
   ],
   "source": [
    "s = \"This is a string\"  # s is my variable\n",
    "print(s)\n",
    "s = '''A multiline\n",
    "string'''\n",
    "print(s)"
   ]
  },
  {
   "cell_type": "markdown",
   "metadata": {
    "id": "yS_giH1oxXpx"
   },
   "source": [
    "Just like a list and tuple, the slicing operator **`[ ]`** can be used with strings. Strings, however, are **immutable**."
   ]
  },
  {
   "cell_type": "code",
   "execution_count": null,
   "metadata": {
    "ExecuteTime": {
     "end_time": "2021-10-02T06:58:20.025324Z",
     "start_time": "2021-10-02T06:58:20.003844Z"
    },
    "id": "dwdk_GMaxXpx",
    "outputId": "167aaf88-5b6a-4664-a316-6cb886d7a4a5"
   },
   "outputs": [
    {
     "name": "stdout",
     "output_type": "stream",
     "text": [
      "s[4] =  o\n",
      "s[6:11] =  world\n"
     ]
    }
   ],
   "source": [
    "s = 'Hello world!' # total 12 elements. Index start from '0' to '11'\n",
    "\n",
    "# s[4] = 'o'\n",
    "print(\"s[4] = \", s[4])\n",
    "\n",
    "# s[6:11] = 'world' # index '6' to '11' means element from 6 to 10\n",
    "print(\"s[6:11] = \", s[6:11])\n"
   ]
  },
  {
   "cell_type": "code",
   "execution_count": null,
   "metadata": {
    "ExecuteTime": {
     "end_time": "2021-10-02T06:58:21.039976Z",
     "start_time": "2021-10-02T06:58:21.025814Z"
    },
    "id": "e1spWoLtxXpx",
    "outputId": "70afcf0a-7d94-4d5d-9484-134a4176e156"
   },
   "outputs": [
    {
     "ename": "TypeError",
     "evalue": "'str' object does not support item assignment",
     "output_type": "error",
     "traceback": [
      "\u001b[1;31m---------------------------------------------------------------------------\u001b[0m",
      "\u001b[1;31mTypeError\u001b[0m                                 Traceback (most recent call last)",
      "\u001b[1;32m<ipython-input-14-466b90e7ef2f>\u001b[0m in \u001b[0;36m<module>\u001b[1;34m\u001b[0m\n\u001b[0;32m      1\u001b[0m \u001b[0ma\u001b[0m \u001b[1;33m=\u001b[0m \u001b[1;34m\"apple\"\u001b[0m\u001b[1;33m\u001b[0m\u001b[1;33m\u001b[0m\u001b[0m\n\u001b[0;32m      2\u001b[0m \u001b[1;33m\u001b[0m\u001b[0m\n\u001b[1;32m----> 3\u001b[1;33m \u001b[0ma\u001b[0m\u001b[1;33m[\u001b[0m\u001b[1;36m0\u001b[0m\u001b[1;33m]\u001b[0m\u001b[1;33m=\u001b[0m\u001b[1;34m'o'\u001b[0m\u001b[1;33m\u001b[0m\u001b[1;33m\u001b[0m\u001b[0m\n\u001b[0m\u001b[0;32m      4\u001b[0m \u001b[1;33m\u001b[0m\u001b[0m\n\u001b[0;32m      5\u001b[0m \u001b[1;31m# Simiar to TUPLE, STRING is immutable\u001b[0m\u001b[1;33m\u001b[0m\u001b[1;33m\u001b[0m\u001b[1;33m\u001b[0m\u001b[0m\n",
      "\u001b[1;31mTypeError\u001b[0m: 'str' object does not support item assignment"
     ]
    }
   ],
   "source": [
    "a = \"apple\"\n",
    "\n",
    "a[0]='o'\n",
    "\n",
    "# Simiar to TUPLE, STRING is immutable"
   ]
  },
  {
   "cell_type": "code",
   "execution_count": null,
   "metadata": {
    "ExecuteTime": {
     "end_time": "2021-10-02T06:58:22.734308Z",
     "start_time": "2021-10-02T06:58:22.719662Z"
    },
    "id": "sQNPDaLGxXpx",
    "outputId": "a7be04f4-779f-4775-8906-40feb40c4823"
   },
   "outputs": [
    {
     "name": "stdout",
     "output_type": "stream",
     "text": [
      "a =  {1, 3, 6, 7, 9}\n",
      "<class 'set'>\n"
     ]
    }
   ],
   "source": [
    "a = {7,1,3,6,9}\n",
    "\n",
    "# printing set variable\n",
    "print(\"a = \", a)\n",
    "\n",
    "# data type of variable a\n",
    "print(type(a))"
   ]
  },
  {
   "cell_type": "markdown",
   "metadata": {
    "id": "dCOztFQtxXpy"
   },
   "source": [
    "We can perform set operations like union, intersection on two sets. Sets have unique values. They eliminate duplicates."
   ]
  },
  {
   "cell_type": "code",
   "execution_count": null,
   "metadata": {
    "ExecuteTime": {
     "end_time": "2021-10-02T06:58:24.792409Z",
     "start_time": "2021-10-02T06:58:24.772880Z"
    },
    "id": "IpdzZwGJxXpy",
    "outputId": "45936e2f-5d8e-4059-d206-cd5b6abec62d"
   },
   "outputs": [
    {
     "name": "stdout",
     "output_type": "stream",
     "text": [
      "{1, 2, 3}\n"
     ]
    }
   ],
   "source": [
    "a = {1,2,2,3,3,3} # we can see total 6 elements\n",
    "print(a)"
   ]
  },
  {
   "cell_type": "markdown",
   "metadata": {
    "id": "IYXBBq9qxXpy"
   },
   "source": [
    "Since, set are unordered collection, indexing has no meaning. Hence, the slicing operator **`[]`** does not work."
   ]
  },
  {
   "cell_type": "code",
   "execution_count": null,
   "metadata": {
    "ExecuteTime": {
     "end_time": "2021-10-02T06:58:25.792412Z",
     "start_time": "2021-10-02T06:58:25.703542Z"
    },
    "id": "VCMQUcxZxXpy",
    "outputId": "f0218957-99f8-4486-b41a-350c321fecc2"
   },
   "outputs": [
    {
     "ename": "TypeError",
     "evalue": "'set' object is not subscriptable",
     "output_type": "error",
     "traceback": [
      "\u001b[1;31m---------------------------------------------------------------------------\u001b[0m",
      "\u001b[1;31mTypeError\u001b[0m                                 Traceback (most recent call last)",
      "\u001b[1;32m<ipython-input-17-242b77ef2a87>\u001b[0m in \u001b[0;36m<module>\u001b[1;34m\u001b[0m\n\u001b[0;32m      1\u001b[0m \u001b[0ma\u001b[0m \u001b[1;33m=\u001b[0m \u001b[1;33m{\u001b[0m\u001b[1;36m1\u001b[0m\u001b[1;33m,\u001b[0m\u001b[1;36m2\u001b[0m\u001b[1;33m,\u001b[0m\u001b[1;36m3\u001b[0m\u001b[1;33m}\u001b[0m  \u001b[1;31m# in Set data type we cannot access the elements because set is unordered collection\u001b[0m\u001b[1;33m\u001b[0m\u001b[1;33m\u001b[0m\u001b[0m\n\u001b[1;32m----> 2\u001b[1;33m \u001b[0ma\u001b[0m\u001b[1;33m[\u001b[0m\u001b[1;36m1\u001b[0m\u001b[1;33m]\u001b[0m  \u001b[1;31m# Index [1] means element 2\u001b[0m\u001b[1;33m\u001b[0m\u001b[1;33m\u001b[0m\u001b[0m\n\u001b[0m",
      "\u001b[1;31mTypeError\u001b[0m: 'set' object is not subscriptable"
     ]
    }
   ],
   "source": [
    "a = {1,2,3}  # in Set data type we cannot access the elements because set is unordered collection\n",
    "a[1]  # Index [1] means element 2"
   ]
  },
  {
   "cell_type": "code",
   "execution_count": null,
   "metadata": {
    "ExecuteTime": {
     "end_time": "2021-10-02T06:58:27.525806Z",
     "start_time": "2021-10-02T06:58:27.517018Z"
    },
    "id": "KnHqWsVgxXpz",
    "outputId": "5070821b-8ef7-4fd2-d14c-b9dddac4028f"
   },
   "outputs": [
    {
     "name": "stdout",
     "output_type": "stream",
     "text": [
      "{1: 'Apple', 2: 'Cat', 3: 'Food'} <class 'dict'>\n"
     ]
    },
    {
     "data": {
      "text/plain": [
       "'Food'"
      ]
     },
     "execution_count": 18,
     "metadata": {},
     "output_type": "execute_result"
    }
   ],
   "source": [
    "d = {1: 'Apple', 2: 'Cat', 3: 'Food'}  # 'Apple' is element and 1 is the key of element.\n",
    "print(d, type(d))\n",
    "\n",
    "d[3]"
   ]
  },
  {
   "cell_type": "code",
   "execution_count": null,
   "metadata": {
    "ExecuteTime": {
     "end_time": "2021-10-02T06:58:29.876389Z",
     "start_time": "2021-10-02T06:58:29.862717Z"
    },
    "id": "b1-a-d2cxXpz",
    "outputId": "53903274-289f-41cd-dad2-e8662c4e5b6c"
   },
   "outputs": [
    {
     "data": {
      "text/plain": [
       "dict"
      ]
     },
     "execution_count": 19,
     "metadata": {},
     "output_type": "execute_result"
    }
   ],
   "source": [
    "d = {1:'value','key':2} # d is my variable, 'value' and 'key' are the element and 1 and 2 are the key.\n",
    "type(d)"
   ]
  },
  {
   "cell_type": "markdown",
   "metadata": {
    "id": "9iv3f4eDxXpz"
   },
   "source": [
    "We use key to retrieve the respective value. But not the other way around."
   ]
  },
  {
   "cell_type": "code",
   "execution_count": null,
   "metadata": {
    "ExecuteTime": {
     "end_time": "2021-10-02T06:58:31.125901Z",
     "start_time": "2021-10-02T06:58:31.104416Z"
    },
    "id": "RtsPoxPjxXpz",
    "outputId": "30803c4b-b82f-4d0f-dc18-42a405aff7ce"
   },
   "outputs": [
    {
     "name": "stdout",
     "output_type": "stream",
     "text": [
      "<class 'dict'>\n",
      "d[1] =  value\n",
      "d['key'] =  2\n"
     ]
    }
   ],
   "source": [
    "d = {1:'value','key':2} # '1' is the key to access 'value' and 'key' is the key to access '2'\n",
    "print(type(d))\n",
    "\n",
    "print(\"d[1] = \", d[1]); # try to find the element from key.\n",
    "\n",
    "print(\"d['key'] = \", d['key']);  # try to find the key from the element.\n"
   ]
  },
  {
   "cell_type": "code",
   "execution_count": null,
   "metadata": {
    "ExecuteTime": {
     "end_time": "2021-10-02T07:42:35.413724Z",
     "start_time": "2021-10-02T07:42:35.378569Z"
    },
    "id": "BY6uVEXmxXpz",
    "outputId": "d170b13e-dc50-416d-c54c-b75373920f56"
   },
   "outputs": [
    {
     "name": "stdout",
     "output_type": "stream",
     "text": [
      "<class 'zip'>\n"
     ]
    }
   ],
   "source": [
    "print(type(zip([1,2],[3,4])))"
   ]
  },
  {
   "cell_type": "code",
   "execution_count": null,
   "metadata": {
    "id": "Om3BuIO5xXp0"
   },
   "outputs": [],
   "source": []
  },
  {
   "cell_type": "code",
   "execution_count": null,
   "metadata": {
    "id": "42opXwY2x49d"
   },
   "outputs": [],
   "source": [
    "from google.colab import drive\n",
    "drive.mount('/content/drive')"
   ]
  },
  {
   "cell_type": "markdown",
   "metadata": {
    "id": "qY1OBW_NxZvx"
   },
   "source": [
    "## Type Conversion\n",
    "\n",
    "The process of converting the value of one data type (integer, string, float, etc.) to another data type is called type conversion. Python has two types of type conversion.\n",
    "\n",
    "1. **Implicit Type Conversion**\n",
    "2. **Explicit Type Conversion**"
   ]
  },
  {
   "cell_type": "markdown",
   "metadata": {
    "id": "hSG-i70gxZvy"
   },
   "source": [
    "### 1. Implicit Type Conversion\n",
    "\n",
    "In Implicit type conversion, Python automatically converts one data type to another data type. This process doesn't need any user involvement.\n",
    "\n",
    "Let's see an example where Python promotes the conversion of the lower data type (integer) to the higher data type (float) to avoid data loss."
   ]
  },
  {
   "cell_type": "code",
   "execution_count": null,
   "metadata": {
    "ExecuteTime": {
     "end_time": "2021-10-02T07:51:48.467278Z",
     "start_time": "2021-10-02T07:51:48.451655Z"
    },
    "id": "eyTXMaywxZvy",
    "outputId": "0ea03138-88db-488a-c9ae-1908ac4c66d3"
   },
   "outputs": [
    {
     "name": "stdout",
     "output_type": "stream",
     "text": [
      "datatype of num_int: <class 'int'>\n",
      "datatype of num_flo: <class 'float'>\n",
      "Value of num_new: 124.23\n",
      "datatype of num_new: <class 'float'>\n"
     ]
    }
   ],
   "source": [
    "# Example 1: Converting integer to float\n",
    "\n",
    "num_int = 123\n",
    "num_flo = 1.23\n",
    "\n",
    "num_new = num_int + num_flo\n",
    "\n",
    "print(\"datatype of num_int:\",type(num_int))\n",
    "print(\"datatype of num_flo:\",type(num_flo))\n",
    "\n",
    "print(\"Value of num_new:\",num_new)\n",
    "print(\"datatype of num_new:\",type(num_new))"
   ]
  },
  {
   "cell_type": "markdown",
   "metadata": {
    "id": "sK6pnijDxZv0"
   },
   "source": [
    "**Explanation**:\n",
    "\n",
    "In the above program,\n",
    "\n",
    "1. We add two variables **`num_int`** and **`num_flo`**, storing the value in **`num_new`**.\n",
    "2. We will look at the data type of all three objects respectively.\n",
    "3. In the output, we can see the data type of **`num_int`** is an **`integer`** while the data type of **`num_flo`** is a **`float`**.\n",
    "4. Also, we can see the **`num_new`** has a **`float`** data type because Python always converts smaller data types to larger data types to avoid the loss of data."
   ]
  },
  {
   "cell_type": "markdown",
   "metadata": {
    "id": "VIj3YGwlxZv0"
   },
   "source": [
    "Now, let's try adding a string and an integer, and see how Python deals with it."
   ]
  },
  {
   "cell_type": "code",
   "execution_count": null,
   "metadata": {
    "ExecuteTime": {
     "end_time": "2021-10-02T07:51:48.928212Z",
     "start_time": "2021-10-02T07:51:48.472161Z"
    },
    "id": "EkWKoc46xZv0",
    "outputId": "8d8857d0-a6cf-428f-86f2-cb46920db76a"
   },
   "outputs": [
    {
     "name": "stdout",
     "output_type": "stream",
     "text": [
      "Data type of num_int: <class 'int'>\n",
      "Data type of num_str: <class 'str'>\n"
     ]
    },
    {
     "ename": "TypeError",
     "evalue": "unsupported operand type(s) for +: 'int' and 'str'",
     "output_type": "error",
     "traceback": [
      "\u001b[1;31m---------------------------------------------------------------------------\u001b[0m",
      "\u001b[1;31mTypeError\u001b[0m                                 Traceback (most recent call last)",
      "\u001b[1;32m<ipython-input-2-49e421f2057c>\u001b[0m in \u001b[0;36m<module>\u001b[1;34m\u001b[0m\n\u001b[0;32m      7\u001b[0m \u001b[0mprint\u001b[0m\u001b[1;33m(\u001b[0m\u001b[1;34m\"Data type of num_str:\"\u001b[0m\u001b[1;33m,\u001b[0m\u001b[0mtype\u001b[0m\u001b[1;33m(\u001b[0m\u001b[0mnum_str\u001b[0m\u001b[1;33m)\u001b[0m\u001b[1;33m)\u001b[0m\u001b[1;33m\u001b[0m\u001b[1;33m\u001b[0m\u001b[0m\n\u001b[0;32m      8\u001b[0m \u001b[1;33m\u001b[0m\u001b[0m\n\u001b[1;32m----> 9\u001b[1;33m \u001b[0mprint\u001b[0m\u001b[1;33m(\u001b[0m\u001b[0mnum_int\u001b[0m\u001b[1;33m+\u001b[0m\u001b[0mnum_str\u001b[0m\u001b[1;33m)\u001b[0m  \u001b[1;31m# ERROR! cannot add two different data types (int and string)\u001b[0m\u001b[1;33m\u001b[0m\u001b[1;33m\u001b[0m\u001b[0m\n\u001b[0m",
      "\u001b[1;31mTypeError\u001b[0m: unsupported operand type(s) for +: 'int' and 'str'"
     ]
    }
   ],
   "source": [
    "# Example 2: Addition of string(higher) data type and integer(lower) datatype\n",
    "\n",
    "num_int = 123\n",
    "num_str = \"456\"\n",
    "\n",
    "print(\"Data type of num_int:\",type(num_int))\n",
    "print(\"Data type of num_str:\",type(num_str))\n",
    "\n",
    "print(num_int+num_str)  # ERROR! cannot add two different data types (int and string)"
   ]
  },
  {
   "cell_type": "markdown",
   "metadata": {
    "id": "2Zk2O_QnxZv1"
   },
   "source": [
    "**Explanation**:\n",
    "\n",
    "In the above program,\n",
    "\n",
    "1. We add two variables **`num_int`** and **`num_str`**.\n",
    "2. As we can see from the output, we got **`TypeError`**. Python is not able to use Implicit Conversion in such conditions.\n",
    "3. However, Python has a solution for these types of situations which is known as Explicit Conversion."
   ]
  },
  {
   "cell_type": "markdown",
   "metadata": {
    "id": "bvO2gjv1xZv1"
   },
   "source": [
    "### 2. Explicit Type Conversion\n",
    "\n",
    "In Explicit Type Conversion, users convert the data type of an object to required data type. We use the predefined functions like **`int()`**, **`float()`**, **`str()`**, etc to perform explicit type conversion.\n",
    "\n",
    "This type of conversion is also called typecasting because the user casts (changes) the data type of the objects.\n",
    "\n",
    "**Syntax:**\n",
    "\n",
    "```python\n",
    "<required_datatype>(expression)\n",
    "```\n",
    "\n",
    "Typecasting can be done by assigning the required data type function to the expression."
   ]
  },
  {
   "cell_type": "code",
   "execution_count": null,
   "metadata": {
    "ExecuteTime": {
     "end_time": "2021-10-02T07:51:58.860822Z",
     "start_time": "2021-10-02T07:51:58.840318Z"
    },
    "id": "ZFyxdsolxZv1",
    "outputId": "8058296e-522d-4905-e8d5-a69775cb57f7"
   },
   "outputs": [
    {
     "name": "stdout",
     "output_type": "stream",
     "text": [
      "num_int 10\n",
      "num_float: 10.0\n"
     ]
    }
   ],
   "source": [
    "# int to float\n",
    "num_int = 10\n",
    "print('num_int',num_int)         # 10\n",
    "num_float = float(num_int)\n",
    "print('num_float:', num_float)   # 10.0"
   ]
  },
  {
   "cell_type": "code",
   "execution_count": null,
   "metadata": {
    "ExecuteTime": {
     "end_time": "2021-10-02T07:51:59.387189Z",
     "start_time": "2021-10-02T07:51:59.366686Z"
    },
    "id": "O2vRuZqMxZv2",
    "outputId": "16e119ea-dc54-4c63-a2e4-ff20c87f26b6"
   },
   "outputs": [
    {
     "name": "stdout",
     "output_type": "stream",
     "text": [
      "9\n"
     ]
    }
   ],
   "source": [
    "# float to int\n",
    "gravity = 9.81\n",
    "print(int(gravity))             # 9"
   ]
  },
  {
   "cell_type": "code",
   "execution_count": null,
   "metadata": {
    "ExecuteTime": {
     "end_time": "2021-10-02T07:51:59.927227Z",
     "start_time": "2021-10-02T07:51:59.903795Z"
    },
    "id": "rRMXuoxNxZv2",
    "outputId": "da6ae106-5159-4781-d3ea-36da9b847b1a"
   },
   "outputs": [
    {
     "name": "stdout",
     "output_type": "stream",
     "text": [
      "Data type of num_int: <class 'int'>\n",
      "Data type of num_str before Type Casting: <class 'str'>\n",
      "Data type of num_str after Type Casting: <class 'int'>\n",
      "Sum of num_int and num_str: 579\n",
      "Data type of the sum: <class 'int'>\n"
     ]
    }
   ],
   "source": [
    "# Example 3: Addition of string and integer using explicit conversion\n",
    "\n",
    "num_int = 123\n",
    "num_str = \"456\"       # there is a number inside \" \" so I CAN change it to integer\n",
    "#num_str = \"jason\"    # there is a name inside \" \" so I cannot change to integer\n",
    "\n",
    "print(\"Data type of num_int:\",type(num_int))\n",
    "print(\"Data type of num_str before Type Casting:\",type(num_str))\n",
    "\n",
    "num_str = int(num_str) # change from \"string\" data type to integer datatype\n",
    "print(\"Data type of num_str after Type Casting:\",type(num_str))\n",
    "\n",
    "num_sum = num_int + num_str  # Now we can add two same data types (int and int)\n",
    "\n",
    "print(\"Sum of num_int and num_str:\",num_sum)\n",
    "print(\"Data type of the sum:\",type(num_sum))"
   ]
  },
  {
   "cell_type": "markdown",
   "metadata": {
    "id": "maCrkduTxZv3"
   },
   "source": [
    "**Explanation**:\n",
    "\n",
    "In the above program,\n",
    "\n",
    "1. We add **`num_str`** and **`num_int`** variable.\n",
    "2. We converted **`num_str`** from string(higher) to integer(lower) type using **`int()`** function to perform the addition.\n",
    "3. After converting **`num_str`** to an integer value, Python is able to add these two variables.\n",
    "4. We got the **`num_sum`** value and data type to be an integer."
   ]
  },
  {
   "cell_type": "code",
   "execution_count": null,
   "metadata": {
    "ExecuteTime": {
     "end_time": "2021-10-02T07:52:00.959457Z",
     "start_time": "2021-10-02T07:52:00.936997Z"
    },
    "id": "bhd7DnABxZv3",
    "outputId": "03edd07d-184c-4020-bc76-5e75e69508f5"
   },
   "outputs": [
    {
     "data": {
      "text/plain": [
       "6.0"
      ]
     },
     "execution_count": 6,
     "metadata": {},
     "output_type": "execute_result"
    }
   ],
   "source": [
    "float(6)  # means converting interger 6 to a float value"
   ]
  },
  {
   "cell_type": "markdown",
   "metadata": {
    "id": "aEElua2xxZv4"
   },
   "source": [
    "Conversion from **`float`** to **`int`** will truncate the value (make it closer to zero)."
   ]
  },
  {
   "cell_type": "code",
   "execution_count": null,
   "metadata": {
    "ExecuteTime": {
     "end_time": "2021-10-02T07:52:01.897933Z",
     "start_time": "2021-10-02T07:52:01.887192Z"
    },
    "id": "dRLkDRlxxZv4",
    "outputId": "f73f95e2-0967-457b-bff8-d8bf3d8c422e"
   },
   "outputs": [
    {
     "data": {
      "text/plain": [
       "33"
      ]
     },
     "execution_count": 7,
     "metadata": {},
     "output_type": "execute_result"
    }
   ],
   "source": [
    "int(33.6)  # means converting float 33.6 to a integer value\n",
    "\n",
    "# When you change from FLOAT to INTEGER it will round-up the number"
   ]
  },
  {
   "cell_type": "code",
   "execution_count": null,
   "metadata": {
    "ExecuteTime": {
     "end_time": "2021-10-02T07:52:02.267071Z",
     "start_time": "2021-10-02T07:52:02.250475Z"
    },
    "id": "v_962-GgxZv4",
    "outputId": "90873727-4f02-4647-92b5-4fc4ff059f20"
   },
   "outputs": [
    {
     "data": {
      "text/plain": [
       "-33"
      ]
     },
     "execution_count": 8,
     "metadata": {},
     "output_type": "execute_result"
    }
   ],
   "source": [
    "int(-33.6)"
   ]
  },
  {
   "cell_type": "markdown",
   "metadata": {
    "id": "GxzlU2dKxZv5"
   },
   "source": [
    "Conversion to and from **`string`** must contain compatible values."
   ]
  },
  {
   "cell_type": "code",
   "execution_count": null,
   "metadata": {
    "ExecuteTime": {
     "end_time": "2021-10-02T07:52:02.805645Z",
     "start_time": "2021-10-02T07:52:02.784163Z"
    },
    "id": "lq8XTxx9xZv5",
    "outputId": "3878f474-178b-4489-e58e-9db642e1fdbd"
   },
   "outputs": [
    {
     "name": "stdout",
     "output_type": "stream",
     "text": [
      "10\n",
      "10\n"
     ]
    }
   ],
   "source": [
    "# int to str\n",
    "num_int = 10\n",
    "print(num_int)                  # 10\n",
    "num_str = str(num_int)\n",
    "print(num_str)                  # '10'"
   ]
  },
  {
   "cell_type": "code",
   "execution_count": null,
   "metadata": {
    "ExecuteTime": {
     "end_time": "2021-10-02T07:52:03.037577Z",
     "start_time": "2021-10-02T07:52:03.026839Z"
    },
    "id": "8rR7VBfZxZv5",
    "outputId": "0e56e38b-857c-4820-b497-977c32004a03"
   },
   "outputs": [
    {
     "data": {
      "text/plain": [
       "7.5"
      ]
     },
     "execution_count": 10,
     "metadata": {},
     "output_type": "execute_result"
    }
   ],
   "source": [
    "float('7.5')  # means converting string '7.5' to a float value"
   ]
  },
  {
   "cell_type": "code",
   "execution_count": null,
   "metadata": {
    "ExecuteTime": {
     "end_time": "2021-10-02T07:52:03.407209Z",
     "start_time": "2021-10-02T07:52:03.395491Z"
    },
    "id": "AU9JM4wFxZv6",
    "outputId": "8234117d-54af-4abd-fc9d-55d776488812"
   },
   "outputs": [
    {
     "name": "stdout",
     "output_type": "stream",
     "text": [
      "num_float 10.6\n"
     ]
    }
   ],
   "source": [
    "# str to int or float\n",
    "num_str = '10.6' #or '10'\n",
    "# print('num_int', int(num_str))      # 10\n",
    "print('num_float', float(num_str))  # 10.6"
   ]
  },
  {
   "cell_type": "code",
   "execution_count": null,
   "metadata": {
    "ExecuteTime": {
     "end_time": "2021-10-02T07:52:03.651834Z",
     "start_time": "2021-10-02T07:52:03.634258Z"
    },
    "id": "aSdhz8h2xZv6",
    "outputId": "323505b5-838f-484f-86c2-6267157d45bf"
   },
   "outputs": [
    {
     "data": {
      "text/plain": [
       "'65'"
      ]
     },
     "execution_count": 12,
     "metadata": {},
     "output_type": "execute_result"
    }
   ],
   "source": [
    "str(65)  # means converting integer 65 to a string value"
   ]
  },
  {
   "cell_type": "code",
   "execution_count": null,
   "metadata": {
    "ExecuteTime": {
     "end_time": "2021-10-02T07:52:04.499979Z",
     "start_time": "2021-10-02T07:52:04.447248Z"
    },
    "id": "V5AlPPbBxZv6",
    "outputId": "654edf08-575b-41b9-9109-5e313cb9fed5"
   },
   "outputs": [
    {
     "ename": "ValueError",
     "evalue": "invalid literal for int() with base 10: '1p'",
     "output_type": "error",
     "traceback": [
      "\u001b[1;31m---------------------------------------------------------------------------\u001b[0m",
      "\u001b[1;31mValueError\u001b[0m                                Traceback (most recent call last)",
      "\u001b[1;32m<ipython-input-13-bcaaeab6bf17>\u001b[0m in \u001b[0;36m<module>\u001b[1;34m\u001b[0m\n\u001b[1;32m----> 1\u001b[1;33m \u001b[0mint\u001b[0m\u001b[1;33m(\u001b[0m\u001b[1;34m'1p'\u001b[0m\u001b[1;33m)\u001b[0m  \u001b[1;31m# means converting string '1p' to a integer value\u001b[0m\u001b[1;33m\u001b[0m\u001b[1;33m\u001b[0m\u001b[0m\n\u001b[0m",
      "\u001b[1;31mValueError\u001b[0m: invalid literal for int() with base 10: '1p'"
     ]
    }
   ],
   "source": [
    "int('1p')  # means converting string '1p' to a integer value"
   ]
  },
  {
   "cell_type": "code",
   "execution_count": null,
   "metadata": {
    "ExecuteTime": {
     "end_time": "2021-10-02T07:52:04.993145Z",
     "start_time": "2021-10-02T07:52:04.983380Z"
    },
    "id": "3UWZoQJnxZv6",
    "outputId": "31b96ca8-7974-4567-ecf0-f338f3984a16"
   },
   "outputs": [
    {
     "data": {
      "text/plain": [
       "'1p'"
      ]
     },
     "execution_count": 14,
     "metadata": {},
     "output_type": "execute_result"
    }
   ],
   "source": [
    "str(\"1p\")"
   ]
  },
  {
   "cell_type": "markdown",
   "metadata": {
    "id": "qLx2W6EwxZv7"
   },
   "source": [
    "We can even convert one sequence to another."
   ]
  },
  {
   "cell_type": "code",
   "execution_count": null,
   "metadata": {
    "ExecuteTime": {
     "end_time": "2021-10-02T07:52:08.777317Z",
     "start_time": "2021-10-02T07:52:08.758769Z"
    },
    "id": "QDpAHYv3xZv7",
    "outputId": "7eced472-a821-4616-db36-7bd3fcfa068b"
   },
   "outputs": [
    {
     "data": {
      "text/plain": [
       "{1, 2, 3}"
      ]
     },
     "execution_count": 15,
     "metadata": {},
     "output_type": "execute_result"
    }
   ],
   "source": [
    "set([1,2,3])  # [1,2,3] is tuple and now converting to a set {}"
   ]
  },
  {
   "cell_type": "code",
   "execution_count": null,
   "metadata": {
    "ExecuteTime": {
     "end_time": "2021-10-02T07:52:09.223608Z",
     "start_time": "2021-10-02T07:52:09.199197Z"
    },
    "id": "UQ7ZJpDqxZv7",
    "outputId": "c6572f9e-cfd0-4454-a8d3-dd4766b3e484"
   },
   "outputs": [
    {
     "data": {
      "text/plain": [
       "(5, 6, 7)"
      ]
     },
     "execution_count": 16,
     "metadata": {},
     "output_type": "execute_result"
    }
   ],
   "source": [
    "tuple({5,6,7})  # {1,2,3} is set and now converting to a tuple ()"
   ]
  },
  {
   "cell_type": "code",
   "execution_count": null,
   "metadata": {
    "ExecuteTime": {
     "end_time": "2021-10-02T07:52:09.439431Z",
     "start_time": "2021-10-02T07:52:09.425760Z"
    },
    "id": "sCu0Zh_hxZv7",
    "outputId": "28ae5f7f-e93d-4a03-e8c7-022ae49d1fcc"
   },
   "outputs": [
    {
     "data": {
      "text/plain": [
       "['h', 'e', 'l', 'l', 'o']"
      ]
     },
     "execution_count": 17,
     "metadata": {},
     "output_type": "execute_result"
    }
   ],
   "source": [
    "list('hello')  # (\"hello\") is string and now converting to a list []"
   ]
  },
  {
   "cell_type": "code",
   "execution_count": null,
   "metadata": {
    "ExecuteTime": {
     "end_time": "2021-10-02T07:52:09.669899Z",
     "start_time": "2021-10-02T07:52:09.664039Z"
    },
    "id": "va9TbBCKxZv7",
    "outputId": "25b157d9-2426-4405-a046-8303bc3cb151"
   },
   "outputs": [
    {
     "name": "stdout",
     "output_type": "stream",
     "text": [
      "Milaan\n",
      "['M', 'i', 'l', 'a', 'a', 'n']\n"
     ]
    }
   ],
   "source": [
    "# str to list\n",
    "first_name = 'Milaan'\n",
    "print(first_name)               # 'Milaan'\n",
    "first_name_to_list = list(first_name)\n",
    "print(first_name_to_list)            # ['M', 'i', 'l', 'a', 'a', 'n']"
   ]
  },
  {
   "cell_type": "markdown",
   "metadata": {
    "id": "b6NCr_wUxZv8"
   },
   "source": [
    "To convert to dictionary, each element must be a pair:"
   ]
  },
  {
   "cell_type": "code",
   "execution_count": null,
   "metadata": {
    "ExecuteTime": {
     "end_time": "2021-10-02T07:52:10.179175Z",
     "start_time": "2021-10-02T07:52:10.167460Z"
    },
    "id": "MNvOeXdxxZv8",
    "outputId": "70e562d7-f488-4f45-f7cd-7dec88e48dc9"
   },
   "outputs": [
    {
     "data": {
      "text/plain": [
       "{1: 2, 3: 4}"
      ]
     },
     "execution_count": 19,
     "metadata": {},
     "output_type": "execute_result"
    }
   ],
   "source": [
    "dict([[1,2],[3,4]])  # [[1,2],[3,4]] is tuple and now converting to a dictionary"
   ]
  },
  {
   "cell_type": "code",
   "execution_count": null,
   "metadata": {
    "ExecuteTime": {
     "end_time": "2021-10-02T07:52:10.718728Z",
     "start_time": "2021-10-02T07:52:10.711892Z"
    },
    "id": "g_2fxNqtxZv8",
    "outputId": "6632b7e3-e2bc-4154-a689-e864572d94a8"
   },
   "outputs": [
    {
     "data": {
      "text/plain": [
       "{3: 63, 7: 91}"
      ]
     },
     "execution_count": 20,
     "metadata": {},
     "output_type": "execute_result"
    }
   ],
   "source": [
    "dict([(3,63),(7,91)])  # [(3,63),(7,91)] is tuple and now converting to a dictionary"
   ]
  },
  {
   "cell_type": "markdown",
   "metadata": {
    "id": "ELWNpEPyxZv8"
   },
   "source": [
    "## Key Points to Remember\n",
    "\n",
    "1. Type Conversion is the conversion of object from one data type to another data type.\n",
    "2. Implicit Type Conversion is automatically performed by the Python interpreter.\n",
    "3. Python avoids the loss of data in Implicit Type Conversion.\n",
    "4. Explicit Type Conversion is also called Type Casting, the data types of objects are converted using predefined functions by the user.\n",
    "5. In Type Casting, loss of data may occur as we enforce the object to a specific data type."
   ]
  },
  {
   "cell_type": "code",
   "execution_count": null,
   "metadata": {
    "id": "7an4MBAExZv8"
   },
   "outputs": [],
   "source": []
  },
  {
   "cell_type": "code",
   "execution_count": null,
   "metadata": {
    "ExecuteTime": {
     "end_time": "2021-10-02T08:38:42.903413Z",
     "start_time": "2021-10-02T08:38:42.882906Z"
    },
    "id": "wfTasgJUxbK-",
    "outputId": "53b490e6-2d9c-4ee6-be10-46e35b817adc"
   },
   "outputs": [
    {
     "name": "stdout",
     "output_type": "stream",
     "text": [
      "This sentence is output to the screen\n"
     ]
    }
   ],
   "source": [
    "# Example 1:\n",
    "\n",
    "print('This sentence is output to the screen')"
   ]
  },
  {
   "cell_type": "code",
   "execution_count": null,
   "metadata": {
    "ExecuteTime": {
     "end_time": "2021-10-02T08:38:43.026458Z",
     "start_time": "2021-10-02T08:38:42.906342Z"
    },
    "id": "qruMZ93lxbLA",
    "outputId": "ab7eca34-d3fe-4da7-812d-99f3a4645c57"
   },
   "outputs": [
    {
     "name": "stdout",
     "output_type": "stream",
     "text": [
      "The value of a is 9\n"
     ]
    }
   ],
   "source": [
    "# Example 2:\n",
    "\n",
    "a = 9\n",
    "print('The value of a is', a)"
   ]
  },
  {
   "cell_type": "markdown",
   "metadata": {
    "id": "HZWVJOoLxbLB"
   },
   "source": [
    "**Syntax** of the **`print()`** function is:\n",
    "\n",
    "```python\n",
    "print(*objects, sep=' ', end='\\n', file=sys.stdout, flush=False)\n",
    "```\n",
    "\n",
    "Here, objects is the value(s) to be printed.\n",
    "\n",
    "The **`sep`** separator is used between the values. It defaults into a space character.\n",
    "\n",
    "After all values are printed, **`end`** is printed. It defaults into a new line.\n",
    "\n",
    "The **`file`** is the object where the values are printed and its default value is **`sys.stdout`** (screen). Here is an example to illustrate this."
   ]
  },
  {
   "cell_type": "code",
   "execution_count": null,
   "metadata": {
    "ExecuteTime": {
     "end_time": "2021-10-02T08:38:43.200289Z",
     "start_time": "2021-10-02T08:38:43.030366Z"
    },
    "id": "769f4EI0xbLB",
    "outputId": "431cdf6d-2787-4a9d-ba41-e5279992dd28"
   },
   "outputs": [
    {
     "name": "stdout",
     "output_type": "stream",
     "text": [
      "1 2 3 4\n",
      "1#2#3#4\n",
      "1*2*3*4&"
     ]
    }
   ],
   "source": [
    "print(1, 2, 3, 4)\n",
    "print(1, 2, 3, 4, sep='#')   # It will separate your elements with '#'\n",
    "print(1, 2, 3, 4, sep='*', end='&')  # It will separate your elements with '*' and end with '&'"
   ]
  },
  {
   "cell_type": "markdown",
   "metadata": {
    "id": "x4BjRog3xbLC"
   },
   "source": [
    "## Output formatting\n",
    "\n",
    "Sometimes we would like to format our output to make it look attractive. This can be done by using the **`str.format()`** method. This method is visible to any string object."
   ]
  },
  {
   "cell_type": "code",
   "execution_count": null,
   "metadata": {
    "ExecuteTime": {
     "end_time": "2021-10-02T08:38:43.315521Z",
     "start_time": "2021-10-02T08:38:43.207124Z"
    },
    "id": "yUaOFDXnxbLC",
    "outputId": "9d17bc2b-ab2a-427d-dcdc-8b8f81355cc2"
   },
   "outputs": [
    {
     "name": "stdout",
     "output_type": "stream",
     "text": [
      "The value of x is 6 and y is 12\n"
     ]
    }
   ],
   "source": [
    "x = 6; y = 12\n",
    "print('The value of x is {} and y is {}'.format(x,y))"
   ]
  },
  {
   "cell_type": "markdown",
   "metadata": {
    "id": "Oc1x2auxxbLC"
   },
   "source": [
    "Here, the curly braces **`{}`** are used as placeholders. We can specify the order in which they are printed by using numbers (tuple index)."
   ]
  },
  {
   "cell_type": "code",
   "execution_count": null,
   "metadata": {
    "ExecuteTime": {
     "end_time": "2021-10-02T08:38:43.468840Z",
     "start_time": "2021-10-02T08:38:43.319429Z"
    },
    "id": "MMFHvNcrxbLC",
    "outputId": "0bfd0c73-c31a-4b74-d4df-aae717ffc5f0"
   },
   "outputs": [
    {
     "name": "stdout",
     "output_type": "stream",
     "text": [
      "I love Mango and Banana\n",
      "I love Banana and Mango\n"
     ]
    }
   ],
   "source": [
    "print('I love {0} and {1}'.format('Mango','Banana'))\n",
    "print('I love {1} and {0}'.format('Mango','Banana'))"
   ]
  },
  {
   "cell_type": "markdown",
   "metadata": {
    "id": "2q8XfWLwxbLD"
   },
   "source": [
    "We can even use keyword arguments to format the string."
   ]
  },
  {
   "cell_type": "code",
   "execution_count": null,
   "metadata": {
    "ExecuteTime": {
     "end_time": "2021-10-02T08:38:43.575285Z",
     "start_time": "2021-10-02T08:38:43.472749Z"
    },
    "id": "3LcOPug5xbLD",
    "outputId": "d9296048-1914-4804-9f99-f03c501d8b9c"
   },
   "outputs": [
    {
     "name": "stdout",
     "output_type": "stream",
     "text": [
      "Hello Mark, Good morning!\n"
     ]
    }
   ],
   "source": [
    "print('Hello {name}, {greeting}!'.format(greeting = 'Good morning', name = 'Mark'))"
   ]
  },
  {
   "cell_type": "markdown",
   "metadata": {
    "id": "s-TbFhmgxbLD"
   },
   "source": [
    "We can also format strings like the old **`sprintf()`** style used in C programming language. We use the **`%`** operator to accomplish this."
   ]
  },
  {
   "cell_type": "code",
   "execution_count": null,
   "metadata": {
    "ExecuteTime": {
     "end_time": "2021-10-02T08:38:43.756437Z",
     "start_time": "2021-10-02T08:38:43.579194Z"
    },
    "id": "2xswkfQbxbLD",
    "outputId": "22cc02f1-ffa3-4564-d04b-27fcd2cb587b"
   },
   "outputs": [
    {
     "name": "stdout",
     "output_type": "stream",
     "text": [
      "The value of x is 12.35\n",
      "The value of x is 12.346\n"
     ]
    }
   ],
   "source": [
    "x = 12.34567890\n",
    "print('The value of x is %0.2f' %x)  # \"%0.2\" means only 2 number after decimal\n",
    "\n",
    "print('The value of x is %0.3f' %x)  # \"%0.3\" means only 3 number after decimal"
   ]
  },
  {
   "cell_type": "markdown",
   "metadata": {
    "id": "E6btaT1FxbLD"
   },
   "source": [
    "## 2. Python Input Using `input()` function\n",
    "\n",
    "Up until now, our programs were static. The value of variables was defined or hard coded into the source code.\n",
    "\n",
    "To allow flexibility, we might want to take the input from the user. In Python, we have a built-in function **`input()`** to accept user input.\n",
    "\n",
    "**Syntax**:\n",
    "\n",
    "```python\n",
    "input([prompt])\n",
    "```\n",
    "\n",
    "where **`prompt`** is the string we wish to display on the screen. It is optional."
   ]
  },
  {
   "cell_type": "code",
   "execution_count": null,
   "metadata": {
    "ExecuteTime": {
     "end_time": "2021-10-02T08:38:49.322840Z",
     "start_time": "2021-10-02T08:38:43.764252Z"
    },
    "id": "Dt7mlfzAxbLE",
    "outputId": "aa0227ea-cc8a-4116-eefe-fd18b65c62bd",
    "scrolled": true
   },
   "outputs": [
    {
     "name": "stdout",
     "output_type": "stream",
     "text": [
      "Enter a number: 90\n"
     ]
    },
    {
     "data": {
      "text/plain": [
       "'90'"
      ]
     },
     "execution_count": 8,
     "metadata": {},
     "output_type": "execute_result"
    }
   ],
   "source": [
    "num = input('Enter a number: ')\n",
    "num"
   ]
  },
  {
   "cell_type": "markdown",
   "metadata": {
    "id": "-ojs9wdExbLE"
   },
   "source": [
    "Here, we can see that the entered value **`90`** is a string, not a number. To convert this into a number we can use **`int()`** or **`float()`** functions."
   ]
  },
  {
   "cell_type": "code",
   "execution_count": null,
   "metadata": {
    "ExecuteTime": {
     "end_time": "2021-10-02T08:38:49.356046Z",
     "start_time": "2021-10-02T08:38:49.325771Z"
    },
    "id": "yyCBO_otxbLE",
    "outputId": "92a44fa4-1b18-46a9-e18b-13b99e351b54"
   },
   "outputs": [
    {
     "data": {
      "text/plain": [
       "90"
      ]
     },
     "execution_count": 9,
     "metadata": {},
     "output_type": "execute_result"
    }
   ],
   "source": [
    "int('90')  # converting string '90' to integer"
   ]
  },
  {
   "cell_type": "code",
   "execution_count": null,
   "metadata": {
    "ExecuteTime": {
     "end_time": "2021-10-02T08:38:49.447843Z",
     "start_time": "2021-10-02T08:38:49.367766Z"
    },
    "id": "Sel9Q6J1xbLF",
    "outputId": "2bd54470-9648-41e2-cfb5-810d6abb6e1c"
   },
   "outputs": [
    {
     "data": {
      "text/plain": [
       "90.0"
      ]
     },
     "execution_count": 10,
     "metadata": {},
     "output_type": "execute_result"
    }
   ],
   "source": [
    "float('90')"
   ]
  },
  {
   "cell_type": "code",
   "execution_count": null,
   "metadata": {
    "ExecuteTime": {
     "end_time": "2021-10-02T08:38:49.575282Z",
     "start_time": "2021-10-02T08:38:49.451748Z"
    },
    "id": "LoqJsoBHxbLF",
    "outputId": "7bca895f-50e9-4fd2-b60c-1ca0ad5bc9ef"
   },
   "outputs": [
    {
     "name": "stdout",
     "output_type": "stream",
     "text": [
      "6P\n"
     ]
    }
   ],
   "source": [
    "a = \"6\"  # Is this a STRING character\n",
    "b = \"P\"  # IS this a STRING chracter\n",
    "c = a + b\n",
    "print(c)"
   ]
  },
  {
   "cell_type": "code",
   "execution_count": null,
   "metadata": {
    "ExecuteTime": {
     "end_time": "2021-10-02T08:38:50.362880Z",
     "start_time": "2021-10-02T08:38:49.579190Z"
    },
    "id": "anqE0qhMxbLF",
    "outputId": "623c5d01-dd11-43f8-e728-7f7a8000bd25",
    "scrolled": false
   },
   "outputs": [
    {
     "ename": "ValueError",
     "evalue": "invalid literal for int() with base 10: '6+3'",
     "output_type": "error",
     "traceback": [
      "\u001b[1;31m---------------------------------------------------------------------------\u001b[0m",
      "\u001b[1;31mValueError\u001b[0m                                Traceback (most recent call last)",
      "\u001b[1;32m<ipython-input-12-b4c816180ad9>\u001b[0m in \u001b[0;36m<module>\u001b[1;34m\u001b[0m\n\u001b[1;32m----> 1\u001b[1;33m \u001b[0mint\u001b[0m\u001b[1;33m(\u001b[0m\u001b[1;34m'6+3'\u001b[0m\u001b[1;33m)\u001b[0m \u001b[1;31m# ERROR! cannot add numbers as string data type\u001b[0m\u001b[1;33m\u001b[0m\u001b[1;33m\u001b[0m\u001b[0m\n\u001b[0m",
      "\u001b[1;31mValueError\u001b[0m: invalid literal for int() with base 10: '6+3'"
     ]
    }
   ],
   "source": [
    "int('6+3') # ERROR! cannot add numbers as string data type"
   ]
  },
  {
   "cell_type": "markdown",
   "metadata": {
    "id": "hnHdp7DyxbLG"
   },
   "source": [
    "This same operation can be performed using the **`eval()`** function. But **`eval`** takes it further. It can evaluate even expressions, provided the input is a string."
   ]
  },
  {
   "cell_type": "code",
   "execution_count": null,
   "metadata": {
    "ExecuteTime": {
     "end_time": "2021-10-02T08:38:53.640709Z",
     "start_time": "2021-10-02T08:38:53.621182Z"
    },
    "id": "1VF414U1xbLG",
    "outputId": "026bb181-d01d-4a35-a2e7-69e32798730a"
   },
   "outputs": [
    {
     "data": {
      "text/plain": [
       "9"
      ]
     },
     "execution_count": 13,
     "metadata": {},
     "output_type": "execute_result"
    }
   ],
   "source": [
    "eval('6+3') # Eval function can add numbers in string data type"
   ]
  },
  {
   "cell_type": "code",
   "execution_count": null,
   "metadata": {
    "ExecuteTime": {
     "end_time": "2021-10-02T08:38:54.253017Z",
     "start_time": "2021-10-02T08:38:54.241296Z"
    },
    "id": "bC6wj2L1xbLG",
    "outputId": "227fa753-b26e-4d69-e5b2-f672d4ae774d"
   },
   "outputs": [
    {
     "data": {
      "text/plain": [
       "18"
      ]
     },
     "execution_count": 14,
     "metadata": {},
     "output_type": "execute_result"
    }
   ],
   "source": [
    "eval('3*6')"
   ]
  },
  {
   "cell_type": "markdown",
   "metadata": {
    "id": "vWCcPB-2xbLH"
   },
   "source": [
    "### Accepting User Inputs (as both integer and string)\n",
    "\n",
    "**`input(prompt)`** prompts for and returns input as a string. Hence, if the user inputs a integer, the code should convert the string to an integer and then proceed."
   ]
  },
  {
   "cell_type": "code",
   "execution_count": null,
   "metadata": {
    "ExecuteTime": {
     "end_time": "2021-10-02T08:39:07.564534Z",
     "start_time": "2021-10-02T08:38:55.970790Z"
    },
    "id": "_m9keSJzxbLH",
    "outputId": "e43e43da-6774-42f4-ed01-1b689bfd04a2"
   },
   "outputs": [
    {
     "name": "stdout",
     "output_type": "stream",
     "text": [
      "Hello, \n",
      "How are you?I'm fine, thanks and you?\n"
     ]
    }
   ],
   "source": [
    "a = input(\"Hello, \\nHow are you?\") # \\n means new line"
   ]
  },
  {
   "cell_type": "code",
   "execution_count": null,
   "metadata": {
    "ExecuteTime": {
     "end_time": "2021-10-02T08:39:28.302329Z",
     "start_time": "2021-10-02T08:39:11.084068Z"
    },
    "id": "COkbMJ3YxbLH",
    "outputId": "10d33931-3520-4df1-e241-efd0efed9f50",
    "scrolled": true
   },
   "outputs": [
    {
     "name": "stdout",
     "output_type": "stream",
     "text": [
      "Type something here and it will be stored in variable abc \t999999\n"
     ]
    }
   ],
   "source": [
    "abc = input(\"Type something here and it will be stored in variable abc \\t\")"
   ]
  },
  {
   "cell_type": "code",
   "execution_count": null,
   "metadata": {
    "ExecuteTime": {
     "end_time": "2021-10-02T08:39:28.471274Z",
     "start_time": "2021-10-02T08:39:28.460533Z"
    },
    "id": "nZykVEcAxbLI",
    "outputId": "48faa605-0249-4949-91d7-f6777c08ea77",
    "scrolled": true
   },
   "outputs": [
    {
     "data": {
      "text/plain": [
       "str"
      ]
     },
     "execution_count": 17,
     "metadata": {},
     "output_type": "execute_result"
    }
   ],
   "source": [
    "type(abc)"
   ]
  },
  {
   "cell_type": "markdown",
   "metadata": {
    "id": "g_4M_k93xbLI"
   },
   "source": [
    "**Note**: **`type( )`** returns the format or the type of a variable or a number"
   ]
  },
  {
   "cell_type": "code",
   "execution_count": null,
   "metadata": {
    "ExecuteTime": {
     "end_time": "2021-10-02T08:39:42.854575Z",
     "start_time": "2021-10-02T08:39:31.634854Z"
    },
    "id": "Tim-VUdJxbLI",
    "outputId": "1df76c93-3f77-4f29-abf8-e27fdd8c4798",
    "scrolled": false
   },
   "outputs": [
    {
     "name": "stdout",
     "output_type": "stream",
     "text": [
      "Enter Student Name: Arthur\n",
      "Enter Major: IT\n",
      "Enter University: Oxford\n",
      "\n",
      "\n",
      "Printing Student Details\n",
      "Name Major University\n",
      "Arthur IT Oxford\n"
     ]
    }
   ],
   "source": [
    "name = input(\"Enter Student Name: \")\n",
    "major = input(\"Enter Major: \")\n",
    "university = input(\"Enter University: \")\n",
    "\n",
    "print(\"\\n\")\n",
    "print(\"Printing Student Details\")\n",
    "print(\"Name\", \"Major\", \"University\")\n",
    "print(name, major, university)"
   ]
  },
  {
   "cell_type": "code",
   "execution_count": null,
   "metadata": {
    "ExecuteTime": {
     "end_time": "2021-10-02T08:39:50.664632Z",
     "start_time": "2021-10-02T08:39:45.749108Z"
    },
    "id": "6tZauOkyxbLI",
    "outputId": "e2c12b1c-d1d7-4329-b44a-da9ba2f213ff",
    "scrolled": true
   },
   "outputs": [
    {
     "name": "stdout",
     "output_type": "stream",
     "text": [
      "Enter number: 007\n",
      "Enter name: Bond\n",
      "\n",
      "\n",
      "Printing type of a input value\n",
      "type of number <class 'str'>\n",
      "type of name <class 'str'>\n"
     ]
    }
   ],
   "source": [
    "number = input(\"Enter number: \")\n",
    "name = input(\"Enter name: \")\n",
    "\n",
    "print(\"\\n\")\n",
    "print(\"Printing type of a input value\")\n",
    "print(\"type of number\", type(number))\n",
    "print(\"type of name\", type(name))"
   ]
  },
  {
   "cell_type": "markdown",
   "metadata": {
    "id": "BHrL9ue8xbLI"
   },
   "source": [
    "### Accepting User Inputs (only as integer)\n",
    "\n",
    "A useful function to use in conjunction with this is **`eval()`** which takes a string and evaluates it as a python expression.\n",
    "\n",
    "*Note:* In notebooks it is often easier just to modify the code than to prompt for input."
   ]
  },
  {
   "cell_type": "code",
   "execution_count": null,
   "metadata": {
    "ExecuteTime": {
     "end_time": "2021-10-02T08:40:01.840902Z",
     "start_time": "2021-10-02T08:40:00.158777Z"
    },
    "id": "qLh-CftGxbLJ",
    "outputId": "54bfa87c-b2ef-460d-d8ad-8a91d7189ddf"
   },
   "outputs": [
    {
     "name": "stdout",
     "output_type": "stream",
     "text": [
      "xyz = 66\n",
      "66\n",
      "<class 'str'>\n",
      "66 = 66\n"
     ]
    }
   ],
   "source": [
    "xyz =  input(\"xyz = \")\n",
    "print(xyz)\n",
    "print(type(xyz))\n",
    "\n",
    "xyzValue=eval(xyz)  # change input to integer data type from string data type\n",
    "print(xyz,'=',xyzValue)"
   ]
  },
  {
   "cell_type": "code",
   "execution_count": null,
   "metadata": {
    "ExecuteTime": {
     "end_time": "2021-10-02T08:40:05.221765Z",
     "start_time": "2021-10-02T08:40:05.207119Z"
    },
    "id": "RwayI9rLxbLJ",
    "outputId": "2cdcf506-9f06-4de3-d202-f89ac9b906ce"
   },
   "outputs": [
    {
     "data": {
      "text/plain": [
       "99"
      ]
     },
     "execution_count": 21,
     "metadata": {},
     "output_type": "execute_result"
    }
   ],
   "source": [
    "int(\"99\")"
   ]
  },
  {
   "cell_type": "code",
   "execution_count": null,
   "metadata": {
    "ExecuteTime": {
     "end_time": "2021-10-02T08:40:14.438563Z",
     "start_time": "2021-10-02T08:40:07.353115Z"
    },
    "id": "QHCQXEwxxbLJ",
    "outputId": "c82cb7b4-623a-4cb8-d1b2-89e9ff8df0b0",
    "scrolled": false
   },
   "outputs": [
    {
     "name": "stdout",
     "output_type": "stream",
     "text": [
      "Enter first number: 3\n",
      "Enter second number: 6\n",
      "\n",
      "\n",
      "First Number:  3\n",
      "Second Number:  6\n",
      "Addition of two number is:  9\n"
     ]
    }
   ],
   "source": [
    "# program to calculate addition of two input numbers\n",
    "\n",
    "first_number = int(input(\"Enter first number: \"))  # converting input value to integer\n",
    "second_number = int(input(\"Enter second number: \"))  # converting input value to integer\n",
    "\n",
    "print(\"\\n\")\n",
    "print(\"First Number: \", first_number)\n",
    "print(\"Second Number: \", second_number)\n",
    "sum1 = first_number + second_number\n",
    "print(\"Addition of two number is: \", sum1)"
   ]
  },
  {
   "cell_type": "markdown",
   "metadata": {
    "id": "LIGE4Y7JxbLJ"
   },
   "source": [
    "### Practice Problem\n",
    "\n",
    "Accept one integer and one float number from the user and calculate the addition of both the numbers."
   ]
  },
  {
   "cell_type": "code",
   "execution_count": null,
   "metadata": {
    "ExecuteTime": {
     "end_time": "2021-10-02T08:40:36.154886Z",
     "start_time": "2021-10-02T08:40:22.103609Z"
    },
    "id": "LwteSYiMxbLK",
    "outputId": "a581442d-6c20-497d-bcde-1dde80aa55c9",
    "scrolled": false
   },
   "outputs": [
    {
     "name": "stdout",
     "output_type": "stream",
     "text": [
      "Enter first number: 6\n",
      "Enter second number: 3.9\n",
      "Final result is:  9.9\n"
     ]
    }
   ],
   "source": [
    "num1 = int(input(\"Enter first number: \"))\n",
    "num2 = float(input(\"Enter second number: \"))\n",
    "\n",
    "result=(num1+num2)\n",
    "print(\"Final result is: \", result)"
   ]
  },
  {
   "cell_type": "code",
   "execution_count": null,
   "metadata": {
    "ExecuteTime": {
     "end_time": "2021-10-02T08:40:59.401965Z",
     "start_time": "2021-10-02T08:40:56.640739Z"
    },
    "id": "AWwdoKguxbLb",
    "outputId": "bb8345ef-ccdd-40bb-ad4c-36719d2cb93c"
   },
   "outputs": [
    {
     "name": "stdout",
     "output_type": "stream",
     "text": [
      "Enter first number: 1\n",
      "Enter second number: 2\n",
      "Enter third number: 3\n",
      "\n",
      "\n",
      "First Number:  1\n",
      "Second Number:  2\n",
      "Third Number:  3\n",
      "Final result is:  9\n"
     ]
    }
   ],
   "source": [
    "# Write code to get three numbers and add first 2 number and multiply with third number\n",
    "\n",
    "num1 = int(input(\"Enter first number: \"))   # converting input value to integer\n",
    "num2 = int(input(\"Enter second number: \"))  # converting input value to integer\n",
    "num3 = int(input(\"Enter third number: \"))   # converting input value to integer\n",
    "\n",
    "print(\"\\n\")\n",
    "print(\"First Number: \", num1)\n",
    "print(\"Second Number: \", num2)\n",
    "print(\"Third Number: \", num3)\n",
    "\n",
    "result=(num1+num2)*num3\n",
    "print(\"Final result is: \", result)"
   ]
  },
  {
   "cell_type": "code",
   "execution_count": null,
   "metadata": {
    "ExecuteTime": {
     "end_time": "2021-10-02T08:41:10.570920Z",
     "start_time": "2021-10-02T08:41:03.424919Z"
    },
    "id": "vrcUmT_vxbLb",
    "outputId": "d8e4ac9c-6efe-4b0d-9eee-59de3e0cb903"
   },
   "outputs": [
    {
     "name": "stdout",
     "output_type": "stream",
     "text": [
      "Enter first number: 5\n",
      "Enter second number: 6\n",
      "Enter third number: 7\n",
      "Enter fourth number: 8\n",
      "\n",
      "\n",
      "First Number:  5\n",
      "Second Number:  6\n",
      "Third Number:  7\n",
      "Fourth number:  8\n",
      "Final result is:  40.857142857142854\n"
     ]
    }
   ],
   "source": [
    "# Write a code to get four numbers:\n",
    "#Step 1. Multiply first and fourth number\n",
    "#Step 2. Divide second and third number\n",
    "#Step3. Add Step 1 and Step 2 outputs.\n",
    "\n",
    "num1 = int(input(\"Enter first number: \"))\n",
    "num2 = int(input(\"Enter second number: \"))\n",
    "num3 = int(input(\"Enter third number: \"))\n",
    "num4 = int(input(\"Enter fourth number: \"))\n",
    "\n",
    "print(\"\\n\")\n",
    "print(\"First Number: \", num1)\n",
    "print(\"Second Number: \", num2)\n",
    "print(\"Third Number: \", num3)\n",
    "print(\"Fourth number: \", num4)\n",
    "\n",
    "result=(num1*num4)+(num2/num3)\n",
    "print(\"Final result is: \", result)"
   ]
  },
  {
   "cell_type": "code",
   "execution_count": null,
   "metadata": {
    "ExecuteTime": {
     "end_time": "2021-10-02T08:41:15.815058Z",
     "start_time": "2021-10-02T08:41:14.456663Z"
    },
    "id": "EodTX9q7xbLb",
    "outputId": "da481d1a-062a-4564-e7f0-8946017d0608"
   },
   "outputs": [
    {
     "name": "stdout",
     "output_type": "stream",
     "text": [
      "Enter number: 3\n",
      "cube of 3 is 27\n"
     ]
    }
   ],
   "source": [
    "# Write a code to get cube of the number\n",
    "\n",
    "def cube(x):\n",
    "    return x*x*x\n",
    "\n",
    "a=int(input(\"Enter number: \"))\n",
    "print(\"cube of\",a,\"is\",cube(a))"
   ]
  },
  {
   "cell_type": "markdown",
   "metadata": {
    "id": "0MKtOELkxbLc"
   },
   "source": [
    "### Accept float input from User\n",
    "\n",
    "Let’s see how to accept float value from a user in Python. You need to convert user input to the float number using the **`float()`** function as we did for the integer value."
   ]
  },
  {
   "cell_type": "code",
   "execution_count": null,
   "metadata": {
    "ExecuteTime": {
     "end_time": "2021-10-02T08:41:36.311167Z",
     "start_time": "2021-10-02T08:41:30.634897Z"
    },
    "id": "FeYZiSC7xbLc",
    "outputId": "effcca37-f5c7-4892-e2c9-233d82d7e553",
    "scrolled": true
   },
   "outputs": [
    {
     "name": "stdout",
     "output_type": "stream",
     "text": [
      "Enter float number: 9\n",
      "\n",
      "\n",
      "input float number is:  9.0\n",
      "type is: <class 'float'>\n"
     ]
    }
   ],
   "source": [
    "float_number = float(input(\"Enter float number: \"))  # converting input value to float\n",
    "print(\"\\n\")\n",
    "print(\"input float number is: \", float_number)\n",
    "print(\"type is:\", type(float_number))"
   ]
  },
  {
   "cell_type": "markdown",
   "metadata": {
    "id": "7TN6i790xbLd"
   },
   "source": [
    "### Get multiple input values from a user in one line\n",
    "\n",
    "In Python, It is possible to get multiple values from the user in one line. i.e., In Python, we can accept two or three values from the user in one **`input()`** call.\n",
    "\n",
    "For example, in a single execution of the **`input()`** function, we can ask the user his/her name, age, and phone number and store it in three different variables. Lets see how to do this."
   ]
  },
  {
   "cell_type": "code",
   "execution_count": null,
   "metadata": {
    "ExecuteTime": {
     "end_time": "2021-10-02T08:42:18.784825Z",
     "start_time": "2021-10-02T08:41:58.604150Z"
    },
    "id": "X5s0dHWxxbLd",
    "outputId": "35c6370b-1301-4b65-acdd-bdd0cef60f2c"
   },
   "outputs": [
    {
     "name": "stdout",
     "output_type": "stream",
     "text": [
      "Enter your Name, Age, Phone_number separated by space: Clark 36 13756537093\n",
      "\n",
      "\n",
      "User Details:  Clark 36 13756537093\n"
     ]
    }
   ],
   "source": [
    "name, age, phone = input(\"Enter your Name, Age, Phone_number separated by space: \").split()\n",
    "print(\"\\n\")\n",
    "print(\"User Details: \", name, age, phone)"
   ]
  },
  {
   "cell_type": "markdown",
   "metadata": {
    "id": "ORUJNCxwxbLd"
   },
   "source": [
    "### Accept multiline input from a user\n",
    "\n",
    "As you know, the input() function does not allow the user to enter put lines separated by a newline. If the user tries to enter multiline input, it prints back only the first line. Let’s see how to gets multiple line input.\n",
    "\n",
    "As you know, the input() function does not allow the user to enter put lines separated by a newline. If the user tries to enter multiline input, it prints back only the first line. Let’s see how to gets multiple line input.\n",
    "\n",
    "We can use for loop. In each iteration, we can get input string from the user and then .join() them using \\n, or you can also concatenate each input string using + operator separated by \\n."
   ]
  },
  {
   "cell_type": "code",
   "execution_count": null,
   "metadata": {
    "ExecuteTime": {
     "end_time": "2021-10-02T08:42:54.527996Z",
     "start_time": "2021-10-02T08:42:30.068031Z"
    },
    "id": "W0r4_UujxbLd",
    "outputId": "cff7cb82-5cb8-4ff8-93d2-153815d8532b"
   },
   "outputs": [
    {
     "name": "stdout",
     "output_type": "stream",
     "text": [
      "Tell me about yourself\n",
      "Hello! I am happy to learn Python and I love travelling.\n",
      "Also, I love cooking and singing.\n",
      "\n",
      "\n",
      "\n",
      "Final text input\n",
      "Hello! I am happy to learn Python and I love travelling.\n",
      "Also, I love cooking and singing.\n"
     ]
    }
   ],
   "source": [
    "MultiLine = []\n",
    "print(\"Tell me about yourself\")\n",
    "while True:\n",
    "    line = input()\n",
    "    if line:\n",
    "        MultiLine.append(line)\n",
    "    else:\n",
    "        break\n",
    "finalText = '\\n'.join(MultiLine)\n",
    "print(\"\\n\")\n",
    "print(\"Final text input\")\n",
    "print(finalText)"
   ]
  },
  {
   "cell_type": "markdown",
   "metadata": {
    "id": "pYFgWrhwxbLe"
   },
   "source": [
    "### Format output strings by its positions\n"
   ]
  },
  {
   "cell_type": "code",
   "execution_count": null,
   "metadata": {
    "ExecuteTime": {
     "end_time": "2021-10-02T08:43:32.535822Z",
     "start_time": "2021-10-02T08:43:12.278007Z"
    },
    "id": "3UwbTB_gxbLe",
    "outputId": "fa846fd0-5dcc-4bff-81fb-5d754970b4a9"
   },
   "outputs": [
    {
     "name": "stdout",
     "output_type": "stream",
     "text": [
      "Enter First Name: Ethan\n",
      "Enter Last Name: Hunt\n",
      "Enter Organization Name: Mission Impossible\n",
      "\n",
      "\n",
      "Ethan, Hunt works at Mission Impossible\n",
      "Hunt, Ethan works at Mission Impossible\n",
      "FirstName Ethan, LastName Hunt works at Mission Impossible\n",
      "Ethan, Hunt Ethan, Hunt works at Mission Impossible\n"
     ]
    }
   ],
   "source": [
    "firstName = input(\"Enter First Name: \")\n",
    "lastName = input(\"Enter Last Name: \")\n",
    "organization = input(\"Enter Organization Name: \")\n",
    "\n",
    "print(\"\\n\")\n",
    "print('{0}, {1} works at {2}'.format(firstName, lastName, organization))\n",
    "print('{1}, {0} works at {2}'.format(firstName, lastName, organization))\n",
    "print('FirstName {0}, LastName {1} works at {2}'.format(firstName, lastName, organization))\n",
    "print('{0}, {1} {0}, {1} works at {2}'.format(firstName, lastName, organization))"
   ]
  },
  {
   "cell_type": "markdown",
   "metadata": {
    "id": "qj3Sr7hzxbLe"
   },
   "source": [
    "### Accessing output string arguments by name\n"
   ]
  },
  {
   "cell_type": "code",
   "execution_count": null,
   "metadata": {
    "ExecuteTime": {
     "end_time": "2021-10-02T08:43:49.939149Z",
     "start_time": "2021-10-02T08:43:41.487002Z"
    },
    "id": "56sBhnFYxbLe",
    "outputId": "a3b8d2a4-86b3-499a-d566-9e800a469443"
   },
   "outputs": [
    {
     "name": "stdout",
     "output_type": "stream",
     "text": [
      "Enter Name: David\n",
      "Enter marks: 85\n",
      "\n",
      "\n",
      "Student: Name:  David, Marks: 85%\n"
     ]
    }
   ],
   "source": [
    "name = input(\"Enter Name: \")\n",
    "marks = input(\"Enter marks: \")\n",
    "\n",
    "print(\"\\n\")\n",
    "print('Student: Name:  {firstName}, Marks: {percentage}%'.format(firstName=name, percentage=marks))"
   ]
  },
  {
   "cell_type": "markdown",
   "metadata": {
    "id": "foWw38l0xbLf"
   },
   "source": [
    "### Output text alignment specifying a width"
   ]
  },
  {
   "cell_type": "code",
   "execution_count": null,
   "metadata": {
    "ExecuteTime": {
     "end_time": "2021-10-02T08:43:58.976262Z",
     "start_time": "2021-10-02T08:43:56.126654Z"
    },
    "id": "2zHUf74UxbLf",
    "outputId": "1bee7d4f-c171-4fa5-caf9-2ea7a4220637"
   },
   "outputs": [
    {
     "name": "stdout",
     "output_type": "stream",
     "text": [
      "Enter text: Python\n",
      "\n",
      "\n",
      "Python                   \n",
      "         Python          \n",
      "                   Python\n"
     ]
    }
   ],
   "source": [
    "text = input(\"Enter text: \")\n",
    "\n",
    "print(\"\\n\")\n",
    "# left aligned\n",
    "print('{:<25}'.format(text)) # Right aligned print('{:>25}'.format(text))\n",
    "# centered\n",
    "print('{:^25}'.format(text))\n",
    "# right aligned\n",
    "print('{:>25}'.format(text))"
   ]
  },
  {
   "cell_type": "markdown",
   "metadata": {
    "id": "7gnU8YEdxbLf"
   },
   "source": [
    "### Specifying a sign while displaying output numbers"
   ]
  },
  {
   "cell_type": "code",
   "execution_count": null,
   "metadata": {
    "ExecuteTime": {
     "end_time": "2021-10-02T08:44:19.214552Z",
     "start_time": "2021-10-02T08:44:05.983107Z"
    },
    "id": "7wLuZtm8xbLf",
    "outputId": "fdbedc05-a691-48a4-8807-b81906f53d82"
   },
   "outputs": [
    {
     "name": "stdout",
     "output_type": "stream",
     "text": [
      "Enter Positive Number: 9\n",
      "Enter Negative Number: -4\n",
      "\n",
      "\n",
      "+9.000000; -4.000000\n",
      "9.000000; -4.000000\n"
     ]
    }
   ],
   "source": [
    "positive_number = float(input(\"Enter Positive Number: \"))\n",
    "negative_number = float(input(\"Enter Negative Number: \"))\n",
    "\n",
    "print(\"\\n\")\n",
    "# sign '+' is for both positive and negative number\n",
    "print('{:+f}; {:+f}'.format(positive_number, negative_number))\n",
    "\n",
    "# sign '-' is only for negative number\n",
    "print('{:f}; {:-f}'.format(positive_number, negative_number))"
   ]
  },
  {
   "cell_type": "markdown",
   "metadata": {
    "id": "Ce5o9eFqxbLg"
   },
   "source": [
    "### Display output Number in various type format"
   ]
  },
  {
   "cell_type": "code",
   "execution_count": null,
   "metadata": {
    "ExecuteTime": {
     "end_time": "2021-10-02T08:44:35.334673Z",
     "start_time": "2021-10-02T08:44:33.383991Z"
    },
    "id": "DKEexS_JxbLg",
    "outputId": "4c536665-71fb-4430-8f3f-13ccd4b3df95"
   },
   "outputs": [
    {
     "name": "stdout",
     "output_type": "stream",
     "text": [
      "Enter number: 63\n",
      "\n",
      "\n",
      "The number is:63\n",
      "Output number in octal format : 77\n",
      "Output number in binary format: 111111\n",
      "Output number in hexadecimal format: 3f\n"
     ]
    }
   ],
   "source": [
    "number = int(input(\"Enter number: \"))\n",
    "\n",
    "print(\"\\n\")\n",
    "# 'd' is for integer number formatting\n",
    "print(\"The number is:{:d}\".format(number))\n",
    "\n",
    "# 'o' is for octal number formatting, binary and hexadecimal format\n",
    "print('Output number in octal format : {0:o}'.format(number))\n",
    "\n",
    "# 'b' is for binary number formatting\n",
    "print('Output number in binary format: {0:b}'.format(number))\n",
    "\n",
    "# 'x' is for hexadecimal format\n",
    "print('Output number in hexadecimal format: {0:x}'.format(number))"
   ]
  },
  {
   "cell_type": "markdown",
   "metadata": {
    "id": "2Xskr1FIxbLg"
   },
   "source": [
    "### Display numbers in floating-point format\n"
   ]
  },
  {
   "cell_type": "code",
   "execution_count": null,
   "metadata": {
    "ExecuteTime": {
     "end_time": "2021-10-02T08:44:43.634966Z",
     "start_time": "2021-10-02T08:44:41.776568Z"
    },
    "id": "M2OPgzm5xbLh",
    "outputId": "9578d835-e67d-4038-d300-c96865fc1865"
   },
   "outputs": [
    {
     "name": "stdout",
     "output_type": "stream",
     "text": [
      "Enter float Number: 33\n",
      "\n",
      "\n",
      "Output Number in The float type :33.000000\n",
      "padding for output float number33.00\n",
      "Output Exponent notation3.300000e+01\n",
      "Output Exponent notation3.300000E+01\n"
     ]
    }
   ],
   "source": [
    "number = float(input(\"Enter float Number: \"))\n",
    "\n",
    "print(\"\\n\")\n",
    "# 'f' is for float number arguments\n",
    "print(\"Output Number in The float type :{:f}\".format(number))\n",
    "\n",
    "# padding for float numbers\n",
    "print('padding for output float number{:5.2f}'.format(number))\n",
    "\n",
    "# 'e' is for Exponent notation\n",
    "print('Output Exponent notation{:e}'.format(number))\n",
    "\n",
    "# 'E' is for Exponent notation in UPPER CASE\n",
    "print('Output Exponent notation{:E}'.format(number))"
   ]
  },
  {
   "cell_type": "markdown",
   "metadata": {
    "id": "DRKyHHawxbLh"
   },
   "source": [
    "### Output String justification\n",
    "\n",
    "Let’s see how to use **`str.rjust()`**,   **`str.ljust()`** and **`str.center()`** to justify text output on screen and console."
   ]
  },
  {
   "cell_type": "code",
   "execution_count": null,
   "metadata": {
    "ExecuteTime": {
     "end_time": "2021-10-02T08:44:55.586629Z",
     "start_time": "2021-10-02T08:44:51.817099Z"
    },
    "id": "l3K-VEfQxbLh",
    "outputId": "148c5a75-fc5b-490b-eada-b49c23eb0ac2"
   },
   "outputs": [
    {
     "name": "stdout",
     "output_type": "stream",
     "text": [
      "Enter String: Jupyter\n",
      "\n",
      "\n",
      "Left justification Jupyter*****************************************************\n",
      "Right justification *****************************************************Jupyter\n",
      "Center justification **************************Jupyter***************************\n"
     ]
    }
   ],
   "source": [
    "text = input(\"Enter String: \")\n",
    "\n",
    "print(\"\\n\")\n",
    "print(\"Left justification\", text.ljust(60, \"*\"))\n",
    "print(\"Right justification\", text.rjust(60, \"*\"))\n",
    "print(\"Center justification\", text.center(60, \"*\"))"
   ]
  },
  {
   "cell_type": "markdown",
   "metadata": {
    "id": "5ATgcVswxbLi"
   },
   "source": [
    "We can use the module in the following ways:"
   ]
  },
  {
   "cell_type": "code",
   "execution_count": null,
   "metadata": {
    "ExecuteTime": {
     "end_time": "2021-10-02T08:45:06.474816Z",
     "start_time": "2021-10-02T08:45:06.457245Z"
    },
    "id": "mJVQbn4hxbLi",
    "outputId": "d008a64d-48ec-4a24-befc-2ba05ad38d73"
   },
   "outputs": [
    {
     "name": "stdout",
     "output_type": "stream",
     "text": [
      "3.141592653589793\n"
     ]
    }
   ],
   "source": [
    "import math\n",
    "print(math.pi) # do not have to make vairable for pi"
   ]
  },
  {
   "cell_type": "markdown",
   "metadata": {
    "id": "QnXVmVbTxbLi"
   },
   "source": [
    "Now all the definitions inside **`math`** module are available in our scope. We can also import some specific attributes and functions only, using the **`from`** keyword. For example:"
   ]
  },
  {
   "cell_type": "code",
   "execution_count": null,
   "metadata": {
    "ExecuteTime": {
     "end_time": "2021-10-02T08:45:09.349329Z",
     "start_time": "2021-10-02T08:45:09.328826Z"
    },
    "id": "4aRomDFRxbLi",
    "outputId": "aa610cf9-77f5-4b35-dd09-c8ea413450d5"
   },
   "outputs": [
    {
     "data": {
      "text/plain": [
       "3.141592653589793"
      ]
     },
     "execution_count": 38,
     "metadata": {},
     "output_type": "execute_result"
    }
   ],
   "source": [
    "from math import pi\n",
    "pi"
   ]
  },
  {
   "cell_type": "markdown",
   "metadata": {
    "id": "YyVhDWHExbLj"
   },
   "source": [
    "While importing a module, Python looks at several places defined in **`sys.path`**. It is a list of directory locations."
   ]
  },
  {
   "cell_type": "code",
   "execution_count": null,
   "metadata": {
    "ExecuteTime": {
     "end_time": "2021-10-02T08:45:11.706263Z",
     "start_time": "2021-10-02T08:45:11.689668Z"
    },
    "id": "_2BJTtSMxbLj",
    "outputId": "f53c57e3-02c8-4814-8813-753db59f7aca",
    "scrolled": true
   },
   "outputs": [
    {
     "data": {
      "text/plain": [
       "['C:\\\\Users\\\\Deepak\\\\01_Learn_Python4Data\\\\01_Python_Introduction',\n",
       " 'C:\\\\ProgramData\\\\Anaconda3\\\\python38.zip',\n",
       " 'C:\\\\ProgramData\\\\Anaconda3\\\\DLLs',\n",
       " 'C:\\\\ProgramData\\\\Anaconda3\\\\lib',\n",
       " 'C:\\\\ProgramData\\\\Anaconda3',\n",
       " '',\n",
       " 'C:\\\\Users\\\\Deepak\\\\AppData\\\\Roaming\\\\Python\\\\Python38\\\\site-packages',\n",
       " 'C:\\\\ProgramData\\\\Anaconda3\\\\lib\\\\site-packages',\n",
       " 'C:\\\\ProgramData\\\\Anaconda3\\\\lib\\\\site-packages\\\\locket-0.2.1-py3.8.egg',\n",
       " 'C:\\\\ProgramData\\\\Anaconda3\\\\lib\\\\site-packages\\\\win32',\n",
       " 'C:\\\\ProgramData\\\\Anaconda3\\\\lib\\\\site-packages\\\\win32\\\\lib',\n",
       " 'C:\\\\ProgramData\\\\Anaconda3\\\\lib\\\\site-packages\\\\Pythonwin',\n",
       " 'C:\\\\ProgramData\\\\Anaconda3\\\\lib\\\\site-packages\\\\IPython\\\\extensions',\n",
       " 'C:\\\\Users\\\\Deepak\\\\.ipython']"
      ]
     },
     "execution_count": 39,
     "metadata": {},
     "output_type": "execute_result"
    }
   ],
   "source": [
    "import sys\n",
    "sys.path"
   ]
  },
  {
   "cell_type": "markdown",
   "metadata": {
    "id": "TmkRLhQbxbLj"
   },
   "source": [
    "We can also add our own location to this list."
   ]
  },
  {
   "cell_type": "code",
   "execution_count": null,
   "metadata": {
    "id": "OgyuFVnNxbLj"
   },
   "outputs": [],
   "source": []
  },
  {
   "cell_type": "markdown",
   "metadata": {
    "id": "z9ufHiraxcdB"
   },
   "source": [
    "# Python Operators\n",
    "\n",
    "Python can be used like a calculator. Simply type in expressions to get them evaluated.\n",
    "\n",
    "**What are operators in python?**\n",
    "\n",
    "Operators are special **symbols** in Python that carry out **arithmetic** or **logical computation**. The value that the operator operates on is called the **operand**.\n",
    "\n",
    "For example:\n",
    "\n",
    "```python\n",
    ">>>6+3\n",
    "\n",
    "9\n",
    "```\n",
    "\n",
    "Here, **`+`** is the operator that performs addition. **`2`** and **`3`** are the operands and **`5`** is the output of the **operation**."
   ]
  },
  {
   "cell_type": "code",
   "execution_count": null,
   "metadata": {
    "ExecuteTime": {
     "end_time": "2021-10-02T08:25:25.114694Z",
     "start_time": "2021-10-02T08:25:25.094187Z"
    },
    "id": "0avxS3u2xcdC",
    "outputId": "52440355-1601-46b4-9267-7860a3d952ea"
   },
   "outputs": [
    {
     "data": {
      "text/plain": [
       "9"
      ]
     },
     "execution_count": 1,
     "metadata": {},
     "output_type": "execute_result"
    }
   ],
   "source": [
    "6+3"
   ]
  },
  {
   "cell_type": "markdown",
   "metadata": {
    "id": "dWS5QNp9xcdE"
   },
   "source": [
    "## 1. Arithmatic Operators\n",
    "\n",
    "Arithmetic operators are used to perform **mathematical operations** like **addition**, **subtraction**, **multiplication** etc.\n",
    "\n",
    "| Symbol | Task Performed | Meaning | Example |\n",
    "|:------:|:---------------| :------: |:--------:|\n",
    "| **`+`**      | Addition | add two operands or unary plus | **x + y** or **+2** |\n",
    "| **`-`**      | Subtraction | substract right operand from the left or unary minus | **x - y** or **-2** |\n",
    "| **`*`**      | Multiplication | Multiply two operands | **x \\* y** |\n",
    "| **`/`**      | Division | Divide left operand by the right one (always results into float) | **x / y** |\n",
    "| **`%`**      | Modulus (remainder) | remainder of the division of left operand by the right | **x % y** (remainder of **x/y**) |\n",
    "| **`//`**     | Integer/Floor division | division that results into whole number adjusted to the left in the number line | **x // y** |\n",
    "| <b>`**`</b>     | Exponentiation (power) | left operand raised to the power of right | **x \\*\\* y** (**x** to the power **y**) |\n",
    "\n",
    "As expected these operations generally promote to the most general type of any of the numbers involved i.e. int -> float -> complex.\n",
    "\n",
    "#### Example : Arithmetic operators in Python"
   ]
  },
  {
   "cell_type": "code",
   "execution_count": null,
   "metadata": {
    "ExecuteTime": {
     "end_time": "2021-10-02T08:25:25.239206Z",
     "start_time": "2021-10-02T08:25:25.117624Z"
    },
    "id": "QupA_05DxcdF",
    "outputId": "b3aa81ea-08eb-4526-c6c0-ceae587eb804"
   },
   "outputs": [
    {
     "name": "stdout",
     "output_type": "stream",
     "text": [
      "Addition:  3\n",
      "Subtraction:  1\n",
      "Multiplication:  6\n",
      "Division:  2.0\n",
      "Division:  3.0\n",
      "Division:  3.5\n",
      "Division without the remainder:  3\n",
      "Modulus:  1\n",
      "Division without the remainder:  2\n",
      "Exponential:  9\n"
     ]
    }
   ],
   "source": [
    "print('Addition: ', 1 + 2)\n",
    "print('Subtraction: ', 2 - 1)\n",
    "print('Multiplication: ', 2 * 3)\n",
    "print ('Division: ', 4 / 2)                         # Division in python gives floating number\n",
    "print('Division: ', 6 / 2)\n",
    "print('Division: ', 7 / 2)\n",
    "print('Division without the remainder: ', 7 // 2)   # gives without the floating number or without the remaining\n",
    "print('Modulus: ', 3 % 2)                           # Gives the remainder\n",
    "print ('Division without the remainder: ',7 // 3)\n",
    "print('Exponential: ', 3 ** 2)                      # it means 3 * 3"
   ]
  },
  {
   "cell_type": "code",
   "execution_count": null,
   "metadata": {
    "ExecuteTime": {
     "end_time": "2021-10-02T08:25:25.375922Z",
     "start_time": "2021-10-02T08:25:25.248971Z"
    },
    "id": "WlkFl7GAxcdG",
    "outputId": "bbfd2d86-1440-4da1-e32c-2d7666949df8"
   },
   "outputs": [
    {
     "name": "stdout",
     "output_type": "stream",
     "text": [
      "x + y = 19\n",
      "x - y = 13\n",
      "x * y = 48\n",
      "x / y = 5.333333333333333\n",
      "x // y = 5\n"
     ]
    }
   ],
   "source": [
    "x = 16\n",
    "y = 3\n",
    "\n",
    "print('x + y =',x+y) # 19\n",
    "print('x - y =',x-y) # 13\n",
    "print('x * y =',x*y) # 48\n",
    "print('x / y =',x/y) # 5.333\n",
    "print('x // y =',x//y) # 519"
   ]
  },
  {
   "cell_type": "code",
   "execution_count": null,
   "metadata": {
    "ExecuteTime": {
     "end_time": "2021-10-02T08:25:25.528268Z",
     "start_time": "2021-10-02T08:25:25.383735Z"
    },
    "id": "Du_0BOqOxcdH",
    "outputId": "ed5abee6-ef0e-4a99-942f-797836b610f6"
   },
   "outputs": [
    {
     "data": {
      "text/plain": [
       "6"
      ]
     },
     "execution_count": 4,
     "metadata": {},
     "output_type": "execute_result"
    }
   ],
   "source": [
    "1+2+3"
   ]
  },
  {
   "cell_type": "code",
   "execution_count": null,
   "metadata": {
    "ExecuteTime": {
     "end_time": "2021-10-02T08:25:25.663036Z",
     "start_time": "2021-10-02T08:25:25.533150Z"
    },
    "id": "CaCZI15HxcdJ",
    "outputId": "2a206129-b219-4675-aa40-67bda974a31e"
   },
   "outputs": [
    {
     "data": {
      "text/plain": [
       "6"
      ]
     },
     "execution_count": 5,
     "metadata": {},
     "output_type": "execute_result"
    }
   ],
   "source": [
    "7-1"
   ]
  },
  {
   "cell_type": "code",
   "execution_count": null,
   "metadata": {
    "ExecuteTime": {
     "end_time": "2021-10-02T08:25:25.770456Z",
     "start_time": "2021-10-02T08:25:25.667916Z"
    },
    "id": "89AikdpQxcdJ",
    "outputId": "cae50b72-007e-4784-defc-e98b266160ef"
   },
   "outputs": [
    {
     "data": {
      "text/plain": [
       "(18+0j)"
      ]
     },
     "execution_count": 6,
     "metadata": {},
     "output_type": "execute_result"
    }
   ],
   "source": [
    "6 * (3+0j) * 1.0"
   ]
  },
  {
   "cell_type": "code",
   "execution_count": null,
   "metadata": {
    "ExecuteTime": {
     "end_time": "2021-10-02T08:25:25.914987Z",
     "start_time": "2021-10-02T08:25:25.773383Z"
    },
    "id": "GI6Jr6YCxcdK",
    "outputId": "0fc415be-33f2-42a3-ea06-818dd6a0ab71"
   },
   "outputs": [
    {
     "data": {
      "text/plain": [
       "0.8333333333333334"
      ]
     },
     "execution_count": 7,
     "metadata": {},
     "output_type": "execute_result"
    }
   ],
   "source": [
    "5/6"
   ]
  },
  {
   "cell_type": "markdown",
   "metadata": {
    "id": "ouL63Hc-xcdK"
   },
   "source": [
    "In many languages (and older versions of python) $\\frac{1}{2}=0$ (truncated division). In Python 3 this behaviour is captured by a separate operator that rounds down: (i.e., **a // b$=\\lfloor \\frac{a}{b}\\rfloor$**)"
   ]
  },
  {
   "cell_type": "code",
   "execution_count": null,
   "metadata": {
    "ExecuteTime": {
     "end_time": "2021-10-02T08:25:26.032171Z",
     "start_time": "2021-10-02T08:25:25.923776Z"
    },
    "id": "8SAQIyq9xcdK",
    "outputId": "405999c6-43bc-4130-f337-88cf5ad5138f"
   },
   "outputs": [
    {
     "data": {
      "text/plain": [
       "0.0"
      ]
     },
     "execution_count": 8,
     "metadata": {},
     "output_type": "execute_result"
    }
   ],
   "source": [
    "5//6.0"
   ]
  },
  {
   "cell_type": "code",
   "execution_count": null,
   "metadata": {
    "ExecuteTime": {
     "end_time": "2021-10-02T08:25:26.155218Z",
     "start_time": "2021-10-02T08:25:26.037055Z"
    },
    "id": "ZhqMISYdxcdL",
    "outputId": "5ebca2ba-6c43-4da2-e4e2-c9df70882703",
    "scrolled": true
   },
   "outputs": [
    {
     "data": {
      "text/plain": [
       "5"
      ]
     },
     "execution_count": 9,
     "metadata": {},
     "output_type": "execute_result"
    }
   ],
   "source": [
    "15%10"
   ]
  },
  {
   "cell_type": "code",
   "execution_count": null,
   "metadata": {
    "ExecuteTime": {
     "end_time": "2021-10-02T08:25:26.281684Z",
     "start_time": "2021-10-02T08:25:26.158150Z"
    },
    "id": "t5dyzN6QxcdL",
    "outputId": "fc963245-7644-426f-da69-3a352b7933e2"
   },
   "outputs": [
    {
     "data": {
      "text/plain": [
       "9"
      ]
     },
     "execution_count": 10,
     "metadata": {},
     "output_type": "execute_result"
    }
   ],
   "source": [
    "3 ** 2      # it means 3 * 3"
   ]
  },
  {
   "cell_type": "markdown",
   "metadata": {
    "id": "7oHoFoSmxcdM"
   },
   "source": [
    "Python natively allows (nearly) infinite length integers while floating point numbers are double precision numbers:"
   ]
  },
  {
   "cell_type": "code",
   "execution_count": null,
   "metadata": {
    "ExecuteTime": {
     "end_time": "2021-10-02T08:25:26.446233Z",
     "start_time": "2021-10-02T08:25:26.288522Z"
    },
    "id": "6wnADeFxxcdM",
    "outputId": "46cab0dd-8a9d-42e9-9ee0-8ec3564c2d16",
    "scrolled": true
   },
   "outputs": [
    {
     "data": {
      "text/plain": [
       "28418980453852622603883856494709731311218158362293224700445543940796643776911788129508577246309929258069598467896008287596053863082109746801947722280783720032649818198464452375358348619120021135797251857019557032565638659667745421115194468559021541269027438746788486392649581405327516658718317011453858465218779880972140612551504149701082164179367484198570734230003528355826545644223794779911723917115845213739921327820409005460708547942445234906498880588411276755120002108963510955276534630522965966177951626038063994937181228938844252668098515385045718428663547788122173798704717510979319749834083419004355222012043715855123615249682039587844431246269017612728291710718821388840627277407189863509789929339102406655115786899696829902032282666983426897111750208839152830573688512831984602085360572485861376"
      ]
     },
     "execution_count": 11,
     "metadata": {},
     "output_type": "execute_result"
    }
   ],
   "source": [
    "22**600"
   ]
  },
  {
   "cell_type": "code",
   "execution_count": null,
   "metadata": {
    "ExecuteTime": {
     "end_time": "2021-10-02T08:25:26.849067Z",
     "start_time": "2021-10-02T08:25:26.450143Z"
    },
    "id": "PkUR5CawxcdM",
    "outputId": "367160f8-c0f9-4428-aaad-4fe0a3303393"
   },
   "outputs": [
    {
     "ename": "OverflowError",
     "evalue": "(34, 'Result too large')",
     "output_type": "error",
     "traceback": [
      "\u001b[1;31m---------------------------------------------------------------------------\u001b[0m",
      "\u001b[1;31mOverflowError\u001b[0m                             Traceback (most recent call last)",
      "\u001b[1;32m<ipython-input-12-bfc5aa62a0ff>\u001b[0m in \u001b[0;36m<module>\u001b[1;34m\u001b[0m\n\u001b[1;32m----> 1\u001b[1;33m \u001b[1;36m22.0\u001b[0m\u001b[1;33m**\u001b[0m\u001b[1;36m600\u001b[0m\u001b[1;33m\u001b[0m\u001b[1;33m\u001b[0m\u001b[0m\n\u001b[0m",
      "\u001b[1;31mOverflowError\u001b[0m: (34, 'Result too large')"
     ]
    }
   ],
   "source": [
    "22.0**600"
   ]
  },
  {
   "cell_type": "markdown",
   "metadata": {
    "id": "yYTP_Da1xcdM"
   },
   "source": [
    "## 2. Comparison/Relational operators\n",
    "\n",
    "Comparison operators are used to **compare values**. It either returns **True** or **False** according to the **condition**.\n",
    "\n",
    "| Symbol | Task Performed | Meaning | Example |\n",
    "|:----:| :--- |:--- |:---: |\n",
    "| **`>`** | greater than | True if left operand is greater than the right | **x > y** |\n",
    "| **`<`** | less than | True if left operand is less than the right | **x < y** |\n",
    "| **`==`** | equal to | True if both operands are equal | **x == y** |\n",
    "| **`!=`**  | not equal to | True if both operands are not equal | **x != y** |\n",
    "| **`>=`**  | greater than or equal to | True if left operand is greater than or equal to the right | **x >= y** |\n",
    "| **`<=`**  | less than or equal to | True if left operand is less than or equal to the right | **x <= y** |\n",
    "\n",
    "Note the difference between **`==`** (equality test) and **`=`** (assignment)\n",
    "\n",
    "#### Example : Comparison operators in Python"
   ]
  },
  {
   "cell_type": "code",
   "execution_count": null,
   "metadata": {
    "ExecuteTime": {
     "end_time": "2021-10-02T08:25:38.142518Z",
     "start_time": "2021-10-02T08:25:38.121036Z"
    },
    "id": "57MwK2YXxcdN",
    "outputId": "5e860e0e-c264-4d1d-8fd5-c99643cd7195",
    "scrolled": true
   },
   "outputs": [
    {
     "name": "stdout",
     "output_type": "stream",
     "text": [
      "True\n",
      "True\n",
      "False\n",
      "True\n",
      "True\n",
      "False\n",
      "True\n",
      "False\n",
      "True\n",
      "True\n",
      "False\n",
      "True\n",
      "True\n",
      "False\n"
     ]
    }
   ],
   "source": [
    "print(6 > 3)                           # True, because 3 is greater than 2\n",
    "print(6 >= 3)                          # True, because 3 is greater than 2\n",
    "print(6 < 3)                           # False,  because 3 is greater than 2\n",
    "print(3 < 6)                           # True, because 2 is less than 3\n",
    "print(3 <= 6)                          # True, because 2 is less than 3\n",
    "print(6 == 3)                          # False, because 3 is not equal to 2\n",
    "print(6 != 3)                          # True, because 3 is not equal to 2\n",
    "print(len(\"apple\") == len(\"avocado\"))  # False\n",
    "print(len(\"apple\") != len(\"avocado\"))  # True\n",
    "print(len(\"apple\") < len(\"avocado\"))   # True\n",
    "print(len(\"banana\") != len(\"orange\"))  # False\n",
    "print(len(\"banana\") == len(\"orange\"))  # True\n",
    "print(len(\"tomato\") == len(\"potato\"))  # True\n",
    "print(len(\"python\") > len(\"coding\"))   # False"
   ]
  },
  {
   "cell_type": "code",
   "execution_count": null,
   "metadata": {
    "ExecuteTime": {
     "end_time": "2021-10-02T08:25:38.770445Z",
     "start_time": "2021-10-02T08:25:38.728454Z"
    },
    "id": "bGBktB9zxcdN",
    "outputId": "03a1ebec-e711-4e5b-e89b-605556d06eac"
   },
   "outputs": [
    {
     "name": "stdout",
     "output_type": "stream",
     "text": [
      "x > y is True\n",
      "x < y is False\n",
      "x >= y is True\n",
      "x <= y is False\n"
     ]
    }
   ],
   "source": [
    "x = 30\n",
    "y = 22\n",
    "\n",
    "print('x > y is',x>y)   # False\n",
    "print('x < y is',x<y)   # True\n",
    "print('x >= y is',x>=y) # False\n",
    "print('x <= y is',x<=y) # True"
   ]
  },
  {
   "cell_type": "code",
   "execution_count": null,
   "metadata": {
    "ExecuteTime": {
     "end_time": "2021-10-02T08:25:39.016540Z",
     "start_time": "2021-10-02T08:25:39.007753Z"
    },
    "id": "jQo150vFxcdO",
    "outputId": "11341ef4-7a73-43bf-84e2-49129d5e5856"
   },
   "outputs": [
    {
     "data": {
      "text/plain": [
       "True"
      ]
     },
     "execution_count": 15,
     "metadata": {},
     "output_type": "execute_result"
    }
   ],
   "source": [
    "z = 3  # 3 is assign to variable z\n",
    "z == 3 # 3 is equal to z"
   ]
  },
  {
   "cell_type": "code",
   "execution_count": null,
   "metadata": {
    "ExecuteTime": {
     "end_time": "2021-10-02T08:25:39.277771Z",
     "start_time": "2021-10-02T08:25:39.266053Z"
    },
    "id": "lUvrwtFjxcdP",
    "outputId": "a622bc65-fb03-484c-b8c5-c1aaeeae292d",
    "scrolled": true
   },
   "outputs": [
    {
     "data": {
      "text/plain": [
       "False"
      ]
     },
     "execution_count": 16,
     "metadata": {},
     "output_type": "execute_result"
    }
   ],
   "source": [
    "z > 3"
   ]
  },
  {
   "cell_type": "markdown",
   "metadata": {
    "id": "h-doK1IWxcdR"
   },
   "source": [
    "Comparisons can also be chained in the mathematically obvious way. The following will work as expected in Python (but not in other languages like C/C++):"
   ]
  },
  {
   "cell_type": "code",
   "execution_count": null,
   "metadata": {
    "ExecuteTime": {
     "end_time": "2021-10-02T08:25:39.740660Z",
     "start_time": "2021-10-02T08:25:39.722109Z"
    },
    "id": "gTlEn4nexcdR",
    "outputId": "e02e55b8-b5cc-48bf-e358-13ac8a211187"
   },
   "outputs": [
    {
     "data": {
      "text/plain": [
       "False"
      ]
     },
     "execution_count": 17,
     "metadata": {},
     "output_type": "execute_result"
    }
   ],
   "source": [
    "0.5 < z <= 1   # z == 3"
   ]
  },
  {
   "cell_type": "markdown",
   "metadata": {
    "id": "_JheLkATxcdR"
   },
   "source": [
    "## 3. Logical/Boolean operators\n",
    "\n",
    "Logical operators are the **`and`**, **`or`**, **`not`** operators.\n",
    "\n",
    "| Symbol | Meaning | Example |\n",
    "|:----:| :---: |:---:|\n",
    "| **`and`** |  True if both the operands are true | **x and y** |\n",
    "| **`or`** |  True if either of the operand is true | **x or y** |\n",
    "| **`not`** |  True if operand are false (complements the operand) | **not x** |\n",
    "\n",
    "\n",
    "#### Example : Logical operators in Python"
   ]
  },
  {
   "cell_type": "code",
   "execution_count": null,
   "metadata": {
    "ExecuteTime": {
     "end_time": "2021-10-02T08:25:40.184507Z",
     "start_time": "2021-10-02T08:25:40.169373Z"
    },
    "id": "IdJh_7dwxcdS",
    "outputId": "e530bc6d-8378-4f7b-d876-0dfe60bbac85",
    "scrolled": true
   },
   "outputs": [
    {
     "name": "stdout",
     "output_type": "stream",
     "text": [
      "True == True:  True\n",
      "True == False:  False\n",
      "False == False: True\n",
      "True and True:  True\n",
      "True or False: True\n"
     ]
    }
   ],
   "source": [
    "print('True == True: ', True == True)\n",
    "print('True == False: ', True == False)\n",
    "print('False == False:', False == False)\n",
    "print('True and True: ', True and True)\n",
    "print('True or False:', True or False)"
   ]
  },
  {
   "cell_type": "code",
   "execution_count": null,
   "metadata": {
    "ExecuteTime": {
     "end_time": "2021-10-02T08:25:40.415466Z",
     "start_time": "2021-10-02T08:25:40.390077Z"
    },
    "id": "H_hTo9euxcdS",
    "outputId": "4f468980-36af-42e1-8cfe-3206cd4c8155",
    "scrolled": true
   },
   "outputs": [
    {
     "name": "stdout",
     "output_type": "stream",
     "text": [
      "1 is 1 True\n",
      "1 is not 2 True\n",
      "A in Milaan False\n",
      "B in Milaan False\n",
      "True\n",
      "a in an: True\n",
      "27 is 3 ** 3: True\n"
     ]
    },
    {
     "name": "stderr",
     "output_type": "stream",
     "text": [
      "<>:3: SyntaxWarning: \"is\" with a literal. Did you mean \"==\"?\n",
      "<>:4: SyntaxWarning: \"is not\" with a literal. Did you mean \"!=\"?\n",
      "<>:9: SyntaxWarning: \"is\" with a literal. Did you mean \"==\"?\n",
      "<>:3: SyntaxWarning: \"is\" with a literal. Did you mean \"==\"?\n",
      "<>:4: SyntaxWarning: \"is not\" with a literal. Did you mean \"!=\"?\n",
      "<>:9: SyntaxWarning: \"is\" with a literal. Did you mean \"==\"?\n",
      "<ipython-input-19-7c9145eb11e9>:3: SyntaxWarning: \"is\" with a literal. Did you mean \"==\"?\n",
      "  print('1 is 1', 1 is 1)                  # True  - because the data values are the same\n",
      "<ipython-input-19-7c9145eb11e9>:4: SyntaxWarning: \"is not\" with a literal. Did you mean \"!=\"?\n",
      "  print('1 is not 2', 1 is not 2)          # True  - because 1 is not 2\n",
      "<ipython-input-19-7c9145eb11e9>:9: SyntaxWarning: \"is\" with a literal. Did you mean \"==\"?\n",
      "  print('27 is 3 ** 3:', 27 is 3**3)       # True\n"
     ]
    }
   ],
   "source": [
    "# Another way comparison\n",
    "\n",
    "print('1 is 1', 1 is 1)                  # True  - because the data values are the same\n",
    "print('1 is not 2', 1 is not 2)          # True  - because 1 is not 2\n",
    "print('A in Milaan', 'A' in 'Milaan')    # True  - A found in the string\n",
    "print('B in Milaan', 'B' in 'Milaan')    # False - there is no uppercase B\n",
    "print('python' in 'python is fun')       # True  - because coding for all has the word coding\n",
    "print('a in an:', 'a' in 'an')           # True\n",
    "print('27 is 3 ** 3:', 27 is 3**3)       # True"
   ]
  },
  {
   "cell_type": "code",
   "execution_count": null,
   "metadata": {
    "ExecuteTime": {
     "end_time": "2021-10-02T08:25:40.632261Z",
     "start_time": "2021-10-02T08:25:40.610778Z"
    },
    "id": "jSNWXXknxcdS",
    "outputId": "9cbd052c-15de-4c2c-a9f0-085d9aa74712"
   },
   "outputs": [
    {
     "name": "stdout",
     "output_type": "stream",
     "text": [
      "True\n",
      "False\n",
      "False\n",
      "True\n",
      "True\n",
      "False\n",
      "False\n",
      "False\n",
      "True\n",
      "True\n",
      "False\n"
     ]
    }
   ],
   "source": [
    "print(6 > 3 and 5 > 3) # True  - because both statements are true\n",
    "print(6 > 3 and 5 < 3) # False - because the second statement is false\n",
    "print(6 < 3 and 5 < 3) # False - because both statements are false\n",
    "print(6 > 3 or 5 > 3)  # True  - because both statements are true\n",
    "print(6 > 3 or 5 < 3)  # True  - because one of the statement is true\n",
    "print(6 < 3 or 5 < 3)  # False - because both statements are false\n",
    "print(not 6 > 3)       # False - because 6 > 3 is true, then not True gives False\n",
    "print(not True)        # False - Negation, the not operator turns true to false\n",
    "print(not False)       # True\n",
    "print(not not True)    # True\n",
    "print(not not False)   # False"
   ]
  },
  {
   "cell_type": "code",
   "execution_count": null,
   "metadata": {
    "ExecuteTime": {
     "end_time": "2021-10-02T08:25:40.815854Z",
     "start_time": "2021-10-02T08:25:40.802187Z"
    },
    "id": "bRaeTLcZxcdT",
    "outputId": "d84d3d2a-92fc-462d-e00d-4d1892a51fc1",
    "scrolled": false
   },
   "outputs": [
    {
     "name": "stdout",
     "output_type": "stream",
     "text": [
      "x and y is False\n",
      "x or y is True\n",
      "not x is False\n"
     ]
    }
   ],
   "source": [
    "x = True\n",
    "y = False\n",
    "\n",
    "print('x and y is',x and y) # False\n",
    "print('x or y is',x or y) # True\n",
    "print('not x is',not x) # False"
   ]
  },
  {
   "cell_type": "code",
   "execution_count": null,
   "metadata": {
    "ExecuteTime": {
     "end_time": "2021-10-02T08:25:41.047300Z",
     "start_time": "2021-10-02T08:25:41.025817Z"
    },
    "id": "epPr6eNBxcdU",
    "outputId": "5848c5f7-1b3b-4682-ede2-49544c5f879e"
   },
   "outputs": [
    {
     "data": {
      "text/plain": [
       "False"
      ]
     },
     "execution_count": 22,
     "metadata": {},
     "output_type": "execute_result"
    }
   ],
   "source": [
    "True and (not(not False)) or (True and (not True))  # What will be output?\n",
    "\n",
    "# True and (not(True)) or (True and (False))\n",
    "# True and False or (False)\n",
    "# False or False\n",
    "# False"
   ]
  },
  {
   "cell_type": "markdown",
   "metadata": {
    "id": "-2jtn7gUxcdV"
   },
   "source": [
    "## 4. Bitwise operators\n",
    "\n",
    "Bitwise operators act on operands as if they were string of binary digits. It operates **bit by bit**, hence the name.\n",
    "\n",
    "**For example:** 2 is **`10`** in binary and 7 is **`111`**.\n",
    "\n",
    "**In the table below:** Let **`x`** = 10 (**`0000 1010`** in binary) and **`y`** = 4 (**`0000 0100`** in binary)\n",
    "\n",
    "| Operator | Meaning  | Symbol | Task Performed | Example |\n",
    "|:---:|:---:| :---:|:---:|:---:|\n",
    "|**`and`** | Logical and |  **`&`**    | Bitwise And | **x & y** = 0 (**`0000 0000`**) |\n",
    "|**`or`**  | Logical or  |  **$\\mid$** | Bitwise OR  | **x \\| y** = 14 (**`0000 1110`**) |\n",
    "|**`not`** | Not         |  **`~`**    | Bitwise NOT | **~x** = -11 (**`1111 0101`**) |\n",
    "| &nbsp;   |&nbsp;       |    **`^`**  | Bitwise XOR | **x ^ y** = 14 (**`0000 1110`**) |\n",
    "| &nbsp;   |&nbsp;       |   **`>>`**  | Bitwise right shift | **x >> 2** = 2 (**`0000 0010`**) |\n",
    "| &nbsp;   |&nbsp;       |   **`<<`**  | Bitwise left shift | **x << 2** = 40 (**`0010 1000`**) |"
   ]
  },
  {
   "cell_type": "code",
   "execution_count": null,
   "metadata": {
    "ExecuteTime": {
     "end_time": "2021-10-02T08:25:41.648375Z",
     "start_time": "2021-10-02T08:25:41.638613Z"
    },
    "id": "D8-fU6V7xcdV",
    "outputId": "ac1a13d2-5f95-4346-9abb-aedbfa6cdfa6"
   },
   "outputs": [
    {
     "name": "stdout",
     "output_type": "stream",
     "text": [
      "a & b = 2 = 0b10\n"
     ]
    }
   ],
   "source": [
    "a = 2 #binary: 0010\n",
    "b = 3 #binary: 0011\n",
    "print('a & b =',a & b,\"=\",bin(a&b))"
   ]
  },
  {
   "cell_type": "code",
   "execution_count": null,
   "metadata": {
    "ExecuteTime": {
     "end_time": "2021-10-02T08:25:41.877864Z",
     "start_time": "2021-10-02T08:25:41.862241Z"
    },
    "id": "mFq-4KVLxcdV",
    "outputId": "f81d5dc6-e65b-4c36-a4e6-8bc5e92fb361",
    "scrolled": true
   },
   "outputs": [
    {
     "data": {
      "text/plain": [
       "2"
      ]
     },
     "execution_count": 24,
     "metadata": {},
     "output_type": "execute_result"
    }
   ],
   "source": [
    "5 >> 1\n",
    "\n",
    "# 0 ➡ 0000 0101\n",
    "#      0000 0010\n",
    "# 0010 is 2 in decimal"
   ]
  },
  {
   "cell_type": "markdown",
   "metadata": {
    "id": "xyzGwt6NxcdW"
   },
   "source": [
    "**Explanation**:\n",
    "\n",
    "0000 0101 -> 5  (5 is 0101 in binary)\n",
    "\n",
    "Shifting the digits by 1 to the right and zero padding that will be: 0 ➡ 0000 0101 = 0000 0010\n",
    "\n",
    "0000 0010 -> 2"
   ]
  },
  {
   "cell_type": "code",
   "execution_count": null,
   "metadata": {
    "ExecuteTime": {
     "end_time": "2021-10-02T08:25:42.355408Z",
     "start_time": "2021-10-02T08:25:42.345642Z"
    },
    "id": "pl8sKFJMxcdW",
    "outputId": "2aac0cf0-3ada-4b03-8d02-9096f30f8b4f",
    "scrolled": true
   },
   "outputs": [
    {
     "data": {
      "text/plain": [
       "10"
      ]
     },
     "execution_count": 25,
     "metadata": {},
     "output_type": "execute_result"
    }
   ],
   "source": [
    "5 << 1\n",
    "\n",
    "# 0000 0101  ⬅ 0\n",
    "# 0000 1010\n",
    "# 1010 is 10 in decimal"
   ]
  },
  {
   "cell_type": "markdown",
   "metadata": {
    "id": "FU59fLU8xcdX"
   },
   "source": [
    "**Explanation**:\n",
    "\n",
    "0000 0101 -> 5\n",
    "\n",
    "Shifting the digits by 1 to the left and zero padding will be: 0000 0101  ⬅ 0 = 0000 1010\n",
    "\n",
    "0000 1010 -> 10"
   ]
  },
  {
   "cell_type": "code",
   "execution_count": null,
   "metadata": {
    "ExecuteTime": {
     "end_time": "2021-10-02T08:25:43.707945Z",
     "start_time": "2021-10-02T08:25:43.696227Z"
    },
    "id": "SddvvZRNxcdX",
    "outputId": "aa344b98-3f8f-4689-a48c-255708f89a29"
   },
   "outputs": [
    {
     "data": {
      "text/plain": [
       "1"
      ]
     },
     "execution_count": 26,
     "metadata": {},
     "output_type": "execute_result"
    }
   ],
   "source": [
    "6 >> 2  # What will be output???"
   ]
  },
  {
   "cell_type": "code",
   "execution_count": null,
   "metadata": {
    "ExecuteTime": {
     "end_time": "2021-10-02T08:25:43.925717Z",
     "start_time": "2021-10-02T08:25:43.913024Z"
    },
    "id": "uwxFI0UJxcdX",
    "outputId": "68eed68a-2451-43bb-e58c-fc3ba6aaadda",
    "scrolled": true
   },
   "outputs": [
    {
     "name": "stdout",
     "output_type": "stream",
     "text": [
      "True == True\n"
     ]
    }
   ],
   "source": [
    "print(not (True and False), \"==\", not True or not False)\n",
    "#      TRUE                  ==     True"
   ]
  },
  {
   "cell_type": "code",
   "execution_count": null,
   "metadata": {
    "ExecuteTime": {
     "end_time": "2021-10-02T08:25:44.170833Z",
     "start_time": "2021-10-02T08:25:44.157164Z"
    },
    "id": "cKxujHKRxcdh",
    "outputId": "0330bf0f-a086-4755-c416-f7e5a58e1b1e"
   },
   "outputs": [
    {
     "name": "stdout",
     "output_type": "stream",
     "text": [
      "False == False\n"
     ]
    }
   ],
   "source": [
    "print (False and (not False) or (False and True), \"==\",not (True and (not False) or (not True)))"
   ]
  },
  {
   "cell_type": "markdown",
   "metadata": {
    "id": "2Zrz4lyHxcdi"
   },
   "source": [
    "## 5. Assignment operators\n",
    "\n",
    "Assignment operators are used in Python to **assign values** to **variables**.\n",
    "\n",
    "**`a = 5`** is a simple assignment operator that assigns the value 5 on the right to the variable **`a`** on the left.\n",
    "\n",
    "There are various compound operators in Python like a **`+= 5`** that adds to the variable and later assigns the same. It is equivalent to **`a = a + 5`**.\n",
    "\n",
    "| Symbol | Example | Equivalent to |\n",
    "|:---:|:---:|:---:|\n",
    "| **`=`** | **x = 5** | **x = 5** |\n",
    "| **`+=`** | **x += 5** | **x = x + 5** |\n",
    "| **`-=`** | **x -= 5** | **x = x - 5** |\n",
    "| **`*=`** | **x \\*= 5** | **x = x \\* 5** |\n",
    "| **`/=`** | **x /= 5** | **x = x / 5** |\n",
    "| **`%=`** | **x %= 5** | **x = x % 5** |\n",
    "| **`//=`** | **x //= 5** | **x = x // 5** |\n",
    "| <b>`**=`</b> | **x \\*\\*= 5** | **x = x \\*\\* 5** |\n",
    "| **`&=`** | **x &= 5** | **x = x & 5** |\n",
    "| **`\\|=`** | **x \\|= 5** | **x = x \\| 5** |\n",
    "| **`^=`** | **x ^= 5** | **x = x ^ 5** |\n",
    "| **`>>=`** | **x >>= 5** | **x = x >> 5** |\n",
    "| **`<<=`** | **x <<= 5** | **x = x << 5** |"
   ]
  },
  {
   "cell_type": "markdown",
   "metadata": {
    "id": "RtaFEgmsxcdi"
   },
   "source": [
    "The binary operators can be combined with assignment to modify a variable value. For example:"
   ]
  },
  {
   "cell_type": "code",
   "execution_count": null,
   "metadata": {
    "ExecuteTime": {
     "end_time": "2021-10-02T08:25:44.848078Z",
     "start_time": "2021-10-02T08:25:44.830504Z"
    },
    "id": "P276pLpFxcdi",
    "outputId": "c81f5f9d-d934-4c54-ce11-388b28121099"
   },
   "outputs": [
    {
     "name": "stdout",
     "output_type": "stream",
     "text": [
      "x is 3\n",
      "x is 12\n",
      "x is 144\n"
     ]
    }
   ],
   "source": [
    "x = 1\n",
    "x += 2 # add 2 to x\n",
    "print(\"x is\",x)\n",
    "x <<= 2 # left shift by 2 (equivalent to x *= 4)\n",
    "print('x is',x)\n",
    "x **= 2 # x := x^2\n",
    "print('x is',x)"
   ]
  },
  {
   "cell_type": "markdown",
   "metadata": {
    "id": "0pbI4A7Pxcdj"
   },
   "source": [
    "## 6. Special operators\n",
    "\n",
    "Python language offers some special types of operators like the identity operator or the membership operator. They are described below with examples."
   ]
  },
  {
   "cell_type": "markdown",
   "metadata": {
    "id": "86N8I5k-xcdj"
   },
   "source": [
    "### 1. Identity operators\n",
    "\n",
    "**`is`** and **`is not`** are the identity operators in Python. They are used to check if two values (or variables) are located on the same part of the **memory**. Two variables that are equal does not imply that they are **identical**.\n",
    "\n",
    "| Symbol | Meaning | Example |\n",
    "|:---:| :---: |:---:|\n",
    "| **`is`** |  True if the operands are identical (refer to the same object) | **x is True**  |\n",
    "| **`is not`** |  True if the operands are not identical (do not refer to the same object)  | **x is not True** |\n",
    "\n",
    "#### Example : Identity operators in Python"
   ]
  },
  {
   "cell_type": "code",
   "execution_count": null,
   "metadata": {
    "ExecuteTime": {
     "end_time": "2021-10-02T08:25:45.559015Z",
     "start_time": "2021-10-02T08:25:45.542417Z"
    },
    "id": "NXB2Sz0excdk",
    "outputId": "eb0aa1ee-0484-42b2-f215-f96212df02d5"
   },
   "outputs": [
    {
     "name": "stdout",
     "output_type": "stream",
     "text": [
      "False\n",
      "True\n",
      "False\n"
     ]
    }
   ],
   "source": [
    "x1 = 6\n",
    "y1 = 6\n",
    "x2 = 'Hello'\n",
    "y2 = 'Hello'\n",
    "x3 = [1,2,3] # list\n",
    "y3 = [1,2,3] # list\n",
    "\n",
    "# Output: False\n",
    "print(x1 is not y1)\n",
    "\n",
    "# Output: True\n",
    "print(x2 is y2)\n",
    "\n",
    "# Output: False because two list [] can never be equal\n",
    "print(x3 is y3)"
   ]
  },
  {
   "cell_type": "markdown",
   "metadata": {
    "id": "pMrjEKbBxcdl"
   },
   "source": [
    "**Explanation:**\n",
    "\n",
    "Here, we see that **`x1`** and **`y1`** are integers of same values, so they are equal as well as identical. Same is the case with **`x2`** and **`y2`** (strings).\n",
    "\n",
    "But **`x3`** and **`y3`** are list. They are equal but not identical. It is because interpreter locates them **separately in memory** although they are equal."
   ]
  },
  {
   "cell_type": "code",
   "execution_count": null,
   "metadata": {
    "ExecuteTime": {
     "end_time": "2021-10-02T08:25:46.265068Z",
     "start_time": "2021-10-02T08:25:46.246518Z"
    },
    "id": "42hr2arrxcdn",
    "outputId": "7b603321-4975-491d-ca26-64b2c2151aae"
   },
   "outputs": [
    {
     "name": "stdout",
     "output_type": "stream",
     "text": [
      "True\n",
      "True\n",
      "True\n",
      "False\n"
     ]
    }
   ],
   "source": [
    "x = 'Hello world'\n",
    "y = {1:'a',2:'b'} # dictionary 1 is key and 'a' is element. So we access element without its key.\n",
    "\n",
    "# Output: True\n",
    "print('H' in x)  # Do we have 'H' in 'Hello World' ?\n",
    "\n",
    "# Output: True\n",
    "print('hello' not in x)  # Do we have 'hello' in 'Hello World' ?\n",
    "\n",
    "# Output: True\n",
    "print(1 in y)\n",
    "\n",
    "# Output: False because we cannot identify 'a' without its key hence it is Flase.\n",
    "print('a' in y)"
   ]
  },
  {
   "cell_type": "markdown",
   "metadata": {
    "id": "mCK9jCrGxcdn"
   },
   "source": [
    "**Explanation:**\n",
    "\n",
    "Here, **'`H`'** is in **`x`** but **'`hello`'** is not present in **`x`** (remember, Python is case sensitive). Similary, **`1`** is key and **'`a`'** is the value in dictionary y. Hence, **`'a'in y`** returns **`False`**."
   ]
  },
  {
   "cell_type": "markdown",
   "metadata": {
    "id": "wFbsKsx1xcdo"
   },
   "source": [
    "## 💻 Exercises ➞ <span class='label label-default'>Operators</span>\n",
    "\n",
    "1. Declare your age as integer variable\n",
    "2. Declare your height as a float variable\n",
    "3. Declare a variable that store a complex number\n",
    "4. Write a code that prompts the user to enter base and height of the triangle and calculate an area of this triangle (area = 0.5 x b x h).\n",
    "\n",
    "```py\n",
    "    Enter base: 20\n",
    "    Enter height: 10\n",
    "    The area of the triangle is 100\n",
    "```\n",
    "\n",
    "5. Write a code that prompts the user to enter side a, side b, and side c of the triangle. Calculate the perimeter of the triangle (perimeter = a + b + c).\n",
    "\n",
    "```py\n",
    "Enter side a: 5\n",
    "Enter side b: 4\n",
    "Enter side c: 3\n",
    "The perimeter of the triangle is 12\n",
    "```\n",
    "\n",
    "6. Get length and width of a rectangle using prompt. Calculate its area (**area = length x width**) and perimeter (**perimeter = 2 x (length + width)**)\n",
    "7. Get radius of a circle using prompt. Calculate the area (**area = pi x r x r**) and circumference (**c = 2 x pi x r**) where pi = 3.14.\n",
    "8. Calculate the slope, x-intercept and y-intercept of $y = 2x -2$\n",
    "9. Slope is ($m = (y2-y1)/(x2-x1)$). Find the slope and **[Euclidean distance](https://en.wikipedia.org/wiki/Euclidean_distance#:~:text=In%20mathematics%2C%20the%20Euclidean%20distance,being%20called%20the%20Pythagorean%20distance.)** between point (2, 2) and point (6,10)\n",
    "10. Compare the slopes in tasks 8 and 9.\n",
    "11. Calculate the value of y ($y = x^2 + 6x + 9$). Try to use different x values and figure out at what x value y is going to be 0.\n",
    "12. Find the length of **`'python'`** and **`'datascience'`** and make a falsy comparison statement.\n",
    "13. Use **`and`** operator to check if **`on`** is found in both **`python`** and **`cannon`**\n",
    "14. **`I hope this course is not full of jargon`**. Use **`in`** operator to check if **`jargon`** is in the sentence.\n",
    "15. There is no **`on`** in both **`python`** and **`cannon`**\n",
    "16. Find the length of the text **`python`** and convert the value to float and convert it to string\n",
    "17. Even numbers are divisible by 2 and the remainder is zero. How do you check if a number is even or not using python?\n",
    "18. Check if the floor division of 7 by 3 is equal to the int converted value of 2.7.\n",
    "19. Check if type of **\"10\"** is equal to type of 10\n",
    "20. Check if int(**\"9.6\"**) is equal to 10\n",
    "21. Write a code that prompts the user to enter hours and rate per hour. Calculate pay of the person?\n",
    "\n",
    "```py\n",
    "Enter hours: 40\n",
    "Enter rate per hour: 30\n",
    "Your weekly earning is 1200\n",
    "```\n",
    "\n",
    "22. Write a script that prompts the user to enter number of years. Calculate the number of seconds a person can live. Assume a person can live hundred years\n",
    "\n",
    "```py\n",
    "Enter number of years you have lived: 100\n",
    "You have lived for 3153600000 seconds.\n",
    "```\n",
    "\n",
    "23. Write a Python code that displays the following table\n",
    "\n",
    "```py\n",
    "1 2 3 4 5  \n",
    "2 4 6 8 10\n",
    "3 6 9 12 15\n",
    "4 8 12 16 20\n",
    "5 10 15 20 25\n",
    "```"
   ]
  },
  {
   "cell_type": "code",
   "execution_count": null,
   "metadata": {
    "id": "oP8J5c83xcdo"
   },
   "outputs": [],
   "source": []
  },
  {
   "cell_type": "markdown",
   "metadata": {
    "id": "0_lPZeX6xdfY"
   },
   "source": [
    "# Python Namespace and Scope\n",
    "\n",
    "In this tutorial, you will learn about namespace, mapping from names to objects, and scope of a variable."
   ]
  },
  {
   "cell_type": "code",
   "execution_count": null,
   "metadata": {
    "ExecuteTime": {
     "end_time": "2021-06-22T17:09:01.664271Z",
     "start_time": "2021-06-22T17:09:01.657435Z"
    },
    "id": "pEVUUIIHxdfZ",
    "outputId": "c1062cc1-6732-4a64-f5f7-8805bd33aba1"
   },
   "outputs": [
    {
     "name": "stdout",
     "output_type": "stream",
     "text": [
      "id(9) = 140708960741424\n",
      "id(a) = 140708960741424\n"
     ]
    }
   ],
   "source": [
    "# Note: You may get different values for the id\n",
    "\n",
    "a = 9\n",
    "print('id(9) =', id(9))\n",
    "\n",
    "print('id(a) =', id(a))"
   ]
  },
  {
   "cell_type": "markdown",
   "metadata": {
    "id": "In8aIGEyxdfa"
   },
   "source": [
    "Here, both refer to the same object **`9`**, so they have the same **`id()`**. Let's make things a little more interesting."
   ]
  },
  {
   "cell_type": "code",
   "execution_count": null,
   "metadata": {
    "ExecuteTime": {
     "end_time": "2021-06-22T17:09:07.161795Z",
     "start_time": "2021-06-22T17:09:07.144217Z"
    },
    "id": "AHpcgCVdxdfa",
    "outputId": "0548b725-9029-481c-ac0a-a1e9c9c4673b"
   },
   "outputs": [
    {
     "name": "stdout",
     "output_type": "stream",
     "text": [
      "id(a) = 140708960741200\n",
      "id(a) = 140708960741232\n",
      "id(3) = 140708960741232\n",
      "id(b) = 140708960741200\n",
      "id(2) = 140708960741200\n"
     ]
    }
   ],
   "source": [
    "# Note: You may get different values for the id\n",
    "\n",
    "a = 2\n",
    "print('id(a) =', id(a))\n",
    "\n",
    "a = a+1\n",
    "print('id(a) =', id(a))\n",
    "\n",
    "print('id(3) =', id(3))\n",
    "\n",
    "b = 2\n",
    "print('id(b) =', id(b))\n",
    "print('id(2) =', id(2))"
   ]
  },
  {
   "cell_type": "markdown",
   "metadata": {
    "id": "0N7WiQosxdfa"
   },
   "source": [
    "What is happening in the above sequence of steps? Let's use a diagram to explain this:\n",
    "\n",
    "**Memory diagram of variables in Python**:\n",
    "\n",
    "<div>\n",
    "<img src=\"../img/ns1.png\" width=\"500\"/>\n",
    "</div>"
   ]
  },
  {
   "cell_type": "markdown",
   "metadata": {
    "id": "yRReRj3Kxdfa"
   },
   "source": [
    "Initially, an object **`2`** is created and the name a is associated with it, when we do **`a = a+1`**, a new object **`3`** is created and now a is associated with this object.\n",
    "\n",
    "Note that **`id(a)`** and **`id(3)`** have the same values.\n",
    "\n",
    "Furthermore, when **`b = 2`** is executed, the new name **`b`** gets associated with the previous object **`2`**.\n",
    "\n",
    "This is efficient as Python does not have to create a new duplicate object. This dynamic nature of name binding makes Python powerful; a name could refer to any type of object.\n",
    "\n",
    "```python\n",
    ">>>a = 5\n",
    ">>>a = 'Hello World!'\n",
    ">>>a = [1,2,3]\n",
    "```"
   ]
  },
  {
   "cell_type": "code",
   "execution_count": null,
   "metadata": {
    "ExecuteTime": {
     "end_time": "2021-06-22T17:09:29.115275Z",
     "start_time": "2021-06-22T17:09:29.105508Z"
    },
    "id": "VfaQw2qcxdfb",
    "outputId": "c8ae115d-14a4-41fd-bfbf-508d81b4399a"
   },
   "outputs": [
    {
     "name": "stdout",
     "output_type": "stream",
     "text": [
      "Hello\n"
     ]
    }
   ],
   "source": [
    "def printHello():\n",
    "    print(\"Hello\")\n",
    "\n",
    "a = printHello\n",
    "\n",
    "a()"
   ]
  },
  {
   "cell_type": "markdown",
   "metadata": {
    "id": "pmDUHIEExdfb"
   },
   "source": [
    "The same name **`a`** can refer to a function and we can call the function using this name."
   ]
  },
  {
   "cell_type": "markdown",
   "metadata": {
    "id": "xkcBsmWmxdfc"
   },
   "source": [
    "## Python Variable Scope\n",
    "\n",
    "Although there are various unique namespaces defined, we may not be able to access all of them from every part of the program. The concept of scope comes into play.\n",
    "\n",
    "A scope is the portion of a program from where a namespace can be accessed directly without any prefix.\n",
    "\n",
    "At any given moment, there are at least three nested scopes.\n",
    "\n",
    "1. Scope of the current function which has local names\n",
    "2. Scope of the module which has global names\n",
    "3. Outermost scope which has built-in names\n",
    "\n",
    "When a reference is made inside a function, the name is searched in the local namespace, then in the global namespace and finally in the built-in namespace.\n",
    "\n",
    "If there is a function inside another function, a new scope is nested inside the local scope."
   ]
  },
  {
   "cell_type": "markdown",
   "metadata": {
    "id": "MhFGAlX4xdfc"
   },
   "source": [
    "Example of Scope and Namespace in Python\n",
    "\n",
    "```python\n",
    ">>>def outer_function():\n",
    ">>>    b = 30\n",
    ">>>    def inner_func():\n",
    ">>>        c = 60\n",
    "\n",
    ">>>a = 90\n",
    "```\n",
    "\n",
    "Here, the variable **`a`** is in the global namespace. Variable **`b`** is in the local namespace of **`outer_function()`** and **`c`** is in the nested local namespace of **`inner_function()`**.\n",
    "\n",
    "When we are in **`inner_function()`**, **`c`** is local to us, **`b`** is nonlocal and **`a`** is global. We can read as well as assign new values to **`c`** but can only read **`b`** and **`a`** from **`inner_function()`**.\n",
    "\n",
    "If we try to assign as a value to **`b`**, a new variable **`b`** is created in the local namespace which is different than the nonlocal **`b`**. The same thing happens when we assign a value to **`a`**.\n",
    "\n",
    "However, if we declare **`a`** as global, all the reference and assignment go to the global **`a`**. Similarly, if we want to rebind the variable **`b`**, it must be declared as nonlocal. The following example will further clarify this."
   ]
  },
  {
   "cell_type": "code",
   "execution_count": null,
   "metadata": {
    "ExecuteTime": {
     "end_time": "2021-06-22T17:11:16.576081Z",
     "start_time": "2021-06-22T17:11:16.565338Z"
    },
    "id": "ZjlhFL0Hxdfc",
    "outputId": "9533a6d5-001e-4dd6-a08c-2929bf8b50c7"
   },
   "outputs": [
    {
     "name": "stdout",
     "output_type": "stream",
     "text": [
      "a = 60\n",
      "a = 30\n",
      "a = 90\n"
     ]
    }
   ],
   "source": [
    "def outer_function():\n",
    "    a = 30\n",
    "\n",
    "    def inner_function():\n",
    "        a = 60\n",
    "        print('a =', a)\n",
    "\n",
    "    inner_function()\n",
    "    print('a =', a)\n",
    "\n",
    "\n",
    "a = 90\n",
    "outer_function()\n",
    "print('a =', a)"
   ]
  },
  {
   "cell_type": "markdown",
   "metadata": {
    "id": "kEi5i8k3xdfd"
   },
   "source": [
    "In this program, three different variables **`a`** are defined in separate namespaces and accessed accordingly. While in the following program,"
   ]
  },
  {
   "cell_type": "code",
   "execution_count": null,
   "metadata": {
    "ExecuteTime": {
     "end_time": "2021-06-22T17:11:21.608276Z",
     "start_time": "2021-06-22T17:11:21.588748Z"
    },
    "id": "JES_JNpQxdfd",
    "outputId": "ef542673-2f16-4ab3-8467-0366474b7326"
   },
   "outputs": [
    {
     "name": "stdout",
     "output_type": "stream",
     "text": [
      "a = 60\n",
      "a = 60\n",
      "a = 60\n"
     ]
    }
   ],
   "source": [
    "def outer_function():\n",
    "    global a\n",
    "    a = 30\n",
    "\n",
    "    def inner_function():\n",
    "        global a\n",
    "        a = 60\n",
    "        print('a =', a)\n",
    "\n",
    "    inner_function()\n",
    "    print('a =', a)\n",
    "\n",
    "\n",
    "a = 90\n",
    "outer_function()\n",
    "print('a =', a)"
   ]
  },
  {
   "cell_type": "markdown",
   "metadata": {
    "id": "SFlHF0Q7xdfd"
   },
   "source": [
    "Here, all references and assignments are to the global **`a`** due to the use of keyword **`global`**."
   ]
  },
  {
   "cell_type": "code",
   "execution_count": null,
   "metadata": {
    "id": "dL7eg_Dhxdfd"
   },
   "outputs": [],
   "source": []
  }
 ],
 "metadata": {
  "colab": {
   "provenance": []
  },
  "gist": {
   "data": {
    "description": "01_Learn_Python4Data/01_Python_Introduction/005_Python_Keywords_and_Identifiers.ipynb",
    "public": true
   },
   "id": ""
  },
  "hide_input": false,
  "kernelspec": {
   "display_name": "Python 3 (ipykernel)",
   "language": "python",
   "name": "python3"
  },
  "language_info": {
   "codemirror_mode": {
    "name": "ipython",
    "version": 3
   },
   "file_extension": ".py",
   "mimetype": "text/x-python",
   "name": "python",
   "nbconvert_exporter": "python",
   "pygments_lexer": "ipython3",
   "version": "3.10.9"
  },
  "toc": {
   "base_numbering": 1,
   "nav_menu": {},
   "number_sections": true,
   "sideBar": true,
   "skip_h1_title": false,
   "title_cell": "Table of Contents",
   "title_sidebar": "Contents",
   "toc_cell": false,
   "toc_position": {},
   "toc_section_display": true,
   "toc_window_display": false
  },
  "varInspector": {
   "cols": {
    "lenName": 16,
    "lenType": 16,
    "lenVar": 40
   },
   "kernels_config": {
    "python": {
     "delete_cmd_postfix": "",
     "delete_cmd_prefix": "del ",
     "library": "var_list.py",
     "varRefreshCmd": "print(var_dic_list())"
    },
    "r": {
     "delete_cmd_postfix": ") ",
     "delete_cmd_prefix": "rm(",
     "library": "var_list.r",
     "varRefreshCmd": "cat(var_dic_list()) "
    }
   },
   "types_to_exclude": [
    "module",
    "function",
    "builtin_function_or_method",
    "instance",
    "_Feature"
   ],
   "window_display": false
  }
 },
 "nbformat": 4,
 "nbformat_minor": 0
}
