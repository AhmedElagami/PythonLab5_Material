{
 "cells": [
  {
   "cell_type": "markdown",
   "metadata": {
    "id": "6qs4mitB1DLI"
   },
   "source": [
    "# Python Numbers, Type Conversion and Mathematics\n",
    "\n",
    "In this class, you'll learn about the different numbers used in Python, how to convert from one data type to the other, and the mathematical operations supported in Python."
   ]
  },
  {
   "cell_type": "code",
   "execution_count": null,
   "metadata": {
    "ExecuteTime": {
     "end_time": "2021-06-09T13:39:54.836631Z",
     "start_time": "2021-06-09T13:39:54.814237Z"
    },
    "id": "rcJMCub-1DLK",
    "outputId": "959d5cf4-d975-4c01-e50c-03cb53f4e557",
    "scrolled": true
   },
   "outputs": [
    {
     "name": "stdout",
     "output_type": "stream",
     "text": [
      "<class 'int'>\n",
      "<class 'float'>\n",
      "(9+3j)\n",
      "True\n"
     ]
    }
   ],
   "source": [
    "a = 6\n",
    "\n",
    "print(type(a)) # type integer\n",
    "\n",
    "print(type(5.0))  # type float\n",
    "\n",
    "c = 6 + 3j\n",
    "print(c + 3)\n",
    "\n",
    "print(isinstance(c, complex))"
   ]
  },
  {
   "cell_type": "markdown",
   "metadata": {
    "id": "kAsZyGKM1DLL"
   },
   "source": [
    "While integers can be of any length, it is only limited by the memory available.\n",
    "\n",
    "The numbers we deal with every day are of the decimal (base 10) number system. But computer programmers (generally embedded programmers) need to work with binary (base 2), hexadecimal (base 16) and octal (base 8) number systems.\n",
    "\n",
    "In Python, we can represent these numbers by appropriately placing a prefix before that number. The following table lists these prefixes.\n",
    "\n",
    "| Number System | Prefix |\n",
    "|:----| :--- |\n",
    "| **`Binary`** |   '0b' or '0B' |\n",
    "| **`Octal`** |   '0o' or '0O' |\n",
    "| **`Hexadecimal`** |   '0x' or '0X' |"
   ]
  },
  {
   "cell_type": "code",
   "execution_count": null,
   "metadata": {
    "ExecuteTime": {
     "end_time": "2021-06-09T13:40:00.295883Z",
     "start_time": "2021-06-09T13:40:00.269591Z"
    },
    "id": "9EMwrPZW1DLL",
    "outputId": "21a35e8d-f8d0-41d2-86a4-ced2a6b89b4a"
   },
   "outputs": [
    {
     "name": "stdout",
     "output_type": "stream",
     "text": [
      "1\n",
      "10\n",
      "10\n"
     ]
    }
   ],
   "source": [
    "# Example 1:\n",
    "\n",
    "# Output: 1\n",
    "print(0b0001)  # 0001 in binary is 1 in decimal and i have use prefix '0b'\n",
    "\n",
    "# Output: 10\n",
    "print(0o12)    # 12 in octadecimal is 10 in decimal and i have use prefix '0o'\n",
    "\n",
    "# Output: 10\n",
    "print(0x000A)  # 000A in hexadecimal is 10 in decimal and i have use prefix '0x'"
   ]
  },
  {
   "cell_type": "code",
   "execution_count": null,
   "metadata": {
    "ExecuteTime": {
     "end_time": "2021-06-09T13:40:03.236343Z",
     "start_time": "2021-06-09T13:40:03.229524Z"
    },
    "id": "h5UXWMaP1DLM",
    "outputId": "12593c49-fa0e-46d2-f3c3-bb7067d8f730"
   },
   "outputs": [
    {
     "name": "stdout",
     "output_type": "stream",
     "text": [
      "107\n",
      "253\n",
      "13\n"
     ]
    }
   ],
   "source": [
    "# Example 2:\n",
    "\n",
    "# Output: 107\n",
    "print(0b1101011)\n",
    "\n",
    "# Output: 253 (251 + 2)\n",
    "print(0xFB + 0b10) # adding Hex numbers with binary numbers.\n",
    "\n",
    "# Output: 13\n",
    "print(0o15)"
   ]
  },
  {
   "cell_type": "markdown",
   "metadata": {
    "id": "ld0MMvdY1DLM"
   },
   "source": [
    "## Type Conversion\n",
    "\n",
    "We can convert one type of number into another. This is also known as coercion.\n",
    "\n",
    "Operations like addition, subtraction coerce integer to float implicitly (automatically), if one of the operands is float."
   ]
  },
  {
   "cell_type": "code",
   "execution_count": null,
   "metadata": {
    "ExecuteTime": {
     "end_time": "2021-06-09T13:40:07.415500Z",
     "start_time": "2021-06-09T13:40:07.386289Z"
    },
    "id": "-DwDJOLS1DLN",
    "outputId": "83dcbdfb-84e1-4be4-ba4e-c48832d2831d"
   },
   "outputs": [
    {
     "data": {
      "text/plain": [
       "4.0"
      ]
     },
     "execution_count": 4,
     "metadata": {},
     "output_type": "execute_result"
    }
   ],
   "source": [
    "1 + 3.0  # adding integer number '1' and a float number '3.0'. The answer will be flaot number '4.0'."
   ]
  },
  {
   "cell_type": "markdown",
   "metadata": {
    "id": "knBuZlOZ1DLN"
   },
   "source": [
    "We can see above that 1 (integer) is coerced into 1.0 (float) for addition and the result is also a floating point number."
   ]
  },
  {
   "cell_type": "code",
   "execution_count": null,
   "metadata": {
    "ExecuteTime": {
     "end_time": "2021-06-09T13:40:09.224378Z",
     "start_time": "2021-06-09T13:40:09.212691Z"
    },
    "id": "Lsv-_Jru1DLN",
    "outputId": "4491a4ca-b72f-4459-da1f-4cb46855da57"
   },
   "outputs": [
    {
     "data": {
      "text/plain": [
       "6"
      ]
     },
     "execution_count": 5,
     "metadata": {},
     "output_type": "execute_result"
    }
   ],
   "source": [
    "int(6.3)"
   ]
  },
  {
   "cell_type": "code",
   "execution_count": null,
   "metadata": {
    "ExecuteTime": {
     "end_time": "2021-06-09T13:40:10.144156Z",
     "start_time": "2021-06-09T13:40:10.126624Z"
    },
    "id": "3msQ8Vfr1DLO",
    "outputId": "e84b7c86-c4e9-47f6-92c4-68023cd182ec"
   },
   "outputs": [
    {
     "data": {
      "text/plain": [
       "-2"
      ]
     },
     "execution_count": 6,
     "metadata": {},
     "output_type": "execute_result"
    }
   ],
   "source": [
    "int(-2.7)"
   ]
  },
  {
   "cell_type": "code",
   "execution_count": null,
   "metadata": {
    "ExecuteTime": {
     "end_time": "2021-06-09T13:40:11.438365Z",
     "start_time": "2021-06-09T13:40:11.430574Z"
    },
    "id": "Thx0946e1DLO",
    "outputId": "2422f8d7-478c-4f78-ab74-e2f4118836b5"
   },
   "outputs": [
    {
     "data": {
      "text/plain": [
       "9.0"
      ]
     },
     "execution_count": 7,
     "metadata": {},
     "output_type": "execute_result"
    }
   ],
   "source": [
    "float(9)"
   ]
  },
  {
   "cell_type": "code",
   "execution_count": null,
   "metadata": {
    "ExecuteTime": {
     "end_time": "2021-06-09T13:40:14.787832Z",
     "start_time": "2021-06-09T13:40:14.774195Z"
    },
    "id": "k3D4x54l1DLO",
    "outputId": "8014d95d-dcb6-4c55-ebd7-c0493230fe2d"
   },
   "outputs": [
    {
     "name": "stdout",
     "output_type": "stream",
     "text": [
      "1234567890123456789\n",
      "0.12345678901234568\n",
      "(1+2j)\n"
     ]
    }
   ],
   "source": [
    "a = 1234567890123456789\n",
    "print (a)\n",
    "\n",
    "b = 0.1234567890123456789 # total of only 17 numbers after decimal can be printed.\n",
    "print (b)\n",
    "\n",
    "c = 1+2j\n",
    "print (c)"
   ]
  },
  {
   "cell_type": "markdown",
   "metadata": {
    "id": "4CDQN7vu1DLP"
   },
   "source": [
    "When converting from float to integer, the number gets truncated (decimal parts are removed)."
   ]
  },
  {
   "cell_type": "code",
   "execution_count": null,
   "metadata": {
    "ExecuteTime": {
     "end_time": "2021-06-09T13:40:33.713101Z",
     "start_time": "2021-06-09T13:40:33.705314Z"
    },
    "id": "IpXtgbqm1DLP",
    "outputId": "ebca333d-06aa-438a-d5ac-c42b12260c19"
   },
   "outputs": [
    {
     "data": {
      "text/plain": [
       "(3+6j)"
      ]
     },
     "execution_count": 9,
     "metadata": {},
     "output_type": "execute_result"
    }
   ],
   "source": [
    "complex('3+6j')"
   ]
  },
  {
   "cell_type": "markdown",
   "metadata": {
    "id": "-QHbyML91DLQ"
   },
   "source": [
    "## Python Decimal\n",
    "\n",
    "Python built-in class float performs some calculations that might amaze us. We all know that the sum of 1.1 and 2.2 is 3.3, but Python seems to disagree."
   ]
  },
  {
   "cell_type": "code",
   "execution_count": null,
   "metadata": {
    "ExecuteTime": {
     "end_time": "2021-06-09T13:40:37.769560Z",
     "start_time": "2021-06-09T13:40:37.749111Z"
    },
    "id": "kQGaqUxK1DLQ",
    "outputId": "00889837-1ca1-4a4f-d350-5e0c665f1cbd"
   },
   "outputs": [
    {
     "data": {
      "text/plain": [
       "False"
      ]
     },
     "execution_count": 10,
     "metadata": {},
     "output_type": "execute_result"
    }
   ],
   "source": [
    "(1.1 + 2.2) == 3.3  # The answer should be True but..."
   ]
  },
  {
   "cell_type": "markdown",
   "metadata": {
    "id": "qe7gSn5E1DLQ"
   },
   "source": [
    "**What is going on?**\n",
    "\n",
    "It turns out that floating-point numbers are implemented in computer hardware as binary fractions as the computer only understands binary (0 and 1). Due to this reason, most of the decimal fractions we know, cannot be accurately stored in our computer.\n",
    "\n",
    "Let's take an example. We cannot represent the fraction 1/3 as a decimal number. This will give 0.33333333... which is infinitely long, and we can only approximate it.\n",
    "\n",
    "It turns out that the decimal fraction 0.1 will result in an infinitely long binary fraction of 0.000110011001100110011... and our computer only stores a finite number of it.\n",
    "\n",
    "This will only approximate 0.1 but never be equal. Hence, it is the limitation of our computer hardware and not an error in Python."
   ]
  },
  {
   "cell_type": "code",
   "execution_count": null,
   "metadata": {
    "ExecuteTime": {
     "end_time": "2021-06-09T13:40:41.836307Z",
     "start_time": "2021-06-09T13:40:41.826509Z"
    },
    "id": "f2U8fvuc1DLR",
    "outputId": "ccbd53ae-5c4e-4f19-ec92-6f3b1407efb6"
   },
   "outputs": [
    {
     "data": {
      "text/plain": [
       "3.3000000000000003"
      ]
     },
     "execution_count": 11,
     "metadata": {},
     "output_type": "execute_result"
    }
   ],
   "source": [
    "1.1 + 2.2"
   ]
  },
  {
   "cell_type": "markdown",
   "metadata": {
    "id": "f8dR9Zfz1DLR"
   },
   "source": [
    "To overcome this issue, we can use the decimal module that comes with Python. While floating-point numbers have precision up to 15 decimal places, the decimal module has user-settable precision.\n",
    "\n",
    "Let's see the difference:"
   ]
  },
  {
   "cell_type": "code",
   "execution_count": null,
   "metadata": {
    "ExecuteTime": {
     "end_time": "2021-06-09T13:40:43.925581Z",
     "start_time": "2021-06-09T13:40:43.891988Z"
    },
    "id": "gAK73Oq51DLR",
    "outputId": "e49d9ca5-39e7-4cc0-cfb1-7f6048935361"
   },
   "outputs": [
    {
     "name": "stdout",
     "output_type": "stream",
     "text": [
      "0.1\n",
      "0.1000000000000000055511151231257827021181583404541015625\n"
     ]
    }
   ],
   "source": [
    "import decimal\n",
    "\n",
    "print(0.1)\n",
    "\n",
    "print(decimal.Decimal(0.1))"
   ]
  },
  {
   "cell_type": "markdown",
   "metadata": {
    "id": "M_uctD1I1DLS"
   },
   "source": [
    "This module is used when we want to carry out decimal calculations as we learned in school.\n",
    "\n",
    "It also preserves significance. We know 25.50 kg is more accurate than 25.5 kg as it has two significant decimal places compared to one."
   ]
  },
  {
   "cell_type": "code",
   "execution_count": null,
   "metadata": {
    "ExecuteTime": {
     "end_time": "2021-06-09T13:40:47.340782Z",
     "start_time": "2021-06-09T13:40:47.331044Z"
    },
    "id": "xDqM11tE1DLS",
    "outputId": "37ea2ef7-c918-4283-9bf1-7e5234c4a9ed",
    "scrolled": true
   },
   "outputs": [
    {
     "name": "stdout",
     "output_type": "stream",
     "text": [
      "3.3\n",
      "3.000\n"
     ]
    }
   ],
   "source": [
    "from decimal import Decimal as D\n",
    "\n",
    "print(D('1.1') + D('2.2'))\n",
    "\n",
    "print(D('1.2') * D('2.50'))"
   ]
  },
  {
   "cell_type": "markdown",
   "metadata": {
    "id": "g7ZG7Zi91DLS"
   },
   "source": [
    "Notice the trailing zeroes in the above example.\n",
    "\n",
    "We might ask, why not implement **`Decimal`** every time, instead of float? The main reason is efficiency. Floating point operations are carried out must faster than **`Decimal`** operations."
   ]
  },
  {
   "cell_type": "markdown",
   "metadata": {
    "id": "09aVpbol1DLS"
   },
   "source": [
    "### When to use Decimal instead of float?\n",
    "\n",
    "We generally use Decimal in the following cases.\n",
    "\n",
    "1. When we are making financial applications that need exact decimal representation.\n",
    "2. When we want to control the level of precision required.\n",
    "3. When we want to implement the notion of significant decimal places."
   ]
  },
  {
   "cell_type": "markdown",
   "metadata": {
    "id": "9RCqYlyE1DLT"
   },
   "source": [
    "## Python Fractions\n",
    "\n",
    "Python provides operations involving fractional numbers through its **`fractions`** module.\n",
    "\n",
    "A fraction has a numerator and a denominator, both of which are integers. This module has support for rational number arithmetic.\n",
    "\n",
    "We can create Fraction objects in various ways. Let's have a look at them."
   ]
  },
  {
   "cell_type": "code",
   "execution_count": null,
   "metadata": {
    "ExecuteTime": {
     "end_time": "2021-06-09T13:40:58.266592Z",
     "start_time": "2021-06-09T13:40:58.204752Z"
    },
    "id": "brGFjEOX1DLT",
    "outputId": "972b2aab-212b-4b08-f957-fff11ffe2f28"
   },
   "outputs": [
    {
     "name": "stdout",
     "output_type": "stream",
     "text": [
      "3/2\n",
      "9\n",
      "1/6\n"
     ]
    }
   ],
   "source": [
    "import fractions\n",
    "\n",
    "print(fractions.Fraction(1.5))\n",
    "\n",
    "print(fractions.Fraction(9))\n",
    "\n",
    "print(fractions.Fraction(1,6))"
   ]
  },
  {
   "cell_type": "markdown",
   "metadata": {
    "id": "hmerSoNk1DLT"
   },
   "source": [
    "While creating **`Fraction`** from **`float`**, we might get some unusual results. This is due to the imperfect binary floating point number representation as discussed in the previous section.\n",
    "\n",
    "Fortunately, **`Fraction`** allows us to instantiate with string as well. This is the preferred option when using decimal numbers."
   ]
  },
  {
   "cell_type": "code",
   "execution_count": null,
   "metadata": {
    "ExecuteTime": {
     "end_time": "2021-06-09T13:41:01.089215Z",
     "start_time": "2021-06-09T13:41:01.077530Z"
    },
    "id": "m8Zek3qh1DLT",
    "outputId": "48fe12c6-f97a-4f27-e23e-8b245d409289"
   },
   "outputs": [
    {
     "name": "stdout",
     "output_type": "stream",
     "text": [
      "2476979795053773/2251799813685248\n",
      "11/10\n"
     ]
    }
   ],
   "source": [
    "import fractions\n",
    "\n",
    "# As float\n",
    "# Output: 2476979795053773/2251799813685248\n",
    "print(fractions.Fraction(1.1))  # 1.1 is a number\n",
    "\n",
    "# As string\n",
    "# Output: 11/10\n",
    "print(fractions.Fraction('1.1'))  #'1.1' is a string and not a number"
   ]
  },
  {
   "cell_type": "markdown",
   "metadata": {
    "id": "pcniafRo1DLT"
   },
   "source": [
    "This data type supports all basic operations. Here are a few examples."
   ]
  },
  {
   "cell_type": "code",
   "execution_count": null,
   "metadata": {
    "ExecuteTime": {
     "end_time": "2021-06-09T13:41:04.422615Z",
     "start_time": "2021-06-09T13:41:04.410926Z"
    },
    "id": "w6i39-2I1DLU",
    "outputId": "92164400-10c7-4823-b313-a783ebc948c9"
   },
   "outputs": [
    {
     "name": "stdout",
     "output_type": "stream",
     "text": [
      "5854679515581645/2251799813685248\n",
      "2/3\n",
      "6/5\n",
      "False\n",
      "True\n"
     ]
    }
   ],
   "source": [
    "from fractions import Fraction as F  # I changed my Fraction module name to \"F\"\n",
    "\n",
    "print(F(1.3) + F(1.3))\n",
    "\n",
    "print(F(1, 3) + F(1, 3))\n",
    "\n",
    "print(1 / F(5, 6))\n",
    "\n",
    "print(F(-3, 10) > 0)\n",
    "\n",
    "print(F(-3, 10) < 0)"
   ]
  },
  {
   "cell_type": "markdown",
   "metadata": {
    "id": "u3doTtVu1DLU"
   },
   "source": [
    "## Python Mathematics\n",
    "\n",
    "Python offers modules like **`math`** and **`random`** to carry out different mathematics like trigonometry, logarithms, probability and statistics, etc."
   ]
  },
  {
   "cell_type": "code",
   "execution_count": null,
   "metadata": {
    "ExecuteTime": {
     "end_time": "2021-06-09T13:41:11.981916Z",
     "start_time": "2021-06-09T13:41:11.950755Z"
    },
    "id": "w4dLuN4J1DLU",
    "outputId": "97b15f15-f7c6-4ce7-e8e4-75269a9a6652"
   },
   "outputs": [
    {
     "name": "stdout",
     "output_type": "stream",
     "text": [
      "3.141592653589793\n",
      "-1.0\n",
      "22026.465794806718\n",
      "3.0\n",
      "1.1752011936438014\n",
      "720\n"
     ]
    }
   ],
   "source": [
    "import math\n",
    "\n",
    "print(math.pi)\n",
    "\n",
    "print(math.cos(math.pi)) # cos(pi) = -1\n",
    "\n",
    "print(math.exp(10))\n",
    "\n",
    "print(math.log10(1000)) # log10(1000) = 3\n",
    "\n",
    "print(math.sinh(1))\n",
    "\n",
    "print(math.factorial(6))"
   ]
  },
  {
   "cell_type": "code",
   "execution_count": null,
   "metadata": {
    "ExecuteTime": {
     "end_time": "2021-06-09T13:41:19.484249Z",
     "start_time": "2021-06-09T13:41:19.465749Z"
    },
    "id": "rGLEg5yP1DLU",
    "outputId": "b6b7a2a1-7312-42b7-df81-aae952732ba6"
   },
   "outputs": [
    {
     "name": "stdout",
     "output_type": "stream",
     "text": [
      "15\n",
      "b\n",
      "['d', 'c', 'e', 'a', 'b']\n",
      "0.8036360430009386\n"
     ]
    }
   ],
   "source": [
    "import random\n",
    "\n",
    "print(random.randrange(10, 20))\n",
    "\n",
    "x = ['a', 'b', 'c', 'd', 'e'] # x is a list class of variable and it has 5 elements.\n",
    "\n",
    "# Get random choice\n",
    "print(random.choice(x))\n",
    "\n",
    "# Shuffle x\n",
    "random.shuffle(x)\n",
    "\n",
    "# Print the shuffled x\n",
    "print(x)\n",
    "\n",
    "# Print random element\n",
    "print(random.random())"
   ]
  },
  {
   "cell_type": "markdown",
   "metadata": {
    "id": "SZtD79XS1DLV"
   },
   "source": [
    "When we run the above program we get the output as follows. (Values may be different due to the random behavior)"
   ]
  },
  {
   "cell_type": "code",
   "execution_count": null,
   "metadata": {
    "id": "m6xAzA1x1DLa"
   },
   "outputs": [],
   "source": []
  },
  {
   "cell_type": "markdown",
   "metadata": {
    "id": "gyljdaH01EvM"
   },
   "source": [
    "# Python Strings\n",
    "\n",
    "In this class you will learn to create, format, modify and delete strings in Python. Also, you will be introduced to various string operations and functions."
   ]
  },
  {
   "cell_type": "markdown",
   "metadata": {
    "id": "G7JgoAxw1EvN"
   },
   "source": [
    "## What is String in Python?\n",
    "\n",
    "A string is a built-in type sequence of characters. It is used to handle **textual data** in python. Python **Strings are immutable sequences** of **Unicode** points. Creating Strings are simplest and easy to use in Python."
   ]
  },
  {
   "cell_type": "markdown",
   "metadata": {
    "id": "tC1KxGKp1EvO"
   },
   "source": [
    "### Summary\n",
    "\n",
    "| Data types     | Type          |         |\n",
    "| :------------: | :-----------: |:------: |\n",
    "| **String**     | **immutable** |  |"
   ]
  },
  {
   "cell_type": "markdown",
   "metadata": {
    "id": "qypz1oZA1EvO"
   },
   "source": [
    "A character is simply a symbol. For example, the English language has 26 characters.\n",
    "\n",
    "Computers do not deal with characters, they deal with numbers (binary). Even though you may see characters on your screen, internally it is stored and manipulated as a combination of 0s and 1s.\n",
    "\n",
    "This conversion of character to a number is called encoding, and the reverse process is decoding. ASCII and Unicode are some of the popular encodings used.\n",
    "\n",
    "In Python, a string is a sequence of Unicode characters. Unicode was introduced to include every character in all languages and bring uniformity in encoding. These Unicodes range from **$0_{hex}$** to **$10FFFF_{hex}$**. Normally, a Unicode is referred to by writing **\"U+\"** followed by its **hexadecimal** number. Thus strings in Python are a sequence of Unicode values. You can learn about Unicode from **[Python Unicode](https://docs.python.org/3.3/howto/unicode.html)**.\n",
    "\n",
    "<div>\n",
    "<img src=\"img/s0.png\" width=\"600\"/>\n",
    "</div>"
   ]
  },
  {
   "cell_type": "markdown",
   "metadata": {
    "id": "UA5asD051EvP"
   },
   "source": [
    "## How to create a string in Python?\n",
    "\n",
    "Strings can be created by enclosing characters inside a **single quote** or **double-quotes**. Even **triple quotes** can be used in Python but generally used to represent multiline strings and docstrings."
   ]
  },
  {
   "cell_type": "code",
   "execution_count": null,
   "metadata": {
    "id": "Wu26d_hZ1EvP",
    "outputId": "8fce914b-c207-43e6-8ca9-964757b38dca",
    "scrolled": true
   },
   "outputs": [
    {
     "name": "stdout",
     "output_type": "stream",
     "text": [
      "999\n",
      "<class 'int'>\n",
      "999\n",
      "<class 'str'>\n"
     ]
    }
   ],
   "source": [
    "# Example:\n",
    "\n",
    "print(999)          # ▶ 999 ∵ integer number\n",
    "print(type(999))    # ▶ <class 'int'>\n",
    "\n",
    "print(\"999\")        # ▶ 999 ∵ Watever we write inside \" \" it become string\n",
    "print(type(\"999\"))  # ▶ <class 'str'>"
   ]
  },
  {
   "cell_type": "code",
   "execution_count": null,
   "metadata": {
    "ExecuteTime": {
     "end_time": "2021-10-02T09:53:46.494092Z",
     "start_time": "2021-10-02T09:53:46.468698Z"
    },
    "id": "wdvX8dYU1EvR",
    "outputId": "11fdaaa6-5808-448d-c434-063373104042"
   },
   "outputs": [
    {
     "name": "stdout",
     "output_type": "stream",
     "text": [
      "Hello\n",
      "Hello\n",
      "Hello\n",
      "Hello, welcome to\n",
      "           the world of Python\n"
     ]
    }
   ],
   "source": [
    "# Example: defining strings in Python\n",
    "\n",
    "my_string = 'Hello'  # A string could be a single character or a bunch of texts\n",
    "print(my_string)     # ▶ Hello\n",
    "\n",
    "my_string = \"Hello\"\n",
    "print(my_string)     # ▶ Hello\n",
    "\n",
    "my_string = '''Hello'''\n",
    "print(my_string)     # ▶ Hello\n",
    "\n",
    "# triple quotes string can extend multiple lines\n",
    "my_string = \"\"\"Hello, welcome to\n",
    "           the world of Python\"\"\"\n",
    "print(my_string)"
   ]
  },
  {
   "cell_type": "code",
   "execution_count": null,
   "metadata": {
    "ExecuteTime": {
     "end_time": "2021-10-02T09:53:46.616178Z",
     "start_time": "2021-10-02T09:53:46.496045Z"
    },
    "id": "GtBgHLyA1EvR",
    "outputId": "f37e560d-5199-4409-cd07-96ba60cbcca4"
   },
   "outputs": [
    {
     "name": "stdout",
     "output_type": "stream",
     "text": [
      "I am a resarcher cum teacher and I enjoy teaching.\n",
      "I didn't find anything as rewarding as empowering people.\n",
      "That's why I created this repository.\n"
     ]
    }
   ],
   "source": [
    "# Multiline String\n",
    "\n",
    "multiline_string = '''I am a resarcher cum teacher and I enjoy teaching.\n",
    "I didn't find anything as rewarding as empowering people.\n",
    "That's why I created this repository.'''\n",
    "print(multiline_string)"
   ]
  },
  {
   "cell_type": "code",
   "execution_count": null,
   "metadata": {
    "ExecuteTime": {
     "end_time": "2021-10-02T09:53:46.833005Z",
     "start_time": "2021-10-02T09:53:46.621061Z"
    },
    "id": "8gPmSM5H1EvS",
    "outputId": "5cca3552-a7f0-488d-edeb-327897d8a90d",
    "scrolled": true
   },
   "outputs": [
    {
     "name": "stdout",
     "output_type": "stream",
     "text": [
      "I am a resarcher cum teacher and I enjoy teaching.\n",
      "I didn't find anything as rewarding as empowering people.\n",
      "That's why I created this repository.\n"
     ]
    }
   ],
   "source": [
    "# Another way of doing the same thing\n",
    "\n",
    "multiline_string = \"\"\"I am a researcher cum teacher and I enjoy teaching.\n",
    "I didn't find anything as rewarding as empowering people.\n",
    "That's why I created this repository.\"\"\"\n",
    "print(multiline_string)"
   ]
  },
  {
   "cell_type": "code",
   "execution_count": null,
   "metadata": {
    "ExecuteTime": {
     "end_time": "2021-10-02T09:53:47.017601Z",
     "start_time": "2021-10-02T09:53:46.843749Z"
    },
    "id": "6b48WaKI1EvS",
    "outputId": "0a3a2a56-5f55-4428-fee4-f5e7af57a7bf"
   },
   "outputs": [
    {
     "name": "stdout",
     "output_type": "stream",
     "text": [
      "P\n",
      "y\n",
      "t\n",
      "h\n",
      "o\n",
      "n\n"
     ]
    },
    {
     "ename": "NameError",
     "evalue": "name 'h' is not defined",
     "output_type": "error",
     "traceback": [
      "\u001b[1;31m---------------------------------------------------------------------------\u001b[0m",
      "\u001b[1;31mNameError\u001b[0m                                 Traceback (most recent call last)",
      "\u001b[1;32m<ipython-input-4-3da34cc7641e>\u001b[0m in \u001b[0;36m<module>\u001b[1;34m\u001b[0m\n\u001b[0;32m      9\u001b[0m \u001b[0mprint\u001b[0m\u001b[1;33m(\u001b[0m\u001b[0me\u001b[0m\u001b[1;33m)\u001b[0m \u001b[1;31m# ▶ o\u001b[0m\u001b[1;33m\u001b[0m\u001b[1;33m\u001b[0m\u001b[0m\n\u001b[0;32m     10\u001b[0m \u001b[0mprint\u001b[0m\u001b[1;33m(\u001b[0m\u001b[0mf\u001b[0m\u001b[1;33m)\u001b[0m \u001b[1;31m# ▶ n\u001b[0m\u001b[1;33m\u001b[0m\u001b[1;33m\u001b[0m\u001b[0m\n\u001b[1;32m---> 11\u001b[1;33m \u001b[0mprint\u001b[0m\u001b[1;33m(\u001b[0m\u001b[0mh\u001b[0m\u001b[1;33m)\u001b[0m \u001b[1;31m# ▶  # error\u001b[0m\u001b[1;33m\u001b[0m\u001b[1;33m\u001b[0m\u001b[0m\n\u001b[0m",
      "\u001b[1;31mNameError\u001b[0m: name 'h' is not defined"
     ]
    }
   ],
   "source": [
    "# Unpacking characters\n",
    "\n",
    "language = 'Python'\n",
    "a,b,c,d,e,f = language # unpacking sequence characters into variables\n",
    "print(a) # ▶ P\n",
    "print(b) # ▶ y\n",
    "print(c) # ▶ t\n",
    "print(d) # ▶ h\n",
    "print(e) # ▶ o\n",
    "print(f) # ▶ n\n",
    "print(h) # ▶ NameError: name 'h' is not defined"
   ]
  },
  {
   "cell_type": "markdown",
   "metadata": {
    "id": "Ei4yAkw-1EvS"
   },
   "source": [
    "## How to access characters in a string?\n",
    "\n",
    "* In Python, Strings are stored as individual characters in a **contiguous memory location**.\n",
    "\n",
    "* The benefit of using String is that it can be accessed from both the **directions** (forward and backward).\n",
    "\n",
    "* Both forward as well as backward indexing are provided using Strings in Python.\n",
    "\n",
    "* Forward indexing starts with **`0,1,2,3,.... `**\n",
    "\n",
    "* Backward indexing starts with **`-1,-2,-3,-4,.... `**\n",
    "\n",
    "* Trying to access a character out of index range will raise an **`IndexError`**. The index must be an integer. We can't use floats or other types, this will result into **`IndexError`**.\n",
    "\n",
    "* Strings can be indexed with square brackets. Indexing starts from zero in Python.\n",
    "\n",
    "* We can access a range of items in a string by using the slicing operator **`:`**(colon).\n",
    "\n",
    "* And the **`len()`** function provides the length of a string\n",
    "\n",
    "```python\n",
    "str[0] = 'P' = str[-6] ,\n",
    "str[1] = 'Y' = str[-5] ,\n",
    "str[2] = 'T' = str[-4] ,\n",
    "str[3] = 'H' = str[-3] ,\n",
    "str[4] = 'O' = str[-2] , # refers to the second last item\n",
    "str[5] = 'N' = str[-1].  # refers to the last item\n",
    "```\n",
    "\n",
    "<div>\n",
    "<img src=\"img/s3.png\" width=\"300\"/>\n",
    "</div>"
   ]
  },
  {
   "cell_type": "code",
   "execution_count": null,
   "metadata": {
    "ExecuteTime": {
     "end_time": "2021-10-02T09:53:47.185588Z",
     "start_time": "2021-10-02T09:53:47.020531Z"
    },
    "id": "aeLZ4P5G1EvS",
    "outputId": "352cd21f-061e-4cf5-c573-b9fc76549627"
   },
   "outputs": [
    {
     "name": "stdout",
     "output_type": "stream",
     "text": [
      "P\n",
      "y\n",
      "n\n"
     ]
    }
   ],
   "source": [
    "language = 'Python'\n",
    "\n",
    "first_letter = language[0]\n",
    "print(first_letter)   # ▶ P\n",
    "\n",
    "second_letter = language[1]\n",
    "print(second_letter)  # ▶ y\n",
    "\n",
    "last_index = len(language) - 1  # ∵ 6-1=5\n",
    "last_letter = language[last_index]\n",
    "print(last_letter)    # ▶ n"
   ]
  },
  {
   "cell_type": "code",
   "execution_count": null,
   "metadata": {
    "ExecuteTime": {
     "end_time": "2021-10-02T09:53:47.400462Z",
     "start_time": "2021-10-02T09:53:47.189499Z"
    },
    "id": "M5NBQcBd1EvT",
    "outputId": "625194e9-c55f-4c05-cce2-b3fcc7019b28",
    "scrolled": false
   },
   "outputs": [
    {
     "name": "stdout",
     "output_type": "stream",
     "text": [
      "n\n",
      "o\n"
     ]
    }
   ],
   "source": [
    "# If we want to start from right end we can use negative indexing. -1 is the last index\n",
    "\n",
    "language = 'Python'\n",
    "last_letter = language[-1]\n",
    "print(last_letter) # ▶ n\n",
    "second_last = language[-2]\n",
    "print(second_last) # ▶ o"
   ]
  },
  {
   "cell_type": "markdown",
   "metadata": {
    "id": "xzpk379l1EvU"
   },
   "source": [
    "If we try to access an index out of the range or use numbers other than an integer, we will get errors."
   ]
  },
  {
   "cell_type": "code",
   "execution_count": null,
   "metadata": {
    "ExecuteTime": {
     "end_time": "2021-10-02T09:53:48.121265Z",
     "start_time": "2021-10-02T09:53:47.404372Z"
    },
    "id": "DpRG6GqY1EvU",
    "outputId": "cf03c126-8029-4063-f9fb-73492186c73c"
   },
   "outputs": [
    {
     "name": "stdout",
     "output_type": "stream",
     "text": [
      "str =  PYTHON\n"
     ]
    },
    {
     "ename": "TypeError",
     "evalue": "string indices must be integers",
     "output_type": "error",
     "traceback": [
      "\u001b[1;31m---------------------------------------------------------------------------\u001b[0m",
      "\u001b[1;31mTypeError\u001b[0m                                 Traceback (most recent call last)",
      "\u001b[1;32m<ipython-input-5-96052f3c0c69>\u001b[0m in \u001b[0;36m<module>\u001b[1;34m\u001b[0m\n\u001b[0;32m      4\u001b[0m \u001b[1;33m\u001b[0m\u001b[0m\n\u001b[0;32m      5\u001b[0m \u001b[1;31m# index must be an integer\u001b[0m\u001b[1;33m\u001b[0m\u001b[1;33m\u001b[0m\u001b[1;33m\u001b[0m\u001b[0m\n\u001b[1;32m----> 6\u001b[1;33m \u001b[0mprint\u001b[0m\u001b[1;33m(\u001b[0m\u001b[1;34m'str[1.50] = '\u001b[0m\u001b[1;33m,\u001b[0m \u001b[0mstr\u001b[0m\u001b[1;33m[\u001b[0m\u001b[1;36m1.5\u001b[0m\u001b[1;33m]\u001b[0m\u001b[1;33m)\u001b[0m\u001b[1;33m\u001b[0m\u001b[1;33m\u001b[0m\u001b[0m\n\u001b[0m\u001b[0;32m      7\u001b[0m \u001b[1;33m\u001b[0m\u001b[0m\n\u001b[0;32m      8\u001b[0m \u001b[1;31m# index must be in range\u001b[0m\u001b[1;33m\u001b[0m\u001b[1;33m\u001b[0m\u001b[1;33m\u001b[0m\u001b[0m\n",
      "\u001b[1;31mTypeError\u001b[0m: string indices must be integers"
     ]
    }
   ],
   "source": [
    "# Accessing string characters in Python\n",
    "str = 'PYTHON'\n",
    "print('str = ', str)               # ▶ str =  PYTHON\n",
    "\n",
    "# index must be an integer\n",
    "# print('str[1.50] = ', str[1.5])  # ▶ TypeError: string indices must be integers\n",
    "\n",
    "# index must be in range\n",
    "# print('str[15] = ', str[15])     # ▶ IndexError: string index out of range"
   ]
  },
  {
   "cell_type": "code",
   "execution_count": null,
   "metadata": {
    "ExecuteTime": {
     "end_time": "2021-10-02T09:54:16.060130Z",
     "start_time": "2021-10-02T09:54:16.039625Z"
    },
    "id": "VjhPjht31EvV",
    "outputId": "6b59ef80-1ee0-45dd-c78e-2b9a042c909c"
   },
   "outputs": [
    {
     "name": "stdout",
     "output_type": "stream",
     "text": [
      "M \t n\n",
      "i \t a\n",
      "l \t a\n",
      "a \t l\n",
      "a \t i\n",
      "n \t M\n"
     ]
    }
   ],
   "source": [
    "# Here, we are creating a simple program to retrieve String in reverse as well as normal form.\n",
    "\n",
    "name=\"Milaan\"\n",
    "length=len(name)\n",
    "i=0\n",
    "\n",
    "for n in range(-1,(-length-1),-1):\n",
    "    print(name[i],\"\\t\",name[n])\n",
    "    i+=1"
   ]
  },
  {
   "cell_type": "markdown",
   "metadata": {
    "id": "BlvQAZdj1EvV"
   },
   "source": [
    "## How to slice a string in Python?\n",
    "\n",
    "Python String **slice** can be defined as a **substring** which is the part of the string. Therefore further substring can be obtained from a string.\n",
    "\n",
    "There can be many forms to slice a string, as string can be accessed or indexed from both the direction and hence string can also be sliced from both the directions.\n",
    "\n",
    "Slicing can be best visualized by considering the index to be between the elements as shown below.\n",
    "\n",
    "If we want to access a range, we need the index that will slice the portion from the string.\n",
    "\n",
    "<div>\n",
    "<img src=\"img/s16.png\" width=\"300\"/>\n",
    "</div>\n",
    "\n",
    "**Syntax** of Slice Operator :\n",
    "\n",
    "```python\n",
    "str[start : stop : step ]\n",
    "```\n",
    "\n",
    "other syntax of slice:\n",
    "\n",
    "```python\n",
    "str[start : stop]  # items start through stop-1\n",
    "\n",
    "str[start : ]      # items start through the rest of the array\n",
    "\n",
    "str[ : stop]       # items from the beginning through stop-1\n",
    "\n",
    "str[ : ]           # a copy of the whole array\n",
    "```"
   ]
  },
  {
   "cell_type": "code",
   "execution_count": null,
   "metadata": {
    "id": "ULk9YXHv1EvV",
    "outputId": "7a3487c4-fec8-4681-c454-6cf13810b06d"
   },
   "outputs": [
    {
     "data": {
      "text/plain": [
       "'Pytho'"
      ]
     },
     "execution_count": 10,
     "metadata": {},
     "output_type": "execute_result"
    }
   ],
   "source": [
    "s = 'Python'\n",
    "\n",
    "# 0  1  2  3  4  5  <- Index number: POSITIVE\n",
    "# P  y  t  h  o  n\n",
    "#-6 -5 -4 -3 -2 -1  <- Index number: NEGATIVE\n",
    "\n",
    "# access elements in range with jump/skip\n",
    "#s[x:y:z] # Start: x Stop:y-1 Jump:z\n",
    "\n",
    "s[0:5:1]  # ▶ 'Pytho' ∵ Start:0  Stop:5  Jump:1"
   ]
  },
  {
   "cell_type": "code",
   "execution_count": null,
   "metadata": {
    "ExecuteTime": {
     "end_time": "2021-10-02T09:54:17.289791Z",
     "start_time": "2021-10-02T09:54:17.270261Z"
    },
    "id": "H6Psp9c71EvW",
    "outputId": "3931efdd-2cd5-4115-8844-4f2408f71165"
   },
   "outputs": [
    {
     "name": "stdout",
     "output_type": "stream",
     "text": [
      "The string '123456789' string is 9 characters long\n",
      "First character of 123456789 is 1\n",
      "Last character of 123456789 is 9\n",
      "Last character of 123456789 is 9\n"
     ]
    }
   ],
   "source": [
    "s = '123456789' # Indexing strats from 0 to 8\n",
    "\n",
    "print(\"The string '%s' string is %d characters long\" %(s, len(s)))\n",
    "print('First character of',s,'is',s[0])\n",
    "print('Last character of',s,'is',s[8])\n",
    "print('Last character of',s,'is',s[len(s)-1]) # [9-1] = [8] is 9"
   ]
  },
  {
   "cell_type": "markdown",
   "metadata": {
    "id": "tNsWNNUU1EvW"
   },
   "source": [
    "Negative indices can be used to start counting from the back"
   ]
  },
  {
   "cell_type": "code",
   "execution_count": null,
   "metadata": {
    "ExecuteTime": {
     "end_time": "2021-10-02T09:54:18.058451Z",
     "start_time": "2021-10-02T09:54:18.035014Z"
    },
    "id": "GUyWeBoK1EvW",
    "outputId": "5f518f71-a6bb-43bc-94f5-2b1c1466c3e2"
   },
   "outputs": [
    {
     "name": "stdout",
     "output_type": "stream",
     "text": [
      "First character of 123456789 is 1\n",
      "First character of 123456789 is 1\n",
      "Second character of 123456789 is 2\n",
      "Last character of 123456789 is 9\n"
     ]
    }
   ],
   "source": [
    "print('First character of',s,'is',s[-len(s)])\n",
    "print('First character of',s,'is',s[(-9)])\n",
    "print('Second character of',s,'is',s[(-8)])\n",
    "print('Last character of',s,'is',s[-1])"
   ]
  },
  {
   "cell_type": "markdown",
   "metadata": {
    "id": "KPYDd0N61EvX"
   },
   "source": [
    "Finally a substring (range of characters) an be specified as using $a:b$ to specify the characters at index $a,a+1,\\ldots,b-1$. Note that the last charcter is *not* included."
   ]
  },
  {
   "cell_type": "code",
   "execution_count": null,
   "metadata": {
    "ExecuteTime": {
     "end_time": "2021-10-02T09:54:18.903292Z",
     "start_time": "2021-10-02T09:54:18.888646Z"
    },
    "id": "6yVbNMnv1EvX",
    "outputId": "19015656-cf23-4f3c-9e80-02eacdbbb567",
    "scrolled": true
   },
   "outputs": [
    {
     "name": "stdout",
     "output_type": "stream",
     "text": [
      "First three characters 123\n",
      "Next three characters 456\n"
     ]
    }
   ],
   "source": [
    "print(\"First three characters\",s[0:3])\n",
    "print(\"Next three characters\",s[3:6])"
   ]
  },
  {
   "cell_type": "markdown",
   "metadata": {
    "id": "ALfmUTLB1EvX"
   },
   "source": [
    "An empty beginning and end of the range denotes the beginning/end of the string:"
   ]
  },
  {
   "cell_type": "code",
   "execution_count": null,
   "metadata": {
    "ExecuteTime": {
     "end_time": "2021-10-02T09:54:19.365269Z",
     "start_time": "2021-10-02T09:54:19.353554Z"
    },
    "id": "BK6uCrBK1EvX",
    "outputId": "e86ad585-0d80-4d2e-9fd9-1908e22c5004",
    "scrolled": true
   },
   "outputs": [
    {
     "name": "stdout",
     "output_type": "stream",
     "text": [
      "First three characters 123\n",
      "Last three characters 789\n"
     ]
    }
   ],
   "source": [
    "s = '123456789' #Indexing strats from 0 to 8\n",
    "print(\"First three characters\", s[:3])\n",
    "print(\"Last three characters\", s[-3:])"
   ]
  },
  {
   "cell_type": "code",
   "execution_count": null,
   "metadata": {
    "ExecuteTime": {
     "end_time": "2021-10-02T09:54:19.841898Z",
     "start_time": "2021-10-02T09:54:19.825296Z"
    },
    "id": "jrG2ULH31EvX",
    "outputId": "a1d457d8-df46-4302-8528-7cb2f9c82241",
    "scrolled": true
   },
   "outputs": [
    {
     "name": "stdout",
     "output_type": "stream",
     "text": [
      "str =  PYTHON\n",
      "str[0] =  P\n",
      "str[-1] =  N\n",
      "str[1:5] =  YTHO\n",
      "str[5:-2] =  HO\n"
     ]
    }
   ],
   "source": [
    "# Accessing string characters in Python\n",
    "\n",
    "str = 'PYTHON'\n",
    "print('str = ', str)\n",
    "\n",
    "#first character\n",
    "print('str[0] = ', str[0])\n",
    "\n",
    "#last character\n",
    "print('str[-1] = ', str[-1])\n",
    "\n",
    "#slicing 2nd to 5th character\n",
    "print('str[1:5] = ', str[1:5])\n",
    "\n",
    "#slicing 6th to 2nd last character\n",
    "print('str[5:-2] = ', str[3:-1])"
   ]
  },
  {
   "cell_type": "code",
   "execution_count": null,
   "metadata": {
    "ExecuteTime": {
     "end_time": "2021-10-02T09:54:20.282389Z",
     "start_time": "2021-10-02T09:54:20.181Z"
    },
    "id": "NG8A7Qo31EvY",
    "scrolled": false
   },
   "outputs": [],
   "source": [
    "# Example:\n",
    "\n",
    "s=\"Milan Python\"\n",
    "\n",
    "print(s[6:10])\n",
    "print(s[-12:-7])\n",
    "print(s[-1: :-1])  #reversed all string\n",
    "print(s[2: 10: 2]) #step = 2\n",
    "print(s[ : : -1])  #reversed all string\n",
    "print(s[ : 5])     #from 0 to 4\n",
    "print(s[3 : ])     #from 3 to end of the string\n",
    "print(s[ : ])      #copy all string"
   ]
  },
  {
   "cell_type": "markdown",
   "metadata": {
    "id": "IN42uo-P1EvY"
   },
   "source": [
    "**NOTE**: Both the operands passed for concatenation must be of same type, else it will show an error."
   ]
  },
  {
   "cell_type": "markdown",
   "metadata": {
    "id": "wmeyvn1L1EvY"
   },
   "source": [
    "## Breaking appart strings\n",
    "\n",
    "When processing text, the ability to split strings appart is particularly useful.\n",
    "\n",
    "* `partition(separator)`: breaks a string into three parts based on a separator\n",
    "\n",
    "* `split()`: breaks string into words separated by white-space (optionally takes a separator as argument)\n",
    "\n",
    "* `join()`: joins the result of a split using string as separator"
   ]
  },
  {
   "cell_type": "code",
   "execution_count": null,
   "metadata": {
    "ExecuteTime": {
     "end_time": "2021-10-02T09:54:20.959236Z",
     "start_time": "2021-10-02T09:54:20.944590Z"
    },
    "id": "plrh6J1k1EvY",
    "outputId": "76c29e4a-d6ac-4177-9a80-9e0a399cb2cd",
    "scrolled": true
   },
   "outputs": [
    {
     "name": "stdout",
     "output_type": "stream",
     "text": [
      "('one ', '➡', ' two ➡ three')\n",
      "['one', '➡', 'two', '➡', 'three']\n",
      "['one', 'two', 'three']\n",
      "one;two;three\n"
     ]
    }
   ],
   "source": [
    "s = \"one ➡ two ➡ three\"\n",
    "print( s.partition(\"➡\") )\n",
    "print( s.split() )\n",
    "print( s.split(\" ➡ \") )\n",
    "print( \";\".join( s.split(\" ➡ \") ) )"
   ]
  },
  {
   "cell_type": "code",
   "execution_count": null,
   "metadata": {
    "ExecuteTime": {
     "end_time": "2021-10-02T09:54:21.296686Z",
     "start_time": "2021-10-02T09:54:21.268364Z"
    },
    "id": "PXRML7xp1EvZ",
    "outputId": "ec300ad4-13f6-4b94-eaac-f53e78e0a8e0"
   },
   "outputs": [
    {
     "data": {
      "text/plain": [
       "['This', 'will', 'split', 'all', 'words', 'into', 'a', 'list']"
      ]
     },
     "execution_count": 17,
     "metadata": {},
     "output_type": "execute_result"
    }
   ],
   "source": [
    "\"This will split all words into a list\".split()"
   ]
  },
  {
   "cell_type": "code",
   "execution_count": null,
   "metadata": {
    "ExecuteTime": {
     "end_time": "2021-10-02T09:54:21.420238Z",
     "start_time": "2021-10-02T09:54:21.400709Z"
    },
    "id": "nL42whMi1EvZ",
    "outputId": "14a2f67f-6552-4fcc-a156-5318e661c9df"
   },
   "outputs": [
    {
     "data": {
      "text/plain": [
       "'This will join all words into a string'"
      ]
     },
     "execution_count": 18,
     "metadata": {},
     "output_type": "execute_result"
    }
   ],
   "source": [
    "' '.join(['This', 'will', 'join', 'all', 'words', 'into', 'a', 'string'])"
   ]
  },
  {
   "cell_type": "code",
   "execution_count": null,
   "metadata": {
    "ExecuteTime": {
     "end_time": "2021-10-02T09:54:21.728875Z",
     "start_time": "2021-10-02T09:54:21.714225Z"
    },
    "id": "4EQ_7tg21Eva",
    "outputId": "32dd105f-2cdb-46fa-ade3-818a225664da"
   },
   "outputs": [
    {
     "data": {
      "text/plain": [
       "7"
      ]
     },
     "execution_count": 19,
     "metadata": {},
     "output_type": "execute_result"
    }
   ],
   "source": [
    "'Happy New Year'.find('ew')"
   ]
  },
  {
   "cell_type": "code",
   "execution_count": null,
   "metadata": {
    "ExecuteTime": {
     "end_time": "2021-10-02T09:54:21.843638Z",
     "start_time": "2021-10-02T09:54:21.822Z"
    },
    "id": "DzDApjsM1Eva",
    "scrolled": true
   },
   "outputs": [],
   "source": [
    "'Happy New Year'.replace('Happy','Brilliant')"
   ]
  },
  {
   "cell_type": "markdown",
   "metadata": {
    "id": "akbDJAGu1Eva"
   },
   "source": [
    "## How to change or delete a string?\n",
    "\n",
    "Strings are immutable. This means that elements of a string cannot be changed once they have been assigned. We can simply reassign different strings to the same name."
   ]
  },
  {
   "cell_type": "code",
   "execution_count": null,
   "metadata": {
    "ExecuteTime": {
     "end_time": "2021-10-02T09:54:22.405727Z",
     "start_time": "2021-10-02T09:54:22.391075Z"
    },
    "id": "FdU4sycU1Eva",
    "outputId": "825987f1-43e4-4465-dccb-9739e877845c"
   },
   "outputs": [
    {
     "ename": "TypeError",
     "evalue": "'str' object does not support item assignment",
     "output_type": "error",
     "traceback": [
      "\u001b[1;31m---------------------------------------------------------------------------\u001b[0m",
      "\u001b[1;31mTypeError\u001b[0m                                 Traceback (most recent call last)",
      "\u001b[1;32m<ipython-input-20-9df797f83624>\u001b[0m in \u001b[0;36m<module>\u001b[1;34m\u001b[0m\n\u001b[0;32m      1\u001b[0m \u001b[0mmy_string\u001b[0m \u001b[1;33m=\u001b[0m \u001b[1;34m'python'\u001b[0m\u001b[1;33m\u001b[0m\u001b[1;33m\u001b[0m\u001b[0m\n\u001b[1;32m----> 2\u001b[1;33m \u001b[0mmy_string\u001b[0m\u001b[1;33m[\u001b[0m\u001b[1;36m5\u001b[0m\u001b[1;33m]\u001b[0m \u001b[1;33m=\u001b[0m \u001b[1;34m'a'\u001b[0m\u001b[1;33m\u001b[0m\u001b[1;33m\u001b[0m\u001b[0m\n\u001b[0m",
      "\u001b[1;31mTypeError\u001b[0m: 'str' object does not support item assignment"
     ]
    }
   ],
   "source": [
    "my_string = 'python'\n",
    "my_string[5] = 'a'"
   ]
  },
  {
   "cell_type": "code",
   "execution_count": null,
   "metadata": {
    "ExecuteTime": {
     "end_time": "2021-10-02T09:54:22.513162Z",
     "start_time": "2021-10-02T09:54:22.497536Z"
    },
    "id": "wpzDe9AP1Eva",
    "outputId": "a691581f-9fe3-43f3-a53a-5fe6232539b6",
    "scrolled": true
   },
   "outputs": [
    {
     "name": "stdout",
     "output_type": "stream",
     "text": [
      "creating new string 01X345 OK\n",
      "01X345 still OK\n"
     ]
    },
    {
     "ename": "TypeError",
     "evalue": "'str' object does not support item assignment",
     "output_type": "error",
     "traceback": [
      "\u001b[1;31m---------------------------------------------------------------------------\u001b[0m",
      "\u001b[1;31mTypeError\u001b[0m                                 Traceback (most recent call last)",
      "\u001b[1;32m<ipython-input-21-9e95083e441a>\u001b[0m in \u001b[0;36m<module>\u001b[1;34m\u001b[0m\n\u001b[0;32m      6\u001b[0m \u001b[0mprint\u001b[0m\u001b[1;33m(\u001b[0m\u001b[0msX\u001b[0m\u001b[1;33m,\u001b[0m\u001b[1;34m\"still OK\"\u001b[0m\u001b[1;33m)\u001b[0m\u001b[1;33m\u001b[0m\u001b[1;33m\u001b[0m\u001b[0m\n\u001b[0;32m      7\u001b[0m \u001b[1;33m\u001b[0m\u001b[0m\n\u001b[1;32m----> 8\u001b[1;33m \u001b[0ms\u001b[0m\u001b[1;33m[\u001b[0m\u001b[1;36m2\u001b[0m\u001b[1;33m]\u001b[0m \u001b[1;33m=\u001b[0m \u001b[1;34m'X'\u001b[0m \u001b[1;31m# an error!!!\u001b[0m\u001b[1;33m\u001b[0m\u001b[1;33m\u001b[0m\u001b[0m\n\u001b[0m",
      "\u001b[1;31mTypeError\u001b[0m: 'str' object does not support item assignment"
     ]
    }
   ],
   "source": [
    "s='012345'\n",
    "sX=s[:2]+'X'+s[3:] # this creates a new string with 2 replaced by X\n",
    "print(\"creating new string\",sX,\"OK\")\n",
    "\n",
    "sX=s.replace('2','X') # the same thing\n",
    "print(sX,\"still OK\")\n",
    "\n",
    "s[2] = 'X' # an error!!!"
   ]
  },
  {
   "cell_type": "markdown",
   "metadata": {
    "id": "pifFg_n11Evb"
   },
   "source": [
    "We cannot delete or remove characters from a string. But deleting the string entirely is possible using the **`del`** keyword."
   ]
  },
  {
   "cell_type": "code",
   "execution_count": null,
   "metadata": {
    "ExecuteTime": {
     "end_time": "2021-10-02T09:54:22.942906Z",
     "start_time": "2021-10-02T09:54:22.922400Z"
    },
    "id": "TGA0kpXM1Evh",
    "outputId": "cebaf867-5086-4ec1-83a3-fa789dbb04d3",
    "scrolled": true
   },
   "outputs": [
    {
     "ename": "TypeError",
     "evalue": "'str' object doesn't support item deletion",
     "output_type": "error",
     "traceback": [
      "\u001b[1;31m---------------------------------------------------------------------------\u001b[0m",
      "\u001b[1;31mTypeError\u001b[0m                                 Traceback (most recent call last)",
      "\u001b[1;32m<ipython-input-22-4a9f159cd120>\u001b[0m in \u001b[0;36m<module>\u001b[1;34m\u001b[0m\n\u001b[0;32m      1\u001b[0m \u001b[0mmy_string\u001b[0m \u001b[1;33m=\u001b[0m \u001b[1;34m'python'\u001b[0m\u001b[1;33m\u001b[0m\u001b[1;33m\u001b[0m\u001b[0m\n\u001b[1;32m----> 2\u001b[1;33m \u001b[1;32mdel\u001b[0m \u001b[0mmy_string\u001b[0m\u001b[1;33m[\u001b[0m\u001b[1;36m1\u001b[0m\u001b[1;33m]\u001b[0m  \u001b[1;31m# deleting element of string generates error!\u001b[0m\u001b[1;33m\u001b[0m\u001b[1;33m\u001b[0m\u001b[0m\n\u001b[0m",
      "\u001b[1;31mTypeError\u001b[0m: 'str' object doesn't support item deletion"
     ]
    }
   ],
   "source": [
    "my_string = 'python'\n",
    "del my_string[1]  # deleting element of string generates error!"
   ]
  },
  {
   "cell_type": "code",
   "execution_count": null,
   "metadata": {
    "ExecuteTime": {
     "end_time": "2021-10-02T09:54:23.281820Z",
     "start_time": "2021-10-02T09:54:23.267173Z"
    },
    "id": "T8hpke5w1Evi",
    "outputId": "59dc6ff6-0a5e-4e53-a8da-6b0ae57f3bd1"
   },
   "outputs": [
    {
     "ename": "NameError",
     "evalue": "name 'my_string' is not defined",
     "output_type": "error",
     "traceback": [
      "\u001b[1;31m---------------------------------------------------------------------------\u001b[0m",
      "\u001b[1;31mNameError\u001b[0m                                 Traceback (most recent call last)",
      "\u001b[1;32m<ipython-input-23-a04242241123>\u001b[0m in \u001b[0;36m<module>\u001b[1;34m\u001b[0m\n\u001b[0;32m      1\u001b[0m \u001b[0mmy_string\u001b[0m \u001b[1;33m=\u001b[0m \u001b[1;34m'python'\u001b[0m\u001b[1;33m\u001b[0m\u001b[1;33m\u001b[0m\u001b[0m\n\u001b[0;32m      2\u001b[0m \u001b[1;32mdel\u001b[0m \u001b[0mmy_string\u001b[0m \u001b[1;31m# deleting whole string using 'del' keyword can delete it.\u001b[0m\u001b[1;33m\u001b[0m\u001b[1;33m\u001b[0m\u001b[0m\n\u001b[1;32m----> 3\u001b[1;33m \u001b[0mmy_string\u001b[0m\u001b[1;33m\u001b[0m\u001b[1;33m\u001b[0m\u001b[0m\n\u001b[0m",
      "\u001b[1;31mNameError\u001b[0m: name 'my_string' is not defined"
     ]
    }
   ],
   "source": [
    "my_string = 'python'\n",
    "del my_string # deleting whole string using 'del' keyword can delete it.\n",
    "my_string"
   ]
  },
  {
   "cell_type": "markdown",
   "metadata": {
    "id": "Eryk3YNB1Evi"
   },
   "source": [
    "### 1. Basic Operators for concatenation of two or more strings\n",
    "\n",
    "There are two types of basic operators in String **`+`** and **`*`**.\n",
    "\n",
    "The **`+`** (concatenation) operator can be used to concatenates two or more string literals together.\n",
    "\n",
    "The **`*`** (Replication) operator can be used to repeat the string for a given number of times.\n",
    "\n",
    "#### String Concatenation Operator (**`+`**)\n",
    "Joining of two or more strings into a single one is called concatenation."
   ]
  },
  {
   "cell_type": "code",
   "execution_count": null,
   "metadata": {
    "ExecuteTime": {
     "end_time": "2021-10-02T09:54:23.943530Z",
     "start_time": "2021-10-02T09:54:23.929372Z"
    },
    "id": "wnKRKTDj1Evj",
    "outputId": "4cbe8f20-e001-4c88-b56a-6fc33ffd1648"
   },
   "outputs": [
    {
     "name": "stdout",
     "output_type": "stream",
     "text": [
      "Hello,World!\n",
      "Hello, World!\n"
     ]
    }
   ],
   "source": [
    "# String Concatenation\n",
    "\n",
    "a = \"Hello,\"\n",
    "b= 'World!'\n",
    "print(a+b)\n",
    "print(a+\" \"+b)"
   ]
  },
  {
   "cell_type": "code",
   "execution_count": null,
   "metadata": {
    "ExecuteTime": {
     "end_time": "2021-10-02T09:54:24.036321Z",
     "start_time": "2021-10-02T09:54:24.029485Z"
    },
    "id": "XpjDQn-J1Evj",
    "outputId": "f4ce5de7-4b72-4f0e-86a9-0cd548238f55",
    "scrolled": true
   },
   "outputs": [
    {
     "name": "stdout",
     "output_type": "stream",
     "text": [
      "Hello, World!\n"
     ]
    }
   ],
   "source": [
    "# String Concatenation\n",
    "\n",
    "string1='World'\n",
    "string2='!'\n",
    "print('Hello,' + \" \" + string1 + string2)"
   ]
  },
  {
   "cell_type": "markdown",
   "metadata": {
    "id": "juTR0rFd1Evj"
   },
   "source": [
    "| Expression | Output |\n",
    "|:----| :--- |\n",
    "| **`\"10\" + \"50\"`** |   **\"1050\"**  |\n",
    "| **`\"hello\" + \"009\"`** |   **\"hello009\"** |\n",
    "| **`\"hello99\" + \"world66\" `** |   **\"hello99world66\"** |\n",
    "\n",
    ">**Note:** Both the operands passed for concatenation must be of same type, else it will show an error."
   ]
  },
  {
   "cell_type": "code",
   "execution_count": null,
   "metadata": {
    "ExecuteTime": {
     "end_time": "2021-10-02T09:54:24.573991Z",
     "start_time": "2021-10-02T09:54:24.559342Z"
    },
    "id": "fxjrOnaq1Evk",
    "outputId": "dfc327d7-2c2d-424c-b7da-240c6a06ef20",
    "scrolled": true
   },
   "outputs": [
    {
     "ename": "TypeError",
     "evalue": "can only concatenate str (not \"int\") to str",
     "output_type": "error",
     "traceback": [
      "\u001b[1;31m---------------------------------------------------------------------------\u001b[0m",
      "\u001b[1;31mTypeError\u001b[0m                                 Traceback (most recent call last)",
      "\u001b[1;32m<ipython-input-26-4c669126467b>\u001b[0m in \u001b[0;36m<module>\u001b[1;34m\u001b[0m\n\u001b[0;32m      1\u001b[0m \u001b[1;31m# Example:\u001b[0m\u001b[1;33m\u001b[0m\u001b[1;33m\u001b[0m\u001b[1;33m\u001b[0m\u001b[0m\n\u001b[0;32m      2\u001b[0m \u001b[1;33m\u001b[0m\u001b[0m\n\u001b[1;32m----> 3\u001b[1;33m \u001b[0mprint\u001b[0m\u001b[1;33m(\u001b[0m\u001b[1;34m\"HelloWorld\"\u001b[0m\u001b[1;33m+\u001b[0m\u001b[1;36m99\u001b[0m\u001b[1;33m)\u001b[0m\u001b[1;33m\u001b[0m\u001b[1;33m\u001b[0m\u001b[0m\n\u001b[0m",
      "\u001b[1;31mTypeError\u001b[0m: can only concatenate str (not \"int\") to str"
     ]
    }
   ],
   "source": [
    "# Example:\n",
    "\n",
    "print(\"HelloWorld\"+99)"
   ]
  },
  {
   "cell_type": "markdown",
   "metadata": {
    "id": "QtKl35nR1Evk"
   },
   "source": [
    "#### Python String Replication Operator (**`*`**)\n",
    "\n",
    "**Replication operator** uses two parameters for operation, One is the integer value and the other one is the String argument.\n",
    "\n",
    "The Replication operator is used to **repeat a string** number of times. The string will be repeated the number of times which is given by the **integer value**.\n",
    "\n",
    "| Expression | Output |\n",
    "|:----| :--- |\n",
    "| **`\"ArcX\" \\* 2`** |   **\"ArcXArcX\"**  |\n",
    "| **`3 *'5'`** |   **\"555\"** |\n",
    "| **`'@'* 5 `** |   **\"@@@@@\"** |\n",
    "\n",
    ">**Note:**: We can use Replication operator in any way i.e., int **`*`** string or string **`*`** **`int`**. Both the parameters passed cannot be of same type."
   ]
  },
  {
   "cell_type": "code",
   "execution_count": null,
   "metadata": {
    "ExecuteTime": {
     "end_time": "2021-10-02T09:54:24.909974Z",
     "start_time": "2021-10-02T09:54:24.884Z"
    },
    "id": "0ZxXy3dA1Evl"
   },
   "outputs": [],
   "source": [
    "# Example:\n",
    "\n",
    "print(\"HelloWorld\" * 5)\n",
    "print(3 * \"Python\")"
   ]
  },
  {
   "cell_type": "code",
   "execution_count": null,
   "metadata": {
    "ExecuteTime": {
     "end_time": "2021-10-02T09:54:25.158539Z",
     "start_time": "2021-10-02T09:54:25.145846Z"
    },
    "id": "SlDammJ-1Evl",
    "outputId": "04f51b8c-af0e-43a3-c7a0-f6859c4d6f99"
   },
   "outputs": [
    {
     "name": "stdout",
     "output_type": "stream",
     "text": [
      "Hello World! Hello World! Hello World! Hello World! Hello World! \n"
     ]
    }
   ],
   "source": [
    "print(\"Hello World! \"*5)  #note the space in between 'Hello' and 'World!'"
   ]
  },
  {
   "cell_type": "code",
   "execution_count": null,
   "metadata": {
    "ExecuteTime": {
     "end_time": "2021-10-02T09:54:25.374879Z",
     "start_time": "2021-10-02T09:54:25.355349Z"
    },
    "id": "ZxLnhYQg1Evl",
    "outputId": "e1bf821b-cb2e-4fbc-b454-2a010e2bf42b"
   },
   "outputs": [
    {
     "name": "stdout",
     "output_type": "stream",
     "text": [
      "str1 + str2 =  HelloWorld!\n",
      "str1 * 3 = HelloHelloHello\n"
     ]
    }
   ],
   "source": [
    "# Python String Operations\n",
    "str1 = 'Hello'\n",
    "str2 ='World!'\n",
    "\n",
    "# using +\n",
    "print('str1 + str2 = ', str1 + str2)\n",
    "\n",
    "# using *\n",
    "print('str1 * 3 =', str1 * 3)"
   ]
  },
  {
   "cell_type": "markdown",
   "metadata": {
    "id": "4wSN-_-F1Evm"
   },
   "source": [
    "If we want to concatenate strings in different lines, we can use parentheses **`()`**."
   ]
  },
  {
   "cell_type": "code",
   "execution_count": null,
   "metadata": {
    "ExecuteTime": {
     "end_time": "2021-10-02T09:54:25.944292Z",
     "start_time": "2021-10-02T09:54:25.929647Z"
    },
    "id": "v9MzHHXD1Evm",
    "outputId": "7b2b71f2-c3b0-4aef-c4b7-40436612617e"
   },
   "outputs": [
    {
     "data": {
      "text/plain": [
       "'Hello World!'"
      ]
     },
     "execution_count": 29,
     "metadata": {},
     "output_type": "execute_result"
    }
   ],
   "source": [
    "# two string literals together\n",
    "'Hello ''World!'"
   ]
  },
  {
   "cell_type": "code",
   "execution_count": null,
   "metadata": {
    "ExecuteTime": {
     "end_time": "2021-10-02T09:54:26.050752Z",
     "start_time": "2021-10-02T09:54:26.027315Z"
    },
    "id": "i0DwZqRj1Evm",
    "outputId": "2aa43818-1e30-47e8-a50f-dbf31a641387",
    "scrolled": true
   },
   "outputs": [
    {
     "data": {
      "text/plain": [
       "'Hello World'"
      ]
     },
     "execution_count": 30,
     "metadata": {},
     "output_type": "execute_result"
    }
   ],
   "source": [
    "# using parentheses\n",
    "s = ('Hello '\n",
    "     'World')\n",
    "s"
   ]
  },
  {
   "cell_type": "code",
   "execution_count": null,
   "metadata": {
    "ExecuteTime": {
     "end_time": "2021-10-02T09:54:27.341944Z",
     "start_time": "2021-10-02T09:54:27.328275Z"
    },
    "id": "czmr6a1L1Evn",
    "outputId": "33e499c3-bca9-4626-befd-7b8c1577f821"
   },
   "outputs": [
    {
     "name": "stdout",
     "output_type": "stream",
     "text": [
      "3 letters found\n"
     ]
    }
   ],
   "source": [
    "# Iterating through a string\n",
    "count = 0\n",
    "for letter in 'Hello World':\n",
    "    if(letter == 'l'):\n",
    "        count += 1\n",
    "print(count,'letters found')"
   ]
  },
  {
   "cell_type": "markdown",
   "metadata": {
    "id": "hMCeC3CS1Evn"
   },
   "source": [
    "### 2. Python String Membership Operators\n",
    "\n",
    "Membership Operators are already discussed in the Operators section. Let see with context of String.\n",
    "\n",
    "There are two types of Membership operators :\n",
    "\n",
    "1. **`in`** - \"in\" operator returns true if a character or the entire substring is present in the specified string, otherwise false.\n",
    "\n",
    "2. **`not in`** - \"not in\" operator returns true if a character or entire substring does not exist in the specified string, otherwise false."
   ]
  },
  {
   "cell_type": "code",
   "execution_count": null,
   "metadata": {
    "ExecuteTime": {
     "end_time": "2021-10-02T09:54:27.801479Z",
     "start_time": "2021-10-02T09:54:27.778043Z"
    },
    "id": "pFnZVUcf1Evo",
    "outputId": "8c01fad0-3bee-4b8d-c849-2eb63f386f74",
    "scrolled": true
   },
   "outputs": [
    {
     "name": "stdout",
     "output_type": "stream",
     "text": [
      "Exmple of in operator ::\n",
      "True\n",
      "True\n",
      "False\n",
      "\n",
      "False\n",
      "False\n",
      "True\n"
     ]
    }
   ],
   "source": [
    "# Example:\n",
    "\n",
    "str1=\"HelloWorld\"\n",
    "str2=\"Hello\"\n",
    "str3=\"World\"\n",
    "str4=\"Milan\"\n",
    "\n",
    "print('Exmple of in operator ::')\n",
    "print(str2 in str1)\n",
    "print(str3 in str1)\n",
    "print(str4 in str1)\n",
    "print()\n",
    "print(str2 not in str1)\n",
    "print(str3 not in str1)\n",
    "print(str4 not in str1)"
   ]
  },
  {
   "cell_type": "code",
   "execution_count": null,
   "metadata": {
    "ExecuteTime": {
     "end_time": "2021-10-02T09:54:28.016844Z",
     "start_time": "2021-10-02T09:54:27.992429Z"
    },
    "id": "nLEeUgpA1Evo",
    "outputId": "a922adc1-2654-44f8-91b0-944773629ce7"
   },
   "outputs": [
    {
     "data": {
      "text/plain": [
       "False"
      ]
     },
     "execution_count": 33,
     "metadata": {},
     "output_type": "execute_result"
    }
   ],
   "source": [
    ">>> 'a' in 'program'\n",
    "True\n",
    ">>> 'at' not in 'battle'\n",
    "False"
   ]
  },
  {
   "cell_type": "markdown",
   "metadata": {
    "id": "Ku17b6iH1Evo"
   },
   "source": [
    "### 3. Python Relational Operators\n",
    "\n",
    "All the comparison (relational) operators i.e., **(<, ><=, >=, ==, !=, <>)** are also applicable for strings. The Strings are compared based on the **ASCII value** or **Unicode**(i.e., dictionary Order)."
   ]
  },
  {
   "cell_type": "code",
   "execution_count": null,
   "metadata": {
    "ExecuteTime": {
     "end_time": "2021-10-02T09:54:28.535467Z",
     "start_time": "2021-10-02T09:54:28.521797Z"
    },
    "id": "BCLEoI8p1Evp",
    "outputId": "d3f28d3b-2be9-403d-8a99-aa55ad6ced7f"
   },
   "outputs": [
    {
     "name": "stdout",
     "output_type": "stream",
     "text": [
      "True\n",
      "True\n",
      "True\n"
     ]
    }
   ],
   "source": [
    "# Example:\n",
    "\n",
    "print(\"HelloWorld\"==\"HelloWorld\")\n",
    "print(\"helloWorld\">=\"HelloWorld\")\n",
    "print(\"H\"<\"h\")"
   ]
  },
  {
   "cell_type": "markdown",
   "metadata": {
    "id": "vggNqII31Evp"
   },
   "source": [
    "**Explanation:**\n",
    "\n",
    "The ASCII value of a is 97, b is 98, c is 99 and so on. The ASCII value of A is 65, B is 66, C is 67 and so on. The comparison between strings are done on the basis on ASCII value."
   ]
  },
  {
   "cell_type": "markdown",
   "metadata": {
    "id": "UcLYm8Gi1Evp"
   },
   "source": [
    "The **`%`** operator is used to format a string inserting the value that comes after. It relies on the string containing a format specifier that identifies where to insert the value. The most common types of format specifiers are:\n",
    "\n",
    "   - **`%s`** ➡ string\n",
    "   - **`%d`** ➡ Integer\n",
    "   - **`%f`** ➡ Float\n",
    "   - **`%o`** ➡ Octal\n",
    "   - **`%x`** ➡ Hexadecimal\n",
    "   - **`%e`** ➡ exponential\n",
    "    \n",
    "These will be very familiar to anyone who has ever written a C or Java program and follow nearly exactly the same rules as the **[printf() function](https://en.wikipedia.org/wiki/Printf_format_string)**."
   ]
  },
  {
   "cell_type": "code",
   "execution_count": null,
   "metadata": {
    "ExecuteTime": {
     "end_time": "2021-10-02T09:54:29.168853Z",
     "start_time": "2021-10-02T09:54:29.151277Z"
    },
    "id": "p8dMUQgu1Evq",
    "outputId": "f30c32d1-c52a-46b6-8181-d3e6c22c8cbc"
   },
   "outputs": [
    {
     "name": "stdout",
     "output_type": "stream",
     "text": [
      "Hello World\n",
      "Actual Number = 19\n",
      "Float of the number = 19.000000\n",
      "Octal equivalent of the number = 23\n",
      "Hexadecimal equivalent of the number = 13\n",
      "Exponential equivalent of the number = 1.900000e+01\n"
     ]
    }
   ],
   "source": [
    "print(\"Hello %s\" % string1)\n",
    "print(\"Actual Number = %d\" %19)\n",
    "print(\"Float of the number = %f\" %19)\n",
    "print(\"Octal equivalent of the number = %o\" %19)\n",
    "print(\"Hexadecimal equivalent of the number = %x\" %19)\n",
    "print(\"Exponential equivalent of the number = %e\" %19)"
   ]
  },
  {
   "cell_type": "markdown",
   "metadata": {
    "id": "OiN5zWC21Evq"
   },
   "source": [
    "When referring to multiple variables parentheses is used. Values are inserted in the order they appear in the parantheses (more on tuples in the next section)"
   ]
  },
  {
   "cell_type": "code",
   "execution_count": null,
   "metadata": {
    "ExecuteTime": {
     "end_time": "2021-10-02T09:54:29.626435Z",
     "start_time": "2021-10-02T09:54:29.609835Z"
    },
    "id": "z2J11u0N1Evq",
    "outputId": "2c2182bb-bf7e-40e3-9854-f7b8070286e5"
   },
   "outputs": [
    {
     "name": "stdout",
     "output_type": "stream",
     "text": [
      "Hello World !. My name is Bond, you can call me 99\n"
     ]
    }
   ],
   "source": [
    "print(\"Hello %s %s. My name is Bond, you can call me %d\" %(string1,string2,99))"
   ]
  },
  {
   "cell_type": "markdown",
   "metadata": {
    "id": "mM_PhI9g1Evq"
   },
   "source": [
    "We can also specify the width of the field and the number of decimal places to be used.\n",
    "For example:"
   ]
  },
  {
   "cell_type": "code",
   "execution_count": null,
   "metadata": {
    "ExecuteTime": {
     "end_time": "2021-10-02T09:54:30.050810Z",
     "start_time": "2021-10-02T09:54:30.029814Z"
    },
    "id": "dctpoSur1Evr",
    "outputId": "d3e9a083-08bf-49f3-82ab-b58f3789bc81",
    "scrolled": true
   },
   "outputs": [
    {
     "name": "stdout",
     "output_type": "stream",
     "text": [
      "Print width 10: |         x|\n",
      "Print width 10: |x         |\n",
      "The number pi = 3.1 to 1 decimal places\n",
      "The number pi = 3.14 to 2 decimal places\n",
      "More space pi =       3.14\n",
      "Pad pi with 0 = 0000003.14\n"
     ]
    }
   ],
   "source": [
    "print('Print width 10: |%10s|'%'x')\n",
    "print('Print width 10: |%-10s|'%'x') # left justified\n",
    "print(\"The number pi = %.1f to 1 decimal places\"%3.1415)\n",
    "print(\"The number pi = %.2f to 2 decimal places\"%3.1415)\n",
    "print(\"More space pi = %10.2f\"%3.1415)\n",
    "print(\"Pad pi with 0 = %010.2f\"%3.1415) # pad with zeros"
   ]
  },
  {
   "cell_type": "code",
   "execution_count": null,
   "metadata": {
    "ExecuteTime": {
     "end_time": "2021-10-02T09:54:31.958296Z",
     "start_time": "2021-10-02T09:54:31.944628Z"
    },
    "id": "3jFW6TS21Evr",
    "outputId": "f06605b1-9aef-4236-e7ad-a1fd53774ef2"
   },
   "outputs": [
    {
     "name": "stdout",
     "output_type": "stream",
     "text": [
      "list(enumerate(str) =  [(0, 'c'), (1, 'o'), (2, 'l'), (3, 'd')]\n",
      "len(str) =  4\n"
     ]
    }
   ],
   "source": [
    "str = 'cold'\n",
    "\n",
    "# enumerate()\n",
    "list_enumerate = list(enumerate(str))\n",
    "print('list(enumerate(str) = ', list_enumerate)\n",
    "\n",
    "#character count\n",
    "print('len(str) = ', len(str))"
   ]
  },
  {
   "cell_type": "markdown",
   "metadata": {
    "id": "W1LwPYT31Evs"
   },
   "source": [
    "## Python String Formatting"
   ]
  },
  {
   "cell_type": "markdown",
   "metadata": {
    "id": "6yLKGRgZ1Evs"
   },
   "source": [
    "### Escape Sequence\n",
    "\n",
    "If we want to print a text like `He said, \"What's there?\"`, we can neither use single quotes nor double quotes. This will result in a SyntaxError as the text itself contains both single and double quotes."
   ]
  },
  {
   "cell_type": "code",
   "execution_count": null,
   "metadata": {
    "ExecuteTime": {
     "end_time": "2021-10-02T09:54:32.852463Z",
     "start_time": "2021-10-02T09:54:32.833909Z"
    },
    "id": "aW8T39LU1Evs",
    "outputId": "aba7dcb2-3fde-4586-c8c8-4e55c1b764e7"
   },
   "outputs": [
    {
     "ename": "SyntaxError",
     "evalue": "invalid syntax (<ipython-input-39-5b2db8c64782>, line 1)",
     "output_type": "error",
     "traceback": [
      "\u001b[1;36m  File \u001b[1;32m\"<ipython-input-39-5b2db8c64782>\"\u001b[1;36m, line \u001b[1;32m1\u001b[0m\n\u001b[1;33m    print(\"He said, \"What's there?\"\")\u001b[0m\n\u001b[1;37m                     ^\u001b[0m\n\u001b[1;31mSyntaxError\u001b[0m\u001b[1;31m:\u001b[0m invalid syntax\n"
     ]
    }
   ],
   "source": [
    "print(\"He said, \"What's there?\"\")"
   ]
  },
  {
   "cell_type": "markdown",
   "metadata": {
    "id": "6LIYhWxU1Evs"
   },
   "source": [
    "One way to get around this problem is to use triple quotes. Alternatively, we can use escape sequences.\n",
    "\n",
    "An escape sequence starts with a backslash and is interpreted differently. If we use a single quote to represent a string, all the single quotes inside the string must be escaped. Similar is the case with double quotes. Here is how it can be done to represent the above text."
   ]
  },
  {
   "cell_type": "code",
   "execution_count": null,
   "metadata": {
    "ExecuteTime": {
     "end_time": "2021-10-02T09:54:33.392579Z",
     "start_time": "2021-10-02T09:54:33.385742Z"
    },
    "id": "a1dSDRFm1Evt",
    "outputId": "11515bfb-16e6-48f3-e7d8-0f8a206f21ba",
    "scrolled": true
   },
   "outputs": [
    {
     "name": "stdout",
     "output_type": "stream",
     "text": [
      "He said, \"What's there?\"\n",
      "He said, \"What's there?\"\n",
      "He said, \"What's there?\"\n"
     ]
    }
   ],
   "source": [
    "# using triple quotes\n",
    "print('''He said, \"What's there?\"''')\n",
    "\n",
    "# escaping single quotes\n",
    "print('He said, \"What\\'s there?\"')\n",
    "\n",
    "# escaping double quotes\n",
    "print(\"He said, \\\"What's there?\\\"\")"
   ]
  },
  {
   "cell_type": "markdown",
   "metadata": {
    "id": "yCbNDsBV1Evt"
   },
   "source": [
    "### Here is a list of all the escape sequences supported by Python.\n",
    "\n",
    "| Escape Sequence | Description |\n",
    "|:----:| :--- |\n",
    "| **`\\newline`** |   Backslash and newline ignored  |\n",
    "| **`\\\\`** |   Backslash |\n",
    "| **`\\'`** |   Single quote |\n",
    "| **`\\\"`** |   Double quote |\n",
    "| **`\\a`** |   ASCII Bell |\n",
    "| **`\\b`** |   ASCII Backspace |\n",
    "| **`\\f`** |   ASCII Formfeed |\n",
    "| **`\\n`** |   ASCII Linefeed |\n",
    "| **`\\r`** |   ASCII Carriage Return |\n",
    "| **`\\t`** |   ASCII Horizontal Tab |\n",
    "| **`\\v`** |   ASCII Vertical Tab |\n",
    "| **`\\ooo`** |   Character with octal value ooo |\n",
    "| **`\\xHH`** |   Character with hexadecimal value HH |"
   ]
  },
  {
   "cell_type": "code",
   "execution_count": null,
   "metadata": {
    "ExecuteTime": {
     "end_time": "2021-10-02T09:54:34.346808Z",
     "start_time": "2021-10-02T09:54:34.337044Z"
    },
    "id": "Eu5CcFzA1Evu",
    "outputId": "393ebd2a-621a-45ca-db15-d3847b230c72",
    "scrolled": true
   },
   "outputs": [
    {
     "name": "stdout",
     "output_type": "stream",
     "text": [
      "I hope every one enjoying the python tutorials.\n",
      "Do you ?\n",
      "Days\tChapters\tTopics\n",
      "Day 1\tChp 1\tPython Introduction\n",
      "Day 2\tChp 2\tPython Datatypes\n",
      "Day 3\tChp 3\tPython Flow Control\n",
      "Day 4\tChp 4\tPython Functions\n",
      "Day 5\tChp 5\tPython Files\n",
      "This is a back slash  symbol (\\)\n",
      "In every programming language it starts with \"Hello, World!\"\n"
     ]
    }
   ],
   "source": [
    "# Escape sequence\n",
    "\n",
    "print('I hope every one enjoying the python tutorials.\\nDo you ?') # '\\n' line break\n",
    "print('Days\\tChapters\\tTopics')  # '\\t' tab space\n",
    "print('Day 1\\tChp 1\\tPython Introduction')\n",
    "print('Day 2\\tChp 2\\tPython Datatypes')\n",
    "print('Day 3\\tChp 3\\tPython Flow Control')\n",
    "print('Day 4\\tChp 4\\tPython Functions')\n",
    "print('Day 5\\tChp 5\\tPython Files')\n",
    "print('This is a back slash  symbol (\\\\)') # To write a back slash\n",
    "print('In every programming language it starts with \\\"Hello, World!\\\"')"
   ]
  },
  {
   "cell_type": "code",
   "execution_count": null,
   "metadata": {
    "ExecuteTime": {
     "end_time": "2021-10-02T09:54:34.777531Z",
     "start_time": "2021-10-02T09:54:34.757023Z"
    },
    "id": "R6CwyBed1Evv",
    "outputId": "06d09b74-aaa3-431a-9411-e2f1252e69f9"
   },
   "outputs": [
    {
     "name": "stdout",
     "output_type": "stream",
     "text": [
      "C:\\Python32\\Lib\n",
      "This is printed\n",
      "in two lines\n",
      "This is HEX representation\n"
     ]
    }
   ],
   "source": [
    "# Here are some examples\n",
    "\n",
    "print(\"C:\\\\Python32\\\\Lib\")\n",
    "#C:\\Python32\\Lib\n",
    "\n",
    "print(\"This is printed\\nin two lines\")\n",
    "#This is printed\n",
    "#in two lines\n",
    "\n",
    "print(\"This is \\x48\\x45\\x58 representation\")\n",
    "#This is HEX representation"
   ]
  },
  {
   "cell_type": "markdown",
   "metadata": {
    "id": "6n4IPlzP1Evv"
   },
   "source": [
    "### Raw String to ignore escape sequence\n",
    "\n",
    "Sometimes we may wish to ignore the escape sequences inside a string. To do this we can place **`r`** or **`R`** in front of the string. This will imply that it is a raw string and any escape sequence inside it will be ignored."
   ]
  },
  {
   "cell_type": "code",
   "execution_count": null,
   "metadata": {
    "ExecuteTime": {
     "end_time": "2021-10-02T09:54:35.637999Z",
     "start_time": "2021-10-02T09:54:35.625306Z"
    },
    "id": "Ywd-mLxO1Evw",
    "outputId": "b8ae468f-a5b6-43d8-c741-37bdf614468d"
   },
   "outputs": [
    {
     "name": "stdout",
     "output_type": "stream",
     "text": [
      "This is a \n",
      "good example\n"
     ]
    }
   ],
   "source": [
    "print(\"This is \\x61 \\ngood example\")"
   ]
  },
  {
   "cell_type": "code",
   "execution_count": null,
   "metadata": {
    "ExecuteTime": {
     "end_time": "2021-10-02T09:54:36.207411Z",
     "start_time": "2021-10-02T09:54:36.189835Z"
    },
    "id": "fyN76BjD1Evx",
    "outputId": "d21a0683-b220-46d7-a68f-962a7b4a835c",
    "scrolled": true
   },
   "outputs": [
    {
     "name": "stdout",
     "output_type": "stream",
     "text": [
      "This is \\x61 \\ngood example\n"
     ]
    }
   ],
   "source": [
    "print(r\"This is \\x61 \\ngood example\")"
   ]
  },
  {
   "cell_type": "markdown",
   "metadata": {
    "id": "AMazjv031Evx"
   },
   "source": [
    "### The `format()` Method for Formatting Strings\n",
    "\n",
    "The **`format()`** method that is available with the string object is very versatile and powerful in formatting strings. Format strings contain curly braces **`{}`** as placeholders or replacement fields which get replaced.\n",
    "\n",
    "We can use positional arguments or keyword arguments to specify the order."
   ]
  },
  {
   "cell_type": "code",
   "execution_count": null,
   "metadata": {
    "ExecuteTime": {
     "end_time": "2021-10-02T09:54:37.316939Z",
     "start_time": "2021-10-02T09:54:37.306200Z"
    },
    "id": "hSUHlGin1Evx",
    "outputId": "c0ef484f-5ea8-44de-87f2-721d14ab25ba",
    "scrolled": true
   },
   "outputs": [
    {
     "name": "stdout",
     "output_type": "stream",
     "text": [
      "\n",
      "--- Default Order ---\n",
      "Allan, Bill and Cory\n",
      "\n",
      "--- Positional Order ---\n",
      "Bill, Allan and Cory\n",
      "\n",
      "--- Keyword Order ---\n",
      "Cory, Bill and Allan\n"
     ]
    }
   ],
   "source": [
    "# Python string format() method\n",
    "\n",
    "# default(implicit) order\n",
    "default_order = \"{}, {} and {}\".format('Allan','Bill','Cory')\n",
    "print('\\n--- Default Order ---')\n",
    "print(default_order)\n",
    "\n",
    "# order using positional argument\n",
    "positional_order = \"{1}, {0} and {2}\".format('Allan','Bill','Cory')\n",
    "print('\\n--- Positional Order ---')\n",
    "print(positional_order)\n",
    "\n",
    "# order using keyword argument\n",
    "keyword_order = \"{s}, {b} and {j}\".format(j='Allan',b='Bill',s='Cory')\n",
    "print('\\n--- Keyword Order ---')\n",
    "print(keyword_order)"
   ]
  },
  {
   "cell_type": "code",
   "execution_count": null,
   "metadata": {
    "ExecuteTime": {
     "end_time": "2021-10-02T09:54:38.229170Z",
     "start_time": "2021-10-02T09:54:38.209640Z"
    },
    "id": "Pi8RR_Ia1Evy",
    "outputId": "76fea109-635d-4f74-f716-e490c6f87cfa"
   },
   "outputs": [
    {
     "data": {
      "text/plain": [
       "'Binary representation of 12 is 1100'"
      ]
     },
     "execution_count": 46,
     "metadata": {},
     "output_type": "execute_result"
    }
   ],
   "source": [
    "# formatting integers\n",
    "\"Binary representation of {0} is {0:b}\".format(12)"
   ]
  },
  {
   "cell_type": "code",
   "execution_count": null,
   "metadata": {
    "ExecuteTime": {
     "end_time": "2021-10-02T09:54:38.677476Z",
     "start_time": "2021-10-02T09:54:38.656969Z"
    },
    "id": "fSBhxJs11Evy",
    "outputId": "b8675e1c-05da-4997-941e-49b7f9f1d327"
   },
   "outputs": [
    {
     "data": {
      "text/plain": [
       "'Exponent representation: 1.966365e+03'"
      ]
     },
     "execution_count": 47,
     "metadata": {},
     "output_type": "execute_result"
    }
   ],
   "source": [
    "# formatting floats\n",
    "\"Exponent representation: {0:e}\".format(1966.365)"
   ]
  },
  {
   "cell_type": "code",
   "execution_count": null,
   "metadata": {
    "ExecuteTime": {
     "end_time": "2021-10-02T09:54:39.076947Z",
     "start_time": "2021-10-02T09:54:39.057413Z"
    },
    "id": "Kp1khSPp1Evy",
    "outputId": "d686f377-b3fc-4b4a-90be-29092dfeb354",
    "scrolled": true
   },
   "outputs": [
    {
     "data": {
      "text/plain": [
       "'One third is: 0.333'"
      ]
     },
     "execution_count": 48,
     "metadata": {},
     "output_type": "execute_result"
    }
   ],
   "source": [
    "# round off\n",
    "\"One third is: {0:.3f}\".format(1/3)"
   ]
  },
  {
   "cell_type": "code",
   "execution_count": null,
   "metadata": {
    "ExecuteTime": {
     "end_time": "2021-10-02T09:54:39.431483Z",
     "start_time": "2021-10-02T09:54:39.414885Z"
    },
    "id": "uKZms7o51Evz",
    "outputId": "94063f7c-9a5e-4294-8180-4ab30a971c09"
   },
   "outputs": [
    {
     "data": {
      "text/plain": [
       "'|bread     |  butter  |       jam|'"
      ]
     },
     "execution_count": 49,
     "metadata": {},
     "output_type": "execute_result"
    }
   ],
   "source": [
    "# string alignment\n",
    "\"|{:<10}|{:^10}|{:>10}|\".format('bread','butter','jam')"
   ]
  },
  {
   "cell_type": "markdown",
   "metadata": {
    "id": "dBYAYjt11Evz"
   },
   "source": [
    "### Old style formatting\n",
    "\n",
    "We can even format strings like the old **`sprintf()`** style used in C programming language. We use the **`%`** operator to accomplish this."
   ]
  },
  {
   "cell_type": "code",
   "execution_count": null,
   "metadata": {
    "ExecuteTime": {
     "end_time": "2021-10-02T09:54:40.123964Z",
     "start_time": "2021-10-02T09:54:40.114198Z"
    },
    "id": "TodnW0mV1Evz",
    "outputId": "88cc9b8e-c64f-4a22-eec8-4b6bdd3198f1"
   },
   "outputs": [
    {
     "name": "stdout",
     "output_type": "stream",
     "text": [
      "The value of x is 36.35\n"
     ]
    }
   ],
   "source": [
    "x = 36.3456789\n",
    "print('The value of x is %3.2f' %x)"
   ]
  },
  {
   "cell_type": "code",
   "execution_count": null,
   "metadata": {
    "ExecuteTime": {
     "end_time": "2021-10-02T09:54:40.507801Z",
     "start_time": "2021-10-02T09:54:40.491203Z"
    },
    "id": "xx7qhHw01Evz",
    "outputId": "b43559ec-5363-48b0-eb3d-26116b4eb9ae"
   },
   "outputs": [
    {
     "name": "stdout",
     "output_type": "stream",
     "text": [
      "The value of x is 36.3457\n"
     ]
    }
   ],
   "source": [
    "print('The value of x is %3.4f' %x)"
   ]
  },
  {
   "cell_type": "code",
   "execution_count": null,
   "metadata": {
    "ExecuteTime": {
     "end_time": "2021-10-02T09:54:41.294533Z",
     "start_time": "2021-10-02T09:54:41.282814Z"
    },
    "id": "2hM9VDb81Ev1",
    "outputId": "bcc3cfe2-f7ed-4f82-fe48-cb815e925bf5",
    "scrolled": true
   },
   "outputs": [
    {
     "name": "stdout",
     "output_type": "stream",
     "text": [
      "Hello world! vs Hello World!\n",
      "upper case: 'HELLO WORLD!' lower case: 'hello world!' and swapped: 'HEllO WorlD!'\n",
      "|         Hello World          |\n",
      "|lots of space|\n",
      "%s without leading/trailing d,h,L or ! = |%s| eLLo wOR\n",
      "Hello Class\n"
     ]
    }
   ],
   "source": [
    "# Example:\n",
    "\n",
    "s=\"heLLo wORLd!\"\n",
    "print(s.capitalize(),\"vs\",s.title())\n",
    "\n",
    "print(\"upper case: '%s'\"%s.upper(),\"lower case: '%s'\"%s.lower(),\"and swapped: '%s'\"%s.swapcase())\n",
    "\n",
    "print('|%s|' % \"Hello World\".center(30)) # center in 30 characters\n",
    "\n",
    "print('|%s|'% \"     lots of space             \".strip()) # remove leading and trailing whitespace\n",
    "\n",
    "print('%s without leading/trailing d,h,L or ! = |%s|',s.strip(\"dhL!\"))\n",
    "\n",
    "print(\"Hello World\".replace(\"World\",\"Class\"))"
   ]
  },
  {
   "cell_type": "code",
   "execution_count": null,
   "metadata": {
    "ExecuteTime": {
     "end_time": "2021-10-02T09:54:41.665189Z",
     "start_time": "2021-10-02T09:54:41.658355Z"
    },
    "id": "9EtSWdPn1Ev1",
    "outputId": "473ec9e0-8389-443e-bea5-f6e2b274b0c3"
   },
   "outputs": [
    {
     "name": "stdout",
     "output_type": "stream",
     "text": [
      "Python datatypes\n"
     ]
    }
   ],
   "source": [
    "# capitalize(): Converts the first character the string to Capital Letter\n",
    "\n",
    "challenge = 'Python Datatypes'\n",
    "print(challenge.capitalize()) # 'Python Datatypes'"
   ]
  },
  {
   "cell_type": "code",
   "execution_count": null,
   "metadata": {
    "ExecuteTime": {
     "end_time": "2021-10-02T09:54:42.050983Z",
     "start_time": "2021-10-02T09:54:42.036334Z"
    },
    "id": "sbREdiTb1Ev1",
    "outputId": "89fb07b0-ec1c-4981-dd21-5ab3ea57a177"
   },
   "outputs": [
    {
     "name": "stdout",
     "output_type": "stream",
     "text": [
      "2\n",
      "1\n",
      "1\n"
     ]
    }
   ],
   "source": [
    "# count(): returns occurrences of substring in string, count(substring, start=.., end=..)\n",
    "\n",
    "challenge = 'Python Datatypes'\n",
    "print(challenge.count('y')) # 2\n",
    "print(challenge.count('y', 6, 14)) # 1\n",
    "print(challenge.count('ty')) # 1"
   ]
  },
  {
   "cell_type": "code",
   "execution_count": null,
   "metadata": {
    "ExecuteTime": {
     "end_time": "2021-10-02T09:54:42.358641Z",
     "start_time": "2021-10-02T09:54:42.343993Z"
    },
    "id": "uKTPGnIS1Ev2",
    "outputId": "7a8a75c9-7f14-46c5-a67a-da6306e5a36e"
   },
   "outputs": [
    {
     "name": "stdout",
     "output_type": "stream",
     "text": [
      "True\n",
      "False\n"
     ]
    }
   ],
   "source": [
    "# endswith(): Checks if a string ends with a specified ending\n",
    "\n",
    "challenge = 'Python Datatypes'\n",
    "print(challenge.endswith('es'))   # True\n",
    "print(challenge.endswith('type')) # False"
   ]
  },
  {
   "cell_type": "code",
   "execution_count": null,
   "metadata": {
    "ExecuteTime": {
     "end_time": "2021-10-02T09:54:42.681931Z",
     "start_time": "2021-10-02T09:54:42.667280Z"
    },
    "id": "y4bqWBTx1Ev2",
    "outputId": "7d3a4291-a652-4833-cad6-695f5e778c24"
   },
   "outputs": [
    {
     "name": "stdout",
     "output_type": "stream",
     "text": [
      "Python  Datatypes\n",
      "Python    Datatypes\n"
     ]
    }
   ],
   "source": [
    "# expandtabs(): Replaces tab character with spaces, default tab size is 8. It takes tab size argument\n",
    "\n",
    "challenge = 'Python\\tDatatypes'\n",
    "print(challenge.expandtabs())   # 'Python  Datatypes'\n",
    "print(challenge.expandtabs(10)) # 'Python    Datatypes'"
   ]
  },
  {
   "cell_type": "code",
   "execution_count": null,
   "metadata": {
    "ExecuteTime": {
     "end_time": "2021-10-02T09:54:42.958331Z",
     "start_time": "2021-10-02T09:54:42.943686Z"
    },
    "id": "4-fuLNxQ1Ev2",
    "outputId": "795df2eb-f87e-4949-cc6a-02d49085d7ff"
   },
   "outputs": [
    {
     "name": "stdout",
     "output_type": "stream",
     "text": [
      "1\n",
      "-1\n"
     ]
    }
   ],
   "source": [
    "# find(): Returns the index of first occurrence of substring\n",
    "\n",
    "challenge = 'Python Datatypes'\n",
    "print(challenge.find('y'))  # 1\n",
    "print(challenge.find('u')) # -1"
   ]
  },
  {
   "cell_type": "code",
   "execution_count": null,
   "metadata": {
    "ExecuteTime": {
     "end_time": "2021-10-02T09:54:43.065772Z",
     "start_time": "2021-10-02T09:54:43.039399Z"
    },
    "id": "5A_z3ZS81Ev3",
    "outputId": "33203292-5dbc-4b3e-9500-5659f0c6c680"
   },
   "outputs": [
    {
     "name": "stdout",
     "output_type": "stream",
     "text": [
      "I am Milaan Parmar. I am a Lecturer. I live in Finland.\n"
     ]
    }
   ],
   "source": [
    "# format()\tformats string into nicer output\n",
    "first_name = 'Milaan'\n",
    "last_name = 'Parmar'\n",
    "job = 'Lecturer'\n",
    "country = 'Finland'\n",
    "sentence = 'I am {} {}. I am a {}. I live in {}.'.format(first_name, last_name, job, country)\n",
    "print(sentence) # I am Milaan Parmar. I am a Lecturer. I live in Finland."
   ]
  },
  {
   "cell_type": "code",
   "execution_count": null,
   "metadata": {
    "ExecuteTime": {
     "end_time": "2021-10-02T09:54:43.388076Z",
     "start_time": "2021-10-02T09:54:43.373431Z"
    },
    "id": "-SCSB01C1Ev3",
    "outputId": "637cbb0a-3627-412c-b026-592199a08f04"
   },
   "outputs": [
    {
     "name": "stdout",
     "output_type": "stream",
     "text": [
      "1\n",
      "2\n"
     ]
    }
   ],
   "source": [
    "# index(): Returns the index of substring\n",
    "\n",
    "challenge = 'Python Datatypes'\n",
    "print(challenge.find('y'))  # 1\n",
    "print(challenge.find('th')) # 2"
   ]
  },
  {
   "cell_type": "code",
   "execution_count": null,
   "metadata": {
    "ExecuteTime": {
     "end_time": "2021-10-02T09:54:43.675715Z",
     "start_time": "2021-10-02T09:54:43.661069Z"
    },
    "id": "iM1yCW8l1Ev3",
    "outputId": "c95417bd-dceb-4539-eb84-c4f0c8936d95"
   },
   "outputs": [
    {
     "name": "stdout",
     "output_type": "stream",
     "text": [
      "True\n",
      "True\n",
      "False\n",
      "False\n"
     ]
    }
   ],
   "source": [
    "# isalnum(): Checks alphanumeric character\n",
    "\n",
    "challenge = 'PythonDatatypes'\n",
    "print(challenge.isalnum()) # True\n",
    "\n",
    "challenge = 'Pyth0nDatatypes'\n",
    "print(challenge.isalnum()) # True\n",
    "\n",
    "challenge = 'Python Datatypes'\n",
    "print(challenge.isalnum()) # False\n",
    "\n",
    "challenge = 'Python Datatypes 2021'\n",
    "print(challenge.isalnum()) # False"
   ]
  },
  {
   "cell_type": "code",
   "execution_count": null,
   "metadata": {
    "ExecuteTime": {
     "end_time": "2021-10-02T09:54:43.876429Z",
     "start_time": "2021-10-02T09:54:43.867639Z"
    },
    "id": "EwiiNxqX1Ev4",
    "outputId": "62976d7f-e1e0-4b1b-841d-49c5752cd5d8"
   },
   "outputs": [
    {
     "name": "stdout",
     "output_type": "stream",
     "text": [
      "True\n",
      "False\n"
     ]
    }
   ],
   "source": [
    "# isalpha(): Checks if all characters are alphabets\n",
    "\n",
    "challenge = 'PythonDatatypes'\n",
    "print(challenge.isalpha()) # True\n",
    "\n",
    "num = '123'\n",
    "print(num.isalpha())      # False"
   ]
  },
  {
   "cell_type": "code",
   "execution_count": null,
   "metadata": {
    "ExecuteTime": {
     "end_time": "2021-10-02T09:54:44.367702Z",
     "start_time": "2021-10-02T09:54:44.353055Z"
    },
    "id": "5v6cOb2S1Ev4",
    "outputId": "c6b4d92e-8f26-46e7-93b1-97d8246ab15a",
    "scrolled": true
   },
   "outputs": [
    {
     "name": "stdout",
     "output_type": "stream",
     "text": [
      "1\n",
      "2\n"
     ]
    }
   ],
   "source": [
    "# isdecimal(): Checks Decimal Characters\n",
    "\n",
    "challenge = 'Python Datatypes'\n",
    "print(challenge.find('y'))  # 1\n",
    "print(challenge.find('th')) # 2"
   ]
  },
  {
   "cell_type": "code",
   "execution_count": null,
   "metadata": {
    "ExecuteTime": {
     "end_time": "2021-10-02T09:54:44.597228Z",
     "start_time": "2021-10-02T09:54:44.577696Z"
    },
    "id": "_bCjY3g01Ev4",
    "outputId": "d4b55742-a987-4f86-ce24-6fc77a171740"
   },
   "outputs": [
    {
     "name": "stdout",
     "output_type": "stream",
     "text": [
      "False\n",
      "True\n"
     ]
    }
   ],
   "source": [
    "# isdigit(): Checks Digit Characters\n",
    "\n",
    "challenge = 'Ninety'\n",
    "print(challenge.isdigit()) # False\n",
    "challenge = '90'\n",
    "print(challenge.isdigit())   # True"
   ]
  },
  {
   "cell_type": "code",
   "execution_count": null,
   "metadata": {
    "ExecuteTime": {
     "end_time": "2021-10-02T09:54:44.904399Z",
     "start_time": "2021-10-02T09:54:44.895612Z"
    },
    "id": "DFPICiD21Ev5",
    "outputId": "735a0eca-e44e-4574-b2d4-a04ca8afece6"
   },
   "outputs": [
    {
     "name": "stdout",
     "output_type": "stream",
     "text": [
      "True\n",
      "False\n"
     ]
    }
   ],
   "source": [
    "# isdecimal():Checks decimal characters\n",
    "\n",
    "num = '30'\n",
    "print(num.isdecimal()) # True\n",
    "num = '30.6'\n",
    "print(num.isdecimal()) # False"
   ]
  },
  {
   "cell_type": "code",
   "execution_count": null,
   "metadata": {
    "ExecuteTime": {
     "end_time": "2021-10-02T09:54:45.122200Z",
     "start_time": "2021-10-02T09:54:45.101693Z"
    },
    "id": "C4yCdwhw1Ev5",
    "outputId": "9ac6dba3-1e9f-4c91-fba5-b2660fe8bd7b"
   },
   "outputs": [
    {
     "name": "stdout",
     "output_type": "stream",
     "text": [
      "False\n",
      "True\n"
     ]
    }
   ],
   "source": [
    "# isidentifier():Checks for valid identifier means it check if a string is a valid variable name\n",
    "\n",
    "challenge = '2021PythonDatatypes'\n",
    "print(challenge.isidentifier()) # False, because it starts with a number\n",
    "challenge = 'Python_Datatypes'\n",
    "print(challenge.isidentifier()) # True"
   ]
  },
  {
   "cell_type": "code",
   "execution_count": null,
   "metadata": {
    "ExecuteTime": {
     "end_time": "2021-10-02T09:54:45.612994Z",
     "start_time": "2021-10-02T09:54:45.606157Z"
    },
    "id": "zZk24WFc1Ev5",
    "outputId": "22a6c657-b1c5-49a4-adc0-8a675e7fde55"
   },
   "outputs": [
    {
     "name": "stdout",
     "output_type": "stream",
     "text": [
      "True\n",
      "False\n"
     ]
    }
   ],
   "source": [
    "# islower():Checks if all alphabets in a string are lowercase\n",
    "\n",
    "challenge = 'python datatypes'\n",
    "print(challenge.islower()) # True\n",
    "challenge = 'Python datatypes'\n",
    "print(challenge.islower()) # False"
   ]
  },
  {
   "cell_type": "code",
   "execution_count": null,
   "metadata": {
    "ExecuteTime": {
     "end_time": "2021-10-02T09:54:45.998787Z",
     "start_time": "2021-10-02T09:54:45.984139Z"
    },
    "id": "UDd_kmNZ1Ev6",
    "outputId": "a68052b4-8e02-4635-cf89-6a0aecc15043"
   },
   "outputs": [
    {
     "name": "stdout",
     "output_type": "stream",
     "text": [
      "False\n",
      "True\n"
     ]
    }
   ],
   "source": [
    "# isupper(): returns if all characters are uppercase characters\n",
    "\n",
    "challenge = 'python datatypes'\n",
    "print(challenge.isupper()) #  False\n",
    "challenge = 'PYTHON DATATYPES'\n",
    "print(challenge.isupper()) # True"
   ]
  },
  {
   "cell_type": "code",
   "execution_count": null,
   "metadata": {
    "ExecuteTime": {
     "end_time": "2021-10-02T09:54:46.582851Z",
     "start_time": "2021-10-02T09:54:46.575041Z"
    },
    "id": "1KrN4VNE1Ev6",
    "outputId": "8df64dfd-5660-4234-e7c3-e6c372fa249c"
   },
   "outputs": [
    {
     "name": "stdout",
     "output_type": "stream",
     "text": [
      "True\n",
      "False\n"
     ]
    }
   ],
   "source": [
    "# isnumeric():Checks numeric characters\n",
    "\n",
    "num = '90'\n",
    "print(num.isnumeric())         # True\n",
    "print('ninety'.isnumeric())    # False"
   ]
  },
  {
   "cell_type": "code",
   "execution_count": null,
   "metadata": {
    "ExecuteTime": {
     "end_time": "2021-10-02T09:54:46.923717Z",
     "start_time": "2021-10-02T09:54:46.909068Z"
    },
    "id": "Bz_dxKnG1Ev6",
    "outputId": "1bff5431-3a8f-44e5-ff64-520f12bc8a66"
   },
   "outputs": [
    {
     "name": "stdout",
     "output_type": "stream",
     "text": [
      "HTML#, CSS#, JavaScript#, React\n"
     ]
    }
   ],
   "source": [
    "# join(): Returns a concatenated string\n",
    "\n",
    "web_tech = ['HTML', 'CSS', 'JavaScript', 'React']\n",
    "result = '#, '.join(web_tech)\n",
    "print(result) # 'HTML# CSS# JavaScript# React'"
   ]
  },
  {
   "cell_type": "code",
   "execution_count": null,
   "metadata": {
    "ExecuteTime": {
     "end_time": "2021-10-02T09:54:47.339298Z",
     "start_time": "2021-10-02T09:54:47.325629Z"
    },
    "id": "sG-Qu5Mn1Ev6",
    "outputId": "5ca4671b-a636-4cfb-a04d-1fa70af432b9"
   },
   "outputs": [
    {
     "name": "stdout",
     "output_type": "stream",
     "text": [
      " python datatypes \n"
     ]
    }
   ],
   "source": [
    "# strip(): Removes both leading and trailing characters\n",
    "\n",
    "challenge = ' python datatypes '\n",
    "print(challenge.strip('y')) # 5"
   ]
  },
  {
   "cell_type": "code",
   "execution_count": null,
   "metadata": {
    "ExecuteTime": {
     "end_time": "2021-10-02T09:54:47.706536Z",
     "start_time": "2021-10-02T09:54:47.692864Z"
    },
    "id": "1CD9BcjE1Ev7",
    "outputId": "d59b8e4f-4be4-4186-e8d0-da77b9ca43fd"
   },
   "outputs": [
    {
     "name": "stdout",
     "output_type": "stream",
     "text": [
      "python data-types\n"
     ]
    }
   ],
   "source": [
    "# replace(): Replaces substring inside\n",
    "\n",
    "challenge = 'python datatypes'\n",
    "print(challenge.replace('datatypes', 'data-types')) # 'thirty days of coding'"
   ]
  },
  {
   "cell_type": "code",
   "execution_count": null,
   "metadata": {
    "ExecuteTime": {
     "end_time": "2021-10-02T09:54:48.015660Z",
     "start_time": "2021-10-02T09:54:47.999062Z"
    },
    "id": "Bg564wAd1Ev7",
    "outputId": "11ced295-2e75-424b-93f0-91af8e76f592"
   },
   "outputs": [
    {
     "name": "stdout",
     "output_type": "stream",
     "text": [
      "['python', 'datatypes']\n"
     ]
    }
   ],
   "source": [
    "# split():Splits String from Left\n",
    "\n",
    "challenge = 'python datatypes'\n",
    "print(challenge.split()) # ['python', 'datatypes']"
   ]
  },
  {
   "cell_type": "code",
   "execution_count": null,
   "metadata": {
    "ExecuteTime": {
     "end_time": "2021-10-02T09:54:48.385339Z",
     "start_time": "2021-10-02T09:54:48.371668Z"
    },
    "id": "-lmn15Fa1Ev8",
    "outputId": "7d56217c-2dc6-4225-b3c5-c0e98e5e0a25"
   },
   "outputs": [
    {
     "name": "stdout",
     "output_type": "stream",
     "text": [
      "Python Datatypes\n"
     ]
    }
   ],
   "source": [
    "# title(): Returns a Title Cased String\n",
    "\n",
    "challenge = 'python datatypes'\n",
    "print(challenge.title()) # Python Datatypes"
   ]
  },
  {
   "cell_type": "code",
   "execution_count": null,
   "metadata": {
    "ExecuteTime": {
     "end_time": "2021-10-02T09:54:48.739886Z",
     "start_time": "2021-10-02T09:54:48.726213Z"
    },
    "id": "JwrQCHmS1Ev9",
    "outputId": "dc710561-9cb1-4953-9e0e-475eb2846b04"
   },
   "outputs": [
    {
     "name": "stdout",
     "output_type": "stream",
     "text": [
      "PYTHON DATATYPES\n",
      "pYTHON dATATYPES\n"
     ]
    }
   ],
   "source": [
    "# swapcase(): Checks if String Starts with the Specified String\n",
    "\n",
    "challenge = 'python datatypes'\n",
    "print(challenge.swapcase())   # PYTHON DATATYPES\n",
    "challenge = 'Python Datatypes'\n",
    "print(challenge.swapcase())  # pYTHON dATATYPES"
   ]
  },
  {
   "cell_type": "code",
   "execution_count": null,
   "metadata": {
    "ExecuteTime": {
     "end_time": "2021-10-02T09:54:49.063167Z",
     "start_time": "2021-10-02T09:54:49.051449Z"
    },
    "id": "Vu4X8_b81Ev9",
    "outputId": "05520a01-c0c7-4f3a-e736-6e0fab2bcdd0"
   },
   "outputs": [
    {
     "name": "stdout",
     "output_type": "stream",
     "text": [
      "True\n",
      "False\n"
     ]
    }
   ],
   "source": [
    "# startswith(): Checks if String Starts with the Specified String\n",
    "\n",
    "challenge = 'python datatypes'\n",
    "print(challenge.startswith('python')) # True\n",
    "challenge = '2 python datatypes'\n",
    "print(challenge.startswith('two')) # False"
   ]
  },
  {
   "cell_type": "markdown",
   "metadata": {
    "id": "8vLr7zks1Ev-"
   },
   "source": [
    "#### Inspecting Strings\n",
    "\n",
    "There are also lost of ways to inspect or check strings. Examples of a few of these are given here:\n",
    "\n",
    "* Checking the start or end of a string: **`startswith(\"string\")`** and **`endswith(\"string\")`** checks if it starts/ends with the string given as argument\n",
    "\n",
    "* Capitalisation: There are boolean counterparts for all forms of capitalisation, such as **`isupper()`**, **`islower()`** and **`istitle()`**\n",
    "\n",
    "* Character type: does the string only contain the characters:\n",
    "  * 0-9: **`isdecimal()`**. Note there is also **`isnumeric()`** and **`isdigit()`** which are effectively the same function except for certain unicode characters\n",
    "  * a-zA-Z: **`isalpha()`** or combined with digits: **`isalnum()`**\n",
    "  * non-control code: **`isprintable()`** accepts anything except '\\n' an other ASCII control codes\n",
    "  * \\t\\n \\r (white space characters): **`isspace()`**\n",
    "  * Suitable as variable name: **`isidentifier()`**\n",
    "  \n",
    "* Find elements of string: **`s.count(w)`** finds the number of times **`w`** occurs in **`s`**, while **`s.find(w)`** and **`s.rfind(w)`** find the first and last position of the string **`w`** in **`s`**."
   ]
  },
  {
   "cell_type": "code",
   "execution_count": null,
   "metadata": {
    "ExecuteTime": {
     "end_time": "2021-10-02T09:54:50.266457Z",
     "start_time": "2021-10-02T09:54:50.251809Z"
    },
    "id": "q8E3dmun1Ev-",
    "outputId": "4bb51181-7bff-4d0c-93b1-89d941e93b1c",
    "scrolled": true
   },
   "outputs": [
    {
     "name": "stdout",
     "output_type": "stream",
     "text": [
      "The length of 'Hello World' is 11 characters\n",
      "There are 3 'l's but only 1 World in Hello World\n",
      "\"el\" is at index 1 in Hello World\n"
     ]
    }
   ],
   "source": [
    "# Example:\n",
    "\n",
    "s=\"Hello World\"\n",
    "print(\"The length of '%s' is\"%s,len(s),\"characters\") # len() gives length of the string\n",
    "\n",
    "s.startswith(\"Hello\") and s.endswith(\"World\") # check start/end\n",
    "\n",
    "# count strings\n",
    "print(\"There are %d 'l's but only %d World in %s\" % (s.count('l'),s.count('World'),s))\n",
    "\n",
    "print('\"el\" is at index',s.find('el'),\"in\",s) #index from 0 or -1"
   ]
  },
  {
   "cell_type": "markdown",
   "metadata": {
    "id": "EBpT6wyZ1EwA"
   },
   "source": [
    "## Advanced string processing\n",
    "For more advanced string processing there are many libraries available in Python including for example:\n",
    "* **re** for regular expression based searching and splitting of strings\n",
    "* **html** for manipulating HTML format text\n",
    "* **textwrap** for reformatting ASCII text\n",
    "* ... and many more"
   ]
  },
  {
   "cell_type": "code",
   "execution_count": null,
   "metadata": {
    "id": "D7FMo_HS1EwB"
   },
   "outputs": [],
   "source": []
  },
  {
   "cell_type": "markdown",
   "metadata": {
    "id": "bVp4zxdx1GR9"
   },
   "source": [
    "# Python List\n",
    "\n",
    "In this class, we'll learn everything about Python lists, how they are created, slicing of a list, adding or removing elements from them and so on.\n",
    "\n",
    "Python offers a range of compound data types often referred to as sequences. List is one of the most frequently used and very versatile data types used in Python."
   ]
  },
  {
   "cell_type": "markdown",
   "metadata": {
    "heading_collapsed": true,
    "id": "GekVlP3d1GR9"
   },
   "source": [
    "## What is List in Python?\n",
    "\n",
    "Python list is a **data structure** which is used to store various types of data.In Python, lists are **mutable** i.e., Python will not create a new list if we modify an element of the list.\n",
    "\n",
    "It works as a container that holds other objects in a given order. We can perform various operations like insertion and deletion on list. A list can be composed by storing a **sequence** of different type of values **separated by commas**."
   ]
  },
  {
   "cell_type": "markdown",
   "metadata": {
    "id": "hiU4vwjH1GR-"
   },
   "source": [
    "### Summary\n",
    "\n",
    "| Data types     | Type          |         |\n",
    "| :------------: | :-----------: |:------: |\n",
    "| **String**     | **immutable** |  |\n",
    "| **List**       | **mutable**   |✎|"
   ]
  },
  {
   "cell_type": "markdown",
   "metadata": {
    "id": "eDHaXHSf1GSJ"
   },
   "source": [
    "## Creating Python List\n",
    "\n",
    "In Python programming, a list is created by placing all the items (elements) inside **square brackets `[]`**, separated by **commas** **`,`**. All the elements in list are stored in the index basis with starting index **0**.\n",
    "\n",
    "It can have any number of items and they may be of different types (integer, float, string etc.).\n",
    "\n",
    "<div>\n",
    "<img src=\"img/l0.png\" width=\"600\"/>\n",
    "</div>\n",
    "\n",
    "**Syantax:**\n",
    "\n",
    "```python\n",
    "<list_name>=[value1,value2,value3,...,valuen]\n",
    "```"
   ]
  },
  {
   "cell_type": "code",
   "execution_count": null,
   "metadata": {
    "ExecuteTime": {
     "end_time": "2021-10-03T09:17:05.188178Z",
     "start_time": "2021-10-03T09:17:05.168649Z"
    },
    "id": "n9u7oML21GSK",
    "outputId": "1b691587-9f0e-435d-b7a5-502deba30ec1"
   },
   "outputs": [
    {
     "name": "stdout",
     "output_type": "stream",
     "text": [
      "[]\n",
      "0\n",
      "[1, 2, 3]\n",
      "[1, 'Hello', 3.4]\n",
      "['mouse', [9, 3, 6], ['a']]\n",
      "['foo', 'bar', 'baz', 'quz', 'quux', 'corge']\n",
      "[1, 2, 3, 4, 4.5, 'helloworld', 'X']\n"
     ]
    }
   ],
   "source": [
    "# Example:\n",
    "\n",
    "# empty list, no item in the list\n",
    "my_list = []\n",
    "print(my_list)      # ▶ ()\n",
    "print(len(my_list)) # ▶ 0\n",
    "\n",
    "# list of integers\n",
    "my_list1 = [1, 2, 3]\n",
    "print(my_list1)     # ▶ [1, 2, 3]\n",
    "\n",
    "# list with mixed data types\n",
    "my_list2 = [1, \"Hello\", 3.4]\n",
    "print(my_list2)     # ▶ [1, 'Hello', 3.4]\n",
    "\n",
    "# nested list\n",
    "my_list3 = [\"mouse\", [9, 3, 6], ['a']]\n",
    "print(my_list3)     # ▶ [\"mouse\", [9, 3, 6], ['a']]\n",
    "\n",
    "my_list4=['foo','bar','baz','quz','quux','corge']\n",
    "print(my_list4)     # ▶ ['foo','bar','baz','quz','quux','corge']\n",
    "\n",
    "my_list5=[1,2,3,4,4.5,'helloworld','X']\n",
    "print(my_list5)     # ▶ [1,2,3,4,4.5,'helloworld','X']"
   ]
  },
  {
   "cell_type": "markdown",
   "metadata": {
    "id": "p_HxcC771GSL"
   },
   "source": [
    "## Access elements from a list\n",
    "\n",
    "There are various ways in which we can access the elements of a list."
   ]
  },
  {
   "cell_type": "markdown",
   "metadata": {
    "id": "JbAACeIM1GSM"
   },
   "source": [
    "### List Index\n",
    "\n",
    "We can use the index operator **`[]`** to access an item in a list. In Python, indices start at 0. So, a list having 5 elements will have an index from 0 to 4.\n",
    "\n",
    "Trying to access indexes other than these will raise an **`IndexError`**. The index must be an integer. We can't use float or other types, this will result in **`TypeError`**.\n",
    "\n",
    "Nested lists are accessed using nested indexing."
   ]
  },
  {
   "cell_type": "markdown",
   "metadata": {
    "id": "-DL_X8XP1GSN"
   },
   "source": [
    "<div>\n",
    "<img src=\"img/l6_1.png\" width=\"400\"/>\n",
    "</div>"
   ]
  },
  {
   "cell_type": "code",
   "execution_count": null,
   "metadata": {
    "ExecuteTime": {
     "end_time": "2021-10-03T09:17:05.870808Z",
     "start_time": "2021-10-03T09:17:05.197947Z"
    },
    "id": "Itdaq4VO1GSN",
    "outputId": "cf753bba-01b0-4046-d1b8-0c41ae155b3f",
    "scrolled": true
   },
   "outputs": [
    {
     "name": "stdout",
     "output_type": "stream",
     "text": [
      "p\n",
      "o\n",
      "e\n",
      "a\n",
      "5\n"
     ]
    },
    {
     "ename": "TypeError",
     "evalue": "list indices must be integers or slices, not float",
     "output_type": "error",
     "traceback": [
      "\u001b[1;31m---------------------------------------------------------------------------\u001b[0m",
      "\u001b[1;31mTypeError\u001b[0m                                 Traceback (most recent call last)",
      "\u001b[1;32m<ipython-input-2-0a4959e7a13b>\u001b[0m in \u001b[0;36m<module>\u001b[1;34m\u001b[0m\n\u001b[0;32m     14\u001b[0m \u001b[0mprint\u001b[0m\u001b[1;33m(\u001b[0m\u001b[0mn_list\u001b[0m\u001b[1;33m[\u001b[0m\u001b[1;36m1\u001b[0m\u001b[1;33m]\u001b[0m\u001b[1;33m[\u001b[0m\u001b[1;36m3\u001b[0m\u001b[1;33m]\u001b[0m\u001b[1;33m)\u001b[0m \u001b[1;31m# ▶ 5\u001b[0m\u001b[1;33m\u001b[0m\u001b[1;33m\u001b[0m\u001b[0m\n\u001b[0;32m     15\u001b[0m \u001b[1;33m\u001b[0m\u001b[0m\n\u001b[1;32m---> 16\u001b[1;33m \u001b[0mprint\u001b[0m\u001b[1;33m(\u001b[0m\u001b[0mmy_list\u001b[0m\u001b[1;33m[\u001b[0m\u001b[1;36m4.0\u001b[0m\u001b[1;33m]\u001b[0m\u001b[1;33m)\u001b[0m \u001b[1;31m# ▶ TypeError: list indices must be integers or slices, not float\u001b[0m\u001b[1;33m\u001b[0m\u001b[1;33m\u001b[0m\u001b[0m\n\u001b[0m",
      "\u001b[1;31mTypeError\u001b[0m: list indices must be integers or slices, not float"
     ]
    }
   ],
   "source": [
    "# Example: List indexing\n",
    "\n",
    "my_list = ['p', 'r', 'o', 'b', 'e']\n",
    "\n",
    "print(my_list[0]) # ▶  p\n",
    "print(my_list[2]) # ▶  o\n",
    "print(my_list[4]) # ▶  e\n",
    "\n",
    "# Nested List\n",
    "n_list = [\"Happy\", [2, 0, 1, 5]]\n",
    "\n",
    "# Nested indexing\n",
    "print(n_list[0][1]) # ▶ a\n",
    "print(n_list[1][3]) # ▶ 5\n",
    "\n",
    "print(my_list[4.0]) # ▶ TypeError: list indices must be integers or slices, not float"
   ]
  },
  {
   "cell_type": "markdown",
   "metadata": {
    "id": "sRTdAsGy1GSO"
   },
   "source": [
    "### Negative indexing\n",
    "\n",
    "Python allows negative indexing for its sequences. The index of -1 refers to the last item, -2 to the second last item and so on."
   ]
  },
  {
   "cell_type": "code",
   "execution_count": null,
   "metadata": {
    "ExecuteTime": {
     "end_time": "2021-10-03T09:17:21.693159Z",
     "start_time": "2021-10-03T09:17:21.675586Z"
    },
    "id": "fRg_Be5J1GSO",
    "outputId": "405e2c99-516a-4eb9-fa5f-2b9580d56026"
   },
   "outputs": [
    {
     "name": "stdout",
     "output_type": "stream",
     "text": [
      "e\n",
      "p\n"
     ]
    }
   ],
   "source": [
    "# Example: Negative indexing in lists\n",
    "\n",
    "# Python allows negative indexing for its sequences.\n",
    "#The index of -1 refers to the last item, -2 to the second last item and so on.\n",
    "\n",
    "my_list = ['p','r','o','b','e']\n",
    "\n",
    "print(my_list[-1])  # ▶ e\n",
    "print(my_list[-5])  # ▶ p"
   ]
  },
  {
   "cell_type": "markdown",
   "metadata": {
    "id": "RltvrPeB1GSO"
   },
   "source": [
    ">**Note:** If the index provided in the list slice is outside the list, then it raises an IndexError exception."
   ]
  },
  {
   "cell_type": "markdown",
   "metadata": {
    "id": "OjpYkuj_1GSP"
   },
   "source": [
    "### How to slice lists in Python?\n",
    "\n",
    "We can access a range of items in a list by using the slicing operator **`:`**(colon).\n",
    "\n",
    "**Syntax:**\n",
    "\n",
    "```python\n",
    "<list_name>[start : stop : step]\n",
    "```"
   ]
  },
  {
   "cell_type": "code",
   "execution_count": null,
   "metadata": {
    "ExecuteTime": {
     "end_time": "2021-10-03T09:17:23.231742Z",
     "start_time": "2021-10-03T09:17:23.210264Z"
    },
    "id": "B4CFeS8r1GSP",
    "outputId": "17b4d331-03ed-42e5-b85d-a4e9eacc2394"
   },
   "outputs": [
    {
     "name": "stdout",
     "output_type": "stream",
     "text": [
      "['o', 'g', 'r']\n",
      "['p', 'r', 'o', 'g', 'r']\n",
      "['a', 'm', 'i', 'n', 'g']\n",
      "['p', 'r', 'o', 'g', 'r', 'a', 'm', 'i', 'n', 'g']\n"
     ]
    }
   ],
   "source": [
    "# Example: List slicing in Python\n",
    "\n",
    "my_list = ['p','r','o','g','r','a','m','i','n','g']\n",
    "# indes   [ 0   1   2   3   4   5   6   7   8   9 ]\n",
    "# index   [-10 -9  -8  -7  -6  -5  -4  -3  -2  -1 ]\n",
    "\n",
    "print(my_list[2:5])   # ▶ ['o', 'g', 'r'] ∵ elements 3rd to 4th\n",
    "print(my_list[:-5])   # ▶ ['p', 'r', 'o', 'g', 'r'] ∵ elements beginning to 4th\n",
    "print(my_list[5:])    # ▶ ['a', 'm', 'i', 'n', 'g'] ∵ elements 5th to end\n",
    "\n",
    "# elements beginning to end\n",
    "print(my_list[:])     # ▶ ('p', 'r', 'o', 'g', 'r', 'a', 'm', 'i', 'n','g')"
   ]
  },
  {
   "cell_type": "markdown",
   "metadata": {
    "id": "EbCe3qaD1GSP"
   },
   "source": [
    "Slicing can be best visualized by considering the index to be between the elements as shown below. So if we want to access a range, we need two indices that will slice that portion from the list.\n",
    "\n",
    "<div>\n",
    "<img src=\"img/l6_2.png\" width=\"350\"/>\n",
    "</div>"
   ]
  },
  {
   "cell_type": "markdown",
   "metadata": {
    "id": "uBIl8Zv-1GSP"
   },
   "source": [
    ">**NOTE:** Internal Memory Organization:\n",
    "\n",
    ">List do not store the elements directly at the index. In fact a reference is stored at each index which subsequently refers to the object stored somewhere in the memory. This is due to the fact that some objects may be large enough than other objects and hence they are stored at some other memory location."
   ]
  },
  {
   "cell_type": "code",
   "execution_count": null,
   "metadata": {
    "ExecuteTime": {
     "end_time": "2021-10-03T09:17:21.893355Z",
     "start_time": "2021-10-03T09:17:21.869437Z"
    },
    "id": "7WcRfePa1GSQ",
    "outputId": "8eb9d833-9d5c-4734-f75b-c2a350a68cf2",
    "scrolled": false
   },
   "outputs": [
    {
     "name": "stdout",
     "output_type": "stream",
     "text": [
      "baz\n",
      "['foo', 'bar', 'baz', 'quz', 'quux', 'corge']\n",
      "['quux', 'corge']\n",
      "['baz', 'quz', 'quux']\n",
      "['bar', 'quz']\n",
      "['corge', 'quux', 'quz', 'baz', 'bar', 'foo']\n",
      "corge\n",
      "quux\n",
      "5\n",
      "True\n"
     ]
    }
   ],
   "source": [
    "# Example:\n",
    "\n",
    "list=['foo','bar','baz','quz','quux','corge']\n",
    "\n",
    "print(list[2])         # ▶ baz\n",
    "print(list[0:])        # ▶ ['foo', 'bar', 'baz', 'quz', 'quux', 'corge'] ∵ if we don't set where to stop it takes all the rest\n",
    "print(list[4:6])       # ▶ ['quux', 'corge']\n",
    "print(list[-4:-1])     # ▶ ['baz', 'quz', 'quux'] ∵ it does not include the end index\n",
    "print(list[1:5:2])     # ▶ ['bar', 'quz'] ∵ it does not include the end index\n",
    "print(list[-1: :-1])   # ▶ ['corge', 'quux', 'quz', 'baz', 'bar', 'foo'] ∵ reverse list\n",
    "print(list[-1])        # ▶ corge ∵ last element\n",
    "print(list[-2])        # ▶ quux ∵ second last element\n",
    "print(len(list)-1)     # ▶ 5 ∵ index of last element\n",
    "\n",
    "does_exist = 'bar' in list\n",
    "print(does_exist)      # ▶ True"
   ]
  },
  {
   "cell_type": "markdown",
   "metadata": {
    "id": "HuV1_OkV1GSQ"
   },
   "source": [
    "## Python List Operations\n",
    "\n",
    "Apart from creating and accessing elements from the list, Python allows us to perform various other operations on the list. Some common operations are given below:"
   ]
  },
  {
   "cell_type": "code",
   "execution_count": null,
   "metadata": {
    "ExecuteTime": {
     "end_time": "2021-10-03T09:17:25.010562Z",
     "start_time": "2021-10-03T09:17:24.992012Z"
    },
    "id": "XazPMGhH1GSR",
    "outputId": "536fa921-98e0-47fd-e473-da59cb746a22"
   },
   "outputs": [
    {
     "name": "stdout",
     "output_type": "stream",
     "text": [
      "[1, 4, 6, 8]\n",
      "[1, 3, 5, 7]\n"
     ]
    }
   ],
   "source": [
    "# Example: Correcting mistake values in a list\n",
    "\n",
    "odd = [2, 4, 6, 8]\n",
    "\n",
    "odd[0] = 1            # ▶ [1, 4, 6, 8] ∵ update 1st element\n",
    "print(odd)\n",
    "\n",
    "odd[1:4] = [3, 5, 7]  # ▶ [1, 3, 5, 7] ∵ update 2nd to 4th elements\n",
    "print(odd)"
   ]
  },
  {
   "cell_type": "code",
   "execution_count": null,
   "metadata": {
    "ExecuteTime": {
     "end_time": "2021-10-03T09:17:25.296700Z",
     "start_time": "2021-10-03T09:17:25.276192Z"
    },
    "id": "qLMMlIu-1GSR",
    "outputId": "3bed5130-aa51-4e52-9a41-611c05f65ef8",
    "scrolled": false
   },
   "outputs": [
    {
     "name": "stdout",
     "output_type": "stream",
     "text": [
      "[5, 10, 15, 20, 25]\n",
      "[5, 10, 'Multiple of 5', 20, 25]\n"
     ]
    }
   ],
   "source": [
    "# Example:\n",
    "\n",
    "data1=[5,10,15,20,25]\n",
    "print(data1) # ▶ [5, 10, 15, 20, 25]\n",
    "\n",
    "data1[2]=\"Multiple of 5\"  # we are modifying the 3rd element using its index [2]\n",
    "print(data1) # ▶ [5, 10, 'Multiple of 5', 20, 25]"
   ]
  },
  {
   "cell_type": "markdown",
   "metadata": {
    "id": "sWHXCLeG1GSR"
   },
   "source": [
    "We can add one item to a list using the **`append()`** method or add several items using **`extend()`** method."
   ]
  },
  {
   "cell_type": "code",
   "execution_count": null,
   "metadata": {
    "ExecuteTime": {
     "end_time": "2021-10-03T09:17:26.102368Z",
     "start_time": "2021-10-03T09:17:26.088696Z"
    },
    "id": "MUzO0vwF1GSS",
    "outputId": "1473995d-2a69-4176-ddd3-d812d9d0dc83",
    "scrolled": true
   },
   "outputs": [
    {
     "name": "stdout",
     "output_type": "stream",
     "text": [
      "[1, 3, 5, 7]\n",
      "[1, 3, 5, 7, 9, 11, 13]\n"
     ]
    }
   ],
   "source": [
    "# Example: Appending and Extending lists in Python\n",
    "\n",
    "odd = [1, 3, 5]\n",
    "\n",
    "odd.append(7)\n",
    "print(odd)  # ▶ [1, 3, 5, 7]\n",
    "\n",
    "odd.extend([9, 11, 13])\n",
    "print(odd)  # ▶ [1, 3, 5, 7, 9, 11, 13]"
   ]
  },
  {
   "cell_type": "code",
   "execution_count": null,
   "metadata": {
    "ExecuteTime": {
     "end_time": "2021-10-03T09:17:26.411450Z",
     "start_time": "2021-10-03T09:17:26.383133Z"
    },
    "id": "RjamLPQ21GSS",
    "outputId": "73af3faf-62d1-4d45-d6ca-70c6948fadf3"
   },
   "outputs": [
    {
     "name": "stdout",
     "output_type": "stream",
     "text": [
      "['a', 'b', 'c', 1.5, 'x', ['y', 'z']]\n"
     ]
    }
   ],
   "source": [
    "# Example:\n",
    "\n",
    "list1=['a','b','c']\n",
    "list1.append(1.5)\n",
    "list1.append('x')\n",
    "list1.append(['y','z']) # append list into list as single object\n",
    "print(list1)  # ▶ ['a', 'b', 'c', 1.5, 'x', ['y', 'z']]"
   ]
  },
  {
   "cell_type": "markdown",
   "metadata": {
    "id": "INyhykUy1GSS"
   },
   "source": [
    "We can also use **`+`** (concatenation) operator to combine two lists. This is also called concatenation."
   ]
  },
  {
   "cell_type": "code",
   "execution_count": null,
   "metadata": {
    "ExecuteTime": {
     "end_time": "2021-10-03T09:17:27.189775Z",
     "start_time": "2021-10-03T09:17:27.169273Z"
    },
    "id": "HJaSXaMQ1GSS",
    "outputId": "0b1b6061-cda5-4f01-8ee1-235cd168f604"
   },
   "outputs": [
    {
     "name": "stdout",
     "output_type": "stream",
     "text": [
      "[1, 3, 5, 9, 7, 5]\n"
     ]
    }
   ],
   "source": [
    "# Example: Concatenating and repeating lists\n",
    "\n",
    "odd = [1, 3, 5]\n",
    "print(odd + [9, 7, 5]) # ▶ [1, 3, 5, 9, 7, 5]"
   ]
  },
  {
   "cell_type": "code",
   "execution_count": null,
   "metadata": {
    "ExecuteTime": {
     "end_time": "2021-10-03T09:17:27.402669Z",
     "start_time": "2021-10-03T09:17:27.383145Z"
    },
    "id": "Vw_2pvS_1GST",
    "outputId": "7afa644d-f3a0-4133-d2cb-9c7ad96a8552",
    "scrolled": false
   },
   "outputs": [
    {
     "name": "stdout",
     "output_type": "stream",
     "text": [
      "['a', 'b', 'c', 'x', 'y', 'z']\n"
     ]
    }
   ],
   "source": [
    "# Example:\n",
    "\n",
    "list1=['a','b','c']\n",
    "list2=['x','y','z']\n",
    "list3=list1+list2\n",
    "print(list3)  # ▶ ['a', 'b', 'c', 'x', 'y', 'z']"
   ]
  },
  {
   "cell_type": "code",
   "execution_count": null,
   "metadata": {
    "ExecuteTime": {
     "end_time": "2021-10-03T09:17:27.828941Z",
     "start_time": "2021-10-03T09:17:27.750817Z"
    },
    "id": "q2qz8XhL1GST",
    "outputId": "95a7f80f-2618-4e4e-f5d0-559d19e3bdd3",
    "scrolled": true
   },
   "outputs": [
    {
     "ename": "TypeError",
     "evalue": "can only concatenate list (not \"str\") to list",
     "output_type": "error",
     "traceback": [
      "\u001b[1;31m---------------------------------------------------------------------------\u001b[0m",
      "\u001b[1;31mTypeError\u001b[0m                                 Traceback (most recent call last)",
      "\u001b[1;32m<ipython-input-12-4ed3868a9a2e>\u001b[0m in \u001b[0;36m<module>\u001b[1;34m\u001b[0m\n\u001b[0;32m      3\u001b[0m \u001b[0mlist1\u001b[0m\u001b[1;33m=\u001b[0m\u001b[1;33m[\u001b[0m\u001b[1;34m'a'\u001b[0m\u001b[1;33m,\u001b[0m\u001b[1;34m'b'\u001b[0m\u001b[1;33m,\u001b[0m\u001b[1;34m'c'\u001b[0m\u001b[1;33m]\u001b[0m\u001b[1;33m\u001b[0m\u001b[1;33m\u001b[0m\u001b[0m\n\u001b[0;32m      4\u001b[0m \u001b[0ma\u001b[0m\u001b[1;33m=\u001b[0m\u001b[1;34m'x'\u001b[0m\u001b[1;33m\u001b[0m\u001b[1;33m\u001b[0m\u001b[0m\n\u001b[1;32m----> 5\u001b[1;33m \u001b[0mprint\u001b[0m\u001b[1;33m(\u001b[0m\u001b[0mlist1\u001b[0m\u001b[1;33m+\u001b[0m\u001b[0ma\u001b[0m\u001b[1;33m)\u001b[0m  \u001b[1;31m# ▶ TypeError: can only concatenate list (not \"str\") to list\u001b[0m\u001b[1;33m\u001b[0m\u001b[1;33m\u001b[0m\u001b[0m\n\u001b[0m",
      "\u001b[1;31mTypeError\u001b[0m: can only concatenate list (not \"str\") to list"
     ]
    }
   ],
   "source": [
    "# Example:\n",
    "\n",
    "list1=['a','b','c']\n",
    "a='x'\n",
    "print(list1+a)  # ▶ TypeError: can only concatenate list (not \"str\") to list"
   ]
  },
  {
   "cell_type": "markdown",
   "metadata": {
    "id": "GBfxaZzO1GST"
   },
   "source": [
    ">**NOTE:** **`+`** operator implies that both the operands passed must be list else error will be shown."
   ]
  },
  {
   "cell_type": "markdown",
   "metadata": {
    "id": "d19oPm_L1GSU"
   },
   "source": [
    "The **`'*'`** operator repeats a list for the given number of times."
   ]
  },
  {
   "cell_type": "code",
   "execution_count": null,
   "metadata": {
    "ExecuteTime": {
     "end_time": "2021-10-03T09:17:28.334314Z",
     "start_time": "2021-10-03T09:17:28.322599Z"
    },
    "id": "jm3RceKM1GSU",
    "outputId": "69fcdced-9588-4dc8-e748-6027b51c5685"
   },
   "outputs": [
    {
     "name": "stdout",
     "output_type": "stream",
     "text": [
      "[1, 3, 5, 9, 7, 5]\n",
      "['re', 're', 're']\n"
     ]
    }
   ],
   "source": [
    "# Example: Concatenating and repeating lists\n",
    "\n",
    "odd = [1, 3, 5]\n",
    "\n",
    "print(odd + [9, 7, 5])  # ▶ [1, 3, 5, 9, 7, 5]\n",
    "print([\"re\"] * 3)       # ▶ ['re', 're', 're']"
   ]
  },
  {
   "cell_type": "code",
   "execution_count": null,
   "metadata": {
    "ExecuteTime": {
     "end_time": "2021-10-03T09:17:28.534510Z",
     "start_time": "2021-10-03T09:17:28.519867Z"
    },
    "id": "vkMA25og1GSV",
    "outputId": "5df23186-e479-4c88-9218-06b1f9465c74"
   },
   "outputs": [
    {
     "name": "stdout",
     "output_type": "stream",
     "text": [
      "['a', 'b', 'c', 'a', 'b', 'c', 'a', 'b', 'c']\n",
      "['re', 're', 're']\n"
     ]
    }
   ],
   "source": [
    "# Example:\n",
    "\n",
    "list1=['a','b','c']\n",
    "print(list1*3)    # ▶ quux ∵\n",
    "print([\"re\"] * 3) # ▶ quux ∵"
   ]
  },
  {
   "cell_type": "markdown",
   "metadata": {
    "id": "lBLTrw_S1GSV"
   },
   "source": [
    "Furthermore, we can insert one item at a desired location by using the method **`insert()`** or insert multiple items by squeezing it into an empty slice of a list."
   ]
  },
  {
   "cell_type": "code",
   "execution_count": null,
   "metadata": {
    "ExecuteTime": {
     "end_time": "2021-10-03T09:17:29.052094Z",
     "start_time": "2021-10-03T09:17:29.043306Z"
    },
    "id": "HniencRu1GSW",
    "outputId": "6419b75e-e681-4a05-e360-75d69140da21"
   },
   "outputs": [
    {
     "name": "stdout",
     "output_type": "stream",
     "text": [
      "[1, 3, 9]\n",
      "[1, 3, 5, 7, 9]\n"
     ]
    }
   ],
   "source": [
    "# Example: Demonstration of list insert() method\n",
    "\n",
    "odd = [1, 9]\n",
    "odd.insert(1,3)\n",
    "print(odd)  # ▶ [1, 3, 9]\n",
    "\n",
    "odd[2:2] = [5, 7]\n",
    "print(odd)  # ▶ [1, 3, 5, 7, 9]"
   ]
  },
  {
   "cell_type": "markdown",
   "metadata": {
    "id": "dnE-xqXj1GSW"
   },
   "source": [
    "### Delete/Remove List Elements\n",
    "\n",
    "We can delete one or more items from a list using the keyword **`del`**. It can even delete the list entirely."
   ]
  },
  {
   "cell_type": "code",
   "execution_count": null,
   "metadata": {
    "ExecuteTime": {
     "end_time": "2021-10-03T09:17:29.481784Z",
     "start_time": "2021-10-03T09:17:29.461278Z"
    },
    "id": "YxI3t5Ll1GSX",
    "outputId": "98fc6d5b-de5e-493c-ef2a-8bc9a9f4f89f",
    "scrolled": true
   },
   "outputs": [
    {
     "name": "stdout",
     "output_type": "stream",
     "text": [
      "['p', 'r', 'b', 'l', 'e', 'm']\n",
      "['p', 'm']\n"
     ]
    },
    {
     "ename": "NameError",
     "evalue": "name 'my_list' is not defined",
     "output_type": "error",
     "traceback": [
      "\u001b[1;31m---------------------------------------------------------------------------\u001b[0m",
      "\u001b[1;31mNameError\u001b[0m                                 Traceback (most recent call last)",
      "\u001b[1;32m<ipython-input-16-b72af0bfcd83>\u001b[0m in \u001b[0;36m<module>\u001b[1;34m\u001b[0m\n\u001b[0;32m     10\u001b[0m \u001b[1;33m\u001b[0m\u001b[0m\n\u001b[0;32m     11\u001b[0m \u001b[1;32mdel\u001b[0m \u001b[0mmy_list\u001b[0m      \u001b[1;31m# delete entire list\u001b[0m\u001b[1;33m\u001b[0m\u001b[1;33m\u001b[0m\u001b[0m\n\u001b[1;32m---> 12\u001b[1;33m \u001b[0mprint\u001b[0m\u001b[1;33m(\u001b[0m\u001b[0mmy_list\u001b[0m\u001b[1;33m)\u001b[0m   \u001b[1;31m# ▶ NameError: name 'my_list' is not defined\u001b[0m\u001b[1;33m\u001b[0m\u001b[1;33m\u001b[0m\u001b[0m\n\u001b[0m",
      "\u001b[1;31mNameError\u001b[0m: name 'my_list' is not defined"
     ]
    }
   ],
   "source": [
    "# Example: Deleting list items\n",
    "\n",
    "my_list = ['p', 'r', 'o', 'b', 'l', 'e', 'm']\n",
    "\n",
    "del my_list[2]  # delete one item\n",
    "print(my_list)  # ▶ ['p', 'r', 'b', 'l', 'e', 'm']\n",
    "\n",
    "del my_list[1:5]  # delete multiple items\n",
    "print(my_list)  # ▶ ['p', 'm']\n",
    "\n",
    "del my_list      # delete entire list\n",
    "print(my_list)   # ▶ NameError: name 'my_list' is not defined"
   ]
  },
  {
   "cell_type": "code",
   "execution_count": null,
   "metadata": {
    "ExecuteTime": {
     "end_time": "2021-10-03T09:17:29.698583Z",
     "start_time": "2021-10-03T09:17:29.687842Z"
    },
    "id": "Ja_9tyV11GSX",
    "outputId": "0d0ed4ad-8843-4298-a1a6-636699bc8476",
    "scrolled": true
   },
   "outputs": [
    {
     "name": "stdout",
     "output_type": "stream",
     "text": [
      "data in list :  ['a', 'b', 'c']\n",
      "new data in list :  ['a', 'b']\n"
     ]
    }
   ],
   "source": [
    "# Example:\n",
    "\n",
    "list1=['a','b','c']\n",
    "print(\"data in list : \",list1)      # ▶ data in list :  ['a', 'b', 'c']\n",
    "\n",
    "del(list1[2])\n",
    "print(\"new data in list : \",list1)  # ▶ new data in list :  ['a', 'b']"
   ]
  },
  {
   "cell_type": "markdown",
   "metadata": {
    "id": "zf2xuIiL1GSX"
   },
   "source": [
    "We can use **`remove()`** method to remove the given item or **`pop()`** method to remove an item at the given index.\n",
    "\n",
    "The **`pop()`** method removes and returns the last item if the index is not provided. This helps us implement lists as stacks (first in, last out data structure).\n",
    "\n",
    "We can also use the **`clear()`** method to empty a list."
   ]
  },
  {
   "cell_type": "code",
   "execution_count": null,
   "metadata": {
    "ExecuteTime": {
     "end_time": "2021-10-03T09:17:30.111668Z",
     "start_time": "2021-10-03T09:17:30.093604Z"
    },
    "id": "-TODR3ko1GSe",
    "outputId": "0f5ebe4b-4a69-42c6-88aa-af6b95074992"
   },
   "outputs": [
    {
     "name": "stdout",
     "output_type": "stream",
     "text": [
      "['r', 'o', 'b', 'l', 'e', 'm']\n",
      "o\n",
      "['r', 'b', 'l', 'e', 'm']\n",
      "m\n",
      "['r', 'b', 'l', 'e']\n",
      "[]\n"
     ]
    }
   ],
   "source": [
    "# Example:\n",
    "\n",
    "my_list = ['p','r','o','b','l','e','m']\n",
    "my_list.remove('p')\n",
    "\n",
    "print(my_list)        # ▶ ['r', 'o', 'b', 'l', 'e', 'm']\n",
    "print(my_list.pop(1)) # ▶ 'o'\n",
    "print(my_list)        # ▶ ['r', 'b', 'l', 'e', 'm']\n",
    "print(my_list.pop())  # ▶ 'm'\n",
    "print(my_list)        # ▶ ['r', 'b', 'l', 'e']\n",
    "\n",
    "my_list.clear()\n",
    "print(my_list)        # ▶ []"
   ]
  },
  {
   "cell_type": "markdown",
   "metadata": {
    "id": "CCehk7Yn1GSe"
   },
   "source": [
    "Finally, we can also delete items in a list by assigning an empty list to a slice of elements."
   ]
  },
  {
   "cell_type": "code",
   "execution_count": null,
   "metadata": {
    "ExecuteTime": {
     "end_time": "2021-10-03T09:17:30.608254Z",
     "start_time": "2021-10-03T09:17:30.586772Z"
    },
    "id": "H9-3dP8m1GSf",
    "outputId": "2f067c12-2b6d-417c-bd1e-9c3a73bd5c5c"
   },
   "outputs": [
    {
     "name": "stdout",
     "output_type": "stream",
     "text": [
      "['p', 'r', 'b', 'l', 'e', 'm']\n",
      "['p', 'r', 'e', 'm']\n"
     ]
    }
   ],
   "source": [
    "# Example:\n",
    "\n",
    "my_list = ['p','r','o','b','l','e','m']\n",
    "\n",
    "my_list[2:3] = []\n",
    "print(my_list)  # ▶ ['p', 'r', 'b', 'l', 'e', 'm']\n",
    "\n",
    "my_list[2:-2] = []\n",
    "print(my_list)  # ▶ ['p', 'r', 'e', 'm']"
   ]
  },
  {
   "cell_type": "markdown",
   "metadata": {
    "id": "ux8SZ9n81GSf"
   },
   "source": [
    "### **`all(list)`** - The method all() method returns True when all elements in the given iterable are true. If not, it returns False."
   ]
  },
  {
   "cell_type": "code",
   "execution_count": null,
   "metadata": {
    "ExecuteTime": {
     "end_time": "2021-10-03T09:17:31.630720Z",
     "start_time": "2021-10-03T09:17:31.611193Z"
    },
    "id": "qK7axZJd1GSf",
    "outputId": "d085c0ba-3dac-47b0-8708-522b51a97559",
    "scrolled": true
   },
   "outputs": [
    {
     "name": "stdout",
     "output_type": "stream",
     "text": [
      "True\n",
      "False\n",
      "False\n",
      "False\n",
      "True\n"
     ]
    }
   ],
   "source": [
    "# Example: How all() works for lists?\n",
    "\n",
    "l = [1, 3, 4, 5]\n",
    "print(all(l))  # ▶ True ∵ all values true\n",
    "\n",
    "l = [0, False]\n",
    "print(all(l))  # ▶ False ∵ all values false\n",
    "\n",
    "l = [1, 3, 4, 0]\n",
    "print(all(l))  # ▶ False ∵ one false value\n",
    "\n",
    "l = [0, False, 5]\n",
    "print(all(l))  # ▶ False ∵ one true value\n",
    "\n",
    "l = []\n",
    "print(all(l))  # ▶ True ∵ empty iterable"
   ]
  },
  {
   "cell_type": "markdown",
   "metadata": {
    "id": "Mcv8sDuG1GSg"
   },
   "source": [
    "### **`any(list)`** - any() function returns True if any element of an iterable is True. If not, any() returns False."
   ]
  },
  {
   "cell_type": "code",
   "execution_count": null,
   "metadata": {
    "ExecuteTime": {
     "end_time": "2021-10-03T09:17:32.042343Z",
     "start_time": "2021-10-03T09:17:32.019888Z"
    },
    "id": "GuwV1lIr1GSg",
    "outputId": "990c2b77-b1b4-4e95-9b84-063dd78ae997",
    "scrolled": true
   },
   "outputs": [
    {
     "name": "stdout",
     "output_type": "stream",
     "text": [
      "True\n",
      "False\n",
      "True\n",
      "False\n"
     ]
    }
   ],
   "source": [
    "# Example: True since 1,3 and 4 (at least one) is true\n",
    "\n",
    "l = [1, 3, 4, 0]\n",
    "print(any(l))  # ▶ True\n",
    "\n",
    "l = [0, False]\n",
    "print(any(l))  # ▶ False ∵ both are False\n",
    "\n",
    "l = [0, False, 5]\n",
    "print(any(l))  # ▶ True ∵ 5 is true\n",
    "\n",
    "l = []\n",
    "print(any(l))  # ▶ False ∵ iterable is empty"
   ]
  },
  {
   "cell_type": "markdown",
   "metadata": {
    "id": "p_K8w7q51GSg"
   },
   "source": [
    "### **`sorted(dict)`** - The sorted() function sorts the elements of a given iterable in a specific order (either **ascending** or **descending**) and returns the sorted iterable as a list."
   ]
  },
  {
   "cell_type": "code",
   "execution_count": null,
   "metadata": {
    "ExecuteTime": {
     "end_time": "2021-10-03T09:17:32.452016Z",
     "start_time": "2021-10-03T09:17:32.443229Z"
    },
    "id": "ZtYif9ey1GSg",
    "outputId": "9ad8772e-74a5-4baa-e5d2-8c8864c474da"
   },
   "outputs": [
    {
     "name": "stdout",
     "output_type": "stream",
     "text": [
      "['a', 'e', 'i', 'o', 'u']\n",
      "['u', 'o', 'i', 'e', 'a']\n"
     ]
    }
   ],
   "source": [
    "# Example: vowels list\n",
    "\n",
    "py_list = ['e', 'a', 'u', 'o', 'i']\n",
    "print(sorted(py_list))                # ▶ ['a', 'e', 'i', 'o', 'u']\n",
    "print(sorted(py_list, reverse=True))  # ▶ ['u', 'o', 'i', 'e', 'a']"
   ]
  },
  {
   "cell_type": "markdown",
   "metadata": {
    "id": "W08lQoTH1GSh"
   },
   "source": [
    "### **`min(list)`** - this method is used to get min value from the list. In Python3 lists element's type should be same otherwise compiler throw type Error."
   ]
  },
  {
   "cell_type": "code",
   "execution_count": null,
   "metadata": {
    "ExecuteTime": {
     "end_time": "2021-10-03T09:17:33.100459Z",
     "start_time": "2021-10-03T09:17:33.083858Z"
    },
    "id": "0CkmODIg1GSh",
    "outputId": "7530f6e4-24f9-4e34-c980-d468be39ba53"
   },
   "outputs": [
    {
     "name": "stdout",
     "output_type": "stream",
     "text": [
      "a\n",
      "1\n"
     ]
    },
    {
     "ename": "TypeError",
     "evalue": "'<' not supported between instances of 'int' and 'str'",
     "output_type": "error",
     "traceback": [
      "\u001b[1;31m---------------------------------------------------------------------------\u001b[0m",
      "\u001b[1;31mTypeError\u001b[0m                                 Traceback (most recent call last)",
      "\u001b[1;32m<ipython-input-23-9b450cb47d30>\u001b[0m in \u001b[0;36m<module>\u001b[1;34m\u001b[0m\n\u001b[0;32m      7\u001b[0m \u001b[0mprint\u001b[0m\u001b[1;33m(\u001b[0m\u001b[0mmin\u001b[0m\u001b[1;33m(\u001b[0m\u001b[0mlist1\u001b[0m\u001b[1;33m)\u001b[0m\u001b[1;33m)\u001b[0m  \u001b[1;31m# ▶ a\u001b[0m\u001b[1;33m\u001b[0m\u001b[1;33m\u001b[0m\u001b[0m\n\u001b[0;32m      8\u001b[0m \u001b[0mprint\u001b[0m\u001b[1;33m(\u001b[0m\u001b[0mmin\u001b[0m\u001b[1;33m(\u001b[0m\u001b[0mlist2\u001b[0m\u001b[1;33m)\u001b[0m\u001b[1;33m)\u001b[0m  \u001b[1;31m# ▶ 1\u001b[0m\u001b[1;33m\u001b[0m\u001b[1;33m\u001b[0m\u001b[0m\n\u001b[1;32m----> 9\u001b[1;33m \u001b[0mprint\u001b[0m\u001b[1;33m(\u001b[0m\u001b[0mmin\u001b[0m\u001b[1;33m(\u001b[0m\u001b[0mlist3\u001b[0m\u001b[1;33m)\u001b[0m\u001b[1;33m)\u001b[0m  \u001b[1;31m# ▶ TypeError: '<' not supported between instances of 'int' and 'str'\u001b[0m\u001b[1;33m\u001b[0m\u001b[1;33m\u001b[0m\u001b[0m\n\u001b[0m",
      "\u001b[1;31mTypeError\u001b[0m: '<' not supported between instances of 'int' and 'str'"
     ]
    }
   ],
   "source": [
    "# Example:\n",
    "\n",
    "list1 = ['a','b','c']\n",
    "list2 = [1,2,3]\n",
    "list3=['a','b','c',1,2,3]\n",
    "\n",
    "print(min(list1))  # ▶ a\n",
    "print(min(list2))  # ▶ 1\n",
    "print(min(list3))  # ▶ TypeError: '<' not supported between instances of 'int' and 'str'"
   ]
  },
  {
   "cell_type": "markdown",
   "metadata": {
    "id": "DpQNwEJw1GSh"
   },
   "source": [
    "### **`max(list)`** - The max() method returns the elements from the list with maximum value."
   ]
  },
  {
   "cell_type": "code",
   "execution_count": null,
   "metadata": {
    "ExecuteTime": {
     "end_time": "2021-10-03T09:17:33.916867Z",
     "start_time": "2021-10-03T09:17:33.835816Z"
    },
    "id": "mkUDzOrT1GSh",
    "outputId": "892aff46-490e-40d7-dcfb-cb423892135a"
   },
   "outputs": [
    {
     "name": "stdout",
     "output_type": "stream",
     "text": [
      "c\n",
      "3\n"
     ]
    },
    {
     "ename": "TypeError",
     "evalue": "'>' not supported between instances of 'int' and 'str'",
     "output_type": "error",
     "traceback": [
      "\u001b[1;31m---------------------------------------------------------------------------\u001b[0m",
      "\u001b[1;31mTypeError\u001b[0m                                 Traceback (most recent call last)",
      "\u001b[1;32m<ipython-input-24-8f0bbdfdf6e5>\u001b[0m in \u001b[0;36m<module>\u001b[1;34m\u001b[0m\n\u001b[0;32m      7\u001b[0m \u001b[0mprint\u001b[0m\u001b[1;33m(\u001b[0m\u001b[0mmax\u001b[0m\u001b[1;33m(\u001b[0m\u001b[0mlist1\u001b[0m\u001b[1;33m)\u001b[0m\u001b[1;33m)\u001b[0m  \u001b[1;31m# ▶ c\u001b[0m\u001b[1;33m\u001b[0m\u001b[1;33m\u001b[0m\u001b[0m\n\u001b[0;32m      8\u001b[0m \u001b[0mprint\u001b[0m\u001b[1;33m(\u001b[0m\u001b[0mmax\u001b[0m\u001b[1;33m(\u001b[0m\u001b[0mlist2\u001b[0m\u001b[1;33m)\u001b[0m\u001b[1;33m)\u001b[0m  \u001b[1;31m# ▶ 3\u001b[0m\u001b[1;33m\u001b[0m\u001b[1;33m\u001b[0m\u001b[0m\n\u001b[1;32m----> 9\u001b[1;33m \u001b[0mprint\u001b[0m\u001b[1;33m(\u001b[0m\u001b[0mmax\u001b[0m\u001b[1;33m(\u001b[0m\u001b[0mlist3\u001b[0m\u001b[1;33m)\u001b[0m\u001b[1;33m)\u001b[0m  \u001b[1;31m# ▶ TypeError: '>' not supported between instances of 'int' and 'str'\u001b[0m\u001b[1;33m\u001b[0m\u001b[1;33m\u001b[0m\u001b[0m\n\u001b[0m",
      "\u001b[1;31mTypeError\u001b[0m: '>' not supported between instances of 'int' and 'str'"
     ]
    }
   ],
   "source": [
    "# Example:\n",
    "\n",
    "list1 = ['a','b','c']\n",
    "list2 = [1,2,3]\n",
    "list3=['a','b','c',1,2,3]\n",
    "\n",
    "print(max(list1))  # ▶ c\n",
    "print(max(list2))  # ▶ 3\n",
    "print(max(list3))  # ▶ TypeError: '>' not supported between instances of 'int' and 'str'"
   ]
  },
  {
   "cell_type": "markdown",
   "metadata": {
    "id": "PBTaBK3e1GSi"
   },
   "source": [
    "### **`len(list)`** - The len() method returns the number of elements in the list."
   ]
  },
  {
   "cell_type": "code",
   "execution_count": null,
   "metadata": {
    "ExecuteTime": {
     "end_time": "2021-10-03T09:17:34.543827Z",
     "start_time": "2021-10-03T09:17:34.522832Z"
    },
    "id": "frfITXNs1GSi",
    "outputId": "b0736fe6-1fa0-4c8b-b376-6a3939c442f8"
   },
   "outputs": [
    {
     "name": "stdout",
     "output_type": "stream",
     "text": [
      "3\n",
      "0\n",
      "6\n"
     ]
    }
   ],
   "source": [
    "# Example:\n",
    "\n",
    "list1 = ['a','b','c']\n",
    "list2 = []\n",
    "list3=['a','b','c',1,2,3]\n",
    "\n",
    "print(len(list1))  # ▶ 3\n",
    "print(len(list2))  # ▶ 0\n",
    "print(len(list3))  # ▶ 6"
   ]
  },
  {
   "cell_type": "markdown",
   "metadata": {
    "id": "WBbLsc3i1GSj"
   },
   "source": [
    "### **`append()`** - The `append()` method adds an item to the end of the list."
   ]
  },
  {
   "cell_type": "code",
   "execution_count": null,
   "metadata": {
    "ExecuteTime": {
     "end_time": "2021-10-03T09:17:35.451060Z",
     "start_time": "2021-10-03T09:17:35.434458Z"
    },
    "id": "326Wg5FR1GSj",
    "outputId": "dab7074f-6c22-4e04-f857-4465c4064dff"
   },
   "outputs": [
    {
     "name": "stdout",
     "output_type": "stream",
     "text": [
      "[1, 2, 3, 4, 'helloworld', ['a', 'b', 'c']]\n"
     ]
    }
   ],
   "source": [
    "# Example:\n",
    "\n",
    "list1 =[1,2,3]\n",
    "list1.append(4)\n",
    "list1.append('helloworld')\n",
    "list1.append(['a','b','c']) #append as single object\n",
    "print(list1)  # ▶ [1, 2, 3, 4, 'helloworld', ['a', 'b', 'c']]"
   ]
  },
  {
   "cell_type": "markdown",
   "metadata": {
    "id": "s5mZccgc1GSj"
   },
   "source": [
    "### **`extend()`** - The `extend()` method adds all the elements of an iterable (list, tuple, string etc.) to the end of the list."
   ]
  },
  {
   "cell_type": "code",
   "execution_count": null,
   "metadata": {
    "ExecuteTime": {
     "end_time": "2021-10-03T09:17:36.023323Z",
     "start_time": "2021-10-03T09:17:36.008680Z"
    },
    "id": "2etibYEc1GSk",
    "outputId": "fbc5faf4-c46c-4556-9438-b8472a0f7cc0"
   },
   "outputs": [
    {
     "name": "stdout",
     "output_type": "stream",
     "text": [
      "[1, 2, 3, 4, 'h', 'e', 'l', 'l', 'o', 'w', 'o', 'r', 'l', 'd', 'a', 'b', 'c']\n"
     ]
    }
   ],
   "source": [
    "# Example:\n",
    "\n",
    "list1 =[1,2,3]\n",
    "list1.extend([4])\n",
    "list1.extend('helloworld')\n",
    "list1.extend(['a','b','c'])\n",
    "print(list1)  # ▶ [1, 2, 3, 4, 'h', 'e', 'l', 'l', 'o', 'w', 'o', 'r', 'l', 'd', 'a', 'b', 'c']"
   ]
  },
  {
   "cell_type": "markdown",
   "metadata": {
    "id": "Bxk0XK8b1GSk"
   },
   "source": [
    "### **`insert()`** - The `insert()` method inserts an element to the list at the specified index."
   ]
  },
  {
   "cell_type": "code",
   "execution_count": null,
   "metadata": {
    "ExecuteTime": {
     "end_time": "2021-10-03T09:17:36.477433Z",
     "start_time": "2021-10-03T09:17:36.468644Z"
    },
    "id": "GxRB5H2L1GSk",
    "outputId": "6ce4bffa-a40a-4619-d6fc-e110fb410f71"
   },
   "outputs": [
    {
     "name": "stdout",
     "output_type": "stream",
     "text": [
      "['helloworld', 'python', 'java', 'C#', 'c++', 1, 2, 3]\n"
     ]
    }
   ],
   "source": [
    "# Example:\n",
    "\n",
    "list1 =['helloworld','python','java','c++',1,2,3]\n",
    "list1.insert(3,'C#')\n",
    "print(list1)  # ▶ ['helloworld', 'python', 'java', 'C#', 'c++', 1, 2, 3]"
   ]
  },
  {
   "cell_type": "markdown",
   "metadata": {
    "id": "l6qcg_tk1GSl"
   },
   "source": [
    "### **`remove()`** - The `remove()` method removes the first matching element (which is passed as an argument) from the list."
   ]
  },
  {
   "cell_type": "code",
   "execution_count": null,
   "metadata": {
    "ExecuteTime": {
     "end_time": "2021-10-03T09:17:37.161031Z",
     "start_time": "2021-10-03T09:17:37.140523Z"
    },
    "id": "aJAWaAm41GSl",
    "outputId": "ca395549-ed76-44a3-c237-6622b60223f3"
   },
   "outputs": [
    {
     "name": "stdout",
     "output_type": "stream",
     "text": [
      "['helloworld', 'python', 'c++', 1, 2, 3]\n",
      "['helloworld', 'python', 'c++', 1, 3]\n"
     ]
    }
   ],
   "source": [
    "# Example:\n",
    "\n",
    "list1 =['helloworld','python','java','c++',1,2,3]\n",
    "list1.remove(\"java\")\n",
    "print(list1)  # ▶ ['helloworld', 'python', 'c++', 1, 2, 3]\n",
    "list1.remove(2)\n",
    "print(list1)  # ▶ ['helloworld', 'python', 'c++', 1, 3]"
   ]
  },
  {
   "cell_type": "markdown",
   "metadata": {
    "id": "5JFIare_1GSl"
   },
   "source": [
    "### **`pop()`** - The `pop()` method removes the item at the given index from the list and returns the removed item."
   ]
  },
  {
   "cell_type": "code",
   "execution_count": null,
   "metadata": {
    "ExecuteTime": {
     "end_time": "2021-10-03T09:17:37.633201Z",
     "start_time": "2021-10-03T09:17:37.614647Z"
    },
    "id": "GoKZw8gX1GSl",
    "outputId": "1ef45153-d85f-4e3e-e2ee-8c74619c6948"
   },
   "outputs": [
    {
     "name": "stdout",
     "output_type": "stream",
     "text": [
      "['helloworld', 'python', 'java', 'c++', 1, 2]\n",
      "['helloworld', 'python', 'c++', 1, 2]\n"
     ]
    }
   ],
   "source": [
    "# Example:\n",
    "\n",
    "list1 =['helloworld','python','java','c++',1,2,3]\n",
    "list1.pop()   # pop last element\n",
    "print(list1)  # ▶ ['helloworld', 'python', 'java', 'c++', 1, 2]\n",
    "list1.pop(2)  # pop element with index 2\n",
    "print(list1)  # ▶ ['helloworld', 'python', 'c++', 1, 2]"
   ]
  },
  {
   "cell_type": "markdown",
   "metadata": {
    "id": "XNQF7imh1GSm"
   },
   "source": [
    "### **`clear()`** - The `clear()` method removes all items from the list."
   ]
  },
  {
   "cell_type": "code",
   "execution_count": null,
   "metadata": {
    "ExecuteTime": {
     "end_time": "2021-10-03T09:17:38.108790Z",
     "start_time": "2021-10-03T09:17:38.099024Z"
    },
    "id": "VMlrwSRD1GSm",
    "outputId": "acfce9e9-c330-40c9-bbb5-f8e3b85068c5"
   },
   "outputs": [
    {
     "name": "stdout",
     "output_type": "stream",
     "text": [
      "list1: []\n"
     ]
    }
   ],
   "source": [
    "list1 =['helloworld','python','java','c++',1,2,3]\n",
    "list1.clear()\n",
    "print('list1:', list1)  # ▶ list1: []"
   ]
  },
  {
   "cell_type": "markdown",
   "metadata": {
    "id": "ZBD3Er9l1GSm"
   },
   "source": [
    "### **`index()`** - The `index()` method returns the index of the specified element in the list."
   ]
  },
  {
   "cell_type": "code",
   "execution_count": null,
   "metadata": {
    "ExecuteTime": {
     "end_time": "2021-10-03T09:17:38.578520Z",
     "start_time": "2021-10-03T09:17:38.565823Z"
    },
    "id": "4UwWAtm91GSm",
    "outputId": "2cd928e5-630e-4ae8-e4e7-7785c4ee9a2a"
   },
   "outputs": [
    {
     "name": "stdout",
     "output_type": "stream",
     "text": [
      "index of java :  2\n",
      "index of 2 :  5\n"
     ]
    }
   ],
   "source": [
    "# Example:\n",
    "\n",
    "list1 =['helloworld','python','java','c++',1,2,3]\n",
    "print(\"index of java : \",list1.index('java'))  # ▶ index of java :  2\n",
    "print(\"index of 2 : \",list1.index(2))          # ▶ index of 2 :  5"
   ]
  },
  {
   "cell_type": "markdown",
   "metadata": {
    "id": "noVBbQgL1GSn"
   },
   "source": [
    "### **`count()`** - The `count()` method returns the number of times the specified element appears in the list."
   ]
  },
  {
   "cell_type": "code",
   "execution_count": null,
   "metadata": {
    "ExecuteTime": {
     "end_time": "2021-10-03T09:17:39.248929Z",
     "start_time": "2021-10-03T09:17:39.229403Z"
    },
    "id": "o1Wj4YpC1GSn",
    "outputId": "bb7e3af2-2019-4cb6-aad2-b2c1647e0a8e",
    "scrolled": true
   },
   "outputs": [
    {
     "name": "stdout",
     "output_type": "stream",
     "text": [
      "2\n",
      "1\n",
      "0\n"
     ]
    }
   ],
   "source": [
    "# Example:\n",
    "\n",
    "list1 =[1,2,3,'a','b','c',1,2,3]\n",
    "\n",
    "print(list1.count(1))   # ▶ 2\n",
    "print(list1.count('b')) # ▶ 1\n",
    "print(list1.count(4))   # ▶ 0"
   ]
  },
  {
   "cell_type": "markdown",
   "metadata": {
    "id": "UNJztDgY1GSn"
   },
   "source": [
    "### **`sort() `** - The `sort()` method sorts the elements of a given list in a specific ascending or descending order."
   ]
  },
  {
   "cell_type": "code",
   "execution_count": null,
   "metadata": {
    "ExecuteTime": {
     "end_time": "2021-10-03T09:17:39.733798Z",
     "start_time": "2021-10-03T09:17:39.712315Z"
    },
    "id": "Ih96aNue1GSn",
    "outputId": "f553f742-8678-4541-e783-dd2014fce4dc"
   },
   "outputs": [
    {
     "name": "stdout",
     "output_type": "stream",
     "text": [
      "[22, 30, 100, 300, 399]\n",
      "[399, 300, 100, 30, 22]\n",
      "['a', 'ab', 'abc', 'b', 'z']\n"
     ]
    }
   ],
   "source": [
    "# Example:\n",
    "\n",
    "list1 =[22,30,100,300,399]\n",
    "list2=['z','ab','abc','a','b']\n",
    "list1.sort()\n",
    "list2.sort()\n",
    "print(list1)  # ▶ [22, 30, 100, 300, 399]\n",
    "\n",
    "list1.sort(reverse=True)\n",
    "print(list1)  # ▶ [399, 300, 100, 30, 22]\n",
    "print(list2)  # ▶ ['a', 'ab', 'abc', 'b', 'z']"
   ]
  },
  {
   "cell_type": "code",
   "execution_count": null,
   "metadata": {
    "ExecuteTime": {
     "end_time": "2021-10-03T09:17:39.948152Z",
     "start_time": "2021-10-03T09:17:39.916906Z"
    },
    "id": "_KUIHraR1GSo",
    "outputId": "11b1f602-9ac8-486e-ece4-dd9b9a4c40b5",
    "scrolled": false
   },
   "outputs": [
    {
     "ename": "TypeError",
     "evalue": "'<' not supported between instances of 'int' and 'str'",
     "output_type": "error",
     "traceback": [
      "\u001b[1;31m---------------------------------------------------------------------------\u001b[0m",
      "\u001b[1;31mTypeError\u001b[0m                                 Traceback (most recent call last)",
      "\u001b[1;32m<ipython-input-35-b942612e6b6a>\u001b[0m in \u001b[0;36m<module>\u001b[1;34m\u001b[0m\n\u001b[0;32m      2\u001b[0m \u001b[1;33m\u001b[0m\u001b[0m\n\u001b[0;32m      3\u001b[0m \u001b[0mlist3\u001b[0m\u001b[1;33m=\u001b[0m\u001b[1;33m[\u001b[0m\u001b[1;34m'a'\u001b[0m\u001b[1;33m,\u001b[0m\u001b[1;34m'b'\u001b[0m\u001b[1;33m,\u001b[0m\u001b[1;36m1\u001b[0m\u001b[1;33m,\u001b[0m\u001b[1;36m2\u001b[0m\u001b[1;33m]\u001b[0m\u001b[1;33m\u001b[0m\u001b[1;33m\u001b[0m\u001b[0m\n\u001b[1;32m----> 4\u001b[1;33m \u001b[0mlist3\u001b[0m\u001b[1;33m.\u001b[0m\u001b[0msort\u001b[0m\u001b[1;33m(\u001b[0m\u001b[1;33m)\u001b[0m\u001b[1;33m\u001b[0m\u001b[1;33m\u001b[0m\u001b[0m\n\u001b[0m\u001b[0;32m      5\u001b[0m \u001b[0mprint\u001b[0m\u001b[1;33m(\u001b[0m\u001b[0mlist3\u001b[0m\u001b[1;33m)\u001b[0m  \u001b[1;31m# ▶ TypeError: '<' not supported between instances of 'int' and 'str'\u001b[0m\u001b[1;33m\u001b[0m\u001b[1;33m\u001b[0m\u001b[0m\n",
      "\u001b[1;31mTypeError\u001b[0m: '<' not supported between instances of 'int' and 'str'"
     ]
    }
   ],
   "source": [
    "# Example:\n",
    "\n",
    "list3=['a','b',1,2]\n",
    "list3.sort()\n",
    "print(list3)  # ▶ TypeError: '<' not supported between instances of 'int' and 'str'"
   ]
  },
  {
   "cell_type": "markdown",
   "metadata": {
    "id": "jmCI_mlH1GSo"
   },
   "source": [
    "### **`reverse() `** - The `reverse()` method reverses the elements of the list."
   ]
  },
  {
   "cell_type": "code",
   "execution_count": null,
   "metadata": {
    "ExecuteTime": {
     "end_time": "2021-10-03T09:17:40.498451Z",
     "start_time": "2021-10-03T09:17:40.491618Z"
    },
    "id": "nkM1omUU1GSo",
    "outputId": "70d43ad1-8de6-425b-f647-206442df01f9"
   },
   "outputs": [
    {
     "name": "stdout",
     "output_type": "stream",
     "text": [
      "[3, 2, 1, 'c++', 'java', 'python', 'helloworld']\n"
     ]
    }
   ],
   "source": [
    "# Example:\n",
    "\n",
    "list1 =['helloworld','python','java','c++',1,2,3]\n",
    "list1.reverse()\n",
    "print(list1)  # ▶ [3, 2, 1, 'c++', 'java', 'python', 'helloworld']"
   ]
  },
  {
   "cell_type": "markdown",
   "metadata": {
    "id": "2q1IIWXg1GSp"
   },
   "source": [
    "### **`copy() `** - The `copy()` method returns a shallow copy of the list."
   ]
  },
  {
   "cell_type": "code",
   "execution_count": null,
   "metadata": {
    "ExecuteTime": {
     "end_time": "2021-10-03T09:17:40.892494Z",
     "start_time": "2021-10-03T09:17:40.869058Z"
    },
    "id": "MY-1_pt01GSp",
    "outputId": "1a1c654d-ba5a-4cd2-eaa3-ba7f04dda800"
   },
   "outputs": [
    {
     "name": "stdout",
     "output_type": "stream",
     "text": [
      "list1: ['helloworld', 'python', 'java', 'c++', 1, 2, 3]\n",
      "list2: ['helloworld', 'python', 'java', 'c++', 1, 2, 3]\n"
     ]
    }
   ],
   "source": [
    "list1 =['helloworld','python','java','c++',1,2,3]\n",
    "list2 = list1.copy()\n",
    "print('list1:', list1)  # ▶ list1: ['helloworld', 'python', 'java', 'c++', 1, 2, 3]\n",
    "print('list2:', list2)  # ▶ list2: ['helloworld', 'python', 'java', 'c++', 1, 2, 3]"
   ]
  },
  {
   "cell_type": "code",
   "execution_count": null,
   "metadata": {
    "ExecuteTime": {
     "end_time": "2021-10-03T09:17:41.485275Z",
     "start_time": "2021-10-03T09:17:41.475509Z"
    },
    "id": "2SkBl5U41GSq",
    "outputId": "4f335ae3-241e-4b56-972d-5b1d8b395112"
   },
   "outputs": [
    {
     "name": "stdout",
     "output_type": "stream",
     "text": [
      "[1, 2, 4, 8, 16, 32, 64, 128, 256, 512]\n"
     ]
    }
   ],
   "source": [
    "pow2 = [2 ** x for x in range(10)]\n",
    "print(pow2)  # ▶ [1, 2, 4, 8, 16, 32, 64, 128, 256, 512]"
   ]
  },
  {
   "cell_type": "markdown",
   "metadata": {
    "id": "C4VmmXHz1GSq"
   },
   "source": [
    "This code is equivalent to:"
   ]
  },
  {
   "cell_type": "code",
   "execution_count": null,
   "metadata": {
    "ExecuteTime": {
     "end_time": "2021-10-03T09:17:42.015547Z",
     "start_time": "2021-10-03T09:17:42.001880Z"
    },
    "id": "a_yn6M7-1GSr",
    "outputId": "004ebec1-1eba-4a25-a889-82f50491fe29"
   },
   "outputs": [
    {
     "name": "stdout",
     "output_type": "stream",
     "text": [
      "[1, 2, 4, 8, 16, 32, 64, 128, 256, 512]\n"
     ]
    }
   ],
   "source": [
    "pow2 = []\n",
    "for x in range(10):\n",
    "    pow2.append(2 ** x)\n",
    "print(pow2)  # ▶ [1, 2, 4, 8, 16, 32, 64, 128, 256, 512]"
   ]
  },
  {
   "cell_type": "code",
   "execution_count": null,
   "metadata": {
    "ExecuteTime": {
     "end_time": "2021-10-03T09:17:42.918874Z",
     "start_time": "2021-10-03T09:17:42.896417Z"
    },
    "id": "9e6BOMq31GSr",
    "outputId": "ec15b07a-d296-4808-a9b3-c4d1dadd969f"
   },
   "outputs": [
    {
     "data": {
      "text/plain": [
       "[64, 128, 256, 512]"
      ]
     },
     "execution_count": 40,
     "metadata": {},
     "output_type": "execute_result"
    }
   ],
   "source": [
    "pow2 = [2 ** x for x in range(10) if x > 5]\n",
    "pow2  # ▶ [64, 128, 256, 512]"
   ]
  },
  {
   "cell_type": "code",
   "execution_count": null,
   "metadata": {
    "ExecuteTime": {
     "end_time": "2021-10-03T09:17:43.070241Z",
     "start_time": "2021-10-03T09:17:43.050714Z"
    },
    "id": "uees6zvc1GSr",
    "outputId": "a9aaf075-8f5b-4a1d-cb8e-64cd2146470a"
   },
   "outputs": [
    {
     "data": {
      "text/plain": [
       "[1, 3, 5, 7, 9, 11, 13, 15, 17, 19]"
      ]
     },
     "execution_count": 41,
     "metadata": {},
     "output_type": "execute_result"
    }
   ],
   "source": [
    "odd = [x for x in range(20) if x % 2 == 1]\n",
    "odd  # ▶ [1, 3, 5, 7, 9, 11, 13, 15, 17, 19]"
   ]
  },
  {
   "cell_type": "code",
   "execution_count": null,
   "metadata": {
    "ExecuteTime": {
     "end_time": "2021-10-03T09:17:43.414483Z",
     "start_time": "2021-10-03T09:17:43.402766Z"
    },
    "id": "JHj5SIUw1GSs",
    "outputId": "16f3e948-dbc4-4229-dce4-cc5d03a013a2"
   },
   "outputs": [
    {
     "data": {
      "text/plain": [
       "['Python Language', 'Python Programming', 'C Language', 'C Programming']"
      ]
     },
     "execution_count": 42,
     "metadata": {},
     "output_type": "execute_result"
    }
   ],
   "source": [
    "[x+y for x in ['Python ','C '] for y in ['Language','Programming']]"
   ]
  },
  {
   "cell_type": "markdown",
   "metadata": {
    "id": "p0eRNAL71GSs"
   },
   "source": [
    "## Other List Operations in Python"
   ]
  },
  {
   "cell_type": "markdown",
   "metadata": {
    "id": "-3WkSj811GSs"
   },
   "source": [
    "### 1. List Membership Test\n",
    "\n",
    "We can test if an item exists in a list or not, using the keyword **`in`**."
   ]
  },
  {
   "cell_type": "code",
   "execution_count": null,
   "metadata": {
    "ExecuteTime": {
     "end_time": "2021-10-03T09:17:44.394469Z",
     "start_time": "2021-10-03T09:17:44.376895Z"
    },
    "id": "kTjPrAjk1GSs",
    "outputId": "84316845-c9f0-46a2-e753-e1c03c1f5c86"
   },
   "outputs": [
    {
     "name": "stdout",
     "output_type": "stream",
     "text": [
      "True\n",
      "False\n",
      "True\n"
     ]
    }
   ],
   "source": [
    "my_list = ['p', 'r', 'o', 'b', 'l', 'e', 'm']\n",
    "\n",
    "# Output: True\n",
    "print('p' in my_list)  # ▶ True\n",
    "\n",
    "# Output: False\n",
    "print('a' in my_list)  # ▶ False\n",
    "\n",
    "# Output: True\n",
    "print('c' not in my_list)  # ▶ True"
   ]
  },
  {
   "cell_type": "markdown",
   "metadata": {
    "id": "nmZYhd6j1GSt"
   },
   "source": [
    "### 2. Iterating Through a List\n",
    "\n",
    "Using a for loop we can iterate through each item in a list."
   ]
  },
  {
   "cell_type": "code",
   "execution_count": null,
   "metadata": {
    "ExecuteTime": {
     "end_time": "2021-10-03T09:17:45.054627Z",
     "start_time": "2021-10-03T09:17:45.033148Z"
    },
    "id": "qBe8EhMZ1GSt",
    "outputId": "8bcdbc66-4587-4e70-f13f-2ab54445e163",
    "scrolled": true
   },
   "outputs": [
    {
     "name": "stdout",
     "output_type": "stream",
     "text": [
      "I like apple\n",
      "I like banana\n",
      "I like mango\n"
     ]
    }
   ],
   "source": [
    "for fruit in ['apple','banana','mango']:\n",
    "    print(\"I like\",fruit)"
   ]
  },
  {
   "cell_type": "markdown",
   "metadata": {
    "id": "V3sfEggV1GSt"
   },
   "source": [
    "### 3. Other List Operations in Python\n",
    "\n",
    "Using a **`for`** loop we can iterate through each item in a list."
   ]
  },
  {
   "cell_type": "code",
   "execution_count": null,
   "metadata": {
    "ExecuteTime": {
     "end_time": "2021-10-03T09:17:45.742133Z",
     "start_time": "2021-10-03T09:17:45.729439Z"
    },
    "id": "q1kNVNhp1GSt",
    "outputId": "58894486-44f0-4f86-adf0-3cabea5630dd",
    "scrolled": true
   },
   "outputs": [
    {
     "name": "stdout",
     "output_type": "stream",
     "text": [
      "a\n",
      "b\n",
      "c\n",
      "1\n",
      "2\n",
      "3\n"
     ]
    }
   ],
   "source": [
    "# Example:\n",
    "\n",
    "list1=['a','b','c',1,2,3]\n",
    "for x in list1 :\n",
    "    print(x)"
   ]
  },
  {
   "cell_type": "code",
   "execution_count": null,
   "metadata": {
    "ExecuteTime": {
     "end_time": "2021-10-03T09:17:47.351515Z",
     "start_time": "2021-10-03T09:17:47.337850Z"
    },
    "id": "bnKAm17j1GSu",
    "outputId": "321e4302-0194-4e80-b402-655761efcd8c",
    "scrolled": false
   },
   "outputs": [
    {
     "name": "stdout",
     "output_type": "stream",
     "text": [
      "I like apple\n",
      "I like banana\n",
      "I like mango\n"
     ]
    }
   ],
   "source": [
    "for fruit in ['apple','banana','mango']:\n",
    "    print(\"I like\",fruit)"
   ]
  },
  {
   "cell_type": "code",
   "execution_count": null,
   "metadata": {
    "id": "Sqo0Pccp1GSu"
   },
   "outputs": [],
   "source": []
  },
  {
   "cell_type": "markdown",
   "metadata": {
    "id": "dkus5jFy1HPn"
   },
   "source": [
    "# Python Tuple\n",
    "\n",
    "In this class, you'll learn everything about Python tuples. More specifically, what are tuples, how to create them, when to use them and various methods you should be familiar with."
   ]
  },
  {
   "cell_type": "markdown",
   "metadata": {
    "id": "WyrHN3OK1HPo"
   },
   "source": [
    "### Summary\n",
    "\n",
    "| Data types     | Type          |         |\n",
    "| :------------: | :-----------: |:------: |\n",
    "| **String**     | **immutable** |  |\n",
    "| **List**       | **mutable**   |✎|\n",
    "| **Tuple**      | **immutable** |  |"
   ]
  },
  {
   "cell_type": "code",
   "execution_count": null,
   "metadata": {
    "ExecuteTime": {
     "end_time": "2021-10-03T13:20:25.212519Z",
     "start_time": "2021-10-03T13:20:25.179314Z"
    },
    "id": "lTvutfhh1HPr",
    "outputId": "643269ab-65f0-41e0-cd92-37f7099cb5c5",
    "scrolled": true
   },
   "outputs": [
    {
     "name": "stdout",
     "output_type": "stream",
     "text": [
      "()\n",
      "(1, 2, 3)\n",
      "(1, 'Hello', 3.4)\n",
      "('mouse', [8, 4, 6], (1, 2, 3))\n"
     ]
    },
    {
     "data": {
      "text/plain": [
       "3"
      ]
     },
     "execution_count": 1,
     "metadata": {},
     "output_type": "execute_result"
    }
   ],
   "source": [
    "# Example:\n",
    "\n",
    "# Different types of tuples\n",
    "\n",
    "# Empty tuple\n",
    "my_tuple1 = ()\n",
    "print(my_tuple1)  # ▶ ()\n",
    "\n",
    "# Tuple having integers\n",
    "my_tuple2 = (1, 2, 3)\n",
    "print(my_tuple2)  # ▶ (1, 2, 3)\n",
    "\n",
    "# tuple with mixed datatypes\n",
    "my_tuple3 = (1, \"Hello\", 3.4)\n",
    "print(my_tuple3)  # ▶ (1, \"Hello\", 3.4)\n",
    "\n",
    "# nested tuple\n",
    "my_tuple4 = (\"mouse\", [8, 4, 6], (1, 2, 3))\n",
    "print(my_tuple4)  # ▶ (\"mouse\", [8, 4, 6], (1, 2, 3))\n",
    "len(my_tuple4)    # ▶ 3"
   ]
  },
  {
   "cell_type": "markdown",
   "metadata": {
    "id": "kqZIGsi51HPt"
   },
   "source": [
    "A tuple can also be created without using parentheses. This is known as tuple packing."
   ]
  },
  {
   "cell_type": "code",
   "execution_count": null,
   "metadata": {
    "ExecuteTime": {
     "end_time": "2021-10-03T13:20:25.472791Z",
     "start_time": "2021-10-03T13:20:25.340945Z"
    },
    "id": "9C43uJaH1HPt",
    "outputId": "3411cea0-7283-47a5-e63d-cdcd7e4d2152"
   },
   "outputs": [
    {
     "name": "stdout",
     "output_type": "stream",
     "text": [
      "(3, 4.6, 'dog')\n",
      "3\n",
      "4.6\n",
      "dog\n"
     ]
    }
   ],
   "source": [
    "# Example:\n",
    "\n",
    "my_tuple = 3, 4.6, \"dog\"   # ∵ paranthesis () is not mandatory\n",
    "print(my_tuple)  # ▶ (3, 4.6, 'dog')\n",
    "\n",
    "# tuple unpacking is also possible\n",
    "a, b, c = my_tuple\n",
    "\n",
    "print(a)        # ▶ 3\n",
    "print(b)        # ▶ 4.6\n",
    "print(c)        # ▶ dog"
   ]
  },
  {
   "cell_type": "code",
   "execution_count": null,
   "metadata": {
    "ExecuteTime": {
     "end_time": "2021-10-03T13:20:25.335083Z",
     "start_time": "2021-10-03T13:20:25.215448Z"
    },
    "id": "Q86ie0eB1HPu",
    "outputId": "92c0ad7a-a467-4f67-d359-b8057afd19cc",
    "scrolled": false
   },
   "outputs": [
    {
     "name": "stdout",
     "output_type": "stream",
     "text": [
      "('a b', 1, 2, 3.14, 'HelloWorld')\n",
      "('a', 'b', 'c', 'd')\n",
      "(1, 2, 3, ['a', 'b', 'c'], ('z', 26))\n"
     ]
    }
   ],
   "source": [
    "# Example:\n",
    "\n",
    "t1 = ('a b', 1, 2, 3.14, \"HelloWorld\")\n",
    "t2 = \"a\", \"b\", \"c\", \"d\"\n",
    "\n",
    "#tuple contain other list and tuple\n",
    "t3 =(1, 2, 3, ['a','b','c'], ('z', 26))\n",
    "\n",
    "print(t1)  # ▶ ('a b', 1, 2, 3.14, 'HelloWorld')\n",
    "print(t2)  # ▶ ('a', 'b', 'c', 'd')\n",
    "print(t3)  # ▶ (1, 2, 3, ['a', 'b', 'c'], ('z', 26))"
   ]
  },
  {
   "cell_type": "markdown",
   "metadata": {
    "id": "KlOKhkfL1HPv"
   },
   "source": [
    "Creating a tuple with one element is a bit tricky.\n",
    "\n",
    "Having one element within parentheses **`()`** is not enough. We must need a trailing comma **`,`** to indicate that it is, in fact, a tuple."
   ]
  },
  {
   "cell_type": "code",
   "execution_count": null,
   "metadata": {
    "ExecuteTime": {
     "end_time": "2021-10-03T13:20:25.612449Z",
     "start_time": "2021-10-03T13:20:25.476697Z"
    },
    "id": "Tx8wGad91HPv",
    "outputId": "2dc59ab5-426b-4c3d-b90c-6ec68f9a5f2d"
   },
   "outputs": [
    {
     "name": "stdout",
     "output_type": "stream",
     "text": [
      "5\n",
      "<class 'int'>\n",
      "(5,)\n",
      "<class 'tuple'>\n",
      "5\n",
      "<class 'int'>\n",
      "(5,)\n",
      "<class 'tuple'>\n"
     ]
    }
   ],
   "source": [
    "# Example:\n",
    "\n",
    "t1 = 5  # without () and comma \",\"\n",
    "print(t1)       # ▶ 5\n",
    "print(type(t1)) # ▶ <class 'int'>\n",
    "\n",
    "t2 = 5, # with \",\"\n",
    "print(t2)       # ▶ (5,)\n",
    "print(type(t2)) # ▶ <class 'tuple'>\n",
    "\n",
    "t3 = (5) # without \",\"  That means () is not important, ',' is important\n",
    "print(t3)       # ▶ 5\n",
    "print(type(t3)) # ▶ <class 'int'>\n",
    "\n",
    "t4 = (5,)\n",
    "print(t4)       # ▶ 5\n",
    "print(type(t4)) # ▶ <class 'tuple'>"
   ]
  },
  {
   "cell_type": "markdown",
   "metadata": {
    "id": "oTfSjwU81HPw"
   },
   "source": [
    "## Access Tuple Elements\n",
    "\n",
    "There are various ways in which we can access the elements of a tuple."
   ]
  },
  {
   "cell_type": "markdown",
   "metadata": {
    "id": "m-kORNk51HPw"
   },
   "source": [
    "### 1. Indexing\n",
    "\n",
    "We can use the **index operator** **`[]`** to access an item in a tuple, where the index starts from 0.\n",
    "\n",
    "So, a tuple having 6 elements will have indices from 0 to 5. Trying to access an index outside of the tuple index range(6,7,... in this example) will raise an **`IndexError`**.\n",
    "\n",
    "The index must be an integer, so we cannot use float or other types. This will result in **`TypeError`**."
   ]
  },
  {
   "cell_type": "code",
   "execution_count": null,
   "metadata": {
    "ExecuteTime": {
     "end_time": "2021-10-03T13:20:25.840491Z",
     "start_time": "2021-10-03T13:20:25.723783Z"
    },
    "id": "D6ja80pf1HPx",
    "outputId": "cc5464df-d86d-4834-fecb-16f2422acbf7",
    "scrolled": false
   },
   "outputs": [
    {
     "name": "stdout",
     "output_type": "stream",
     "text": [
      "p\n",
      "t\n",
      "Last index: 5\n",
      "Last element: t\n"
     ]
    }
   ],
   "source": [
    "# Accessing tuple elements using indexing\n",
    "\n",
    "my_tuple = ('p','e','r','m','i','t')\n",
    "\n",
    "print(my_tuple[0])   # ▶ 'p'\n",
    "print(my_tuple[5])   # ▶ 't'\n",
    "\n",
    "print(\"Last index:\", len(my_tuple) - 1)             # ▶ Last index: 5\n",
    "print(\"Last element:\", my_tuple[len(my_tuple) - 1]) # ▶ Last element: t\n",
    "\n",
    "# Index must be within range\n",
    "# print(my_tuple[6]) # ▶ IndexError: list index out of range\n",
    "\n",
    "# Index must be an integer\n",
    "# my_tuple[2.0] # ▶ TypeError: tuple indices must be integers or slices, not float"
   ]
  },
  {
   "cell_type": "code",
   "execution_count": null,
   "metadata": {
    "ExecuteTime": {
     "end_time": "2021-10-03T13:20:25.993823Z",
     "start_time": "2021-10-03T13:20:25.984544Z"
    },
    "id": "l-SnZVV91HPx",
    "outputId": "7d7e85ec-ea16-4e65-d414-04d4424f40ca"
   },
   "outputs": [
    {
     "name": "stdout",
     "output_type": "stream",
     "text": [
      "1\n",
      "s\n"
     ]
    }
   ],
   "source": [
    "# Example:\n",
    "\n",
    "n_tuple = (\"mouse\", [8, 4, 6], (1, 2, 3))\n",
    "\n",
    "# nested index\n",
    "print(n_tuple[2][0])  # ▶ 1  ∵ element with index 2 and within sub-element with index 0\n",
    "print(n_tuple[0][3])  # ▶ s  ∵ element with index 0 and within sub-element with index 3"
   ]
  },
  {
   "cell_type": "code",
   "execution_count": null,
   "metadata": {
    "ExecuteTime": {
     "end_time": "2021-10-03T13:20:25.978686Z",
     "start_time": "2021-10-03T13:20:25.844398Z"
    },
    "id": "bUoNpwLK1HPy",
    "outputId": "42c6ed95-c84c-4f7c-9de2-b136c9192345",
    "scrolled": false
   },
   "outputs": [
    {
     "name": "stdout",
     "output_type": "stream",
     "text": [
      "helloworld\n",
      "xyz\n",
      "1\n",
      "-2\n",
      "3.6\n"
     ]
    }
   ],
   "source": [
    "# Example:\n",
    "\n",
    "t=(\"helloworld\",'xyz',1,-2,3.6)\n",
    "for x in t:\n",
    "    print(x)"
   ]
  },
  {
   "cell_type": "markdown",
   "metadata": {
    "id": "9q4iqTeU1HPz"
   },
   "source": [
    "### 2. Negative Indexing\n",
    "\n",
    "Python allows negative indexing for its sequences.\n",
    "\n",
    "The index of -1 refers to the last item, -2 to the second last item and so on."
   ]
  },
  {
   "cell_type": "code",
   "execution_count": null,
   "metadata": {
    "ExecuteTime": {
     "end_time": "2021-10-03T13:20:26.009447Z",
     "start_time": "2021-10-03T13:20:25.997727Z"
    },
    "id": "G0IA_dAR1HPz",
    "outputId": "4f5c92c4-f5a1-4995-9213-f2a171ab4673",
    "scrolled": true
   },
   "outputs": [
    {
     "name": "stdout",
     "output_type": "stream",
     "text": [
      "t\n",
      "p\n"
     ]
    }
   ],
   "source": [
    "# Example: Negative indexing for accessing tuple elements\n",
    "\n",
    "my_tuple = ('p', 'e', 'r', 'm', 'i', 't')\n",
    "\n",
    "print(my_tuple[-1])   # ▶ t\n",
    "print(my_tuple[-6])   # ▶ p"
   ]
  },
  {
   "cell_type": "markdown",
   "metadata": {
    "id": "3DAJ9YHL1HP0"
   },
   "source": [
    "<div>\n",
    "<img src=\"img/t5.png\" width=\"300\"/>\n",
    "</div>"
   ]
  },
  {
   "cell_type": "code",
   "execution_count": null,
   "metadata": {
    "ExecuteTime": {
     "end_time": "2021-10-03T13:20:26.223332Z",
     "start_time": "2021-10-03T13:20:26.013841Z"
    },
    "id": "Z9CdfJ1r1HP0",
    "outputId": "582952a8-d869-457d-b9d3-4d1ec4691993"
   },
   "outputs": [
    {
     "name": "stdout",
     "output_type": "stream",
     "text": [
      "4\n",
      "(7, 4)\n",
      "7\n",
      "(3, 7)\n",
      "(2, 4, 7, 3)\n"
     ]
    }
   ],
   "source": [
    "# Example:\n",
    "\n",
    "t=(3,7,4,2)\n",
    "\n",
    "print(t[2])           # ▶ 4\n",
    "print(t[1:3])         # ▶ (7, 4)\n",
    "print(t[-3])          # ▶ 7\n",
    "print(t[-4:-2])       # ▶ (3, 7)\n",
    "print(t[-1 :  : -1])  # ▶ (2, 4, 7, 3) ∵ start from -1 and step =-1 so its basicly return reverse tuple"
   ]
  },
  {
   "cell_type": "markdown",
   "metadata": {
    "id": "4I4yMzz01HP1"
   },
   "source": [
    "### 3. Slicing\n",
    "\n",
    "We can access a range of items in a tuple by using the slicing operator **`:`**(colon).\n",
    "\n",
    "**Syntax:**\n",
    "\n",
    "```python\n",
    "tuple[start : stop : step]\n",
    "```\n",
    "by default step is +1"
   ]
  },
  {
   "cell_type": "code",
   "execution_count": null,
   "metadata": {
    "ExecuteTime": {
     "end_time": "2021-10-03T13:20:26.362989Z",
     "start_time": "2021-10-03T13:20:26.228702Z"
    },
    "id": "cnwFCM_d1HP1",
    "outputId": "ab82f462-0651-4571-fdc7-17c8c962cd31",
    "scrolled": true
   },
   "outputs": [
    {
     "name": "stdout",
     "output_type": "stream",
     "text": [
      "('r', 'o', 'g')\n",
      "('p', 'r', 'o')\n",
      "('i', 'n', 'g')\n",
      "('p', 'r', 'o', 'g', 'r', 'a', 'm', 'i', 'n', 'g')\n"
     ]
    }
   ],
   "source": [
    "# Example: Accessing tuple elements using slicing\n",
    "\n",
    "my_tuple = ('p','r','o','g','r','a','m','i','n','g')\n",
    "\n",
    "# elements 2nd to 4th\n",
    "print(my_tuple[1:4])   # ▶ ('r', 'o', 'g')\n",
    "\n",
    "# elements beginning to 2nd\n",
    "print(my_tuple[:-7])   # ▶ ('p', 'r')\n",
    "\n",
    "# elements 8th to end\n",
    "print(my_tuple[7:])    # ▶ ('i', 'z')\n",
    "\n",
    "# elements beginning to end\n",
    "print(my_tuple[:])     # ▶ ('p', 'r', 'o', 'g', 'r', 'a', 'm', 'i', 'n','g')"
   ]
  },
  {
   "cell_type": "markdown",
   "metadata": {
    "id": "iPSxr9xQ1HP2"
   },
   "source": [
    "Slicing can be best visualized by considering the index to be between the elements as shown below. So if we want to access a range, we need the index that will slice the portion from the tuple.\n",
    "\n",
    "<div>\n",
    "<img src=\"img/t6.png\" width=\"300\"/>\n",
    "</div>"
   ]
  },
  {
   "cell_type": "markdown",
   "metadata": {
    "id": "vb2YNklP1HP2"
   },
   "source": [
    "## Tuple Operations"
   ]
  },
  {
   "cell_type": "markdown",
   "metadata": {
    "id": "ZQkBsb5d1HP2"
   },
   "source": [
    "### 1. Changing a Tuple\n",
    "\n",
    "Unlike lists, **tuples are immutable**.\n",
    "\n",
    "This means that elements of a tuple cannot be changed once they have been assigned. But, if the element is itself a mutable data type like a list, its nested items can be changed.\n",
    "\n",
    "We can also assign a tuple to different values (reassignment)."
   ]
  },
  {
   "cell_type": "code",
   "execution_count": null,
   "metadata": {
    "ExecuteTime": {
     "end_time": "2021-10-03T13:20:26.516318Z",
     "start_time": "2021-10-03T13:20:26.366893Z"
    },
    "id": "S1dWqESR1HP3",
    "outputId": "c47785bd-1bc9-4818-c174-0573c783b258"
   },
   "outputs": [
    {
     "name": "stdout",
     "output_type": "stream",
     "text": [
      "(4, 2, 3, [9, 5])\n",
      "('p', 'r', 'o', 'g', 'r', 'a', 'm', 'i', 'n', 'g')\n"
     ]
    }
   ],
   "source": [
    "# Changing tuple values\n",
    "my_tuple = (4, 2, 3, [6, 5])\n",
    "\n",
    "# my_tuple[1] = 9     # ▶ TypeError: 'tuple' object does not support item assignment\n",
    "\n",
    "# However, item of mutable element can be changed\n",
    "my_tuple[3][0] = 9\n",
    "print(my_tuple)  # ▶ (4, 2, 3, [9, 5])\n",
    "\n",
    "# Tuples can be reassigned\n",
    "my_tuple = ('p', 'r', 'o', 'g', 'r', 'a', 'm', 'i', 'n', 'g')\n",
    "print(my_tuple)  # ▶ ('p', 'r', 'o', 'g', 'r', 'a', 'm', 'i', ''n', 'g')"
   ]
  },
  {
   "cell_type": "markdown",
   "metadata": {
    "id": "I8ufbmXx1HP3"
   },
   "source": [
    "We can use **`+`** operator to combine two tuples. This is called **concatenation**.\n",
    "\n",
    "We can also repeat the elements in a tuple for a given number of times using the **`*`** operator.\n",
    "\n",
    "Both **`+`** and **`*`** operations result in a new tuple."
   ]
  },
  {
   "cell_type": "code",
   "execution_count": null,
   "metadata": {
    "ExecuteTime": {
     "end_time": "2021-10-03T13:20:26.623261Z",
     "start_time": "2021-10-03T13:20:26.521201Z"
    },
    "id": "thI4PUJJ1HP3",
    "outputId": "87a3c150-00bd-413c-a348-1fee3b384177"
   },
   "outputs": [
    {
     "name": "stdout",
     "output_type": "stream",
     "text": [
      "(1, 2, 3, 4, 5, 6)\n",
      "('Repeat', 'Repeat', 'Repeat')\n"
     ]
    }
   ],
   "source": [
    "# Example 1:\n",
    "\n",
    "# Concatenation\n",
    "print((1, 2, 3) + (4, 5, 6))  # ▶ (1, 2, 3, 4, 5, 6)\n",
    "\n",
    "# Repeat\n",
    "print((\"Repeat\",) * 3)       # ▶ ('Repeat', 'Repeat', 'Repeat')"
   ]
  },
  {
   "cell_type": "code",
   "execution_count": null,
   "metadata": {
    "ExecuteTime": {
     "end_time": "2021-10-03T13:20:26.778056Z",
     "start_time": "2021-10-03T13:20:26.629119Z"
    },
    "id": "9N_Sdmg-1HP4",
    "outputId": "ef613caa-d3c6-4ea7-bbf5-2c8831f4b75e"
   },
   "outputs": [
    {
     "name": "stdout",
     "output_type": "stream",
     "text": [
      "(1, 2, 3, 'x', 'y', 'z')\n",
      "(1, 2, 3, 1, 2, 3)\n",
      "('x', 'y', 'z', 'x', 'y', 'z', 'x', 'y', 'z')\n"
     ]
    }
   ],
   "source": [
    "# Example 2:\n",
    "\n",
    "t1=(1,2,3)\n",
    "t2=('x','y','z')\n",
    "t3=t1+t2\n",
    "print(t3)   # ▶ (1, 2, 3, 'x', 'y', 'z')\n",
    "print(t1*2) # ▶ (1, 2, 3, 1, 2, 3)\n",
    "print(t2*3) # ▶ ('x', 'y', 'z', 'x', 'y', 'z', 'x', 'y', 'z')"
   ]
  },
  {
   "cell_type": "code",
   "execution_count": null,
   "metadata": {
    "ExecuteTime": {
     "end_time": "2021-10-03T13:20:26.931386Z",
     "start_time": "2021-10-03T13:20:26.780985Z"
    },
    "id": "1sZ3MN6U1HP4",
    "outputId": "a4a3b370-efc0-4ae0-b8fd-c77fd51a631a"
   },
   "outputs": [
    {
     "name": "stdout",
     "output_type": "stream",
     "text": [
      "(1, 2, 3, 'abc', 'xyz', 'hey')\n"
     ]
    }
   ],
   "source": [
    "# Example 3:\n",
    "\n",
    "t1 = (1, 2,3)\n",
    "t2 = ('abc', 'xyz')\n",
    "\n",
    "# Following action is not valid for tuples\n",
    "# t1[0] = 4;\n",
    "# So let's create a new tuple as follows\n",
    "t3 = t1 + t2 + (\"hey\",)  # ∵ () is must when adding or multiply tuples\n",
    "print (t3)               # ▶ (1, 2, 3, 'abc', 'xyz', 'hey')"
   ]
  },
  {
   "cell_type": "code",
   "execution_count": null,
   "metadata": {
    "ExecuteTime": {
     "end_time": "2021-10-03T13:20:27.619422Z",
     "start_time": "2021-10-03T13:20:26.934805Z"
    },
    "id": "5iiSv6z-1HP4",
    "outputId": "6457f08f-5e8f-4540-d2ef-dc439e6c4c98"
   },
   "outputs": [
    {
     "ename": "TypeError",
     "evalue": "'tuple' object doesn't support item deletion",
     "output_type": "error",
     "traceback": [
      "\u001b[1;31m---------------------------------------------------------------------------\u001b[0m",
      "\u001b[1;31mTypeError\u001b[0m                                 Traceback (most recent call last)",
      "\u001b[1;32m<ipython-input-15-f09af94986b4>\u001b[0m in \u001b[0;36m<module>\u001b[1;34m\u001b[0m\n\u001b[0;32m      4\u001b[0m \u001b[1;33m\u001b[0m\u001b[0m\n\u001b[0;32m      5\u001b[0m \u001b[1;31m# can't delete items\u001b[0m\u001b[1;33m\u001b[0m\u001b[1;33m\u001b[0m\u001b[1;33m\u001b[0m\u001b[0m\n\u001b[1;32m----> 6\u001b[1;33m \u001b[1;32mdel\u001b[0m \u001b[0mmy_tuple\u001b[0m\u001b[1;33m[\u001b[0m\u001b[1;36m3\u001b[0m\u001b[1;33m]\u001b[0m  \u001b[1;31m# ▶ TypeError: 'tuple' object doesn't support item deletion\u001b[0m\u001b[1;33m\u001b[0m\u001b[1;33m\u001b[0m\u001b[0m\n\u001b[0m\u001b[0;32m      7\u001b[0m \u001b[1;33m\u001b[0m\u001b[0m\n\u001b[0;32m      8\u001b[0m \u001b[1;31m# Can delete an entire tuple\u001b[0m\u001b[1;33m\u001b[0m\u001b[1;33m\u001b[0m\u001b[1;33m\u001b[0m\u001b[0m\n",
      "\u001b[1;31mTypeError\u001b[0m: 'tuple' object doesn't support item deletion"
     ]
    }
   ],
   "source": [
    "# Example 1: Deleting tuples\n",
    "\n",
    "my_tuple = ('p', 'r', 'o', 'g', 'r', 'a', 'm', 'i', 'n', 'g')\n",
    "\n",
    "# can't delete items\n",
    "del my_tuple[3]  # ▶ TypeError: 'tuple' object doesn't support item deletion\n",
    "\n",
    "# Can delete an entire tuple\n",
    "# del my_tuple\n",
    "# print(my_tuple)   # ▶ NameError: name 'my_tuple' is not defined"
   ]
  },
  {
   "cell_type": "code",
   "execution_count": null,
   "metadata": {
    "ExecuteTime": {
     "end_time": "2021-10-03T13:20:45.518587Z",
     "start_time": "2021-10-03T13:20:45.493198Z"
    },
    "id": "SXl2er4d1HP5",
    "outputId": "ed7a461c-766a-462a-c152-aa920ed02dd2",
    "scrolled": false
   },
   "outputs": [
    {
     "name": "stdout",
     "output_type": "stream",
     "text": [
      "('helloWorld', 'python', 1, 2.7)\n"
     ]
    },
    {
     "ename": "TypeError",
     "evalue": "'tuple' object doesn't support item deletion",
     "output_type": "error",
     "traceback": [
      "\u001b[1;31m---------------------------------------------------------------------------\u001b[0m",
      "\u001b[1;31mTypeError\u001b[0m                                 Traceback (most recent call last)",
      "\u001b[1;32m<ipython-input-16-f3f4b74da706>\u001b[0m in \u001b[0;36m<module>\u001b[1;34m\u001b[0m\n\u001b[0;32m      5\u001b[0m \u001b[1;33m\u001b[0m\u001b[0m\n\u001b[0;32m      6\u001b[0m \u001b[1;31m# can't delete items\u001b[0m\u001b[1;33m\u001b[0m\u001b[1;33m\u001b[0m\u001b[1;33m\u001b[0m\u001b[0m\n\u001b[1;32m----> 7\u001b[1;33m \u001b[1;32mdel\u001b[0m \u001b[0mmy_tuple\u001b[0m\u001b[1;33m[\u001b[0m\u001b[1;36m3\u001b[0m\u001b[1;33m]\u001b[0m  \u001b[1;31m# ▶ TypeError: 'tuple' object doesn't support item deletion\u001b[0m\u001b[1;33m\u001b[0m\u001b[1;33m\u001b[0m\u001b[0m\n\u001b[0m\u001b[0;32m      8\u001b[0m \u001b[1;33m\u001b[0m\u001b[0m\n\u001b[0;32m      9\u001b[0m \u001b[1;32mdel\u001b[0m \u001b[0mt\u001b[0m\u001b[1;33m\u001b[0m\u001b[1;33m\u001b[0m\u001b[0m\n",
      "\u001b[1;31mTypeError\u001b[0m: 'tuple' object doesn't support item deletion"
     ]
    }
   ],
   "source": [
    "# Example 2:\n",
    "\n",
    "t = ('helloWorld', \"python\", 1, 2.7);\n",
    "print (t)          # ▶ ('helloWorld', 'python', 1, 2.7)\n",
    "\n",
    "# can't delete items\n",
    "del my_tuple[3]  # ▶ TypeError: 'tuple' object doesn't support item deletion\n",
    "\n",
    "del t\n",
    "# print (\"After deleting t :\")  # ▶ After deleting t :\n",
    "# print (t)                     # ▶ NameError: name 't' is not defined"
   ]
  },
  {
   "cell_type": "markdown",
   "metadata": {
    "id": "FOB7ur2U1HP5"
   },
   "source": [
    "### **`len(tuple)`** - The `len()` method returns the number of elements in the tuple."
   ]
  },
  {
   "cell_type": "code",
   "execution_count": null,
   "metadata": {
    "ExecuteTime": {
     "end_time": "2021-10-03T13:20:48.359114Z",
     "start_time": "2021-10-03T13:20:48.348370Z"
    },
    "id": "Y-hNWUMy1HP6",
    "outputId": "cb344a81-22d3-4afa-832b-b07b159afc29"
   },
   "outputs": [
    {
     "name": "stdout",
     "output_type": "stream",
     "text": [
      "5\n",
      "5\n"
     ]
    }
   ],
   "source": [
    "# Example:\n",
    "\n",
    "t1= (1,2,3,4,5)\n",
    "t2 = ('x','y','z',[1,2],3)\n",
    "print(len(t1))  # ▶ 5\n",
    "print(len(t2))  # ▶ 5"
   ]
  },
  {
   "cell_type": "markdown",
   "metadata": {
    "id": "-p3Rl45O1HP6"
   },
   "source": [
    "### **`max(tuple)`** - The `max()` method returns the elements from the tuple with maximum value. Type of element should be same otherwise complier throw `TypeError`."
   ]
  },
  {
   "cell_type": "code",
   "execution_count": null,
   "metadata": {
    "ExecuteTime": {
     "end_time": "2021-10-03T13:20:49.362113Z",
     "start_time": "2021-10-03T13:20:49.349414Z"
    },
    "id": "vrLJQsz41HP6",
    "outputId": "939f2cb1-0b00-4da3-91a5-38a057589630"
   },
   "outputs": [
    {
     "name": "stdout",
     "output_type": "stream",
     "text": [
      "5\n",
      "z\n"
     ]
    }
   ],
   "source": [
    "# Example:\n",
    "\n",
    "t1= (1,2,3,4,5)\n",
    "t2 = ('x','y','z')\n",
    "print(max(t1))  # ▶ 5\n",
    "print(max(t2))  # ▶ z"
   ]
  },
  {
   "cell_type": "markdown",
   "metadata": {
    "id": "GZ5qeZJI1HP7"
   },
   "source": [
    "### **`min(tuple)`** - The `min()` method returns the elements from the tuple with minimum value. Type of element should be same otherwise complier throw `TypeError`."
   ]
  },
  {
   "cell_type": "code",
   "execution_count": null,
   "metadata": {
    "ExecuteTime": {
     "end_time": "2021-10-03T13:20:50.532114Z",
     "start_time": "2021-10-03T13:20:50.524300Z"
    },
    "id": "Sfbdtb-k1HQE",
    "outputId": "9d62f021-af0a-4b06-d77a-158bf764564d",
    "scrolled": true
   },
   "outputs": [
    {
     "name": "stdout",
     "output_type": "stream",
     "text": [
      "1\n",
      "x\n"
     ]
    }
   ],
   "source": [
    "# Example:\n",
    "\n",
    "t1= (1,2,3,4,5)\n",
    "t2 = ('x','y','z')\n",
    "print(min(t1))  # ▶ 1\n",
    "print(min(t2))  # ▶ x"
   ]
  },
  {
   "cell_type": "markdown",
   "metadata": {
    "id": "DgWtN97s1HQF"
   },
   "source": [
    "### **`sorted(dict)`** - The `sorted()` function sorts the elements of a given iterable in a specific order (either **ascending** or **descending**) and returns the sorted iterable as a list."
   ]
  },
  {
   "cell_type": "code",
   "execution_count": null,
   "metadata": {
    "ExecuteTime": {
     "end_time": "2021-10-03T13:20:51.132248Z",
     "start_time": "2021-10-03T13:20:51.116627Z"
    },
    "id": "SQAkSz3l1HQF",
    "outputId": "c18bba4c-b117-48f1-e54a-2d50dbf9e09e"
   },
   "outputs": [
    {
     "name": "stdout",
     "output_type": "stream",
     "text": [
      "['a', 'e', 'i', 'o', 'u']\n",
      "['u', 'o', 'i', 'e', 'a']\n"
     ]
    }
   ],
   "source": [
    "# vowels tuple\n",
    "py_tuple = ('e', 'a', 'u', 'o', 'i')\n",
    "print(sorted(py_tuple))                # ▶ ['a', 'e', 'i', 'o', 'u']\n",
    "print(sorted(py_tuple, reverse=True))  # ▶ ['u', 'o', 'i', 'e', 'a']"
   ]
  },
  {
   "cell_type": "markdown",
   "metadata": {
    "id": "7mhWm6N_1HQG"
   },
   "source": [
    "### **`tuple(seq)`** - The `tuple()` method converts a list of items into tuples."
   ]
  },
  {
   "cell_type": "code",
   "execution_count": null,
   "metadata": {
    "ExecuteTime": {
     "end_time": "2021-10-03T13:20:51.858862Z",
     "start_time": "2021-10-03T13:20:51.839333Z"
    },
    "id": "-7g58zIL1HQG",
    "outputId": "d83352b2-409c-4465-fc7b-9642349fa6a1"
   },
   "outputs": [
    {
     "name": "stdout",
     "output_type": "stream",
     "text": [
      "('h', 'e', 'l', 'l', 'o', 'w', 'o', 'r', 'l', 'd')\n",
      "(1, 2, 3)\n"
     ]
    }
   ],
   "source": [
    "# Example:\n",
    "\n",
    "s=\"helloworld\"\n",
    "t1=tuple(s)\n",
    "list=[1,2,3]\n",
    "t2=tuple(list)\n",
    "\n",
    "print(t1)  # ▶ ('h', 'e', 'l', 'l', 'o', 'w', 'o', 'r', 'l', 'd')\n",
    "print(t2)  # ▶ (1, 2, 3)"
   ]
  },
  {
   "cell_type": "markdown",
   "metadata": {
    "id": "NlCE0TzM1HQH"
   },
   "source": [
    "## Tuple Methods\n",
    "\n",
    "Methods that add items or remove items are not available with tuple. Only the following two methods are available.\n",
    "\n",
    "Some examples of Python tuple methods:"
   ]
  },
  {
   "cell_type": "code",
   "execution_count": null,
   "metadata": {
    "ExecuteTime": {
     "end_time": "2021-10-03T13:20:52.503440Z",
     "start_time": "2021-10-03T13:20:52.492699Z"
    },
    "id": "A5m5eF8l1HQI",
    "outputId": "74593fe1-6300-4b35-b242-672cae71caa4"
   },
   "outputs": [
    {
     "name": "stdout",
     "output_type": "stream",
     "text": [
      "2\n",
      "3\n"
     ]
    }
   ],
   "source": [
    "# Example:\n",
    "\n",
    "my_tuple = ('a', 'p', 'p', 'l', 'e',)\n",
    "\n",
    "print(my_tuple.count('p'))   # ▶  2\n",
    "print(my_tuple.index('l'))   # ▶  3"
   ]
  },
  {
   "cell_type": "markdown",
   "metadata": {
    "id": "eL8M_HYq1HQJ"
   },
   "source": [
    "## Other Tuple Operations"
   ]
  },
  {
   "cell_type": "markdown",
   "metadata": {
    "id": "Ljl0e2ah1HQJ"
   },
   "source": [
    "### 1. Tuple Membership Test\n",
    "\n",
    "We can test if an item exists in a tuple or not, using the keyword **`in`**."
   ]
  },
  {
   "cell_type": "code",
   "execution_count": null,
   "metadata": {
    "ExecuteTime": {
     "end_time": "2021-10-03T13:20:53.796496Z",
     "start_time": "2021-10-03T13:20:53.775009Z"
    },
    "id": "Zq2x1uKV1HQJ",
    "outputId": "472505d5-53ac-41d6-b2c2-7634f09b1758"
   },
   "outputs": [
    {
     "name": "stdout",
     "output_type": "stream",
     "text": [
      "True\n",
      "False\n",
      "True\n"
     ]
    }
   ],
   "source": [
    "# Example: Membership test in tuple\n",
    "\n",
    "my_tuple = ('a', 'p', 'p', 'l', 'e',)\n",
    "\n",
    "# In operation\n",
    "print('a' in my_tuple)      # ▶ True\n",
    "print('b' in my_tuple)      # ▶ False\n",
    "\n",
    "# Not in operation\n",
    "print('g' not in my_tuple)  # ▶ True"
   ]
  },
  {
   "cell_type": "markdown",
   "metadata": {
    "id": "Sx6Gm35-1HQK"
   },
   "source": [
    "### 2. Iterating Through a Tuple\n",
    "\n",
    "We can use a **`for`** loop to iterate through each item in a tuple."
   ]
  },
  {
   "cell_type": "code",
   "execution_count": null,
   "metadata": {
    "ExecuteTime": {
     "end_time": "2021-10-03T13:20:54.393216Z",
     "start_time": "2021-10-03T13:20:54.383451Z"
    },
    "id": "k5Lvsi1T1HQK",
    "outputId": "f0831aa3-35a4-4f71-8960-25f86f67164a"
   },
   "outputs": [
    {
     "name": "stdout",
     "output_type": "stream",
     "text": [
      "Hello John\n",
      "Hello Kate\n"
     ]
    }
   ],
   "source": [
    "# Example: Using a for loop to iterate through a tuple\n",
    "\n",
    "for name in ('John', 'Kate'):\n",
    "    print(\"Hello\", name)"
   ]
  },
  {
   "cell_type": "markdown",
   "metadata": {
    "id": "dmPwOVJE1HQL"
   },
   "source": [
    "## Why should we use Tuple? (Advantages of Tuple)\n",
    "\n",
    "* Processing of Tuples are **faster** than Lists.\n",
    "* It makes the data **safe** as Tuples are **immutable** and hence cannot be changed.\n",
    "* Tuples are used for **string formatting**."
   ]
  },
  {
   "cell_type": "markdown",
   "metadata": {
    "id": "lEX-Sn5M1HQL"
   },
   "source": [
    "## Advantages of Tuple over List\n",
    "\n",
    "Since tuples are quite similar to lists, both of them are used in similar situations. However, there are certain advantages of implementing a tuple over a list. Below listed are some of the main advantages:\n",
    "\n",
    "* We generally use tuples for heterogeneous (different) data types and lists for homogeneous (similar) data types.\n",
    "\n",
    "* Since tuples are immutable, iterating through a tuple is faster than with list. So there is a slight performance boost.\n",
    "\n",
    "* Tuples that contain immutable elements can be used as a key for a dictionary. With lists, this is not possible.\n",
    "\n",
    "* If you have data that doesn't change, implementing it as tuple will guarantee that it remains write-protected.\n"
   ]
  },
  {
   "cell_type": "markdown",
   "metadata": {
    "id": "jlDkoDpD1HQM"
   },
   "source": [
    "## 💻 Exercises ➞ <span class='label label-default'>Tuple</span>\n",
    "\n",
    "### Exercises ➞ <span class='label label-default'>Level 1</span>\n",
    "\n",
    "1. Create a tuple containing names of **`fruits`** and **`vegetables`**\n",
    "2. Join **`fruits`** and **`vegetables`** tuples and assign it to **`fruits_vegetables`**\n",
    "3. How many **`fruits_vegetables`** do you have?\n",
    "4. Modify the **`fruits_vegetables`** tuple and add the name of your favorite mushroom and beverage and assign it to **`food_tuple`**\n",
    "\n",
    "### Exercises ➞ <span class='label label-default'>Level 2</span>\n",
    "\n",
    "1. Unpack **`fruits_vegetables`** and mushroom and beverage from **`food_tuple`**\n",
    "2. Change the about **`food_tuple`** tuple to a **`food_list`** list\n",
    "3. Slice out the middle item or items from the **`food_tuple`** tuple or **`food_list`** list.\n",
    "4. Slice out the first three items and the last three items from **`food_list`** list\n",
    "5. Delete the **`food_tuple`** tuple completely\n",
    "6. Check if an item exists in tuple:\n",
    "    - Check if **`'Finland'`** is a asian country\n",
    "    - Check if **`'India'`** is a asian country\n",
    "    ```python\n",
    "asian_countries = ('India','China','Singapore','Thailand','Indonesia')\n",
    "    ```"
   ]
  },
  {
   "cell_type": "code",
   "execution_count": null,
   "metadata": {
    "id": "_0t1BjGF1HQN"
   },
   "outputs": [],
   "source": []
  },
  {
   "cell_type": "markdown",
   "metadata": {
    "id": "lBB8o-Bi1Iad"
   },
   "source": [
    "# Python Dictionary\n",
    "\n",
    "In this class, you'll learn everything about Python dictionaries; how they are created, accessing, adding, removing elements from them and various built-in methods."
   ]
  },
  {
   "cell_type": "markdown",
   "metadata": {
    "id": "GI-E4aSd1Iae"
   },
   "source": [
    "## What is Dictionary in Python?\n",
    "\n",
    "Python dictionary is an unordered collection of items. Each item of a dictionary has a **`key/value`** pair.\n",
    "\n",
    "Dictionaries are optimized to retrieve values when the key is known.\n",
    "\n",
    "<div>\n",
    "<img src=\"img/d0.png\" width=\"600\"/>\n",
    "</div>\n",
    "\n",
    "**Example:**\n",
    "\n",
    "```python\n",
    ">>> dict = { }  #empty dictionary\n",
    ">>> dict = {1:'Python',2:'Java',3:'C++'}\n",
    "```\n",
    "\n",
    "* **Dictionary is mutable** i.e., value can be updated.\n",
    "\n",
    "* Key must be unique and immutable. Value is accessed by key. Value can be updated while key cannot be changed.\n",
    "\n",
    "* Dictionary is known as Associative array since the Key works as Index and they are decided by the user."
   ]
  },
  {
   "cell_type": "markdown",
   "metadata": {
    "id": "f6qQ43zt1Iaf"
   },
   "source": [
    "### Summary\n",
    "\n",
    "| Data types     | Type          |         |\n",
    "| :------------: | :-----------: |:------: |\n",
    "| **String**     | **immutable** |  |\n",
    "| **List**       | **mutable**   |✎|\n",
    "| **Tuple**      | **immutable** |  |\n",
    "| **Dictionary** | **mutable**   |✎|"
   ]
  },
  {
   "cell_type": "code",
   "execution_count": null,
   "metadata": {
    "ExecuteTime": {
     "end_time": "2021-10-03T15:24:34.175014Z",
     "start_time": "2021-10-03T15:24:34.150602Z"
    },
    "id": "eGXRW_mq1Ias",
    "outputId": "cf690f81-5155-44ee-e5bb-e40584d04069"
   },
   "outputs": [
    {
     "name": "stdout",
     "output_type": "stream",
     "text": [
      "{} [] () set() \n",
      "<class 'dict'> <class 'list'> <class 'tuple'> <class 'set'> <class 'str'>\n",
      "{1: 'apple', 2: 'ball'}\n",
      "{1: 'hi', 'name': 666, 1.5: ('yes', 'very much'), 9: [3, 6, 9]}\n"
     ]
    },
    {
     "ename": "TypeError",
     "evalue": "'dict' object is not callable",
     "output_type": "error",
     "traceback": [
      "\u001b[1;31m---------------------------------------------------------------------------\u001b[0m",
      "\u001b[1;31mTypeError\u001b[0m                                 Traceback (most recent call last)",
      "\u001b[1;32m<ipython-input-42-7f1fefd4d3f0>\u001b[0m in \u001b[0;36m<module>\u001b[1;34m\u001b[0m\n\u001b[0;32m     15\u001b[0m \u001b[1;33m\u001b[0m\u001b[0m\n\u001b[0;32m     16\u001b[0m \u001b[1;31m# from sequence having each item as a pair\u001b[0m\u001b[1;33m\u001b[0m\u001b[1;33m\u001b[0m\u001b[1;33m\u001b[0m\u001b[0m\n\u001b[1;32m---> 17\u001b[1;33m \u001b[0mmy_dict3\u001b[0m \u001b[1;33m=\u001b[0m \u001b[0mdict\u001b[0m\u001b[1;33m(\u001b[0m\u001b[1;33m[\u001b[0m\u001b[1;33m(\u001b[0m\u001b[1;36m1\u001b[0m\u001b[1;33m,\u001b[0m\u001b[1;34m'apple'\u001b[0m\u001b[1;33m)\u001b[0m\u001b[1;33m,\u001b[0m \u001b[1;33m(\u001b[0m\u001b[1;36m2\u001b[0m\u001b[1;33m,\u001b[0m\u001b[1;34m'ball'\u001b[0m\u001b[1;33m)\u001b[0m\u001b[1;33m]\u001b[0m\u001b[1;33m)\u001b[0m\u001b[1;33m\u001b[0m\u001b[1;33m\u001b[0m\u001b[0m\n\u001b[0m",
      "\u001b[1;31mTypeError\u001b[0m: 'dict' object is not callable"
     ]
    }
   ],
   "source": [
    "# Example: empty dictionary\n",
    "\n",
    "d = {}; l = []; t = (); s = set(); st = \"\"\n",
    "print(d,l,t,s,st)     # ▶ {} [] () set()\n",
    "print(type(d),type(l),type(t), type(s), type(st))\n",
    "# ▶ <class 'dict'> <class 'list'> <class 'tuple'> <class 'set'> <class 'str'>\n",
    "\n",
    "# dictionary with integer keys\n",
    "my_dict1 = {1: 'apple', 2: 'ball'}\n",
    "print(my_dict1)        # ▶ {1: 'apple', 2: 'ball'}\n",
    "\n",
    "# dictionary with mixed keys\n",
    "my_dict2 = {1:\"hi\", \"name\":666, 1.5:(\"yes\",\"very much\"), 9: [3, 6, 9]}\n",
    "print(my_dict2)        # ▶ {1: 'hi', 'name': 666, 1.5: ('yes', 'very much'), 9: [3, 6, 9]}\n",
    "\n",
    "# from sequence having each item as a pair\n",
    "my_dict3 = dict([(1,'apple'), (2,'ball')])\n",
    "print(type([(1,'apple'), (2,'ball')])) # nested list\n",
    "print(my_dict3)        # ▶ {1: 'apple', 2: 'ball'}\n",
    "print(len(my_dict3))   # ▶ 2"
   ]
  },
  {
   "cell_type": "code",
   "execution_count": null,
   "metadata": {
    "id": "yuXn4TVD1Iau",
    "outputId": "cdf81eac-9d25-4e06-f652-3111fd896ef5",
    "scrolled": true
   },
   "outputs": [
    {
     "ename": "TypeError",
     "evalue": "'dict' object is not callable",
     "output_type": "error",
     "traceback": [
      "\u001b[1;31m---------------------------------------------------------------------------\u001b[0m",
      "\u001b[1;31mTypeError\u001b[0m                                 Traceback (most recent call last)",
      "\u001b[1;32m<ipython-input-56-b312893cfb9a>\u001b[0m in \u001b[0;36m<module>\u001b[1;34m\u001b[0m\n\u001b[1;32m----> 1\u001b[1;33m \u001b[0mdict\u001b[0m\u001b[1;33m(\u001b[0m\u001b[1;33m[\u001b[0m\u001b[1;33m(\u001b[0m\u001b[1;36m1\u001b[0m\u001b[1;33m,\u001b[0m \u001b[1;36m100\u001b[0m\u001b[1;33m)\u001b[0m\u001b[1;33m,\u001b[0m \u001b[1;33m(\u001b[0m\u001b[1;34m'bar'\u001b[0m\u001b[1;33m,\u001b[0m \u001b[1;36m200\u001b[0m\u001b[1;33m)\u001b[0m\u001b[1;33m]\u001b[0m\u001b[1;33m)\u001b[0m\u001b[1;33m,\u001b[0m \u001b[0mdict\u001b[0m\u001b[1;33m(\u001b[0m\u001b[0mfoo\u001b[0m\u001b[1;33m=\u001b[0m\u001b[1;36m100\u001b[0m\u001b[1;33m,\u001b[0m \u001b[0mbar\u001b[0m\u001b[1;33m=\u001b[0m\u001b[1;36m200\u001b[0m\u001b[1;33m)\u001b[0m\u001b[1;33m\u001b[0m\u001b[1;33m\u001b[0m\u001b[0m\n\u001b[0m",
      "\u001b[1;31mTypeError\u001b[0m: 'dict' object is not callable"
     ]
    }
   ],
   "source": [
    "dict([(1, 100), ('bar', 200)]), dict(foo=100, bar=200)"
   ]
  },
  {
   "cell_type": "markdown",
   "metadata": {
    "id": "Te4MSZy01Iau"
   },
   "source": [
    "As you can see from above, we can also create a dictionary using the built-in **`dict()`** function."
   ]
  },
  {
   "cell_type": "markdown",
   "metadata": {
    "id": "tZYEDOra1Iau"
   },
   "source": [
    "## Accessing Elements from Dictionary\n",
    "\n",
    "While indexing is used with other data types to access values, a dictionary uses **`keys`**. Keys can be used either inside square brackets **`[]`** or with the **`get()`** method.\n",
    "\n",
    "If we use the square brackets **`[]`**, **`KeyError`** is raised in case a key is not found in the dictionary. On the other hand, the **`get()`** method returns **`None`** if the key is not found."
   ]
  },
  {
   "cell_type": "code",
   "execution_count": null,
   "metadata": {
    "ExecuteTime": {
     "end_time": "2021-10-03T15:24:34.899634Z",
     "start_time": "2021-10-03T15:24:34.177947Z"
    },
    "id": "DoLRvFtB1Iau",
    "outputId": "5479e58a-5806-49de-95c5-35307fea3431"
   },
   "outputs": [
    {
     "name": "stdout",
     "output_type": "stream",
     "text": [
      "Python\n",
      "Gods language\n",
      "None\n"
     ]
    },
    {
     "ename": "KeyError",
     "evalue": "4",
     "output_type": "error",
     "traceback": [
      "\u001b[1;31m---------------------------------------------------------------------------\u001b[0m",
      "\u001b[1;31mKeyError\u001b[0m                                  Traceback (most recent call last)",
      "\u001b[1;32m<ipython-input-49-555108164c58>\u001b[0m in \u001b[0;36m<module>\u001b[1;34m\u001b[0m\n\u001b[0;32m     12\u001b[0m \u001b[0mprint\u001b[0m\u001b[1;33m(\u001b[0m\u001b[0mmy_dict\u001b[0m\u001b[1;33m.\u001b[0m\u001b[0mget\u001b[0m\u001b[1;33m(\u001b[0m\u001b[1;36m4\u001b[0m\u001b[1;33m)\u001b[0m\u001b[1;33m)\u001b[0m     \u001b[1;31m# ▶ None\u001b[0m\u001b[1;33m\u001b[0m\u001b[1;33m\u001b[0m\u001b[0m\n\u001b[0;32m     13\u001b[0m \u001b[1;33m\u001b[0m\u001b[0m\n\u001b[1;32m---> 14\u001b[1;33m \u001b[0mprint\u001b[0m\u001b[1;33m(\u001b[0m\u001b[0mmy_dict\u001b[0m\u001b[1;33m[\u001b[0m\u001b[1;36m4\u001b[0m\u001b[1;33m]\u001b[0m\u001b[1;33m)\u001b[0m         \u001b[1;31m# ▶ KeyError!\u001b[0m\u001b[1;33m\u001b[0m\u001b[1;33m\u001b[0m\u001b[0m\n\u001b[0m",
      "\u001b[1;31mKeyError\u001b[0m: 4"
     ]
    }
   ],
   "source": [
    "# Example: get vs [] for retrieving elements\n",
    "\n",
    "my_dict = {1:'Python', 2:'Java', 3:'C++', 'c': 'Gods language'}\n",
    "\n",
    "# method: 1\n",
    "print(my_dict[1])         # ▶ Python\n",
    "\n",
    "# method: 2\n",
    "print(my_dict.get('c'))   # ▶ Gods language\n",
    "\n",
    "# Trying to access keys which doesn't exist in dictionary:\n",
    "print(my_dict.get(4))     # ▶ None\n",
    "\n",
    "print(my_dict[4])         # ▶ KeyError!"
   ]
  },
  {
   "cell_type": "markdown",
   "metadata": {
    "id": "H6WUs-Za1Iav"
   },
   "source": [
    "* iterate all elemnet using for loop for **`keys()`** method, **`keys()`** method return list of all keys in dictionary."
   ]
  },
  {
   "cell_type": "code",
   "execution_count": null,
   "metadata": {
    "ExecuteTime": {
     "end_time": "2021-10-03T15:24:46.489676Z",
     "start_time": "2021-10-03T15:24:46.473079Z"
    },
    "id": "7gXKYMX21Iav",
    "outputId": "c95e795d-afec-4b1f-b741-e4508d2b2abb",
    "scrolled": true
   },
   "outputs": [
    {
     "name": "stdout",
     "output_type": "stream",
     "text": [
      "dict_keys([1, 2, 3, 'c'])\n",
      "Python\n",
      "Java\n",
      "C++\n",
      "Gods language\n"
     ]
    }
   ],
   "source": [
    "# Example:\n",
    "\n",
    "dict = {1:'Python', 2:'Java', 3:'C++', 'c': 'Gods language'}\n",
    "print(dict.keys())\n",
    "for x in dict.keys():\n",
    "    print(dict[x])"
   ]
  },
  {
   "cell_type": "markdown",
   "metadata": {
    "id": "GKuiKami1Iaw"
   },
   "source": [
    "## Changing and Adding Dictionary elements\n",
    "\n",
    "Dictionaries are mutable. We can add new items or change the value of existing items using an assignment operator.\n",
    "\n",
    "If the key is already present, then the existing value gets updated. In case the key is not present, a new **`(key: value)`** pair is added to the dictionary."
   ]
  },
  {
   "cell_type": "code",
   "execution_count": null,
   "metadata": {
    "ExecuteTime": {
     "end_time": "2021-10-03T15:24:47.367623Z",
     "start_time": "2021-10-03T15:24:47.345164Z"
    },
    "id": "erZgF5yv1Iaw",
    "outputId": "727b3af5-3ccc-437f-efe8-e371e64965dd"
   },
   "outputs": [
    {
     "name": "stdout",
     "output_type": "stream",
     "text": [
      "{'name': 'Arthur', 'age': 25}\n",
      "{'name': 'Arthur', 'age': 25, 'address': 'Downtown'}\n"
     ]
    }
   ],
   "source": [
    "# Example 1: Changing and adding Dictionary Elements\n",
    "\n",
    "my_dict = {'name':'Arthur', 'age':24}\n",
    "\n",
    "my_dict['age'] = 25   # update value\n",
    "print(my_dict)        # ▶ {'age': 25, 'name': 'Arthur'}\n",
    "\n",
    "my_dict['address'] = 'Downtown'  # add item\n",
    "print(my_dict)        # ▶ {'name': 'Arthur', 'age': 25, 'address': 'Downtown'}"
   ]
  },
  {
   "cell_type": "code",
   "execution_count": null,
   "metadata": {
    "ExecuteTime": {
     "end_time": "2021-10-03T15:24:47.707473Z",
     "start_time": "2021-10-03T15:24:47.698687Z"
    },
    "id": "lFoxc-HY1Iax",
    "outputId": "e4630e40-154a-4a78-c75b-c05bb8be6d37"
   },
   "outputs": [
    {
     "name": "stdout",
     "output_type": "stream",
     "text": [
      "{1: 'Python', 2: 'Java', 3: 'R', 4: 'PHP'}\n"
     ]
    }
   ],
   "source": [
    "# Example 2:\n",
    "\n",
    "my_dict = {1:'Python', 2:'Java', 3:'C++'}\n",
    "my_dict[3]=\"R\"     # update value\n",
    "my_dict[4]=\"PHP\"   # insert new value\n",
    "print(my_dict)     # ▶ {1: 'Python', 2: 'Java', 3: 'R', 4: 'PHP'}"
   ]
  },
  {
   "cell_type": "markdown",
   "metadata": {
    "id": "-TztJdAG1Iax"
   },
   "source": [
    "## Removing elements from Dictionary\n",
    "\n",
    "We can remove a particular item in a dictionary by using the **`pop()`** method. This method removes an item with the provided **`key`** and returns the **`value`**.\n",
    "\n",
    "The **`popitem()`** method can be used to remove and return an arbitrary **`(key, value)`** item pair from the dictionary. All the items can be removed at once, using the **`clear()`** method.\n",
    "\n",
    "We can also use the **`del`** keyword to remove individual items or the entire dictionary itself."
   ]
  },
  {
   "cell_type": "code",
   "execution_count": null,
   "metadata": {
    "ExecuteTime": {
     "end_time": "2021-10-03T15:24:48.339320Z",
     "start_time": "2021-10-03T15:24:48.319789Z"
    },
    "id": "bYc5Hhxg1Iay",
    "outputId": "35323184-ef50-431f-fc94-e8c4ba90f844"
   },
   "outputs": [
    {
     "name": "stdout",
     "output_type": "stream",
     "text": [
      "16\n",
      "{1: 1, 2: 4, 3: 9, 5: 25}\n",
      "(5, 25)\n",
      "{1: 1, 2: 4, 3: 9}\n",
      "{}\n"
     ]
    },
    {
     "ename": "NameError",
     "evalue": "name 'squares' is not defined",
     "output_type": "error",
     "traceback": [
      "\u001b[1;31m---------------------------------------------------------------------------\u001b[0m",
      "\u001b[1;31mNameError\u001b[0m                                 Traceback (most recent call last)",
      "\u001b[1;32m<ipython-input-53-bb99b9cebaa8>\u001b[0m in \u001b[0;36m<module>\u001b[1;34m\u001b[0m\n\u001b[0;32m     16\u001b[0m \u001b[1;33m\u001b[0m\u001b[0m\n\u001b[0;32m     17\u001b[0m \u001b[1;32mdel\u001b[0m \u001b[0msquares\u001b[0m              \u001b[1;31m# delete the dictionary itself\u001b[0m\u001b[1;33m\u001b[0m\u001b[1;33m\u001b[0m\u001b[0m\n\u001b[1;32m---> 18\u001b[1;33m \u001b[0mprint\u001b[0m\u001b[1;33m(\u001b[0m\u001b[0msquares\u001b[0m\u001b[1;33m)\u001b[0m           \u001b[1;31m# ▶ NameError!!!\u001b[0m\u001b[1;33m\u001b[0m\u001b[1;33m\u001b[0m\u001b[0m\n\u001b[0m",
      "\u001b[1;31mNameError\u001b[0m: name 'squares' is not defined"
     ]
    }
   ],
   "source": [
    "# Example: Removing elements from a dictionary\n",
    "\n",
    "\n",
    "squares = {1:1, 2:4, 3:9, 4:16, 5:25}   # create a dictionary\n",
    "\n",
    "# remove a particular item, returns its value\n",
    "print(squares.pop(4))    # ▶ 16\n",
    "print(squares)           # ▶ {1: 1, 2: 4, 3: 9, 5: 25}\n",
    "\n",
    "# remove an arbitrary item, return (key,value)\n",
    "print(squares.popitem()) # ▶ (5, 25)\n",
    "print(squares)           # ▶ {1: 1, 2: 4, 3: 9}\n",
    "\n",
    "squares.clear()          # remove all items\n",
    "print(squares)           # ▶ {}\n",
    "\n",
    "del squares              # delete the dictionary itself\n",
    "print(squares)           # ▶ NameError!!!"
   ]
  },
  {
   "cell_type": "code",
   "execution_count": null,
   "metadata": {
    "ExecuteTime": {
     "end_time": "2021-10-03T15:24:48.676242Z",
     "start_time": "2021-10-03T15:24:48.649873Z"
    },
    "id": "FhHu3fI01Iay",
    "outputId": "5272dcb7-981d-4d0e-ff5f-caf7911c2b96",
    "scrolled": false
   },
   "outputs": [
    {
     "name": "stdout",
     "output_type": "stream",
     "text": [
      "{1: 'Python', 2: 'Java', 4: 'PHP'}\n",
      "my_dict :  {}\n"
     ]
    },
    {
     "ename": "NameError",
     "evalue": "name 'my_dict' is not defined",
     "output_type": "error",
     "traceback": [
      "\u001b[1;31m---------------------------------------------------------------------------\u001b[0m",
      "\u001b[1;31mNameError\u001b[0m                                 Traceback (most recent call last)",
      "\u001b[1;32m<ipython-input-8-8138b0729954>\u001b[0m in \u001b[0;36m<module>\u001b[1;34m\u001b[0m\n\u001b[0;32m      9\u001b[0m \u001b[1;33m\u001b[0m\u001b[0m\n\u001b[0;32m     10\u001b[0m \u001b[1;32mdel\u001b[0m \u001b[0mmy_dict\u001b[0m       \u001b[1;31m# delete entire dictionary\u001b[0m\u001b[1;33m\u001b[0m\u001b[1;33m\u001b[0m\u001b[0m\n\u001b[1;32m---> 11\u001b[1;33m \u001b[0mprint\u001b[0m\u001b[1;33m(\u001b[0m\u001b[0mmy_dict\u001b[0m\u001b[1;33m[\u001b[0m\u001b[1;36m2\u001b[0m\u001b[1;33m]\u001b[0m\u001b[1;33m)\u001b[0m \u001b[1;31m# Error!\u001b[0m\u001b[1;33m\u001b[0m\u001b[1;33m\u001b[0m\u001b[0m\n\u001b[0m",
      "\u001b[1;31mNameError\u001b[0m: name 'my_dict' is not defined"
     ]
    }
   ],
   "source": [
    "# Example:\n",
    "\n",
    "my_dict = {1:'Python', 2:'Java', 3:'C++', 4:'PHP'}\n",
    "del my_dict[3]    # ▶ {1: 'Python', 2: 'Java', 4: 'PHP'} ∵ remove entry with key '3'\n",
    "print(my_dict)    # ▶ {}\n",
    "\n",
    "my_dict.clear()   # remove all entries in dict\n",
    "print(\"my_dict : \",my_dict)  # ▶ my_dict :  {}\n",
    "\n",
    "del my_dict       # delete entire dictionary\n",
    "print(my_dict[2]) # ▶ NameError!!!"
   ]
  },
  {
   "cell_type": "markdown",
   "metadata": {
    "id": "K6q7VZp_1Iay"
   },
   "source": [
    "## Dictionary Built-in Dictionary Functions\n",
    "\n",
    "Built-in functions like **`all()`**, **`any()`**, **`len()`**, **`cmp()`**, **`sorted()`**, **`str()`**, **`typ()`**, etc. are commonly used with dictionaries to perform different tasks."
   ]
  },
  {
   "cell_type": "markdown",
   "metadata": {
    "id": "c_A_QwNv1Iaz"
   },
   "source": [
    "Here are some examples that use built-in functions to work with a dictionary."
   ]
  },
  {
   "cell_type": "code",
   "execution_count": null,
   "metadata": {
    "ExecuteTime": {
     "end_time": "2021-10-03T15:24:49.930164Z",
     "start_time": "2021-10-03T15:24:49.912592Z"
    },
    "id": "tzL30xlM1Iaz",
    "outputId": "52f7e8f0-6ccd-45ce-da5a-3dffa00415f1"
   },
   "outputs": [
    {
     "name": "stdout",
     "output_type": "stream",
     "text": [
      "False\n",
      "True\n",
      "6\n",
      "[0, 1, 3, 5, 7, 9]\n"
     ]
    }
   ],
   "source": [
    "# Example: Dictionary Built-in Functions\n",
    "\n",
    "# all will give True if all \"Key\" is \"True\". 0 is also consider as False\n",
    "\n",
    "squares = {0:0, 1:1, 3:9, 5:25, 7:49, 9:81}\n",
    "\n",
    "print(all(squares))     # ▶ False\n",
    "print(any(squares))     # ▶ True\n",
    "print(len(squares))     # ▶ 6\n",
    "print(sorted(squares))  # ▶ [0, 1, 3, 5, 7, 9]"
   ]
  },
  {
   "cell_type": "markdown",
   "metadata": {
    "id": "eg-SvdM31Iaz"
   },
   "source": [
    "### `all(dict)` - The `all()` function returns True when all elements in the given iterable are true. If not, it returns False.\n",
    "\n",
    "In case of dictionaries, if all keys (not values) are true or the dictionary is empty, **`all()`** returns **`True`**. Else, it returns **`false`** for all other cases."
   ]
  },
  {
   "cell_type": "code",
   "execution_count": null,
   "metadata": {
    "ExecuteTime": {
     "end_time": "2021-10-03T15:24:50.637213Z",
     "start_time": "2021-10-03T15:24:50.623543Z"
    },
    "id": "-neYEgGM1Ia0",
    "outputId": "638f261f-efe3-4979-d983-43c90e6ee910"
   },
   "outputs": [
    {
     "name": "stdout",
     "output_type": "stream",
     "text": [
      "False\n",
      "True\n",
      "False\n",
      "True\n",
      "True\n"
     ]
    }
   ],
   "source": [
    "# Example 1: How all() works with Python dictionaries?\n",
    "# In case of dictionaries, if all keys (not values) are true or the dictionary is empty,\n",
    "# all() returns True. Else, it returns false for all other cases.\n",
    "\n",
    "my_dict = {0:'False', 1:'False'}\n",
    "print(all(my_dict))   # ▶ False\n",
    "\n",
    "my_dict = {1:'True', 2:'True'}\n",
    "print(all(my_dict))   # ▶ True\n",
    "\n",
    "my_dict = {1:'True', False:0}\n",
    "print(all(my_dict))   # ▶ False\n",
    "\n",
    "my_dict = {}\n",
    "print(all(my_dict))   # ▶ True\n",
    "\n",
    "# 0 is False\n",
    "# '0' is True\n",
    "my_dict = {'0':'True'}\n",
    "print(all(my_dict))   # ▶ True"
   ]
  },
  {
   "cell_type": "markdown",
   "metadata": {
    "id": "8YGWJdfq1Ia0"
   },
   "source": [
    "### `any(dict)` - The `any()` function returns True if any element of an iterable is True. If not, any() returns False.\n",
    "\n",
    "In the case of dictionaries, if all keys (not values) are false or the dictionary is empty, **`any()`** returns **`False`**. If at least one key is true, **`any()`** returns **`True`**."
   ]
  },
  {
   "cell_type": "code",
   "execution_count": null,
   "metadata": {
    "ExecuteTime": {
     "end_time": "2021-10-03T15:24:51.145031Z",
     "start_time": "2021-10-03T15:24:51.131363Z"
    },
    "id": "1I8RsSPV1Ia0",
    "outputId": "f18b07de-8946-4cd6-a365-9fcb84b45e9f",
    "scrolled": false
   },
   "outputs": [
    {
     "name": "stdout",
     "output_type": "stream",
     "text": [
      "False\n",
      "True\n",
      "False\n",
      "False\n",
      "True\n"
     ]
    }
   ],
   "source": [
    "# Example 1: How any() works with Python dictionaries?\n",
    "\n",
    "my_dict = {0:'False'}\n",
    "print(any(my_dict))                # ▶ False ∵ 0 is False\n",
    "\n",
    "my_dict = {0:'False', 1:'True'}\n",
    "print(any(my_dict))                # ▶ True ∵ 1 is True\n",
    "\n",
    "my_dict = {0:'False', False:0}\n",
    "print(any(my_dict))                # ▶ False ∵ both 0 and False are False\n",
    "\n",
    "my_dict = {}\n",
    "print(any(my_dict))                # ▶ False ∵ iterable is empty\n",
    "\n",
    "# 0 is False\n",
    "# '0' is True\n",
    "my_dict = {'0':'False'}\n",
    "print(any(my_dict))                # ▶ True"
   ]
  },
  {
   "cell_type": "markdown",
   "metadata": {
    "id": "hn9NSQQy1Ia1"
   },
   "source": [
    "### **`len(dict)`** - The `len()` function gives the total length of the dictionary. This would be equal to the number of items in the dictionary."
   ]
  },
  {
   "cell_type": "code",
   "execution_count": null,
   "metadata": {
    "ExecuteTime": {
     "end_time": "2021-10-03T15:24:51.557638Z",
     "start_time": "2021-10-03T15:24:51.544944Z"
    },
    "id": "5C7AgvUJ1Ia1",
    "outputId": "dbf2a08d-681f-488d-e593-20766c8799cb"
   },
   "outputs": [
    {
     "name": "stdout",
     "output_type": "stream",
     "text": [
      "4\n"
     ]
    }
   ],
   "source": [
    "# Example:\n",
    "\n",
    "my_dict = {1:'Python', 2:'Java', 3:'C++', 4:'PHP'}\n",
    "print(len(my_dict))  # ▶ 4"
   ]
  },
  {
   "cell_type": "markdown",
   "metadata": {
    "id": "w3WISfNB1Ia1"
   },
   "source": [
    "### **`sorted(dict)`** - The `sorted()` function sorts the elements of a given iterable in a specific order (either **ascending** or **descending**) and returns the sorted iterable as a list."
   ]
  },
  {
   "cell_type": "code",
   "execution_count": null,
   "metadata": {
    "ExecuteTime": {
     "end_time": "2021-10-03T15:24:52.002957Z",
     "start_time": "2021-10-03T15:24:51.992215Z"
    },
    "id": "xPrmzSni1Ia1",
    "outputId": "4a19dde2-e2a0-4374-ee61-dd944aa9f30b"
   },
   "outputs": [
    {
     "name": "stdout",
     "output_type": "stream",
     "text": [
      "['a', 'e', 'i', 'o', 'u']\n",
      "['u', 'o', 'i', 'e', 'a']\n"
     ]
    }
   ],
   "source": [
    "# Example:\n",
    "\n",
    "my_dict = {'e':1, 'a':2, 'u':3, 'o':4, 'i':5}\n",
    "print(sorted(my_dict))               # ▶ ['a', 'e', 'i', 'o', 'u']\n",
    "print(sorted(my_dict, reverse=True)) # ▶ ['u', 'o', 'i', 'e', 'a']"
   ]
  },
  {
   "cell_type": "markdown",
   "metadata": {
    "id": "L6oqhvta1Ia1"
   },
   "source": [
    "### **`str(dict)`** - The `str()` function produces a printable string representation of a dictionary."
   ]
  },
  {
   "cell_type": "code",
   "execution_count": null,
   "metadata": {
    "ExecuteTime": {
     "end_time": "2021-10-03T15:24:52.557653Z",
     "start_time": "2021-10-03T15:24:52.545940Z"
    },
    "id": "hCfN5gma1Ia2",
    "outputId": "2edaa865-6cda-4d58-af8f-8f033bd41799"
   },
   "outputs": [
    {
     "name": "stdout",
     "output_type": "stream",
     "text": [
      "{1: 'Python', 2: 'Java', 3: 'C++', 4: 'PHP'}\n"
     ]
    }
   ],
   "source": [
    "# Example:\n",
    "\n",
    "my_dict = {1:'Python', 2:'Java', 3:'C++', 4:'PHP'}\n",
    "print(str(my_dict)) # ▶ {1: 'Python', 2: 'Java', 3: 'C++', 4: 'PHP'}"
   ]
  },
  {
   "cell_type": "markdown",
   "metadata": {
    "id": "fPtFY2rl1Ia2"
   },
   "source": [
    "### **`type()`** - The `type()` function returns the type of the passed variable. If passed variable is dictionary then it would return a dictionary type."
   ]
  },
  {
   "cell_type": "code",
   "execution_count": null,
   "metadata": {
    "ExecuteTime": {
     "end_time": "2021-10-03T15:24:52.896528Z",
     "start_time": "2021-10-03T15:24:52.889694Z"
    },
    "id": "Cbeqe_gC1Ia2",
    "outputId": "06d5cfe7-3717-4f93-b540-ffe6c98654ab"
   },
   "outputs": [
    {
     "name": "stdout",
     "output_type": "stream",
     "text": [
      "<class 'dict'>\n"
     ]
    }
   ],
   "source": [
    "# Example:\n",
    "\n",
    "my_dict = {1:'Python', 2:'Java', 3:'C++', 4:'PHP'}\n",
    "print(type(my_dict))  # ▶ <class 'dict'>"
   ]
  },
  {
   "cell_type": "markdown",
   "metadata": {
    "id": "CYP1w6h11Ia3"
   },
   "source": [
    "Here are a few example use cases of these methods."
   ]
  },
  {
   "cell_type": "code",
   "execution_count": null,
   "metadata": {
    "ExecuteTime": {
     "end_time": "2021-10-03T15:24:53.793026Z",
     "start_time": "2021-10-03T15:24:53.784240Z"
    },
    "id": "zHduO97C1Ia3",
    "outputId": "10a693cd-d9b7-4433-c735-41b3a06dd612",
    "scrolled": true
   },
   "outputs": [
    {
     "name": "stdout",
     "output_type": "stream",
     "text": [
      "{'Math': 0, 'English': 0, 'Science': 0}\n",
      "('Math', 0)\n",
      "('English', 0)\n",
      "('Science', 0)\n",
      "['English', 'Math', 'Science']\n"
     ]
    }
   ],
   "source": [
    "# Example: Dictionary Methods\n",
    "\n",
    "marks = {}.fromkeys(['Math', 'English', 'Science'], 0)\n",
    "print(marks)                        # ▶ {'English': 0, 'Math': 0, 'Science': 0}\n",
    "\n",
    "for item in marks.items():\n",
    "    print(item)\n",
    "\n",
    "print(list(sorted(marks.keys())))   # ▶ ['English', 'Math', 'Science']"
   ]
  },
  {
   "cell_type": "markdown",
   "metadata": {
    "id": "tzFx0z-l1Ia3"
   },
   "source": [
    "### **`clear()`** - The method `clear()` removes all items from the dictionary."
   ]
  },
  {
   "cell_type": "code",
   "execution_count": null,
   "metadata": {
    "ExecuteTime": {
     "end_time": "2021-10-03T15:24:54.659252Z",
     "start_time": "2021-10-03T15:24:54.640699Z"
    },
    "id": "5U9SAkdz1Ia4",
    "outputId": "d8f94692-9f24-4828-e1e3-8bff382fdd74"
   },
   "outputs": [
    {
     "name": "stdout",
     "output_type": "stream",
     "text": [
      "{1: 'Python', 2: 'Java', 3: 'C++', 4: 'PHP'}\n",
      "{1: 'Python', 2: 'Java', 3: 'C++', 4: 'PHP'}\n"
     ]
    }
   ],
   "source": [
    "# Example:\n",
    "\n",
    "my_dict = {1:'Python', 2:'Java', 3:'C++', 4:'PHP'}\n",
    "\n",
    "print(str(my_dict))  # ▶ {1: 'Python', 2: 'Java', 3: 'C++', 4: 'PHP'}\n",
    "dict.clear()\n",
    "print(str(my_dict))  # ▶ {}"
   ]
  },
  {
   "cell_type": "markdown",
   "metadata": {
    "id": "ODP9G8Ko1Ia-"
   },
   "source": [
    "### **`copy()`** - The method `copy()` returns a shallow copy of the dictionary."
   ]
  },
  {
   "cell_type": "code",
   "execution_count": null,
   "metadata": {
    "ExecuteTime": {
     "end_time": "2021-10-03T15:24:55.398522Z",
     "start_time": "2021-10-03T15:24:55.378016Z"
    },
    "id": "7WHupVq41Ia_",
    "outputId": "73da4239-4e85-42db-8b03-b8130bc29cad"
   },
   "outputs": [
    {
     "name": "stdout",
     "output_type": "stream",
     "text": [
      "{1: 'Python', 2: 'Java', 3: 'C++', 4: 'PHP'}\n"
     ]
    }
   ],
   "source": [
    "# Example:\n",
    "\n",
    "dict1 = {1:'Python', 2:'Java', 3:'C++', 4:'PHP'}\n",
    "dict2 = dict1.copy()\n",
    "print(dict2)  # ▶ {1: 'Python', 2: 'Java', 3: 'C++', 4: 'PHP'}"
   ]
  },
  {
   "cell_type": "markdown",
   "metadata": {
    "id": "QFCzpLTY1Ia_"
   },
   "source": [
    "### **`itmes()`** - The method `items()` returns a list of dict's (key, value) tuple pairs."
   ]
  },
  {
   "cell_type": "code",
   "execution_count": null,
   "metadata": {
    "ExecuteTime": {
     "end_time": "2021-10-03T15:24:56.016694Z",
     "start_time": "2021-10-03T15:24:56.001074Z"
    },
    "id": "GhOdVK7H1Ia_",
    "outputId": "e21f58ba-3380-4489-f7a9-330eb51ae3bc",
    "scrolled": true
   },
   "outputs": [
    {
     "name": "stdout",
     "output_type": "stream",
     "text": [
      "dict_items([(1, 'Python'), (2, 'Java'), (3, 'C++'), (4, 'PHP')])\n"
     ]
    }
   ],
   "source": [
    "# Example:\n",
    "\n",
    "my_dict = {1:'Python', 2:'Java', 3:'C++', 4:'PHP'}\n",
    "print(my_dict.items()) # ▶ dict_items([(1, 'Python'), (2, 'Java'), (3, 'C++'), (4, 'PHP')])"
   ]
  },
  {
   "cell_type": "markdown",
   "metadata": {
    "id": "tvY1O17Q1IbA"
   },
   "source": [
    "### **`keys()`** - The method `keys()` returns a list of all the available keys in the dictionary."
   ]
  },
  {
   "cell_type": "code",
   "execution_count": null,
   "metadata": {
    "ExecuteTime": {
     "end_time": "2021-10-03T15:24:56.801865Z",
     "start_time": "2021-10-03T15:24:56.792102Z"
    },
    "id": "4neWrGGm1IbA",
    "outputId": "ddf7ff1a-59d8-4e5b-aa1a-a87a5301812e"
   },
   "outputs": [
    {
     "name": "stdout",
     "output_type": "stream",
     "text": [
      "dict_keys([1, 2, 3, 4])\n"
     ]
    }
   ],
   "source": [
    "# Example:\n",
    "\n",
    "my_dict = {1:'Python', 2:'Java', 3:'C++', 4:'PHP'}\n",
    "all_keys=my_dict.keys()\n",
    "print(all_keys)  # ▶ dict_keys([1, 2, 3, 4])"
   ]
  },
  {
   "cell_type": "markdown",
   "metadata": {
    "id": "2UE3BKOg1IbA"
   },
   "source": [
    "### **`fromkeys()`** - The method `fromkeys()` creates a new dictionary with keys from seq and values set to value.\n",
    "\n",
    "**Syntax:**\n",
    "\n",
    "```python\n",
    "dict.fromkeys(seq[, value])\n",
    "```"
   ]
  },
  {
   "cell_type": "code",
   "execution_count": null,
   "metadata": {
    "ExecuteTime": {
     "end_time": "2021-10-03T15:24:57.402460Z",
     "start_time": "2021-10-03T15:24:57.384888Z"
    },
    "id": "3ENwWdtn1IbA",
    "outputId": "b4d05ff9-c118-4d42-9fc2-07fcbeff9a0d",
    "scrolled": true
   },
   "outputs": [
    {
     "name": "stdout",
     "output_type": "stream",
     "text": [
      "new_dict : {'Python': None, 'Java': None, 'C++': None}\n",
      "new_dict : {'Python': 50, 'Java': 50, 'C++': 50}\n"
     ]
    }
   ],
   "source": [
    "# Example:\n",
    "\n",
    "seq = ('Python', 'Java', 'C++')\n",
    "my_dict = my_dict.fromkeys(seq)\n",
    "\n",
    "print (\"new_dict : %s\" % str(my_dict)) # ▶ new_dict : {'python': None, 'java': None, 'c++': None}\n",
    "my_dict = my_dict.fromkeys(seq, 50)\n",
    "print (\"new_dict : %s\" % str(my_dict)) # ▶ new_dict : {'python': 50, 'java': 50, 'c++': 50}"
   ]
  },
  {
   "cell_type": "markdown",
   "metadata": {
    "id": "-_xhmAcp1IbB"
   },
   "source": [
    "### **`setdefault()`** - The method `setdefault()` is similar to `get` but will set `dict[key] = default` if key is not already in dict.\n",
    "\n",
    "**Syntax:**\n",
    "\n",
    "```python\n",
    "dict.setdefault(key, default = None)\n",
    "```\n",
    "\n",
    "* key −> This is the key to be searched.\n",
    "* default −> This is the Value to be returned in case key is not found."
   ]
  },
  {
   "cell_type": "code",
   "execution_count": null,
   "metadata": {
    "ExecuteTime": {
     "end_time": "2021-10-03T15:24:58.004034Z",
     "start_time": "2021-10-03T15:24:57.984506Z"
    },
    "id": "So3BlUHc1IbB",
    "outputId": "62ec1466-4f69-4839-b2ad-3211ec406957"
   },
   "outputs": [
    {
     "name": "stdout",
     "output_type": "stream",
     "text": [
      "Milaan\n",
      "JLUFE\n"
     ]
    }
   ],
   "source": [
    "# Example:\n",
    "\n",
    "my_dict={'emp_name':'Milaan', 'age':96, 'emp_id':999}\n",
    "my_dict.setdefault('company','JLUFE')\n",
    "print(my_dict['emp_name'])   # ▶ Milaan\n",
    "print(my_dict['company'])    # ▶ JLUFE"
   ]
  },
  {
   "cell_type": "markdown",
   "metadata": {
    "id": "gC5DcEfo1IbB"
   },
   "source": [
    "### **`update()`** - The method `update()` adds dictionary dict2's key-values pairs in to dict. This function does not return anything.\n",
    "\n",
    "**Syntax:**\n",
    "\n",
    "```python\n",
    "dict.update(dict2)\n",
    "```"
   ]
  },
  {
   "cell_type": "code",
   "execution_count": null,
   "metadata": {
    "ExecuteTime": {
     "end_time": "2021-10-03T15:24:58.542619Z",
     "start_time": "2021-10-03T15:24:58.535783Z"
    },
    "id": "OtvaZGU-1IbB",
    "outputId": "78e0f6fb-9e2c-4f63-f4d1-60658cbedd31"
   },
   "outputs": [
    {
     "name": "stdout",
     "output_type": "stream",
     "text": [
      "{1: 'Python3', 2: 'Java', 3: 'C++', 4: 'PHP', 5: 'C'}\n"
     ]
    }
   ],
   "source": [
    "# Example:\n",
    "\n",
    "dict1 = {1:'Python', 2:'Java', 3:'C++', 4:'PHP'}\n",
    "dict2 = {1: 'Python3',5:'C'}  # update Python to Python3\n",
    "dict1.update(dict2)\n",
    "print(dict1)   # ▶ {1: 'Python3', 2: 'Java', 3: 'C++', 4: 'PHP', 5: 'C'}"
   ]
  },
  {
   "cell_type": "markdown",
   "metadata": {
    "id": "Uyqr4SFp1IbC"
   },
   "source": [
    "### **`value()`** - The method `values()` returns a list of all the values available in a given dictionary."
   ]
  },
  {
   "cell_type": "code",
   "execution_count": null,
   "metadata": {
    "ExecuteTime": {
     "end_time": "2021-10-03T15:24:59.022118Z",
     "start_time": "2021-10-03T15:24:59.010400Z"
    },
    "id": "dLQvB09E1IbC",
    "outputId": "01ee2511-7ce4-43ec-d2fc-892e5944ee6f"
   },
   "outputs": [
    {
     "name": "stdout",
     "output_type": "stream",
     "text": [
      "dict_values(['Python', 'Java', 'C++', 'PHP'])\n"
     ]
    }
   ],
   "source": [
    "# Example:\n",
    "\n",
    "dict1 = {1:'Python', 2:'Java', 3:'C++', 4:'PHP'}\n",
    "values= dict1.values()\n",
    "print(values)  # ▶ dict_values(['Python', 'Java', 'C++', 'PHP'])"
   ]
  },
  {
   "cell_type": "markdown",
   "metadata": {
    "id": "Qeh0ltP21IbC"
   },
   "source": [
    "## Python Dictionary Comprehension\n",
    "\n",
    "Dictionary comprehension is an elegant and concise way to create a new dictionary from an iterable in Python.\n",
    "\n",
    "Dictionary comprehension consists of an expression pair **`(key: value)`** followed by a **`for`** statement inside curly braces **`{}`**.\n",
    "\n",
    "Here is an example to make a dictionary with each item being a pair of a number and its square."
   ]
  },
  {
   "cell_type": "code",
   "execution_count": null,
   "metadata": {
    "ExecuteTime": {
     "end_time": "2021-10-03T15:24:59.697909Z",
     "start_time": "2021-10-03T15:24:59.680335Z"
    },
    "id": "2quyIJ2t1IbD",
    "outputId": "3b4d3207-730d-4499-b586-8c7aa5ff8b0e"
   },
   "outputs": [
    {
     "name": "stdout",
     "output_type": "stream",
     "text": [
      "{0: 0, 1: 1, 2: 4, 3: 9, 4: 16, 5: 25}\n"
     ]
    }
   ],
   "source": [
    "# Example: Dictionary Comprehension\n",
    "\n",
    "squares = {x: x*x for x in range(6)}\n",
    "print(squares)  # ▶ {0: 0, 1: 1, 2: 4, 3: 9, 4: 16, 5: 25}"
   ]
  },
  {
   "cell_type": "markdown",
   "metadata": {
    "id": "lTvx3Qkz1IbD"
   },
   "source": [
    "This code is equivalent to"
   ]
  },
  {
   "cell_type": "code",
   "execution_count": null,
   "metadata": {
    "ExecuteTime": {
     "end_time": "2021-10-03T15:25:00.281910Z",
     "start_time": "2021-10-03T15:25:00.272143Z"
    },
    "id": "I-btBf6K1IbD",
    "outputId": "72f18765-1e66-4ac4-a587-1bba14dc846b"
   },
   "outputs": [
    {
     "name": "stdout",
     "output_type": "stream",
     "text": [
      "{0: 0, 1: 1, 2: 4, 3: 9, 4: 16, 5: 25}\n"
     ]
    }
   ],
   "source": [
    "# Example:\n",
    "\n",
    "squares = {}\n",
    "for x in range(6):\n",
    "    squares[x] = x*x\n",
    "print(squares)  # ▶ {0: 0, 1: 1, 2: 4, 3: 9, 4: 16, 5: 25}"
   ]
  },
  {
   "cell_type": "code",
   "execution_count": null,
   "metadata": {
    "ExecuteTime": {
     "end_time": "2021-10-03T15:25:00.836601Z",
     "start_time": "2021-10-03T15:25:00.823910Z"
    },
    "id": "i_mEqahT1IbE",
    "outputId": "a7757f6b-0ef5-45f3-9d60-5ad35996b6c3"
   },
   "outputs": [
    {
     "name": "stdout",
     "output_type": "stream",
     "text": [
      "{1: 1, 3: 9, 5: 25, 7: 49, 9: 81}\n"
     ]
    }
   ],
   "source": [
    "# Example: Dictionary Comprehension with if conditional\n",
    "\n",
    "odd_squares = {x: x*x for x in range(11) if x % 2 == 1}\n",
    "print(odd_squares)  # ▶ {1: 1, 3: 9, 5: 25, 7: 49, 9: 81}"
   ]
  },
  {
   "cell_type": "markdown",
   "metadata": {
    "id": "y1XSqfN-1IbE"
   },
   "source": [
    "## Other Dictionary Operations"
   ]
  },
  {
   "cell_type": "markdown",
   "metadata": {
    "id": "WP63TVOC1IbF"
   },
   "source": [
    "### 1. Dictionary Membership Test\n",
    "\n",
    "We can test if a **`key`** is in a dictionary or not using the keyword **`in`**. Notice that the membership test is only for the **`keys`** and not for the **`values`**."
   ]
  },
  {
   "cell_type": "code",
   "execution_count": null,
   "metadata": {
    "ExecuteTime": {
     "end_time": "2021-10-03T15:25:02.965546Z",
     "start_time": "2021-10-03T15:25:02.944061Z"
    },
    "id": "WJbHMQ8P1IbF",
    "outputId": "1fe4c1ec-7765-498a-c89f-61c3142e0715"
   },
   "outputs": [
    {
     "name": "stdout",
     "output_type": "stream",
     "text": [
      "True\n",
      "True\n",
      "False\n"
     ]
    }
   ],
   "source": [
    "# Example: Membership Test for Dictionary Keys\n",
    "\n",
    "squares = {1: 1, 3: 9, 5: 25, 7: 99, 9: 61}\n",
    "\n",
    "print(1 in squares)      # ▶ True\n",
    "\n",
    "print(2 not in squares)  # ▶ True\n",
    "\n",
    "# membership tests for key only not value\n",
    "print(99 in squares)     # ▶ False"
   ]
  },
  {
   "cell_type": "markdown",
   "metadata": {
    "id": "sZ4ednBv1IbF"
   },
   "source": [
    "### 2. Iterating Through a Dictionary\n",
    "\n",
    "We can iterate through each key in a dictionary using a **`for`** loop."
   ]
  },
  {
   "cell_type": "code",
   "execution_count": null,
   "metadata": {
    "ExecuteTime": {
     "end_time": "2021-10-03T15:25:04.387444Z",
     "start_time": "2021-10-03T15:25:04.376702Z"
    },
    "id": "lxtCEcgP1IbG",
    "outputId": "15b2c40e-2b33-409f-a221-2105a2061997"
   },
   "outputs": [
    {
     "name": "stdout",
     "output_type": "stream",
     "text": [
      "1\n",
      "9\n",
      "25\n",
      "49\n",
      "81\n"
     ]
    }
   ],
   "source": [
    "# Example: Iterating through a Dictionary\n",
    "\n",
    "squares = {1: 1, 3: 9, 5: 25, 7: 49, 9: 81}\n",
    "for i in squares:\n",
    "    print(squares[i])"
   ]
  },
  {
   "cell_type": "markdown",
   "metadata": {
    "id": "I84YWFuy1IbG"
   },
   "source": [
    "## 💻 Exercises ➞ <span class='label label-default'>Dictionary</span>\n",
    "\n",
    "1. Create an empty dictionary called **`bird`**\n",
    "2. Add **`name`**, **`color`**, **`breed`**, **`legs`**, **`age`** to the **`bird`** dictionary\n",
    "3. Create a **`student`** dictionary and add **`first_name`**, **`last_name`**, **`gender`**, **`age`**, **`marital_status`**, **`skills`**, **`country`**, **`city`** and **`address`** as keys for the dictionary\n",
    "3. Get the length of the **`student`** dictionary\n",
    "4. Get the value of **`skills`** and check the data type, it should be a list\n",
    "5. Modify the **`skills`** values by adding one or two skills\n",
    "6. Get the dictionary keys as a list\n",
    "7. Get the dictionary values as a list\n",
    "8. Change the dictionary to a list of tuples using **`items()`** method\n",
    "9. Delete one of the items in the dictionary\n",
    "10. Delete one of the dictionaries"
   ]
  },
  {
   "cell_type": "code",
   "execution_count": null,
   "metadata": {
    "id": "MnkUzOqq1IbG"
   },
   "outputs": [],
   "source": []
  },
  {
   "cell_type": "markdown",
   "metadata": {
    "id": "bKk48_fd1Joc"
   },
   "source": [
    "# Python Sets\n",
    "\n",
    "In this class, you'll learn everything about Python sets; how they are created, adding or removing elements from them, and all operations performed on sets in Python."
   ]
  },
  {
   "cell_type": "markdown",
   "metadata": {
    "id": "L2k3zD6s1Joc"
   },
   "source": [
    "## What is Set in Python?\n",
    "\n",
    "A set is an **unordered collection of items**. Every set element is unique (no duplicates) and must be immutable (cannot be changed).\n",
    "\n",
    "However, a **set itself is mutable. We can add or remove items from it**.\n",
    "\n",
    "Sets can also be used to perform mathematical set operations like **union**, **intersection**, **symmetric difference**, etc."
   ]
  },
  {
   "cell_type": "markdown",
   "metadata": {
    "id": "SyfiDHlg1Jod"
   },
   "source": [
    "### Summary\n",
    "\n",
    "| Data types     | Type          |         |\n",
    "| :------------: | :-----------: |:------: |\n",
    "| **String**     | **immutable** |  |\n",
    "| **List**       | **mutable**   |✎|\n",
    "| **Tuple**      | **immutable** |  |\n",
    "| **Dictionary** | **mutable**   |✎|\n",
    "| **Set**        | **immutable** |  |"
   ]
  },
  {
   "cell_type": "markdown",
   "metadata": {
    "heading_collapsed": true,
    "id": "PR8ZV27d1Jom"
   },
   "source": [
    "## How Are Sets Better Than Other DataTypes?\n",
    "\n",
    "Sets **will not contain multiple occurrences of the same element**, they are very useful in removing duplicate elements from a list or a tuple. Also, they are useful in computing mathematical notations such as union, intersection, etc."
   ]
  },
  {
   "cell_type": "code",
   "execution_count": null,
   "metadata": {
    "ExecuteTime": {
     "end_time": "2021-10-03T14:22:15.713135Z",
     "start_time": "2021-10-03T14:22:15.702393Z"
    },
    "id": "wXqnYbmj1Jom",
    "outputId": "342a2a9f-eaba-4f17-f69d-1b288b22444c"
   },
   "outputs": [
    {
     "name": "stdout",
     "output_type": "stream",
     "text": [
      "{1, 2, 3, 5, 7}\n",
      "{1.0, (1, 2, 3), 'Hello'}\n"
     ]
    }
   ],
   "source": [
    "# Example 1: Different types of sets in Python\n",
    "\n",
    "# set of integers\n",
    "my_set = {5, 7, 1, 2, 3}\n",
    "print(my_set)           # ▶ {1, 2, 3, 5, 7}\n",
    "\n",
    "# set of mixed datatypes\n",
    "my_set = {1.0, \"Hello\", (1, 2, 3)}\n",
    "print(my_set)           # ▶ {1.0, 'Hello', (1, 2, 3)}"
   ]
  },
  {
   "cell_type": "code",
   "execution_count": null,
   "metadata": {
    "ExecuteTime": {
     "end_time": "2021-10-03T14:22:16.310326Z",
     "start_time": "2021-10-03T14:22:15.727787Z"
    },
    "id": "uNL7G-RH1Jon",
    "outputId": "c940fa12-7f73-474e-acb5-eb54eb448686",
    "scrolled": false
   },
   "outputs": [
    {
     "name": "stdout",
     "output_type": "stream",
     "text": [
      "{1, 2, 3, 4}\n",
      "{1, 2, 3}\n",
      "{1, 2, (3, 4)}\n"
     ]
    },
    {
     "ename": "TypeError",
     "evalue": "unhashable type: 'list'",
     "output_type": "error",
     "traceback": [
      "\u001b[1;31m---------------------------------------------------------------------------\u001b[0m",
      "\u001b[1;31mTypeError\u001b[0m                                 Traceback (most recent call last)",
      "\u001b[1;32m<ipython-input-2-f49307ce4aaa>\u001b[0m in \u001b[0;36m<module>\u001b[1;34m\u001b[0m\n\u001b[0;32m     18\u001b[0m \u001b[1;31m# here [3, 4] is a mutable list\u001b[0m\u001b[1;33m\u001b[0m\u001b[1;33m\u001b[0m\u001b[1;33m\u001b[0m\u001b[0m\n\u001b[0;32m     19\u001b[0m \u001b[1;33m\u001b[0m\u001b[0m\n\u001b[1;32m---> 20\u001b[1;33m \u001b[0mmy_set\u001b[0m \u001b[1;33m=\u001b[0m \u001b[1;33m{\u001b[0m\u001b[1;36m1\u001b[0m\u001b[1;33m,\u001b[0m \u001b[1;36m2\u001b[0m\u001b[1;33m,\u001b[0m \u001b[1;33m[\u001b[0m\u001b[1;36m3\u001b[0m\u001b[1;33m,\u001b[0m \u001b[1;36m4\u001b[0m\u001b[1;33m]\u001b[0m\u001b[1;33m}\u001b[0m   \u001b[1;31m# this will cause an error as list is mutable\u001b[0m\u001b[1;33m\u001b[0m\u001b[1;33m\u001b[0m\u001b[0m\n\u001b[0m",
      "\u001b[1;31mTypeError\u001b[0m: unhashable type: 'list'"
     ]
    }
   ],
   "source": [
    "# Example 2: Different types of sets in Python\n",
    "\n",
    "# set cannot have duplicates\n",
    "my_set = {1, 2, 3, 4, 3, 2}\n",
    "print(my_set)             # ▶ {1, 2, 3, 4}\n",
    "\n",
    "# we can make set from a list\n",
    "my_set = set([1, 2, 3, 2])\n",
    "print(my_set)             # ▶ {1, 2, 3}\n",
    "\n",
    "# set can have immutable items\n",
    "# here (3, 4) is a immutable list\n",
    "\n",
    "my_set = {1, 2, (3, 4)}\n",
    "print(my_set)            # ▶ {1, 2, (3, 4)} ∵ tuple is immutable\n",
    "\n",
    "# set cannot have mutable items\n",
    "# here [3, 4] is a mutable list\n",
    "\n",
    "my_set = {1, 2, [3, 4]}  # this will cause an error ∵ list is mutable"
   ]
  },
  {
   "cell_type": "markdown",
   "metadata": {
    "id": "mCu3gknP1Jon"
   },
   "source": [
    "#### Creating an empty set is a bit tricky.\n",
    "\n",
    "Empty curly braces **`{}`** will make an empty dictionary in Python. To make a set without any elements, we use the **`set()`** function without any argument."
   ]
  },
  {
   "cell_type": "code",
   "execution_count": null,
   "metadata": {
    "ExecuteTime": {
     "end_time": "2021-10-03T14:22:27.149150Z",
     "start_time": "2021-10-03T14:22:27.142314Z"
    },
    "id": "yYsnsC0A1Joo",
    "outputId": "cd451cfc-63fc-4aee-d2c1-af43c0424f93"
   },
   "outputs": [
    {
     "name": "stdout",
     "output_type": "stream",
     "text": [
      "<class 'dict'>\n",
      "<class 'set'>\n"
     ]
    }
   ],
   "source": [
    "# Example: Distinguish set and dictionary while creating empty set\n",
    "\n",
    "# initialize a with {}\n",
    "a = {}\n",
    "\n",
    "# check data type of a\n",
    "print(type(a))  # ▶ <class 'dict'> ∵ dict also use {}\n",
    "\n",
    "# initialize a with set()\n",
    "a = set()\n",
    "\n",
    "# check data type of a\n",
    "print(type(a)) # ▶ <class 'set'>"
   ]
  },
  {
   "cell_type": "code",
   "execution_count": null,
   "metadata": {
    "ExecuteTime": {
     "end_time": "2021-10-03T14:22:27.982190Z",
     "start_time": "2021-10-03T14:22:27.971452Z"
    },
    "id": "ItnvpUPp1Joo",
    "outputId": "23bea563-452f-4a54-82f2-b87729e09167",
    "scrolled": true
   },
   "outputs": [
    {
     "name": "stdout",
     "output_type": "stream",
     "text": [
      "{1, 3}\n",
      "{1, 2, 3}\n",
      "{1, 2, 3, 4}\n",
      "{1, 2, 3, 4, 5, 7, 8, 9, 10}\n"
     ]
    }
   ],
   "source": [
    "# Example:\n",
    "\n",
    "# initialize my_set\n",
    "my_set = {1, 3}\n",
    "print(my_set)      # ▶ {1, 3}\n",
    "\n",
    "# my_set[0]\n",
    "# if you uncomment above line, you will get an error\n",
    "# TypeError: 'set' object does not support indexing\n",
    "\n",
    "# add an element\n",
    "my_set.add(2)\n",
    "print(my_set)     # ▶ {1, 2, 3}\n",
    "\n",
    "# add multiple elements\n",
    "my_set.update([2, 3, 4])\n",
    "print(my_set)     # ▶ {1, 2, 3, 4}\n",
    "\n",
    "# add list and set\n",
    "my_set.update([1,7],(8,9,10),{1,5,9,10})\n",
    "print(my_set)     # ▶ {1, 2, 3, 4, 5, 7, 8, 9, 10}"
   ]
  },
  {
   "cell_type": "markdown",
   "metadata": {
    "id": "DK_OkcZh1Jop"
   },
   "source": [
    "## Removing elements from a set\n",
    "\n",
    "A particular item can be removed from a set using the methods **`discard()`** and **`remove()`**.\n",
    "\n",
    "The only difference between the two is that the **`discard()`** function leaves a set unchanged if the element is not present in the set. On the other hand, the **`remove()`** function will raise an error in such a condition (if element is not present in the set).\n",
    "\n",
    "The following example will illustrate this."
   ]
  },
  {
   "cell_type": "code",
   "execution_count": null,
   "metadata": {
    "ExecuteTime": {
     "end_time": "2021-10-03T14:22:28.800585Z",
     "start_time": "2021-10-03T14:22:28.731249Z"
    },
    "id": "90dR6ps71Jop",
    "outputId": "795b33b7-42bf-4e0b-b597-7c5d9c2a881d"
   },
   "outputs": [
    {
     "name": "stdout",
     "output_type": "stream",
     "text": [
      "{1, 3, 4, 5, 6}\n",
      "{1, 3, 5, 6}\n",
      "{1, 3, 5}\n",
      "{1, 3, 5}\n"
     ]
    },
    {
     "ename": "KeyError",
     "evalue": "2",
     "output_type": "error",
     "traceback": [
      "\u001b[1;31m---------------------------------------------------------------------------\u001b[0m",
      "\u001b[1;31mKeyError\u001b[0m                                  Traceback (most recent call last)",
      "\u001b[1;32m<ipython-input-5-3bfaa309574d>\u001b[0m in \u001b[0;36m<module>\u001b[1;34m\u001b[0m\n\u001b[0;32m     18\u001b[0m \u001b[1;33m\u001b[0m\u001b[0m\n\u001b[0;32m     19\u001b[0m \u001b[1;31m# remove an element not present in my_set you will get an error.\u001b[0m\u001b[1;33m\u001b[0m\u001b[1;33m\u001b[0m\u001b[1;33m\u001b[0m\u001b[0m\n\u001b[1;32m---> 20\u001b[1;33m \u001b[0mmy_set\u001b[0m\u001b[1;33m.\u001b[0m\u001b[0mremove\u001b[0m\u001b[1;33m(\u001b[0m\u001b[1;36m2\u001b[0m\u001b[1;33m)\u001b[0m  \u001b[1;31m# Output: KeyError!!!\u001b[0m\u001b[1;33m\u001b[0m\u001b[1;33m\u001b[0m\u001b[0m\n\u001b[0m",
      "\u001b[1;31mKeyError\u001b[0m: 2"
     ]
    }
   ],
   "source": [
    "# Example: Difference between discard() and remove()\n",
    "\n",
    "# initialize my_set\n",
    "my_set = {1, 3, 4, 5, 6}\n",
    "print(my_set)     # ▶ {1, 3, 4, 5, 6}\n",
    "\n",
    "# discard an element\n",
    "my_set.discard(4)\n",
    "print(my_set)     # ▶ {1, 3, 5, 6}\n",
    "\n",
    "# remove an element\n",
    "my_set.remove(6)\n",
    "print(my_set)     # ▶ {1, 3, 5}\n",
    "\n",
    "# discard an element not present in my_set\n",
    "my_set.discard(2)\n",
    "print(my_set)     # ▶ {1, 3, 5} NO ERROR!\n",
    "\n",
    "# remove an element not present in my_set you will get an error.\n",
    "my_set.remove(2)  # ▶ KeyError!!!"
   ]
  },
  {
   "cell_type": "markdown",
   "metadata": {
    "id": "LKTzCMrH1Jop"
   },
   "source": [
    "Similarly, we can remove and return an item using the **`pop()`** method.\n",
    "\n",
    "Since set is an unordered data type, there is no way of determining which item will be popped. It is completely arbitrary.\n",
    "\n",
    "We can also remove all the items from a set using the **`clear()`** method."
   ]
  },
  {
   "cell_type": "code",
   "execution_count": null,
   "metadata": {
    "ExecuteTime": {
     "end_time": "2021-10-03T14:22:29.430491Z",
     "start_time": "2021-10-03T14:22:29.419752Z"
    },
    "id": "KlXu75CC1Jop",
    "outputId": "863894ee-35fe-47ba-8b58-b54ecdef9d38"
   },
   "outputs": [
    {
     "name": "stdout",
     "output_type": "stream",
     "text": [
      "{'W', 'H', 'r', 'd', 'e', 'o', 'l'}\n",
      "W\n",
      "{'r', 'd', 'e', 'o', 'l'}\n",
      "set()\n"
     ]
    }
   ],
   "source": [
    "# Example:\n",
    "\n",
    "# initialize my_set\n",
    "my_set = set(\"HelloWorld\")\n",
    "print(my_set)        # ▶ unorderd set of unique elements\n",
    "\n",
    "# pop an element\n",
    "print(my_set.pop())  # ▶ removes a random element\n",
    "\n",
    "# pop another element\n",
    "my_set.pop()\n",
    "print(my_set)\n",
    "\n",
    "# clear my_set\n",
    "my_set.clear()\n",
    "print(my_set)        # ▶ set()"
   ]
  },
  {
   "cell_type": "markdown",
   "metadata": {
    "id": "-i0S3WjC1Jot"
   },
   "source": [
    "## Python Set Operations\n",
    "\n",
    "Sets can be used to carry out mathematical set operations like union, intersection, difference and symmetric difference. We can do this with operators or methods.\n",
    "\n",
    "Let us consider the following two sets for the following operations.\n",
    "\n",
    "```python\n",
    ">>> A = {1, 2, 3, 4, 5}\n",
    ">>> B = {4, 5, 6, 7, 8}\n",
    "```"
   ]
  },
  {
   "cell_type": "markdown",
   "metadata": {
    "id": "rmReSJiM1Jot"
   },
   "source": [
    "### Set Union\n",
    "\n",
    "<div>\n",
    "<img src=\"img/set1.png\" width=\"300\"/>\n",
    "</div>\n",
    "\n",
    "Union of **`A`** and **`B`** is a set of all elements from both sets.\n",
    "\n",
    "Union is performed using **`|`** operator. Same can be accomplished using the **`union()`** method."
   ]
  },
  {
   "cell_type": "code",
   "execution_count": null,
   "metadata": {
    "ExecuteTime": {
     "end_time": "2021-10-03T14:22:30.141458Z",
     "start_time": "2021-10-03T14:22:30.132671Z"
    },
    "id": "EELZ6gHJ1Jot",
    "outputId": "51e7c76e-aff2-45a7-af30-0f6626b417f9"
   },
   "outputs": [
    {
     "name": "stdout",
     "output_type": "stream",
     "text": [
      "{1, 2, 3, 4, 5, 6, 7, 8}\n"
     ]
    }
   ],
   "source": [
    "# Example 1:\n",
    "\n",
    "# Set union method\n",
    "# initialize A and B\n",
    "A = {1, 2, 3, 4, 5}\n",
    "B = {4, 5, 6, 7, 8}\n",
    "\n",
    "# use | operator\n",
    "print(A | B)      # ▶ {1, 2, 3, 4, 5, 6, 7, 8}"
   ]
  },
  {
   "cell_type": "code",
   "execution_count": null,
   "metadata": {
    "ExecuteTime": {
     "end_time": "2021-10-03T14:22:30.448112Z",
     "start_time": "2021-10-03T14:22:30.422721Z"
    },
    "id": "sSZUg5UN1Jou",
    "outputId": "ae7f4d3a-374f-4d7b-dd6e-cef1e1b7e432"
   },
   "outputs": [
    {
     "data": {
      "text/plain": [
       "{1, 2, 3, 4, 5, 6, 7, 8}"
      ]
     },
     "execution_count": 8,
     "metadata": {},
     "output_type": "execute_result"
    }
   ],
   "source": [
    "# Example 2:\n",
    "\n",
    "# use union function\n",
    "A.union(B)\n",
    "{1, 2, 3, 4, 5, 6, 7, 8}\n",
    "\n",
    "# use union function on B\n",
    "B.union(A)\n",
    "{1, 2, 3, 4, 5, 6, 7, 8}"
   ]
  },
  {
   "cell_type": "markdown",
   "metadata": {
    "id": "Rxs2J0Hs1Jou"
   },
   "source": [
    "### Set Intersection\n",
    "\n",
    "<div>\n",
    "<img src=\"img/set2.png\" width=\"300\"/>\n",
    "</div>\n",
    "\n",
    "Intersection of **`A`** and **`B`** is a set of elements that are common in both the sets.\n",
    "\n",
    "Intersection is performed using **`&`** operator. Same can be accomplished using the **`intersection()`** method."
   ]
  },
  {
   "cell_type": "code",
   "execution_count": null,
   "metadata": {
    "ExecuteTime": {
     "end_time": "2021-10-03T14:22:30.802129Z",
     "start_time": "2021-10-03T14:22:30.787484Z"
    },
    "id": "1Wze-47F1Jou",
    "outputId": "4f3f7eb5-a44b-4dee-fb93-fe7ca3897689"
   },
   "outputs": [
    {
     "name": "stdout",
     "output_type": "stream",
     "text": [
      "{4, 5}\n"
     ]
    }
   ],
   "source": [
    "# Example 1:\n",
    "\n",
    "# Intersection of sets\n",
    "# initialize A and B\n",
    "A = {1, 2, 3, 4, 5}\n",
    "B = {4, 5, 6, 7, 8}\n",
    "\n",
    "# use & operator\n",
    "print(A & B)     # ▶ {4, 5}"
   ]
  },
  {
   "cell_type": "code",
   "execution_count": null,
   "metadata": {
    "ExecuteTime": {
     "end_time": "2021-10-03T14:22:31.048238Z",
     "start_time": "2021-10-03T14:22:31.030656Z"
    },
    "id": "zPVbouDt1Jou",
    "outputId": "5ef3f114-56bb-4ef7-c8ba-22f1624b0fe4"
   },
   "outputs": [
    {
     "data": {
      "text/plain": [
       "{4, 5}"
      ]
     },
     "execution_count": 10,
     "metadata": {},
     "output_type": "execute_result"
    }
   ],
   "source": [
    "# Example 2:\n",
    "\n",
    "# use intersection function on A\n",
    "A.intersection(B) # ▶ {4, 5}\n",
    "\n",
    "# use intersection function on B\n",
    "B.intersection(A) # ▶ {4, 5}"
   ]
  },
  {
   "cell_type": "markdown",
   "metadata": {
    "id": "-CHgstim1Jov"
   },
   "source": [
    "### Set Difference\n",
    "\n",
    "<div>\n",
    "<img src=\"img/set3.png\" width=\"300\"/>\n",
    "</div>\n",
    "\n",
    "Difference of the set **`B`** from set **`A`**, **`(A - B)`** is a set of elements that are only in A but not in **`B`**. Similarly, **`B - A`** is a set of elements in **`B`** but not in **`A`**.\n",
    "\n",
    "Difference is performed using **`-`** operator. Same can be accomplished using the **`difference()`** method."
   ]
  },
  {
   "cell_type": "code",
   "execution_count": null,
   "metadata": {
    "ExecuteTime": {
     "end_time": "2021-10-03T14:22:31.508218Z",
     "start_time": "2021-10-03T14:22:31.491614Z"
    },
    "id": "F-x05SMK1Jov",
    "outputId": "9f5f1380-aea5-4ed0-8b9b-a378ad8a16d4"
   },
   "outputs": [
    {
     "name": "stdout",
     "output_type": "stream",
     "text": [
      "{1, 2, 3}\n",
      "{8, 6, 7}\n"
     ]
    }
   ],
   "source": [
    "# Example 1:\n",
    "\n",
    "# Difference of two sets\n",
    "# initialize A and B\n",
    "A = {1, 2, 3, 4, 5}\n",
    "B = {4, 5, 6, 7, 8}\n",
    "\n",
    "# use - operator on A\n",
    "print(A - B)    # ▶ {1, 2, 3}\n",
    "print(B - A)    # ▶ {8, 6, 7}"
   ]
  },
  {
   "cell_type": "code",
   "execution_count": null,
   "metadata": {
    "ExecuteTime": {
     "end_time": "2021-10-03T14:22:31.755293Z",
     "start_time": "2021-10-03T14:22:31.735763Z"
    },
    "id": "9X6CC28n1Jov",
    "outputId": "3a4cb0b6-cbfd-4eb5-dac5-6e7b05399d93"
   },
   "outputs": [
    {
     "data": {
      "text/plain": [
       "{6, 7, 8}"
      ]
     },
     "execution_count": 12,
     "metadata": {},
     "output_type": "execute_result"
    }
   ],
   "source": [
    "# Example 2:\n",
    "\n",
    "# use difference function on A\n",
    "A.difference(B) # ▶ {1, 2, 3}\n",
    "\n",
    "# use difference function on B\n",
    "B.difference(A) # ▶ {6, 7, 8}"
   ]
  },
  {
   "cell_type": "markdown",
   "metadata": {
    "id": "gF2_JQS21Jov"
   },
   "source": [
    "### Set Symmetric Difference\n",
    "\n",
    "<div>\n",
    "<img src=\"img/set4.png\" width=\"300\"/>\n",
    "</div>\n",
    "\n",
    "Symmetric Difference of **`A`** and **`B`** is a set of elements in **`A`** and **`B`** but not in both (excluding the intersection).\n",
    "\n",
    "Symmetric difference is performed using **`^`** operator. Same can be accomplished using the method **`symmetric_difference()`**."
   ]
  },
  {
   "cell_type": "code",
   "execution_count": null,
   "metadata": {
    "ExecuteTime": {
     "end_time": "2021-10-03T14:22:32.248479Z",
     "start_time": "2021-10-03T14:22:32.227973Z"
    },
    "id": "2BaOsEIW1Jov",
    "outputId": "f058de84-be5d-4875-b6a8-193c008f9504"
   },
   "outputs": [
    {
     "name": "stdout",
     "output_type": "stream",
     "text": [
      "{1, 2, 3, 6, 7, 8}\n"
     ]
    }
   ],
   "source": [
    "# Example 1:\n",
    "\n",
    "# Symmetric difference of two sets\n",
    "# initialize A and B\n",
    "A = {1, 2, 3, 4, 5}\n",
    "B = {4, 5, 6, 7, 8}\n",
    "\n",
    "# use ^ operator\n",
    "print(A ^ B)    # ▶ {1, 2, 3, 6, 7, 8}"
   ]
  },
  {
   "cell_type": "code",
   "execution_count": null,
   "metadata": {
    "ExecuteTime": {
     "end_time": "2021-10-03T14:22:32.556109Z",
     "start_time": "2021-10-03T14:22:32.533649Z"
    },
    "id": "-2XpWvgx1Jov",
    "outputId": "0610c185-e53b-46ec-928a-58a209795d58"
   },
   "outputs": [
    {
     "data": {
      "text/plain": [
       "{1, 2, 3, 6, 7, 8}"
      ]
     },
     "execution_count": 14,
     "metadata": {},
     "output_type": "execute_result"
    }
   ],
   "source": [
    "# Example 2:\n",
    "\n",
    "# use symmetric_difference function on A\n",
    "A.symmetric_difference(B)  # ▶ {1, 2, 3, 6, 7, 8}\n",
    "\n",
    "# use symmetric_difference function on B\n",
    "B.symmetric_difference(A)  # ▶ {1, 2, 3, 6, 7, 8}"
   ]
  },
  {
   "cell_type": "markdown",
   "metadata": {
    "id": "j3xULP2-1Jow"
   },
   "source": [
    "## Other Set Operations"
   ]
  },
  {
   "cell_type": "markdown",
   "metadata": {
    "id": "BZbkG5AM1Jow"
   },
   "source": [
    "### 1. Set Membership Test\n",
    "\n",
    "We can test if an item exists in a set or not, using the **`in`** keyword."
   ]
  },
  {
   "cell_type": "code",
   "execution_count": null,
   "metadata": {
    "ExecuteTime": {
     "end_time": "2021-10-03T14:22:34.602087Z",
     "start_time": "2021-10-03T14:22:34.588419Z"
    },
    "id": "BxfWVsHW1Jox",
    "outputId": "4deb8045-5ffc-4efb-e0e8-3095e71ffb68"
   },
   "outputs": [
    {
     "name": "stdout",
     "output_type": "stream",
     "text": [
      "True\n",
      "False\n"
     ]
    }
   ],
   "source": [
    "# Example:\n",
    "\n",
    "# in keyword in a set\n",
    "# initialize my_set\n",
    "my_set = set(\"apple\")\n",
    "\n",
    "# check if 'a' is present\n",
    "print('a' in my_set)      # ▶ True\n",
    "\n",
    "# check if 'p' is present\n",
    "print('p' not in my_set)  # ▶ False"
   ]
  },
  {
   "cell_type": "markdown",
   "metadata": {
    "id": "VsLmr8Og1Jox"
   },
   "source": [
    "### 2. Iterating Through a Set\n",
    "\n",
    "We can iterate through each item in a set using a **`for`** loop."
   ]
  },
  {
   "cell_type": "code",
   "execution_count": null,
   "metadata": {
    "ExecuteTime": {
     "end_time": "2021-10-03T14:22:35.248600Z",
     "start_time": "2021-10-03T14:22:35.228094Z"
    },
    "id": "xtGDVPPM1Jox",
    "outputId": "041f73d5-ddfa-4e01-e34d-4b5e8778da19"
   },
   "outputs": [
    {
     "name": "stdout",
     "output_type": "stream",
     "text": [
      "p\n",
      "a\n",
      "e\n",
      "l\n"
     ]
    }
   ],
   "source": [
    "for letter in set(\"apple\"):\n",
    "    print(letter)  # ▶ ∵ unorderd set of unique elements"
   ]
  },
  {
   "cell_type": "code",
   "execution_count": null,
   "metadata": {
    "ExecuteTime": {
     "end_time": "2021-10-03T14:22:35.835536Z",
     "start_time": "2021-10-03T14:22:35.820892Z"
    },
    "id": "xBGfQACo1Jox"
   },
   "outputs": [],
   "source": [
    "# Example:\n",
    "\n",
    "# Frozensets\n",
    "# initialize A and B\n",
    "A = frozenset([1, 2, 3, 4])\n",
    "B = frozenset([3, 4, 5, 6])"
   ]
  },
  {
   "cell_type": "code",
   "execution_count": null,
   "metadata": {
    "ExecuteTime": {
     "end_time": "2021-10-03T14:22:36.376573Z",
     "start_time": "2021-10-03T14:22:36.356070Z"
    },
    "id": "xlrbJMrs1Jo2",
    "outputId": "8d06b167-5bf5-41ac-f906-4a8c482a652f",
    "scrolled": true
   },
   "outputs": [
    {
     "data": {
      "text/plain": [
       "False"
      ]
     },
     "execution_count": 18,
     "metadata": {},
     "output_type": "execute_result"
    }
   ],
   "source": [
    "A.isdisjoint(B) # ▶ False ∵ they have common intersection points"
   ]
  },
  {
   "cell_type": "code",
   "execution_count": null,
   "metadata": {
    "ExecuteTime": {
     "end_time": "2021-10-03T14:22:36.623658Z",
     "start_time": "2021-10-03T14:22:36.613892Z"
    },
    "id": "r9POWsfd1Jo2",
    "outputId": "9dba792d-c82b-4918-cf87-fb61b8451523"
   },
   "outputs": [
    {
     "data": {
      "text/plain": [
       "frozenset({1, 2})"
      ]
     },
     "execution_count": 19,
     "metadata": {},
     "output_type": "execute_result"
    }
   ],
   "source": [
    "A.difference(B) # ▶ frozenset({1, 2})"
   ]
  },
  {
   "cell_type": "code",
   "execution_count": null,
   "metadata": {
    "ExecuteTime": {
     "end_time": "2021-10-03T14:22:36.885384Z",
     "start_time": "2021-10-03T14:22:36.871715Z"
    },
    "id": "SlYJXAVa1Jo3",
    "outputId": "df4fa296-4174-40b9-cb3c-b60223c86c13"
   },
   "outputs": [
    {
     "data": {
      "text/plain": [
       "frozenset({1, 2, 3, 4, 5, 6})"
      ]
     },
     "execution_count": 20,
     "metadata": {},
     "output_type": "execute_result"
    }
   ],
   "source": [
    "A | B           # ▶ frozenset({1, 2, 3, 4, 5, 6})"
   ]
  },
  {
   "cell_type": "code",
   "execution_count": null,
   "metadata": {
    "ExecuteTime": {
     "end_time": "2021-10-03T14:22:37.161762Z",
     "start_time": "2021-10-03T14:22:37.133444Z"
    },
    "id": "qiwF1z951Jo3",
    "outputId": "296c6517-b5bf-4682-bf92-b8c40035f624"
   },
   "outputs": [
    {
     "ename": "AttributeError",
     "evalue": "'frozenset' object has no attribute 'add'",
     "output_type": "error",
     "traceback": [
      "\u001b[1;31m---------------------------------------------------------------------------\u001b[0m",
      "\u001b[1;31mAttributeError\u001b[0m                            Traceback (most recent call last)",
      "\u001b[1;32m<ipython-input-21-bc9e07fcbe69>\u001b[0m in \u001b[0;36m<module>\u001b[1;34m\u001b[0m\n\u001b[1;32m----> 1\u001b[1;33m \u001b[0mA\u001b[0m\u001b[1;33m.\u001b[0m\u001b[0madd\u001b[0m\u001b[1;33m(\u001b[0m\u001b[1;36m3\u001b[0m\u001b[1;33m)\u001b[0m \u001b[1;31m# Output: Error!\u001b[0m\u001b[1;33m\u001b[0m\u001b[1;33m\u001b[0m\u001b[0m\n\u001b[0m",
      "\u001b[1;31mAttributeError\u001b[0m: 'frozenset' object has no attribute 'add'"
     ]
    }
   ],
   "source": [
    "A.add(3)        # ▶ Error!"
   ]
  },
  {
   "cell_type": "markdown",
   "metadata": {
    "id": "GqaFxOru1Jo3"
   },
   "source": [
    "### Frozenset methods\n",
    "\n",
    "This data type supports methods like **`copy()`**, **`union()`**, **`intersection()`**, **`difference()`**, and **`symmetric_difference()`**. Being immutable, it does not have methods that add or remove elements."
   ]
  },
  {
   "cell_type": "code",
   "execution_count": null,
   "metadata": {
    "ExecuteTime": {
     "end_time": "2021-10-03T14:22:37.685219Z",
     "start_time": "2021-10-03T14:22:37.667647Z"
    },
    "id": "zmD_wjGA1Jo3",
    "outputId": "924a8fae-f1d2-4f03-b6c3-1a4a0e16ec6e"
   },
   "outputs": [
    {
     "name": "stdout",
     "output_type": "stream",
     "text": [
      "frozenset({1, 2, 3, 4})\n",
      "frozenset({1, 2, 3, 4, 5, 6})\n",
      "frozenset({3, 4})\n",
      "frozenset({1, 2})\n",
      "frozenset({1, 2, 5, 6})\n"
     ]
    }
   ],
   "source": [
    "# Example 1: Frozensets\n",
    "\n",
    "# initialize A and B\n",
    "A = frozenset([1, 2, 3, 4])\n",
    "B = frozenset([3, 4, 5, 6])\n",
    "\n",
    "# copying a frozenset\n",
    "C = A.copy()                     # ▶ frozenset({1, 2, 3, 4})\n",
    "print(C)\n",
    "\n",
    "# union\n",
    "print(A.union(B))                # ▶ frozenset({1, 2, 3, 4, 5, 6})\n",
    "\n",
    "# intersection\n",
    "print(A.intersection(B))         # ▶ frozenset({3, 4})\n",
    "\n",
    "# difference\n",
    "print(A.difference(B))           # ▶ frozenset({1, 2})\n",
    "\n",
    "# symmetric_difference\n",
    "print(A.symmetric_difference(B)) # ▶ frozenset({1, 2, 5, 6})"
   ]
  },
  {
   "cell_type": "markdown",
   "metadata": {
    "id": "WtlnVNre1Jo4"
   },
   "source": [
    "### Other Frozenset methods\n",
    "\n",
    "Similarly, other set methods like **`isdisjoint()`**, **`issubset()`**, and **`issuperset()`** are also available."
   ]
  },
  {
   "cell_type": "code",
   "execution_count": null,
   "metadata": {
    "ExecuteTime": {
     "end_time": "2021-10-03T14:22:38.254095Z",
     "start_time": "2021-10-03T14:22:38.237492Z"
    },
    "id": "Qqz2ZzRI1Jo4",
    "outputId": "5ff4df77-8f3f-4165-afd2-78897d4d83ea"
   },
   "outputs": [
    {
     "name": "stdout",
     "output_type": "stream",
     "text": [
      "True\n",
      "True\n",
      "True\n"
     ]
    }
   ],
   "source": [
    "# Example 2: Frozensets\n",
    "\n",
    "# initialize A, B and C\n",
    "A = frozenset([1, 2, 3, 4])\n",
    "B = frozenset([3, 4, 5, 6])\n",
    "C = frozenset([5, 6])\n",
    "\n",
    "# isdisjoint() method\n",
    "print(A.isdisjoint(C))  # ▶ True\n",
    "\n",
    "# issubset() method\n",
    "print(C.issubset(B))    # ▶ True\n",
    "\n",
    "# issuperset() method\n",
    "print(B.issuperset(C))  # ▶ True"
   ]
  },
  {
   "cell_type": "markdown",
   "metadata": {
    "id": "9CGS7Xnk1Jo4"
   },
   "source": [
    "## 💻 Exercises ➞ <span class='label label-default'>Sets</span>\n",
    "\n",
    "```py\n",
    "mix_fruits = {'Guava', 'Pear', 'Mango', 'Apple', 'Fig', 'Orange', 'Banana'}\n",
    "A = {19, 22, 24, 20, 25, 26}\n",
    "B = {19, 22, 20, 25, 26, 24, 28, 27}\n",
    "num = [22, 19, 24, 25, 26, 24, 25, 24]\n",
    "```\n",
    "\n",
    "### Exercises ➞ <span class='label label-default'>Level 1</span>\n",
    "\n",
    "1. Find the length of the set **`mix_fruits`**\n",
    "2. Add **`'Kiwi'`** to **`mix_fruits`**\n",
    "3. Insert multiple fruits at once to the set **`mix_fruits`**\n",
    "4. Remove one of the fruit from the set **`mix_fruits`**\n",
    "5. What is the difference between **remove** and **discard**\n",
    "\n",
    "\n",
    "### Exercises ➞ <span class='label label-default'>Level 2</span>\n",
    "Use Imaginary values for Set **`A`** and **`B`**\n",
    "\n",
    "1. Join **`A`** and **`B`**\n",
    "2. Find **`A`** intersection **`B`**\n",
    "3. Is **`A`** subset of **`B`**\n",
    "4. Are **`A`** and **`B`** disjoint sets\n",
    "5. Join **`A`** with **`B`** and **`B`** with **`A`**\n",
    "6. What is the symmetric difference between A and **`B`**\n",
    "7. Delete the sets completely\n",
    "\n",
    "\n",
    "### Exercises ➞ <span class='label label-default'>Level 3</span>\n",
    "\n",
    "1. Convert the **`num`** to a set and compare the length of the list and the set, which one is bigger?\n",
    "2. Explain the difference between the following data types: **string**, **list**, **tuple** and **set**\n",
    "3. **`I am a researcher cum teacher and I love to inspire and teach people.`**. How many unique words have been used in the sentence? Use the **`split()`** methods and set to get the unique words."
   ]
  },
  {
   "cell_type": "code",
   "execution_count": null,
   "metadata": {
    "id": "O5KBEcY81Jo4"
   },
   "outputs": [],
   "source": []
  }
 ],
 "metadata": {
  "colab": {
   "provenance": []
  },
  "hide_input": false,
  "kernelspec": {
   "display_name": "Python 3",
   "language": "python",
   "name": "python3"
  },
  "language_info": {
   "codemirror_mode": {
    "name": "ipython",
    "version": 3
   },
   "file_extension": ".py",
   "mimetype": "text/x-python",
   "name": "python",
   "nbconvert_exporter": "python",
   "pygments_lexer": "ipython3",
   "version": "3.8.8"
  },
  "toc": {
   "base_numbering": 1,
   "nav_menu": {},
   "number_sections": true,
   "sideBar": true,
   "skip_h1_title": false,
   "title_cell": "Table of Contents",
   "title_sidebar": "Contents",
   "toc_cell": false,
   "toc_position": {},
   "toc_section_display": true,
   "toc_window_display": false
  },
  "varInspector": {
   "cols": {
    "lenName": 16,
    "lenType": 16,
    "lenVar": 40
   },
   "kernels_config": {
    "python": {
     "delete_cmd_postfix": "",
     "delete_cmd_prefix": "del ",
     "library": "var_list.py",
     "varRefreshCmd": "print(var_dic_list())"
    },
    "r": {
     "delete_cmd_postfix": ") ",
     "delete_cmd_prefix": "rm(",
     "library": "var_list.r",
     "varRefreshCmd": "cat(var_dic_list()) "
    }
   },
   "types_to_exclude": [
    "module",
    "function",
    "builtin_function_or_method",
    "instance",
    "_Feature"
   ],
   "window_display": false
  }
 },
 "nbformat": 4,
 "nbformat_minor": 0
}
